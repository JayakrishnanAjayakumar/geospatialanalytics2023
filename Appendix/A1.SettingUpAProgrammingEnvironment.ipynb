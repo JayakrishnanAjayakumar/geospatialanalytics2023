{
 "cells": [
  {
   "cell_type": "markdown",
   "id": "5cfc755b-e625-428e-bcdc-72192574236c",
   "metadata": {},
   "source": [
    "# Setting up a Programming Environment"
   ]
  },
  {
   "cell_type": "markdown",
   "id": "7e7bb047-2768-41bf-8b6b-4af7d2414fd4",
   "metadata": {},
   "source": [
    "## Install Git"
   ]
  },
  {
   "cell_type": "markdown",
   "id": "440957a8-18f4-40c6-9522-3769c611dc3d",
   "metadata": {},
   "source": [
    "1. Download and install git from https://github.com/git-guides/install-git"
   ]
  },
  {
   "cell_type": "markdown",
   "id": "83b5c53d-a459-48c9-8206-8920b5412bfc",
   "metadata": {},
   "source": [
    "2. Open a terminal (for mac search for terminal, for windows type cmd in search) and type \n",
    "\n",
    "<code>git -v </code>\n",
    "\n",
    "![gitversion](images/git_command.png)"
   ]
  },
  {
   "cell_type": "markdown",
   "id": "49cee902-7997-44ce-9e52-e16bb9ce3b62",
   "metadata": {},
   "source": [
    "## Installing Anaconda"
   ]
  },
  {
   "cell_type": "markdown",
   "id": "65d081be-2331-468b-a593-2efe4102ad30",
   "metadata": {},
   "source": [
    "You can download Anaconda from the official website (https://docs.anaconda.com/anaconda/install/index.html)"
   ]
  },
  {
   "cell_type": "code",
   "execution_count": 9,
   "id": "f1ee0873-2fdb-4183-840a-af2ba414746a",
   "metadata": {},
   "outputs": [
    {
     "data": {
      "text/html": [
       "\n",
       "        <iframe\n",
       "            width=\"700\"\n",
       "            height=\"350\"\n",
       "            src=\"https://docs.anaconda.com/anaconda/install/index.html\"\n",
       "            frameborder=\"0\"\n",
       "            allowfullscreen\n",
       "            \n",
       "        ></iframe>\n",
       "        "
      ],
      "text/plain": [
       "<IPython.lib.display.IFrame at 0x22baff82200>"
      ]
     },
     "execution_count": 9,
     "metadata": {},
     "output_type": "execute_result"
    }
   ],
   "source": [
    "from IPython.display import IFrame\n",
    "IFrame('https://docs.anaconda.com/anaconda/install/index.html', width=700, height=350)"
   ]
  },
  {
   "cell_type": "markdown",
   "id": "fbb4742b-b5a6-40c6-91e2-65784bd0f4e7",
   "metadata": {},
   "source": [
    "Open the Anaconda Terminal (from start up folder Windows and applications in Mac)"
   ]
  },
  {
   "cell_type": "markdown",
   "id": "e4c91bee-4f69-4c35-a8ab-4679a99bdeeb",
   "metadata": {},
   "source": [
    "![anacondaterminal](images/anaconda_terminal.png)"
   ]
  },
  {
   "cell_type": "markdown",
   "id": "c66a6767-333b-469f-8d74-1919cae0b03a",
   "metadata": {},
   "source": [
    "### Creating a new Environment in Anaconda"
   ]
  },
  {
   "cell_type": "markdown",
   "id": "5c624b45-cb28-4299-a493-edbf533e1d47",
   "metadata": {},
   "source": [
    "It is always beneficial to create seperate virtual environments for different projects. \n",
    "To create a new virtual environment with the name \"geospatial\" having python preinstalled we could run the following comment in Anaconda Prompt\n",
    "\n",
    "<code>conda create -n geospatial python</code>"
   ]
  },
  {
   "cell_type": "markdown",
   "id": "133c7a0d-8c2e-41bd-996a-3e5ebcb6f984",
   "metadata": {},
   "source": [
    "![condacreate](images/createve.png)"
   ]
  },
  {
   "cell_type": "markdown",
   "id": "8d3ec52b-c9ef-4843-ba9f-01edc2167727",
   "metadata": {},
   "source": [
    "### Listing all Existing Environments"
   ]
  },
  {
   "cell_type": "markdown",
   "id": "cb51b0a3-69b4-488c-b247-1ee4417d2651",
   "metadata": {},
   "source": [
    "For listing all existing environments you can run the following command \n",
    "\n",
    "<code> conda env list </code>"
   ]
  },
  {
   "cell_type": "markdown",
   "id": "aee214c0-c28e-455b-a3d8-9f0d1530c2e0",
   "metadata": {},
   "source": [
    "![list_environments](images/listenv.png)"
   ]
  },
  {
   "cell_type": "markdown",
   "id": "23ef5297-5eef-43f2-a296-2314041d82d6",
   "metadata": {},
   "source": [
    "### Activating an Environment"
   ]
  },
  {
   "cell_type": "markdown",
   "id": "19e186ea-10a2-4bf2-9750-83ccf8d7c9ea",
   "metadata": {},
   "source": [
    "You can use the conda activate command to activate an environment.\n",
    "\n",
    "<code> conda activate environmentname </code>\n",
    "\n",
    "For example conda activate geospatial  (if geospatial is an existing environment)"
   ]
  },
  {
   "cell_type": "markdown",
   "id": "79cf35e3-4456-4459-9e15-764400d7b761",
   "metadata": {},
   "source": [
    "![activate](images/activate.png)"
   ]
  },
  {
   "cell_type": "markdown",
   "id": "650efdce-0e2b-4049-9373-a0ac9ddf94e3",
   "metadata": {},
   "source": [
    "After you run the activate comment you can see that the prompt name changes to the environment name. "
   ]
  },
  {
   "cell_type": "markdown",
   "id": "90ae1995-c1dd-42f5-bbc2-1782d137d701",
   "metadata": {},
   "source": [
    "![activated](images/activated.png)"
   ]
  },
  {
   "cell_type": "markdown",
   "id": "ced944ae-e328-4d61-85c2-febbbbd95b68",
   "metadata": {},
   "source": [
    "## Installing Packages in an Environment"
   ]
  },
  {
   "cell_type": "markdown",
   "id": "945b6916-eda4-4bec-90e2-36a5e3551641",
   "metadata": {},
   "source": [
    "Python does not often comes with all the packages pre-loaded and ready to use. To install new packages such as Pandas we should install them using either \n",
    "\n",
    "1. pip or \n",
    "2. conda install\n",
    "\n",
    "Let's install jupyter lab (which we will use for this course) using pip. \n",
    "\n",
    "<code>pip install jupyterlab</code>"
   ]
  },
  {
   "cell_type": "markdown",
   "id": "edc7bf05-4f00-49f3-a843-02617a37d72b",
   "metadata": {},
   "source": [
    "![jupylab](images/jupylab.png)"
   ]
  },
  {
   "cell_type": "markdown",
   "id": "866c99df-2a94-4d83-8220-272fb0ec8e8d",
   "metadata": {},
   "source": [
    "To install another package called jupyterlab-git you could run\n",
    "\n",
    "<code>pip install --upgrade jupyterlab jupyterlab-git</code>"
   ]
  },
  {
   "cell_type": "markdown",
   "id": "99067d2c-d126-4ecd-b427-3b176afb3568",
   "metadata": {},
   "source": [
    "If you want to install Pandas you can run\n",
    "\n",
    "<code>pip install pandas</code>"
   ]
  },
  {
   "cell_type": "markdown",
   "id": "90c8d0c5-097e-4ecf-9542-d5a0140c96da",
   "metadata": {},
   "source": [
    "If you want to install matplotlib you can run"
   ]
  },
  {
   "cell_type": "markdown",
   "id": "0a33eecd-23c3-4572-ace8-db30bbec016c",
   "metadata": {},
   "source": [
    "<code>pip install matplotlib</code>"
   ]
  },
  {
   "cell_type": "markdown",
   "id": "f5072164-a01b-4728-a813-d73edd5708f5",
   "metadata": {},
   "source": [
    "And for installing ipywidgets you can run\n",
    "\n",
    "<code>pip install ipywidgets</code>"
   ]
  },
  {
   "cell_type": "markdown",
   "id": "5c97cc78-eaf5-4edb-82f6-096add463994",
   "metadata": {},
   "source": [
    "You can also install packages using conda install. Lets install geopandas (spatial data analysis package)\n",
    "\n",
    "<code>conda install --channel conda-forge geopandas</code>"
   ]
  },
  {
   "cell_type": "markdown",
   "id": "c44ee694-9443-41f2-8d3e-bda9345a7adf",
   "metadata": {},
   "source": [
    "## Jupyter lab basics"
   ]
  },
  {
   "cell_type": "markdown",
   "id": "c49381f3-b0b2-414d-af36-6553f07218e2",
   "metadata": {
    "tags": []
   },
   "source": [
    "### Starting Jupyter lab"
   ]
  },
  {
   "cell_type": "markdown",
   "id": "2b42cad0-39c8-461f-9b67-4d5e8da17947",
   "metadata": {},
   "source": [
    "You can start jupyter lab by first activating the environment where you have installed Jupyter lab and then running the following command\n",
    "\n",
    "<code> jupyter lab<code>"
   ]
  },
  {
   "cell_type": "markdown",
   "id": "d7f91f59-02f7-419f-bb12-2f974bf16499",
   "metadata": {},
   "source": [
    "Once you run the command, an instance of Jupyter server will startup in your machine and you will be directed to a webpage.\n",
    "\n",
    "![jupylabhome](images/jupylabhome.png)"
   ]
  },
  {
   "cell_type": "markdown",
   "id": "403daf8e-a1cb-4d1c-914a-879e717cb3a8",
   "metadata": {},
   "source": [
    "The explorer pane on the left side shows the files and folders in your home directory. If you want to see which is your home folder you can hover on top of the folder bread-cumb to get the path. \n",
    "\n",
    "![homefolder](images/homefolder.png)"
   ]
  },
  {
   "cell_type": "markdown",
   "id": "2ef9a0e1-60a7-46a2-bcce-7c0473a949eb",
   "metadata": {},
   "source": [
    "### Creating a new notebook file in your home folder"
   ]
  },
  {
   "cell_type": "markdown",
   "id": "1dfb621e-7538-4cb9-b4f1-43097cb2c167",
   "metadata": {},
   "source": [
    "You can click the + button icon in the tool bar to create a new notebook/text/markdown/python file. Here we will create a notebook file.\n",
    "\n",
    "![create_notebook1](images/create_notebook1.png)"
   ]
  },
  {
   "cell_type": "markdown",
   "id": "08ccc6fb-cdc9-4850-a59c-cd844b29b9cb",
   "metadata": {},
   "source": [
    "After that you can click on the button under Notebook Section to launch a notebook. \n",
    "\n",
    "![create_notebook2](images/create_notebook2.png)"
   ]
  },
  {
   "cell_type": "markdown",
   "id": "5df0611c-10d0-4dcf-b339-886abcfd6929",
   "metadata": {},
   "source": [
    "#### Naming a notebook"
   ]
  },
  {
   "cell_type": "markdown",
   "id": "099ad20c-d47f-4877-b9ce-8c769b472aea",
   "metadata": {},
   "source": [
    "Initially a notebook will be created with a name untitledXXX.ipynb. You can rename the file by right clicking on the file and then selecting the rename option\n",
    "\n",
    "![renamefile](images/renamefile.png)\n"
   ]
  },
  {
   "cell_type": "markdown",
   "id": "3dbb22fc-6e80-425c-9d1c-afc3f39fc613",
   "metadata": {},
   "source": [
    "#### Adding content to the notebook"
   ]
  },
  {
   "cell_type": "markdown",
   "id": "2054e5ce-8946-4e58-9e59-3da9f0ced426",
   "metadata": {},
   "source": [
    "You can add content to notebook through the cells. Each cell can be assigned as Code/Markdown/Raw (which we don't deal with for now). By default a new cell will always be assigned as code. \n",
    "\n",
    "![codemode](images/codemode.png)"
   ]
  },
  {
   "cell_type": "markdown",
   "id": "7b6e89c8-c257-4719-b4b8-d92c2f9ad43c",
   "metadata": {},
   "source": [
    "You can type in your code in the code cell and can then execute the cell using the play button.\n",
    "\n",
    "![codeexecute](images/codeexecute.png)"
   ]
  },
  {
   "cell_type": "markdown",
   "id": "be3a3e17-310a-495f-a0b0-b441e584e504",
   "metadata": {},
   "source": [
    "After the cell is executed a new cell is automatically created if there is no cell after the current cell. You can also add a new cell using the + button in the notebook toolbar. This will create a new cell right after the current cell. \n",
    "\n",
    "![codecelladd](images/codecelladd.png)"
   ]
  },
  {
   "cell_type": "markdown",
   "id": "8da43a72-a920-44ce-8dba-0e26a9bc4f60",
   "metadata": {},
   "source": [
    "You can enable a cell into Markdown mode using the drop down in the toolbar. \n",
    "\n",
    "![markdowncell](images/markdowncell.png)\n",
    "\n",
    "Markdown cells can be used to create rich textual content which is beneficial for providing context to the code. Almost all the content that we have created for this section is based on markdown. You can read more about markdown from here https://markdown-guide.readthedocs.io/en/latest/basics.html"
   ]
  },
  {
   "cell_type": "code",
   "execution_count": 3,
   "id": "87d0765a-83d4-446f-98b5-7b20114c1234",
   "metadata": {},
   "outputs": [
    {
     "data": {
      "text/html": [
       "<iframe src=\"https://markdown-guide.readthedocs.io/en/latest/basics.html\" width=\"1200\" height=\"1000\"></iframe>\n"
      ],
      "text/plain": [
       "<IPython.core.display.HTML object>"
      ]
     },
     "metadata": {},
     "output_type": "display_data"
    }
   ],
   "source": [
    "%%html\n",
    "<iframe src=\"https://markdown-guide.readthedocs.io/en/latest/basics.html\" width=\"1200\" height=\"1000\"></iframe>"
   ]
  },
  {
   "cell_type": "markdown",
   "id": "0596c246-7b4c-42dd-a7e1-09d31d3dd2d1",
   "metadata": {
    "tags": []
   },
   "source": [
    "### Clone course materials from GitHub using jupyterlab-git"
   ]
  },
  {
   "cell_type": "markdown",
   "id": "6449e5c8-3b20-4aca-b318-396907b81ebf",
   "metadata": {},
   "source": [
    "Click on the git icon next to the file explorer\n",
    "\n",
    "![gitjupyter](images/gitjupyter.png)"
   ]
  },
  {
   "cell_type": "markdown",
   "id": "e64768a4-21c3-42ea-a0dd-51cd0af0450e",
   "metadata": {},
   "source": [
    "Click on \"Clone a Repository\" and type in the course git page url https://github.com/JayakrishnanAjayakumar/geospatialanalytics2023.git and click on clone.\n",
    "\n",
    "A folder called geospatialanalytics2023 will be downloaded to current folder that is shown in the explorer. \n",
    "\n",
    "![git_folder](images/git_folder.png)"
   ]
  },
  {
   "cell_type": "markdown",
   "id": "087d6a86-77df-423d-93bb-a48313f28271",
   "metadata": {},
   "source": [
    "For every lecture a new folder will be uploaded to the geospatialanalytics2023 github page. You can update to the latest version by clicking on the \"Pull Latest Change\" button.\n",
    "\n",
    "![gitpull](images/gitpull.png)"
   ]
  },
  {
   "cell_type": "markdown",
   "id": "8b2a012a-e659-4886-a7cd-2df8f0016bdd",
   "metadata": {
    "jp-MarkdownHeadingCollapsed": true,
    "tags": []
   },
   "source": [
    "### Downloading largedatasets folder"
   ]
  },
  {
   "cell_type": "markdown",
   "id": "1c6d0b23-703a-45ac-baf9-90a119f808cc",
   "metadata": {},
   "source": [
    "For this course we will be using largedatasets folder as our repository for storing datasets. If you are using our lab server then you don't have to worry about this folder as it will be automatically present in your home folder. \n",
    "\n",
    "But if you are doing a local setup in your machine, then you can download the folder from this url,  https://cwru.box.com/s/gq80gyk98ag7vzxdhklb331yu4cotsal\n",
    "\n",
    "![dwnldlargedatasets](images/dwnldlargedatasets.png)\n",
    "\n",
    "You have to unzip/extract the zip file. \n",
    "\n",
    "After unzipping the file the folder largedatasets should be moved/copied to your home folder which also contains the geospatialanalytics2023 folder. \n",
    "\n",
    "![largedatasets](images/largedatasets.png)"
   ]
  },
  {
   "cell_type": "markdown",
   "id": "1793e5c8-2e7e-4405-86fa-48bbfbc2f40f",
   "metadata": {
    "jp-MarkdownHeadingCollapsed": true,
    "tags": []
   },
   "source": [
    "### Updating largedatasets folder"
   ]
  },
  {
   "cell_type": "markdown",
   "id": "27af1ead-d062-4b05-b6aa-9750f06da5f9",
   "metadata": {},
   "source": [
    "If you are working on our lab server then you don't need to worry about updating the largedatasets folder for any changes.\n",
    "But if you have a local setup on your machine you might need to update the largedatasets folder (if you have a missing dataset). \n",
    "As an example, suppose the folder excess_deaths is not available in your largedatasets repository. \n",
    "You have to download the excess_deaths folder from the largedatasets folder location https://cwru.box.com/s/gq80gyk98ag7vzxdhklb331yu4cotsal\n",
    "\n",
    "![dwnldonefolder](images/dwnldonefolder.png)\n",
    "\n",
    "The folder will be downloaded as a zip file. You have to unzip and extract the contents and the folder excess_deaths have to be copied to the largedatasets folder (which is in your home directory). "
   ]
  }
 ],
 "metadata": {
  "kernelspec": {
   "display_name": "Python 3 (ipykernel)",
   "language": "python",
   "name": "python3"
  },
  "language_info": {
   "codemirror_mode": {
    "name": "ipython",
    "version": 3
   },
   "file_extension": ".py",
   "mimetype": "text/x-python",
   "name": "python",
   "nbconvert_exporter": "python",
   "pygments_lexer": "ipython3",
   "version": "3.10.4"
  }
 },
 "nbformat": 4,
 "nbformat_minor": 5
}
