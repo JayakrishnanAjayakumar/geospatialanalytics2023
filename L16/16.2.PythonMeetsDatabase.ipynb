{
 "cells": [
  {
   "cell_type": "markdown",
   "id": "f2a4309b-04ca-4638-a4ae-6725ffd07e77",
   "metadata": {},
   "source": [
    "# Python Meets Database"
   ]
  },
  {
   "cell_type": "markdown",
   "id": "64163d47-48a1-4f8e-9547-2f54564bdfa9",
   "metadata": {},
   "source": [
    "We can use Python to talk to our database. For this task a basic requirement is to create a connection object. We will use the library pycopg2 to connect to our two databases"
   ]
  },
  {
   "cell_type": "markdown",
   "id": "112a7a48-1805-4073-be46-a817700c142b",
   "metadata": {},
   "source": [
    "## Connecting to a Database using Psycopg2"
   ]
  },
  {
   "cell_type": "markdown",
   "id": "1f7dd79d-2930-467e-9cb2-f2e0be5173bf",
   "metadata": {},
   "source": [
    "First import the psycopg2 package"
   ]
  },
  {
   "cell_type": "code",
   "execution_count": 12,
   "id": "0d8e132a-efc8-4a89-a008-0ec44ffe2a0f",
   "metadata": {
    "tags": []
   },
   "outputs": [],
   "source": [
    "import psycopg2"
   ]
  },
  {
   "cell_type": "markdown",
   "id": "3b2d4a15-1029-4090-9f60-f2628b0b922e",
   "metadata": {},
   "source": [
    "Now let us try to connect to the sakila database"
   ]
  },
  {
   "cell_type": "code",
   "execution_count": 13,
   "id": "07d8f1f1-b7f1-422e-9ada-d5407afb8a8e",
   "metadata": {
    "tags": []
   },
   "outputs": [],
   "source": [
    "sakilaConn = psycopg2.connect(\"dbname=sakila user=geospatial password=geospatial2023 host=ghhlibrary\")"
   ]
  },
  {
   "cell_type": "markdown",
   "id": "3c34d256-5ee3-49c0-9941-35feab9ba430",
   "metadata": {
    "tags": []
   },
   "source": [
    "If this ran without any error then you can be sure that you made a connection to the database"
   ]
  },
  {
   "cell_type": "markdown",
   "id": "79935150-c1ae-4a16-accf-e32db11abd7b",
   "metadata": {},
   "source": [
    "Now you can use Pandas to run SQL queries and get the results as Dataframes"
   ]
  },
  {
   "cell_type": "code",
   "execution_count": 14,
   "id": "6e76ba71-272b-4608-aaf6-36f12e89d08e",
   "metadata": {
    "tags": []
   },
   "outputs": [],
   "source": [
    "import pandas as pd"
   ]
  },
  {
   "cell_type": "markdown",
   "id": "d35c15f0-5cae-4d49-9ede-fc1d276892ab",
   "metadata": {},
   "source": [
    "Let us do a simple query of selecting all records from actor table"
   ]
  },
  {
   "cell_type": "code",
   "execution_count": 15,
   "id": "ef25cbe0-db87-4214-a5d7-f1e9e1a731e8",
   "metadata": {
    "tags": []
   },
   "outputs": [
    {
     "name": "stderr",
     "output_type": "stream",
     "text": [
      "C:\\Users\\jajayak1\\AppData\\Local\\Temp\\ipykernel_39664\\4154792946.py:1: UserWarning: pandas only supports SQLAlchemy connectable (engine/connection) or database string URI or sqlite3 DBAPI2 connection. Other DBAPI2 objects are not tested. Please consider using SQLAlchemy.\n",
      "  actorData = pd.read_sql_query(\"select * from actor\",sakilaConn)\n"
     ]
    }
   ],
   "source": [
    "actorData = pd.read_sql_query(\"select * from actor\",sakilaConn)"
   ]
  },
  {
   "cell_type": "code",
   "execution_count": 16,
   "id": "bf648cbe-f609-49c1-831f-1a9aae54eb7c",
   "metadata": {
    "tags": []
   },
   "outputs": [
    {
     "data": {
      "text/html": [
       "<div>\n",
       "<style scoped>\n",
       "    .dataframe tbody tr th:only-of-type {\n",
       "        vertical-align: middle;\n",
       "    }\n",
       "\n",
       "    .dataframe tbody tr th {\n",
       "        vertical-align: top;\n",
       "    }\n",
       "\n",
       "    .dataframe thead th {\n",
       "        text-align: right;\n",
       "    }\n",
       "</style>\n",
       "<table border=\"1\" class=\"dataframe\">\n",
       "  <thead>\n",
       "    <tr style=\"text-align: right;\">\n",
       "      <th></th>\n",
       "      <th>actor_id</th>\n",
       "      <th>first_name</th>\n",
       "      <th>last_name</th>\n",
       "      <th>last_update</th>\n",
       "    </tr>\n",
       "  </thead>\n",
       "  <tbody>\n",
       "    <tr>\n",
       "      <th>0</th>\n",
       "      <td>1</td>\n",
       "      <td>PENELOPE</td>\n",
       "      <td>GUINESS</td>\n",
       "      <td>2006-02-15 04:34:33</td>\n",
       "    </tr>\n",
       "    <tr>\n",
       "      <th>1</th>\n",
       "      <td>2</td>\n",
       "      <td>NICK</td>\n",
       "      <td>WAHLBERG</td>\n",
       "      <td>2006-02-15 04:34:33</td>\n",
       "    </tr>\n",
       "    <tr>\n",
       "      <th>2</th>\n",
       "      <td>3</td>\n",
       "      <td>ED</td>\n",
       "      <td>CHASE</td>\n",
       "      <td>2006-02-15 04:34:33</td>\n",
       "    </tr>\n",
       "    <tr>\n",
       "      <th>3</th>\n",
       "      <td>4</td>\n",
       "      <td>JENNIFER</td>\n",
       "      <td>DAVIS</td>\n",
       "      <td>2006-02-15 04:34:33</td>\n",
       "    </tr>\n",
       "    <tr>\n",
       "      <th>4</th>\n",
       "      <td>5</td>\n",
       "      <td>JOHNNY</td>\n",
       "      <td>LOLLOBRIGIDA</td>\n",
       "      <td>2006-02-15 04:34:33</td>\n",
       "    </tr>\n",
       "    <tr>\n",
       "      <th>...</th>\n",
       "      <td>...</td>\n",
       "      <td>...</td>\n",
       "      <td>...</td>\n",
       "      <td>...</td>\n",
       "    </tr>\n",
       "    <tr>\n",
       "      <th>195</th>\n",
       "      <td>196</td>\n",
       "      <td>BELA</td>\n",
       "      <td>WALKEN</td>\n",
       "      <td>2006-02-15 04:34:33</td>\n",
       "    </tr>\n",
       "    <tr>\n",
       "      <th>196</th>\n",
       "      <td>197</td>\n",
       "      <td>REESE</td>\n",
       "      <td>WEST</td>\n",
       "      <td>2006-02-15 04:34:33</td>\n",
       "    </tr>\n",
       "    <tr>\n",
       "      <th>197</th>\n",
       "      <td>198</td>\n",
       "      <td>MARY</td>\n",
       "      <td>KEITEL</td>\n",
       "      <td>2006-02-15 04:34:33</td>\n",
       "    </tr>\n",
       "    <tr>\n",
       "      <th>198</th>\n",
       "      <td>199</td>\n",
       "      <td>JULIA</td>\n",
       "      <td>FAWCETT</td>\n",
       "      <td>2006-02-15 04:34:33</td>\n",
       "    </tr>\n",
       "    <tr>\n",
       "      <th>199</th>\n",
       "      <td>200</td>\n",
       "      <td>THORA</td>\n",
       "      <td>TEMPLE</td>\n",
       "      <td>2006-02-15 04:34:33</td>\n",
       "    </tr>\n",
       "  </tbody>\n",
       "</table>\n",
       "<p>200 rows × 4 columns</p>\n",
       "</div>"
      ],
      "text/plain": [
       "     actor_id first_name     last_name         last_update\n",
       "0           1   PENELOPE       GUINESS 2006-02-15 04:34:33\n",
       "1           2       NICK      WAHLBERG 2006-02-15 04:34:33\n",
       "2           3         ED         CHASE 2006-02-15 04:34:33\n",
       "3           4   JENNIFER         DAVIS 2006-02-15 04:34:33\n",
       "4           5     JOHNNY  LOLLOBRIGIDA 2006-02-15 04:34:33\n",
       "..        ...        ...           ...                 ...\n",
       "195       196       BELA        WALKEN 2006-02-15 04:34:33\n",
       "196       197      REESE          WEST 2006-02-15 04:34:33\n",
       "197       198       MARY        KEITEL 2006-02-15 04:34:33\n",
       "198       199      JULIA       FAWCETT 2006-02-15 04:34:33\n",
       "199       200      THORA        TEMPLE 2006-02-15 04:34:33\n",
       "\n",
       "[200 rows x 4 columns]"
      ]
     },
     "execution_count": 16,
     "metadata": {},
     "output_type": "execute_result"
    }
   ],
   "source": [
    "actorData"
   ]
  },
  {
   "cell_type": "markdown",
   "id": "2e713933-8526-4339-bb56-34b838c9255e",
   "metadata": {},
   "source": [
    "Now can you try to select all cities with in United States using Pandas."
   ]
  },
  {
   "cell_type": "markdown",
   "id": "ee6aa24c-0d37-4d21-853b-89af07eba38c",
   "metadata": {
    "tags": []
   },
   "source": [
    "Once you are finished using database, it is always a best practice to close the connection to the database"
   ]
  },
  {
   "cell_type": "code",
   "execution_count": 17,
   "id": "81b190d3-3619-4895-86ee-8cf8e5b00c67",
   "metadata": {
    "tags": []
   },
   "outputs": [],
   "source": [
    "sakilaConn.close()"
   ]
  }
 ],
 "metadata": {
  "kernelspec": {
   "display_name": "Python 3 (ipykernel)",
   "language": "python",
   "name": "python3"
  },
  "language_info": {
   "codemirror_mode": {
    "name": "ipython",
    "version": 3
   },
   "file_extension": ".py",
   "mimetype": "text/x-python",
   "name": "python",
   "nbconvert_exporter": "python",
   "pygments_lexer": "ipython3",
   "version": "3.10.9"
  }
 },
 "nbformat": 4,
 "nbformat_minor": 5
}
