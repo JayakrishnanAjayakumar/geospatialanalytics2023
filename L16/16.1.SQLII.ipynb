{
 "cells": [
  {
   "cell_type": "markdown",
   "id": "46984576-5786-4d13-b995-687670af9c25",
   "metadata": {},
   "source": [
    "# Querying From Multiple Tables"
   ]
  },
  {
   "cell_type": "markdown",
   "id": "79ed4179-1fc3-4828-9fa3-c1f6344fb07d",
   "metadata": {},
   "source": [
    "Until this lecture we have seen writing SQL queries to retreive data from a single table. In this lecture we will look at retrieving data from multiple tables (which is the real strength of a relational database). We will learn about writing subqueries as well as table joins to retreive data from multiple tables. Before we learn about subqueries let us look into the **IN operator**. "
   ]
  },
  {
   "cell_type": "markdown",
   "id": "43667a68-ecb2-4da4-8033-2ac623430883",
   "metadata": {},
   "source": [
    "## IN operator"
   ]
  },
  {
   "cell_type": "markdown",
   "id": "d6669cb6-a1c8-46e6-99b7-96c309250e82",
   "metadata": {},
   "source": [
    "The IN operator is a shorthand for **multiple OR conditions**."
   ]
  },
  {
   "cell_type": "markdown",
   "id": "af622a00-2a4e-48c1-82e1-93b64600fc0d",
   "metadata": {},
   "source": [
    "For example I want to select all the employee records with the last name Adams, Johnson, King, and Edwards from the employee table (Chinook). \n",
    "\n",
    "There are two ways to achieve this \n",
    "\n",
    "```sql\n",
    "select * from employees where \"LastName\"='Adams' or \"LastName\"='Johnson' or \"LastName\"='King' or \"LastName\"='Edwards'\n",
    "```\n",
    "\n",
    "or using the IN operator\n",
    "\n",
    "```sql\n",
    "select * from employees where \"LastName\" in ('Adams','Johnson','King','Edwards')\n",
    "```\n",
    "\n",
    "As you can see the query becomes less verbose. \n",
    "\n",
    "Now let us try one more example\n",
    "\n",
    "Select all film records from the film table with rating as PG-13, G, NC-17 and R\n",
    "\n",
    "```sql\n",
    "select * from film where rating in ('PG-13', 'G', 'NC-17','R')\n",
    "```"
   ]
  },
  {
   "cell_type": "markdown",
   "id": "e821ec03-589b-49c6-b3b1-85145be6310b",
   "metadata": {},
   "source": [
    "Now can you write a query to retrieve all the films from the film table with rating as PG-13, G, NC-17 and R and length greater than or equal to 60 minutes. "
   ]
  },
  {
   "cell_type": "markdown",
   "id": "c871d265-fb2d-4a14-8561-5ee67aa58eb6",
   "metadata": {},
   "source": [
    "Before we delve into subqueries let us look into one more thing"
   ]
  },
  {
   "cell_type": "markdown",
   "id": "475efa79-a9b0-45ea-aae0-666ee3fb92d6",
   "metadata": {},
   "source": [
    "## Table Aliases"
   ]
  },
  {
   "cell_type": "markdown",
   "id": "a3ae0939-68f2-4439-a08f-d6bd0ff5aad8",
   "metadata": {},
   "source": [
    "Similar to column aliases we can also use alias name for tables, which becomes handy when you are dealing with multiple tables. Let's see a few examples\n",
    "\n",
    "```sql\n",
    "select fc.film_id,fc.category_id from film_category fc\n",
    "```\n",
    "\n",
    "Or select payment_id,customer_id from payment table where amount greater than 10\n",
    "\n",
    "```sql\n",
    "select select p.payment_id,p.customer_id from payment p where p.amount>10\n",
    "```"
   ]
  },
  {
   "cell_type": "markdown",
   "id": "2e04501c-053d-4e99-a5db-2d41cd55c4ae",
   "metadata": {},
   "source": [
    "## Subquery"
   ]
  },
  {
   "cell_type": "markdown",
   "id": "f6cabab0-89de-4af3-b116-824f307ce7b4",
   "metadata": {},
   "source": [
    "Subqueries (also known as inner queries or nested queries) are a tool for performing operations in multiple steps. In simple terms \"A subquery is a SELECT statement within another statement\". \n",
    "\n",
    "Subqueries are commonly used along with FROM and WHERE. First we will look at examples where subqueries are used along with where clause."
   ]
  },
  {
   "cell_type": "markdown",
   "id": "8a5d917b-7d40-4899-a067-582bee1b40a2",
   "metadata": {},
   "source": [
    "### Subquery with WHERE clause"
   ]
  },
  {
   "cell_type": "markdown",
   "id": "65696f34-4544-4205-b170-2376baa46c1f",
   "metadata": {},
   "source": [
    "Suppose you want to select all English films from film table.\n",
    "\n",
    "If you check the film table there is no seperate column for language. But there seems to be a column called language_id. How will you identify which is the language id for English. \n",
    "\n",
    "You can look at the language table "
   ]
  },
  {
   "cell_type": "markdown",
   "id": "7daa370b-c3b8-45c3-8c47-19772fb4927d",
   "metadata": {},
   "source": [
    "The language table has three columns\n",
    "\n",
    "language_id, name and last_update\n",
    "\n",
    "If you check the language table you can find that the corresponding id for language 'English' (which is 1)\n",
    "\n",
    "So you could write a query like this\n",
    "\n",
    "```sql\n",
    "select * from film where language_id = 1\n",
    "```\n",
    "\n",
    "But what if the language table was huge and it is not easy to find out the id for English.\n",
    "\n",
    "We can write this as a subquery\n",
    "\n",
    "```sql\n",
    "select * from film where language_id = (select  language_id from language where name = 'English')\n",
    "```\n",
    "\n",
    "You can see that there is another perfectly valid SQL query inside an SQL statement\n",
    "\n",
    "The general syntax of a subquery when used along with a WHERE clause is\n",
    "\n",
    "```sql\n",
    "select * from table where column = (select column from table2 where ....)\n",
    "```\n",
    "\n",
    "You can also use IN clause with subqueries\n",
    "\n",
    "For example let's select all the addresses that are with in all the cities from 'United States'. \n",
    "\n",
    "This involves three tables (there are multiple subqueries here).\n",
    "```sql\n",
    "select * from address where city_id in (select city_id from city where country_id = (select country_id from country where country = 'United States'))\n",
    "```\n",
    "\n",
    "When writing queries with subqueries understand that the innermost subquery will be executed first followed the next innermost subquery and finally the main query. In the above example, the innermost subquery *select country_id from country where country = 'United States'* will be executed first which will result in a single value 103. Then that value will be placed in the next subquery select city_id from city where country_id = 103 which will result in a set of 35 values, and then finally those values will be used to select the records from the address table. \n",
    "\n",
    "Let us see try one more example and move on to joins. \n",
    "\n",
    "Find all unique customers who had alteast one rental to their name. \n",
    "\n",
    "Give it a try!!"
   ]
  },
  {
   "cell_type": "markdown",
   "id": "92693f4d-3e77-4e8a-81df-a7b44ff79585",
   "metadata": {},
   "source": [
    "## Joins"
   ]
  },
  {
   "cell_type": "markdown",
   "id": "f9dafd4a-bc84-45c6-a6b9-31f5b24a4d60",
   "metadata": {},
   "source": [
    "We have learned about joins while dealing with dataframes in Pandas. The table joins in SQL are also very similar to dataframe joins and the basic concept remains the same. The power of joins when compared to subquery is that the columns that are available with the subquery when used in a WHERE clause is not available to the main query. "
   ]
  },
  {
   "cell_type": "markdown",
   "id": "c9170a5c-8f97-4ffc-9ec7-565b1492674b",
   "metadata": {},
   "source": [
    "### Inner Join"
   ]
  },
  {
   "cell_type": "markdown",
   "id": "6677feb5-a2e4-4fef-83cc-491d9f8b7330",
   "metadata": {},
   "source": [
    "![innerjoin](../L5/images/innerjoin.png)"
   ]
  },
  {
   "cell_type": "markdown",
   "id": "ba609b66-2772-4f9c-b2ca-411650b19eba",
   "metadata": {},
   "source": [
    "Inner join only retains the records based on the keys that are common to both the tables.\n",
    "\n",
    "Let us look at an example. \n",
    "\n",
    "We want to retreive city name and corresponding country name from the city and country table."
   ]
  },
  {
   "cell_type": "markdown",
   "id": "95f32554-d43b-479d-ab42-28f2a1f09fd1",
   "metadata": {},
   "source": [
    "```sql\n",
    "select ci.city, co.country from city ci join country co on ci.country_id = co.country_id\n",
    "```\n",
    "\n",
    "Inner joins can also be written without explicit join statements. So this is also valid\n",
    "\n",
    "```sql\n",
    "select ci.city, co.country from city ci,country co where ci.country_id = co.country_id\n",
    "```\n",
    "\n",
    "But when you are not explicitly mentioning the keyword join you should not use **on**, rather the condition should be in a where clause\n",
    "\n",
    "Now what if we want only cities from United States\n",
    "\n",
    "```sql\n",
    "select ci.city, co.country from city ci join country co on ci.country_id = co.country_id where co.country = 'United States'\n",
    "```\n",
    "\n",
    "or \n",
    "```sql\n",
    "select ci.city, co.country from city ci,country co where ci.country_id = co.country_id and co.country = 'United States'\n",
    "```\n",
    "\n",
    "Now lets look at an example involving more than two tables. \n",
    "\n",
    "We want to select the customer first name, last name, address ,city and country. How can we achieve this\n",
    "\n",
    "We can see that there are four tables\n",
    "\n",
    "customer\n",
    "\n",
    "address\n",
    "\n",
    "city\n",
    "\n",
    "country\n",
    "\n",
    "Now how can we connect them together\n",
    "\n",
    "customer  has address_id which could be used to connect to address table, while address has city_id and city has country_id\n",
    "\n",
    "So with that knowledge we can write a join query\n",
    "\n",
    "```sql\n",
    "select cu.first_name,cu.last_name,a.address,ci.city, co.country from customer cu,address a,city ci,country co where cu.address_id = a.address_id and a.city_id = ci.city_id and ci.country_id = co.country_id\n",
    "```"
   ]
  },
  {
   "cell_type": "markdown",
   "id": "f48c13e3-93ba-4bf5-88f1-7dfda16fd126",
   "metadata": {},
   "source": [
    "## Left Join\n",
    "![leftjoin](../L5/images/leftjoin.png)"
   ]
  },
  {
   "cell_type": "markdown",
   "id": "8e455590-a3d0-40fa-9b6e-9a6143709f63",
   "metadata": {},
   "source": [
    "Left Join returns all records from the left table, and only matching records from the right table. \n",
    "\n",
    "Let us select all the films with their inventory details. The two tables we are considering here are \n",
    "\n",
    "films\n",
    "inventory\n"
   ]
  },
  {
   "cell_type": "markdown",
   "id": "d8cd68b9-4b28-4d9e-a011-80d6cb752a48",
   "metadata": {},
   "source": [
    "```sql\n",
    "select f.title,i.inventory_id,i.store_id from film f left join inventory i on f.film_id = i.film_id\n",
    "```\n",
    "\n",
    "Now if you want to check the movies that are not in the inventory, you can modify the query to\n",
    "\n",
    "```sql\n",
    "select f.title,i.inventory_id,i.store_id from film f left join inventory i on f.film_id = i.film_id where i.store_id is null\n",
    "```"
   ]
  },
  {
   "cell_type": "markdown",
   "id": "f2fbe784-2695-4f7c-85bd-49eaeb02ba43",
   "metadata": {},
   "source": [
    "## Right Join\n",
    "\n",
    "![rightjoin](../L5/images/rightjoin.png)"
   ]
  },
  {
   "cell_type": "markdown",
   "id": "5d32247c-3443-4637-959f-e9378e918524",
   "metadata": {},
   "source": [
    "Right Join returns all records from the right table, and only the matching records from the left table.\n",
    "\n",
    "Let us rewrite the same example as left join\n",
    "\n",
    "```sql\n",
    "select f.title,i.inventory_id,i.store_id from inventory i right join film f on f.film_id = i.film_id\n",
    "```"
   ]
  },
  {
   "cell_type": "markdown",
   "id": "07258d83-4a1f-4900-a4c4-b89cf3c60acd",
   "metadata": {},
   "source": [
    "## FULL Outer Join"
   ]
  },
  {
   "cell_type": "markdown",
   "id": "4ad24781-4c8d-42cb-a96f-3c3228e77305",
   "metadata": {},
   "source": [
    "![outerjoin](../L5/images/outerjoin.png)"
   ]
  },
  {
   "cell_type": "markdown",
   "id": "cce0ef8b-5f40-4519-b5fd-6761786416ad",
   "metadata": {},
   "source": [
    "Full Outer join returns unmatched records from both tables,as well as matched records in both tables. \n",
    "\n",
    "We won't be dealing with full outer join for this lecture. "
   ]
  },
  {
   "cell_type": "markdown",
   "id": "2d0db137-98f5-4422-9f2d-cc61a94b1dce",
   "metadata": {},
   "source": [
    "## Subquery in from"
   ]
  },
  {
   "cell_type": "markdown",
   "id": "82d478b9-a7fc-49e7-9858-7861641198f4",
   "metadata": {},
   "source": [
    "Let us see an example of using subquery along with from statement\n",
    "\n",
    "Suppose we want to select customer details and the total amount paid by each customer. \n",
    "\n",
    "One way to do it is using a subquery in combination with join. We know that the customer details are in customer table and the payment details are in payment table. \n",
    "\n",
    "```sql\n",
    "select c.customer_id,c.first_name,c.last_name,cu.total from customer c,\n",
    "(select customer_id,sum(amount) as total from payment group by customer_id) cu where c.customer_id = cu.customer_id\n",
    "```"
   ]
  }
 ],
 "metadata": {
  "kernelspec": {
   "display_name": "Python 3 (ipykernel)",
   "language": "python",
   "name": "python3"
  },
  "language_info": {
   "codemirror_mode": {
    "name": "ipython",
    "version": 3
   },
   "file_extension": ".py",
   "mimetype": "text/x-python",
   "name": "python",
   "nbconvert_exporter": "python",
   "pygments_lexer": "ipython3",
   "version": "3.10.9"
  }
 },
 "nbformat": 4,
 "nbformat_minor": 5
}
