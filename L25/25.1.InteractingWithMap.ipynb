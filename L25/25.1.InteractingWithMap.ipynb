{
 "cells": [
  {
   "cell_type": "markdown",
   "id": "4040cdf4-914a-47f5-97d1-47499e1147fc",
   "metadata": {},
   "source": [
    "# Interacting With The Map"
   ]
  },
  {
   "cell_type": "markdown",
   "id": "73510a3f-7bb7-4310-a481-8a57fcdc9391",
   "metadata": {},
   "source": [
    "Up to now we have created varrious widgets and have interacted with the widgets to create Charts and Maps. In this lecture we are going to look at how to use a map as widget itself (through clicks and hover). For this we are going to use a library called ipyleaflet."
   ]
  },
  {
   "cell_type": "markdown",
   "id": "15bee5d5-7868-41b4-9f15-68c29ece1cd3",
   "metadata": {},
   "source": [
    "## Creating a basic map with ipyleaflet"
   ]
  },
  {
   "cell_type": "markdown",
   "id": "2ac51741-36ba-473a-ad98-be7164347373",
   "metadata": {},
   "source": [
    "This could be done with two lines of code using ipyleaflet"
   ]
  },
  {
   "cell_type": "code",
   "execution_count": 170,
   "id": "50963b4a-cc18-47b6-9c75-e3947f0a583a",
   "metadata": {
    "tags": []
   },
   "outputs": [],
   "source": [
    "from ipyleaflet import Map,Marker,CircleMarker,Circle, Polyline,Polygon,GeoData,GeoJSON,Choropleth\n",
    "from IPython.display import display,clear_output\n",
    "import psycopg2\n",
    "import geopandas as gpd\n",
    "import pandas as pd\n",
    "import ipywidgets as widgets\n",
    "import json\n",
    "from branca.colormap import linear"
   ]
  },
  {
   "cell_type": "code",
   "execution_count": 2,
   "id": "f5bd6860-9125-41ab-9380-b322da747978",
   "metadata": {
    "tags": []
   },
   "outputs": [
    {
     "data": {
      "application/vnd.jupyter.widget-view+json": {
       "model_id": "8ab90c419e0e44bb99936a745704bc1c",
       "version_major": 2,
       "version_minor": 0
      },
      "text/plain": [
       "Map(center=[41.504, -81.608], controls=(ZoomControl(options=['position', 'zoom_in_text', 'zoom_in_title', 'zoo…"
      ]
     },
     "metadata": {},
     "output_type": "display_data"
    }
   ],
   "source": [
    "myMap = Map(center=(41.504, -81.608), zoom=15)  # I am setting CWRU as the center of my map (latitude,longitude)\n",
    "display(myMap)"
   ]
  },
  {
   "cell_type": "markdown",
   "id": "ebdf79e9-66ff-40a1-a7ea-b2f1239dce9a",
   "metadata": {},
   "source": [
    "### Adding basic geometries to the Map"
   ]
  },
  {
   "cell_type": "markdown",
   "id": "71b26289-1403-4ce5-9b31-7b270ebf0b26",
   "metadata": {},
   "source": [
    "#### Points"
   ]
  },
  {
   "cell_type": "markdown",
   "id": "3d454341-f89a-4962-af47-9987219c2ec2",
   "metadata": {},
   "source": [
    "We could use markers, circles, or circle markers to represent points on a map."
   ]
  },
  {
   "cell_type": "markdown",
   "id": "8d718a8d-59b9-4aa2-8604-36d9c13dd0a9",
   "metadata": {},
   "source": [
    "##### A Marker"
   ]
  },
  {
   "cell_type": "markdown",
   "id": "e986e525-3c73-429f-be5e-c2a66f52f00a",
   "metadata": {},
   "source": [
    "Let us add a single marker above Robbins Building in the map that we have created above. "
   ]
  },
  {
   "cell_type": "code",
   "execution_count": 3,
   "id": "72c0c96a-58ff-40e7-9441-d12352da1dfd",
   "metadata": {
    "tags": []
   },
   "outputs": [],
   "source": [
    "#create the marker\n",
    "marker = Marker(location=(41.50476636811952, -81.60336914291148), draggable=False,title=\"Welcome to Robbin's building\")\n",
    "#assign it to the map\n",
    "myMap.add_layer(marker);"
   ]
  },
  {
   "cell_type": "markdown",
   "id": "141915ce-0200-4bbc-9a77-287bc58e33fb",
   "metadata": {},
   "source": [
    "If you want to remove the marker from the map you can call the remove layer method on the map with the marker as parameter"
   ]
  },
  {
   "cell_type": "code",
   "execution_count": 4,
   "id": "d2a8968d-2a19-4cbc-bc99-4ca1c1fc9963",
   "metadata": {
    "tags": []
   },
   "outputs": [],
   "source": [
    "#myMap.remove_layer(marker);   #uncomment for removing the marker"
   ]
  },
  {
   "cell_type": "markdown",
   "id": "18a54c5c-3141-47d1-92d7-f8bc2a5486f7",
   "metadata": {},
   "source": [
    "##### A Circle Marker"
   ]
  },
  {
   "cell_type": "markdown",
   "id": "a551006f-edaf-4277-a22d-1c0b314ef7b8",
   "metadata": {},
   "source": [
    "Let us add a circle marker above UH Rainbow Babies in the map that we have created above."
   ]
  },
  {
   "cell_type": "code",
   "execution_count": 5,
   "id": "d87b3d44-6aa6-46a7-984e-8b5648aa9b27",
   "metadata": {
    "tags": []
   },
   "outputs": [],
   "source": [
    "circle_marker = CircleMarker()\n",
    "circle_marker.location = (41.504278073558474, -81.60568729879611)   #latitude and longitude\n",
    "circle_marker.radius = 50  #this is in pixels and not in meters\n",
    "circle_marker.color = \"red\"\n",
    "circle_marker.fill_color = \"red\"\n",
    "myMap.add_layer(circle_marker);"
   ]
  },
  {
   "cell_type": "code",
   "execution_count": 6,
   "id": "e7bc4614-fdf9-42ed-b7c6-25b0605c3572",
   "metadata": {
    "tags": []
   },
   "outputs": [],
   "source": [
    "#myMap.remove_layer(circle_marker);   #uncomment for removing the circle marker"
   ]
  },
  {
   "cell_type": "markdown",
   "id": "362a59f6-1ab3-4cd9-990f-c4dc6453b2af",
   "metadata": {},
   "source": [
    "##### A Circle"
   ]
  },
  {
   "cell_type": "markdown",
   "id": "8bb92667-ce4b-49b0-b047-80de613e2d40",
   "metadata": {
    "tags": []
   },
   "source": [
    "Let us add a circle above Adelbert hall."
   ]
  },
  {
   "cell_type": "code",
   "execution_count": 7,
   "id": "1df67243-c1a6-49c8-afbd-0b0d45f67f06",
   "metadata": {
    "tags": []
   },
   "outputs": [],
   "source": [
    "circle = Circle()\n",
    "circle.location = (41.50484768937726, -81.6078518080495)\n",
    "circle.radius = 20  #This is in meters and not in pixels \n",
    "circle.color = \"green\"\n",
    "circle.fill_color = \"green\"\n",
    "myMap.add_layer(circle);"
   ]
  },
  {
   "cell_type": "code",
   "execution_count": 8,
   "id": "dda3844d-1ef4-4c15-97c5-a1811b830212",
   "metadata": {
    "tags": []
   },
   "outputs": [],
   "source": [
    "#myMap.remove_layer(circle);   #uncomment for removing the circle"
   ]
  },
  {
   "cell_type": "markdown",
   "id": "5041a666-45c2-4dee-be05-6250381578bb",
   "metadata": {},
   "source": [
    "Capturing Clicks for Points"
   ]
  },
  {
   "cell_type": "markdown",
   "id": "ec7f309d-f9be-4184-bb38-311ed0ba3969",
   "metadata": {},
   "source": [
    "We can add click listeners to markers, circle markers or circles easily. Let us add a click listener for our marker"
   ]
  },
  {
   "cell_type": "code",
   "execution_count": 9,
   "id": "ad1fbe1f-ba8b-4998-9355-5475cbee01b4",
   "metadata": {
    "tags": []
   },
   "outputs": [],
   "source": [
    "def markerClicked(**changes):\n",
    "    print(changes)\n",
    "    \n",
    "marker.on_click(markerClicked)"
   ]
  },
  {
   "cell_type": "markdown",
   "id": "c2ee6033-fead-4357-adb7-676f2b89b42d",
   "metadata": {},
   "source": [
    "Now can you click on the marker and check what is being printed"
   ]
  },
  {
   "cell_type": "markdown",
   "id": "e5abeb71-6835-4118-87c6-cb1f206f04ce",
   "metadata": {},
   "source": [
    "As you can see the changes parameter is a dictionary with keys event, type, coordinates. We can either use any of this property or do other things with in the function. "
   ]
  },
  {
   "cell_type": "markdown",
   "id": "13ea7899-cbfa-4f1c-8b0b-29ed43315060",
   "metadata": {},
   "source": [
    "What if you want the marker to get hold of a unique id when clicked (which could be used for further calculations). Let us remove the old marker and create a new marker and then assign a new function to the click listener"
   ]
  },
  {
   "cell_type": "code",
   "execution_count": 10,
   "id": "4642ed43-61fd-4d76-9ee5-f96032878d9b",
   "metadata": {
    "tags": []
   },
   "outputs": [],
   "source": [
    "myMap.remove_layer(marker);\n",
    "#create the marker\n",
    "marker = Marker(location=(41.50476636811952, -81.60336914291148), draggable=False,title=\"Welcome to Robbin's building\")\n",
    "#assign it to the map\n",
    "myMap.add_layer(marker);\n",
    "\n",
    "#now add a new event listener for the marker\n",
    "\n",
    "def markerClickedNew(val):\n",
    "    def clicked(**change):\n",
    "        print ('My id is',val)\n",
    "    return clicked\n",
    "    \n",
    "marker.on_click(markerClickedNew(1))"
   ]
  },
  {
   "cell_type": "markdown",
   "id": "e904426d-dee7-4021-b8f6-a0a785cab17b",
   "metadata": {},
   "source": [
    "Now let us do a real world example. Here we are going to show the centroids of the various neighborhoods in NYC as markers. And then when you click on the marker, it will print the total homicide in the neighborhood. "
   ]
  },
  {
   "cell_type": "code",
   "execution_count": 13,
   "id": "acccd6d2-cb98-4d06-bd40-b6b9b112bf0c",
   "metadata": {
    "tags": []
   },
   "outputs": [],
   "source": [
    "#get the connection\n",
    "conn = psycopg2.connect('dbname=nyc user=geospatial password=geospatial2023 host=ghhlibrary')"
   ]
  },
  {
   "cell_type": "code",
   "execution_count": 22,
   "id": "b139edf7-c422-4bd4-ac33-d258e4aa4984",
   "metadata": {
    "tags": []
   },
   "outputs": [
    {
     "name": "stderr",
     "output_type": "stream",
     "text": [
      "E:\\sbd3\\lib\\site-packages\\geopandas\\io\\sql.py:158: UserWarning: pandas only supports SQLAlchemy connectable (engine/connection) or database string URI or sqlite3 DBAPI2 connection. Other DBAPI2 objects are not tested. Please consider using SQLAlchemy.\n",
      "  df = pd.read_sql(\n"
     ]
    }
   ],
   "source": [
    "#query to retrieve the centroids of neighborhoods as points\n",
    "centroids = gpd.read_postgis(f'select gid,name,st_transform(st_centroid(geom),4326) as geom from nyc_neighborhoods',conn)"
   ]
  },
  {
   "cell_type": "code",
   "execution_count": 29,
   "id": "8f98a167-bb3a-4355-8e97-52321924f177",
   "metadata": {
    "tags": []
   },
   "outputs": [
    {
     "data": {
      "application/vnd.jupyter.widget-view+json": {
       "model_id": "d12541f1b2164140855cd1baea8ea2e7",
       "version_major": 2,
       "version_minor": 0
      },
      "text/plain": [
       "Map(center=[40.69564041317145, -73.85796843331579], controls=(ZoomControl(options=['position', 'zoom_in_text',…"
      ]
     },
     "metadata": {},
     "output_type": "display_data"
    }
   ],
   "source": [
    "#now create the map \n",
    "\n",
    "neighbMap = Map(center=(40.69564041317145, -73.85796843331579), zoom=15)  # nyc map\n",
    "display(neighbMap)"
   ]
  },
  {
   "cell_type": "code",
   "execution_count": 30,
   "id": "8cc966d9-54b0-4927-9aa7-97c73e3c43a9",
   "metadata": {
    "tags": []
   },
   "outputs": [],
   "source": [
    "# The function that gets called when you click on the marker\n",
    "def getTotalHomicidesForNeighborhood(gid):\n",
    "    def clicked(**change):\n",
    "        #write your query using the gid\n",
    "        query = f\"select count(h.gid) as total from nyc_homicides h,nyc_neighborhoods n where st_contains(n.geom,h.geom) and n.gid={gid}\"\n",
    "        data = pd.read_sql_query(query,conn)\n",
    "        print ('Total homicides for this county is',data.total.values[0])\n",
    "    return clicked\n",
    "#now we will loop through the centroids and then create markers\n",
    "\n",
    "for idx,row in centroids.iterrows():\n",
    "    mark= Marker(location=(row.geom.y, row.geom.x), draggable=False,title=row['name'])\n",
    "    mark.on_click(getTotalHomicidesForNeighborhood(row.gid))\n",
    "    neighbMap.add_layer(mark);"
   ]
  },
  {
   "cell_type": "code",
   "execution_count": null,
   "id": "36a2c27c-d516-45f5-9946-fc0b5f3b3ae7",
   "metadata": {},
   "outputs": [],
   "source": [
    "As you can see when you click on the marker the print statement get called. We can easily add a label and print the content to the label"
   ]
  },
  {
   "cell_type": "code",
   "execution_count": 32,
   "id": "31e31a60-5410-46a3-bb4b-bd7c9e9f01c3",
   "metadata": {
    "tags": []
   },
   "outputs": [
    {
     "data": {
      "application/vnd.jupyter.widget-view+json": {
       "model_id": "d05c3d1252ca4821ae3e9945b495ebe9",
       "version_major": 2,
       "version_minor": 0
      },
      "text/plain": [
       "Map(center=[40.69564041317145, -73.85796843331579], controls=(ZoomControl(options=['position', 'zoom_in_text',…"
      ]
     },
     "metadata": {},
     "output_type": "display_data"
    },
    {
     "data": {
      "application/vnd.jupyter.widget-view+json": {
       "model_id": "bbb0020cfd00496b9b4e074db2c6e919",
       "version_major": 2,
       "version_minor": 0
      },
      "text/plain": [
       "Label(value='')"
      ]
     },
     "metadata": {},
     "output_type": "display_data"
    }
   ],
   "source": [
    "#now create the map \n",
    "\n",
    "neighbMap2 = Map(center=(40.69564041317145, -73.85796843331579), zoom=15)  # nyc map\n",
    "label = widgets.Label(value='')\n",
    "# The function that gets called when you click on the marker\n",
    "def getTotalHomicidesForNeighborhood(gid):\n",
    "    def clicked(**change):\n",
    "        #write your query using the gid\n",
    "        query = f\"select count(h.gid) as total from nyc_homicides h,nyc_neighborhoods n where st_contains(n.geom,h.geom) and n.gid={gid}\"\n",
    "        data = pd.read_sql_query(query,conn)\n",
    "        label.value= f'Total homicides for this county is {data.total.values[0]}'\n",
    "    return clicked\n",
    "#now we will loop through the centroids and then create markers\n",
    "\n",
    "for idx,row in centroids.iterrows():\n",
    "    mark= Marker(location=(row.geom.y, row.geom.x), draggable=False,title=row['name'])\n",
    "    mark.on_click(getTotalHomicidesForNeighborhood(row.gid))\n",
    "    neighbMap2.add_layer(mark);\n",
    "    \n",
    "display(neighbMap2)\n",
    "display(label)"
   ]
  },
  {
   "cell_type": "markdown",
   "id": "b65490af-8644-4176-910e-ea310c7b90ba",
   "metadata": {},
   "source": [
    "Now let us look into other geometries (lines and polygons)"
   ]
  },
  {
   "cell_type": "markdown",
   "id": "cb3243ec-176d-4d3e-bc60-c939f0da5214",
   "metadata": {},
   "source": [
    "## Lines"
   ]
  },
  {
   "cell_type": "markdown",
   "id": "98c9aede-30b1-4817-bb1f-64b7440778c3",
   "metadata": {},
   "source": [
    "Lines can be represented as polyline objects which takes a list of coordinates"
   ]
  },
  {
   "cell_type": "code",
   "execution_count": 34,
   "id": "e69d9f08-c7a3-48c9-b770-f57f50dba6e3",
   "metadata": {
    "tags": []
   },
   "outputs": [
    {
     "data": {
      "application/vnd.jupyter.widget-view+json": {
       "model_id": "b3503215ba0d4ec982034b066a640e1c",
       "version_major": 2,
       "version_minor": 0
      },
      "text/plain": [
       "Map(center=[42.5, -41], controls=(ZoomControl(options=['position', 'zoom_in_text', 'zoom_in_title', 'zoom_out_…"
      ]
     },
     "metadata": {},
     "output_type": "display_data"
    }
   ],
   "source": [
    "line = Polyline(\n",
    "    locations=[\n",
    "        [45.51, -122.68],\n",
    "        [37.77, -122.43],\n",
    "        [34.04, -118.22]\n",
    "    ],\n",
    "    color=\"green\" ,\n",
    "    fill=False\n",
    ")\n",
    "\n",
    "m = Map(center = (42.5, -41), zoom =2)\n",
    "m.add_layer(line)\n",
    "display(m)"
   ]
  },
  {
   "cell_type": "markdown",
   "id": "621a917c-2782-4dd5-b523-cff1754b7101",
   "metadata": {},
   "source": [
    "## Polygons"
   ]
  },
  {
   "cell_type": "code",
   "execution_count": 36,
   "id": "4e8aa082-7caa-440d-9125-99eab3924cb9",
   "metadata": {
    "tags": []
   },
   "outputs": [
    {
     "data": {
      "application/vnd.jupyter.widget-view+json": {
       "model_id": "408e7f91f0c84005b9a86ac3226d8d6c",
       "version_major": 2,
       "version_minor": 0
      },
      "text/plain": [
       "Map(center=[42.5531, -48.6914], controls=(ZoomControl(options=['position', 'zoom_in_text', 'zoom_in_title', 'z…"
      ]
     },
     "metadata": {},
     "output_type": "display_data"
    }
   ],
   "source": [
    "polygon = Polygon(\n",
    "    locations=[(42, -49), (43, -49), (43, -48)],\n",
    "    color=\"green\",\n",
    "    fill_color=\"green\"\n",
    ")\n",
    "\n",
    "m = Map(center=(42.5531, -48.6914), zoom=6)\n",
    "m.add_layer(polygon);\n",
    "\n",
    "m"
   ]
  },
  {
   "cell_type": "markdown",
   "id": "6228208c-a2ef-41c4-b9a0-d36fdaecbf2b",
   "metadata": {},
   "source": [
    "Eventhough we can create points, polygons and polylines as shown above, the real power of ipyleaflet is the ability to map GeoDataFrames (you have already worked with this) and geojsons (will talk about it in the next section). "
   ]
  },
  {
   "cell_type": "markdown",
   "id": "e635fa9b-c959-4738-88ad-988d8e528a30",
   "metadata": {},
   "source": [
    "## Mapping GeoDataFrame as a Layer"
   ]
  },
  {
   "cell_type": "markdown",
   "id": "b961ee58-4b63-45b7-81d7-b113a5b03fea",
   "metadata": {},
   "source": [
    "Let us take a simple example. We would like to map the neighborhoods in NYC as polygons itself. "
   ]
  },
  {
   "cell_type": "code",
   "execution_count": 52,
   "id": "06d847e9-b101-46c1-bb40-ec1d8537c026",
   "metadata": {
    "tags": []
   },
   "outputs": [
    {
     "data": {
      "application/vnd.jupyter.widget-view+json": {
       "model_id": "44f12f8bbec14a2cac908149e7cfbcce",
       "version_major": 2,
       "version_minor": 0
      },
      "text/plain": [
       "Map(center=[40.69564041317145, -73.85796843331579], controls=(ZoomControl(options=['position', 'zoom_in_text',…"
      ]
     },
     "metadata": {},
     "output_type": "display_data"
    }
   ],
   "source": [
    "neighbMap3 = Map(center=(40.69564041317145, -73.85796843331579), zoom=15)  # nyc map\n",
    "display(neighbMap3)"
   ]
  },
  {
   "cell_type": "markdown",
   "id": "686ff03d-f011-4dc1-b7b7-c859ad2c2a3e",
   "metadata": {},
   "source": [
    "Now let us retrieve all the neighborhoods"
   ]
  },
  {
   "cell_type": "code",
   "execution_count": 53,
   "id": "3ac48ad8-d53e-4bf8-8f58-b9a1eaf8deae",
   "metadata": {
    "tags": []
   },
   "outputs": [
    {
     "name": "stderr",
     "output_type": "stream",
     "text": [
      "E:\\sbd3\\lib\\site-packages\\geopandas\\io\\sql.py:158: UserWarning: pandas only supports SQLAlchemy connectable (engine/connection) or database string URI or sqlite3 DBAPI2 connection. Other DBAPI2 objects are not tested. Please consider using SQLAlchemy.\n",
      "  df = pd.read_sql(\n"
     ]
    }
   ],
   "source": [
    "neighbhoods = gpd.read_postgis(f'select gid,name,st_transform(geom,4326) as geom from nyc_neighborhoods',conn)"
   ]
  },
  {
   "cell_type": "code",
   "execution_count": 54,
   "id": "f9c1163c-130c-46ef-b906-4057168d7ed7",
   "metadata": {
    "tags": []
   },
   "outputs": [],
   "source": [
    "neighbhoods_data = GeoData(geo_dataframe = neighbhoods,\n",
    "                   style={'color': 'black', 'fillColor': 'blue', 'opacity':0.05, 'weight':2, 'dashArray':'2', 'fillOpacity':0.3},\n",
    "                   name = 'neighborhoods')\n",
    "neighbMap3.add_layer(neighbhoods_data)"
   ]
  },
  {
   "cell_type": "markdown",
   "id": "d1419aef-b949-4cfe-a7a4-c3f9066bcca4",
   "metadata": {},
   "source": [
    "As you can see with just a single line of code we can create a map with the neighborhoods Polygon. Now let us add an onclick event to the polygon"
   ]
  },
  {
   "cell_type": "code",
   "execution_count": 55,
   "id": "626caf20-b011-4709-9f02-8cb0325a2c96",
   "metadata": {
    "tags": []
   },
   "outputs": [],
   "source": [
    "def hiClick(**feature):\n",
    "    print (feature['properties'])\n",
    "neighbhoods_data.on_click(hiClick)"
   ]
  },
  {
   "cell_type": "markdown",
   "id": "db9e6cc1-8bfb-4402-ac3d-ebe9b4d924df",
   "metadata": {},
   "source": [
    "The properties key in the feature dictionary provides access to all other column values other than geometry (in our case gid and name), which we can use to generate further queries. \n",
    "\n",
    "Let us do another interactive example where when you click on a county in Ohio, will create a pandas table of covid totals for different case months."
   ]
  },
  {
   "cell_type": "code",
   "execution_count": 147,
   "id": "0c32baec-fcb7-4c6a-ae32-7bd1d89bf3ba",
   "metadata": {
    "tags": []
   },
   "outputs": [
    {
     "name": "stderr",
     "output_type": "stream",
     "text": [
      "E:\\sbd3\\lib\\site-packages\\geopandas\\io\\sql.py:158: UserWarning: pandas only supports SQLAlchemy connectable (engine/connection) or database string URI or sqlite3 DBAPI2 connection. Other DBAPI2 objects are not tested. Please consider using SQLAlchemy.\n",
      "  df = pd.read_sql(\n"
     ]
    },
    {
     "data": {
      "text/html": [
       "<div>\n",
       "<style scoped>\n",
       "    .dataframe tbody tr th:only-of-type {\n",
       "        vertical-align: middle;\n",
       "    }\n",
       "\n",
       "    .dataframe tbody tr th {\n",
       "        vertical-align: top;\n",
       "    }\n",
       "\n",
       "    .dataframe thead th {\n",
       "        text-align: right;\n",
       "    }\n",
       "</style>\n",
       "<table border=\"1\" class=\"dataframe\">\n",
       "  <thead>\n",
       "    <tr style=\"text-align: right;\">\n",
       "      <th></th>\n",
       "      <th>geoid</th>\n",
       "      <th>name</th>\n",
       "      <th>geom</th>\n",
       "    </tr>\n",
       "  </thead>\n",
       "  <tbody>\n",
       "    <tr>\n",
       "      <th>0</th>\n",
       "      <td>39035</td>\n",
       "      <td>Cuyahoga</td>\n",
       "      <td>MULTIPOLYGON (((-81.97116 41.35306, -81.97086 ...</td>\n",
       "    </tr>\n",
       "    <tr>\n",
       "      <th>1</th>\n",
       "      <td>39039</td>\n",
       "      <td>Defiance</td>\n",
       "      <td>MULTIPOLYGON (((-84.80405 41.40836, -84.80401 ...</td>\n",
       "    </tr>\n",
       "    <tr>\n",
       "      <th>2</th>\n",
       "      <td>39043</td>\n",
       "      <td>Erie</td>\n",
       "      <td>MULTIPOLYGON (((-82.73571 41.60336, -82.73392 ...</td>\n",
       "    </tr>\n",
       "    <tr>\n",
       "      <th>3</th>\n",
       "      <td>39125</td>\n",
       "      <td>Paulding</td>\n",
       "      <td>MULTIPOLYGON (((-84.80378 41.14052, -84.80346 ...</td>\n",
       "    </tr>\n",
       "    <tr>\n",
       "      <th>4</th>\n",
       "      <td>39135</td>\n",
       "      <td>Preble</td>\n",
       "      <td>MULTIPOLYGON (((-84.81512 39.57295, -84.81512 ...</td>\n",
       "    </tr>\n",
       "    <tr>\n",
       "      <th>...</th>\n",
       "      <td>...</td>\n",
       "      <td>...</td>\n",
       "      <td>...</td>\n",
       "    </tr>\n",
       "    <tr>\n",
       "      <th>83</th>\n",
       "      <td>39011</td>\n",
       "      <td>Auglaize</td>\n",
       "      <td>MULTIPOLYGON (((-84.45618 40.68486, -84.39678 ...</td>\n",
       "    </tr>\n",
       "    <tr>\n",
       "      <th>84</th>\n",
       "      <td>39049</td>\n",
       "      <td>Franklin</td>\n",
       "      <td>MULTIPOLYGON (((-83.26088 40.00281, -83.25855 ...</td>\n",
       "    </tr>\n",
       "    <tr>\n",
       "      <th>85</th>\n",
       "      <td>39111</td>\n",
       "      <td>Monroe</td>\n",
       "      <td>MULTIPOLYGON (((-81.31824 39.73858, -81.31787 ...</td>\n",
       "    </tr>\n",
       "    <tr>\n",
       "      <th>86</th>\n",
       "      <td>39101</td>\n",
       "      <td>Marion</td>\n",
       "      <td>MULTIPOLYGON (((-83.42025 40.61398, -83.41983 ...</td>\n",
       "    </tr>\n",
       "    <tr>\n",
       "      <th>87</th>\n",
       "      <td>39075</td>\n",
       "      <td>Holmes</td>\n",
       "      <td>MULTIPOLYGON (((-82.22066 40.66758, -82.19327 ...</td>\n",
       "    </tr>\n",
       "  </tbody>\n",
       "</table>\n",
       "<p>88 rows × 3 columns</p>\n",
       "</div>"
      ],
      "text/plain": [
       "    geoid      name                                               geom\n",
       "0   39035  Cuyahoga  MULTIPOLYGON (((-81.97116 41.35306, -81.97086 ...\n",
       "1   39039  Defiance  MULTIPOLYGON (((-84.80405 41.40836, -84.80401 ...\n",
       "2   39043      Erie  MULTIPOLYGON (((-82.73571 41.60336, -82.73392 ...\n",
       "3   39125  Paulding  MULTIPOLYGON (((-84.80378 41.14052, -84.80346 ...\n",
       "4   39135    Preble  MULTIPOLYGON (((-84.81512 39.57295, -84.81512 ...\n",
       "..    ...       ...                                                ...\n",
       "83  39011  Auglaize  MULTIPOLYGON (((-84.45618 40.68486, -84.39678 ...\n",
       "84  39049  Franklin  MULTIPOLYGON (((-83.26088 40.00281, -83.25855 ...\n",
       "85  39111    Monroe  MULTIPOLYGON (((-81.31824 39.73858, -81.31787 ...\n",
       "86  39101    Marion  MULTIPOLYGON (((-83.42025 40.61398, -83.41983 ...\n",
       "87  39075    Holmes  MULTIPOLYGON (((-82.22066 40.66758, -82.19327 ...\n",
       "\n",
       "[88 rows x 3 columns]"
      ]
     },
     "execution_count": 147,
     "metadata": {},
     "output_type": "execute_result"
    }
   ],
   "source": [
    "counties = gpd.read_postgis(\"select geoid,name,st_transform(geom,4326)  as geom from us_counties where statefp = '39'\",conn)\n",
    "counties"
   ]
  },
  {
   "cell_type": "code",
   "execution_count": 142,
   "id": "9ad1607d-3d8a-4c91-aeec-f3fd9ec85fa7",
   "metadata": {
    "tags": []
   },
   "outputs": [
    {
     "data": {
      "application/vnd.jupyter.widget-view+json": {
       "model_id": "f2498af5048a449eb491e8526cd1bee4",
       "version_major": 2,
       "version_minor": 0
      },
      "text/plain": [
       "Map(center=[40.29727789095309, -82.84015921998292], controls=(ZoomControl(options=['position', 'zoom_in_text',…"
      ]
     },
     "metadata": {},
     "output_type": "display_data"
    }
   ],
   "source": [
    "ohMap = Map(center=(40.29727789095309, -82.84015921998292), zoom=7)  # oh map\n",
    "display(ohMap)"
   ]
  },
  {
   "cell_type": "code",
   "execution_count": 143,
   "id": "71789c70-3ce2-4f38-9dca-bd7b963a65ca",
   "metadata": {
    "tags": []
   },
   "outputs": [],
   "source": [
    "counties_data = GeoData(geo_dataframe = counties,\n",
    "                   style={'color': 'black', 'fillColor': 'blue', 'opacity':1, 'weight':3, 'fillOpacity':0},\n",
    "                   name = 'counties')\n",
    "ohMap.add_layer(counties_data)"
   ]
  },
  {
   "cell_type": "code",
   "execution_count": 144,
   "id": "549015da-ff14-4062-8c05-f206e1dd857a",
   "metadata": {
    "tags": []
   },
   "outputs": [
    {
     "data": {
      "application/vnd.jupyter.widget-view+json": {
       "model_id": "d437eafde58b46919bcc61973bc5c99f",
       "version_major": 2,
       "version_minor": 0
      },
      "text/plain": [
       "HBox(children=(Map(bottom=12570.0, center=[40.29727789095309, -82.84015921998292], controls=(ZoomControl(optio…"
      ]
     },
     "metadata": {},
     "output_type": "display_data"
    }
   ],
   "source": [
    "#Let us create an out where we will display the dataframe and then finally wrap everything in an HBox\n",
    "out = widgets.Output(layout = widgets.Layout(width='40%'))\n",
    "pd.options.display.max_rows=20         \n",
    "def countyClicked(**feature):\n",
    "    geoid = feature['properties']['geoid']\n",
    "    query = f\"select case_month,total from covid_oh_county_totals where county_fips_code ='{geoid}' order by case_month\"\n",
    "    data = pd.read_sql_query(query,conn)\n",
    "    with out:\n",
    "        clear_output(wait=True)\n",
    "        display(data)\n",
    "counties_data.on_click(countyClicked)\n",
    "hb = widgets.HBox([ohMap,out])\n",
    "display(hb)"
   ]
  },
  {
   "cell_type": "code",
   "execution_count": null,
   "id": "76136a01-20c8-43ff-95cf-7095fc9c99bb",
   "metadata": {},
   "outputs": [],
   "source": [
    "Now let us create a chart instead of the dataframe"
   ]
  },
  {
   "cell_type": "markdown",
   "id": "a808f515-fde5-472d-9b08-97ee7ef8c0b4",
   "metadata": {},
   "source": [
    "We will borrow the chart logic from the last lecture"
   ]
  },
  {
   "cell_type": "code",
   "execution_count": 145,
   "id": "cd0ed277-3f4a-46ff-afad-14e4f8c8cee8",
   "metadata": {
    "tags": []
   },
   "outputs": [
    {
     "name": "stderr",
     "output_type": "stream",
     "text": [
      "C:\\Users\\jxa421\\AppData\\Local\\Temp\\ipykernel_88060\\216084033.py:1: UserWarning: pandas only supports SQLAlchemy connectable (engine/connection) or database string URI or sqlite3 DBAPI2 connection. Other DBAPI2 objects are not tested. Please consider using SQLAlchemy.\n",
      "  yearMonth = pd.read_sql_query(\"select distinct case_month from covid_oh_county_totals order by case_month\",conn)\n"
     ]
    }
   ],
   "source": [
    "yearMonth = pd.read_sql_query(\"select distinct case_month from covid_oh_county_totals order by case_month\",conn)"
   ]
  },
  {
   "cell_type": "code",
   "execution_count": 152,
   "id": "3db2e20e-b6f2-4e8e-af00-1e3f3c206cb6",
   "metadata": {
    "tags": []
   },
   "outputs": [
    {
     "data": {
      "application/vnd.jupyter.widget-view+json": {
       "model_id": "ad33f0b4d8474ffeae9ac7a1aa506b9e",
       "version_major": 2,
       "version_minor": 0
      },
      "text/plain": [
       "HBox(children=(Map(center=[40.29727789095309, -82.84015921998292], controls=(ZoomControl(options=['position', …"
      ]
     },
     "metadata": {},
     "output_type": "display_data"
    }
   ],
   "source": [
    "ohMap2 = Map(center=(40.29727789095309, -82.84015921998292), zoom=7)  # oh map\n",
    "out2 = widgets.Output(layout = widgets.Layout(width='45%'))\n",
    "counties_data2 = GeoData(geo_dataframe = counties,\n",
    "                   style={'color': 'black', 'fillColor': 'blue', 'opacity':1, 'weight':3, 'fillOpacity':0},\n",
    "                   name = 'counties')\n",
    "ohMap2.add_layer(counties_data2)\n",
    "\n",
    "def countySelected(**feature):\n",
    "    county = feature['properties']['geoid']\n",
    "    data = pd.read_sql_query(f\"select case_month,total from covid_oh_county_totals where county_fips_code = '{county}' order by case_month\",conn)\n",
    "    data = yearMonth.merge(data,on='case_month',how='left').fillna(0)\n",
    "    with out2:\n",
    "        clear_output(wait=True)\n",
    "        ax = data.plot(logy=True,ylim=((10**0,10**5)),x='case_month',xlabel='Year Month',ylabel='Total Cases',title=f\"Covid-19 case distribution for {feature['properties']['name']}\",legend=False)\n",
    "        display(ax.get_figure())\n",
    "counties_data2.on_click(countySelected)\n",
    "hb2 = widgets.HBox([ohMap2,out2])\n",
    "display(hb2)"
   ]
  },
  {
   "cell_type": "markdown",
   "id": "a54a3a13-9a4b-4002-a59d-0ebb4a76b9cf",
   "metadata": {},
   "source": [
    "## Mapping Geojson"
   ]
  },
  {
   "cell_type": "markdown",
   "id": "382b75ad-36c0-482d-a429-e8e553fd264a",
   "metadata": {},
   "source": [
    "Ipyleaflet can map Geojson which is another way of representing spatial data like shapefile. You can easily convert a geodataframe to geojson using the to_json method of the geodataframe"
   ]
  },
  {
   "cell_type": "markdown",
   "id": "c7079124-dc20-41d9-8943-ccd7891572dc",
   "metadata": {},
   "source": [
    "### Creating a geojson file from geodataframe"
   ]
  },
  {
   "cell_type": "markdown",
   "id": "eca4abab-8c6d-4362-a483-f66be99f2ab4",
   "metadata": {},
   "source": [
    "Let us convert the counties geodataframe to geojson"
   ]
  },
  {
   "cell_type": "code",
   "execution_count": null,
   "id": "6a29fdfd-b2f2-4cbb-9528-c8ff74881d76",
   "metadata": {
    "tags": []
   },
   "outputs": [],
   "source": [
    "countiesGeoJson = counties.to_json(drop_id=True)\n",
    "countiesGeoJson"
   ]
  },
  {
   "cell_type": "markdown",
   "id": "4e6c8021-7146-4971-b3ba-72e2cdc30c6d",
   "metadata": {},
   "source": [
    "As you can see it is countiesGeoJson is a string object in json format which could be converted to a dict using the json package."
   ]
  },
  {
   "cell_type": "code",
   "execution_count": 159,
   "id": "d7458b94-5f6f-47ce-90af-1b4a9db1e7d0",
   "metadata": {
    "tags": []
   },
   "outputs": [],
   "source": [
    "countiesGeoJsonDict = json.loads(countiesGeoJson)"
   ]
  },
  {
   "cell_type": "markdown",
   "id": "94d51655-b8bb-4fbe-8582-ddc23b7e5cb1",
   "metadata": {},
   "source": [
    "## Plotting Geojson"
   ]
  },
  {
   "cell_type": "markdown",
   "id": "2a10c2a7-aacb-4cbc-8bba-a43b69750ced",
   "metadata": {},
   "source": [
    "Geojson can be plotted using the GeoJSON object in ipyleaflet. Let us plot our county data as a geojson"
   ]
  },
  {
   "cell_type": "code",
   "execution_count": 161,
   "id": "beaf4aa8-55e1-4095-83ad-192698ae0e6e",
   "metadata": {
    "tags": []
   },
   "outputs": [
    {
     "data": {
      "application/vnd.jupyter.widget-view+json": {
       "model_id": "2ae4029f5dcf48689cb6e1f4165ca8d2",
       "version_major": 2,
       "version_minor": 0
      },
      "text/plain": [
       "Map(center=[40.29727789095309, -82.84015921998292], controls=(ZoomControl(options=['position', 'zoom_in_text',…"
      ]
     },
     "metadata": {},
     "output_type": "display_data"
    }
   ],
   "source": [
    "ohMap3 = Map(center=(40.29727789095309, -82.84015921998292), zoom=7)  # oh map\n",
    "geo_json = GeoJSON(\n",
    "    data=countiesGeoJsonDict,\n",
    "    style={\n",
    "        'opacity': 1, 'fillOpacity': 0, 'weight': 2,'color': 'black'\n",
    "    }\n",
    ")\n",
    "ohMap3.add_layer(geo_json)\n",
    "display(ohMap3)"
   ]
  },
  {
   "cell_type": "markdown",
   "id": "7b47a1e7-6618-4c6e-8ac6-038f74ecabb6",
   "metadata": {},
   "source": [
    "Creating a click event is same as for geodataframe. "
   ]
  },
  {
   "cell_type": "markdown",
   "id": "67e5f2c9-e678-4cda-95a4-951cfb117644",
   "metadata": {},
   "source": [
    "## Creating Choropleth Maps"
   ]
  },
  {
   "cell_type": "markdown",
   "id": "1535dcc8-c03a-43e9-a298-2b8e7552cb0d",
   "metadata": {},
   "source": [
    "Choropleth maps can be created in ipyleaflet using geojson data. Along with the geojson data you would also need to have a dictionary which maps a key in the geojson data to the key in the dictionary and the value will be the value required for plotting."
   ]
  },
  {
   "cell_type": "markdown",
   "id": "d15e58ac-bf99-4762-8458-cdebdada2e65",
   "metadata": {},
   "source": [
    "Let us try an example. In this example we are going to create a choropleth map of the total homicides for different neighborhoods in NYC. \n",
    "\n",
    "So we would need\n",
    "\n",
    "1) The neighborhoods as a geojson contaning the geometry and the primary key for the table (gid).\n",
    "\n",
    "2) The total number of homicides aggregated for each neighborhood"
   ]
  },
  {
   "cell_type": "code",
   "execution_count": 213,
   "id": "a252c146-481a-4eb1-b750-97f91c16e26a",
   "metadata": {
    "tags": []
   },
   "outputs": [
    {
     "name": "stderr",
     "output_type": "stream",
     "text": [
      "E:\\sbd3\\lib\\site-packages\\geopandas\\io\\sql.py:158: UserWarning: pandas only supports SQLAlchemy connectable (engine/connection) or database string URI or sqlite3 DBAPI2 connection. Other DBAPI2 objects are not tested. Please consider using SQLAlchemy.\n",
      "  df = pd.read_sql(\n"
     ]
    }
   ],
   "source": [
    "#the neighborhoods\n",
    "neighb = gpd.read_postgis(\"select gid,st_transform(geom,4326) as geom from nyc_neighborhoods\",conn)\n",
    "neighbjson = json.loads(neighb.to_json(drop_id=True))\n",
    "#Need to have the id one level above\n",
    "for d in neighbjson['features']:\n",
    "    d['gid'] = d['properties']['gid']"
   ]
  },
  {
   "cell_type": "code",
   "execution_count": 214,
   "id": "58b625d4-9564-45f2-ab1e-4fde330453ba",
   "metadata": {
    "tags": []
   },
   "outputs": [
    {
     "name": "stderr",
     "output_type": "stream",
     "text": [
      "C:\\Users\\jxa421\\AppData\\Local\\Temp\\ipykernel_88060\\746618007.py:2: UserWarning: pandas only supports SQLAlchemy connectable (engine/connection) or database string URI or sqlite3 DBAPI2 connection. Other DBAPI2 objects are not tested. Please consider using SQLAlchemy.\n",
      "  neighbhomicide = pd.read_sql_query(\"select n.gid,count(h.gid) as total from nyc_neighborhoods n left join nyc_homicides h on st_contains(n.geom,h.geom) group by n.gid\",conn)\n"
     ]
    }
   ],
   "source": [
    "#aggregated homicide data for each neighborhoods\n",
    "neighbhomicide = pd.read_sql_query(\"select n.gid,count(h.gid) as total from nyc_neighborhoods n left join nyc_homicides h on st_contains(n.geom,h.geom) group by n.gid\",conn)"
   ]
  },
  {
   "cell_type": "code",
   "execution_count": 215,
   "id": "97302d83-c03a-4f57-a0f9-4b36e7d71e9f",
   "metadata": {
    "tags": []
   },
   "outputs": [],
   "source": [
    "#convert to dictionary\n",
    "valueDict = pd.Series(neighbhomicide.total.values,index=neighbhomicide.gid).to_dict()"
   ]
  },
  {
   "cell_type": "code",
   "execution_count": 216,
   "id": "8f3ac771-ee22-4908-9637-0cfb42eb2eba",
   "metadata": {
    "tags": []
   },
   "outputs": [
    {
     "data": {
      "application/vnd.jupyter.widget-view+json": {
       "model_id": "14305dfb97404473a4d0f4de2bfe2891",
       "version_major": 2,
       "version_minor": 0
      },
      "text/plain": [
       "Map(center=[40.69564041317145, -73.85796843331579], controls=(ZoomControl(options=['position', 'zoom_in_text',…"
      ]
     },
     "metadata": {},
     "output_type": "display_data"
    }
   ],
   "source": [
    "neighbMap4 = Map(center=(40.69564041317145, -73.85796843331579), zoom=10)  # nyc map\n",
    "neighbchoro = Choropleth(\n",
    "    geo_data=neighbjson,\n",
    "    choro_data=valueDict,\n",
    "    key_on='gid',\n",
    "   colormap=linear.RdYlGn_04,\n",
    "    border_color='black',\n",
    "    style={'fillOpacity': 0.8})\n",
    "neighbMap4.add_layer(neighbchoro)\n",
    "display(neighbMap4)"
   ]
  },
  {
   "cell_type": "markdown",
   "id": "e6b79371-9bb5-49c3-a2fd-64750086633e",
   "metadata": {},
   "source": [
    "Now let us create an interactive map with the year as slider widget and based on the slider we can update the choropleth map."
   ]
  },
  {
   "cell_type": "code",
   "execution_count": 221,
   "id": "cef24f01-d6b8-4b17-a6f4-340e686a14fe",
   "metadata": {
    "tags": []
   },
   "outputs": [
    {
     "name": "stderr",
     "output_type": "stream",
     "text": [
      "C:\\Users\\jxa421\\AppData\\Local\\Temp\\ipykernel_88060\\2422417265.py:1: UserWarning: pandas only supports SQLAlchemy connectable (engine/connection) or database string URI or sqlite3 DBAPI2 connection. Other DBAPI2 objects are not tested. Please consider using SQLAlchemy.\n",
      "  distinctYears = pd.read_sql_query('select distinct year::text from nyc_homicides order by year',conn)\n"
     ]
    }
   ],
   "source": [
    "distinctYears = pd.read_sql_query('select distinct year::text from nyc_homicides order by year',conn)"
   ]
  },
  {
   "cell_type": "code",
   "execution_count": 228,
   "id": "a108abe5-0051-4629-b927-687393ba1991",
   "metadata": {
    "tags": []
   },
   "outputs": [
    {
     "data": {
      "application/vnd.jupyter.widget-view+json": {
       "model_id": "0f59913cc4f7468c82169b1c3e2e8f86",
       "version_major": 2,
       "version_minor": 0
      },
      "text/plain": [
       "VBox(children=(Map(center=[40.69564041317145, -73.85796843331579], controls=(ZoomControl(options=['position', …"
      ]
     },
     "metadata": {},
     "output_type": "display_data"
    }
   ],
   "source": [
    "neighbMap5 = Map(center=(40.69564041317145, -73.85796843331579), zoom=10)  # nyc map\n",
    "currentLayer=None\n",
    "def yearChanged(change):\n",
    "    global currentLayer\n",
    "    neighbhomicide = pd.read_sql_query(f\"select n.gid,count(h.gid) as total from nyc_neighborhoods n left join nyc_homicides h on st_contains(n.geom,h.geom) and h.year={change['new']} group by n.gid\",conn) \n",
    "    valueDict = pd.Series(neighbhomicide.total.values,index=neighbhomicide.gid).to_dict()\n",
    "    if currentLayer is not None:\n",
    "        neighbMap5.remove_layer(currentLayer)\n",
    "    currentLayer = Choropleth(\n",
    "        geo_data=neighbjson,\n",
    "        choro_data=valueDict,\n",
    "        key_on='gid',\n",
    "        colormap=linear.Reds_05,\n",
    "        border_color='black',\n",
    "        style={'fillOpacity': 0.8},\n",
    "        value_min=0,\n",
    "        value_max=60\n",
    "    )\n",
    "    neighbMap5.add_layer(currentLayer)\n",
    "    \n",
    "yearSlider = widgets.SelectionSlider(\n",
    "    options=distinctYears.year.values,\n",
    "    value=distinctYears.year.values[0],\n",
    "    description='Year',\n",
    "    disabled=False,\n",
    "    continuous_update=False,\n",
    "    orientation='horizontal',\n",
    "    readout=True\n",
    ")\n",
    "yearSlider.observe(yearChanged,names='value')\n",
    "v = widgets.VBox([neighbMap5,yearSlider])\n",
    "display(v)"
   ]
  },
  {
   "cell_type": "code",
   "execution_count": null,
   "id": "3edba3ab-1b86-4386-a9d1-ddecd8fa184d",
   "metadata": {},
   "outputs": [],
   "source": []
  }
 ],
 "metadata": {
  "kernelspec": {
   "display_name": "Python 3 (ipykernel)",
   "language": "python",
   "name": "python3"
  },
  "language_info": {
   "codemirror_mode": {
    "name": "ipython",
    "version": 3
   },
   "file_extension": ".py",
   "mimetype": "text/x-python",
   "name": "python",
   "nbconvert_exporter": "python",
   "pygments_lexer": "ipython3",
   "version": "3.10.10"
  }
 },
 "nbformat": 4,
 "nbformat_minor": 5
}
