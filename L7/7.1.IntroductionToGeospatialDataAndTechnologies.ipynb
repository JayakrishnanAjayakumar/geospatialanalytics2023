{
 "cells": [
  {
   "cell_type": "markdown",
   "id": "418af01c-2810-4a98-becd-299c03537936",
   "metadata": {},
   "source": [
    "# Geospatial Data and Technologies"
   ]
  },
  {
   "cell_type": "markdown",
   "id": "2d5e2e6e-1740-4f31-a0c5-0134df74a4cf",
   "metadata": {},
   "source": [
    "![geospatialdata](images/geospatialdata.png)"
   ]
  },
  {
   "cell_type": "markdown",
   "id": "0d31b19d-5e24-441b-94da-d15aa4e60733",
   "metadata": {},
   "source": [
    "## What is Geospatial Data?"
   ]
  },
  {
   "cell_type": "markdown",
   "id": "6ae449e8-4556-4e3a-9a92-95a2ec0d2cbc",
   "metadata": {},
   "source": [
    "The word **geospatial is used to indicate that data that has a geographic component to it**. Or simply it means that the **data can be located at the surface of earth or can be mapped!!!**"
   ]
  },
  {
   "cell_type": "markdown",
   "id": "548b4053-02b4-41fd-91d9-757fa0b24842",
   "metadata": {},
   "source": [
    "![whatisgeospatial](images/whatisgeospatial.png)"
   ]
  },
  {
   "cell_type": "markdown",
   "id": "8c3f65e5-c009-4086-ad0f-60610a4e9baa",
   "metadata": {},
   "source": [
    "![whatisgeospatial_1](images/whatisgeospatial_1.png)"
   ]
  },
  {
   "cell_type": "markdown",
   "id": "81bcc217-46d2-4fd0-ac00-cf82d0f07446",
   "metadata": {},
   "source": [
    "![whatisgeospatial_2](images/whatisgeospatial_2.png)"
   ]
  },
  {
   "cell_type": "markdown",
   "id": "1d1bbce6-0013-4224-84c9-706a0675ceb5",
   "metadata": {},
   "source": [
    "**\"Hey I am right now in Woods building, CWRU\"**"
   ]
  },
  {
   "cell_type": "markdown",
   "id": "d064488f-57c0-4d96-968e-c49ffe2a7c70",
   "metadata": {},
   "source": [
    "> **Geospatial data is information that describes objects, events or other features with a location on or near the surface of the earth**. Geospatial data typically **combines location information (usually coordinates on the earth) and attribute information (the characteristics of the object, event or phenomena concerned) with temporal information (the time or life span at which the location and attributes exist)**. The location provided may be static in the short term (for example, the location of a piece of equipment, an earthquake event, children living in poverty) or dynamic (for example, a moving vehicle or pedestrian, the spread of an infectious disease)."
   ]
  },
  {
   "cell_type": "markdown",
   "id": "17bb8995-995a-4a6a-bd92-e4151273c4a7",
   "metadata": {},
   "source": [
    "## Geospatial Data Applications"
   ]
  },
  {
   "cell_type": "markdown",
   "id": "dc541954-7135-4691-a231-fe593e9157e1",
   "metadata": {},
   "source": [
    "![geospatialdataapplications](images/geospatialdataapplications.png)"
   ]
  },
  {
   "cell_type": "code",
   "execution_count": 1,
   "id": "70aae89e-fe04-4e55-bda6-33c74d391a34",
   "metadata": {},
   "outputs": [
    {
     "data": {
      "text/html": [
       "<iframe src=\"https://news.uga.edu/uga-broadband-map-helps-state-pinpoint-areas-in-need/\" width=\"1200\" height=\"1000\"></iframe>\n"
      ],
      "text/plain": [
       "<IPython.core.display.HTML object>"
      ]
     },
     "metadata": {},
     "output_type": "display_data"
    }
   ],
   "source": [
    "%%html\n",
    "<iframe src=\"https://news.uga.edu/uga-broadband-map-helps-state-pinpoint-areas-in-need/\" width=\"1200\" height=\"1000\"></iframe>"
   ]
  },
  {
   "cell_type": "code",
   "execution_count": 2,
   "id": "a345049a-2655-4497-9706-8c71436f1938",
   "metadata": {},
   "outputs": [
    {
     "data": {
      "text/html": [
       "<iframe src=\"https://news.uga.edu/uga-broadband-map-helps-state-pinpoint-areas-in-need/\" width=\"1200\" height=\"1000\"></iframe>\n"
      ],
      "text/plain": [
       "<IPython.core.display.HTML object>"
      ]
     },
     "metadata": {},
     "output_type": "display_data"
    }
   ],
   "source": [
    "%%html\n",
    "<iframe src=\"https://news.uga.edu/uga-broadband-map-helps-state-pinpoint-areas-in-need/\" width=\"1200\" height=\"1000\"></iframe>"
   ]
  },
  {
   "cell_type": "code",
   "execution_count": 3,
   "id": "668bafcc-d5c1-4662-90ca-179f8a12d2ec",
   "metadata": {},
   "outputs": [
    {
     "data": {
      "text/html": [
       "<iframe src=\"https://www.cbsnews.com/news/coronavirus-outbreak-computer-algorithm-artificial-intelligence/\" width=\"1200\" height=\"1000\"></iframe>\n"
      ],
      "text/plain": [
       "<IPython.core.display.HTML object>"
      ]
     },
     "metadata": {},
     "output_type": "display_data"
    }
   ],
   "source": [
    "%%html\n",
    "<iframe src=\"https://www.cbsnews.com/news/coronavirus-outbreak-computer-algorithm-artificial-intelligence/\" width=\"1200\" height=\"1000\"></iframe>"
   ]
  },
  {
   "cell_type": "markdown",
   "id": "c554c84b-ddd9-4247-9b0f-d04c44aab093",
   "metadata": {},
   "source": [
    "## Geospatial Data in Health"
   ]
  },
  {
   "cell_type": "markdown",
   "id": "a04f2e11-6aee-462c-96a6-dc9137e0a1c6",
   "metadata": {},
   "source": [
    "### John Snow's Cholera Investigation"
   ]
  },
  {
   "cell_type": "markdown",
   "id": "d0e6fc4f-fd72-4314-9552-f8e44ba32433",
   "metadata": {},
   "source": [
    "#### Who was John Snow?"
   ]
  },
  {
   "cell_type": "markdown",
   "id": "e8aafb39-ca2b-486f-b2fa-a70f0afe0797",
   "metadata": {},
   "source": [
    "![John_Snow](images/John_Snow.jpg)"
   ]
  },
  {
   "cell_type": "markdown",
   "id": "50e0c9af-f4f4-4c1e-83f1-5087295b6e59",
   "metadata": {},
   "source": [
    "John Snow was born in York on 15 March 1813. During the 1831 outbreak of cholera in the North East, he attended to sufferers in the Killingworth Colliery. Between 1833 and 1836, Snow was an assistant in practice in County Durham and North Yorkshire.In 1836 he moved to London to study at the Hunterian School of Medicine. He began hospital practice in October 1837 at the Westminster Hospital and became a member of the Royal College of Surgeons of England in 1838. He graduated from the University of London in 1844 with a degree in medicine and in 1850 was admitted as a member of the Royal College of Physicians."
   ]
  },
  {
   "cell_type": "markdown",
   "id": "c44197a7-5c4c-489a-bdd4-ab7c9cb1919b",
   "metadata": {},
   "source": [
    "#### The Cholera Outbreak in Soho, London"
   ]
  },
  {
   "cell_type": "markdown",
   "id": "ae5087f1-75ed-405c-b711-72a38a6b83d2",
   "metadata": {},
   "source": [
    "A major outbreak of cholera reached the district of Soho, London, in August 1854. "
   ]
  },
  {
   "cell_type": "markdown",
   "id": "2258acb7-d2fa-4e79-a631-60554735ba0a",
   "metadata": {},
   "source": [
    "![sohocholera](images/soho_cholera.jpg)"
   ]
  },
  {
   "cell_type": "markdown",
   "id": "03b6abd1-0b1b-43af-8c26-3b6f526b80b8",
   "metadata": {},
   "source": [
    "![soho](images/soho.png)"
   ]
  },
  {
   "cell_type": "markdown",
   "id": "5a77550b-8459-4537-b3d4-d369e582de0b",
   "metadata": {},
   "source": [
    "In the mid-19th century, Soho had a serious problem with **filth due to the large influx of people and a lack of proper sanitary services**: the London sewer system had not reached Soho at this point and **drainage was poor throughout London**. It was common at the time to have a cesspit under most homes. The health officials believed that the disease was transmitted and spread by a **‘bad air’ or ‘bad smells’ from rotting organic matter**."
   ]
  },
  {
   "cell_type": "markdown",
   "id": "907f18e2-b380-4db0-9877-a25bcdf5fed1",
   "metadata": {},
   "source": [
    "#### What did John Snow do"
   ]
  },
  {
   "cell_type": "markdown",
   "id": "99bf8b44-7a36-4607-af79-1a68b7b35b79",
   "metadata": {},
   "source": [
    "![SNOW_LAYERS1](images/SNOW_LAYERS1.png)"
   ]
  },
  {
   "cell_type": "markdown",
   "id": "afc4c936-d8ae-48cb-a165-e4aceaa62512",
   "metadata": {},
   "source": [
    "![SNOWLAYERS1Combined_1](images/SNOW_LAYERS1_Combined_1.png)"
   ]
  },
  {
   "cell_type": "markdown",
   "id": "e7a94c71-d32d-471c-b87a-2b1622219e68",
   "metadata": {},
   "source": [
    "His studies of the pattern of the disease were convincing enough to persuade the local council to **disable the well pump by removing its handle**. This action has been credited with **contributing significantly to the containment of the disease in the area**. It was later discovered that the water for the pump was polluted by sewage contaminated with cholera from a nearby cesspit.\n",
    "\n",
    "Through this mapping exercise John Snow was able to prove that the disease is in fact transmitted through contaminated water (associated to a specific pump), as opposed to the conventional thinking of the day, which stated that transmission occurred through the air. \n",
    "\n",
    "\n",
    "This work of John Snow was important in many ways\n",
    "\n",
    "1. **The first epidemiological analysis of disease** – trying to understand the spread of cases by factors in the environment.\n",
    "\n",
    "2. **The first geographical analysis of disease data** – plotting points on a map and looking for relationships\n",
    "\n",
    "For this phenomenal work John Snow is some times referred to as **\"hero of Cholera\"** and **\"Father of Field Epidemiology\"**"
   ]
  },
  {
   "cell_type": "code",
   "execution_count": 4,
   "id": "096432a4-a3f8-442a-9296-6af5a5e1e1ff",
   "metadata": {},
   "outputs": [
    {
     "data": {
      "image/jpeg": "[encoded data removed]",
      "text/html": [
       "\n",
       "        <iframe\n",
       "            width=\"400\"\n",
       "            height=\"300\"\n",
       "            src=\"https://www.youtube.com/embed/VJ86D_DtyWg\"\n",
       "            frameborder=\"0\"\n",
       "            allowfullscreen\n",
       "            \n",
       "        ></iframe>\n",
       "        "
      ],
      "text/plain": [
       "<IPython.lib.display.YouTubeVideo at 0x1873dfb6cb0>"
      ]
     },
     "execution_count": 4,
     "metadata": {},
     "output_type": "execute_result"
    }
   ],
   "source": [
    "from IPython.lib.display import YouTubeVideo\n",
    "YouTubeVideo('VJ86D_DtyWg')"
   ]
  },
  {
   "cell_type": "markdown",
   "id": "f521db7e-de75-401f-b713-7433e5a76b30",
   "metadata": {},
   "source": [
    "### The power of Geospatial Data"
   ]
  },
  {
   "cell_type": "markdown",
   "id": "76498af9-fc2a-4896-ae75-8fc476794a90",
   "metadata": {},
   "source": [
    "**Where are the people at risk?**\n",
    "\n",
    "**Where are the incidents? Where are they headed (e.g., wildfires, storms, chemical spills)?**\n",
    "\n",
    "**Where are the health assets (fixed, such as hospitals and clinics)?**\n",
    "\n",
    "**What are vaccination rates in this area?**\n",
    "\n",
    "**Where are the vaccines available?**\n",
    "\n",
    "Is there any **clustering of adverse events?**"
   ]
  },
  {
   "cell_type": "markdown",
   "id": "32de83de-65e9-4cc8-a2ec-9dec8169f8f5",
   "metadata": {},
   "source": [
    "### Sources of Geospatial Health Data"
   ]
  },
  {
   "cell_type": "markdown",
   "id": "437664b5-eb21-484c-9d1d-3919e6fc644f",
   "metadata": {},
   "source": [
    "1. Registration System Data"
   ]
  },
  {
   "cell_type": "code",
   "execution_count": null,
   "id": "76854d57-3d6b-4844-983c-9e9c3df5dda8",
   "metadata": {},
   "outputs": [],
   "source": [
    "%%html\n",
    "<iframe src=\"https://www.cdc.gov/nchs/pressroom/sosmap/lbw_births/lbw.htm\" width=\"1200\" height=\"1000\"></iframe>"
   ]
  },
  {
   "cell_type": "markdown",
   "id": "e129eed9-bb81-4eb2-8ed3-5ff145e7a9bc",
   "metadata": {},
   "source": [
    "2. Birth records"
   ]
  },
  {
   "cell_type": "markdown",
   "id": "8831f712-9620-4fe7-b21d-cf0e7c90ba41",
   "metadata": {},
   "source": [
    "![birth](images/birth.png)"
   ]
  },
  {
   "cell_type": "markdown",
   "id": "d269abd1-5497-4bf3-864b-6782eeab4dd4",
   "metadata": {},
   "source": [
    "3. Death certificate"
   ]
  },
  {
   "cell_type": "markdown",
   "id": "8d3acd44-5ea2-4f2f-9325-64067efdec2b",
   "metadata": {},
   "source": [
    "![deaths](images/deaths.png)"
   ]
  },
  {
   "cell_type": "markdown",
   "id": "c206b7fd-6cfb-4467-bae8-6a62639a4a0f",
   "metadata": {},
   "source": [
    "4. Disease registries "
   ]
  },
  {
   "cell_type": "markdown",
   "id": "7e865c8e-005a-4f02-ab0b-29ed226f3b61",
   "metadata": {},
   "source": [
    "5. Electronic Health Records"
   ]
  },
  {
   "cell_type": "markdown",
   "id": "c1a561c4-0c5b-4149-b11f-cf6e7a49dc6a",
   "metadata": {},
   "source": [
    "6. Survey data"
   ]
  },
  {
   "cell_type": "markdown",
   "id": "33ec693f-f318-426e-a3fb-f8eab246694f",
   "metadata": {},
   "source": [
    "7. Health Care and Health Care Utilization Data"
   ]
  },
  {
   "cell_type": "code",
   "execution_count": null,
   "id": "6b048f3b-da69-49ee-82cb-75d86fdba7c2",
   "metadata": {},
   "outputs": [],
   "source": []
  }
 ],
 "metadata": {
  "kernelspec": {
   "display_name": "Python 3 (ipykernel)",
   "language": "python",
   "name": "python3"
  },
  "language_info": {
   "codemirror_mode": {
    "name": "ipython",
    "version": 3
   },
   "file_extension": ".py",
   "mimetype": "text/x-python",
   "name": "python",
   "nbconvert_exporter": "python",
   "pygments_lexer": "ipython3",
   "version": "3.10.4"
  }
 },
 "nbformat": 4,
 "nbformat_minor": 5
}
