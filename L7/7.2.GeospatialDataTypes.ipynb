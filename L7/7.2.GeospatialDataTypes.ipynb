{
 "cells": [
  {
   "cell_type": "markdown",
   "id": "5e74ac00-2bb7-48c6-ac24-5a20f9650947",
   "metadata": {},
   "source": [
    "# Geospatial Data Types"
   ]
  },
  {
   "cell_type": "markdown",
   "id": "9b8adede-0c72-4967-bf50-39ce7b6fc241",
   "metadata": {},
   "source": [
    "![sp](images/sp1.jpg)"
   ]
  },
  {
   "cell_type": "markdown",
   "id": "73c3bf76-16ae-4292-948a-8cefb6883344",
   "metadata": {},
   "source": [
    "## Models for Spatial Data"
   ]
  },
  {
   "cell_type": "markdown",
   "id": "474dc2c8-8276-46f9-8e54-ffeffb4533b2",
   "metadata": {},
   "source": [
    "In order to represent the spatial data in a computer, one must determine how to best represent geographic space\n",
    "\n",
    ">Data Models are a **set of rules and/or constructs used to describe and represent aspects of the real world in a computer**.\n",
    "Two primary data models are available to complete this task: **raster data models and vector data models**.\n",
    "\n",
    "Let's look at them in detail. "
   ]
  },
  {
   "cell_type": "markdown",
   "id": "2b9e6dd6-1185-4022-b8fd-dc375d71449d",
   "metadata": {},
   "source": [
    "### Vector Data Model"
   ]
  },
  {
   "cell_type": "markdown",
   "id": "3b33b80d-31fe-428f-903e-b38e0f359981",
   "metadata": {},
   "source": [
    ">Vector data models use **points and their associated coordinate pairs** (lat/lon or X,Y) to represent\n",
    "the **vertices of spatial features**, much as if they were being drawn on a map by hand. The data attributes of these features are stored seperately (mostly in a database).The spatial information and the attribute information for these models are linked via a simple identification number that is given to each feature in a map.\n",
    "\n",
    "There are three fundamental vector types"
   ]
  },
  {
   "cell_type": "markdown",
   "id": "78178923-2a30-4031-bf4d-9560ae8ed795",
   "metadata": {},
   "source": [
    "#### Point"
   ]
  },
  {
   "cell_type": "markdown",
   "id": "4ba1811d-9252-422c-80d3-93e0342e545f",
   "metadata": {},
   "source": [
    ">Points are **zero-dimensional objects that contain only a single coordinate pair**. Points are typically used\n",
    "to model singular, discrete features such as **buildings, wells, power poles, sample locations, and so forth**. \n",
    "\n",
    "Your home can be represented as a point. The cholera death locations that we saw in the last chapter is an example of point data. Can you think about other examples.\n"
   ]
  },
  {
   "cell_type": "markdown",
   "id": "b97a1648-0e12-4ac5-a15b-0d9c8742c63a",
   "metadata": {},
   "source": [
    "![sptwo](images/sptwo.png)"
   ]
  },
  {
   "cell_type": "markdown",
   "id": "226e0df9-f32f-42d7-975a-ce569815d1aa",
   "metadata": {},
   "source": [
    "#### Lines"
   ]
  },
  {
   "cell_type": "markdown",
   "id": "a69f7a0c-9aef-4c5a-8a0e-f27020d0f60a",
   "metadata": {},
   "source": [
    ">Lines are **one-dimensional features composed of multiple, explicitly connected points**. Lines are used to\n",
    "represent **linear features such as roads, streams, faults, boundaries, and so forth**. \n",
    "\n",
    "Can you think about any linear features??"
   ]
  },
  {
   "cell_type": "markdown",
   "id": "3f977512-754b-456c-8e6b-e22585fea310",
   "metadata": {},
   "source": [
    "#### Polygons"
   ]
  },
  {
   "cell_type": "markdown",
   "id": "c3d27583-28a1-41e0-b7ce-3f2fa55a5bbd",
   "metadata": {},
   "source": [
    ">Polygons are **two-dimensional features created by multiple lines that loop back to create a “closed” feature**. Polygons are used to represent features such as **city boundaries, geologic formations, lakes, soil associations, vegetation communities, and so forth**. Polygons are also called areas.\n",
    "\n",
    "The boundaries for the state of Ohio can be represented as a polygon. Can you think about any other examples??"
   ]
  },
  {
   "cell_type": "markdown",
   "id": "f65790b0-966f-425e-8143-0ba44a30037f",
   "metadata": {},
   "source": [
    "![spthree](images/sp3.png)"
   ]
  },
  {
   "cell_type": "markdown",
   "id": "3051acc6-9351-4e67-956c-9cef570e0d35",
   "metadata": {},
   "source": [
    "### Raster Data Model"
   ]
  },
  {
   "cell_type": "markdown",
   "id": "7343fe62-1eb7-4f26-9c77-ff62dce382cb",
   "metadata": {},
   "source": [
    ">The raster model is based on a **systematic division of space**. The whole space is **characterized by a set of elements that cover it, each of them with an associated value**.\n",
    "\n",
    "**Raster data is structured as an array or grid of cells**, referred to as **raster pixels** (can you think about any raster data).\n",
    "Each cell in a raster is addressed by its position in the array (row and column number). Rasters are able to represent a large\n",
    "range of computable spatial objects. Thus, a point may be represented by a single cell, an arc by a sequence of neighboring cells and a connected area by a collection of contiguous cells. "
   ]
  },
  {
   "cell_type": "markdown",
   "id": "a85a386b-d49b-4c8a-956a-4e0ae4626979",
   "metadata": {},
   "source": [
    "![spfour](images/sp4.png)"
   ]
  },
  {
   "cell_type": "markdown",
   "id": "e1c628bc-7b7c-474b-b913-18ddaf92d015",
   "metadata": {},
   "source": [
    "![spfive](images/sp5.png)"
   ]
  },
  {
   "cell_type": "markdown",
   "id": "31fb59d4-4ba3-4950-9cf1-8b47d3f48773",
   "metadata": {},
   "source": [
    "### When to use Raster and when to use Vector"
   ]
  },
  {
   "cell_type": "markdown",
   "id": "4385f95d-c3a9-424f-97f4-c820fd40c62d",
   "metadata": {},
   "source": [
    "The general rule of thumb is that it is better to use **raster layers for continuous variables such as elevation, snow depth, PM2.5, or precipitation**, in order to make it easier to perform analysis based on them. **Discrete variables, on the other hand, are better represented using a vector approach**. For example while locations of airquality monitors can be represented as points (vectors), the PM2.5 concentration that they measure can be best represented using a raster. Rather than just knowing the PM2.5 value at the exact location of the airquality monitor, we would want to know the Pm2.5 value for an area or surface (for which raster is the best model)."
   ]
  }
 ],
 "metadata": {
  "kernelspec": {
   "display_name": "Python 3 (ipykernel)",
   "language": "python",
   "name": "python3"
  },
  "language_info": {
   "codemirror_mode": {
    "name": "ipython",
    "version": 3
   },
   "file_extension": ".py",
   "mimetype": "text/x-python",
   "name": "python",
   "nbconvert_exporter": "python",
   "pygments_lexer": "ipython3",
   "version": "3.10.4"
  }
 },
 "nbformat": 4,
 "nbformat_minor": 5
}
