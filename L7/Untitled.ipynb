{
 "cells": [
  {
   "cell_type": "markdown",
   "id": "5f14edc0-457d-4fdd-aa49-0673ea7816ec",
   "metadata": {},
   "source": [
    "Geospatial data......a gentle introduction..........\n",
    "geospatial data pertaining to health\n",
    "how is geospatial data being used in health........\n",
    "what is making that revolution........\n",
    "GIS...terms related to GIS.....GIScience.........\n",
    "Types of spatial data (vectors/rasters)\n",
    "Points, lines and polygons......with real world examples.......\n",
    "Attributes associated with spatial data\n",
    "how do you acquire spatial data\n",
    "how spatial data is stored........csv,shapefiles,kml,geojson,gpx.....\n",
    "read a basic shapefile........cholera deaths pump........"
   ]
  }
 ],
 "metadata": {
  "kernelspec": {
   "display_name": "Python 3 (ipykernel)",
   "language": "python",
   "name": "python3"
  },
  "language_info": {
   "codemirror_mode": {
    "name": "ipython",
    "version": 3
   },
   "file_extension": ".py",
   "mimetype": "text/x-python",
   "name": "python",
   "nbconvert_exporter": "python",
   "pygments_lexer": "ipython3",
   "version": "3.10.4"
  }
 },
 "nbformat": 4,
 "nbformat_minor": 5
}
