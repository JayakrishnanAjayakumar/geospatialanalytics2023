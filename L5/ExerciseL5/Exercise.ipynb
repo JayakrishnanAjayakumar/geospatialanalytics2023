{
 "cells": [
  {
   "cell_type": "markdown",
   "id": "73d843dc",
   "metadata": {},
   "source": [
    "# Exercise IV (submit by 02/10/2023 11:59pm EST)  \n",
    "​\n",
    "#### You can click on Run -> Run All Cells to enable all the question prompts at the same time (or you could run each cells one by one)\n",
    "​\n",
    "#### Each question has a scratch pad (a blank coding cell) where you can scribble your code.  \n",
    "​\n",
    "#### Assigned mark for each question is provided near to the question in parenthesis.\n",
    "​\n",
    "#### You can save partial responses by clicking the “Save” button after each question. \n",
    "​\n",
    "#### For coding questions, make sure you follow the exact guidelines. You have make sure that your code runs without any errors.\n",
    "​\n",
    "#### Up on completion; fill your case network id and the password that you have created during the first session. \n",
    "​\n",
    "#### Click Submit to upload the test.  "
   ]
  },
  {
   "cell_type": "code",
   "execution_count": 1,
   "id": "51657a23",
   "metadata": {},
   "outputs": [],
   "source": [
    "import sys\n",
    "sys.path.append('../../')\n",
    "from helper.questionhelper import *\n",
    "qset = QuestionSet()        "
   ]
  },
  {
   "cell_type": "code",
   "execution_count": 2,
   "id": "591d5907",
   "metadata": {},
   "outputs": [
    {
     "data": {
      "application/vnd.jupyter.widget-view+json": {
       "model_id": "6764bacea7a647339197cee7a11e8ffa",
       "version_major": 2,
       "version_minor": 0
      },
      "text/plain": [
       "VBox(children=(VBox(children=(HTML(value='<p>Read the file excess_deaths.csv from the folder excess_deaths in …"
      ]
     },
     "metadata": {},
     "output_type": "display_data"
    }
   ],
   "source": [
    "qset.getQuestion(1)"
   ]
  },
  {
   "cell_type": "code",
   "execution_count": 3,
   "id": "1b329498",
   "metadata": {},
   "outputs": [],
   "source": [
    "#Scratch Pad"
   ]
  },
  {
   "cell_type": "code",
   "execution_count": 4,
   "id": "7f0387ee",
   "metadata": {},
   "outputs": [
    {
     "data": {
      "application/vnd.jupyter.widget-view+json": {
       "model_id": "11cdc71f93c440e692f711b09be2968a",
       "version_major": 2,
       "version_minor": 0
      },
      "text/plain": [
       "VBox(children=(VBox(children=(HTML(value='<p>Read the file excess_deaths.csv from the folder excess_deaths in …"
      ]
     },
     "metadata": {},
     "output_type": "display_data"
    }
   ],
   "source": [
    "qset.getQuestion(2)"
   ]
  },
  {
   "cell_type": "code",
   "execution_count": 5,
   "id": "2cf95a8a",
   "metadata": {},
   "outputs": [],
   "source": [
    "#Scratch Pad"
   ]
  },
  {
   "cell_type": "code",
   "execution_count": 6,
   "id": "e1dd2be6",
   "metadata": {},
   "outputs": [
    {
     "data": {
      "application/vnd.jupyter.widget-view+json": {
       "model_id": "62918bf3250f489d8bd2c89d2135ceea",
       "version_major": 2,
       "version_minor": 0
      },
      "text/plain": [
       "VBox(children=(VBox(children=(HTML(value='<p>Read the file mask-use-by-county.csv from the folder mask-use-by-…"
      ]
     },
     "metadata": {},
     "output_type": "display_data"
    }
   ],
   "source": [
    "qset.getQuestion(3)"
   ]
  },
  {
   "cell_type": "code",
   "execution_count": 7,
   "id": "bd01a3ca",
   "metadata": {},
   "outputs": [],
   "source": [
    "#Scratch Pad"
   ]
  },
  {
   "cell_type": "code",
   "execution_count": 8,
   "id": "d70c31e7",
   "metadata": {},
   "outputs": [
    {
     "data": {
      "application/vnd.jupyter.widget-view+json": {
       "model_id": "c38670495e994a189631318788e10e73",
       "version_major": 2,
       "version_minor": 0
      },
      "text/plain": [
       "VBox(children=(VBox(children=(HTML(value='<p>The largedatasets folder contains the folder vaccine_data_oh_coun…"
      ]
     },
     "metadata": {},
     "output_type": "display_data"
    }
   ],
   "source": [
    "qset.getQuestion(4)"
   ]
  },
  {
   "cell_type": "code",
   "execution_count": 9,
   "id": "83187679",
   "metadata": {},
   "outputs": [],
   "source": [
    "#Scratch Pad"
   ]
  },
  {
   "cell_type": "code",
   "execution_count": 10,
   "id": "25f39ea6",
   "metadata": {},
   "outputs": [
    {
     "data": {
      "application/vnd.jupyter.widget-view+json": {
       "model_id": "523e4f3e600a456fa3aa91057f11cced",
       "version_major": 2,
       "version_minor": 0
      },
      "text/plain": [
       "VBox(children=(VBox(children=(HTML(value='<p>Similar to the previous question create the countyVaccinationStat…"
      ]
     },
     "metadata": {},
     "output_type": "display_data"
    }
   ],
   "source": [
    "qset.getQuestion(5)"
   ]
  },
  {
   "cell_type": "code",
   "execution_count": 11,
   "id": "d0a66185",
   "metadata": {},
   "outputs": [],
   "source": [
    "#Scratch Pad"
   ]
  },
  {
   "cell_type": "code",
   "execution_count": 12,
   "id": "b6a9abae",
   "metadata": {},
   "outputs": [
    {
     "data": {
      "application/vnd.jupyter.widget-view+json": {
       "model_id": "bd70a54c8deb480cb4b5de0f6cadb0f0",
       "version_major": 2,
       "version_minor": 0
      },
      "text/plain": [
       "VBox(children=(HBox(children=(Button(button_style='info', description='Save', style=ButtonStyle()), Button(but…"
      ]
     },
     "metadata": {},
     "output_type": "display_data"
    }
   ],
   "source": [
    "qset.showSubmitSection()"
   ]
  }
 ],
 "metadata": {
  "kernelspec": {
   "display_name": "Python 3 (ipykernel)",
   "language": "python",
   "name": "python3"
  },
  "language_info": {
   "codemirror_mode": {
    "name": "ipython",
    "version": 3
   },
   "file_extension": ".py",
   "mimetype": "text/x-python",
   "name": "python",
   "nbconvert_exporter": "python",
   "pygments_lexer": "ipython3",
   "version": "3.10.4"
  }
 },
 "nbformat": 4,
 "nbformat_minor": 5
}
