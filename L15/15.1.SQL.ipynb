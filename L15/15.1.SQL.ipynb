{
 "cells": [
  {
   "cell_type": "markdown",
   "id": "727dc8a4-df51-42b7-8ffe-73220b916d88",
   "metadata": {
    "tags": []
   },
   "source": [
    "# Structured Query Language (SQL)"
   ]
  },
  {
   "cell_type": "markdown",
   "id": "113fed86-5baf-4ecb-860d-993e1b39d4ce",
   "metadata": {},
   "source": [
    "We now know that DBMS acts as an interface between us and the database and helps to convert our request so that the database can understand it. But how do we talk to the DBMS. We use a special language called **SQL**. \n",
    "\n",
    ">**Structured Query Language (SQL) is a programming language** designed to **get information out of and put it into a relational database**.\n",
    "\n",
    "![sql_funny](images/sql_funny.png)"
   ]
  },
  {
   "cell_type": "markdown",
   "id": "db70fc72-93fd-474f-9a5f-4102073ee2b6",
   "metadata": {},
   "source": [
    "Our two databases and the corresponding tables are shown below. You can select the database and tables to get an idea about the data types as well as the data content in each tables. "
   ]
  },
  {
   "cell_type": "code",
   "execution_count": 10,
   "id": "2e93fbab-8b61-4451-8c7b-47cb9f73103f",
   "metadata": {},
   "outputs": [
    {
     "data": {
      "application/vnd.jupyter.widget-view+json": {
       "model_id": "7d7ad66b1c434bb4a189708b6ce2b69b",
       "version_major": 2,
       "version_minor": 0
      },
      "text/plain": [
       "VBox(children=(HBox(children=(Output(layout=Layout(max_width='30%')), VBox(children=(Dropdown(description='Dat…"
      ]
     },
     "execution_count": 10,
     "metadata": {},
     "output_type": "execute_result"
    }
   ],
   "source": [
    "import displaydatabases\n",
    "from questiondisplay import QueryWindow\n",
    "disp = displaydatabases.Display()\n",
    "disp.displayDatabases"
   ]
  },
  {
   "cell_type": "markdown",
   "id": "5b579473-fd54-4286-a5c5-d5a121618445",
   "metadata": {},
   "source": [
    "## Talking to a Database using SQL"
   ]
  },
  {
   "cell_type": "markdown",
   "id": "e749a6ae-67c3-4563-b6de-74397d7e8ccd",
   "metadata": {},
   "source": [
    "### 1. Selecting records from one or more tables in a database"
   ]
  },
  {
   "cell_type": "markdown",
   "id": "d9b6d055-0bd1-44b6-84b6-25308524ca06",
   "metadata": {},
   "source": [
    ">**Select statement** is used to **retrieve data from a Database** \n",
    "\n",
    "The general **syntax** for **select statement** is \n",
    "\n",
    "```mysql\n",
    "select column1,column2..columnN from table_name\n",
    "```\n",
    "\n",
    "Where column1, column2 are the columns that you want to select from the table (with name table_name)"
   ]
  },
  {
   "cell_type": "markdown",
   "id": "dc3d6108-3cb3-442f-aba4-187a136da99b",
   "metadata": {},
   "source": [
    "#### 1.1 Select All Columns from a Table"
   ]
  },
  {
   "cell_type": "markdown",
   "id": "db3a5458-d319-479b-9f08-f2917a25540a",
   "metadata": {},
   "source": [
    "The syntax for selecting all columns from a table is\n",
    "\n",
    "```mysql\n",
    "select * from table_name\n",
    "```\n",
    "The <b>*</b> symbol indicates that we would want all the columns from the table. \n",
    "\n",
    "Let's look at a concrete example. "
   ]
  },
  {
   "cell_type": "markdown",
   "id": "25f6f3c6-8c56-4a8f-a308-ca4cdb7199cc",
   "metadata": {},
   "source": [
    "![select(*) from](images/SELECT_STAR.png) \n",
    "\n",
    "We have a table BigCats which contains five records (rows) and has four columns. The query\n",
    "```mysql\n",
    "select * from BigCats\n",
    "```\n",
    "will retrieve all the rows and columns from the BigCats table\n",
    "\n",
    "Now you can try out exercises based on the select * query below"
   ]
  },
  {
   "cell_type": "markdown",
   "id": "10a55e6b-bd34-49b5-9a66-41cf63f24729",
   "metadata": {},
   "source": [
    "**1. Select all columns from actor table**"
   ]
  },
  {
   "cell_type": "code",
   "execution_count": 11,
   "id": "6de1b493-ca77-47de-abe1-9c6284fe6b2a",
   "metadata": {},
   "outputs": [
    {
     "data": {
      "application/vnd.jupyter.widget-view+json": {
       "model_id": "f6cce1333bc84331a539e086b49c35f1",
       "version_major": 2,
       "version_minor": 0
      },
      "text/plain": [
       "VBox(children=(HBox(children=(Output(), Textarea(value='', placeholder='Type your Query here'), Button(descrip…"
      ]
     },
     "execution_count": 11,
     "metadata": {},
     "output_type": "execute_result"
    }
   ],
   "source": [
    "QueryWindow(1).display()"
   ]
  },
  {
   "cell_type": "markdown",
   "id": "249b3dd2-3cef-4949-951c-7aec58bdce90",
   "metadata": {},
   "source": [
    "**2. Select all columns from staff table**"
   ]
  },
  {
   "cell_type": "code",
   "execution_count": 12,
   "id": "ffc9c99c-83c2-4163-a9ad-d4ea0bbfcb4b",
   "metadata": {},
   "outputs": [
    {
     "data": {
      "application/vnd.jupyter.widget-view+json": {
       "model_id": "97ded93e16d24dafb0581575322fbad7",
       "version_major": 2,
       "version_minor": 0
      },
      "text/plain": [
       "VBox(children=(HBox(children=(Output(), Textarea(value='', placeholder='Type your Query here'), Button(descrip…"
      ]
     },
     "execution_count": 12,
     "metadata": {},
     "output_type": "execute_result"
    }
   ],
   "source": [
    "QueryWindow(2).display()"
   ]
  },
  {
   "cell_type": "markdown",
   "id": "0bf5c953-f04f-4120-9b03-4b9712c95bb8",
   "metadata": {
    "tags": []
   },
   "source": [
    "#### 1.2 Select subset of columns from a table"
   ]
  },
  {
   "cell_type": "markdown",
   "id": "fe4e5db4-687f-43a3-979c-5f63f7b1bfa2",
   "metadata": {},
   "source": [
    "The syntax for selecting subset of columns from a table is\n",
    "\n",
    "```mysql\n",
    "select column1,column2...columnN from table_name\n",
    "```\n",
    "Let's look at a concrete example."
   ]
  },
  {
   "cell_type": "markdown",
   "id": "07a8f733-200a-4584-86cc-6eb69a9509d5",
   "metadata": {},
   "source": [
    "![select COLUMN from](images/SELECT_COLUMN.png) \n",
    "\n",
    "The query\n",
    "```mysql\n",
    "select name from BigCats\n",
    "```\n",
    "will retrieve the single column 'name' and the 5 records associated with it.\n",
    "\n",
    "Try out more examples as given below"
   ]
  },
  {
   "cell_type": "markdown",
   "id": "005d792f-f94a-4b0c-94b6-cf44e1d20849",
   "metadata": {},
   "source": [
    "**3. Select staff_id,first_name and last_name from staff table**"
   ]
  },
  {
   "cell_type": "code",
   "execution_count": 13,
   "id": "c32550ce-c3d1-4af9-8dbe-1f2d3e01ee29",
   "metadata": {},
   "outputs": [
    {
     "data": {
      "application/vnd.jupyter.widget-view+json": {
       "model_id": "9399873a84b243889fbffbdb8298f903",
       "version_major": 2,
       "version_minor": 0
      },
      "text/plain": [
       "VBox(children=(HBox(children=(Output(), Textarea(value='', placeholder='Type your Query here'), Button(descrip…"
      ]
     },
     "execution_count": 13,
     "metadata": {},
     "output_type": "execute_result"
    }
   ],
   "source": [
    "QueryWindow(3).display()"
   ]
  },
  {
   "cell_type": "markdown",
   "id": "c91951ce-2b95-42fd-9c7c-02dcde9e131f",
   "metadata": {},
   "source": [
    "**4. Select first_name and last_name from actor table**"
   ]
  },
  {
   "cell_type": "code",
   "execution_count": 14,
   "id": "a3c54381-63d8-4585-aa6f-3150b2d657fa",
   "metadata": {},
   "outputs": [
    {
     "data": {
      "application/vnd.jupyter.widget-view+json": {
       "model_id": "7ad7aae8eaf146b4a684316722b57693",
       "version_major": 2,
       "version_minor": 0
      },
      "text/plain": [
       "VBox(children=(HBox(children=(Output(), Textarea(value='', placeholder='Type your Query here'), Button(descrip…"
      ]
     },
     "execution_count": 14,
     "metadata": {},
     "output_type": "execute_result"
    }
   ],
   "source": [
    "QueryWindow(4).display()"
   ]
  },
  {
   "cell_type": "markdown",
   "id": "b184abb7-4815-4ac2-94de-80aa88d2080c",
   "metadata": {
    "tags": []
   },
   "source": [
    "#### 1.3 Select distinct values from a column"
   ]
  },
  {
   "cell_type": "markdown",
   "id": "a64fd638-26f3-43ef-88c2-18a47b296b1e",
   "metadata": {},
   "source": [
    "The **syntax** for **select distinct statement** is \n",
    "\n",
    "```mysql\n",
    "select distinct column1,column2..columnN from table_name\n",
    "```\n",
    "\n",
    "Where column1, column2, columnN are the columns that you want to select from the table (with name table_name) and only distinct values for column1 will be selected\n",
    "\n",
    "Let's see a concrete example."
   ]
  },
  {
   "cell_type": "markdown",
   "id": "03daa534-c6a4-4568-89fc-a361a3407405",
   "metadata": {},
   "source": [
    "![select distinct from](images/distinct.png) \n",
    "\n",
    "The query\n",
    "```mysql\n",
    "select distinct state from Salary\n",
    "```\n",
    "will retrieve the unique states from the state column\n",
    "\n",
    "Try out more examples given below"
   ]
  },
  {
   "cell_type": "markdown",
   "id": "379d1952-0f38-4dff-b33b-bb7bf0d32ea2",
   "metadata": {},
   "source": [
    "**5. Select the unique set of cities from employees table**"
   ]
  },
  {
   "cell_type": "code",
   "execution_count": 15,
   "id": "6e89cdc7-b11c-446f-91bb-76e42682e2fe",
   "metadata": {},
   "outputs": [
    {
     "data": {
      "application/vnd.jupyter.widget-view+json": {
       "model_id": "46f2d5dfc3e6467e97c6256adefbaa0b",
       "version_major": 2,
       "version_minor": 0
      },
      "text/plain": [
       "VBox(children=(HBox(children=(Output(), Textarea(value='', placeholder='Type your Query here'), Button(descrip…"
      ]
     },
     "execution_count": 15,
     "metadata": {},
     "output_type": "execute_result"
    }
   ],
   "source": [
    "QueryWindow(5).display()"
   ]
  },
  {
   "cell_type": "markdown",
   "id": "519216d8-7177-401c-b4c6-e581a6bbf35e",
   "metadata": {},
   "source": [
    "### 2. Filter Records with where clause"
   ]
  },
  {
   "cell_type": "markdown",
   "id": "ffd6ab78-a96d-46bf-b9b1-1435ac6fbfc6",
   "metadata": {},
   "source": [
    "The **where clause** is used to extract records that meets a specified condition. It is one of the most powerful feature of an SQL query.\n",
    "\n",
    "The syntax for where clause is \n",
    "\n",
    "```mysql\n",
    "SELECT column1, column2, ..columnN\n",
    "FROM table_name\n",
    "WHERE condition;\n",
    "```\n",
    "\n",
    "Let's look at some concrete examples"
   ]
  },
  {
   "cell_type": "markdown",
   "id": "d9df2c5d-7777-4dc5-8d0b-551d064e6b59",
   "metadata": {},
   "source": [
    "![where I](images/whereI.png) \n",
    "\n",
    "The query\n",
    "```mysql\n",
    "select * from Salary where salary>200000\n",
    "```\n",
    "will retrieve all rows and columns (since we are using \\*) that matches the criteria that salary should be greater than 200000 (which is 2 rows)"
   ]
  },
  {
   "cell_type": "markdown",
   "id": "cc8fc876-bf6d-4c9f-b2f2-e0bf298ddcbe",
   "metadata": {},
   "source": [
    "Let's look at another example"
   ]
  },
  {
   "cell_type": "markdown",
   "id": "8ed31814-0f79-47bc-a51d-b990cb3079fb",
   "metadata": {},
   "source": [
    "![where I](images/whereII.png) \n",
    "\n",
    "The query\n",
    "```mysql\n",
    "select * from Salary where Job_Title = 'Doctor'\n",
    "```\n",
    "will retrieve all rows and columns (since we are using \\*) that matches the criteria that Job_Title is 'Doctor'. \n",
    "\n",
    "**Note** since Job_Title is of data type Text, we use single quotes while querying. Since salary is numercical we don't need quotes. \n",
    "\n",
    "Try out more examples as given below"
   ]
  },
  {
   "cell_type": "markdown",
   "id": "74385350-30c7-4e9a-8be6-295936c5f287",
   "metadata": {},
   "source": [
    "**6. From film table select films having length more than 100 minutes**"
   ]
  },
  {
   "cell_type": "code",
   "execution_count": 16,
   "id": "5e75cedb-c945-4beb-b358-2387ed7efabf",
   "metadata": {},
   "outputs": [
    {
     "data": {
      "application/vnd.jupyter.widget-view+json": {
       "model_id": "86ccddc34cc148db8a1feca37cb38d42",
       "version_major": 2,
       "version_minor": 0
      },
      "text/plain": [
       "VBox(children=(HBox(children=(Output(), Textarea(value='', placeholder='Type your Query here'), Button(descrip…"
      ]
     },
     "execution_count": 16,
     "metadata": {},
     "output_type": "execute_result"
    }
   ],
   "source": [
    "QueryWindow(6).display()"
   ]
  },
  {
   "cell_type": "markdown",
   "id": "d75a9c77-023a-464e-810f-3770d3ba86f0",
   "metadata": {},
   "source": [
    "**7. Select all actors with first name JENNIFER FROM actor table**"
   ]
  },
  {
   "cell_type": "code",
   "execution_count": 17,
   "id": "1891958f-17c7-40d6-bf1c-bedff4fcac2f",
   "metadata": {},
   "outputs": [
    {
     "data": {
      "application/vnd.jupyter.widget-view+json": {
       "model_id": "7e05a8c7e0e741d4b73342089357b5ca",
       "version_major": 2,
       "version_minor": 0
      },
      "text/plain": [
       "VBox(children=(HBox(children=(Output(), Textarea(value='', placeholder='Type your Query here'), Button(descrip…"
      ]
     },
     "execution_count": 17,
     "metadata": {},
     "output_type": "execute_result"
    }
   ],
   "source": [
    "QueryWindow(7).display()"
   ]
  },
  {
   "cell_type": "markdown",
   "id": "dd0f0195-3709-4f0e-97d4-73f7454fb5b5",
   "metadata": {},
   "source": [
    "**8. Select all employees from the employees table who are from Calgary city**"
   ]
  },
  {
   "cell_type": "code",
   "execution_count": 18,
   "id": "3ea42faa-4dcb-4bb6-ae41-0be5337c3582",
   "metadata": {},
   "outputs": [
    {
     "data": {
      "application/vnd.jupyter.widget-view+json": {
       "model_id": "2d1acb5f587843ad8d2239af395f3353",
       "version_major": 2,
       "version_minor": 0
      },
      "text/plain": [
       "VBox(children=(HBox(children=(Output(), Textarea(value='', placeholder='Type your Query here'), Button(descrip…"
      ]
     },
     "execution_count": 18,
     "metadata": {},
     "output_type": "execute_result"
    }
   ],
   "source": [
    "QueryWindow(8).display()"
   ]
  },
  {
   "cell_type": "markdown",
   "id": "d3f27a46-beb1-41f6-b24b-f86f38329229",
   "metadata": {},
   "source": [
    "#### 2.1 AND, OR, NOT for filtering based on multiple conditions "
   ]
  },
  {
   "cell_type": "markdown",
   "id": "59b52f36-b0aa-4fed-8f4d-b1aa88509c13",
   "metadata": {},
   "source": [
    "The AND and OR operators are used for filtering records based on more than one condition. "
   ]
  },
  {
   "cell_type": "markdown",
   "id": "f1bd3086-71d5-498f-bd14-a188ffdf2390",
   "metadata": {},
   "source": [
    "The AND operator displays a record if **all the conditions separated by AND are True**\n",
    "\n",
    "The **syntax for AND operator** is \n",
    "\n",
    "```mysql\n",
    "SELECT column1, column2, ..columnN\n",
    "FROM table_name\n",
    "WHERE condition1 AND condition2 AND condition3...\n",
    "```\n",
    "\n",
    "The OR operator displays a record if **any of the conditions separated by OR is True**.\n",
    "\n",
    "The **syntax for OR operator** is \n",
    "\n",
    "```mysql\n",
    "SELECT column1, column2, ..columnN\n",
    "FROM table_name\n",
    "WHERE condition1 OR condition2 OR condition3...\n",
    "```\n",
    "\n",
    "The NOT operator displays a record if the **condition(s) is NOT TRUE**.\n",
    "\n",
    "The **syntax for NOT operator** is \n",
    "\n",
    "```mysql\n",
    "SELECT column1, column2, ..columnN\n",
    "FROM table_name\n",
    "WHERE NOT condition;\n",
    "```\n",
    "Lets look at some examples"
   ]
  },
  {
   "cell_type": "markdown",
   "id": "77fce3fc-610f-4c34-902d-9b65fe3e97b7",
   "metadata": {},
   "source": [
    "![AND](images/AND.png) \n",
    "\n",
    "The query\n",
    "```mysql\n",
    "select * from Salary where state = 'New York' and salary>200000\n",
    "```\n",
    "will retrieve all rows and columns (since we are using \\*) that matches the criteria that state is 'New York' (again this is Text) and has a salary greater than 200000 (we have only one such record)"
   ]
  },
  {
   "cell_type": "markdown",
   "id": "5f4550a9-6ca7-4602-8dc4-b8794b166a52",
   "metadata": {},
   "source": [
    "![OR](images/OR.png) \n",
    "\n",
    "In this example we are using the OR operator\n",
    "\n",
    "The query\n",
    "```mysql\n",
    "select * from Salary where state = 'New York' or state = 'Ohio'\n",
    "```\n",
    "will retrieve all rows and columns that matches the criteria that state is 'New York'  **OR** state is 'Ohio'. We have three such records (2 from New York and 1 from Ohio)"
   ]
  },
  {
   "cell_type": "markdown",
   "id": "7883a8c4-1315-44f2-aacf-e8ab7757b147",
   "metadata": {},
   "source": [
    "![NOT](images/NOT.png) \n",
    "\n",
    "In this example we are using the NOT operator\n",
    "\n",
    "The query\n",
    "```mysql\n",
    "select * from Salary where not Job_Title = 'Doctor'\n",
    "```\n",
    "will retrieve all rows and columns that matches the criteria that Job_Title is not 'Doctor'. We have three such records with Job_Title not as Doctor.\n",
    "\n",
    "Try out the examples given below"
   ]
  },
  {
   "cell_type": "markdown",
   "id": "1a91317d-337c-45b7-97e0-768d166ab3c1",
   "metadata": {},
   "source": [
    "**9. Retrieve employees with title as Sales Manager *and* city as Calgary**"
   ]
  },
  {
   "cell_type": "code",
   "execution_count": 19,
   "id": "b26712e4-54cb-4102-bd66-ddde9a72901c",
   "metadata": {},
   "outputs": [
    {
     "data": {
      "application/vnd.jupyter.widget-view+json": {
       "model_id": "d9fc3e49460c47288f35b61afd017b7e",
       "version_major": 2,
       "version_minor": 0
      },
      "text/plain": [
       "VBox(children=(HBox(children=(Output(), Textarea(value='', placeholder='Type your Query here'), Button(descrip…"
      ]
     },
     "execution_count": 19,
     "metadata": {},
     "output_type": "execute_result"
    }
   ],
   "source": [
    "QueryWindow(9).display()"
   ]
  },
  {
   "cell_type": "markdown",
   "id": "514ecaaf-5487-4b53-8651-66f4f1158af5",
   "metadata": {},
   "source": [
    "**10. Retrieve all films from film table with length greater than 100 minutes and rating equals to PG**"
   ]
  },
  {
   "cell_type": "code",
   "execution_count": 20,
   "id": "957d61cb-2473-4ac1-9d4f-389913fdb9b0",
   "metadata": {},
   "outputs": [
    {
     "data": {
      "application/vnd.jupyter.widget-view+json": {
       "model_id": "248a51e85b4c4406be98f4483d8febfa",
       "version_major": 2,
       "version_minor": 0
      },
      "text/plain": [
       "VBox(children=(HBox(children=(Output(), Textarea(value='', placeholder='Type your Query here'), Button(descrip…"
      ]
     },
     "execution_count": 20,
     "metadata": {},
     "output_type": "execute_result"
    }
   ],
   "source": [
    "QueryWindow(10).display()"
   ]
  },
  {
   "cell_type": "markdown",
   "id": "70bc4620-5e8a-4207-b95a-b2314f61d248",
   "metadata": {},
   "source": [
    "**11. Retrieve all films from film table with length greater than 100 minutes *or* rating equals to PG**"
   ]
  },
  {
   "cell_type": "code",
   "execution_count": 21,
   "id": "50053208-5f0a-45bd-af06-51d0bda4f557",
   "metadata": {},
   "outputs": [
    {
     "data": {
      "application/vnd.jupyter.widget-view+json": {
       "model_id": "a4f0e76aa6f74750827cb7e927f464c7",
       "version_major": 2,
       "version_minor": 0
      },
      "text/plain": [
       "VBox(children=(HBox(children=(Output(), Textarea(value='', placeholder='Type your Query here'), Button(descrip…"
      ]
     },
     "execution_count": 21,
     "metadata": {},
     "output_type": "execute_result"
    }
   ],
   "source": [
    "QueryWindow(11).display()"
   ]
  },
  {
   "cell_type": "markdown",
   "id": "88bb4a8c-cae7-43f3-96e7-9924dae43676",
   "metadata": {},
   "source": [
    "**12. Select all invoices from invoices table where BillingCountry is either Canada and USA**"
   ]
  },
  {
   "cell_type": "code",
   "execution_count": 22,
   "id": "30bd5f8b-23e6-4f5d-817e-4e3903f41e1b",
   "metadata": {},
   "outputs": [
    {
     "data": {
      "application/vnd.jupyter.widget-view+json": {
       "model_id": "875c56a2a9e6478ebbb316f928f657cc",
       "version_major": 2,
       "version_minor": 0
      },
      "text/plain": [
       "VBox(children=(HBox(children=(Output(), Textarea(value='', placeholder='Type your Query here'), Button(descrip…"
      ]
     },
     "execution_count": 22,
     "metadata": {},
     "output_type": "execute_result"
    }
   ],
   "source": [
    "QueryWindow(12).display()"
   ]
  },
  {
   "cell_type": "markdown",
   "id": "9307151e-5aa0-4a16-b1ad-bcb7ac19f6e6",
   "metadata": {},
   "source": [
    "**13. Select all invoices from invoices table where Total is greater than 1 and less than 5 or total greater than 10 and less than 100**"
   ]
  },
  {
   "cell_type": "code",
   "execution_count": 23,
   "id": "108568d9-521b-4065-88ac-039630f0c623",
   "metadata": {},
   "outputs": [
    {
     "data": {
      "application/vnd.jupyter.widget-view+json": {
       "model_id": "6562b40de0ab4fa198b0e612bdcbdbcc",
       "version_major": 2,
       "version_minor": 0
      },
      "text/plain": [
       "VBox(children=(HBox(children=(Output(), Textarea(value='', placeholder='Type your Query here'), Button(descrip…"
      ]
     },
     "execution_count": 23,
     "metadata": {},
     "output_type": "execute_result"
    }
   ],
   "source": [
    "QueryWindow(13).display()"
   ]
  },
  {
   "cell_type": "markdown",
   "id": "12444103-7ee4-4dd8-a61c-b9d81018bd3a",
   "metadata": {},
   "source": [
    "**14. Select all invoices from invoices table that have BillingCountry other than Canada**"
   ]
  },
  {
   "cell_type": "code",
   "execution_count": 24,
   "id": "2f26cb42-8bcc-469a-9478-83ea0a6836ef",
   "metadata": {},
   "outputs": [
    {
     "data": {
      "application/vnd.jupyter.widget-view+json": {
       "model_id": "efd307c4350c45c1b77d2d13c1c8c350",
       "version_major": 2,
       "version_minor": 0
      },
      "text/plain": [
       "VBox(children=(HBox(children=(Output(), Textarea(value='', placeholder='Type your Query here'), Button(descrip…"
      ]
     },
     "execution_count": 24,
     "metadata": {},
     "output_type": "execute_result"
    }
   ],
   "source": [
    "QueryWindow(14).display()"
   ]
  },
  {
   "cell_type": "markdown",
   "id": "d0c7b44e-df34-4d1b-b97e-80b818bc66cf",
   "metadata": {},
   "source": [
    "### 3. Order records using Order By"
   ]
  },
  {
   "cell_type": "markdown",
   "id": "62739580-2750-479e-a52c-91b518363ca5",
   "metadata": {},
   "source": [
    "Order by keyword is used to **sort query results by ascending or descending**\n",
    "\n",
    "The syntax for Order by is \n",
    "\n",
    "```mysql\n",
    "SELECT column1, column2, ..columnN\n",
    "FROM table_name\n",
    "ORDER BY column1, column2, ... ASC|DESC;\n",
    "```\n",
    "\n",
    "Lets look at an example"
   ]
  },
  {
   "cell_type": "markdown",
   "id": "b37f39da-35fc-4151-9a33-159ee5fc3022",
   "metadata": {},
   "source": [
    "![DESC](images/DESC.png) \n",
    "\n",
    "The query\n",
    "```mysql\n",
    "select * from Salary order by salary desc\n",
    "```\n",
    "will retrieve all rows and columns and order them by salary in decreasing order (highest first).\n",
    "\n",
    "If you want to order the table by salary in ascending order (lowest first), the query will be\n",
    "\n",
    "```mysql\n",
    "select * from Salary order by salary asc\n",
    "```\n",
    "\n",
    "or you can even write\n",
    "\n",
    "```mysql\n",
    "select * from Salary order by salary\n",
    "```\n",
    "\n",
    "As by default the ordering will be in ascending.\n",
    "\n",
    "Try out the examples given below"
   ]
  },
  {
   "cell_type": "markdown",
   "id": "df5aa140-4a3d-4927-a5ae-d381f71c520e",
   "metadata": {},
   "source": [
    "**15. Select first_name and last_name from actor table and sort by actor first_name ascending**"
   ]
  },
  {
   "cell_type": "code",
   "execution_count": 25,
   "id": "e7715b60-35b4-4abf-b334-81d862298050",
   "metadata": {},
   "outputs": [
    {
     "data": {
      "application/vnd.jupyter.widget-view+json": {
       "model_id": "727b7f159c63435f8318123b4a94ff4c",
       "version_major": 2,
       "version_minor": 0
      },
      "text/plain": [
       "VBox(children=(HBox(children=(Output(), Textarea(value='', placeholder='Type your Query here'), Button(descrip…"
      ]
     },
     "execution_count": 25,
     "metadata": {},
     "output_type": "execute_result"
    }
   ],
   "source": [
    "QueryWindow(15).display()"
   ]
  },
  {
   "cell_type": "markdown",
   "id": "a0669055-bdb5-483c-8f86-9d2afecdf635",
   "metadata": {},
   "source": [
    "**16. Sort payment table by amount in descending order**"
   ]
  },
  {
   "cell_type": "code",
   "execution_count": 26,
   "id": "fc5ec389-c447-491b-8e03-7b486d98a26c",
   "metadata": {},
   "outputs": [
    {
     "data": {
      "application/vnd.jupyter.widget-view+json": {
       "model_id": "68736abbd458444d9a5eccb582a0b978",
       "version_major": 2,
       "version_minor": 0
      },
      "text/plain": [
       "VBox(children=(HBox(children=(Output(), Textarea(value='', placeholder='Type your Query here'), Button(descrip…"
      ]
     },
     "execution_count": 26,
     "metadata": {},
     "output_type": "execute_result"
    }
   ],
   "source": [
    "QueryWindow(16).display()"
   ]
  },
  {
   "cell_type": "markdown",
   "id": "d2148b4c-56d1-48aa-886e-b3b9946562a8",
   "metadata": {},
   "source": [
    "**17. Select first_name and last_name from actor table and sort by actor first_name ascending and actor last_name descending**"
   ]
  },
  {
   "cell_type": "code",
   "execution_count": 27,
   "id": "dc78d14b-7378-4a7b-9588-3b1b90eb7329",
   "metadata": {},
   "outputs": [
    {
     "data": {
      "application/vnd.jupyter.widget-view+json": {
       "model_id": "c485291fddf3436b936182ec1ddb0719",
       "version_major": 2,
       "version_minor": 0
      },
      "text/plain": [
       "VBox(children=(HBox(children=(Output(), Textarea(value='', placeholder='Type your Query here'), Button(descrip…"
      ]
     },
     "execution_count": 27,
     "metadata": {},
     "output_type": "execute_result"
    }
   ],
   "source": [
    "QueryWindow(17).display()"
   ]
  },
  {
   "cell_type": "markdown",
   "id": "ed308a3c-72f1-4585-83b2-f7487c92fbc8",
   "metadata": {},
   "source": [
    "### 4. Finding Minimum, Maximum, Average, Sum and Count for Columns"
   ]
  },
  {
   "cell_type": "markdown",
   "id": "7f2b8c03-bcc5-4cf9-9f1e-ec0908329f46",
   "metadata": {},
   "source": [
    "Aggregate functions **min(), max(), avg(), sum(), and count()** can be used to find the Minimum, Maximum, Average, Sum and Count for a selected column\n",
    "\n",
    "Syntax for **min()**\n",
    "\n",
    "```mysql\n",
    "SELECT MIN(column_name) FROM table_name\n",
    "```\n",
    "\n",
    "Syntax for **max()**\n",
    "\n",
    "```mysql\n",
    "SELECT MAX(column_name) FROM table_name\n",
    "```\n",
    "\n",
    "Syntax for **avg()**\n",
    "\n",
    "```mysql\n",
    "SELECT AVG(column_name) FROM table_name\n",
    "```\n",
    "\n",
    "Syntax for **sum()**\n",
    "\n",
    "```mysql\n",
    "SELECT sum(column_name) FROM table_name\n",
    "```\n",
    "\n",
    "Syntax for **count()**\n",
    "\n",
    "```mysql\n",
    "SELECT count(column_name) FROM table_name\n",
    "```\n",
    "\n",
    "Let's look at some concrete examples"
   ]
  },
  {
   "cell_type": "markdown",
   "id": "8689f59d-f95a-4b0a-b328-309447c2d59b",
   "metadata": {},
   "source": [
    "![count](images/count.png) \n",
    "\n",
    "count(\\*) returns the number of rows returned by the select statement. In this example the query\n",
    "\n",
    "```mysql\n",
    "SELECT count(*) FROM Salary where salary>200000\n",
    "```\n",
    "\n",
    "will return a column with name count(\\*) with a single row having value of 2 (because there are only 2 records with salary greater than 200000). If the query was\n",
    "\n",
    "```mysql\n",
    "SELECT count(*) FROM Salary where state = 'Ohio'\n",
    "```\n",
    "\n",
    "the value will be 1\n",
    "\n",
    "Now let's look at an example for min() function"
   ]
  },
  {
   "cell_type": "markdown",
   "id": "28defa76-7af6-4d03-96ab-127bbe868e0b",
   "metadata": {},
   "source": [
    "![min](images/min.png) \n",
    "\n",
    "This query\n",
    "\n",
    "```mysql\n",
    "SELECT min(salary) FROM Salary\n",
    "```\n",
    "\n",
    "Returns the minimum value from the salary column in the Salary table (which is 110000)."
   ]
  },
  {
   "cell_type": "markdown",
   "id": "36b6642d-45dd-46dc-818f-e6e8892c1e01",
   "metadata": {},
   "source": [
    "![max](images/max.png) \n",
    "\n",
    "Similarly the max() function returns the maximum value for the particular column (salary) from the table (Salary) "
   ]
  },
  {
   "cell_type": "markdown",
   "id": "b6f944a3-2ce3-45ad-8617-5499f8080b07",
   "metadata": {},
   "source": [
    "![avg](images/avg.png) \n",
    "\n",
    "As the name implies the avg() function returns the average of the values for the particular column. For example the query\n",
    "\n",
    "```mysql\n",
    "SELECT avg(salary) FROM Salary where Job_Title = 'Computer Scientist'\n",
    "```\n",
    "\n",
    "returns the average salary where the Job_Title is 'Computer Scientist'"
   ]
  },
  {
   "cell_type": "markdown",
   "id": "bb982147-8548-463c-9b99-0d20462774e0",
   "metadata": {},
   "source": [
    "![sum](images/sum.png) \n",
    "\n",
    "The sum() function returns the sum of the values in the particular column. The query\n",
    "\n",
    "```mysql\n",
    "SELECT sum(salary) FROM Salary where Job_Title = 'Doctor'\n",
    "```\n",
    "returns the sum of values in the salary column where the Job_Title is 'Doctor'\n",
    "\n",
    "Try out the examples to get a better understanding of the aggregate functions"
   ]
  },
  {
   "cell_type": "markdown",
   "id": "9187abd0-0939-4d40-8a0d-1e3a714d9391",
   "metadata": {},
   "source": [
    "**18. Select minimum amount from payment table.**"
   ]
  },
  {
   "cell_type": "code",
   "execution_count": 28,
   "id": "d19d2452-8c2d-4ce3-a9e3-19f55f48cabe",
   "metadata": {},
   "outputs": [
    {
     "data": {
      "application/vnd.jupyter.widget-view+json": {
       "model_id": "9995d4c31d9744e589dd5f661de6c3e9",
       "version_major": 2,
       "version_minor": 0
      },
      "text/plain": [
       "VBox(children=(HBox(children=(Output(), Textarea(value='', placeholder='Type your Query here'), Button(descrip…"
      ]
     },
     "execution_count": 28,
     "metadata": {},
     "output_type": "execute_result"
    }
   ],
   "source": [
    "QueryWindow(18).display()"
   ]
  },
  {
   "cell_type": "markdown",
   "id": "106af959-e800-4979-a8c4-9f5c25b45510",
   "metadata": {},
   "source": [
    "**19. Select maximum amount from payment table.**"
   ]
  },
  {
   "cell_type": "code",
   "execution_count": 29,
   "id": "3b98f07c-bfd1-4da7-b894-64d56485b8c7",
   "metadata": {},
   "outputs": [
    {
     "data": {
      "application/vnd.jupyter.widget-view+json": {
       "model_id": "f887c52bc4b042ebac5d851fe675e674",
       "version_major": 2,
       "version_minor": 0
      },
      "text/plain": [
       "VBox(children=(HBox(children=(Output(), Textarea(value='', placeholder='Type your Query here'), Button(descrip…"
      ]
     },
     "execution_count": 29,
     "metadata": {},
     "output_type": "execute_result"
    }
   ],
   "source": [
    "QueryWindow(19).display()"
   ]
  },
  {
   "cell_type": "markdown",
   "id": "3474a61a-fe5f-4c31-b164-7c7da2115671",
   "metadata": {},
   "source": [
    "**20. Select average amount from payment table.**"
   ]
  },
  {
   "cell_type": "code",
   "execution_count": 30,
   "id": "38637201-dc91-440b-83e6-9352ce99a19a",
   "metadata": {},
   "outputs": [
    {
     "data": {
      "application/vnd.jupyter.widget-view+json": {
       "model_id": "96043b01dc62417cb7b44c045921a392",
       "version_major": 2,
       "version_minor": 0
      },
      "text/plain": [
       "VBox(children=(HBox(children=(Output(), Textarea(value='', placeholder='Type your Query here'), Button(descrip…"
      ]
     },
     "execution_count": 30,
     "metadata": {},
     "output_type": "execute_result"
    }
   ],
   "source": [
    "QueryWindow(20).display()"
   ]
  },
  {
   "cell_type": "markdown",
   "id": "195aee0e-c5a3-4bc6-8fa0-926ea133f9b8",
   "metadata": {},
   "source": [
    "**21. Select total amount from payment table.**"
   ]
  },
  {
   "cell_type": "code",
   "execution_count": 31,
   "id": "ff7d4a68-c477-43fe-9e6d-592cec243fa8",
   "metadata": {},
   "outputs": [
    {
     "data": {
      "application/vnd.jupyter.widget-view+json": {
       "model_id": "ab004388405a446f9f1cfb1343e57c19",
       "version_major": 2,
       "version_minor": 0
      },
      "text/plain": [
       "VBox(children=(HBox(children=(Output(), Textarea(value='', placeholder='Type your Query here'), Button(descrip…"
      ]
     },
     "execution_count": 31,
     "metadata": {},
     "output_type": "execute_result"
    }
   ],
   "source": [
    "QueryWindow(21).display()"
   ]
  },
  {
   "cell_type": "markdown",
   "id": "61402c78-fde9-4a91-8fdb-6501fc2138f1",
   "metadata": {},
   "source": [
    "**22. Select how many records in payment table.**"
   ]
  },
  {
   "cell_type": "code",
   "execution_count": 32,
   "id": "c14d034f-f39c-4125-924d-ee1afe64837e",
   "metadata": {},
   "outputs": [
    {
     "data": {
      "application/vnd.jupyter.widget-view+json": {
       "model_id": "c8a0590eb16047da9034425c66fabfa7",
       "version_major": 2,
       "version_minor": 0
      },
      "text/plain": [
       "VBox(children=(HBox(children=(Output(), Textarea(value='', placeholder='Type your Query here'), Button(descrip…"
      ]
     },
     "execution_count": 32,
     "metadata": {},
     "output_type": "execute_result"
    }
   ],
   "source": [
    "QueryWindow(22).display()"
   ]
  },
  {
   "cell_type": "markdown",
   "id": "d3e50113-a639-4711-9b76-567d4dc56558",
   "metadata": {},
   "source": [
    "**23. Select grant total of Total from invoices where BillingCountry is Germany.**"
   ]
  },
  {
   "cell_type": "code",
   "execution_count": 33,
   "id": "2660fceb-7693-4e2d-a7c3-e45c4d5e689c",
   "metadata": {},
   "outputs": [
    {
     "data": {
      "application/vnd.jupyter.widget-view+json": {
       "model_id": "4be187063a46496b97751b774ab154f7",
       "version_major": 2,
       "version_minor": 0
      },
      "text/plain": [
       "VBox(children=(HBox(children=(Output(), Textarea(value='', placeholder='Type your Query here'), Button(descrip…"
      ]
     },
     "execution_count": 33,
     "metadata": {},
     "output_type": "execute_result"
    }
   ],
   "source": [
    "QueryWindow(23).display()"
   ]
  },
  {
   "cell_type": "markdown",
   "id": "648e2185-d6f1-4fc9-b4d8-3acfd066c37a",
   "metadata": {},
   "source": [
    "**24. Select total number of employees with a title General Manager from employees table**"
   ]
  },
  {
   "cell_type": "code",
   "execution_count": 34,
   "id": "b63cf809-d819-4640-9710-1fd402c1c54f",
   "metadata": {},
   "outputs": [
    {
     "data": {
      "application/vnd.jupyter.widget-view+json": {
       "model_id": "65fcd4fbc79a4eba8e4efe5df3b14328",
       "version_major": 2,
       "version_minor": 0
      },
      "text/plain": [
       "VBox(children=(HBox(children=(Output(), Textarea(value='', placeholder='Type your Query here'), Button(descrip…"
      ]
     },
     "execution_count": 34,
     "metadata": {},
     "output_type": "execute_result"
    }
   ],
   "source": [
    "QueryWindow(24).display()"
   ]
  },
  {
   "cell_type": "markdown",
   "id": "ffe1dc26-81e9-4ce9-9040-318cdd9c3786",
   "metadata": {},
   "source": [
    "**25. Select total number of employees with a Country Canada from employees table**"
   ]
  },
  {
   "cell_type": "code",
   "execution_count": 35,
   "id": "db5c4365-b671-4d35-ae3f-3b268191f8e2",
   "metadata": {},
   "outputs": [
    {
     "data": {
      "application/vnd.jupyter.widget-view+json": {
       "model_id": "cc3fe65933bf432a85f7f0f09ab129f6",
       "version_major": 2,
       "version_minor": 0
      },
      "text/plain": [
       "VBox(children=(HBox(children=(Output(), Textarea(value='', placeholder='Type your Query here'), Button(descrip…"
      ]
     },
     "execution_count": 35,
     "metadata": {},
     "output_type": "execute_result"
    }
   ],
   "source": [
    "QueryWindow(25).display()"
   ]
  },
  {
   "cell_type": "markdown",
   "id": "7dc78d61-36e0-45b1-b78b-fd7c06cf5315",
   "metadata": {},
   "source": [
    "### 5. Grouping Records together by Group By statement"
   ]
  },
  {
   "cell_type": "markdown",
   "id": "419a5e0b-6f32-4443-937d-a0c97d74aa69",
   "metadata": {},
   "source": [
    "The Group By statement is used to **arrange identical data into groups**. The group by clause follows the where clause (if it's present) and precedes the order by clause (if it's present). For example you want to aggregate the total number of invoices by Country, or you want to get the count of employees with different Title (how many General Manager, Sales Manager etc)\n",
    "\n",
    "The Group By statement is often used with aggregate functions (COUNT(), MAX(), MIN(), SUM(), AVG()) to group the result-set by one or more columns.\n",
    "\n",
    "The syntax for Group By statement\n",
    "\n",
    "```mysql\n",
    "SELECT column_name(s)\n",
    "FROM table_name\n",
    "WHERE condition\n",
    "GROUP BY column_name(s)\n",
    "ORDER BY column_name(s)\n",
    "```\n",
    "\n",
    "The where condition and order by are optional and depends up on the use-case.\n",
    "\n",
    "Let's look at some examples"
   ]
  },
  {
   "cell_type": "markdown",
   "id": "a990f9e1-07af-4fbb-9fdc-f2be9c6fe526",
   "metadata": {},
   "source": [
    "![groupcount](images/groupbycount.png) \n",
    "\n",
    "In this example we are grouping by the column State and then applying the aggregate function count()\n",
    "\n",
    "The query \n",
    "\n",
    "```mysql\n",
    "SELECT State,count(*) from Salary group by State\n",
    "```\n",
    "\n",
    "returns the count of each state in the table. You can think of count(\\*) as being applied to each set of states grouped together. We have four different states with two states having count 2 and 2 states having count of 1. \n",
    "\n",
    "**Point to Ponder**\n",
    "\n",
    "This will give just the state name and the count. What if we were able to Map the counts. Then we could see whether there are any spatial patterns. This is the power of spatial data. The ability to map gives you the flexibility to look at the data from a completely new perspective. We will look at how this is possible in the next chapter."
   ]
  },
  {
   "cell_type": "markdown",
   "id": "c5eeeea9-b589-4d80-83c0-7c80e5a8e8bc",
   "metadata": {},
   "source": [
    "![groupavg](images/groupbyavg.png) \n",
    "\n",
    "In this query\n",
    "\n",
    "```mysql\n",
    "SELECT Job_Title,avg(salary) from Salary group by Job_Title\n",
    "```\n",
    "we are calculating the average salary for each Job_Title. We have two Job_Title (that of Computer Scientist and Doctor)."
   ]
  },
  {
   "cell_type": "markdown",
   "id": "1b226a21-f1be-49f5-ba1a-24866c0e3082",
   "metadata": {},
   "source": [
    "![groupsum](images/groupbysum.png) \n",
    "\n",
    "This query\n",
    "\n",
    "```mysql\n",
    "SELECT Job_Title,sum(salary) from Salary group by Job_Title\n",
    "```\n",
    "\n",
    "is very similar to the avg() query, but here we are calculating the sum of salaries (which might not be a useful result in reality)."
   ]
  },
  {
   "cell_type": "markdown",
   "id": "b416514e-5e3e-4e81-8168-fbc24d3c50ba",
   "metadata": {},
   "source": [
    "![groupmax](images/groupbymax.png) \n",
    "\n",
    "By this query\n",
    "```mysql\n",
    "SELECT Job_Title,max(salary) from Salary group by Job_Title\n",
    "```\n",
    "we select the maximum salary for each Job_Title."
   ]
  },
  {
   "cell_type": "markdown",
   "id": "e3eccf69-b351-406a-ab0a-67ff05ef7854",
   "metadata": {},
   "source": [
    "![groupmin](images/groupbymin.png) \n",
    "\n",
    "and by this query\n",
    "\n",
    "```mysql\n",
    "SELECT Job_Title,min(salary) from Salary group by Job_Title\n",
    "```\n",
    "we select the minimum salary for each Job_Title.\n",
    "\n",
    "Now you can try out the queries given below "
   ]
  },
  {
   "cell_type": "markdown",
   "id": "8c82d4aa-111d-4b8f-82bb-ece48035861d",
   "metadata": {},
   "source": [
    "**26. Select sum Total of invoices for each BillingCountry**"
   ]
  },
  {
   "cell_type": "code",
   "execution_count": 36,
   "id": "dc444b50-e475-49e3-8ec5-eec255c8efe6",
   "metadata": {},
   "outputs": [
    {
     "data": {
      "application/vnd.jupyter.widget-view+json": {
       "model_id": "ccd184c617cf4b479507894c62ea872c",
       "version_major": 2,
       "version_minor": 0
      },
      "text/plain": [
       "VBox(children=(HBox(children=(Output(), Textarea(value='', placeholder='Type your Query here'), Button(descrip…"
      ]
     },
     "execution_count": 36,
     "metadata": {},
     "output_type": "execute_result"
    }
   ],
   "source": [
    "QueryWindow(26).display()"
   ]
  },
  {
   "cell_type": "markdown",
   "id": "9067ea88-1d67-4bbb-b59d-d129db4ec236",
   "metadata": {},
   "source": [
    "**27. Select number of invoices for each BillingCountry**"
   ]
  },
  {
   "cell_type": "code",
   "execution_count": 37,
   "id": "d72d8cb5-f9ac-4369-ad3c-a3c48a57b4cc",
   "metadata": {},
   "outputs": [
    {
     "data": {
      "application/vnd.jupyter.widget-view+json": {
       "model_id": "622b5cbeeee542faad663782ae3570c8",
       "version_major": 2,
       "version_minor": 0
      },
      "text/plain": [
       "VBox(children=(HBox(children=(Output(), Textarea(value='', placeholder='Type your Query here'), Button(descrip…"
      ]
     },
     "execution_count": 37,
     "metadata": {},
     "output_type": "execute_result"
    }
   ],
   "source": [
    "QueryWindow(27).display()"
   ]
  },
  {
   "cell_type": "markdown",
   "id": "98cf66f2-49ff-47c6-a617-5c0a95f5d6a6",
   "metadata": {},
   "source": [
    "**28. select average length of films from film table grouped on rating.**"
   ]
  },
  {
   "cell_type": "code",
   "execution_count": 38,
   "id": "e0f9eff7-defb-41c9-a86f-613f8ff888de",
   "metadata": {},
   "outputs": [
    {
     "data": {
      "application/vnd.jupyter.widget-view+json": {
       "model_id": "c7f41c4f81c34f3a84e9ef7155736e22",
       "version_major": 2,
       "version_minor": 0
      },
      "text/plain": [
       "VBox(children=(HBox(children=(Output(), Textarea(value='', placeholder='Type your Query here'), Button(descrip…"
      ]
     },
     "execution_count": 38,
     "metadata": {},
     "output_type": "execute_result"
    }
   ],
   "source": [
    "QueryWindow(28).display()"
   ]
  },
  {
   "cell_type": "markdown",
   "id": "1b69ca1c-0c6a-4c80-b6d8-df9d9d9c4a02",
   "metadata": {},
   "source": [
    "**29. Select maximum rental_rate of films from film table grouped on rating.**"
   ]
  },
  {
   "cell_type": "code",
   "execution_count": 39,
   "id": "dab613a3-6d16-4908-9230-be95494ee3a1",
   "metadata": {},
   "outputs": [
    {
     "data": {
      "application/vnd.jupyter.widget-view+json": {
       "model_id": "0d3d7336bd2a41dbb6eb897ae8ae29cc",
       "version_major": 2,
       "version_minor": 0
      },
      "text/plain": [
       "VBox(children=(HBox(children=(Output(), Textarea(value='', placeholder='Type your Query here'), Button(descrip…"
      ]
     },
     "execution_count": 39,
     "metadata": {},
     "output_type": "execute_result"
    }
   ],
   "source": [
    "QueryWindow(29).display()"
   ]
  },
  {
   "cell_type": "markdown",
   "id": "85697449-456b-4e32-b78b-9c3ce22bfe7b",
   "metadata": {},
   "source": [
    "**30. Select average rental_rate for each rating for each release_year.**"
   ]
  },
  {
   "cell_type": "code",
   "execution_count": 40,
   "id": "a0048b91-48e6-4b33-b837-03cf9214c587",
   "metadata": {},
   "outputs": [
    {
     "data": {
      "application/vnd.jupyter.widget-view+json": {
       "model_id": "491ba59e6772451dab8a27f8dc189b92",
       "version_major": 2,
       "version_minor": 0
      },
      "text/plain": [
       "VBox(children=(HBox(children=(Output(), Textarea(value='', placeholder='Type your Query here'), Button(descrip…"
      ]
     },
     "execution_count": 40,
     "metadata": {},
     "output_type": "execute_result"
    }
   ],
   "source": [
    "QueryWindow(30).display()"
   ]
  },
  {
   "cell_type": "markdown",
   "id": "a76cd70f-65dd-4255-b5d2-2706e584beda",
   "metadata": {},
   "source": [
    "**31. Select total number of invoices for each BillingCity for the BillingCountry Germany.**"
   ]
  },
  {
   "cell_type": "code",
   "execution_count": 41,
   "id": "6120cf2a-9ac8-409b-8562-d7cbe5d14e62",
   "metadata": {},
   "outputs": [
    {
     "data": {
      "application/vnd.jupyter.widget-view+json": {
       "model_id": "979c3914ca2b4a8a99ce4baba5f8815a",
       "version_major": 2,
       "version_minor": 0
      },
      "text/plain": [
       "VBox(children=(HBox(children=(Output(), Textarea(value='', placeholder='Type your Query here'), Button(descrip…"
      ]
     },
     "execution_count": 41,
     "metadata": {},
     "output_type": "execute_result"
    }
   ],
   "source": [
    "QueryWindow(31).display()"
   ]
  },
  {
   "cell_type": "markdown",
   "id": "bb18c3a0-9d83-40dd-8af7-91ab92f9d307",
   "metadata": {},
   "source": [
    "**32. Select sum total of Total for invoices for each BillingCity for the BillingCountry Germany and order the records by the sum total in descending order.**"
   ]
  },
  {
   "cell_type": "code",
   "execution_count": 42,
   "id": "42a57537-4360-4c51-9008-e13af18de728",
   "metadata": {},
   "outputs": [
    {
     "data": {
      "application/vnd.jupyter.widget-view+json": {
       "model_id": "014faff41e824837b88fd74e51f2923f",
       "version_major": 2,
       "version_minor": 0
      },
      "text/plain": [
       "VBox(children=(HBox(children=(Output(), Textarea(value='', placeholder='Type your Query here'), Button(descrip…"
      ]
     },
     "execution_count": 42,
     "metadata": {},
     "output_type": "execute_result"
    }
   ],
   "source": [
    "QueryWindow(32).display()"
   ]
  },
  {
   "cell_type": "markdown",
   "id": "6d17c1c7-fa0d-4fd3-8989-afa25b833a4d",
   "metadata": {},
   "source": [
    "### 6. Aliases for providing Temporary Name"
   ]
  },
  {
   "cell_type": "markdown",
   "id": "c2b70854-1802-40a3-a29c-504521f6eb2a",
   "metadata": {},
   "source": [
    "Aliases are used to give a **table or column in a table a temporary name**. Most of the time aliases are used to make the **query more readable**. Aliases **only exists until the query is running**.  \n",
    "\n",
    "The syntax for column alias is \n",
    "\n",
    "```mysql\n",
    "SELECT column_name AS alias_name\n",
    "FROM table_name;\n",
    "```\n",
    "\n",
    "And syntax for table alias is \n",
    "\n",
    "```mysql\n",
    "SELECT column_name\n",
    "FROM table_name as alias_name;\n",
    "```\n",
    "\n",
    "Let's look at some examples"
   ]
  },
  {
   "cell_type": "markdown",
   "id": "90ca6cc5-301a-4928-a822-eb8e331af554",
   "metadata": {},
   "source": [
    "![columnalias](images/columnalias.png) \n",
    "\n",
    "In this query\n",
    "\n",
    "```mysql\n",
    "SELECT Job_Title,min(salary) as MIN_SALARY from Salary group by Job_Title\n",
    "```\n",
    "we are using an alias name for the column min(salary) (which is part of the result) as MIN_SALARY. Eventhough it doesn't change anything to the result, it makes the result more readable. \n",
    "\n",
    "Next we look at how we can use table alias in an effective way. "
   ]
  },
  {
   "cell_type": "markdown",
   "id": "db9eb50d-fad4-4b32-b374-643c90bb24ed",
   "metadata": {},
   "source": [
    "![tablealias](images/tablealias.png) \n",
    "\n",
    "In this query \n",
    "\n",
    "```mysql\n",
    "SELECT s.Job_Title,s.salary from Salary as s where s.state\n",
    "```\n",
    "we are setting an alias name 's' for the table Salary. Notice how we use the '.' operator to access the columns. This is particularly useful when we are joining multiple tables (about which we will learn in the last section). \n",
    "\n",
    "Try out the examples given below"
   ]
  },
  {
   "cell_type": "markdown",
   "id": "a2b58939-ac7a-4455-90c8-cd50af95240d",
   "metadata": {},
   "source": [
    "**33. Select sum total of Total for invoices for each BillingCity for the BillingCountry Germany and order the records by the sum total in descending order. Name the sum total of Total as TotalAmount**"
   ]
  },
  {
   "cell_type": "code",
   "execution_count": 43,
   "id": "47fa7337-169d-47e2-bc7a-37bd960ae2cb",
   "metadata": {},
   "outputs": [
    {
     "data": {
      "application/vnd.jupyter.widget-view+json": {
       "model_id": "5413416dc41a4cadbc31698114986df1",
       "version_major": 2,
       "version_minor": 0
      },
      "text/plain": [
       "VBox(children=(HBox(children=(Output(), Textarea(value='', placeholder='Type your Query here'), Button(descrip…"
      ]
     },
     "execution_count": 43,
     "metadata": {},
     "output_type": "execute_result"
    }
   ],
   "source": [
    "QueryWindow(33).display()"
   ]
  },
  {
   "cell_type": "markdown",
   "id": "7cb62197-50d2-46c7-90f2-9a192b471b61",
   "metadata": {},
   "source": [
    "**34. Select total number of invoices for each BillingCity for the BillingCountry Germany. Name the total number of invoices column as TotalInvoices**"
   ]
  },
  {
   "cell_type": "code",
   "execution_count": 44,
   "id": "1ba54ff4-c09d-4dff-8982-e2cbc7bce078",
   "metadata": {},
   "outputs": [
    {
     "data": {
      "application/vnd.jupyter.widget-view+json": {
       "model_id": "c19bdc79ada74112af61a22212049075",
       "version_major": 2,
       "version_minor": 0
      },
      "text/plain": [
       "VBox(children=(HBox(children=(Output(), Textarea(value='', placeholder='Type your Query here'), Button(descrip…"
      ]
     },
     "execution_count": 44,
     "metadata": {},
     "output_type": "execute_result"
    }
   ],
   "source": [
    "QueryWindow(34).display()"
   ]
  },
  {
   "cell_type": "markdown",
   "id": "6e792046-c181-4b6d-a218-f0f7049d8fa3",
   "metadata": {},
   "source": [
    "In the next section we will learn about joins and how to interact with the database through Python. "
   ]
  }
 ],
 "metadata": {
  "kernelspec": {
   "display_name": "Python 3 (ipykernel)",
   "language": "python",
   "name": "python3"
  },
  "language_info": {
   "codemirror_mode": {
    "name": "ipython",
    "version": 3
   },
   "file_extension": ".py",
   "mimetype": "text/x-python",
   "name": "python",
   "nbconvert_exporter": "python",
   "pygments_lexer": "ipython3",
   "version": "3.10.4"
  }
 },
 "nbformat": 4,
 "nbformat_minor": 5
}
