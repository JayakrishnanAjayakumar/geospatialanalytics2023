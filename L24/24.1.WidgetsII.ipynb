{
 "cells": [
  {
   "cell_type": "markdown",
   "id": "c71bed07-76aa-4a65-8018-62310120dab2",
   "metadata": {},
   "source": [
    "# Widgets II"
   ]
  },
  {
   "cell_type": "code",
   "execution_count": 226,
   "id": "695ebb46-55aa-44ad-992f-3cdcbd29af8e",
   "metadata": {
    "tags": []
   },
   "outputs": [],
   "source": [
    "import ipywidgets as widgets\n",
    "from IPython.display import display,clear_output\n",
    "import geopandas as gpd\n",
    "import pandas as pd\n",
    "import psycopg2\n",
    "import folium"
   ]
  },
  {
   "cell_type": "markdown",
   "id": "3ce54063-f66d-4dc1-8636-58c7cca1a169",
   "metadata": {},
   "source": [
    "## Output Widget"
   ]
  },
  {
   "cell_type": "code",
   "execution_count": 201,
   "id": "dd7d1527-ef2e-4247-bd98-018ad635017b",
   "metadata": {
    "tags": []
   },
   "outputs": [
    {
     "data": {
      "application/vnd.jupyter.widget-view+json": {
       "model_id": "24923635b41b4a3a9c0ecb422dc0de6f",
       "version_major": 2,
       "version_minor": 0
      },
      "text/plain": [
       "Output()"
      ]
     },
     "metadata": {},
     "output_type": "display_data"
    }
   ],
   "source": [
    "out = widgets.Output()\n",
    "out"
   ]
  },
  {
   "cell_type": "markdown",
   "id": "77e96617-c6c0-42d3-a858-8ab6b363ed1b",
   "metadata": {},
   "source": [
    "Surprisingly we can't see anything. But we can start adding output to the output widget. Let us start with something simple such as our print statement"
   ]
  },
  {
   "cell_type": "code",
   "execution_count": 202,
   "id": "3a63497d-6ce4-424e-9452-138a76c45d41",
   "metadata": {
    "tags": []
   },
   "outputs": [],
   "source": [
    "with out:\n",
    "    print ('My name is Jay')\n",
    "    print ('Python is cool')"
   ]
  },
  {
   "cell_type": "markdown",
   "id": "cdb50d39-4a1b-40cc-b542-c7d1f9cef2df",
   "metadata": {},
   "source": [
    "What if we execute the code again "
   ]
  },
  {
   "cell_type": "code",
   "execution_count": 203,
   "id": "76e4c215-9648-4b10-931d-c539e69d6c1a",
   "metadata": {
    "tags": []
   },
   "outputs": [],
   "source": [
    "with out:\n",
    "    print ('My name is Jay')\n",
    "    print ('Python is cool')"
   ]
  },
  {
   "cell_type": "markdown",
   "id": "9a49dbbd-4ef2-4ce2-a341-e02ec5d4ef0f",
   "metadata": {},
   "source": [
    "As you can see the new print statements get appended to the previous results. Let us try another example"
   ]
  },
  {
   "cell_type": "code",
   "execution_count": 204,
   "id": "53691c82-aabe-44f1-94ec-4faaca5a1d93",
   "metadata": {
    "tags": []
   },
   "outputs": [
    {
     "data": {
      "application/vnd.jupyter.widget-view+json": {
       "model_id": "9ff72914f8ee425b9400c351c67c723f",
       "version_major": 2,
       "version_minor": 0
      },
      "text/plain": [
       "Output()"
      ]
     },
     "metadata": {},
     "output_type": "display_data"
    }
   ],
   "source": [
    "out = widgets.Output()\n",
    "out"
   ]
  },
  {
   "cell_type": "code",
   "execution_count": 205,
   "id": "4d5b447a-201d-4211-8ba1-3f7f288d896f",
   "metadata": {
    "tags": []
   },
   "outputs": [],
   "source": [
    "with out:\n",
    "    for idx in range(10):\n",
    "        print (idx)"
   ]
  },
  {
   "cell_type": "markdown",
   "id": "d6c19f87-0cfb-49b3-9c09-6e091cdbd1f5",
   "metadata": {},
   "source": [
    "Now what if we want to overwrite the content rather than appending. We can use the clear_output function available in the Ipython display module"
   ]
  },
  {
   "cell_type": "code",
   "execution_count": 206,
   "id": "405cadbe-cfdb-4f23-a757-411bb92d4d8d",
   "metadata": {
    "tags": []
   },
   "outputs": [
    {
     "data": {
      "application/vnd.jupyter.widget-view+json": {
       "model_id": "b058a557268c42c1961dc9eb0a9503d7",
       "version_major": 2,
       "version_minor": 0
      },
      "text/plain": [
       "Output()"
      ]
     },
     "metadata": {},
     "output_type": "display_data"
    }
   ],
   "source": [
    "out = widgets.Output()\n",
    "out"
   ]
  },
  {
   "cell_type": "code",
   "execution_count": 207,
   "id": "46563a56-2e59-4271-b78d-977a04578bf9",
   "metadata": {
    "tags": []
   },
   "outputs": [],
   "source": [
    "with out:\n",
    "    for idx in range(3500):\n",
    "        clear_output()\n",
    "        print (idx)"
   ]
  },
  {
   "cell_type": "markdown",
   "id": "414522c7-5577-4aec-a9c8-f8878eec7997",
   "metadata": {},
   "source": [
    "As you can see there is considerable flickering. Inorder to avoid that we can set wait parameter to True in clear_output() function"
   ]
  },
  {
   "cell_type": "code",
   "execution_count": 208,
   "id": "19040a1d-19ec-407b-a8a2-7e5d947c85b9",
   "metadata": {
    "tags": []
   },
   "outputs": [
    {
     "data": {
      "application/vnd.jupyter.widget-view+json": {
       "model_id": "455f58f5db464fbab605a553543a62a9",
       "version_major": 2,
       "version_minor": 0
      },
      "text/plain": [
       "Output()"
      ]
     },
     "metadata": {},
     "output_type": "display_data"
    }
   ],
   "source": [
    "out = widgets.Output()\n",
    "out"
   ]
  },
  {
   "cell_type": "code",
   "execution_count": 209,
   "id": "b0251dc6-e006-4046-8b9f-61455dcff106",
   "metadata": {
    "tags": []
   },
   "outputs": [],
   "source": [
    "with out:\n",
    "    for idx in range(3500):\n",
    "        clear_output(wait=True)\n",
    "        print (idx)"
   ]
  },
  {
   "cell_type": "markdown",
   "id": "ad5d22b9-5234-4865-b734-0bab17b0ee42",
   "metadata": {},
   "source": [
    "Let us replicate our small geocoding tool with a small change. In this case we will display the coordinates at the end"
   ]
  },
  {
   "cell_type": "code",
   "execution_count": 210,
   "id": "110d0f40-b111-484b-a840-22d153a7d54b",
   "metadata": {
    "tags": []
   },
   "outputs": [
    {
     "data": {
      "application/vnd.jupyter.widget-view+json": {
       "model_id": "dc71f50a34b94b959a6d2b59b376dc8e",
       "version_major": 2,
       "version_minor": 0
      },
      "text/plain": [
       "Text(value='', description='Address:', placeholder='Type your address here')"
      ]
     },
     "metadata": {},
     "output_type": "display_data"
    },
    {
     "data": {
      "application/vnd.jupyter.widget-view+json": {
       "model_id": "742a48e9024442ca9cf5a381dd7ba689",
       "version_major": 2,
       "version_minor": 0
      },
      "text/plain": [
       "Button(button_style='primary', description='Click', style=ButtonStyle())"
      ]
     },
     "metadata": {},
     "output_type": "display_data"
    },
    {
     "data": {
      "application/vnd.jupyter.widget-view+json": {
       "model_id": "6593705653a34cde9da180fa69485913",
       "version_major": 2,
       "version_minor": 0
      },
      "text/plain": [
       "Output()"
      ]
     },
     "metadata": {},
     "output_type": "display_data"
    }
   ],
   "source": [
    "def geocode(b):\n",
    "    results = gpd.tools.geocode([textBox.value])\n",
    "    with out:\n",
    "        clear_output(wait=True)\n",
    "        print (results)\n",
    "\n",
    "textBox = widgets.Text(\n",
    "    value='',\n",
    "    placeholder='Type your address here',\n",
    "    description='Address:',\n",
    "    disabled=False   \n",
    ")\n",
    "button = widgets.Button(\n",
    "    description='Click',\n",
    "    disabled=False,\n",
    "    button_style='Primary'\n",
    ")\n",
    "out = widgets.Output()\n",
    "display(textBox)\n",
    "button.on_click(geocode)\n",
    "display(button)\n",
    "display(out)"
   ]
  },
  {
   "cell_type": "markdown",
   "id": "7d1f5fec-bf2c-4d91-acbd-653ef202856d",
   "metadata": {},
   "source": [
    "Eventhough we can see the entire output, it is messy. Let us just print the latitude and longitude"
   ]
  },
  {
   "cell_type": "code",
   "execution_count": 211,
   "id": "d979f408-f247-42a0-8d20-acce94c7efb0",
   "metadata": {
    "tags": []
   },
   "outputs": [
    {
     "data": {
      "application/vnd.jupyter.widget-view+json": {
       "model_id": "fd73a08458294d97895463a3acf05498",
       "version_major": 2,
       "version_minor": 0
      },
      "text/plain": [
       "Text(value='', description='Address:', placeholder='Type your address here')"
      ]
     },
     "metadata": {},
     "output_type": "display_data"
    },
    {
     "data": {
      "application/vnd.jupyter.widget-view+json": {
       "model_id": "938f3a9d3d1649c18270fe6df824f5ad",
       "version_major": 2,
       "version_minor": 0
      },
      "text/plain": [
       "Button(button_style='primary', description='Click', style=ButtonStyle())"
      ]
     },
     "metadata": {},
     "output_type": "display_data"
    },
    {
     "data": {
      "application/vnd.jupyter.widget-view+json": {
       "model_id": "349dc0bd8cc940c6b62217bff9bc0eb7",
       "version_major": 2,
       "version_minor": 0
      },
      "text/plain": [
       "Output()"
      ]
     },
     "metadata": {},
     "output_type": "display_data"
    }
   ],
   "source": [
    "def geocode(b):\n",
    "    results = gpd.tools.geocode([textBox.value])\n",
    "    with out:\n",
    "        clear_output(wait=True)\n",
    "        print (results.geometry.x[0],results.geometry.y[0])\n",
    "\n",
    "textBox = widgets.Text(\n",
    "    value='',\n",
    "    placeholder='Type your address here',\n",
    "    description='Address:',\n",
    "    disabled=False   \n",
    ")\n",
    "button = widgets.Button(\n",
    "    description='Click',\n",
    "    disabled=False,\n",
    "    button_style='Primary'\n",
    ")\n",
    "out = widgets.Output()\n",
    "display(textBox)\n",
    "button.on_click(geocode)\n",
    "display(button)\n",
    "display(out)"
   ]
  },
  {
   "cell_type": "markdown",
   "id": "e870c2e8-9ac3-4484-8d99-b1dd105c4829",
   "metadata": {},
   "source": [
    "### Pandas DataFrame in Output"
   ]
  },
  {
   "cell_type": "markdown",
   "id": "aaaf8d2f-a495-47f4-9cca-9f28ff580221",
   "metadata": {},
   "source": [
    "You can display pandas dataframe in an output display. We will first show a simple example and then an example involving the database"
   ]
  },
  {
   "cell_type": "code",
   "execution_count": 212,
   "id": "38df4186-8519-4e1d-a4e2-7f460303236b",
   "metadata": {
    "tags": []
   },
   "outputs": [],
   "source": [
    "data = pd.DataFrame([['Jay',35,'M'],['Sam',24,'M'],['Anne',22,'F']],columns=['Name','Age','Sex'])"
   ]
  },
  {
   "cell_type": "code",
   "execution_count": 213,
   "id": "07bb5938-32af-4261-8d3d-294170d6cece",
   "metadata": {
    "tags": []
   },
   "outputs": [
    {
     "data": {
      "application/vnd.jupyter.widget-view+json": {
       "model_id": "7de327dcafba43438748059e9cbb74e3",
       "version_major": 2,
       "version_minor": 0
      },
      "text/plain": [
       "Output()"
      ]
     },
     "metadata": {},
     "output_type": "display_data"
    }
   ],
   "source": [
    "out = widgets.Output()\n",
    "with out:\n",
    "    display(data)\n",
    "out"
   ]
  },
  {
   "cell_type": "markdown",
   "id": "748d36a2-ce92-4084-ab52-80fd721e894d",
   "metadata": {},
   "source": [
    "Now let us create a small application which displays the total earthquakes for various years for a selected state. So we will use the drop down widget for the states."
   ]
  },
  {
   "cell_type": "code",
   "execution_count": 214,
   "id": "b1691ad9-cf78-4be1-81be-11bc8e94da0b",
   "metadata": {
    "tags": []
   },
   "outputs": [],
   "source": [
    "conn = psycopg2.connect('dbname=nyc user=geospatial password=geospatial2023 host=ghhlibrary')"
   ]
  },
  {
   "cell_type": "code",
   "execution_count": null,
   "id": "d62db902-23c8-43dd-a7b1-586201009235",
   "metadata": {
    "tags": []
   },
   "outputs": [],
   "source": [
    "states = pd.read_sql_query('select name from us_states order by name',conn)"
   ]
  },
  {
   "cell_type": "markdown",
   "id": "d6fed2d3-e7c2-4b13-8a08-e8fdeae8fa29",
   "metadata": {},
   "source": [
    "Now let us create our UI"
   ]
  },
  {
   "cell_type": "code",
   "execution_count": null,
   "id": "dd060f10-8948-4474-a340-8a997b3602fa",
   "metadata": {
    "tags": []
   },
   "outputs": [],
   "source": [
    "def getEarthQuakeData(change):\n",
    "    state = change['new']\n",
    "    data = pd.read_sql_query(f\"select e.year::text,count(e.gid) as total from earth_quakes e,us_states u where u.name='{state}' and st_contains(u.geom,e.geom) group by e.year order by e.year\",conn)\n",
    "    print (data)\n",
    "    with out:\n",
    "        clear_output(wait=True)\n",
    "        display(data)\n",
    "statesSelect = widgets.Dropdown(\n",
    "    options=states.name.values,\n",
    "    value=None,\n",
    "    description='States:',\n",
    "    disabled=False,\n",
    ")\n",
    "out = widgets.Output()\n",
    "statesSelect.observe(getEarthQuakeData,names='value')\n",
    "display(statesSelect)\n",
    "display(out)"
   ]
  },
  {
   "cell_type": "markdown",
   "id": "a58b1b83-f231-412d-94f3-3b8907ddbc6a",
   "metadata": {},
   "source": [
    "### Plotting in Output"
   ]
  },
  {
   "cell_type": "markdown",
   "id": "c5149b5f-1b4e-48f0-9137-69401ffbcfb9",
   "metadata": {},
   "source": [
    "In this example we are going to show a barchart of number of homicides in the different boroughs in nyc for different years. "
   ]
  },
  {
   "cell_type": "markdown",
   "id": "9fa8e859-6bd4-413f-ac4e-0eddf70c710d",
   "metadata": {},
   "source": [
    "Let us query the years for which we would want the data"
   ]
  },
  {
   "cell_type": "code",
   "execution_count": 159,
   "id": "5a9a5c95-dd17-4b38-bd3c-9fc263b96c9e",
   "metadata": {
    "tags": []
   },
   "outputs": [
    {
     "name": "stderr",
     "output_type": "stream",
     "text": [
      "C:\\Users\\jxa421\\AppData\\Local\\Temp\\ipykernel_83304\\2164346758.py:1: UserWarning: pandas only supports SQLAlchemy connectable (engine/connection) or database string URI or sqlite3 DBAPI2 connection. Other DBAPI2 objects are not tested. Please consider using SQLAlchemy.\n",
      "  years = pd.read_sql_query('select distinct year::text as year from nyc_homicides order by year',conn)\n"
     ]
    }
   ],
   "source": [
    "years = pd.read_sql_query('select distinct year::text as year from nyc_homicides order by year',conn)"
   ]
  },
  {
   "cell_type": "markdown",
   "id": "3999be24-1590-49e8-abcc-0b3991aba09a",
   "metadata": {},
   "source": [
    "Now let us create our UI which consists of a slider and an output widget (where we will have the chart)"
   ]
  },
  {
   "cell_type": "code",
   "execution_count": 44,
   "id": "47069e3c-85af-4da3-9cdf-8769171b2930",
   "metadata": {
    "tags": []
   },
   "outputs": [
    {
     "data": {
      "application/vnd.jupyter.widget-view+json": {
       "model_id": "2b441923f41846e19fc5255a0a4e60f1",
       "version_major": 2,
       "version_minor": 0
      },
      "text/plain": [
       "Output()"
      ]
     },
     "metadata": {},
     "output_type": "display_data"
    },
    {
     "data": {
      "application/vnd.jupyter.widget-view+json": {
       "model_id": "122b991059ac4bf2a884ee4d6ce44f48",
       "version_major": 2,
       "version_minor": 0
      },
      "text/plain": [
       "SelectionSlider(continuous_update=False, description='Year:', options=('2003', '2004', '2005', '2006', '2007',…"
      ]
     },
     "metadata": {},
     "output_type": "display_data"
    }
   ],
   "source": [
    "def homicidesBorough(change):\n",
    "    year = change['new']\n",
    "    data = pd.read_sql_query(f\"select boroname,count(gid) as total_homicides from nyc_homicides where year={year} group by boroname order by boroname\",conn)\n",
    "    with out:\n",
    "        clear_output(wait=True)\n",
    "        display(data)\n",
    "out = widgets.Output()\n",
    "yearSlider = widgets.SelectionSlider(\n",
    "    options=years.year.values,\n",
    "    value=years.year.values[0],\n",
    "    description='Year:',\n",
    "    disabled=False,\n",
    "    continuous_update=False,\n",
    "    orientation='horizontal',\n",
    "    readout=True\n",
    ")\n",
    "yearSlider.observe(homicidesBorough,names='value')\n",
    "display(out)\n",
    "display(yearSlider)"
   ]
  },
  {
   "cell_type": "markdown",
   "id": "fc76d9ef-466d-4685-91e4-f596862318a5",
   "metadata": {},
   "source": [
    "So that's the dataframe, let us create a chart"
   ]
  },
  {
   "cell_type": "code",
   "execution_count": 50,
   "id": "2ffda128-645f-418e-865b-0e70e7230fd1",
   "metadata": {
    "tags": []
   },
   "outputs": [
    {
     "data": {
      "application/vnd.jupyter.widget-view+json": {
       "model_id": "ebf37851308c49cda4b119da424fec34",
       "version_major": 2,
       "version_minor": 0
      },
      "text/plain": [
       "SelectionSlider(description='Year:', options=('2003', '2004', '2005', '2006', '2007', '2008', '2009', '2010', …"
      ]
     },
     "metadata": {},
     "output_type": "display_data"
    },
    {
     "data": {
      "application/vnd.jupyter.widget-view+json": {
       "model_id": "6da613a59386414fafb46aeed44321ad",
       "version_major": 2,
       "version_minor": 0
      },
      "text/plain": [
       "Output()"
      ]
     },
     "metadata": {},
     "output_type": "display_data"
    }
   ],
   "source": [
    "def homicidesBorough(change):\n",
    "    year = change['new']\n",
    "    data = pd.read_sql_query(f\"select boroname,count(gid) as total_homicides from nyc_homicides where year={year} group by boroname order by boroname\",conn)\n",
    "    with out:\n",
    "        clear_output(wait=True)\n",
    "        ax = data.plot.bar(x='boroname',ylabel='Total Homicides',legend=False)\n",
    "        display(ax.get_figure())\n",
    "out = widgets.Output()\n",
    "yearSlider = widgets.SelectionSlider(\n",
    "    options=years.year.values,\n",
    "    value=years.year.values[0],\n",
    "    description='Year:',\n",
    "    disabled=False,\n",
    "    continuous_update=True,\n",
    "    orientation='horizontal',\n",
    "    readout=True\n",
    ")\n",
    "yearSlider.observe(homicidesBorough,names='value')\n",
    "display(yearSlider)\n",
    "display(out)"
   ]
  },
  {
   "cell_type": "markdown",
   "id": "c9fc250d-4253-4bca-9013-f4ced2581705",
   "metadata": {},
   "source": [
    "Now let us look into another example. In this example we are going to create a longitudnal plot for the various counties in Ohio (selection based on counties). So let us start with the basics. We will create a drop down of counties in Ohio and an output widget for the graph"
   ]
  },
  {
   "cell_type": "code",
   "execution_count": 51,
   "id": "188447a7-a7cc-4796-a53f-e5489e44b920",
   "metadata": {
    "tags": []
   },
   "outputs": [
    {
     "name": "stderr",
     "output_type": "stream",
     "text": [
      "C:\\Users\\jxa421\\AppData\\Local\\Temp\\ipykernel_83304\\598678902.py:1: UserWarning: pandas only supports SQLAlchemy connectable (engine/connection) or database string URI or sqlite3 DBAPI2 connection. Other DBAPI2 objects are not tested. Please consider using SQLAlchemy.\n",
      "  countiesOhio = pd.read_sql_query(\"select name,geoid from us_counties where statefp='39' order by name\",conn)\n"
     ]
    }
   ],
   "source": [
    "countiesOhio = pd.read_sql_query(\"select name,geoid from us_counties where statefp='39' order by name\",conn)"
   ]
  },
  {
   "cell_type": "markdown",
   "id": "b0ba6002-c948-45e5-a0b8-a8ea343ae8ed",
   "metadata": {},
   "source": [
    "Now let us also read in the different year-month for our covid dataset. We will use this as our x-axis. "
   ]
  },
  {
   "cell_type": "code",
   "execution_count": null,
   "id": "31eaf0c6-8b28-4224-875e-34dd8968f3c6",
   "metadata": {
    "tags": []
   },
   "outputs": [],
   "source": [
    "yearMonth = pd.read_sql_query(\"select distinct case_month from covid_oh_county_totals order by case_month\",conn)"
   ]
  },
  {
   "cell_type": "markdown",
   "id": "3deaf67b-90ab-42d1-a84f-54f2228ea42c",
   "metadata": {},
   "source": [
    "Now let us create UI and then create a function for capturing the drop down change event"
   ]
  },
  {
   "cell_type": "code",
   "execution_count": 69,
   "id": "3baa6927-985a-4277-a923-7cb086ad2690",
   "metadata": {
    "tags": []
   },
   "outputs": [
    {
     "data": {
      "application/vnd.jupyter.widget-view+json": {
       "model_id": "3fa2c0df66fc4397a78359cdeaafe234",
       "version_major": 2,
       "version_minor": 0
      },
      "text/plain": [
       "Output()"
      ]
     },
     "metadata": {},
     "output_type": "display_data"
    },
    {
     "data": {
      "application/vnd.jupyter.widget-view+json": {
       "model_id": "3d6ca05587e743748b4f16d9243e7619",
       "version_major": 2,
       "version_minor": 0
      },
      "text/plain": [
       "Dropdown(description='OH Counties:', options=(['Adams', '39001'], ['Allen', '39003'], ['Ashland', '39005'], ['…"
      ]
     },
     "metadata": {},
     "output_type": "display_data"
    }
   ],
   "source": [
    "def countySelected(change):\n",
    "    county = change['new']\n",
    "    countyName = countiesOhio[countiesOhio.geoid==county].name.values[0]\n",
    "    data = pd.read_sql_query(f\"select case_month,total from covid_oh_county_totals where county_fips_code = '{county}' order by case_month\",conn)\n",
    "    data = yearMonth.merge(data,on='case_month',how='left').fillna(0)\n",
    "    with out:\n",
    "        clear_output(wait=True)\n",
    "        ax = data.plot(figsize=(10,8),x='case_month',xlabel='Year Month',ylabel='Total Cases',title=f'Covid-19 case distribution for {countyName}',legend=False)\n",
    "        display(ax.get_figure())\n",
    "    \n",
    "out = widgets.Output()\n",
    "countiesSelect = widgets.Dropdown(\n",
    "    options=countiesOhio.values.tolist(),\n",
    "    value=None,\n",
    "    description='OH Counties:',\n",
    "    disabled=False,\n",
    ")\n",
    "countiesSelect.observe(countySelected,names='value')\n",
    "display(out)\n",
    "display(countiesSelect)"
   ]
  },
  {
   "cell_type": "markdown",
   "id": "414c4684-a2b9-4151-b233-f5d0c49454fc",
   "metadata": {},
   "source": [
    "A small thing you can notice is that the y-axis shifts often. If you want to avoid it, you need to use the ylim property of the plot function. But before that you need to find the maximum value for the entire dataset. "
   ]
  },
  {
   "cell_type": "code",
   "execution_count": 84,
   "id": "6d0caad3-8b39-46ba-afec-400ccfc769ed",
   "metadata": {
    "tags": []
   },
   "outputs": [
    {
     "name": "stderr",
     "output_type": "stream",
     "text": [
      "C:\\Users\\jxa421\\AppData\\Local\\Temp\\ipykernel_83304\\1969231126.py:1: UserWarning: pandas only supports SQLAlchemy connectable (engine/connection) or database string URI or sqlite3 DBAPI2 connection. Other DBAPI2 objects are not tested. Please consider using SQLAlchemy.\n",
      "  casemax = pd.read_sql_query(\"select max(total) as maxtotal from covid_oh_county_totals\",conn)\n"
     ]
    }
   ],
   "source": [
    "casemax = pd.read_sql_query(\"select max(total) as maxtotal from covid_oh_county_totals\",conn)\n",
    "highest = casemax.maxtotal.values[0]"
   ]
  },
  {
   "cell_type": "code",
   "execution_count": 88,
   "id": "560d33c8-b5cb-4641-adee-315eb5e7da39",
   "metadata": {
    "tags": []
   },
   "outputs": [
    {
     "data": {
      "application/vnd.jupyter.widget-view+json": {
       "model_id": "0cd5ca4fa76147d884e7436175211805",
       "version_major": 2,
       "version_minor": 0
      },
      "text/plain": [
       "Output()"
      ]
     },
     "metadata": {},
     "output_type": "display_data"
    },
    {
     "data": {
      "application/vnd.jupyter.widget-view+json": {
       "model_id": "510cbe0d9bbe44c3b2d4bbeee637f022",
       "version_major": 2,
       "version_minor": 0
      },
      "text/plain": [
       "Dropdown(description='OH Counties:', options=(['Adams', '39001'], ['Allen', '39003'], ['Ashland', '39005'], ['…"
      ]
     },
     "metadata": {},
     "output_type": "display_data"
    }
   ],
   "source": [
    "def countySelected(change):\n",
    "    county = change['new']\n",
    "    countyName = countiesOhio[countiesOhio.geoid==county].name.values[0]\n",
    "    data = pd.read_sql_query(f\"select case_month,total from covid_oh_county_totals where county_fips_code = '{county}' order by case_month\",conn)\n",
    "    data = yearMonth.merge(data,on='case_month',how='left').fillna(0)\n",
    "    with out:\n",
    "        clear_output(wait=True)\n",
    "        ax = data.plot(ylim=(0,highest),figsize=(10,8),x='case_month',xlabel='Year Month',ylabel='Total Cases',title=f'Covid-19 case distribution for {countyName}',legend=False)\n",
    "        display(ax.get_figure())\n",
    "    \n",
    "out = widgets.Output()\n",
    "countiesSelect = widgets.Dropdown(\n",
    "    options=countiesOhio.values.tolist(),\n",
    "    value=None,\n",
    "    description='OH Counties:',\n",
    "    disabled=False,\n",
    ")\n",
    "countiesSelect.observe(countySelected,names='value')\n",
    "display(out)\n",
    "display(countiesSelect)"
   ]
  },
  {
   "cell_type": "markdown",
   "id": "1ed6cd04-b823-4cd1-91c1-708687084295",
   "metadata": {
    "tags": []
   },
   "source": [
    "But we are suddenly faced with the challenge of counties having very small and very high values. In-order to by pass that we can use log scale for y axis"
   ]
  },
  {
   "cell_type": "code",
   "execution_count": 114,
   "id": "ce94c04e-6af7-4787-bcb7-72d42557d96f",
   "metadata": {
    "tags": []
   },
   "outputs": [
    {
     "data": {
      "application/vnd.jupyter.widget-view+json": {
       "model_id": "9ce9e02f83de4965b88310441cf456eb",
       "version_major": 2,
       "version_minor": 0
      },
      "text/plain": [
       "Output()"
      ]
     },
     "metadata": {},
     "output_type": "display_data"
    },
    {
     "data": {
      "application/vnd.jupyter.widget-view+json": {
       "model_id": "3fcedbb79de24b7aa5abe7e7f9a3fb73",
       "version_major": 2,
       "version_minor": 0
      },
      "text/plain": [
       "Dropdown(description='OH Counties:', options=(['Adams', '39001'], ['Allen', '39003'], ['Ashland', '39005'], ['…"
      ]
     },
     "metadata": {},
     "output_type": "display_data"
    }
   ],
   "source": [
    "def countySelected(change):\n",
    "    county = change['new']\n",
    "    countyName = countiesOhio[countiesOhio.geoid==county].name.values[0]\n",
    "    data = pd.read_sql_query(f\"select case_month,total from covid_oh_county_totals where county_fips_code = '{county}' order by case_month\",conn)\n",
    "    data = yearMonth.merge(data,on='case_month',how='left').fillna(0)\n",
    "    with out:\n",
    "        clear_output(wait=True)\n",
    "        ax = data.plot(logy=True,ylim=((10**0,10**5)),figsize=(10,8),x='case_month',xlabel='Year Month',ylabel='Total Cases',title=f'Covid-19 case distribution for {countyName}',legend=False)\n",
    "        display(ax.get_figure())\n",
    "    \n",
    "out = widgets.Output()\n",
    "countiesSelect = widgets.Dropdown(\n",
    "    options=countiesOhio.values.tolist(),\n",
    "    value=None,\n",
    "    description='OH Counties:',\n",
    "    disabled=False,\n",
    ")\n",
    "countiesSelect.observe(countySelected,names='value')\n",
    "display(out)\n",
    "display(countiesSelect)"
   ]
  },
  {
   "cell_type": "markdown",
   "id": "8ddceb36-6316-4be7-9096-ed3d7510060f",
   "metadata": {
    "tags": []
   },
   "source": [
    "If you want to mathematically calculate the upper limit when using the log10 scale then you can use the following code,\n",
    "```python\n",
    "import math\n",
    "upper = math.ceil(math.log10(highest))\n",
    "```"
   ]
  },
  {
   "cell_type": "markdown",
   "id": "f3f5695d-6623-438c-8b1b-48a6940a7013",
   "metadata": {
    "tags": []
   },
   "source": [
    "Now let us do one final longitudnal plot using our covid data. In this example we are going to porvide a multi select drop down where the user can select multiple counties (only up to 4 as we would want to restrict the number of counties selected for aesthetic purposes)."
   ]
  },
  {
   "cell_type": "code",
   "execution_count": 162,
   "id": "4324e536-26c9-44dc-ae35-e86173206aca",
   "metadata": {
    "tags": []
   },
   "outputs": [
    {
     "data": {
      "application/vnd.jupyter.widget-view+json": {
       "model_id": "2ecd7c5cc3ae4972b9e2ade2b8008349",
       "version_major": 2,
       "version_minor": 0
      },
      "text/plain": [
       "Output()"
      ]
     },
     "metadata": {},
     "output_type": "display_data"
    },
    {
     "data": {
      "application/vnd.jupyter.widget-view+json": {
       "model_id": "41665ab13ecf4c47a14457a1363407ff",
       "version_major": 2,
       "version_minor": 0
      },
      "text/plain": [
       "SelectMultiple(description='OH Counties:', options=(['Adams', '39001'], ['Allen', '39003'], ['Ashland', '39005…"
      ]
     },
     "metadata": {},
     "output_type": "display_data"
    },
    {
     "data": {
      "application/vnd.jupyter.widget-view+json": {
       "model_id": "beced05f95de4c3e95f42c77cb143921",
       "version_major": 2,
       "version_minor": 0
      },
      "text/plain": [
       "Label(value='')"
      ]
     },
     "metadata": {},
     "output_type": "display_data"
    }
   ],
   "source": [
    "def countySelect(change):\n",
    "    if len(change['new'])>0 and len(change['new'])<5:\n",
    "        errorLabel.value = ''\n",
    "        if len(change['new'])==1:\n",
    "            query = f\"select c.case_month,u.name,c.total from covid_oh_county_totals c,us_counties u where c.county_fips_code = '{change['new'][0]}' and u.geoid=c.county_fips_code order by case_month\"\n",
    "        else:\n",
    "            query = f\"select c.case_month,u.name,c.total from covid_oh_county_totals c,us_counties u where county_fips_code in {change['new']} and u.geoid=c.county_fips_code order by case_month\"\n",
    "        data = pd.read_sql_query(query,conn)\n",
    "        data = data.pivot(index='case_month',columns='name',values='total').fillna(0).reset_index()\n",
    "        data = yearMonth.merge(data,on='case_month',how='left').fillna(0)\n",
    "        with out:\n",
    "            clear_output(wait=True)\n",
    "            ax = data.plot(ylim = (10**0,10**5),logy=True,figsize=(10,8),x='case_month',xlabel='Case Month',ylabel='Total Cases (log10)',title='Covid-19 case distribution')\n",
    "            display(ax.get_figure())\n",
    "    else:\n",
    "        errorLabel.value='Select atleast 1 county and atmost 4 counties'\n",
    "        \n",
    "out = widgets.Output()\n",
    "countiesMultipleSelect = widgets.SelectMultiple(\n",
    "    options=countiesOhio.values.tolist(),\n",
    "    value=[],\n",
    "    rows=10,\n",
    "    description='OH Counties:',\n",
    "    disabled=False\n",
    ")\n",
    "countiesMultipleSelect.observe(countySelect,names='value')\n",
    "errorLabel = widgets.Label(value='')\n",
    "display(out)\n",
    "display(countiesMultipleSelect)\n",
    "display(errorLabel)"
   ]
  },
  {
   "cell_type": "markdown",
   "id": "2a4a9dc9-ff4b-402d-b9ac-a5af46d1b89b",
   "metadata": {},
   "source": [
    "Until now we have only used display function to show our widgets and our widgets are just stacked on top of each others. Now we will look into using layout objects for arranging our widgets."
   ]
  },
  {
   "cell_type": "markdown",
   "id": "138aebb8-36e8-46d2-8d75-3f5b123913ab",
   "metadata": {},
   "source": [
    "## HBox and VBox"
   ]
  },
  {
   "cell_type": "markdown",
   "id": "5e902b04-3ea0-4554-90fa-f70ca8e46c7b",
   "metadata": {},
   "source": [
    "### HBox"
   ]
  },
  {
   "cell_type": "markdown",
   "id": "8fdbf83a-df31-4fee-a0d7-fea994227d38",
   "metadata": {},
   "source": [
    "HBox or horizontal box allows you to arrange your widgets horizontally. Let us stack two buttons horizontally"
   ]
  },
  {
   "cell_type": "code",
   "execution_count": 118,
   "id": "08d3f5a2-ba47-4293-98df-3bb66a9f2299",
   "metadata": {
    "tags": []
   },
   "outputs": [
    {
     "data": {
      "application/vnd.jupyter.widget-view+json": {
       "model_id": "6681e5be2216424c8cf08ccf4a0e61b7",
       "version_major": 2,
       "version_minor": 0
      },
      "text/plain": [
       "Button(button_style='primary', description='Click Me', style=ButtonStyle())"
      ]
     },
     "metadata": {},
     "output_type": "display_data"
    },
    {
     "data": {
      "application/vnd.jupyter.widget-view+json": {
       "model_id": "94721768c20847279f28657c27056d65",
       "version_major": 2,
       "version_minor": 0
      },
      "text/plain": [
       "Button(button_style='primary', description='No Click Me', style=ButtonStyle())"
      ]
     },
     "metadata": {},
     "output_type": "display_data"
    }
   ],
   "source": [
    "button1 = widgets.Button(\n",
    "    description='Click Me',\n",
    "    disabled=False,\n",
    "    button_style='Primary'\n",
    ")\n",
    "button2 = widgets.Button(\n",
    "    description='No Click Me',\n",
    "    disabled=False,\n",
    "    button_style='Primary'\n",
    ")\n",
    "display(button1)\n",
    "display(button2)"
   ]
  },
  {
   "cell_type": "markdown",
   "id": "5eda1852-2719-4bd5-bba0-c314fd165ed7",
   "metadata": {
    "tags": []
   },
   "source": [
    "As yuo can see if you are just using display both the buttons will be stacked on top of each other. Now let us use an HBox"
   ]
  },
  {
   "cell_type": "code",
   "execution_count": 120,
   "id": "f343bd0f-6ab4-4a92-b2e8-68f3ddb148e7",
   "metadata": {
    "tags": []
   },
   "outputs": [
    {
     "data": {
      "application/vnd.jupyter.widget-view+json": {
       "model_id": "4a61b50e157c4042bf759b89d0eedea9",
       "version_major": 2,
       "version_minor": 0
      },
      "text/plain": [
       "HBox(children=(Button(button_style='primary', description='Click Me', style=ButtonStyle()), Button(button_styl…"
      ]
     },
     "metadata": {},
     "output_type": "display_data"
    }
   ],
   "source": [
    "button1 = widgets.Button(\n",
    "    description='Click Me',\n",
    "    disabled=False,\n",
    "    button_style='Primary'\n",
    ")\n",
    "button2 = widgets.Button(\n",
    "    description='No Click Me',\n",
    "    disabled=False,\n",
    "    button_style='Primary'\n",
    ")\n",
    "myBox = widgets.HBox([button1,button2])\n",
    "display(myBox)"
   ]
  },
  {
   "cell_type": "markdown",
   "id": "250bcd38-e52b-4834-a6c6-734bae0dded7",
   "metadata": {
    "tags": []
   },
   "source": [
    "As you can see, now you have the buttons arranged horizontally. "
   ]
  },
  {
   "cell_type": "markdown",
   "id": "33548161-8645-4f9b-93d7-e35416b77bc5",
   "metadata": {},
   "source": [
    "As an example let us re-create our covid cases example with the widgets stacked horizontally"
   ]
  },
  {
   "cell_type": "code",
   "execution_count": 122,
   "id": "0c41c9d2-85a8-4fe4-b003-37002f800623",
   "metadata": {
    "tags": []
   },
   "outputs": [
    {
     "data": {
      "application/vnd.jupyter.widget-view+json": {
       "model_id": "8233c8b84f22420d918eefb4204a4404",
       "version_major": 2,
       "version_minor": 0
      },
      "text/plain": [
       "HBox(children=(Dropdown(description='OH Counties:', options=(['Adams', '39001'], ['Allen', '39003'], ['Ashland…"
      ]
     },
     "metadata": {},
     "output_type": "display_data"
    }
   ],
   "source": [
    "def countySelected(change):\n",
    "    county = change['new']\n",
    "    countyName = countiesOhio[countiesOhio.geoid==county].name.values[0]\n",
    "    data = pd.read_sql_query(f\"select case_month,total from covid_oh_county_totals where county_fips_code = '{county}' order by case_month\",conn)\n",
    "    data = yearMonth.merge(data,on='case_month',how='left').fillna(0)\n",
    "    with out:\n",
    "        clear_output(wait=True)\n",
    "        ax = data.plot(logy=True,ylim=((10**0,10**5)),figsize=(10,8),x='case_month',xlabel='Year Month',ylabel='Total Cases',title=f'Covid-19 case distribution for {countyName}',legend=False)\n",
    "        display(ax.get_figure())\n",
    "    \n",
    "out = widgets.Output()\n",
    "countiesSelect = widgets.Dropdown(\n",
    "    options=countiesOhio.values.tolist(),\n",
    "    value=None,\n",
    "    description='OH Counties:',\n",
    "    disabled=False,\n",
    ")\n",
    "countiesSelect.observe(countySelected,names='value')\n",
    "myBox = widgets.HBox([countiesSelect,out])\n",
    "display(myBox)"
   ]
  },
  {
   "cell_type": "markdown",
   "id": "5d5f5d6c-d728-46ee-a0b6-39f1454be72e",
   "metadata": {},
   "source": [
    "### VBox"
   ]
  },
  {
   "cell_type": "markdown",
   "id": "63206b4a-22e8-45cb-baf6-246bd0a3d746",
   "metadata": {},
   "source": [
    "VBox or vertical box allows you to arrange your widgets vertically. Let us stack two buttons vertically"
   ]
  },
  {
   "cell_type": "code",
   "execution_count": 123,
   "id": "e7fac2fd-356a-45bb-b332-49fb4c737fa5",
   "metadata": {
    "tags": []
   },
   "outputs": [
    {
     "data": {
      "application/vnd.jupyter.widget-view+json": {
       "model_id": "7dc35c4e8450422fa8a5b25d4d35bfba",
       "version_major": 2,
       "version_minor": 0
      },
      "text/plain": [
       "VBox(children=(Button(button_style='primary', description='Click Me', style=ButtonStyle()), Button(button_styl…"
      ]
     },
     "metadata": {},
     "output_type": "display_data"
    }
   ],
   "source": [
    "button1 = widgets.Button(\n",
    "    description='Click Me',\n",
    "    disabled=False,\n",
    "    button_style='Primary'\n",
    ")\n",
    "button2 = widgets.Button(\n",
    "    description='No Click Me',\n",
    "    disabled=False,\n",
    "    button_style='Primary'\n",
    ")\n",
    "myBox = widgets.VBox([button1,button2])\n",
    "display(myBox)"
   ]
  },
  {
   "cell_type": "markdown",
   "id": "14a56333-73d7-47ba-97fc-57161193521d",
   "metadata": {},
   "source": [
    "Let us use the nyc_homicide example that we have seen before"
   ]
  },
  {
   "cell_type": "code",
   "execution_count": 160,
   "id": "b3cfdd9c-e237-4b9c-8e65-6f7044c2fbf8",
   "metadata": {
    "tags": []
   },
   "outputs": [
    {
     "data": {
      "application/vnd.jupyter.widget-view+json": {
       "model_id": "d537deabda2349e0a4866f4f5887c10e",
       "version_major": 2,
       "version_minor": 0
      },
      "text/plain": [
       "VBox(children=(Output(), SelectionSlider(description='Year:', options=('2003', '2004', '2005', '2006', '2007',…"
      ]
     },
     "metadata": {},
     "output_type": "display_data"
    }
   ],
   "source": [
    "def homicidesBorough(change):\n",
    "    year = change['new']\n",
    "    data = pd.read_sql_query(f\"select boroname,count(gid) as total_homicides from nyc_homicides where year={year} group by boroname order by boroname\",conn)\n",
    "    with out:\n",
    "        clear_output(wait=True)\n",
    "        ax = data.plot.bar(x='boroname',ylabel='Total Homicides',legend=False)\n",
    "        display(ax.get_figure())\n",
    "out = widgets.Output()\n",
    "yearSlider = widgets.SelectionSlider(\n",
    "    options=years.year.values,\n",
    "    value=years.year.values[0],\n",
    "    description='Year:',\n",
    "    disabled=False,\n",
    "    continuous_update=True,\n",
    "    orientation='horizontal',\n",
    "    readout=True\n",
    ")\n",
    "yearSlider.observe(homicidesBorough,names='value')\n",
    "myBox = widgets.VBox([out,yearSlider])\n",
    "display(myBox)"
   ]
  },
  {
   "cell_type": "markdown",
   "id": "2df60d92-5df4-4212-9bc8-0b597ecd3b87",
   "metadata": {},
   "source": [
    "### Combining VBox and HBox"
   ]
  },
  {
   "cell_type": "markdown",
   "id": "5f7b104e-7331-48e0-bf8c-4c6702a9cf42",
   "metadata": {},
   "source": [
    "The real power of layouts is when you can combine the different objects. For example you can have a VBox inside an HBox as well as viceversa. "
   ]
  },
  {
   "cell_type": "markdown",
   "id": "afec8656-87a5-40b9-b422-e6e7f610e4de",
   "metadata": {},
   "source": [
    "In this example we are going to show the rail incidents for various counties in different years as a temporal chart. It is always better to have a mental visualization of the page you want to create first"
   ]
  },
  {
   "cell_type": "markdown",
   "id": "3cb407fb-338f-49dd-9b7c-3156c6306dd6",
   "metadata": {},
   "source": [
    "![sample](images/sample.png)"
   ]
  },
  {
   "cell_type": "markdown",
   "id": "9a1bcb99-e5b0-40d1-8d14-36f58b11adb4",
   "metadata": {},
   "source": [
    "We will create the two drop downs and then add them to a vertical box. Then we will create an output widget and then add the vertical box and the output widget to a horizonal box. Then we will write the necessary event capture statements. "
   ]
  },
  {
   "cell_type": "code",
   "execution_count": 164,
   "id": "f227f27a-030b-4dd3-9be7-a9e47779d898",
   "metadata": {
    "tags": []
   },
   "outputs": [
    {
     "name": "stderr",
     "output_type": "stream",
     "text": [
      "C:\\Users\\jxa421\\AppData\\Local\\Temp\\ipykernel_83304\\1801771992.py:1: UserWarning: pandas only supports SQLAlchemy connectable (engine/connection) or database string URI or sqlite3 DBAPI2 connection. Other DBAPI2 objects are not tested. Please consider using SQLAlchemy.\n",
      "  states = pd.read_sql_query(r'select name,state_fips from us_states order by name',conn)\n",
      "C:\\Users\\jxa421\\AppData\\Local\\Temp\\ipykernel_83304\\1801771992.py:3: UserWarning: pandas only supports SQLAlchemy connectable (engine/connection) or database string URI or sqlite3 DBAPI2 connection. Other DBAPI2 objects are not tested. Please consider using SQLAlchemy.\n",
      "  maxminIncident = pd.read_sql_query(r'select max(EXTRACT(YEAR from date)) as max_year,min(EXTRACT(YEAR from date)) as min_year from rail_incidents',conn)\n"
     ]
    },
    {
     "data": {
      "application/vnd.jupyter.widget-view+json": {
       "model_id": "0401eb405ed0406494f84d7424bedffb",
       "version_major": 2,
       "version_minor": 0
      },
      "text/plain": [
       "HBox(children=(VBox(children=(Dropdown(description='States:', options=(['Alabama', '01'], ['Alaska', '02'], ['…"
      ]
     },
     "metadata": {},
     "output_type": "display_data"
    }
   ],
   "source": [
    "states = pd.read_sql_query(r'select name,state_fips from us_states order by name',conn)\n",
    "#we will create year ranges using the minimum and maximum date for the rail incidents\n",
    "maxminIncident = pd.read_sql_query(r'select max(EXTRACT(YEAR from date)) as max_year,min(EXTRACT(YEAR from date)) as min_year from rail_incidents',conn)\n",
    "#generate years series\n",
    "yearseries = pd.Series(range(int(maxminIncident.min_year.values[0]),int(maxminIncident.max_year.values[0])))\n",
    "#create a dataframe with single column year containing the different years\n",
    "yearsFrame = pd.DataFrame(yearseries,columns=['year'])\n",
    "def stateSelected(change):\n",
    "    selectedState = change['new']\n",
    "    #now let us query all the counties for the state. Unfortunately no state name in counties table, we need a join\n",
    "    counties = pd.read_sql_query(f\"select c.name,c.geoid from us_counties c where c.statefp='{selectedState}' order by c.name\",conn)\n",
    "    countiesSelect.options = counties.values.tolist()\n",
    "    \n",
    "def countySelected(change):\n",
    "    selectedCounty = change['new']\n",
    "    incidents = pd.read_sql_query(f\"select EXTRACT(YEAR from date) as year,count(id) as total_incidents from rail_incidents where fips_county='{selectedCounty}' group by year order by year\",conn)\n",
    "    #now merge with the dateframe and fill null values as zero\n",
    "    data = yearsFrame.merge(incidents,on='year',how='left').fillna(0)\n",
    "    with out:\n",
    "        clear_output(wait=True)\n",
    "        ax = data.plot(figsize=(10,8),x='year',xlabel='Year',ylabel='Total Incidents',title=f'Yearly Incident Distribution',legend=False)\n",
    "        display(ax.get_figure())\n",
    "    \n",
    "statesSelect = widgets.Dropdown(\n",
    "    options=states.values.tolist(),\n",
    "    value=None,\n",
    "    description='States:',\n",
    "    disabled=False,\n",
    ")\n",
    "countiesSelect = widgets.Dropdown(\n",
    "    options=[],\n",
    "    value=None,\n",
    "    description='Counties:',\n",
    "    disabled=False,\n",
    ")\n",
    "statesSelect.observe(stateSelected,names='value')\n",
    "countiesSelect.observe(countySelected,names='value')\n",
    "out = widgets.Output()\n",
    "dropDowns = widgets.VBox([statesSelect,countiesSelect])\n",
    "allWidgets = widgets.HBox([dropDowns,out])\n",
    "display(allWidgets)"
   ]
  },
  {
   "cell_type": "markdown",
   "id": "22668087-dfc2-4a7e-827f-5b94ab5795ea",
   "metadata": {},
   "source": [
    "### Plotting Maps With Output"
   ]
  },
  {
   "cell_type": "markdown",
   "id": "28e7dec8-c4e3-4ffb-8ee3-9d4695e54503",
   "metadata": {},
   "source": [
    "Similar to bar and line plots we can also create maps (using geopandas) and render them in output.\n",
    "As a simple example we are going to use our old geocoder to create a live geocoding tool. Rather than printing the location we are going to use the explore method th"
   ]
  },
  {
   "cell_type": "code",
   "execution_count": 183,
   "id": "df1a7b7e-e255-4f58-99d7-953ddd801ea8",
   "metadata": {
    "tags": []
   },
   "outputs": [
    {
     "data": {
      "application/vnd.jupyter.widget-view+json": {
       "model_id": "da4b28a475d84d8f850bace0e2dcc1f3",
       "version_major": 2,
       "version_minor": 0
      },
      "text/plain": [
       "Output()"
      ]
     },
     "metadata": {},
     "output_type": "display_data"
    },
    {
     "data": {
      "application/vnd.jupyter.widget-view+json": {
       "model_id": "bb1947a71b714db88cac6ea626ab43e2",
       "version_major": 2,
       "version_minor": 0
      },
      "text/plain": [
       "Text(value='', description='Address:', placeholder='Type your address here')"
      ]
     },
     "metadata": {},
     "output_type": "display_data"
    },
    {
     "data": {
      "application/vnd.jupyter.widget-view+json": {
       "model_id": "c65133d7264e43799f8d6500c7eda020",
       "version_major": 2,
       "version_minor": 0
      },
      "text/plain": [
       "Button(button_style='primary', description='Click', style=ButtonStyle())"
      ]
     },
     "metadata": {},
     "output_type": "display_data"
    }
   ],
   "source": [
    "def geocode(b):\n",
    "    results = gpd.tools.geocode([textBox.value])\n",
    "    with out:\n",
    "        clear_output(wait=True)\n",
    "        display(results.explore(marker_kwds={'radius':5}))\n",
    "\n",
    "textBox = widgets.Text(\n",
    "    value='',\n",
    "    placeholder='Type your address here',\n",
    "    description='Address:',\n",
    "    disabled=False   \n",
    ")\n",
    "button = widgets.Button(\n",
    "    description='Click',\n",
    "    disabled=False,\n",
    "    button_style='Primary'\n",
    ")\n",
    "out = widgets.Output()\n",
    "display(out)\n",
    "display(textBox)\n",
    "button.on_click(geocode)\n",
    "display(button)"
   ]
  },
  {
   "cell_type": "markdown",
   "id": "28e63518-03b9-4bcd-96db-2496af2e755d",
   "metadata": {},
   "source": [
    "Now let us create choropleth maps for the census tracts in various counties in US. We will use HBox and VBox"
   ]
  },
  {
   "cell_type": "code",
   "execution_count": 190,
   "id": "ffe95bca-7f4e-4398-9e42-a35edceee6f4",
   "metadata": {
    "tags": []
   },
   "outputs": [
    {
     "name": "stderr",
     "output_type": "stream",
     "text": [
      "C:\\Users\\jxa421\\AppData\\Local\\Temp\\ipykernel_83304\\3171948885.py:1: UserWarning: pandas only supports SQLAlchemy connectable (engine/connection) or database string URI or sqlite3 DBAPI2 connection. Other DBAPI2 objects are not tested. Please consider using SQLAlchemy.\n",
      "  allstates = pd.read_sql_query(r'select name,state_fips from us_states order by name',conn)\n"
     ]
    },
    {
     "data": {
      "application/vnd.jupyter.widget-view+json": {
       "model_id": "f4005def3461434889254e8fb66a4559",
       "version_major": 2,
       "version_minor": 0
      },
      "text/plain": [
       "HBox(children=(VBox(children=(Dropdown(description='States:', options=(['Alabama', '01'], ['Alaska', '02'], ['…"
      ]
     },
     "metadata": {},
     "output_type": "display_data"
    }
   ],
   "source": [
    "allstates = pd.read_sql_query(r'select name,state_fips from us_states order by name',conn)\n",
    "def stateSelected(change):\n",
    "    selectedState = change['new']\n",
    "    #now let us query all the counties for the state. Unfortunately no state name in counties table, we need a join\n",
    "    counties = pd.read_sql_query(f\"select c.name,c.geoid from us_counties c where c.statefp='{selectedState}' order by c.name\",conn)\n",
    "    countiesSelect.options = counties.values.tolist()\n",
    "    \n",
    "def countySelected(change):\n",
    "    selectedCounty = change['new']\n",
    "    sviTracts = gpd.read_postgis(f\"select fips,geom,rpl_themes from us_tract_svi where stcnty ='{selectedCounty}' and rpl_themes>=0\",conn)\n",
    "    with out:\n",
    "        clear_output(wait=True)\n",
    "        display(sviTracts.explore(column='rpl_themes', cmap='RdYlGn_r'))\n",
    "    \n",
    "statesSelect = widgets.Dropdown(\n",
    "    options=allstates.values.tolist(),\n",
    "    value=None,\n",
    "    description='States:',\n",
    "    disabled=False,\n",
    ")\n",
    "countiesSelect = widgets.Dropdown(\n",
    "    options=[],\n",
    "    value=None,\n",
    "    description='Counties:',\n",
    "    disabled=False,\n",
    ")\n",
    "statesSelect.observe(stateSelected,names='value')\n",
    "countiesSelect.observe(countySelected,names='value')\n",
    "out = widgets.Output(layout=widgets.Layout(width='75%'))\n",
    "dropDowns = widgets.VBox([statesSelect,countiesSelect],layout=widgets.Layout(width='25%'))\n",
    "allWidgets = widgets.HBox([dropDowns,out])\n",
    "display(allWidgets)"
   ]
  },
  {
   "cell_type": "markdown",
   "id": "58fe18ec-809a-44a9-b1f5-91150010eb1a",
   "metadata": {},
   "source": [
    "Finally we will create a map of the different neighborhoods in NYC and then display the distribution of shooting or homicide based on user selection. "
   ]
  },
  {
   "cell_type": "code",
   "execution_count": 198,
   "id": "fc93c3c9-6d1c-4b38-9daf-e0ff9091fba3",
   "metadata": {
    "tags": []
   },
   "outputs": [
    {
     "data": {
      "application/vnd.jupyter.widget-view+json": {
       "model_id": "65d988128db440a0b35d5cccb4ca70c7",
       "version_major": 2,
       "version_minor": 0
      },
      "text/plain": [
       "HBox(children=(RadioButtons(description='Layer:', layout=Layout(width='25%'), options=('Shooting', 'Homicide')…"
      ]
     },
     "metadata": {},
     "output_type": "display_data"
    }
   ],
   "source": [
    "def changeLayer(change):\n",
    "    layer = change['new']\n",
    "    if layer=='Shooting':\n",
    "        color = 'Reds'\n",
    "        query = f'select t.name,t.boroname,t.geom,count(s.gid) as total from nyc_neighborhoods t left join nypd_shooting s on st_contains(t.geom,s.geom) group by t.name,t.boroname,t.geom'\n",
    "    else:\n",
    "        color = 'Blues'\n",
    "        query = f'select t.name,t.boroname,t.geom,count(s.gid) as total from nyc_neighborhoods t left join nyc_homicides s on st_contains(t.geom,s.geom) group by t.name,t.boroname,t.geom'\n",
    "    data = gpd.read_postgis(query,conn)\n",
    "    with out:\n",
    "        clear_output(wait=True)\n",
    "        display(data.explore(column='total', cmap=color))\n",
    "    \n",
    "selection = widgets.RadioButtons(\n",
    "    options=['Shooting', 'Homicide'],\n",
    "    description='Layer:',\n",
    "    disabled=False,\n",
    "    value=None,\n",
    "    layout=widgets.Layout(width='25%')\n",
    ")\n",
    "selection.observe(changeLayer,names='value')\n",
    "out = widgets.Output(layout=widgets.Layout(width='75%'))\n",
    "allWidgets = widgets.HBox([selection,out])\n",
    "display(allWidgets)"
   ]
  },
  {
   "cell_type": "markdown",
   "id": "47d611e1-bc39-425f-8ee7-55a8e734dd3e",
   "metadata": {},
   "source": [
    "Now let us create a map where we switch on an off multiple layers. Here we are going to show schools, shooting locations, homicides, and subway stations for Harlem neighborhood in Manhattan. "
   ]
  },
  {
   "cell_type": "markdown",
   "id": "f728259f-b9fc-4194-9705-da690fc26af3",
   "metadata": {},
   "source": [
    "First let us create a list of layer names and then loop through it to create the checkboxes and save them to a list. Then we will create a draw method which will use the status of the check boxes to add the layers"
   ]
  },
  {
   "cell_type": "code",
   "execution_count": 254,
   "id": "1e836fa2-60fb-44af-b2f2-8a90d849ac1f",
   "metadata": {
    "tags": []
   },
   "outputs": [
    {
     "data": {
      "application/vnd.jupyter.widget-view+json": {
       "model_id": "c4584b00e80542d58f244aa6cf2125dc",
       "version_major": 2,
       "version_minor": 0
      },
      "text/plain": [
       "HBox(children=(VBox(children=(Checkbox(value=False, description='Shooting', indent=False), Checkbox(value=Fals…"
      ]
     },
     "metadata": {},
     "output_type": "display_data"
    }
   ],
   "source": [
    "def draw(change):\n",
    "    newmap = folium.Map(location=[40.712778, -74.006111],tiles='CartoDB dark_matter')\n",
    "    for i in range(len(checkboxes)):\n",
    "        geodata = None\n",
    "        #if shooting is true\n",
    "        if checkboxes[i].description=='Shooting' and checkboxes[i].value:\n",
    "            geodata = gpd.read_postgis(f\"select s.gid,s.geom from nypd_shooting s,nyc_neighborhoods nb where nb.boroname='Manhattan' and nb.name='Harlem'and st_contains(nb.geom,s.geom)\",conn)\n",
    "            style_kwds = {'fillColor':'red','stroke':False}\n",
    "        elif checkboxes[i].description=='Homicide' and checkboxes[i].value:\n",
    "            geodata = gpd.read_postgis(f\"select s.gid,s.geom from nyc_homicides s,nyc_neighborhoods nb where nb.boroname='Manhattan' and nb.name='Harlem'and st_contains(nb.geom,s.geom)\",conn)\n",
    "            style_kwds = {'fillColor':'orange','stroke':False}\n",
    "        elif checkboxes[i].description=='School' and checkboxes[i].value:\n",
    "            geodata = gpd.read_postgis(f\"select s.gid,s.geom from nyc_schools s,nyc_neighborhoods nb where nb.boroname='Manhattan' and nb.name='Harlem'and st_contains(nb.geom,s.geom)\",conn)\n",
    "            style_kwds = {'fillColor':'green','stroke':False}\n",
    "        elif checkboxes[i].description=='Subway' and checkboxes[i].value:\n",
    "            geodata = gpd.read_postgis(f\"select s.gid,s.geom from nyc_subway_stations s,nyc_neighborhoods nb where nb.boroname='Manhattan' and nb.name='Harlem'and st_contains(nb.geom,s.geom)\",conn)\n",
    "            style_kwds = {'fillColor':'blue','stroke':False}\n",
    "        if geodata is not None:\n",
    "            geodata.explore(marker_kwds={'radius':3},style_kwds=style_kwds,m=newmap)\n",
    "    with out:\n",
    "        clear_output(wait=True)\n",
    "        display(newmap)\n",
    "\n",
    "layers = ['Shooting','Homicide','School','Subway']\n",
    "checkboxes = []\n",
    "for layer in layers:\n",
    "    checkBox = widgets.Checkbox(\n",
    "    value=False,\n",
    "    description=layer,\n",
    "    disabled=False,\n",
    "    indent=False\n",
    "    )\n",
    "    checkBox.observe(draw,names='value')\n",
    "    checkboxes.append(checkBox)\n",
    "cbox = widgets.VBox(checkboxes,layout=widgets.Layout(width='25%'))\n",
    "out = widgets.Output(layout=widgets.Layout(width='75%'))\n",
    "hb = widgets.HBox([cbox,out])\n",
    "display(hb)"
   ]
  },
  {
   "cell_type": "markdown",
   "id": "a7551a33-811f-499a-b1ea-a360768bc101",
   "metadata": {},
   "source": [
    "In the next lecture we will look into more mapping examples as well as ways to interact with the map."
   ]
  },
  {
   "cell_type": "code",
   "execution_count": 199,
   "id": "9181c8df-cc1f-4093-9b5d-f878de2a4eaf",
   "metadata": {
    "tags": []
   },
   "outputs": [],
   "source": [
    "conn.close()"
   ]
  },
  {
   "cell_type": "code",
   "execution_count": null,
   "id": "44090f84-56a0-490b-b18a-87f687ffc8d9",
   "metadata": {},
   "outputs": [],
   "source": []
  }
 ],
 "metadata": {
  "kernelspec": {
   "display_name": "Python 3 (ipykernel)",
   "language": "python",
   "name": "python3"
  },
  "language_info": {
   "codemirror_mode": {
    "name": "ipython",
    "version": 3
   },
   "file_extension": ".py",
   "mimetype": "text/x-python",
   "name": "python",
   "nbconvert_exporter": "python",
   "pygments_lexer": "ipython3",
   "version": "3.10.10"
  }
 },
 "nbformat": 4,
 "nbformat_minor": 5
}
