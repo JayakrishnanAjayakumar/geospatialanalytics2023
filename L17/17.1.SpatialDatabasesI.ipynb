{
 "cells": [
  {
   "cell_type": "markdown",
   "id": "eac94ac1",
   "metadata": {},
   "source": [
    "# Spatial Databases I"
   ]
  },
  {
   "cell_type": "markdown",
   "id": "436d2b32",
   "metadata": {},
   "source": [
    "Let's look at the formal definition for a spatial database\n",
    "\n",
    ">A **spatial database is a database** that has been **enhanced to include spatial data that represents objects defined in a geometric space, along with tools for querying and analyzing such data**.\n",
    "\n",
    "The first key point to note here is that **spatial database is a database**, so we can still leverage all the functionalities of a traditional non-spatial database. The second point is the capability of spatial database to include a **new type called Geometry** and perform operations on them and between them. Let's look at three example relations (tables) that has spatial data in the form of geometry. "
   ]
  },
  {
   "cell_type": "markdown",
   "id": "8e7aee97",
   "metadata": {},
   "source": [
    "![geometry_types](images/geometry_types.PNG)\n",
    "\n",
    "As you can see the three tables have a special column called **geometry** (the images shown in geometry column are for representational purpose). The three basic geometry types are \n",
    "\n",
    "1. Points (schools, shooting, earthquake,your location)\n",
    "2. Lines (rivers, streets, roads, railway lines)\n",
    "3. Polygon (countries, states, census tracts, zip codes)\n",
    "\n",
    "And then there other geometries that are build on top of the basic geometry types such as \n",
    "Multipoint, Multiline, and MultiPolygons.\n",
    "\n",
    "Apart from supporting geometry types, spatial database also supports operations on geometry as well as between geometries.\n",
    "\n",
    "Queries that involve geometry types are called spatial queries."
   ]
  },
  {
   "cell_type": "markdown",
   "id": "d087d7cf-d3e2-446d-92ef-69345dac4bf2",
   "metadata": {},
   "source": [
    "## Basic Spatial Operations"
   ]
  },
  {
   "cell_type": "markdown",
   "id": "d689f085-e96f-4694-a3fe-b96b9a74bd00",
   "metadata": {},
   "source": [
    "Let us look into some basic properties of a spatially enabled database. For this lecture we are going to use the nyc dataset. So you have to load up the nyc database. "
   ]
  },
  {
   "cell_type": "markdown",
   "id": "90b3cfe2-0c43-41e8-a6c3-8258e70a3d04",
   "metadata": {},
   "source": [
    "First let us check the nyc_schools table. What are the columns in this table, and what are there data types. Can you identify the geometry column.  "
   ]
  },
  {
   "cell_type": "markdown",
   "id": "1250db67-0f30-4ee6-b1f4-81dfa64881bc",
   "metadata": {},
   "source": [
    "### Check the CRS of the geometry column (st_srid)"
   ]
  },
  {
   "cell_type": "markdown",
   "id": "b6005a23-6e8a-4c20-8668-341fb45cadb0",
   "metadata": {},
   "source": [
    "We can check the CRS (coordinate reference system) for a geometry column using the st_srid method. Let us look at the syntax\n",
    "\n",
    "```sql\n",
    "select st_srid(geom) from nyc_schools\n",
    "```\n",
    "\n",
    "As you can see this function gives the CRS information for all the geometries in the table. "
   ]
  },
  {
   "cell_type": "markdown",
   "id": "fa370b4a-8b99-4140-955a-76c2b76b5750",
   "metadata": {},
   "source": [
    "### Convert from one crs to another crs (st_transform)"
   ]
  },
  {
   "cell_type": "markdown",
   "id": "38bb8c87-1a69-48c7-a47f-6ad622253eb9",
   "metadata": {},
   "source": [
    "We can use the st_transform function to convert the CRS of a geometry column to a different CRS. Let us convert the crs of the geometry column for nyc_schools to EPSG 4326\n",
    "\n",
    "```sql\n",
    "select st_transform(geom,4326) from nyc_schools\n",
    "```"
   ]
  },
  {
   "cell_type": "markdown",
   "id": "8ad79845-6001-4a46-b299-ee9d2ab1419b",
   "metadata": {},
   "source": [
    "### Get geometry type of geometry column (ST_GeometryType)"
   ]
  },
  {
   "cell_type": "markdown",
   "id": "51c8986d-a3ab-4ebf-b6ca-d090ea4b11f5",
   "metadata": {},
   "source": [
    "You can use the ST_GeometryType function to find out the geometry type for a geometry column.\n",
    "\n",
    "```sql\n",
    "select ST_GeometryType(geom) from nyc_schools\n",
    "```"
   ]
  },
  {
   "cell_type": "markdown",
   "id": "4a9e0e4b-2245-4818-8eb1-126a5c87cf99",
   "metadata": {},
   "source": [
    "### Get x,y coordinates for geometry column having point data type (st_x,st_y)"
   ]
  },
  {
   "cell_type": "markdown",
   "id": "35a1d275-d448-4daa-9259-9bed68906fb1",
   "metadata": {},
   "source": [
    "```sql\n",
    "select st_x(geom),st_y(geom) from nyc_schools\n",
    "```\n",
    "\n",
    "Now can you get the x,y coordinates in EPSG:4326 CRS. "
   ]
  },
  {
   "cell_type": "markdown",
   "id": "6def81d7-8cdc-4f98-8f16-e1bea6ce707b",
   "metadata": {},
   "source": [
    "### Centroid (st_centroid)"
   ]
  },
  {
   "cell_type": "markdown",
   "id": "af89dc8f-d20d-4c8e-852f-3f2fef57513a",
   "metadata": {},
   "source": [
    "We can use st_centroid to get the centroid of each of the geometries in the geometry column. Let us try an example using the nyc_streets table\n",
    "\n",
    "```sql\n",
    "select st_centroid(geom) from nyc_streets\n",
    "```"
   ]
  },
  {
   "cell_type": "markdown",
   "id": "91a0b755-018c-416f-8161-75bca15bdf61",
   "metadata": {},
   "source": [
    "### Creating a buffer (st_buffer)"
   ]
  },
  {
   "cell_type": "markdown",
   "id": "e12b06fa-545c-4033-9f54-fecbdada2adf",
   "metadata": {},
   "source": [
    "You can use the st_buffer function to create a buffer region around each geometries in a table (**Note: Make sure the CRS is projected (preferably in meters before applying the buffer**)). Let us apply a 2 mile buffer around shooting locations in nypd_shooting table. First check the crs for the geometry column. Fortunately the geometries are projected (with units in meters). Now lets apply the function"
   ]
  },
  {
   "cell_type": "markdown",
   "id": "9fed0ee9-baf7-4676-b35f-3e52a40c0be3",
   "metadata": {},
   "source": [
    "```sql\n",
    "select st_buffer(geom,2*1609.34) as buffer from nypd_shooting\n",
    "```"
   ]
  },
  {
   "cell_type": "markdown",
   "id": "b55ebc52-4a72-45e7-b44c-18a2b6fdde2a",
   "metadata": {},
   "source": [
    "### Creating a point geometry from coordinates (st_makepoint,st_setsrid)"
   ]
  },
  {
   "cell_type": "markdown",
   "id": "d08a15c7-bd8f-4779-a9c2-8f38b4a8c316",
   "metadata": {},
   "source": [
    "Suppose you want to create a point geometry for CWRU (latitude = 41.504, longitude = -81.608)\n",
    "\n",
    "```sql\n",
    "select st_setsrid(st_makepoint(-81.608,41.504),4326) as geom\n",
    "```\n",
    "\n",
    "As you can see you are first creating a point using the st_makepoint function which accepts longitude and latitude st_makepoint(-81.608,41.504)\n",
    "\n",
    "And then you are applying st_setsrid which takes in a geometry and SRID as arguments. "
   ]
  },
  {
   "cell_type": "markdown",
   "id": "e4444746-64bd-4336-bfce-7acff891029c",
   "metadata": {},
   "source": [
    "In the next section we will look into spatial queries."
   ]
  }
 ],
 "metadata": {
  "kernelspec": {
   "display_name": "Python 3 (ipykernel)",
   "language": "python",
   "name": "python3"
  },
  "language_info": {
   "codemirror_mode": {
    "name": "ipython",
    "version": 3
   },
   "file_extension": ".py",
   "mimetype": "text/x-python",
   "name": "python",
   "nbconvert_exporter": "python",
   "pygments_lexer": "ipython3",
   "version": "3.10.4"
  }
 },
 "nbformat": 4,
 "nbformat_minor": 5
}
