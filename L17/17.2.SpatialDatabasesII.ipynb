{
 "cells": [
  {
   "cell_type": "markdown",
   "id": "d08d1d83-92dc-4227-b1dd-8d7c8c48b615",
   "metadata": {},
   "source": [
    "# Spatial Databases II"
   ]
  },
  {
   "cell_type": "markdown",
   "id": "5fbb46af-bc8e-4fc1-98e7-0fb9a6a60be1",
   "metadata": {},
   "source": [
    "## Spatial Queries"
   ]
  },
  {
   "cell_type": "markdown",
   "id": "eaac640e-9fce-40da-b03f-086ee20ab864",
   "metadata": {},
   "source": [
    "> **Spatial queries are queries in a spatial database** that can be answered on the **basis of geometric information only, i.e., the spatial position and extent of the objects involved**."
   ]
  },
  {
   "cell_type": "markdown",
   "id": "21305bdd-610a-462f-82ce-f8f8815353f9",
   "metadata": {},
   "source": [
    "### Containment Query (st_contains)"
   ]
  },
  {
   "cell_type": "markdown",
   "id": "989a5bd3-25c0-426f-a4a9-c79999433253",
   "metadata": {},
   "source": [
    "The function **st_contains(geometry A,geometry B)** returns true if geometry A completely contains geometry B (**Note: make sure the SRID's are the same**)"
   ]
  },
  {
   "cell_type": "markdown",
   "id": "b8da898a-31e6-4071-92fd-f43bbd0e30de",
   "metadata": {},
   "source": [
    "![Contains_explanation](images/containment_detail.png) "
   ]
  },
  {
   "cell_type": "markdown",
   "id": "893f7c34-0177-42fb-9eb5-31a13b2cf547",
   "metadata": {},
   "source": [
    "Some real world examples include\n",
    "\n",
    "![PointInPolygon](images/PointInPolygon.png) \n",
    "\n",
    "![Covid Cases](images/Covid_Cases.png) "
   ]
  },
  {
   "cell_type": "markdown",
   "id": "20c85431-2eb3-4cdc-86d5-e395c4b6a32b",
   "metadata": {},
   "source": [
    "Lets look at an example. In this example we want to find how many schools are with in the Zone with locationid 47. So we are going to query the tables taxi_zones and nyc_schools. First let us check the CRS information of both the tables\n",
    "\n",
    "```sql\n",
    "select st_srid(geom) from nyc_schools limit 1\n",
    "select st_srid(geom) from taxi_zones limit 1\n",
    "```\n",
    "\n",
    "Seems like both have CRS 26918...Great.. So safe to proceed. We only want Zone with locationid 47\n",
    "\n",
    "```sql\n",
    "select n.gid from nyc_schools n,taxi_zones t where t.locationid=47 and st_contains(t.geom,n.geom)\n",
    "```\n",
    "\n",
    "Which will give you all the unique schoold ids. Now if we want to get the count\n",
    "\n",
    "```sql\n",
    "select count(n.gid) as total_count from nyc_schools n,taxi_zones t where t.locationid=47 and st_contains(t.geom,n.geom)\n",
    "```\n"
   ]
  },
  {
   "cell_type": "markdown",
   "id": "8c95eeaa-e83d-4eb5-8363-198fe1d8a3fb",
   "metadata": {},
   "source": [
    "Another example to find out the total schools in each taxi zones\n",
    "\n",
    "```sql\n",
    "select t.locationid,count(n.gid) as total_count from nyc_schools n,taxi_zones t where st_contains(t.geom,n.geom) group by t.locationid\n",
    "```\n",
    "\n",
    "What if you want to also show taxizones without any schools. \n",
    "\n"
   ]
  },
  {
   "cell_type": "markdown",
   "id": "c0bf4b86-dd98-4e3d-949c-d7b10ec584e3",
   "metadata": {},
   "source": [
    "### Within Query (st_within)"
   ]
  },
  {
   "cell_type": "markdown",
   "id": "5227a876-2576-4815-b1e2-9cdfa86daa2f",
   "metadata": {},
   "source": [
    "With in query is very similar to contains query and **st_within(geometryA,geometryB)** checks whether geometryA is completely within geometryB. Let us look at a simple example. \n",
    "\n",
    "Find all schools that have a shooting incident with in 50 meters of its location. Here we have to use nypd_shooting and nyc_schools. First check the SRIDs and then proceed\n",
    "\n",
    "```sql\n",
    "select sc.gid,sc.schoolname from nypd_shooting s,nyc_schools sc where st_within(s.geom,st_buffer(sc.geom,50))\n",
    "```\n",
    "\n",
    "Now find out the total count of shooting incidents near each school. "
   ]
  },
  {
   "cell_type": "markdown",
   "id": "3c94fc76-c1f0-436d-9384-cdc6df0ee84f",
   "metadata": {},
   "source": [
    "### Intersection Query (st_intersects)"
   ]
  },
  {
   "cell_type": "markdown",
   "id": "9d4b6253-4863-427d-82eb-43036c0c17ab",
   "metadata": {},
   "source": [
    "The function **st_intersects(geometry A,geometry B)** returns true if geometry A and geometry B intersect or touch at atleast a single point\n",
    "\n",
    "![LineIntersects](images/intersect.png) "
   ]
  },
  {
   "cell_type": "markdown",
   "id": "e80c6276-5acc-47f9-94a7-050ef8869c3e",
   "metadata": {},
   "source": [
    "A real world example would be to identify the houses that fall with in a hazard zone. We would not only want the houses that are with in the hazard zone but also the houses that has some portion of it inside the hazard zone\n",
    "\n",
    "![Hazard Zones](images/hazard_zones.png) "
   ]
  },
  {
   "cell_type": "markdown",
   "id": "94c72d2f-8a70-4d71-a665-fd86f4cbbc9d",
   "metadata": {},
   "source": [
    "Let us try out an example. \n",
    "\n",
    "Find all the residential streets that pass through Soho neighborhood in Manhattan. We have to use nyc_neighborhoods table and nyc_streets table\n",
    "\n",
    "```sql\n",
    "select st.name from nyc_streets st, nyc_neighborhoods n where st_intersects(st.geom,n.geom) and n.boroname='Manhattan' and n.name = 'Soho'```"
   ]
  },
  {
   "cell_type": "markdown",
   "id": "8ee93490-7e1b-49f5-a7e9-095cce3d62f9",
   "metadata": {},
   "source": [
    "### With in a Distance Queries (st_dwithin)"
   ]
  },
  {
   "cell_type": "markdown",
   "id": "6f6555fa-5641-420c-bb25-5abe65d48463",
   "metadata": {},
   "source": [
    "With in distance queries are used to find out geometrical objects that are with in a specific distance of a particular geometrical object."
   ]
  },
  {
   "cell_type": "markdown",
   "id": "4af72c9a-4946-457a-a73e-dbd3cce0fa4a",
   "metadata": {},
   "source": [
    "![Withindistance_example](images/withindistance.png)"
   ]
  },
  {
   "cell_type": "markdown",
   "id": "8f83a420-7336-4124-8191-1d6eedaf0dc9",
   "metadata": {},
   "source": [
    "Let us look at some concrete examples\n",
    "\n",
    "We want to find out schools that are within 100 meters of an nyc subway station. \n",
    "\n",
    "```sql\n",
    "select sc.schoolname,s.gid,s.name from nyc_schools sc,nyc_subway_stations s where st_dwithin(sc.geom,s.geom,100)\n",
    "```"
   ]
  },
  {
   "cell_type": "code",
   "execution_count": null,
   "id": "b6e32d78-8c92-41b7-b940-0dfc2976c492",
   "metadata": {},
   "outputs": [],
   "source": []
  }
 ],
 "metadata": {
  "kernelspec": {
   "display_name": "Python 3 (ipykernel)",
   "language": "python",
   "name": "python3"
  },
  "language_info": {
   "codemirror_mode": {
    "name": "ipython",
    "version": 3
   },
   "file_extension": ".py",
   "mimetype": "text/x-python",
   "name": "python",
   "nbconvert_exporter": "python",
   "pygments_lexer": "ipython3",
   "version": "3.10.4"
  }
 },
 "nbformat": 4,
 "nbformat_minor": 5
}
