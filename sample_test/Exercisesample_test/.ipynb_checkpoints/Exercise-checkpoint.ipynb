{
 "cells": [
  {
   "cell_type": "markdown",
   "id": "b716f19a",
   "metadata": {},
   "source": [
    "# This is a sample test        "
   ]
  },
  {
   "cell_type": "code",
   "execution_count": null,
   "id": "49057b57",
   "metadata": {},
   "outputs": [],
   "source": [
    "import sys\n",
    "sys.path.append('../../')\n",
    "from helper.questionhelper import *\n",
    "qset = QuestionSet()        "
   ]
  },
  {
   "cell_type": "code",
   "execution_count": null,
   "id": "d6ff3bc5",
   "metadata": {},
   "outputs": [],
   "source": [
    "qset.getQuestion(1)"
   ]
  },
  {
   "cell_type": "code",
   "execution_count": null,
   "id": "7f8aba4a",
   "metadata": {},
   "outputs": [],
   "source": [
    "#Scratch Pad"
   ]
  },
  {
   "cell_type": "code",
   "execution_count": null,
   "id": "b1e1f9fc",
   "metadata": {},
   "outputs": [],
   "source": [
    "qset.getQuestion(2)"
   ]
  },
  {
   "cell_type": "code",
   "execution_count": null,
   "id": "632b09c2",
   "metadata": {},
   "outputs": [],
   "source": [
    "#Scratch Pad"
   ]
  },
  {
   "cell_type": "code",
   "execution_count": null,
   "id": "ec53a964",
   "metadata": {},
   "outputs": [],
   "source": [
    "qset.getQuestion(3)"
   ]
  },
  {
   "cell_type": "code",
   "execution_count": null,
   "id": "d1091c0f",
   "metadata": {},
   "outputs": [],
   "source": [
    "#Scratch Pad"
   ]
  },
  {
   "cell_type": "code",
   "execution_count": null,
   "id": "af8b0bd1",
   "metadata": {},
   "outputs": [],
   "source": [
    "qset.getQuestion(4)"
   ]
  },
  {
   "cell_type": "code",
   "execution_count": null,
   "id": "786e722d",
   "metadata": {},
   "outputs": [],
   "source": [
    "#Scratch Pad"
   ]
  },
  {
   "cell_type": "code",
   "execution_count": null,
   "id": "f9d18ccd",
   "metadata": {},
   "outputs": [],
   "source": [
    "qset.showSubmitSection()"
   ]
  }
 ],
 "metadata": {
  "kernelspec": {
   "display_name": "Python 3 (ipykernel)",
   "language": "python",
   "name": "python3"
  },
  "language_info": {
   "codemirror_mode": {
    "name": "ipython",
    "version": 3
   },
   "file_extension": ".py",
   "mimetype": "text/x-python",
   "name": "python",
   "nbconvert_exporter": "python",
   "pygments_lexer": "ipython3",
   "version": "3.10.4"
  }
 },
 "nbformat": 4,
 "nbformat_minor": 5
}
