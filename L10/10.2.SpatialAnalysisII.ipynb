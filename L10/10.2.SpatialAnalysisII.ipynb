{
 "cells": [
  {
   "cell_type": "markdown",
   "id": "0394f77f-d7be-4795-910b-0e200dd29b34",
   "metadata": {},
   "source": [
    "# Spatial Analysis II"
   ]
  },
  {
   "cell_type": "markdown",
   "id": "d1942054-5fbe-4174-aa93-282bfb4dcc4e",
   "metadata": {},
   "source": [
    "## Multiple Layer Analysis"
   ]
  },
  {
   "cell_type": "markdown",
   "id": "c8b42c02-d3cb-4ed4-82c6-f45eea3d0d8e",
   "metadata": {},
   "source": [
    "### Select Data based on Location"
   ]
  },
  {
   "cell_type": "markdown",
   "id": "27cc088e-78fa-47f9-b761-a636f11d989d",
   "metadata": {},
   "source": [
    "Until now we have seen selections based on numerical and string values (&,|) in pandas dataframe. Now what if we want to select all the hospitals with in Cuyahoga county, or all the covid cases with in the City of Cleveland, or find out all the highways that pass through Cuyahoga County or all the land parcels that are with in 5 mile radius of a nuclear reactor. For all these queries we use selection by location. So let's see some operations and the corresponding examples"
   ]
  },
  {
   "cell_type": "markdown",
   "id": "876dfe3b-b8b2-4b9d-b94a-45e42b0b4172",
   "metadata": {},
   "source": [
    "#### Within and Contains"
   ]
  },
  {
   "cell_type": "markdown",
   "id": "4d22fe6e-624f-488b-8a0f-7f890ad7c07c",
   "metadata": {},
   "source": [
    "As the name suggests within and contains operations are used to select geometries that are completely inside a given geometry (used for selection) or geometries that contain the given geometry. \n",
    "\n",
    "![point_circle](images/point_circle.png)"
   ]
  },
  {
   "cell_type": "markdown",
   "id": "160a8507-364a-4e93-ab73-00d1a8e77aee",
   "metadata": {},
   "source": [
    "So let us select all the hospitals from Cuyahoga county"
   ]
  },
  {
   "cell_type": "code",
   "execution_count": 139,
   "id": "4b4e08db-d71d-439d-a003-f99b28828c41",
   "metadata": {},
   "outputs": [],
   "source": [
    "import pandas as pd\n",
    "import geopandas as gpd"
   ]
  },
  {
   "cell_type": "code",
   "execution_count": 140,
   "id": "56026cbf-f463-4965-9906-b91bf3ccbb9e",
   "metadata": {},
   "outputs": [
    {
     "data": {
      "text/html": [
       "<div>\n",
       "<style scoped>\n",
       "    .dataframe tbody tr th:only-of-type {\n",
       "        vertical-align: middle;\n",
       "    }\n",
       "\n",
       "    .dataframe tbody tr th {\n",
       "        vertical-align: top;\n",
       "    }\n",
       "\n",
       "    .dataframe thead th {\n",
       "        text-align: right;\n",
       "    }\n",
       "</style>\n",
       "<table border=\"1\" class=\"dataframe\">\n",
       "  <thead>\n",
       "    <tr style=\"text-align: right;\">\n",
       "      <th></th>\n",
       "      <th>OBJECTID</th>\n",
       "      <th>ID</th>\n",
       "      <th>NAME</th>\n",
       "      <th>ADDRESS</th>\n",
       "      <th>CITY</th>\n",
       "      <th>STATE</th>\n",
       "      <th>TELEPHONE</th>\n",
       "      <th>TYPE</th>\n",
       "      <th>STATUS</th>\n",
       "      <th>POPULATION</th>\n",
       "      <th>...</th>\n",
       "      <th>WEBSITE</th>\n",
       "      <th>STATE_ID</th>\n",
       "      <th>ALT_NAME</th>\n",
       "      <th>ST_FIPS</th>\n",
       "      <th>OWNER</th>\n",
       "      <th>TTL_STAFF</th>\n",
       "      <th>BEDS</th>\n",
       "      <th>TRAUMA</th>\n",
       "      <th>HELIPAD</th>\n",
       "      <th>geometry</th>\n",
       "    </tr>\n",
       "  </thead>\n",
       "  <tbody>\n",
       "    <tr>\n",
       "      <th>0</th>\n",
       "      <td>235</td>\n",
       "      <td>14244266</td>\n",
       "      <td>ROBINSON MEMORIAL HOSPITAL</td>\n",
       "      <td>6847 N CHESTNUT</td>\n",
       "      <td>RAVENNA</td>\n",
       "      <td>OH</td>\n",
       "      <td>(330) 297-2300</td>\n",
       "      <td>GENERAL ACUTE CARE</td>\n",
       "      <td>OPEN</td>\n",
       "      <td>302</td>\n",
       "      <td>...</td>\n",
       "      <td>http://www.uhhospitals.org/portage</td>\n",
       "      <td>1255</td>\n",
       "      <td>UNIVERSITY HOSPITALS PORTAGE MEDICAL CENTER</td>\n",
       "      <td>39</td>\n",
       "      <td>NON-PROFIT</td>\n",
       "      <td>-999</td>\n",
       "      <td>302</td>\n",
       "      <td>LEVEL III</td>\n",
       "      <td>Y</td>\n",
       "      <td>POINT (-81.24902 41.17606)</td>\n",
       "    </tr>\n",
       "    <tr>\n",
       "      <th>1</th>\n",
       "      <td>246</td>\n",
       "      <td>17545409</td>\n",
       "      <td>MIAMI VALLEY HOSPITAL</td>\n",
       "      <td>ONE WYOMING STREET</td>\n",
       "      <td>DAYTON</td>\n",
       "      <td>OH</td>\n",
       "      <td>(937) 208-8000</td>\n",
       "      <td>GENERAL ACUTE CARE</td>\n",
       "      <td>OPEN</td>\n",
       "      <td>883</td>\n",
       "      <td>...</td>\n",
       "      <td>http://www.miamivalleyhospital.org</td>\n",
       "      <td>1247</td>\n",
       "      <td>NOT AVAILABLE</td>\n",
       "      <td>39</td>\n",
       "      <td>NON-PROFIT</td>\n",
       "      <td>-999</td>\n",
       "      <td>883</td>\n",
       "      <td>LEVEL I</td>\n",
       "      <td>Y</td>\n",
       "      <td>POINT (-84.18591 39.74489)</td>\n",
       "    </tr>\n",
       "    <tr>\n",
       "      <th>2</th>\n",
       "      <td>259</td>\n",
       "      <td>14044481</td>\n",
       "      <td>ST JOSEPH HEALTH CENTER</td>\n",
       "      <td>667 EASTLAND AVE SE</td>\n",
       "      <td>WARREN</td>\n",
       "      <td>OH</td>\n",
       "      <td>(330) 841-4000</td>\n",
       "      <td>GENERAL ACUTE CARE</td>\n",
       "      <td>OPEN</td>\n",
       "      <td>219</td>\n",
       "      <td>...</td>\n",
       "      <td>http://www.hmpartners.org</td>\n",
       "      <td>1000</td>\n",
       "      <td>NOT AVAILABLE</td>\n",
       "      <td>39</td>\n",
       "      <td>NON-PROFIT</td>\n",
       "      <td>-999</td>\n",
       "      <td>219</td>\n",
       "      <td>LEVEL III</td>\n",
       "      <td>Y</td>\n",
       "      <td>POINT (-80.77716 41.23091)</td>\n",
       "    </tr>\n",
       "    <tr>\n",
       "      <th>3</th>\n",
       "      <td>260</td>\n",
       "      <td>2944482</td>\n",
       "      <td>TRUMBULL MEMORIAL HOSPITAL</td>\n",
       "      <td>1350 EAST MARKET STREET</td>\n",
       "      <td>WARREN</td>\n",
       "      <td>OH</td>\n",
       "      <td>(330) 841-9011</td>\n",
       "      <td>GENERAL ACUTE CARE</td>\n",
       "      <td>OPEN</td>\n",
       "      <td>346</td>\n",
       "      <td>...</td>\n",
       "      <td>http://www.valleycarehealth.net</td>\n",
       "      <td>1283</td>\n",
       "      <td>NOT AVAILABLE</td>\n",
       "      <td>39</td>\n",
       "      <td>PROPRIETARY</td>\n",
       "      <td>-999</td>\n",
       "      <td>346</td>\n",
       "      <td>LEVEL III</td>\n",
       "      <td>Y</td>\n",
       "      <td>POINT (-80.79878 41.23586)</td>\n",
       "    </tr>\n",
       "    <tr>\n",
       "      <th>4</th>\n",
       "      <td>268</td>\n",
       "      <td>9344221</td>\n",
       "      <td>EDWIN SHAW REHABILITATION INSTITUTE</td>\n",
       "      <td>330 BROADWAY EAST</td>\n",
       "      <td>CUYAHOGA FALLS</td>\n",
       "      <td>OH</td>\n",
       "      <td>(330) 436-0910</td>\n",
       "      <td>REHABILITATION</td>\n",
       "      <td>CLOSED</td>\n",
       "      <td>139</td>\n",
       "      <td>...</td>\n",
       "      <td>http://www.edwinshaw.com</td>\n",
       "      <td>1320</td>\n",
       "      <td>NOT AVAILABLE</td>\n",
       "      <td>39</td>\n",
       "      <td>NON-PROFIT</td>\n",
       "      <td>-999</td>\n",
       "      <td>139</td>\n",
       "      <td>NOT AVAILABLE</td>\n",
       "      <td>N</td>\n",
       "      <td>POINT (-81.47738 41.13215)</td>\n",
       "    </tr>\n",
       "  </tbody>\n",
       "</table>\n",
       "<p>5 rows × 29 columns</p>\n",
       "</div>"
      ],
      "text/plain": [
       "   OBJECTID        ID                                 NAME  \\\n",
       "0       235  14244266           ROBINSON MEMORIAL HOSPITAL   \n",
       "1       246  17545409                MIAMI VALLEY HOSPITAL   \n",
       "2       259  14044481              ST JOSEPH HEALTH CENTER   \n",
       "3       260   2944482           TRUMBULL MEMORIAL HOSPITAL   \n",
       "4       268   9344221  EDWIN SHAW REHABILITATION INSTITUTE   \n",
       "\n",
       "                   ADDRESS            CITY STATE       TELEPHONE  \\\n",
       "0          6847 N CHESTNUT         RAVENNA    OH  (330) 297-2300   \n",
       "1       ONE WYOMING STREET          DAYTON    OH  (937) 208-8000   \n",
       "2      667 EASTLAND AVE SE          WARREN    OH  (330) 841-4000   \n",
       "3  1350 EAST MARKET STREET          WARREN    OH  (330) 841-9011   \n",
       "4        330 BROADWAY EAST  CUYAHOGA FALLS    OH  (330) 436-0910   \n",
       "\n",
       "                 TYPE  STATUS  POPULATION  ...  \\\n",
       "0  GENERAL ACUTE CARE    OPEN         302  ...   \n",
       "1  GENERAL ACUTE CARE    OPEN         883  ...   \n",
       "2  GENERAL ACUTE CARE    OPEN         219  ...   \n",
       "3  GENERAL ACUTE CARE    OPEN         346  ...   \n",
       "4      REHABILITATION  CLOSED         139  ...   \n",
       "\n",
       "                              WEBSITE  STATE_ID  \\\n",
       "0  http://www.uhhospitals.org/portage      1255   \n",
       "1  http://www.miamivalleyhospital.org      1247   \n",
       "2           http://www.hmpartners.org      1000   \n",
       "3     http://www.valleycarehealth.net      1283   \n",
       "4            http://www.edwinshaw.com      1320   \n",
       "\n",
       "                                      ALT_NAME  ST_FIPS        OWNER  \\\n",
       "0  UNIVERSITY HOSPITALS PORTAGE MEDICAL CENTER       39   NON-PROFIT   \n",
       "1                                NOT AVAILABLE       39   NON-PROFIT   \n",
       "2                                NOT AVAILABLE       39   NON-PROFIT   \n",
       "3                                NOT AVAILABLE       39  PROPRIETARY   \n",
       "4                                NOT AVAILABLE       39   NON-PROFIT   \n",
       "\n",
       "  TTL_STAFF BEDS         TRAUMA HELIPAD                    geometry  \n",
       "0      -999  302      LEVEL III       Y  POINT (-81.24902 41.17606)  \n",
       "1      -999  883        LEVEL I       Y  POINT (-84.18591 39.74489)  \n",
       "2      -999  219      LEVEL III       Y  POINT (-80.77716 41.23091)  \n",
       "3      -999  346      LEVEL III       Y  POINT (-80.79878 41.23586)  \n",
       "4      -999  139  NOT AVAILABLE       N  POINT (-81.47738 41.13215)  \n",
       "\n",
       "[5 rows x 29 columns]"
      ]
     },
     "execution_count": 140,
     "metadata": {},
     "output_type": "execute_result"
    }
   ],
   "source": [
    "hospitals = gpd.read_file('../../largedatasets/Ohio_hospitals/Ohio_hospitals.shp')\n",
    "hospitals.head()"
   ]
  },
  {
   "cell_type": "code",
   "execution_count": 141,
   "id": "216d0650-bf0e-4832-bece-d08836e859b6",
   "metadata": {},
   "outputs": [
    {
     "data": {
      "text/html": [
       "<div>\n",
       "<style scoped>\n",
       "    .dataframe tbody tr th:only-of-type {\n",
       "        vertical-align: middle;\n",
       "    }\n",
       "\n",
       "    .dataframe tbody tr th {\n",
       "        vertical-align: top;\n",
       "    }\n",
       "\n",
       "    .dataframe thead th {\n",
       "        text-align: right;\n",
       "    }\n",
       "</style>\n",
       "<table border=\"1\" class=\"dataframe\">\n",
       "  <thead>\n",
       "    <tr style=\"text-align: right;\">\n",
       "      <th></th>\n",
       "      <th>OBJECTID</th>\n",
       "      <th>COUNTY_CD</th>\n",
       "      <th>COUNTY_SEA</th>\n",
       "      <th>ODOT_DISTR</th>\n",
       "      <th>FIPS_COUNT</th>\n",
       "      <th>POP_2010</th>\n",
       "      <th>POP_2000</th>\n",
       "      <th>POP_1990</th>\n",
       "      <th>STATE_PLAN</th>\n",
       "      <th>ELEVATION_</th>\n",
       "      <th>...</th>\n",
       "      <th>LONG_WEST_</th>\n",
       "      <th>AREA_SQMI</th>\n",
       "      <th>AREA_ID</th>\n",
       "      <th>created_us</th>\n",
       "      <th>created_da</th>\n",
       "      <th>last_edite</th>\n",
       "      <th>last_edi_1</th>\n",
       "      <th>SHAPE_STAr</th>\n",
       "      <th>SHAPE_STLe</th>\n",
       "      <th>geometry</th>\n",
       "    </tr>\n",
       "  </thead>\n",
       "  <tbody>\n",
       "    <tr>\n",
       "      <th>0</th>\n",
       "      <td>1</td>\n",
       "      <td>HIG</td>\n",
       "      <td>HILLSBORO</td>\n",
       "      <td>9</td>\n",
       "      <td>39071</td>\n",
       "      <td>43589</td>\n",
       "      <td>40875</td>\n",
       "      <td>35728</td>\n",
       "      <td>S</td>\n",
       "      <td>1340</td>\n",
       "      <td>...</td>\n",
       "      <td>-83.873</td>\n",
       "      <td>557.74</td>\n",
       "      <td>53</td>\n",
       "      <td>Esri_Anonymous</td>\n",
       "      <td>2015-08-11</td>\n",
       "      <td>Esri_Anonymous</td>\n",
       "      <td>2015-08-11</td>\n",
       "      <td>2.407747e+09</td>\n",
       "      <td>213157.740992</td>\n",
       "      <td>POLYGON ((-83.78330 39.26382, -83.78312 39.263...</td>\n",
       "    </tr>\n",
       "    <tr>\n",
       "      <th>1</th>\n",
       "      <td>2</td>\n",
       "      <td>HOC</td>\n",
       "      <td>LOGAN</td>\n",
       "      <td>10</td>\n",
       "      <td>39073</td>\n",
       "      <td>29380</td>\n",
       "      <td>28241</td>\n",
       "      <td>25533</td>\n",
       "      <td>S</td>\n",
       "      <td>1220</td>\n",
       "      <td>...</td>\n",
       "      <td>-82.748</td>\n",
       "      <td>423.50</td>\n",
       "      <td>54</td>\n",
       "      <td>Esri_Anonymous</td>\n",
       "      <td>2015-08-11</td>\n",
       "      <td>Esri_Anonymous</td>\n",
       "      <td>2015-08-11</td>\n",
       "      <td>1.844277e+09</td>\n",
       "      <td>215451.632241</td>\n",
       "      <td>POLYGON ((-82.49595 39.60265, -82.49505 39.612...</td>\n",
       "    </tr>\n",
       "    <tr>\n",
       "      <th>2</th>\n",
       "      <td>3</td>\n",
       "      <td>HOL</td>\n",
       "      <td>MILLERSBURG</td>\n",
       "      <td>11</td>\n",
       "      <td>39075</td>\n",
       "      <td>42366</td>\n",
       "      <td>38943</td>\n",
       "      <td>32849</td>\n",
       "      <td>N</td>\n",
       "      <td>1380</td>\n",
       "      <td>...</td>\n",
       "      <td>-82.222</td>\n",
       "      <td>424.03</td>\n",
       "      <td>55</td>\n",
       "      <td>Esri_Anonymous</td>\n",
       "      <td>2015-08-11</td>\n",
       "      <td>Esri_Anonymous</td>\n",
       "      <td>2015-08-11</td>\n",
       "      <td>1.905310e+09</td>\n",
       "      <td>193045.013152</td>\n",
       "      <td>POLYGON ((-81.87727 40.66713, -81.87564 40.667...</td>\n",
       "    </tr>\n",
       "    <tr>\n",
       "      <th>3</th>\n",
       "      <td>4</td>\n",
       "      <td>HUR</td>\n",
       "      <td>NORWALK</td>\n",
       "      <td>3</td>\n",
       "      <td>39077</td>\n",
       "      <td>59626</td>\n",
       "      <td>59487</td>\n",
       "      <td>56240</td>\n",
       "      <td>N</td>\n",
       "      <td>1200</td>\n",
       "      <td>...</td>\n",
       "      <td>-82.843</td>\n",
       "      <td>495.96</td>\n",
       "      <td>56</td>\n",
       "      <td>Esri_Anonymous</td>\n",
       "      <td>2015-08-11</td>\n",
       "      <td>Esri_Anonymous</td>\n",
       "      <td>2015-08-11</td>\n",
       "      <td>2.267372e+09</td>\n",
       "      <td>197349.121399</td>\n",
       "      <td>POLYGON ((-82.83547 41.14407, -82.83549 41.145...</td>\n",
       "    </tr>\n",
       "    <tr>\n",
       "      <th>4</th>\n",
       "      <td>5</td>\n",
       "      <td>FRA</td>\n",
       "      <td>COLUMBUS</td>\n",
       "      <td>6</td>\n",
       "      <td>39049</td>\n",
       "      <td>1163414</td>\n",
       "      <td>1068978</td>\n",
       "      <td>961437</td>\n",
       "      <td>S</td>\n",
       "      <td>1130</td>\n",
       "      <td>...</td>\n",
       "      <td>-83.255</td>\n",
       "      <td>543.97</td>\n",
       "      <td>143</td>\n",
       "      <td>Esri_Anonymous</td>\n",
       "      <td>2015-08-11</td>\n",
       "      <td>Esri_Anonymous</td>\n",
       "      <td>2015-08-11</td>\n",
       "      <td>2.401407e+09</td>\n",
       "      <td>211754.151636</td>\n",
       "      <td>POLYGON ((-83.24596 39.96574, -83.24595 39.965...</td>\n",
       "    </tr>\n",
       "  </tbody>\n",
       "</table>\n",
       "<p>5 rows × 24 columns</p>\n",
       "</div>"
      ],
      "text/plain": [
       "   OBJECTID COUNTY_CD   COUNTY_SEA  ODOT_DISTR FIPS_COUNT  POP_2010  POP_2000  \\\n",
       "0         1       HIG    HILLSBORO           9      39071     43589     40875   \n",
       "1         2       HOC        LOGAN          10      39073     29380     28241   \n",
       "2         3       HOL  MILLERSBURG          11      39075     42366     38943   \n",
       "3         4       HUR      NORWALK           3      39077     59626     59487   \n",
       "4         5       FRA     COLUMBUS           6      39049   1163414   1068978   \n",
       "\n",
       "   POP_1990 STATE_PLAN  ELEVATION_  ...  LONG_WEST_  AREA_SQMI  AREA_ID  \\\n",
       "0     35728          S        1340  ...     -83.873     557.74       53   \n",
       "1     25533          S        1220  ...     -82.748     423.50       54   \n",
       "2     32849          N        1380  ...     -82.222     424.03       55   \n",
       "3     56240          N        1200  ...     -82.843     495.96       56   \n",
       "4    961437          S        1130  ...     -83.255     543.97      143   \n",
       "\n",
       "       created_us  created_da      last_edite  last_edi_1    SHAPE_STAr  \\\n",
       "0  Esri_Anonymous  2015-08-11  Esri_Anonymous  2015-08-11  2.407747e+09   \n",
       "1  Esri_Anonymous  2015-08-11  Esri_Anonymous  2015-08-11  1.844277e+09   \n",
       "2  Esri_Anonymous  2015-08-11  Esri_Anonymous  2015-08-11  1.905310e+09   \n",
       "3  Esri_Anonymous  2015-08-11  Esri_Anonymous  2015-08-11  2.267372e+09   \n",
       "4  Esri_Anonymous  2015-08-11  Esri_Anonymous  2015-08-11  2.401407e+09   \n",
       "\n",
       "      SHAPE_STLe                                           geometry  \n",
       "0  213157.740992  POLYGON ((-83.78330 39.26382, -83.78312 39.263...  \n",
       "1  215451.632241  POLYGON ((-82.49595 39.60265, -82.49505 39.612...  \n",
       "2  193045.013152  POLYGON ((-81.87727 40.66713, -81.87564 40.667...  \n",
       "3  197349.121399  POLYGON ((-82.83547 41.14407, -82.83549 41.145...  \n",
       "4  211754.151636  POLYGON ((-83.24596 39.96574, -83.24595 39.965...  \n",
       "\n",
       "[5 rows x 24 columns]"
      ]
     },
     "execution_count": 141,
     "metadata": {},
     "output_type": "execute_result"
    }
   ],
   "source": [
    "countyBoundaries = gpd.read_file('../../largedatasets/ohio_county_boundaries/ODOT_County_Boundaries.shp')\n",
    "countyBoundaries.head()"
   ]
  },
  {
   "cell_type": "markdown",
   "id": "7239fb0e-fe35-4657-8053-8b531a5f3a58",
   "metadata": {},
   "source": [
    "**Before applying the method make sure that both the geodataframes have the same projections (or else re-project)**"
   ]
  },
  {
   "cell_type": "code",
   "execution_count": 142,
   "id": "03277a57-1348-4d14-b252-ca11cb1f9881",
   "metadata": {},
   "outputs": [
    {
     "data": {
      "text/plain": [
       "<Geographic 2D CRS: EPSG:4326>\n",
       "Name: WGS 84\n",
       "Axis Info [ellipsoidal]:\n",
       "- Lat[north]: Geodetic latitude (degree)\n",
       "- Lon[east]: Geodetic longitude (degree)\n",
       "Area of Use:\n",
       "- name: World.\n",
       "- bounds: (-180.0, -90.0, 180.0, 90.0)\n",
       "Datum: World Geodetic System 1984 ensemble\n",
       "- Ellipsoid: WGS 84\n",
       "- Prime Meridian: Greenwich"
      ]
     },
     "execution_count": 142,
     "metadata": {},
     "output_type": "execute_result"
    }
   ],
   "source": [
    "countyBoundaries.crs"
   ]
  },
  {
   "cell_type": "code",
   "execution_count": 143,
   "id": "4a7129d3-80c1-4158-9cc2-8b1b2bab84a8",
   "metadata": {},
   "outputs": [
    {
     "data": {
      "text/plain": [
       "<Geographic 2D CRS: EPSG:4326>\n",
       "Name: WGS 84\n",
       "Axis Info [ellipsoidal]:\n",
       "- Lat[north]: Geodetic latitude (degree)\n",
       "- Lon[east]: Geodetic longitude (degree)\n",
       "Area of Use:\n",
       "- name: World.\n",
       "- bounds: (-180.0, -90.0, 180.0, 90.0)\n",
       "Datum: World Geodetic System 1984 ensemble\n",
       "- Ellipsoid: WGS 84\n",
       "- Prime Meridian: Greenwich"
      ]
     },
     "execution_count": 143,
     "metadata": {},
     "output_type": "execute_result"
    }
   ],
   "source": [
    "hospitals.crs"
   ]
  },
  {
   "cell_type": "markdown",
   "id": "d8c0e4d5-fd31-4312-b429-c9db01aa4d38",
   "metadata": {},
   "source": [
    "Both the datasets are having the same projection. So lets go ahead and apply the within method. \n",
    "\n",
    "We want to select all the hospitals that are with in Cuyahoga county. So let's create a variable and store Cuyahoga County."
   ]
  },
  {
   "cell_type": "code",
   "execution_count": 144,
   "id": "19a006b1-a557-4a69-9cd5-4cacdd139f44",
   "metadata": {},
   "outputs": [
    {
     "data": {
      "text/html": [
       "<div>\n",
       "<style scoped>\n",
       "    .dataframe tbody tr th:only-of-type {\n",
       "        vertical-align: middle;\n",
       "    }\n",
       "\n",
       "    .dataframe tbody tr th {\n",
       "        vertical-align: top;\n",
       "    }\n",
       "\n",
       "    .dataframe thead th {\n",
       "        text-align: right;\n",
       "    }\n",
       "</style>\n",
       "<table border=\"1\" class=\"dataframe\">\n",
       "  <thead>\n",
       "    <tr style=\"text-align: right;\">\n",
       "      <th></th>\n",
       "      <th>OBJECTID</th>\n",
       "      <th>COUNTY_CD</th>\n",
       "      <th>COUNTY_SEA</th>\n",
       "      <th>ODOT_DISTR</th>\n",
       "      <th>FIPS_COUNT</th>\n",
       "      <th>POP_2010</th>\n",
       "      <th>POP_2000</th>\n",
       "      <th>POP_1990</th>\n",
       "      <th>STATE_PLAN</th>\n",
       "      <th>ELEVATION_</th>\n",
       "      <th>...</th>\n",
       "      <th>LONG_WEST_</th>\n",
       "      <th>AREA_SQMI</th>\n",
       "      <th>AREA_ID</th>\n",
       "      <th>created_us</th>\n",
       "      <th>created_da</th>\n",
       "      <th>last_edite</th>\n",
       "      <th>last_edi_1</th>\n",
       "      <th>SHAPE_STAr</th>\n",
       "      <th>SHAPE_STLe</th>\n",
       "      <th>geometry</th>\n",
       "    </tr>\n",
       "  </thead>\n",
       "  <tbody>\n",
       "    <tr>\n",
       "      <th>73</th>\n",
       "      <td>74</td>\n",
       "      <td>CUY</td>\n",
       "      <td>CLEVELAND</td>\n",
       "      <td>12</td>\n",
       "      <td>39035</td>\n",
       "      <td>1280122</td>\n",
       "      <td>1393978</td>\n",
       "      <td>1412140</td>\n",
       "      <td>N</td>\n",
       "      <td>1280</td>\n",
       "      <td>...</td>\n",
       "      <td>-81.972</td>\n",
       "      <td>459.01</td>\n",
       "      <td>34</td>\n",
       "      <td>Esri_Anonymous</td>\n",
       "      <td>2015-08-11</td>\n",
       "      <td>Esri_Anonymous</td>\n",
       "      <td>2015-08-11</td>\n",
       "      <td>2.116231e+09</td>\n",
       "      <td>244073.200371</td>\n",
       "      <td>POLYGON ((-81.39143 41.44521, -81.39076 41.445...</td>\n",
       "    </tr>\n",
       "  </tbody>\n",
       "</table>\n",
       "<p>1 rows × 24 columns</p>\n",
       "</div>"
      ],
      "text/plain": [
       "    OBJECTID COUNTY_CD COUNTY_SEA  ODOT_DISTR FIPS_COUNT  POP_2010  POP_2000  \\\n",
       "73        74       CUY  CLEVELAND          12      39035   1280122   1393978   \n",
       "\n",
       "    POP_1990 STATE_PLAN  ELEVATION_  ...  LONG_WEST_  AREA_SQMI  AREA_ID  \\\n",
       "73   1412140          N        1280  ...     -81.972     459.01       34   \n",
       "\n",
       "        created_us  created_da      last_edite  last_edi_1    SHAPE_STAr  \\\n",
       "73  Esri_Anonymous  2015-08-11  Esri_Anonymous  2015-08-11  2.116231e+09   \n",
       "\n",
       "       SHAPE_STLe                                           geometry  \n",
       "73  244073.200371  POLYGON ((-81.39143 41.44521, -81.39076 41.445...  \n",
       "\n",
       "[1 rows x 24 columns]"
      ]
     },
     "execution_count": 144,
     "metadata": {},
     "output_type": "execute_result"
    }
   ],
   "source": [
    "cuyCounty = countyBoundaries[countyBoundaries.COUNTY_CD=='CUY']\n",
    "cuyCounty"
   ]
  },
  {
   "cell_type": "code",
   "execution_count": 145,
   "id": "ebe9273a-b49e-4551-86c1-028810355799",
   "metadata": {},
   "outputs": [],
   "source": [
    "hospitalsCuy = hospitals[hospitals.within(cuyCounty.geometry.values[0])]"
   ]
  },
  {
   "cell_type": "markdown",
   "id": "8ab5ba5a-90d4-48fe-9e5e-c3727bb43907",
   "metadata": {},
   "source": [
    "We have used cuyCounty.geometry.values[0] here as we are interested in checking with only one geometry. \n",
    "\n",
    "If you check cuyCounty.geometry you will see that it is geoseries and if you further select the attribute values you will get the array of geometries (list of geometries) inside it."
   ]
  },
  {
   "cell_type": "code",
   "execution_count": 146,
   "id": "d2bf520a-df0a-4c9b-806b-4324b7750a57",
   "metadata": {},
   "outputs": [
    {
     "data": {
      "text/plain": [
       "73    POLYGON ((-81.39143 41.44521, -81.39076 41.445...\n",
       "Name: geometry, dtype: geometry"
      ]
     },
     "execution_count": 146,
     "metadata": {},
     "output_type": "execute_result"
    }
   ],
   "source": [
    "cuyCounty.geometry"
   ]
  },
  {
   "cell_type": "code",
   "execution_count": 147,
   "id": "6a7281d5-2dfa-4d1e-a139-c05b3c9cd25d",
   "metadata": {},
   "outputs": [
    {
     "data": {
      "text/plain": [
       "<GeometryArray>\n",
       "[<shapely.geometry.polygon.Polygon object at 0x0000015C41B6FBB0>]\n",
       "Length: 1, dtype: geometry"
      ]
     },
     "execution_count": 147,
     "metadata": {},
     "output_type": "execute_result"
    }
   ],
   "source": [
    "cuyCounty.geometry.values  #this is an array of geometries and you can select elements based on index"
   ]
  },
  {
   "cell_type": "code",
   "execution_count": 148,
   "id": "c1bc0354-ae58-4d97-a179-25c1b345f908",
   "metadata": {},
   "outputs": [
    {
     "data": {
      "image/svg+xml": [
       "<svg xmlns=\"http://www.w3.org/2000/svg\" xmlns:xlink=\"http://www.w3.org/1999/xlink\" width=\"100.0\" height=\"100.0\" viewBox=\"-81.99521622863463 41.251211892434256 0.6447581973482386 0.4041656277346277\" preserveAspectRatio=\"xMinYMin meet\"><g transform=\"matrix(1,0,0,-1,0,82.90658941260314)\"><path fill-rule=\"evenodd\" fill=\"#66cc99\" stroke=\"#555555\" stroke-width=\"0.012895163946964772\" opacity=\"0.6\" d=\"M -81.39142981826691,41.44520941454037 L -81.3907633525185,41.44520721567894 L -81.38409233532617,41.4452378381791 L -81.37578688985052,41.44526782007277 L -81.37498861564184,41.433373130405506 L -81.37487504413204,41.43179779137653 L -81.37453603771843,41.42717341308435 L -81.37433796452152,41.42439922840445 L -81.37647027503377,41.42438115063134 L -81.3871955486002,41.42430645445278 L -81.39101852429741,41.424305821206346 L -81.39179907490863,41.424305580026655 L -81.39184346122983,41.42372624846326 L -81.39185378957302,41.42266017388169 L -81.39186553950256,41.42143355944295 L -81.39183853158934,41.41658757133357 L -81.39193643439327,41.414047951364275 L -81.39201291331983,41.406100926606136 L -81.39203313722962,41.39786319584942 L -81.39192212060671,41.38870525948237 L -81.39192151652111,41.38859206505395 L -81.39191822248836,41.38848135848322 L -81.39187739786337,41.386645296970265 L -81.39186962449735,41.36929323645014 L -81.391927457346,41.36202419469389 L -81.39182570376626,41.357388902459 L -81.3916966830829,41.3482830426565 L -81.39432490552548,41.34834395372615 L -81.39566115035608,41.34836473659791 L -81.39644992966717,41.348377043735994 L -81.41900328017803,41.34873050322533 L -81.44005861529008,41.349065433580144 L -81.48909070028758,41.34988427096349 L -81.49996136460983,41.350058826278485 L -81.50265924936792,41.35008554151621 L -81.50828360842763,41.35014288766017 L -81.50914117559788,41.35015161997152 L -81.51049693241612,41.35016539618309 L -81.51109128507939,41.35017143039758 L -81.51150858229104,41.35017566641768 L -81.51208991371169,41.35018157296116 L -81.51893047960094,41.35025073316955 L -81.52665379056174,41.350498304613076 L -81.52879051500106,41.3505467813323 L -81.53579358867437,41.35048111868932 L -81.53711248112654,41.35043277499795 L -81.54322124171277,41.35049997627158 L -81.54632872856838,41.35055804731717 L -81.55245240653747,41.350730014549924 L -81.55832738020332,41.350829065823476 L -81.56165147627918,41.35087494157918 L -81.5663879044004,41.35091193755544 L -81.58043671156082,41.350994200308506 L -81.58847422540332,41.35100458113679 L -81.59228858356578,41.35099951644004 L -81.5983301266015,41.35098888112073 L -81.5984800169627,41.350745483984326 L -81.59836242436333,41.350354098705786 L -81.59802447036715,41.35012548075131 L -81.59772366515773,41.350184864669615 L -81.5972305566679,41.35033531699092 L -81.59672504316814,41.35040341574649 L -81.59622157623922,41.350317361493175 L -81.59569267416724,41.35008729656267 L -81.59544931170957,41.3499312933557 L -81.59488191500296,41.349515898422105 L -81.59424344544782,41.349326128256216 L -81.59379360588976,41.34931246735924 L -81.59338220992217,41.349505910928585 L -81.59293437494092,41.34930596622144 L -81.59280347883366,41.348893864543335 L -81.59276811826707,41.34848248594404 L -81.59297775111573,41.34810383128004 L -81.59354371159748,41.34759422424217 L -81.59401030097524,41.34737158878518 L -81.59534135220721,41.347792755766676 L -81.59599301401695,41.34801348924476 L -81.59664766439238,41.348018427325364 L -81.59707299487613,41.347826426532826 L -81.59711956379599,41.34739505776388 L -81.59715113720972,41.34707670163037 L -81.59702877613691,41.346199738039026 L -81.59684250351242,41.345666355041836 L -81.5962788296077,41.3448378113535 L -81.59535066926145,41.3440107428806 L -81.59498662634456,41.34369965946121 L -81.59463387435514,41.343563346951505 L -81.59391108250267,41.343557882237484 L -81.59351518437747,41.34358575800447 L -81.59280735905321,41.343487882445466 L -81.5919748622095,41.34353296442803 L -81.59077161304938,41.34377052601295 L -81.58976261105084,41.343752605121836 L -81.58934058401749,41.34369800918656 L -81.58898839511828,41.34352055498041 L -81.58866535700521,41.34319950394719 L -81.58811578382613,41.342486133778735 L -81.58791157755114,41.34202270800653 L -81.58786550702276,41.34175344077624 L -81.58797443737073,41.34136880622077 L -81.58805588604072,41.3408515743533 L -81.58805246412001,41.34009105991428 L -81.58803366119895,41.33945363617094 L -81.58775821373516,41.33863966064813 L -81.58780605612546,41.338126131019536 L -81.58786764805282,41.33760244688883 L -81.58778025477272,41.33699537013342 L -81.58778686615257,41.336502136563055 L -81.58797243536345,41.33588687585598 L -81.58815499049783,41.33548741010863 L -81.58874946231585,41.334885610170865 L -81.58927673213708,41.33420094619482 L -81.58967958762541,41.33364907472538 L -81.59003089575698,41.33287064056337 L -81.59041051841996,41.33201016249581 L -81.59066051473651,41.33167294254009 L -81.59129960426125,41.33078364964109 L -81.5916084209616,41.33011792708556 L -81.59173111898178,41.32910132394039 L -81.59164752536108,41.32821680673983 L -81.59131999388275,41.327217397438964 L -81.59075679077274,41.32650401728326 L -81.58969126903342,41.32564281818513 L -81.58836660493456,41.32477972682469 L -81.58769375820211,41.32412705584171 L -81.58707618491155,41.32341324206693 L -81.58685276847481,41.32278459918615 L -81.58701524512983,41.32185055877555 L -81.58721793756236,41.321300223919955 L -81.58735484498594,41.320928127266754 L -81.58764112273818,41.319912857983105 L -81.5875129316453,41.31930546085785 L -81.58699119176576,41.318561502775026 L -81.58605006653141,41.31758817263606 L -81.58556448302143,41.317193955039635 L -81.5845638737108,41.31659014908938 L -81.58375374496535,41.316008401848364 L -81.5834176704729,41.31565644877811 L -81.58324828824844,41.31507959874658 L -81.58335016152382,41.31459725696283 L -81.58379874728347,41.3136757544159 L -81.58392794731725,41.313193618921936 L -81.58375983063574,41.312513998392724 L -81.58352368522726,41.31183385665691 L -81.58351727230439,41.31129938353613 L -81.58348434264568,41.31078396741634 L -81.58366511582844,41.31054045876206 L -81.58396543294714,41.31037220491331 L -81.58447243226026,41.31012812991659 L -81.58501074179279,41.30984550165093 L -81.5853746307294,41.30953822870293 L -81.585409170733,41.30925948998487 L -81.5852794547385,41.308964015603586 L -81.58513907520981,41.30870716171206 L -81.5849075397273,41.30834115818411 L -81.58488320690076,41.307860457398974 L -81.58473484206377,41.30742533898605 L -81.5844088552491,41.30721359471679 L -81.5839687920583,41.307070727687574 L -81.5834167532023,41.30684951110735 L -81.58297930399769,41.30651288816182 L -81.58237825173485,41.306120829273716 L -81.5819590413455,41.305954804166404 L -81.58118977870242,41.305840452782064 L -81.58073779450552,41.305821503668405 L -81.58031514896128,41.305918969609216 L -81.5797576847517,41.30610071910641 L -81.57939735279454,41.306144390008875 L -81.57915108639787,41.30611153609963 L -81.57888639067502,41.30592346800454 L -81.5785510242986,41.30563936428682 L -81.57824440446976,41.30551550288891 L -81.57793729462274,41.305427907380874 L -81.57752741669535,41.30533177932862 L -81.57716007930344,41.30513517638469 L -81.5768656530521,41.30486938344121 L -81.57635798130032,41.30441600246139 L -81.57608303654885,41.30422784875863 L -81.57565285195501,41.304116077221856 L -81.57506765376517,41.30407276693752 L -81.57452456024797,41.30395237990146 L -81.57430083354119,41.30377235704761 L -81.5741797685436,41.30360869957532 L -81.57423299537943,41.30347734825733 L -81.57446144695942,41.303300821635005 L -81.57491699256269,41.303056388191116 L -81.57568236728798,41.30269797330403 L -81.5760455225524,41.30244508216725 L -81.57619217664725,41.30224470149776 L -81.57617941740912,41.30166337299749 L -81.57584410779862,41.30062999858126 L -81.57564175574554,41.300388132537805 L -81.57542662854033,41.30034003077538 L -81.57518982231217,41.300376902637495 L -81.57478560833798,41.30062182413115 L -81.57447157244472,41.30104564429852 L -81.5742122192899,41.30122193226467 L -81.57392313110134,41.30132040840454 L -81.57359350287918,41.30137212943046 L -81.57331699571235,41.30130023862977 L -81.57315499140238,41.30112843187991 L -81.5730875670696,41.30079472433155 L -81.57319295171177,41.30060176678967 L -81.57342129222066,41.30043298109108 L -81.57369111649189,41.30024138548021 L -81.57382845989555,41.29997118319877 L -81.57377955730813,41.299784771641185 L -81.57359669903505,41.29962837332863 L -81.57340083186094,41.299472055842244 L -81.57284122356974,41.29920896824319 L -81.57258573184131,41.298865343283 L -81.57258741341705,41.29874187491424 L -81.57261916198735,41.29853133688298 L -81.5729907317616,41.29814171596682 L -81.57339166978649,41.29771596129978 L -81.57357098763498,41.297281290436956 L -81.57350752163308,41.29699009360321 L -81.57339476032247,41.29677843677479 L -81.57319435809063,41.29663153273629 L -81.57290601843842,41.29657115921469 L -81.57250973693628,41.29665530180598 L -81.57219004493487,41.296776397356815 L -81.57177405517042,41.29689665552109 L -81.5714750785336,41.29691620771284 L -81.57119620715807,41.29687039380527 L -81.57098683631098,41.296672565437284 L -81.57079917994747,41.296300391590634 L -81.57088930240334,41.2960540358572 L -81.5710548234961,41.29593174763581 L -81.57124872390713,41.295846040090225 L -81.57179069732985,41.295675729403634 L -81.57230368948535,41.2955125718624 L -81.57263472336469,41.29526799116783 L -81.57276397286245,41.29497828601599 L -81.5727860538497,41.294767672480944 L -81.57263604233118,41.2944613139798 L -81.57231233979648,41.29416800980352 L -81.57206133335175,41.29401351031835 L -81.57171835417672,41.293909059240555 L -81.57115009848201,41.29389007248143 L -81.57051380890925,41.29390700477719 L -81.57000330468104,41.29388845911685 L -81.56971686647543,41.293690030205866 L -81.56958362055703,41.293572711216825 L -81.56951787196405,41.29344133723523 L -81.56955780361722,41.293339856129535 L -81.56974264940551,41.29321780878707 L -81.57021937000019,41.29288715424087 L -81.57075591854017,41.29240431852872 L -81.5711756718571,41.29201507648217 L -81.57129555352753,41.29170351899275 L -81.57120409973032,41.2913393806956 L -81.57097662821243,41.291061398944194 L -81.57061963497006,41.290717069641126 L -81.57023308084918,41.290466921961226 L -81.56963883789035,41.29022973949529 L -81.56919837663801,41.29003011069584 L -81.56861122234696,41.28998189298613 L -81.56807933151946,41.290115817278824 L -81.56746121161956,41.29022008681428 L -81.56698947473116,41.29018734052896 L -81.5663449506839,41.29010230364318 L -81.5658082926492,41.28988742072494 L -81.56529433948525,41.28941818767841 L -81.56509975334615,41.28878098119215 L -81.5650813485266,41.28870752057285 L -81.56503674117623,41.28852947136615 L -81.56483050925296,41.288106289847796 L -81.56476669001351,41.287844154037984 L -81.56486477164145,41.28771405569752 L -81.5651748891722,41.28759290523463 L -81.56549233574347,41.287624544549324 L -81.56582693944691,41.287823361545854 L -81.56637294582926,41.28806018745227 L -81.56685343560407,41.28815843635546 L -81.5671814472777,41.28812463081484 L -81.56744316067362,41.288017676849755 L -81.56761930744129,41.28781555330993 L -81.56775922369201,41.287453212921555 L -81.56781060842687,41.28722104658412 L -81.56801690007364,41.286080160399266 L -81.56799652477548,41.28558975756278 L -81.56766903760156,41.2849237078848 L -81.56710436961022,41.28461347953658 L -81.5665950323249,41.284515006250274 L -81.56602803167624,41.28440158955214 L -81.56561330170837,41.284434714130576 L -81.5653365786781,41.28423625873362 L -81.56525243688789,41.284046685948994 L -81.56519866204158,41.283748266855405 L -81.56523313946408,41.28334874278694 L -81.56503887961503,41.28275851805953 L -81.5646499062383,41.282272252983056 L -81.56353305666369,41.28154745749336 L -81.56319164470369,41.28115237308565 L -81.56267537662984,41.28085753183976 L -81.56203706852807,41.28033654442311 L -81.56188157902425,41.27973203534196 L -81.56212198526379,41.279065196169654 L -81.562472482243,41.2787990125968 L -81.56291626747387,41.27875892623694 L -81.56324630227533,41.27927758748672 L -81.56384749439779,41.279703775381854 L -81.56459735563107,41.2798259207346 L -81.56523211708199,41.27991089312944 L -81.56560091571407,41.279710275771265 L -81.5657216203817,41.27934778470729 L -81.56586011295788,41.27907993640383 L -81.56594395620573,41.278586384546806 L -81.56581273965341,41.2783236304988 L -81.5655933821721,41.27815478242007 L -81.56454168557283,41.27793722025602 L -81.56983089325243,41.27789964198682 L -81.59115073129935,41.277731088951086 L -81.60454046871783,41.27760979166331 L -81.60994618504775,41.27755900933579 L -81.62740820437205,41.277393294739625 L -81.63613696114697,41.27738699923154 L -81.63651605429465,41.27738020428242 L -81.63670413996677,41.27738537080963 L -81.63860896054308,41.27737713361727 L -81.63874986827282,41.277376527548235 L -81.6411064098029,41.27736776139065 L -81.64167103804495,41.27736512630672 L -81.66179831180636,41.27735456614888 L -81.66326831756143,41.27734127168378 L -81.68462185193579,41.27715269507504 L -81.68502155434908,41.277151264562654 L -81.68687104847814,41.277146000302075 L -81.69604155673792,41.27709282008279 L -81.69986665993846,41.27707706306829 L -81.70102564087091,41.27707226507812 L -81.70473078434048,41.27704269415694 L -81.71764981706076,41.27693824824592 L -81.71899701260669,41.27693602647144 L -81.71988421861515,41.276930651089486 L -81.72029405610503,41.27691775123589 L -81.72046481828528,41.27691618233569 L -81.72060694238563,41.27691370580261 L -81.72777228489903,41.276821240214254 L -81.73663410324457,41.276773233118625 L -81.74483576783176,41.27680302917394 L -81.75207865562535,41.27674735187695 L -81.75763806177272,41.27669562299892 L -81.76847759651072,41.27660227453768 L -81.77149228888341,41.27657559665888 L -81.77375514674326,41.27655552101083 L -81.78511269799179,41.27644958361778 L -81.79389224702312,41.276324778034414 L -81.79579755066594,41.2762969423299 L -81.79768055218236,41.276291355741925 L -81.79837883776048,41.276278710790486 L -81.80631929048894,41.27609212405921 L -81.80665099410335,41.27608662359623 L -81.80788270393026,41.276066189382 L -81.8109152893591,41.27599909648346 L -81.83592253053364,41.2755844384595 L -81.85811550111049,41.275325697066734 L -81.85825685055275,41.275324351694685 L -81.85837592234301,41.275323218838416 L -81.86068723619809,41.27530121082801 L -81.87428614934886,41.27512494162653 L -81.8780384093175,41.27509182566938 L -81.87804228299417,41.27667521064109 L -81.8780063564245,41.28010794558787 L -81.87797162516193,41.28642044406736 L -81.87792528655105,41.28948664692557 L -81.87785685685462,41.29346539795302 L -81.87784208867093,41.2965870628426 L -81.87763271202323,41.31247458615934 L -81.87759081517315,41.31856218615185 L -81.87754443931529,41.32212958045431 L -81.87735802509799,41.329474727392345 L -81.87729190261923,41.33065987958611 L -81.87712671054297,41.34122030915313 L -81.87708241868071,41.34305226460609 L -81.87697571792067,41.350698458958576 L -81.8793518457345,41.350728074717985 L -81.88682030395758,41.35075269494817 L -81.88790290605459,41.350761686466086 L -81.88898557171198,41.3507637550813 L -81.89008649312333,41.35077627789938 L -81.89117365226112,41.35078871978016 L -81.89226552364995,41.350787348808566 L -81.89304067650947,41.35080510622457 L -81.89333892186578,41.35079970125223 L -81.89766037944048,41.350811130103715 L -81.90271591972906,41.3508156941245 L -81.90512292587134,41.3508351468194 L -81.92460577521396,41.35090949200184 L -81.92678513988743,41.350926506410794 L -81.9289423612887,41.3509435448487 L -81.93312600915571,41.35097723752566 L -81.93539411388574,41.35098627695473 L -81.93717650860093,41.35102398566952 L -81.94258954456991,41.35107009034437 L -81.94762175355773,41.35112444155109 L -81.95443055605845,41.3511804706121 L -81.95682848996398,41.351208010179754 L -81.95918896873636,41.35121156417128 L -81.962278368404,41.35123950253553 L -81.96771454309275,41.35126377274178 L -81.97133629539951,41.35128682953132 L -81.97091105745969,41.36910674294661 L -81.9709065855338,41.369322739250634 L -81.97083889336744,41.3725564572588 L -81.97078841425082,41.3750279940701 L -81.97064424194804,41.38477058962512 L -81.97063595600254,41.38672646832498 L -81.97063291594971,41.386963495550226 L -81.97061314953105,41.38845284930518 L -81.9706110124278,41.388624370384335 L -81.97059855533313,41.38903843235127 L -81.97059561869128,41.3898204032747 L -81.97049718895492,41.39731719720251 L -81.9703631369785,41.405743663435274 L -81.97019858503401,41.41676336776339 L -81.97016530035899,41.41893308435953 L -81.96999223410053,41.43022345988836 L -81.96998211188779,41.43115336321151 L -81.96987044664893,41.44142103915846 L -81.96986449057603,41.44196737451864 L -81.9696886104319,41.458068697880236 L -81.96965974947892,41.46070816218776 L -81.96957632975449,41.468241837718224 L -81.96956704197568,41.46860692105623 L -81.96956426072501,41.46886867198054 L -81.96946346226045,41.47814569288112 L -81.96922403784555,41.492697763167016 L -81.96922356487592,41.5000251508189 L -81.96905087131394,41.504379205153214 L -81.96901828400269,41.505198318834594 L -81.96877696317902,41.505198331652814 L -81.96815460557536,41.50503306712319 L -81.96789845116578,41.50468072530405 L -81.96770093262187,41.50416307343732 L -81.96710795450514,41.503733561060095 L -81.96651486233463,41.50350227947019 L -81.96576820438105,41.503072707416266 L -81.96510932734883,41.502714788713945 L -81.96442110270817,41.502527524900025 L -81.96356449039273,41.50236776014552 L -81.96309595050356,41.50207033938393 L -81.96278137052428,41.50143706524502 L -81.96257647554118,41.50116178646472 L -81.96181506405107,41.500968961714726 L -81.96161745219374,41.50078720815077 L -81.96117091574324,41.500721136224364 L -81.96075354900634,41.500765155936335 L -81.96030690578229,41.500682524141574 L -81.96001416008859,41.50036302463169 L -81.95957496331661,41.50008218762275 L -81.95913229911652,41.49983138891943 L -81.95856956183783,41.499313514153755 L -81.95829950392522,41.49886750450619 L -81.95835842699935,41.498652977866975 L -81.95839563701509,41.49839983998833 L -81.95787689124508,41.49781602118602 L -81.9574966584976,41.49757350627784 L -81.95703585427529,41.4973640100827 L -81.95608479269448,41.49702199547704 L -81.95454185126036,41.496118033331314 L -81.95381030652344,41.49589721625724 L -81.95362002771776,41.49582004393394 L -81.95325488322133,41.49540148402939 L -81.95214273342577,41.49510873450671 L -81.95132351822903,41.494794278945676 L -81.95056274415089,41.494490882306295 L -81.94972876541836,41.4942423950143 L -81.9494141742267,41.49413207180168 L -81.94858732874611,41.493993661304835 L -81.94808244532184,41.49383908811267 L -81.9478266062936,41.493657222895706 L -81.94774658001181,41.493431443286944 L -81.94708059676553,41.493381317001585 L -81.94677343531411,41.49322692844975 L -81.94643696610656,41.493100029313894 L -81.94618830153031,41.49297866327922 L -81.94588832194789,41.492912310598896 L -81.94549301798597,41.492956019244545 L -81.94516376325389,41.49288403960765 L -81.94485668276991,41.49269113295285 L -81.94239116387033,41.492061245217364 L -81.94172520274695,41.49196699662775 L -81.94093500342653,41.49184508059785 L -81.94053999033707,41.49167955861063 L -81.94013768894551,41.49154153669055 L -81.93956678020677,41.49154643256348 L -81.93898152537206,41.491419250864034 L -81.9385938461288,41.491264734803245 L -81.93822798647416,41.491192745724135 L -81.93769355888948,41.49125827319428 L -81.9371735603168,41.49137326763034 L -81.9369025411603,41.491439035937795 L -81.93609774697593,41.491289484136324 L -81.93562917463805,41.491322017211424 L -81.93543919353714,41.49118425717315 L -81.93509536541984,41.4910682694719 L -81.93462691380186,41.49110079920534 L -81.93393131657679,41.49120460455935 L -81.93368994288114,41.49111627116523 L -81.9333318112382,41.4908791811559 L -81.93290010694409,41.49079624684656 L -81.93237314416787,41.49078457880348 L -81.93148728892089,41.49082763059309 L -81.93122420566624,41.49064569500236 L -81.93082212520808,41.49044159368156 L -81.93025151433929,41.49029788135807 L -81.92979795674631,41.49018180762919 L -81.92707558087196,41.489908973843924 L -81.92622640769106,41.4899740281918 L -81.92588955538076,41.49001219170752 L -81.92577216736038,41.490166134847655 L -81.92575712825129,41.4903311855396 L -81.92561031886649,41.490468610517745 L -81.925449741442,41.49028130334673 L -81.9252528306255,41.48998943934168 L -81.92474082395309,41.48982366486202 L -81.92403847546488,41.48970727710752 L -81.92332810940303,41.489816529418604 L -81.92242049500626,41.4898154071159 L -81.92116147041585,41.489819423536225 L -81.92007868522089,41.489576008931664 L -81.91936151588769,41.489514593100516 L -81.91666830239168,41.48935162582211 L -81.91587091895212,41.489141503817564 L -81.91442243656846,41.488815001898345 L -81.91335394348587,41.48873662893638 L -81.91234432747564,41.488548212630256 L -81.91145915229993,41.48837650508716 L -81.91022238671648,41.48825930557176 L -81.90946131980357,41.48817034928615 L -81.9085614134259,41.488042550661795 L -81.90717861436782,41.48779313177588 L -81.90641753178309,41.4877480689095 L -81.90559815320363,41.48758186139194 L -81.904588946833,41.48722825918844 L -81.90362361586402,41.48693533558411 L -81.90194837433404,41.48659180736029 L -81.90121660687672,41.486508254514774 L -81.89962887123558,41.48628598058211 L -81.89856015581293,41.48630654851686 L -81.89768127129811,41.486525398428775 L -81.89718321093889,41.48664581945692 L -81.89642243563766,41.486474084998086 L -81.89420682018343,41.48570048039083 L -81.89379745389071,41.485523842417685 L -81.8934164230602,41.48567183433843 L -81.89275022136204,41.485725878079855 L -81.89215090472588,41.48543336119733 L -81.89174132004696,41.485295229797906 L -81.89133163819932,41.48526156894556 L -81.89066504761144,41.48542574070265 L -81.88955276756325,41.48534153400736 L -81.8890773148304,41.4852362633338 L -81.88788510219959,41.48492630936214 L -81.88723427206823,41.48474922755825 L -81.88670705566585,41.484798008787145 L -81.88611468758174,41.48465397335734 L -81.8853609332513,41.4845978358754 L -81.88460755906422,41.48442066564408 L -81.88372190575818,41.48444680869782 L -81.88230286709285,41.484147423608476 L -81.88135946318455,41.483892855421146 L -81.88052551249329,41.48374844900924 L -81.87983770792694,41.48369234699275 L -81.87906214484637,41.483575585806676 L -81.87842572387021,41.48347555830938 L -81.8779351476136,41.48353528902218 L -81.8772550394164,41.48335809013497 L -81.87652320405755,41.4833019215938 L -81.87590138742776,41.48320186560532 L -81.87494271167873,41.483167363731496 L -81.8748138612219,41.48319027015419 L -81.8746512295775,41.483152078240536 L -81.87455611088208,41.483124497071664 L -81.8743513333457,41.483140887553915 L -81.87396377287489,41.483124289878056 L -81.87362737926746,41.483113087066016 L -81.8732835512666,41.483129471094465 L -81.87284487360317,41.48306328980004 L -81.872537896052,41.48300265530392 L -81.87212831843081,41.48298593664371 L -81.87176279282671,41.48294182227785 L -81.87136768331797,41.482991135531556 L -81.87086301290489,41.48303492517261 L -81.87021949400513,41.48301805388861 L -81.86954675588626,41.48295180341326 L -81.86889602147,41.482874506544476 L -81.86822330625736,41.48285765196784 L -81.86748451948021,41.482868339464126 L -81.86605836701735,41.48294459651781 L -81.86461754407016,41.482976844943444 L -81.86365937654111,41.48300389514937 L -81.86315473464812,41.483031185129306 L -81.86294981446919,41.48311351607872 L -81.86272267965808,41.48330596074203 L -81.86247405203208,41.48328934244972 L -81.862320824347,41.48312970440864 L -81.86202099749941,41.48312406151792 L -81.8616111743041,41.48322284862642 L -81.86114300538225,41.48331610384068 L -81.86065261725487,41.48351938180132 L -81.8596648881072,41.48367276399117 L -81.85886007076799,41.48383188408146 L -81.85820147472167,41.484029484515204 L -81.8575796235014,41.48415015903183 L -81.85678959288278,41.484237716409275 L -81.85621146189965,41.4843913738177 L -81.85579413234424,41.48461113103183 L -81.85534799232256,41.48463843212589 L -81.85482109471796,41.48476455220084 L -81.85396482428871,41.4850335957893 L -81.85305737653631,41.485335562347615 L -81.85197417049655,41.48567040926587 L -81.85107419275164,41.48588988401992 L -81.85045948308672,41.486048984208075 L -81.8498740745433,41.48619717251903 L -81.84936149871066,41.486449866270405 L -81.84879037641583,41.48672995686513 L -81.84808736735899,41.48714754523127 L -81.84752380840473,41.487361711161334 L -81.8470407662156,41.48746589877653 L -81.84662365063177,41.48760859624696 L -81.84622083073693,41.48784486712778 L -81.84509355336029,41.48826210776875 L -81.84444216035808,41.488448693489204 L -81.84387129251009,41.48862428747251 L -81.84332252164023,41.488717392657755 L -81.84283217611731,41.488832591624885 L -81.84218800432376,41.489112699780655 L -81.84180689976073,41.48941494328051 L -81.84152854308358,41.48962371389862 L -81.84100140395128,41.48985433610574 L -81.84053297297322,41.489991511516166 L -81.84013023973534,41.49017826916167 L -81.83959612091128,41.49022734483298 L -81.83910588944812,41.49035350741348 L -81.83875393825032,41.49068325709641 L -81.83839558235623,41.49069955047539 L -81.83669250056754,41.490203243427366 L -81.83562453093349,41.49022442556707 L -81.83313602301598,41.490948606137984 L -81.83239659498922,41.49123398079572 L -81.8319574777892,41.49133268366684 L -81.83150383222984,41.49138730018729 L -81.83103518104221,41.49162891152311 L -81.8303182062796,41.49171085183639 L -81.8287089236234,41.49175351890949 L -81.82813051229259,41.49199504524342 L -81.82744237094657,41.492258540688134 L -81.82502000480356,41.49278999320184 L -81.82438330383025,41.492921481377394 L -81.82395893028993,41.4930035897035 L -81.82358540136048,41.49319576529607 L -81.82291222596386,41.4932996846189 L -81.81360329854618,41.49530958104325 L -81.81256425821668,41.4954790199194 L -81.81008516565538,41.49533909467422 L -81.80942654220661,41.49543195383954 L -81.80756061110839,41.4957380492485 L -81.80656599695688,41.4957039652728 L -81.80595913013688,41.49561533354506 L -81.80428329089865,41.4959051092603 L -81.804041995405,41.495893903733034 L -81.80353031075688,41.49575577841135 L -81.80127736185709,41.49579740355499 L -81.80108668360651,41.49597320562526 L -81.80041380562908,41.49597243751309 L -81.79977748139962,41.49595532141663 L -81.79790776754218,41.49745481331508 L -81.79479933125094,41.497357864828096 L -81.79477227774342,41.496620814762096 L -81.79449450617197,41.49654899378841 L -81.79431224121811,41.49633978643808 L -81.79396917448383,41.49612486524959 L -81.79360397260676,41.49592096925321 L -81.79320211653692,41.495777508487 L -81.79271215848193,41.49572738072739 L -81.79228814156826,41.495666482232906 L -81.79188544395997,41.495764982471606 L -81.79158598603026,41.49562715914423 L -81.79127182419464,41.4955222721057 L -81.7909502522988,41.49543938696515 L -81.79072386952612,41.49530712021471 L -81.78986763294957,41.49543262965987 L -81.78958892828435,41.495679791702734 L -81.78928101287003,41.49591598283037 L -81.7890907687905,41.495910266711746 L -81.78898102330896,41.495932204340555 L -81.7886892424994,41.49566780853951 L -81.78830872035559,41.49571684606456 L -81.78793561664492,41.49576592636856 L -81.78684536704691,41.49584710347249 L -81.78594583983275,41.495785607703986 L -81.78388256797035,41.49596463151565 L -81.783282974792,41.495892396713494 L -81.78291721690087,41.49590290053368 L -81.78255145155096,41.495891447592086 L -81.78199594319182,41.49574775109933 L -81.78165302051835,41.49547790305618 L -81.78150110830988,41.494971633578935 L -81.7810768248796,41.494971165109966 L -81.78085732584022,41.4949819090636 L -81.78044715429799,41.49515186499541 L -81.78000112778503,41.49507981287642 L -81.77842467115454,41.494027325281586 L -81.77828699844954,41.493636589304444 L -81.77789917603766,41.4936746617462 L -81.77770158052522,41.49367437336941 L -81.77713964727394,41.493316178044005 L -81.77689774156516,41.493453390044564 L -81.77602785606479,41.4932872544937 L -81.77542750400849,41.49344596850181 L -81.7750329502213,41.49334100346408 L -81.77468887571901,41.49339552709329 L -81.77449174297779,41.49330731997655 L -81.77433235692862,41.492845089047314 L -81.77408405853444,41.49272921629673 L -81.76875585430882,41.49153418179106 L -81.76798804676403,41.491450676326295 L -81.76752699009383,41.491521563751704 L -81.76721966143919,41.491587088493375 L -81.76708725583744,41.49181241559801 L -81.76602589491328,41.49203656794367 L -81.76349716486551,41.49141700961604 L -81.76313973815358,41.49115799653173 L -81.7631260872666,41.49088300496265 L -81.76278284882214,41.49071748342864 L -81.76282065889927,41.49037657774419 L -81.76247000406788,41.490233056332926 L -81.76091313443696,41.48993390894818 L -81.76051054261266,41.49003230516987 L -81.7599916889686,41.48990510704226 L -81.75949534196997,41.48960185312145 L -81.75692855291454,41.48947720552096 L -81.7565336870421,41.48944911455673 L -81.75606624786563,41.48928343440209 L -81.75559071751385,41.48931027399956 L -81.75464070403291,41.48906132801111 L -81.75415088318131,41.48899466641409 L -81.75335361228713,41.48900446890567 L -81.75300328970029,41.48881142994959 L -81.75257960336948,41.48866229575784 L -81.7523236196883,41.48867293950716 L -81.7514682102207,41.4885506281891 L -81.75112419420017,41.48863271069636 L -81.75064922507784,41.48853301324562 L -81.75043080509585,41.48826312951241 L -81.75016777990938,41.488163762102445 L -81.74996289510631,41.48819640751874 L -81.74952015812491,41.48810437482979 L -81.74923479656053,41.488131297721495 L -81.74907409681383,41.488020868426496 L -81.74891351666129,41.487921419808316 L -81.74799937954471,41.48775435200549 L -81.74643481820749,41.48740412496925 L -81.7462008771482,41.487337596387356 L -81.74598139827349,41.48734818758717 L -81.74566684700812,41.487331004355916 L -81.74522060555881,41.48729697503083 L -81.7444819579724,41.4872238493517 L -81.74412341540116,41.48725614789301 L -81.74383070336643,41.48725547487742 L -81.7435745336942,41.48730452398327 L -81.74336951549505,41.48739214006365 L -81.7430254455402,41.48744648325482 L -81.7424909637236,41.48755550526507 L -81.74217607750035,41.48766492194909 L -81.74198545803073,41.48781309662198 L -81.74197763033531,41.48797826260068 L -81.74200648380216,41.488137990942114 L -81.74194039583638,41.48823691984976 L -81.74165504626836,41.488208751242745 L -81.74109182140215,41.48816901945441 L -81.74052799380937,41.48833300993109 L -81.73909171605888,41.4891282176511 L -81.7389665017636,41.489408722055785 L -81.7389942756788,41.489909762866475 L -81.73913180717712,41.490367045613695 L -81.73935101267699,41.49048865612492 L -81.73957725883014,41.490676271740924 L -81.73978188676439,41.49073182818456 L -81.73986926271861,41.49088058886948 L -81.73977350264927,41.491117186816794 L -81.73939190164008,41.49150720196658 L -81.73415521302651,41.49325196102887 L -81.73381908870189,41.49310808873107 L -81.73280037454056,41.49128350005079 L -81.72757060176772,41.4931325824894 L -81.72837134371484,41.49442273402119 L -81.72810047398228,41.494477144784284 L -81.72763951762978,41.49447058177042 L -81.72722262154463,41.49443109558266 L -81.7271998083109,41.494689839160266 L -81.72677541152545,41.49468881727202 L -81.72658489812757,41.49475993946671 L -81.72649847102113,41.49433041848453 L -81.72582423578989,41.49467018150353 L -81.72571267523314,41.49525896286689 L -81.72071386807039,41.4979120874126 L -81.72057536901544,41.497746604227 L -81.71940470624013,41.49772190406338 L -81.71919301838719,41.497561702641626 L -81.71901110384785,41.49725852655752 L -81.71876265297482,41.49713129011132 L -81.71833821092326,41.49717433140875 L -81.71811090138027,41.49730045210077 L -81.71781022944292,41.49750897178462 L -81.71770786171356,41.497470150956076 L -81.71734879180784,41.49765651245006 L -81.71727576345468,41.49759574586597 L -81.71723204130076,41.49755712684442 L -81.71614737762556,41.49806657281949 L -81.71708095643179,41.49897162244024 L -81.71696347227714,41.49907047103932 L -81.71661929419156,41.499168741008816 L -81.71631899374756,41.49925064978952 L -81.71588658220618,41.499464332920674 L -81.71515424073947,41.499644291710496 L -81.71463412713781,41.499802686628826 L -81.71419448416842,41.4999888715332 L -81.71337727094937,41.50033392645959 L -81.71258724182138,41.50054300712765 L -81.71198014454394,41.500779646988676 L -81.71144614470766,41.501142835702304 L -81.71119005360325,41.50153916158776 L -81.71098446479348,41.50346017736612 L -81.71026749321857,41.50379588234077 L -81.70971174842688,41.50375173268977 L -81.70925088086986,41.50384525421439 L -81.70869490632332,41.50416995146844 L -81.70819007826094,41.504522158032565 L -81.70799980564415,41.50475324653169 L -81.70797781438468,41.504934962481286 L -81.6966005602006,41.511389293335895 L -81.69286057444573,41.51456427494642 L -81.66993185954996,41.525068366397676 L -81.66952949688311,41.52505154759579 L -81.66926595666845,41.525178044537455 L -81.66890715176726,41.52539800392996 L -81.66453798676929,41.52669479505188 L -81.66425249722302,41.52679368218209 L -81.66386445028749,41.527013693851714 L -81.6605563073019,41.52800799226382 L -81.65809694413176,41.52873315648881 L -81.65726218044739,41.529321651005326 L -81.65565809351035,41.53074077939261 L -81.6548014051965,41.531191696330104 L -81.65308090483758,41.531999697989576 L -81.64816742594874,41.534699223995965 L -81.64898609515146,41.535376844054966 L -81.64923487646331,41.53545959192856 L -81.64946161197508,41.53547622328101 L -81.6496591181629,41.53556994441542 L -81.64987109667084,41.53567465563883 L -81.6488311167303,41.53638959435451 L -81.64690169329776,41.53460476054593 L -81.64526094616583,41.53579807644873 L -81.64489491178367,41.53589688430853 L -81.6446238108321,41.53618848324444 L -81.64427223629886,41.53644144355646 L -81.64220348751982,41.53731231664533 L -81.64189977233305,41.53746357077672 L -81.64161414861263,41.53766147496298 L -81.64060954899915,41.539119500285494 L -81.63814124655144,41.54056540845155 L -81.63644004353742,41.54284318811326 L -81.63584666901262,41.54321154453809 L -81.63534121607692,41.54347533994057 L -81.63518742215533,41.54360731885262 L -81.6350552784612,41.54381647913079 L -81.6343600471326,41.54382137205409 L -81.63403069860072,41.54383762609779 L -81.63210887434332,41.542024904519664 L -81.63081216201724,41.54287163680473 L -81.63047541236799,41.54297043240077 L -81.62982408146534,41.542914877777335 L -81.62925327826883,41.542930900031095 L -81.62872584507706,41.543244269460565 L -81.62819105344234,41.54355209506217 L -81.6277734931147,41.54387102626678 L -81.62721660029285,41.54426686898999 L -81.62674042784747,41.544541728900185 L -81.62630125123734,41.5446129534786 L -81.62586877891492,41.54495390630315 L -81.62554636200662,41.545212422761026 L -81.6250410010695,41.545492732405144 L -81.62464847748734,41.54561441126989 L -81.62392370878806,41.54604986898178 L -81.62315501332256,41.54643578092915 L -81.62261330825484,41.546755497693475 L -81.62199837180995,41.547124707734994 L -81.6217349830347,41.5474387145835 L -81.62002939731254,41.54850243893695 L -81.61980253834761,41.54864016269477 L -81.6195681770879,41.548755964259314 L -81.619231277843,41.54884428815638 L -81.6168449175496,41.55053060905401 L -81.61636888602926,41.550668563912986 L -81.61596618809946,41.55087805284462 L -81.61566636462801,41.551263674161675 L -81.61504399139874,41.551627484093345 L -81.61474387288392,41.55181486921731 L -81.61438505333945,41.55202980400216 L -81.61389467589801,41.55239359044686 L -81.6132943962182,41.552806954592825 L -81.61147112517254,41.5537716961024 L -81.61097327357854,41.554063788732016 L -81.61060719044538,41.55435586443841 L -81.61007991507793,41.554543445526384 L -81.6096917872864,41.55478046567905 L -81.60915029446807,41.55532039983651 L -81.60806671423687,41.55607002031236 L -81.60740053777201,41.556588054145045 L -81.60697607127311,41.55699027444041 L -81.60628035335621,41.55734863404488 L -81.60458884590882,41.55837939508473 L -81.60426663548458,41.5584842539361 L -81.60395150595937,41.55850647073479 L -81.60376128568268,41.55880388479277 L -81.60356398012735,41.55918402956447 L -81.6024508408517,41.5598675094143 L -81.60178441230485,41.56015425520074 L -81.60103029332767,41.56073836337107 L -81.60067121792214,41.56082116108983 L -81.6001654552757,41.56067277485209 L -81.59952822129067,41.56094289986922 L -81.59927960504258,41.561449708837955 L -81.59896509595531,41.56192893679014 L -81.5983133167854,41.56233679911506 L -81.59773460614528,41.562573880812124 L -81.5972001183702,41.56302571868504 L -81.59649697924488,41.56338405494857 L -81.59597702055487,41.56367060902083 L -81.59544248151542,41.56406188039742 L -81.59486398629363,41.56454127179011 L -81.59437351934137,41.56495995374245 L -81.59392664089238,41.565191441112546 L -81.59351637581089,41.5653458164189 L -81.59311336966366,41.56542313218436 L -81.59264495998005,41.56597397792273 L -81.59213951677123,41.56623848809427 L -81.59166325970021,41.56642592381316 L -81.59137797463474,41.566927126910116 L -81.59069709051577,41.56764876506145 L -81.59031654556311,41.56819405666381 L -81.59006781037718,41.56856856896436 L -81.59043452518573,41.56884920781785 L -81.58939503843834,41.57020960395587 L -81.59133882675692,41.57164593147666 L -81.58769844134441,41.57422945353085 L -81.58629761130837,41.573200405004 L -81.5855720254383,41.57332725224037 L -81.58522050668411,41.573696292498376 L -81.58499373136246,41.57410929212195 L -81.58497906540067,41.57421940882044 L -81.58512581355589,41.57437349313799 L -81.58474504910387,41.574742489187415 L -81.58429767098099,41.57437375815443 L -81.5838940523878,41.573861928062136 L -81.58333678638134,41.57363632642881 L -81.58119723618901,41.57445187774047 L -81.58095537502135,41.574446430174135 L -81.58057437183082,41.5746722506985 L -81.5802666737236,41.57495315951473 L -81.58007632970035,41.57510728155686 L -81.5797538056622,41.575173468744644 L -81.579519407142,41.57533319151755 L -81.57927041939193,41.575658099029305 L -81.57880161456133,41.57602154301247 L -81.57833269779515,41.57622535713641 L -81.57784180490266,41.57651178382336 L -81.57764409489315,41.576792539251414 L -81.57602521715181,41.578053618676854 L -81.57557085192565,41.57829595478614 L -81.57351236287006,41.58006345284512 L -81.57310935562657,41.58031679375533 L -81.57282379794978,41.580674607203214 L -81.57243558324241,41.581142664866334 L -81.57214993919784,41.58155005634581 L -81.5717762527486,41.58177032488472 L -81.57127076184084,41.58221623767847 L -81.57067016521543,41.582981476766165 L -81.57018662357243,41.58337239592966 L -81.56969563663161,41.583598140375756 L -81.56921206508137,41.5839120306588 L -81.5689335926409,41.584231287960634 L -81.56847926169317,41.584501131845165 L -81.56810554703952,41.58472138932357 L -81.56769523245461,41.58504070081052 L -81.56724072504791,41.58493063921742 L -81.56655217487464,41.58581151867177 L -81.56641307553049,41.58608668105096 L -81.56631790817379,41.58640042432102 L -81.56607624423974,41.586664711161525 L -81.56586376440835,41.58701146746612 L -81.56566738941818,41.58708525505731 L -81.56525522262143,41.58671987976093 L -81.56464675308393,41.58679703165923 L -81.56399444379697,41.58696777924892 L -81.56371601728846,41.5872375348629 L -81.56328366780028,41.58751823757438 L -81.56311515611041,41.58786505959174 L -81.56300551881777,41.58836593880696 L -81.56252911643313,41.58862470004831 L -81.56226541344385,41.588998943435406 L -81.56182556741635,41.58909260240944 L -81.56163517531533,41.589356829951036 L -81.5610341540614,41.589681648378075 L -81.56055785527593,41.590121983277136 L -81.55940749741073,41.59135499403588 L -81.55885789735072,41.59178988955657 L -81.55809567584173,41.59231831691953 L -81.55730416274675,41.59285775818819 L -81.5567618020341,41.593347588536005 L -81.55638074236983,41.59358979618336 L -81.55611692930727,41.59400253563305 L -81.5552375018355,41.59478412877597 L -81.55514976273804,41.59527401285305 L -81.55396237864792,41.59614918550802 L -81.55328059275315,41.596336379023946 L -81.552672276632,41.59695281273839 L -81.5520052401762,41.59761871933062 L -81.55163892847452,41.598097585206354 L -81.55105977942324,41.5983837433882 L -81.55054672206948,41.599000197158475 L -81.55014354511356,41.59922583337144 L -81.54635379676084,41.60288574493475 L -81.54532015474209,41.60353520835671 L -81.54465295917322,41.603964513699445 L -81.54422036474494,41.604487279517826 L -81.54236543828452,41.60596223047706 L -81.5419548274818,41.606369447926994 L -81.54110437417039,41.6069527580036 L -81.54045908671998,41.60735459022721 L -81.53899261563592,41.60839465561821 L -81.53855991869384,41.60870837588356 L -81.53796603332032,41.609110064364216 L -81.53738668004044,41.60948424425007 L -81.53693938284525,41.60980351038754 L -81.53610333382595,41.6101941637701 L -81.53566333446729,41.61049683735718 L -81.53509872087227,41.61079401100358 L -81.53447529790206,41.61132231655055 L -81.53406475340478,41.611668950371126 L -81.5334706635919,41.61195517204315 L -81.53267134212601,41.612532892966264 L -81.53201118876025,41.61286860546455 L -81.53165189836204,41.613050171536194 L -81.53132915341034,41.61348487198831 L -81.53061774102326,41.61397465714322 L -81.53001643704702,41.614326847956335 L -81.5293930401038,41.61433774702694 L -81.52816083817791,41.6148549878786 L -81.52695056413351,41.61538867956064 L -81.52607053945094,41.61576837919336 L -81.5254323398118,41.616065451951634 L -81.52459627144121,41.616197424824314 L -81.52392139877449,41.616400972282484 L -81.52238107646758,41.616835483498065 L -81.52154492198054,41.61710510223635 L -81.52099492820341,41.617237036610945 L -81.51985056443935,41.61746805397734 L -81.51924181421779,41.61768255223195 L -81.5185596688326,41.61771550125148 L -81.51787760047384,41.61767682383683 L -81.51665264211175,41.617891226739204 L -81.5153982579226,41.61813317989444 L -81.51416596559062,41.61849614262857 L -81.51173789108667,41.61958530468366 L -81.5098305188097,41.62062489674726 L -81.50915562606242,41.62095496216292 L -81.50829729194665,41.62135648484412 L -81.50640460002626,41.6221484306757 L -81.50471724144622,41.622681826778326 L -81.503227879453,41.62342433008838 L -81.50174588680008,41.624128275083855 L -81.50022706140257,41.62495327759463 L -81.49912868577167,41.62545873366327 L -81.49833206111167,41.62589624027789 L -81.49784248226769,41.62618405442057 L -81.49650597709332,41.62712965789969 L -81.49551135056805,41.62757323156299 L -81.49488967123052,41.62783950571643 L -81.49426911594965,41.628320385262974 L -81.49290186332486,41.62901285091617 L -81.49141094101225,41.62989834937501 L -81.49076058559065,41.63030778693236 L -81.48994219914833,41.6308057889844 L -81.48925527732703,41.631237315904094 L -81.48881184447552,41.63149758693376 L -81.48882295295354,41.62931516842776 L -81.48882303731958,41.6281926891642 L -81.48880430609475,41.62681235139849 L -81.48877136136522,41.62439165020922 L -81.48874385739151,41.62236194692467 L -81.48864844525484,41.617956941684376 L -81.48861489723045,41.61287012268542 L -81.48860175947797,41.61190273122071 L -81.48859033051252,41.61106186482156 L -81.48856358250879,41.60912423341151 L -81.48856073072002,41.608879686377094 L -81.48855562880556,41.60850290656872 L -81.48841637581408,41.5994130655982 L -81.48838899822005,41.5989405359051 L -81.48831974838271,41.59774520930693 L -81.48817885033962,41.59628705470707 L -81.48814780390505,41.59458480394275 L -81.48818353900846,41.58210520879513 L -81.48820954927422,41.57528729210698 L -81.48823846909777,41.57008887448669 L -81.4864208511475,41.570082564325546 L -81.47824266366918,41.570053477911564 L -81.45781987170746,41.56997816560767 L -81.44765714582338,41.569942885152955 L -81.44735897153943,41.56994183719519 L -81.44717290775377,41.5699410710514 L -81.44687051821782,41.569939783409474 L -81.44636355268419,41.56993762300713 L -81.4453627694027,41.569931247912876 L -81.44502657135718,41.56992590587466 L -81.43932006507481,41.569880534630386 L -81.42934357989834,41.56981955331976 L -81.41776265143768,41.5697477386979 L -81.41282540547134,41.569713550970334 L -81.39102172303052,41.569780238118476 L -81.39098853412507,41.56259288292301 L -81.3909585287838,41.55608319034939 L -81.39081037171923,41.54288084331667 L -81.39071999798286,41.5372387609451 L -81.39073220672724,41.53578750527133 L -81.39074113015147,41.53477191795162 L -81.3907610450829,41.52387567456078 L -81.3907487804753,41.522558303320594 L -81.39073276668036,41.51968310391441 L -81.39075483251689,41.51617827502128 L -81.39076675695604,41.51441762700638 L -81.390779167834,41.51258483543073 L -81.39080656502951,41.50853883342461 L -81.39082379533222,41.50608623880011 L -81.39082346722793,41.50414876231721 L -81.39085487492193,41.50092700248546 L -81.39085725563145,41.50068269464393 L -81.39086516520635,41.50019861634933 L -81.39088022923146,41.49955636307199 L -81.39085929078402,41.49918438856165 L -81.39085932617216,41.49915768094139 L -81.39106786203439,41.489665240348536 L -81.39126349615097,41.46702973790706 L -81.39130479361887,41.46145097736069 L -81.3913852280771,41.4593032132673 L -81.39145536725586,41.45498119423048 L -81.39145606329733,41.45493788270665 L -81.39149612474371,41.452446924785264 L -81.39142981826691,41.44520941454037 z\" /></g></svg>"
      ],
      "text/plain": [
       "<shapely.geometry.polygon.Polygon at 0x15c41b6e980>"
      ]
     },
     "execution_count": 148,
     "metadata": {},
     "output_type": "execute_result"
    }
   ],
   "source": [
    "cuyCounty.geometry.values[0]"
   ]
  },
  {
   "cell_type": "markdown",
   "id": "e1b52a9f-5bc0-4aa0-bb22-dfe54b17f605",
   "metadata": {},
   "source": [
    "Ok now let's get the county that contains *ROBINSON MEMORIAL HOSPITAL* with OBJECTID 235 "
   ]
  },
  {
   "cell_type": "code",
   "execution_count": 149,
   "id": "06be3cf5-4f07-4466-9d86-ec9ef9d265fb",
   "metadata": {},
   "outputs": [
    {
     "data": {
      "text/html": [
       "<div>\n",
       "<style scoped>\n",
       "    .dataframe tbody tr th:only-of-type {\n",
       "        vertical-align: middle;\n",
       "    }\n",
       "\n",
       "    .dataframe tbody tr th {\n",
       "        vertical-align: top;\n",
       "    }\n",
       "\n",
       "    .dataframe thead th {\n",
       "        text-align: right;\n",
       "    }\n",
       "</style>\n",
       "<table border=\"1\" class=\"dataframe\">\n",
       "  <thead>\n",
       "    <tr style=\"text-align: right;\">\n",
       "      <th></th>\n",
       "      <th>OBJECTID</th>\n",
       "      <th>ID</th>\n",
       "      <th>NAME</th>\n",
       "      <th>ADDRESS</th>\n",
       "      <th>CITY</th>\n",
       "      <th>STATE</th>\n",
       "      <th>TELEPHONE</th>\n",
       "      <th>TYPE</th>\n",
       "      <th>STATUS</th>\n",
       "      <th>POPULATION</th>\n",
       "      <th>...</th>\n",
       "      <th>WEBSITE</th>\n",
       "      <th>STATE_ID</th>\n",
       "      <th>ALT_NAME</th>\n",
       "      <th>ST_FIPS</th>\n",
       "      <th>OWNER</th>\n",
       "      <th>TTL_STAFF</th>\n",
       "      <th>BEDS</th>\n",
       "      <th>TRAUMA</th>\n",
       "      <th>HELIPAD</th>\n",
       "      <th>geometry</th>\n",
       "    </tr>\n",
       "  </thead>\n",
       "  <tbody>\n",
       "    <tr>\n",
       "      <th>0</th>\n",
       "      <td>235</td>\n",
       "      <td>14244266</td>\n",
       "      <td>ROBINSON MEMORIAL HOSPITAL</td>\n",
       "      <td>6847 N CHESTNUT</td>\n",
       "      <td>RAVENNA</td>\n",
       "      <td>OH</td>\n",
       "      <td>(330) 297-2300</td>\n",
       "      <td>GENERAL ACUTE CARE</td>\n",
       "      <td>OPEN</td>\n",
       "      <td>302</td>\n",
       "      <td>...</td>\n",
       "      <td>http://www.uhhospitals.org/portage</td>\n",
       "      <td>1255</td>\n",
       "      <td>UNIVERSITY HOSPITALS PORTAGE MEDICAL CENTER</td>\n",
       "      <td>39</td>\n",
       "      <td>NON-PROFIT</td>\n",
       "      <td>-999</td>\n",
       "      <td>302</td>\n",
       "      <td>LEVEL III</td>\n",
       "      <td>Y</td>\n",
       "      <td>POINT (-81.24902 41.17606)</td>\n",
       "    </tr>\n",
       "  </tbody>\n",
       "</table>\n",
       "<p>1 rows × 29 columns</p>\n",
       "</div>"
      ],
      "text/plain": [
       "   OBJECTID        ID                        NAME          ADDRESS     CITY  \\\n",
       "0       235  14244266  ROBINSON MEMORIAL HOSPITAL  6847 N CHESTNUT  RAVENNA   \n",
       "\n",
       "  STATE       TELEPHONE                TYPE STATUS  POPULATION  ...  \\\n",
       "0    OH  (330) 297-2300  GENERAL ACUTE CARE   OPEN         302  ...   \n",
       "\n",
       "                              WEBSITE  STATE_ID  \\\n",
       "0  http://www.uhhospitals.org/portage      1255   \n",
       "\n",
       "                                      ALT_NAME  ST_FIPS       OWNER TTL_STAFF  \\\n",
       "0  UNIVERSITY HOSPITALS PORTAGE MEDICAL CENTER       39  NON-PROFIT      -999   \n",
       "\n",
       "  BEDS     TRAUMA HELIPAD                    geometry  \n",
       "0  302  LEVEL III       Y  POINT (-81.24902 41.17606)  \n",
       "\n",
       "[1 rows x 29 columns]"
      ]
     },
     "execution_count": 149,
     "metadata": {},
     "output_type": "execute_result"
    }
   ],
   "source": [
    "robinson = hospitals[hospitals.OBJECTID==235]\n",
    "robinson"
   ]
  },
  {
   "cell_type": "code",
   "execution_count": 150,
   "id": "d67ed5eb-2f72-4e9d-9c58-033b33cf3469",
   "metadata": {},
   "outputs": [],
   "source": [
    "countyRobinson = countyBoundaries[countyBoundaries.contains(robinson.geometry.values[0])]"
   ]
  },
  {
   "cell_type": "code",
   "execution_count": 151,
   "id": "49ef01b9-c92f-440d-af8f-ca33e8dd9ca5",
   "metadata": {},
   "outputs": [
    {
     "data": {
      "text/html": [
       "<div>\n",
       "<style scoped>\n",
       "    .dataframe tbody tr th:only-of-type {\n",
       "        vertical-align: middle;\n",
       "    }\n",
       "\n",
       "    .dataframe tbody tr th {\n",
       "        vertical-align: top;\n",
       "    }\n",
       "\n",
       "    .dataframe thead th {\n",
       "        text-align: right;\n",
       "    }\n",
       "</style>\n",
       "<table border=\"1\" class=\"dataframe\">\n",
       "  <thead>\n",
       "    <tr style=\"text-align: right;\">\n",
       "      <th></th>\n",
       "      <th>OBJECTID</th>\n",
       "      <th>COUNTY_CD</th>\n",
       "      <th>COUNTY_SEA</th>\n",
       "      <th>ODOT_DISTR</th>\n",
       "      <th>FIPS_COUNT</th>\n",
       "      <th>POP_2010</th>\n",
       "      <th>POP_2000</th>\n",
       "      <th>POP_1990</th>\n",
       "      <th>STATE_PLAN</th>\n",
       "      <th>ELEVATION_</th>\n",
       "      <th>...</th>\n",
       "      <th>LONG_WEST_</th>\n",
       "      <th>AREA_SQMI</th>\n",
       "      <th>AREA_ID</th>\n",
       "      <th>created_us</th>\n",
       "      <th>created_da</th>\n",
       "      <th>last_edite</th>\n",
       "      <th>last_edi_1</th>\n",
       "      <th>SHAPE_STAr</th>\n",
       "      <th>SHAPE_STLe</th>\n",
       "      <th>geometry</th>\n",
       "    </tr>\n",
       "  </thead>\n",
       "  <tbody>\n",
       "    <tr>\n",
       "      <th>11</th>\n",
       "      <td>12</td>\n",
       "      <td>POR</td>\n",
       "      <td>RAVENNA</td>\n",
       "      <td>4</td>\n",
       "      <td>39133</td>\n",
       "      <td>161419</td>\n",
       "      <td>152061</td>\n",
       "      <td>142585</td>\n",
       "      <td>N</td>\n",
       "      <td>1340</td>\n",
       "      <td>...</td>\n",
       "      <td>-81.395</td>\n",
       "      <td>503.99</td>\n",
       "      <td>79</td>\n",
       "      <td>Esri_Anonymous</td>\n",
       "      <td>2015-08-11</td>\n",
       "      <td>Esri_Anonymous</td>\n",
       "      <td>2015-08-11</td>\n",
       "      <td>2.306486e+09</td>\n",
       "      <td>193273.905412</td>\n",
       "      <td>POLYGON ((-81.19144 41.34746, -81.17168 41.347...</td>\n",
       "    </tr>\n",
       "  </tbody>\n",
       "</table>\n",
       "<p>1 rows × 24 columns</p>\n",
       "</div>"
      ],
      "text/plain": [
       "    OBJECTID COUNTY_CD COUNTY_SEA  ODOT_DISTR FIPS_COUNT  POP_2010  POP_2000  \\\n",
       "11        12       POR    RAVENNA           4      39133    161419    152061   \n",
       "\n",
       "    POP_1990 STATE_PLAN  ELEVATION_  ...  LONG_WEST_  AREA_SQMI  AREA_ID  \\\n",
       "11    142585          N        1340  ...     -81.395     503.99       79   \n",
       "\n",
       "        created_us  created_da      last_edite  last_edi_1    SHAPE_STAr  \\\n",
       "11  Esri_Anonymous  2015-08-11  Esri_Anonymous  2015-08-11  2.306486e+09   \n",
       "\n",
       "       SHAPE_STLe                                           geometry  \n",
       "11  193273.905412  POLYGON ((-81.19144 41.34746, -81.17168 41.347...  \n",
       "\n",
       "[1 rows x 24 columns]"
      ]
     },
     "execution_count": 151,
     "metadata": {},
     "output_type": "execute_result"
    }
   ],
   "source": [
    "countyRobinson"
   ]
  },
  {
   "cell_type": "markdown",
   "id": "d7f03de5-e795-4507-a338-3dcd94d95e9d",
   "metadata": {},
   "source": [
    "#### Intersects"
   ]
  },
  {
   "cell_type": "markdown",
   "id": "23967fb8-1c26-4337-81a9-930917ed7788",
   "metadata": {},
   "source": [
    "An object is said to intersect other if its boundary and interior intersects in any way with those of the other."
   ]
  },
  {
   "cell_type": "markdown",
   "id": "c41ec3d0-3d58-46a0-8f0b-220e7ae8580e",
   "metadata": {},
   "source": [
    "![poly_line_intersects](images/poly_line_intersects.png)"
   ]
  },
  {
   "cell_type": "markdown",
   "id": "7760c2d1-9460-416b-bb62-ac4b4f009ac9",
   "metadata": {},
   "source": [
    "Ok let us try a real example. We are going to select all roads from Cuyahoga county that intersects with the City of Cleveland"
   ]
  },
  {
   "cell_type": "code",
   "execution_count": 152,
   "id": "0c35cf8b-a81c-48c4-a2d0-3c7b97c9b5fc",
   "metadata": {},
   "outputs": [],
   "source": [
    "allRoadsCuyahoga = gpd.read_file(r'../../largedatasets/cuyahoga_roads/tl_2021_39035_roads.shp')"
   ]
  },
  {
   "cell_type": "code",
   "execution_count": 153,
   "id": "a95b9274-00b0-4794-8790-6009c0330bd0",
   "metadata": {},
   "outputs": [
    {
     "data": {
      "text/plain": [
       "<Geographic 2D CRS: EPSG:4269>\n",
       "Name: NAD83\n",
       "Axis Info [ellipsoidal]:\n",
       "- Lat[north]: Geodetic latitude (degree)\n",
       "- Lon[east]: Geodetic longitude (degree)\n",
       "Area of Use:\n",
       "- name: North America - onshore and offshore: Canada - Alberta; British Columbia; Manitoba; New Brunswick; Newfoundland and Labrador; Northwest Territories; Nova Scotia; Nunavut; Ontario; Prince Edward Island; Quebec; Saskatchewan; Yukon. Puerto Rico. United States (USA) - Alabama; Alaska; Arizona; Arkansas; California; Colorado; Connecticut; Delaware; Florida; Georgia; Hawaii; Idaho; Illinois; Indiana; Iowa; Kansas; Kentucky; Louisiana; Maine; Maryland; Massachusetts; Michigan; Minnesota; Mississippi; Missouri; Montana; Nebraska; Nevada; New Hampshire; New Jersey; New Mexico; New York; North Carolina; North Dakota; Ohio; Oklahoma; Oregon; Pennsylvania; Rhode Island; South Carolina; South Dakota; Tennessee; Texas; Utah; Vermont; Virginia; Washington; West Virginia; Wisconsin; Wyoming. US Virgin Islands. British Virgin Islands.\n",
       "- bounds: (167.65, 14.92, -40.73, 86.45)\n",
       "Datum: North American Datum 1983\n",
       "- Ellipsoid: GRS 1980\n",
       "- Prime Meridian: Greenwich"
      ]
     },
     "execution_count": 153,
     "metadata": {},
     "output_type": "execute_result"
    }
   ],
   "source": [
    "allRoadsCuyahoga.crs"
   ]
  },
  {
   "cell_type": "markdown",
   "id": "f183fb89-817d-47e2-ab73-ca9ca6e81c8b",
   "metadata": {},
   "source": [
    "Now let us get the county boundaries for Cleveland City"
   ]
  },
  {
   "cell_type": "code",
   "execution_count": 154,
   "id": "6216f26f-5b80-4032-8c37-d08eaebc8b6e",
   "metadata": {},
   "outputs": [],
   "source": [
    "clevelandCity = gpd.read_file(r'../../largedatasets/cle_bounds/Cleveland_City_Boundaries_CPC.shp')"
   ]
  },
  {
   "cell_type": "code",
   "execution_count": 155,
   "id": "0c2a1992-7b32-49df-a783-2edef962608e",
   "metadata": {},
   "outputs": [
    {
     "data": {
      "text/plain": [
       "<Derived Projected CRS: EPSG:3734>\n",
       "Name: NAD83 / Ohio North (ftUS)\n",
       "Axis Info [cartesian]:\n",
       "- X[east]: Easting (US survey foot)\n",
       "- Y[north]: Northing (US survey foot)\n",
       "Area of Use:\n",
       "- name: United States (USA) - Ohio - counties of Allen;Ashland; Ashtabula; Auglaize; Carroll; Columbiana; Coshocton; Crawford; Cuyahoga; Defiance; Delaware; Erie; Fulton; Geauga; Hancock; Hardin; Harrison; Henry; Holmes; Huron; Jefferson; Knox; Lake; Logan; Lorain; Lucas; Mahoning; Marion; Medina; Mercer; Morrow; Ottawa; Paulding; Portage; Putnam; Richland; Sandusky; Seneca; Shelby; Stark; Summit; Trumbull; Tuscarawas; Union; Van Wert; Wayne; Williams; Wood; Wyandot.\n",
       "- bounds: (-84.81, 40.1, -80.51, 42.33)\n",
       "Coordinate Operation:\n",
       "- name: SPCS83 Ohio North zone (US Survey feet)\n",
       "- method: Lambert Conic Conformal (2SP)\n",
       "Datum: North American Datum 1983\n",
       "- Ellipsoid: GRS 1980\n",
       "- Prime Meridian: Greenwich"
      ]
     },
     "execution_count": 155,
     "metadata": {},
     "output_type": "execute_result"
    }
   ],
   "source": [
    "clevelandCity.crs"
   ]
  },
  {
   "cell_type": "markdown",
   "id": "88d391f8-4c70-41cd-86e3-79b0fb96a561",
   "metadata": {},
   "source": [
    "As you can see both crs are different. Let's reproject the county boundaries to the same CRS as the roads"
   ]
  },
  {
   "cell_type": "code",
   "execution_count": 156,
   "id": "e353e5b0-79f6-4730-89ac-3f0a88b6a8c2",
   "metadata": {},
   "outputs": [
    {
     "data": {
      "text/html": [
       "<div>\n",
       "<style scoped>\n",
       "    .dataframe tbody tr th:only-of-type {\n",
       "        vertical-align: middle;\n",
       "    }\n",
       "\n",
       "    .dataframe tbody tr th {\n",
       "        vertical-align: top;\n",
       "    }\n",
       "\n",
       "    .dataframe thead th {\n",
       "        text-align: right;\n",
       "    }\n",
       "</style>\n",
       "<table border=\"1\" class=\"dataframe\">\n",
       "  <thead>\n",
       "    <tr style=\"text-align: right;\">\n",
       "      <th></th>\n",
       "      <th>CREATEDBY</th>\n",
       "      <th>DATECREATE</th>\n",
       "      <th>MODIFIEDBY</th>\n",
       "      <th>DATEMODIFI</th>\n",
       "      <th>MAINTENANC</th>\n",
       "      <th>NAME</th>\n",
       "      <th>GLOBALID</th>\n",
       "      <th>geometry</th>\n",
       "    </tr>\n",
       "  </thead>\n",
       "  <tbody>\n",
       "    <tr>\n",
       "      <th>0</th>\n",
       "      <td>MWH</td>\n",
       "      <td>2004-02-18</td>\n",
       "      <td>None</td>\n",
       "      <td>None</td>\n",
       "      <td>0</td>\n",
       "      <td>Cleveland</td>\n",
       "      <td>{E8425388-321F-473C-BB47-D6F09D7DF705}</td>\n",
       "      <td>POLYGON ((-81.58067 41.43284, -81.58068 41.433...</td>\n",
       "    </tr>\n",
       "  </tbody>\n",
       "</table>\n",
       "</div>"
      ],
      "text/plain": [
       "  CREATEDBY  DATECREATE MODIFIEDBY DATEMODIFI  MAINTENANC       NAME  \\\n",
       "0       MWH  2004-02-18       None       None           0  Cleveland   \n",
       "\n",
       "                                 GLOBALID  \\\n",
       "0  {E8425388-321F-473C-BB47-D6F09D7DF705}   \n",
       "\n",
       "                                            geometry  \n",
       "0  POLYGON ((-81.58067 41.43284, -81.58068 41.433...  "
      ]
     },
     "execution_count": 156,
     "metadata": {},
     "output_type": "execute_result"
    }
   ],
   "source": [
    "clevelandCity = clevelandCity.to_crs(allRoadsCuyahoga.crs)\n",
    "clevelandCity"
   ]
  },
  {
   "cell_type": "code",
   "execution_count": 157,
   "id": "31c00250-a4d5-4a30-b0bf-c6e5a2739d1f",
   "metadata": {},
   "outputs": [
    {
     "data": {
      "text/plain": [
       "<Geographic 2D CRS: EPSG:4269>\n",
       "Name: NAD83\n",
       "Axis Info [ellipsoidal]:\n",
       "- Lat[north]: Geodetic latitude (degree)\n",
       "- Lon[east]: Geodetic longitude (degree)\n",
       "Area of Use:\n",
       "- name: North America - onshore and offshore: Canada - Alberta; British Columbia; Manitoba; New Brunswick; Newfoundland and Labrador; Northwest Territories; Nova Scotia; Nunavut; Ontario; Prince Edward Island; Quebec; Saskatchewan; Yukon. Puerto Rico. United States (USA) - Alabama; Alaska; Arizona; Arkansas; California; Colorado; Connecticut; Delaware; Florida; Georgia; Hawaii; Idaho; Illinois; Indiana; Iowa; Kansas; Kentucky; Louisiana; Maine; Maryland; Massachusetts; Michigan; Minnesota; Mississippi; Missouri; Montana; Nebraska; Nevada; New Hampshire; New Jersey; New Mexico; New York; North Carolina; North Dakota; Ohio; Oklahoma; Oregon; Pennsylvania; Rhode Island; South Carolina; South Dakota; Tennessee; Texas; Utah; Vermont; Virginia; Washington; West Virginia; Wisconsin; Wyoming. US Virgin Islands. British Virgin Islands.\n",
       "- bounds: (167.65, 14.92, -40.73, 86.45)\n",
       "Datum: North American Datum 1983\n",
       "- Ellipsoid: GRS 1980\n",
       "- Prime Meridian: Greenwich"
      ]
     },
     "execution_count": 157,
     "metadata": {},
     "output_type": "execute_result"
    }
   ],
   "source": [
    "clevelandCity.crs"
   ]
  },
  {
   "cell_type": "markdown",
   "id": "ea2a999e-3320-4b6a-b4c3-0484a421742b",
   "metadata": {},
   "source": [
    "Now let us apply the intersects method"
   ]
  },
  {
   "cell_type": "code",
   "execution_count": 158,
   "id": "a5ba513c-9769-4b7f-b789-6cc71558f26c",
   "metadata": {},
   "outputs": [],
   "source": [
    "allRoadsCleveland = allRoadsCuyahoga[allRoadsCuyahoga.intersects(clevelandCity.geometry.values[0])]"
   ]
  },
  {
   "cell_type": "markdown",
   "id": "6cd58220-70f3-4bc1-a93a-dbbdf5679a90",
   "metadata": {},
   "source": [
    "For fun we can plot it"
   ]
  },
  {
   "cell_type": "code",
   "execution_count": 159,
   "id": "b21f8a7b-6255-4779-be4f-a2fc5b0f55fc",
   "metadata": {},
   "outputs": [
    {
     "data": {
      "text/plain": [
       "<AxesSubplot:>"
      ]
     },
     "execution_count": 159,
     "metadata": {},
     "output_type": "execute_result"
    },
    {
     "data": {
      "image/png": "[encoded data removed]",
      "text/plain": [
       "<Figure size 432x288 with 1 Axes>"
      ]
     },
     "metadata": {
      "needs_background": "light"
     },
     "output_type": "display_data"
    }
   ],
   "source": [
    "ax = clevelandCity.plot(facecolor='None')\n",
    "allRoadsCleveland.plot(ax=ax,alpha=0.2)"
   ]
  },
  {
   "cell_type": "markdown",
   "id": "7178f556-b73c-46aa-af2a-9237dea58d8d",
   "metadata": {},
   "source": [
    "#### Within a distance"
   ]
  },
  {
   "cell_type": "markdown",
   "id": "57a9de31-2710-42af-b5a2-a0a730811628",
   "metadata": {},
   "source": [
    "A typical question would be, find all starbucks that are with in 5 miles from my home. There are two ways to approach this problem. "
   ]
  },
  {
   "cell_type": "markdown",
   "id": "2ee04b6e-8789-423c-a937-08570e5ba85e",
   "metadata": {},
   "source": [
    "##### Using buffer"
   ]
  },
  {
   "cell_type": "markdown",
   "id": "4af0babe-70c2-42aa-be89-fd0898b218f2",
   "metadata": {},
   "source": [
    "Let us find out how many starbucks are there with in 2 miles from ROBINSON MEMORIAL HOSPITAL with OBJECTID 235"
   ]
  },
  {
   "cell_type": "code",
   "execution_count": 160,
   "id": "42e25a48-ed84-48e2-8598-cd92a6df1874",
   "metadata": {},
   "outputs": [],
   "source": [
    "hospitals = gpd.read_file('../../largedatasets/Ohio_hospitals/Ohio_hospitals.shp')\n",
    "robinson = hospitals[hospitals.OBJECTID==235]"
   ]
  },
  {
   "cell_type": "markdown",
   "id": "dc518f7a-f236-4d4b-b2e3-797aebaa60c1",
   "metadata": {},
   "source": [
    "Now lets load all the starbucks"
   ]
  },
  {
   "cell_type": "code",
   "execution_count": 161,
   "id": "87835951-81ab-4e3b-b71f-ee34f031aa17",
   "metadata": {},
   "outputs": [],
   "source": [
    "starbucks = gpd.read_file(r'../../largedatasets/starbucks/starbucks.shp')"
   ]
  },
  {
   "cell_type": "code",
   "execution_count": 162,
   "id": "3bba5825-6b7b-4a64-9fbd-d35e50528140",
   "metadata": {},
   "outputs": [
    {
     "data": {
      "text/html": [
       "<div>\n",
       "<style scoped>\n",
       "    .dataframe tbody tr th:only-of-type {\n",
       "        vertical-align: middle;\n",
       "    }\n",
       "\n",
       "    .dataframe tbody tr th {\n",
       "        vertical-align: top;\n",
       "    }\n",
       "\n",
       "    .dataframe thead th {\n",
       "        text-align: right;\n",
       "    }\n",
       "</style>\n",
       "<table border=\"1\" class=\"dataframe\">\n",
       "  <thead>\n",
       "    <tr style=\"text-align: right;\">\n",
       "      <th></th>\n",
       "      <th>pk_uid</th>\n",
       "      <th>geometry</th>\n",
       "    </tr>\n",
       "  </thead>\n",
       "  <tbody>\n",
       "    <tr>\n",
       "      <th>0</th>\n",
       "      <td>1</td>\n",
       "      <td>POINT (-73.02315 40.82713)</td>\n",
       "    </tr>\n",
       "    <tr>\n",
       "      <th>1</th>\n",
       "      <td>2</td>\n",
       "      <td>POINT (-72.99688 40.82229)</td>\n",
       "    </tr>\n",
       "    <tr>\n",
       "      <th>2</th>\n",
       "      <td>3</td>\n",
       "      <td>POINT (-73.03259 40.77785)</td>\n",
       "    </tr>\n",
       "    <tr>\n",
       "      <th>3</th>\n",
       "      <td>4</td>\n",
       "      <td>POINT (-73.05505 40.86302)</td>\n",
       "    </tr>\n",
       "    <tr>\n",
       "      <th>4</th>\n",
       "      <td>5</td>\n",
       "      <td>POINT (-73.09551 40.78991)</td>\n",
       "    </tr>\n",
       "    <tr>\n",
       "      <th>...</th>\n",
       "      <td>...</td>\n",
       "      <td>...</td>\n",
       "    </tr>\n",
       "    <tr>\n",
       "      <th>16458</th>\n",
       "      <td>16459</td>\n",
       "      <td>POINT (-147.86755 64.81745)</td>\n",
       "    </tr>\n",
       "    <tr>\n",
       "      <th>16459</th>\n",
       "      <td>16460</td>\n",
       "      <td>POINT (-147.35394 64.75755)</td>\n",
       "    </tr>\n",
       "    <tr>\n",
       "      <th>16460</th>\n",
       "      <td>16461</td>\n",
       "      <td>POINT (-134.56186 58.35966)</td>\n",
       "    </tr>\n",
       "    <tr>\n",
       "      <th>16461</th>\n",
       "      <td>16462</td>\n",
       "      <td>POINT (-134.59482 58.37096)</td>\n",
       "    </tr>\n",
       "    <tr>\n",
       "      <th>16462</th>\n",
       "      <td>16463</td>\n",
       "      <td>POINT (-131.67403 55.34808)</td>\n",
       "    </tr>\n",
       "  </tbody>\n",
       "</table>\n",
       "<p>16463 rows × 2 columns</p>\n",
       "</div>"
      ],
      "text/plain": [
       "       pk_uid                     geometry\n",
       "0           1   POINT (-73.02315 40.82713)\n",
       "1           2   POINT (-72.99688 40.82229)\n",
       "2           3   POINT (-73.03259 40.77785)\n",
       "3           4   POINT (-73.05505 40.86302)\n",
       "4           5   POINT (-73.09551 40.78991)\n",
       "...       ...                          ...\n",
       "16458   16459  POINT (-147.86755 64.81745)\n",
       "16459   16460  POINT (-147.35394 64.75755)\n",
       "16460   16461  POINT (-134.56186 58.35966)\n",
       "16461   16462  POINT (-134.59482 58.37096)\n",
       "16462   16463  POINT (-131.67403 55.34808)\n",
       "\n",
       "[16463 rows x 2 columns]"
      ]
     },
     "execution_count": 162,
     "metadata": {},
     "output_type": "execute_result"
    }
   ],
   "source": [
    "starbucks"
   ]
  },
  {
   "cell_type": "markdown",
   "id": "e2e3d557-9bc8-4f9e-8f1f-5632b503d8c1",
   "metadata": {},
   "source": [
    "Now we can create a buffer of 2 miles around Robinson"
   ]
  },
  {
   "cell_type": "code",
   "execution_count": 163,
   "id": "88d8769e-124f-497e-929c-f18773ba3732",
   "metadata": {},
   "outputs": [
    {
     "data": {
      "text/plain": [
       "<Geographic 2D CRS: EPSG:4326>\n",
       "Name: WGS 84\n",
       "Axis Info [ellipsoidal]:\n",
       "- Lat[north]: Geodetic latitude (degree)\n",
       "- Lon[east]: Geodetic longitude (degree)\n",
       "Area of Use:\n",
       "- name: World.\n",
       "- bounds: (-180.0, -90.0, 180.0, 90.0)\n",
       "Datum: World Geodetic System 1984 ensemble\n",
       "- Ellipsoid: WGS 84\n",
       "- Prime Meridian: Greenwich"
      ]
     },
     "execution_count": 163,
     "metadata": {},
     "output_type": "execute_result"
    }
   ],
   "source": [
    "robinson.crs"
   ]
  },
  {
   "cell_type": "markdown",
   "id": "63d9718b-5470-48a4-9144-083bf33b3f70",
   "metadata": {},
   "source": [
    "Ok so we need to re-project first. We are going to use EPSG 3857 as our starbucks data is for entire USA"
   ]
  },
  {
   "cell_type": "code",
   "execution_count": 164,
   "id": "8c5261db-22fd-4b28-b33b-60146b70eb97",
   "metadata": {},
   "outputs": [
    {
     "data": {
      "text/html": [
       "<div>\n",
       "<style scoped>\n",
       "    .dataframe tbody tr th:only-of-type {\n",
       "        vertical-align: middle;\n",
       "    }\n",
       "\n",
       "    .dataframe tbody tr th {\n",
       "        vertical-align: top;\n",
       "    }\n",
       "\n",
       "    .dataframe thead th {\n",
       "        text-align: right;\n",
       "    }\n",
       "</style>\n",
       "<table border=\"1\" class=\"dataframe\">\n",
       "  <thead>\n",
       "    <tr style=\"text-align: right;\">\n",
       "      <th></th>\n",
       "      <th>OBJECTID</th>\n",
       "      <th>ID</th>\n",
       "      <th>NAME</th>\n",
       "      <th>ADDRESS</th>\n",
       "      <th>CITY</th>\n",
       "      <th>STATE</th>\n",
       "      <th>TELEPHONE</th>\n",
       "      <th>TYPE</th>\n",
       "      <th>STATUS</th>\n",
       "      <th>POPULATION</th>\n",
       "      <th>...</th>\n",
       "      <th>WEBSITE</th>\n",
       "      <th>STATE_ID</th>\n",
       "      <th>ALT_NAME</th>\n",
       "      <th>ST_FIPS</th>\n",
       "      <th>OWNER</th>\n",
       "      <th>TTL_STAFF</th>\n",
       "      <th>BEDS</th>\n",
       "      <th>TRAUMA</th>\n",
       "      <th>HELIPAD</th>\n",
       "      <th>geometry</th>\n",
       "    </tr>\n",
       "  </thead>\n",
       "  <tbody>\n",
       "    <tr>\n",
       "      <th>0</th>\n",
       "      <td>235</td>\n",
       "      <td>14244266</td>\n",
       "      <td>ROBINSON MEMORIAL HOSPITAL</td>\n",
       "      <td>6847 N CHESTNUT</td>\n",
       "      <td>RAVENNA</td>\n",
       "      <td>OH</td>\n",
       "      <td>(330) 297-2300</td>\n",
       "      <td>GENERAL ACUTE CARE</td>\n",
       "      <td>OPEN</td>\n",
       "      <td>302</td>\n",
       "      <td>...</td>\n",
       "      <td>http://www.uhhospitals.org/portage</td>\n",
       "      <td>1255</td>\n",
       "      <td>UNIVERSITY HOSPITALS PORTAGE MEDICAL CENTER</td>\n",
       "      <td>39</td>\n",
       "      <td>NON-PROFIT</td>\n",
       "      <td>-999</td>\n",
       "      <td>302</td>\n",
       "      <td>LEVEL III</td>\n",
       "      <td>Y</td>\n",
       "      <td>POINT (-9044599.233 5038344.927)</td>\n",
       "    </tr>\n",
       "  </tbody>\n",
       "</table>\n",
       "<p>1 rows × 29 columns</p>\n",
       "</div>"
      ],
      "text/plain": [
       "   OBJECTID        ID                        NAME          ADDRESS     CITY  \\\n",
       "0       235  14244266  ROBINSON MEMORIAL HOSPITAL  6847 N CHESTNUT  RAVENNA   \n",
       "\n",
       "  STATE       TELEPHONE                TYPE STATUS  POPULATION  ...  \\\n",
       "0    OH  (330) 297-2300  GENERAL ACUTE CARE   OPEN         302  ...   \n",
       "\n",
       "                              WEBSITE  STATE_ID  \\\n",
       "0  http://www.uhhospitals.org/portage      1255   \n",
       "\n",
       "                                      ALT_NAME  ST_FIPS       OWNER TTL_STAFF  \\\n",
       "0  UNIVERSITY HOSPITALS PORTAGE MEDICAL CENTER       39  NON-PROFIT      -999   \n",
       "\n",
       "  BEDS     TRAUMA HELIPAD                          geometry  \n",
       "0  302  LEVEL III       Y  POINT (-9044599.233 5038344.927)  \n",
       "\n",
       "[1 rows x 29 columns]"
      ]
     },
     "execution_count": 164,
     "metadata": {},
     "output_type": "execute_result"
    }
   ],
   "source": [
    "robinsonReproj = robinson.to_crs('EPSG:3857')\n",
    "robinsonReproj"
   ]
  },
  {
   "cell_type": "markdown",
   "id": "9def87aa-b283-483e-90b4-2786fc48cf12",
   "metadata": {},
   "source": [
    "Now apply a buffer of 2 miles (2 * 1609.34 meters)"
   ]
  },
  {
   "cell_type": "code",
   "execution_count": 165,
   "id": "0e071283-45af-4573-9d14-f7caf9c52827",
   "metadata": {},
   "outputs": [],
   "source": [
    "robinsonBuffer = robinsonReproj.buffer(2 * 1609.34 )"
   ]
  },
  {
   "cell_type": "markdown",
   "id": "eda92c49-144b-4e12-a1d5-e602549305ae",
   "metadata": {},
   "source": [
    "Now we need to check how many starbucks are with in this buffer. But before that make sure the crs does match"
   ]
  },
  {
   "cell_type": "code",
   "execution_count": 166,
   "id": "a14b5f1e-5dc5-4928-aab4-3c4a2355f469",
   "metadata": {},
   "outputs": [],
   "source": [
    "starbucks.crs"
   ]
  },
  {
   "cell_type": "markdown",
   "id": "c5535a5a-e039-4433-9417-60ee899547bb",
   "metadata": {},
   "source": [
    "seems like starbucks geodataframe doesn't have any crs information. But looking at the geometry we can almost be sure that the dataset is in Geographical coordinates. So we can assign that crs to starbucks and then re-project it."
   ]
  },
  {
   "cell_type": "code",
   "execution_count": 167,
   "id": "f5857a42-ea7b-464e-b39a-7cb9201cb36e",
   "metadata": {},
   "outputs": [
    {
     "data": {
      "text/plain": [
       "<Geographic 2D CRS: EPSG:4326>\n",
       "Name: WGS 84\n",
       "Axis Info [ellipsoidal]:\n",
       "- Lat[north]: Geodetic latitude (degree)\n",
       "- Lon[east]: Geodetic longitude (degree)\n",
       "Area of Use:\n",
       "- name: World.\n",
       "- bounds: (-180.0, -90.0, 180.0, 90.0)\n",
       "Datum: World Geodetic System 1984 ensemble\n",
       "- Ellipsoid: WGS 84\n",
       "- Prime Meridian: Greenwich"
      ]
     },
     "execution_count": 167,
     "metadata": {},
     "output_type": "execute_result"
    }
   ],
   "source": [
    "starbucks.crs = 'EPSG:4326'\n",
    "starbucks.crs"
   ]
  },
  {
   "cell_type": "code",
   "execution_count": 168,
   "id": "51133af7-975d-4e70-96f5-7003be709b45",
   "metadata": {},
   "outputs": [
    {
     "data": {
      "text/html": [
       "<div>\n",
       "<style scoped>\n",
       "    .dataframe tbody tr th:only-of-type {\n",
       "        vertical-align: middle;\n",
       "    }\n",
       "\n",
       "    .dataframe tbody tr th {\n",
       "        vertical-align: top;\n",
       "    }\n",
       "\n",
       "    .dataframe thead th {\n",
       "        text-align: right;\n",
       "    }\n",
       "</style>\n",
       "<table border=\"1\" class=\"dataframe\">\n",
       "  <thead>\n",
       "    <tr style=\"text-align: right;\">\n",
       "      <th></th>\n",
       "      <th>pk_uid</th>\n",
       "      <th>geometry</th>\n",
       "    </tr>\n",
       "  </thead>\n",
       "  <tbody>\n",
       "    <tr>\n",
       "      <th>0</th>\n",
       "      <td>1</td>\n",
       "      <td>POINT (-8128899.651 4986877.455)</td>\n",
       "    </tr>\n",
       "    <tr>\n",
       "      <th>1</th>\n",
       "      <td>2</td>\n",
       "      <td>POINT (-8125975.622 4986164.269)</td>\n",
       "    </tr>\n",
       "    <tr>\n",
       "      <th>2</th>\n",
       "      <td>3</td>\n",
       "      <td>POINT (-8129951.175 4979629.310)</td>\n",
       "    </tr>\n",
       "    <tr>\n",
       "      <th>3</th>\n",
       "      <td>4</td>\n",
       "      <td>POINT (-8132451.300 4992157.945)</td>\n",
       "    </tr>\n",
       "    <tr>\n",
       "      <th>4</th>\n",
       "      <td>5</td>\n",
       "      <td>POINT (-8136954.619 4981403.091)</td>\n",
       "    </tr>\n",
       "    <tr>\n",
       "      <th>...</th>\n",
       "      <td>...</td>\n",
       "      <td>...</td>\n",
       "    </tr>\n",
       "    <tr>\n",
       "      <th>16458</th>\n",
       "      <td>16459</td>\n",
       "      <td>POINT (-16460540.482 9560450.753)</td>\n",
       "    </tr>\n",
       "    <tr>\n",
       "      <th>16459</th>\n",
       "      <td>16460</td>\n",
       "      <td>POINT (-16403365.122 9544798.262)</td>\n",
       "    </tr>\n",
       "    <tr>\n",
       "      <th>16460</th>\n",
       "      <td>16461</td>\n",
       "      <td>POINT (-14979357.624 8043253.852)</td>\n",
       "    </tr>\n",
       "    <tr>\n",
       "      <th>16461</th>\n",
       "      <td>16462</td>\n",
       "      <td>POINT (-14983026.714 8045651.724)</td>\n",
       "    </tr>\n",
       "    <tr>\n",
       "      <th>16462</th>\n",
       "      <td>16463</td>\n",
       "      <td>POINT (-14657885.414 7429716.531)</td>\n",
       "    </tr>\n",
       "  </tbody>\n",
       "</table>\n",
       "<p>16463 rows × 2 columns</p>\n",
       "</div>"
      ],
      "text/plain": [
       "       pk_uid                           geometry\n",
       "0           1   POINT (-8128899.651 4986877.455)\n",
       "1           2   POINT (-8125975.622 4986164.269)\n",
       "2           3   POINT (-8129951.175 4979629.310)\n",
       "3           4   POINT (-8132451.300 4992157.945)\n",
       "4           5   POINT (-8136954.619 4981403.091)\n",
       "...       ...                                ...\n",
       "16458   16459  POINT (-16460540.482 9560450.753)\n",
       "16459   16460  POINT (-16403365.122 9544798.262)\n",
       "16460   16461  POINT (-14979357.624 8043253.852)\n",
       "16461   16462  POINT (-14983026.714 8045651.724)\n",
       "16462   16463  POINT (-14657885.414 7429716.531)\n",
       "\n",
       "[16463 rows x 2 columns]"
      ]
     },
     "execution_count": 168,
     "metadata": {},
     "output_type": "execute_result"
    }
   ],
   "source": [
    "starbucksProjected = starbucks.to_crs ('EPSG:3857')\n",
    "starbucksProjected"
   ]
  },
  {
   "cell_type": "markdown",
   "id": "4d21c3bf-f48c-40e3-a4cc-e43f866887cd",
   "metadata": {},
   "source": [
    "Now we can use our within method to identify the starbucks that are with in 2 miles of the hospital"
   ]
  },
  {
   "cell_type": "code",
   "execution_count": 169,
   "id": "572fbe0b-16e7-40e9-bd70-c17275dc0e62",
   "metadata": {},
   "outputs": [
    {
     "data": {
      "text/html": [
       "<div>\n",
       "<style scoped>\n",
       "    .dataframe tbody tr th:only-of-type {\n",
       "        vertical-align: middle;\n",
       "    }\n",
       "\n",
       "    .dataframe tbody tr th {\n",
       "        vertical-align: top;\n",
       "    }\n",
       "\n",
       "    .dataframe thead th {\n",
       "        text-align: right;\n",
       "    }\n",
       "</style>\n",
       "<table border=\"1\" class=\"dataframe\">\n",
       "  <thead>\n",
       "    <tr style=\"text-align: right;\">\n",
       "      <th></th>\n",
       "      <th>pk_uid</th>\n",
       "      <th>geometry</th>\n",
       "    </tr>\n",
       "  </thead>\n",
       "  <tbody>\n",
       "  </tbody>\n",
       "</table>\n",
       "</div>"
      ],
      "text/plain": [
       "Empty GeoDataFrame\n",
       "Columns: [pk_uid, geometry]\n",
       "Index: []"
      ]
     },
     "execution_count": 169,
     "metadata": {},
     "output_type": "execute_result"
    }
   ],
   "source": [
    "starbucksProjected[starbucksProjected.within(robinsonBuffer.geometry.values[0])]"
   ]
  },
  {
   "cell_type": "markdown",
   "id": "cb118be6-ce5c-4d61-b2a5-7f5578810f61",
   "metadata": {},
   "source": [
    "seems like there is no starbucks with in 2 miles of the hospital. Lets try 5 miles"
   ]
  },
  {
   "cell_type": "code",
   "execution_count": 170,
   "id": "3904cd97-6291-4605-8856-1db9707565bb",
   "metadata": {},
   "outputs": [],
   "source": [
    "robinsonNewBuffer = robinsonReproj.buffer(5 * 1609.34 )"
   ]
  },
  {
   "cell_type": "code",
   "execution_count": 171,
   "id": "ce46a5fc-8d2a-4523-b1e1-459a2321f672",
   "metadata": {},
   "outputs": [
    {
     "data": {
      "text/html": [
       "<div>\n",
       "<style scoped>\n",
       "    .dataframe tbody tr th:only-of-type {\n",
       "        vertical-align: middle;\n",
       "    }\n",
       "\n",
       "    .dataframe tbody tr th {\n",
       "        vertical-align: top;\n",
       "    }\n",
       "\n",
       "    .dataframe thead th {\n",
       "        text-align: right;\n",
       "    }\n",
       "</style>\n",
       "<table border=\"1\" class=\"dataframe\">\n",
       "  <thead>\n",
       "    <tr style=\"text-align: right;\">\n",
       "      <th></th>\n",
       "      <th>pk_uid</th>\n",
       "      <th>geometry</th>\n",
       "    </tr>\n",
       "  </thead>\n",
       "  <tbody>\n",
       "  </tbody>\n",
       "</table>\n",
       "</div>"
      ],
      "text/plain": [
       "Empty GeoDataFrame\n",
       "Columns: [pk_uid, geometry]\n",
       "Index: []"
      ]
     },
     "execution_count": 171,
     "metadata": {},
     "output_type": "execute_result"
    }
   ],
   "source": [
    "starbucksProjected[starbucksProjected.within(robinsonNewBuffer.geometry.values[0])]"
   ]
  },
  {
   "cell_type": "markdown",
   "id": "32b48481-bbf6-4c77-a694-946780907adb",
   "metadata": {},
   "source": [
    "Nothing again!!. Lets try 10 miles"
   ]
  },
  {
   "cell_type": "code",
   "execution_count": 172,
   "id": "4d67fc34-f52f-450a-b846-d73e4bb5a79c",
   "metadata": {},
   "outputs": [],
   "source": [
    "robinsonNewBuffer2 = robinsonReproj.buffer(10 * 1609.34 )"
   ]
  },
  {
   "cell_type": "code",
   "execution_count": 173,
   "id": "3f5a6aaa-4314-4b35-917d-a4f6e22767a5",
   "metadata": {},
   "outputs": [
    {
     "data": {
      "text/html": [
       "<div>\n",
       "<style scoped>\n",
       "    .dataframe tbody tr th:only-of-type {\n",
       "        vertical-align: middle;\n",
       "    }\n",
       "\n",
       "    .dataframe tbody tr th {\n",
       "        vertical-align: top;\n",
       "    }\n",
       "\n",
       "    .dataframe thead th {\n",
       "        text-align: right;\n",
       "    }\n",
       "</style>\n",
       "<table border=\"1\" class=\"dataframe\">\n",
       "  <thead>\n",
       "    <tr style=\"text-align: right;\">\n",
       "      <th></th>\n",
       "      <th>pk_uid</th>\n",
       "      <th>geometry</th>\n",
       "    </tr>\n",
       "  </thead>\n",
       "  <tbody>\n",
       "    <tr>\n",
       "      <th>4537</th>\n",
       "      <td>4538</td>\n",
       "      <td>POINT (-9055032.730 5034013.481)</td>\n",
       "    </tr>\n",
       "    <tr>\n",
       "      <th>4539</th>\n",
       "      <td>4540</td>\n",
       "      <td>POINT (-9056261.475 5047417.575)</td>\n",
       "    </tr>\n",
       "    <tr>\n",
       "      <th>4540</th>\n",
       "      <td>4541</td>\n",
       "      <td>POINT (-9055237.447 5035115.760)</td>\n",
       "    </tr>\n",
       "  </tbody>\n",
       "</table>\n",
       "</div>"
      ],
      "text/plain": [
       "      pk_uid                          geometry\n",
       "4537    4538  POINT (-9055032.730 5034013.481)\n",
       "4539    4540  POINT (-9056261.475 5047417.575)\n",
       "4540    4541  POINT (-9055237.447 5035115.760)"
      ]
     },
     "execution_count": 173,
     "metadata": {},
     "output_type": "execute_result"
    }
   ],
   "source": [
    "starbucksProjected[starbucksProjected.within(robinsonNewBuffer2.geometry.values[0])]"
   ]
  },
  {
   "cell_type": "markdown",
   "id": "e811bbdb-ef53-4bc8-9fc6-662a40b92581",
   "metadata": {},
   "source": [
    "Atlast!!!!!!! we can see that there are three starbucks with in 10 miles of the hospital. Now let 's see the second approach. "
   ]
  },
  {
   "cell_type": "markdown",
   "id": "800ffa15-4074-48d0-b5dd-904f670fb2b5",
   "metadata": {},
   "source": [
    "##### Using distance"
   ]
  },
  {
   "cell_type": "markdown",
   "id": "7ee06059-252d-4436-8615-aafedb3d62f9",
   "metadata": {},
   "source": [
    "As the name suggests the distance method gives the distance between geometries. Make sure the two geometries are having the same projection and the dataset is projected in meters/feet. "
   ]
  },
  {
   "cell_type": "code",
   "execution_count": 174,
   "id": "6f54d635-f6f5-4921-843e-18c7b8945ba8",
   "metadata": {},
   "outputs": [
    {
     "data": {
      "text/plain": [
       "0         569.887195\n",
       "1         571.726209\n",
       "2         569.505621\n",
       "3         567.508408\n",
       "4         565.092812\n",
       "            ...     \n",
       "16458    5397.193800\n",
       "16459    5361.807337\n",
       "16460    4133.440729\n",
       "16461    4136.147794\n",
       "16462    3791.261429\n",
       "Length: 16463, dtype: float64"
      ]
     },
     "execution_count": 174,
     "metadata": {},
     "output_type": "execute_result"
    }
   ],
   "source": [
    "starbucksDistMeter = starbucksProjected.distance(robinsonReproj.geometry.values[0])\n",
    "starbucksDistMiles = starbucksDistMeter*0.000621371\n",
    "starbucksDistMiles"
   ]
  },
  {
   "cell_type": "code",
   "execution_count": 175,
   "id": "30a68b3e-8d11-4e9c-b35e-f06cdbdbdb4c",
   "metadata": {},
   "outputs": [
    {
     "data": {
      "text/html": [
       "<div>\n",
       "<style scoped>\n",
       "    .dataframe tbody tr th:only-of-type {\n",
       "        vertical-align: middle;\n",
       "    }\n",
       "\n",
       "    .dataframe tbody tr th {\n",
       "        vertical-align: top;\n",
       "    }\n",
       "\n",
       "    .dataframe thead th {\n",
       "        text-align: right;\n",
       "    }\n",
       "</style>\n",
       "<table border=\"1\" class=\"dataframe\">\n",
       "  <thead>\n",
       "    <tr style=\"text-align: right;\">\n",
       "      <th></th>\n",
       "      <th>pk_uid</th>\n",
       "      <th>geometry</th>\n",
       "    </tr>\n",
       "  </thead>\n",
       "  <tbody>\n",
       "  </tbody>\n",
       "</table>\n",
       "</div>"
      ],
      "text/plain": [
       "Empty GeoDataFrame\n",
       "Columns: [pk_uid, geometry]\n",
       "Index: []"
      ]
     },
     "execution_count": 175,
     "metadata": {},
     "output_type": "execute_result"
    }
   ],
   "source": [
    "starbucksProjected[starbucksDistMiles<=2]"
   ]
  },
  {
   "cell_type": "code",
   "execution_count": 176,
   "id": "03de5a85-40b4-4e90-b4df-f65fbf96b6ea",
   "metadata": {},
   "outputs": [
    {
     "data": {
      "text/html": [
       "<div>\n",
       "<style scoped>\n",
       "    .dataframe tbody tr th:only-of-type {\n",
       "        vertical-align: middle;\n",
       "    }\n",
       "\n",
       "    .dataframe tbody tr th {\n",
       "        vertical-align: top;\n",
       "    }\n",
       "\n",
       "    .dataframe thead th {\n",
       "        text-align: right;\n",
       "    }\n",
       "</style>\n",
       "<table border=\"1\" class=\"dataframe\">\n",
       "  <thead>\n",
       "    <tr style=\"text-align: right;\">\n",
       "      <th></th>\n",
       "      <th>pk_uid</th>\n",
       "      <th>geometry</th>\n",
       "    </tr>\n",
       "  </thead>\n",
       "  <tbody>\n",
       "  </tbody>\n",
       "</table>\n",
       "</div>"
      ],
      "text/plain": [
       "Empty GeoDataFrame\n",
       "Columns: [pk_uid, geometry]\n",
       "Index: []"
      ]
     },
     "execution_count": 176,
     "metadata": {},
     "output_type": "execute_result"
    }
   ],
   "source": [
    "starbucksProjected[starbucksDistMiles<=5]"
   ]
  },
  {
   "cell_type": "code",
   "execution_count": 177,
   "id": "dc9d2897-229f-444e-893d-f59c96ed019f",
   "metadata": {},
   "outputs": [
    {
     "data": {
      "text/html": [
       "<div>\n",
       "<style scoped>\n",
       "    .dataframe tbody tr th:only-of-type {\n",
       "        vertical-align: middle;\n",
       "    }\n",
       "\n",
       "    .dataframe tbody tr th {\n",
       "        vertical-align: top;\n",
       "    }\n",
       "\n",
       "    .dataframe thead th {\n",
       "        text-align: right;\n",
       "    }\n",
       "</style>\n",
       "<table border=\"1\" class=\"dataframe\">\n",
       "  <thead>\n",
       "    <tr style=\"text-align: right;\">\n",
       "      <th></th>\n",
       "      <th>pk_uid</th>\n",
       "      <th>geometry</th>\n",
       "    </tr>\n",
       "  </thead>\n",
       "  <tbody>\n",
       "    <tr>\n",
       "      <th>4537</th>\n",
       "      <td>4538</td>\n",
       "      <td>POINT (-9055032.730 5034013.481)</td>\n",
       "    </tr>\n",
       "    <tr>\n",
       "      <th>4539</th>\n",
       "      <td>4540</td>\n",
       "      <td>POINT (-9056261.475 5047417.575)</td>\n",
       "    </tr>\n",
       "    <tr>\n",
       "      <th>4540</th>\n",
       "      <td>4541</td>\n",
       "      <td>POINT (-9055237.447 5035115.760)</td>\n",
       "    </tr>\n",
       "  </tbody>\n",
       "</table>\n",
       "</div>"
      ],
      "text/plain": [
       "      pk_uid                          geometry\n",
       "4537    4538  POINT (-9055032.730 5034013.481)\n",
       "4539    4540  POINT (-9056261.475 5047417.575)\n",
       "4540    4541  POINT (-9055237.447 5035115.760)"
      ]
     },
     "execution_count": 177,
     "metadata": {},
     "output_type": "execute_result"
    }
   ],
   "source": [
    "starbucksProjected[starbucksDistMiles<=10]"
   ]
  },
  {
   "cell_type": "markdown",
   "id": "227dcd88-cf88-4eee-acf7-04c1fd8b2a31",
   "metadata": {},
   "source": [
    "That's it for this lecture. In the next lecture we will look into spatial joins, which is one of the key aspects of spatial analysis."
   ]
  }
 ],
 "metadata": {
  "kernelspec": {
   "display_name": "Python 3 (ipykernel)",
   "language": "python",
   "name": "python3"
  },
  "language_info": {
   "codemirror_mode": {
    "name": "ipython",
    "version": 3
   },
   "file_extension": ".py",
   "mimetype": "text/x-python",
   "name": "python",
   "nbconvert_exporter": "python",
   "pygments_lexer": "ipython3",
   "version": "3.10.4"
  }
 },
 "nbformat": 4,
 "nbformat_minor": 5
}
