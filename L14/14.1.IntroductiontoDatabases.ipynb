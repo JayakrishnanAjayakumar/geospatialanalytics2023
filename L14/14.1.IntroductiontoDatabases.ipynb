{
 "cells": [
  {
   "cell_type": "markdown",
   "id": "e39f25d1-28d5-44ab-b40e-bddca3d91c6a",
   "metadata": {
    "tags": []
   },
   "source": [
    "# Introduction to Databases"
   ]
  },
  {
   "cell_type": "markdown",
   "id": "f64d0be6-7545-499d-8054-eb7c61b11646",
   "metadata": {},
   "source": [
    "## What is a database?"
   ]
  },
  {
   "cell_type": "markdown",
   "id": "f0d7c24c-e2d1-451c-9df7-4618a3b70948",
   "metadata": {},
   "source": [
    "A technical definition for database \n",
    "\n",
    ">A database is an **organized collection of data** stored and retrieved electronically from a computer or server. The **databases manage data** to reduce or **eliminate redundancy** so that the data they contain can be **easily searched and retrieved**.\n",
    "\n",
    "![databases](images/databases.png) \n",
    "\n",
    "Another way to think about database is through the lens of a computer. A computer is a device that allows you to manipulate data which is commonly in the form of text, numbers, images, and videos. However to do these manipulations the computer needs to *store* the data before it can be referenced or changed. Apart from storing information it needs to also make sure that the right information is provided at the right time. This is where the database truly shines. Not only does it helps to store and update data, but it also helps to retrieve data efficiently and seamlessly. \n",
    "\n",
    "You can consider a database as a **giant filing cabinet**. It can store vast amounts of information that you can easily refer to. Or you can even think of a database as a **phone book**. Phone books are used to organize data (names, addresses, and phone numbers) using a unique identifying characteristic (a person's name) to align data. To find information, you’d search the phone book for this unique identifier. Similarly, database helps to organize data, and helps in efficient retrieval with the help of unique identifiers (called keys in database). The difference is that while the phone book is restricted to store only text and numbers, the database can store many more types of data.  \n",
    "\n",
    "![file_cabinet](images/file-cabinet.png) \n",
    "\n",
    "![yellow_pages](images/yellow_pages.jpg) "
   ]
  },
  {
   "cell_type": "markdown",
   "id": "db07330a-afbd-4078-83c0-64a64405c650",
   "metadata": {},
   "source": [
    "**So are you interacting with databases regularly???**\n",
    "\n",
    "If you are using any social media websites like Facebook, Twitter, or Instagram you are knowingly or unknowingly interacting with a database.\n",
    "How do you think Facebook stores your account details or your friend network? All of these data are stored on databases. What about your online banking application? Or your online shopping website? All of these web applications store and retrieve data from databases. \n",
    "\n",
    "Databases power everything from banking software to scientific research to government records, as well as the websites you use every day, like Amazon, YouTube, Netflix, and Wikipedia.\n",
    "\n",
    "![fb_login](images/facebookloginDB.jpg) \n",
    "\n",
    "**So why are databases so common?**\n",
    "\n",
    "They make accessing information using a computer much easier. "
   ]
  },
  {
   "cell_type": "markdown",
   "id": "f43d5848-bb21-437d-9599-df30f2f622ef",
   "metadata": {},
   "source": [
    "## Why you need a database?"
   ]
  },
  {
   "cell_type": "markdown",
   "id": "6dea4e8c-832e-4a19-b429-87a34b266f00",
   "metadata": {},
   "source": [
    "1. Databases are **scalable**\n",
    "\n",
    "Database systems are capable of **storing and handling truly massive, complex data sets, or big data**. You might not be handling with large amount of data, but a well-designed database can last you for many years as you accumulate more data over time.\n",
    "\n",
    "![DIKW](images/scalable.jpg)"
   ]
  },
  {
   "cell_type": "markdown",
   "id": "9ac94a54-f5de-4b00-b5fc-4181a30655f3",
   "metadata": {},
   "source": [
    "2. Database can handle **multiple users (concurrency)**\n",
    "\n",
    "Databases are designed from the ground up to support **multiple people working together and taking action on a shared set of information**.\n",
    "**Database Management Systems (DBMS)** (which you will see in upcoming session) also have built-in mechanisms to ensure that **data stays consistent** even if **multiple people are accessing the same data**. This is a capability that is absent in spreadsheets. \n",
    "\n",
    "![concurrency](images/concurrency.jpg)"
   ]
  },
  {
   "cell_type": "markdown",
   "id": "6cfb1059-c579-4e0e-99dd-c809b6cfffa3",
   "metadata": {},
   "source": [
    "3. Databases are **reliable**"
   ]
  },
  {
   "cell_type": "markdown",
   "id": "385079e8-9c2a-40b1-afcd-692898e9b91c",
   "metadata": {},
   "source": [
    "Databases have a **defined structure, as well as access controls**, make it much **easier to prevent human error**. Database have **built-in checks** to prevent data-loss and with features such as **roll-back**, data discrepancy can be handled efficiently.\n",
    "\n",
    "![reliable](images/data-integrity.png)"
   ]
  },
  {
   "cell_type": "markdown",
   "id": "ae2056d8-83ab-404a-8a34-6acc179f95ed",
   "metadata": {},
   "source": [
    "4. Databases avoid **redundancy**"
   ]
  },
  {
   "cell_type": "markdown",
   "id": "d5a9850c-14d4-4d00-a2d7-59cd95b707d9",
   "metadata": {},
   "source": [
    "A **well-designed database** can avoid redundancy by ensuring that **each piece of data only exists in one location at a time**. With a database, you can update information in one place and rest assured that any other places in which that data is referenced will be automatically updated as well.\n",
    "\n",
    "![redundancy](images/data_redundancy.jpg)"
   ]
  },
  {
   "cell_type": "markdown",
   "id": "c6b44290-fe58-4217-80e9-5d998048b8e9",
   "metadata": {},
   "source": [
    "5. Databases are self-describing"
   ]
  },
  {
   "cell_type": "markdown",
   "id": "3bc4d938-a0e6-4d97-acf1-5d3dd20d48d5",
   "metadata": {},
   "source": [
    "A database system is referred to as **self-describing** because it not only contains the database itself, but also **metadata** which defines and describes the **data and relationships between tables in the database**.\n",
    "![meta_data](images/meta_data.png)\n"
   ]
  },
  {
   "cell_type": "markdown",
   "id": "bdcd7eb7-88a6-40ab-9d53-c295e6f1afd4",
   "metadata": {},
   "source": [
    "## Database Management Systems (DBMS)"
   ]
  },
  {
   "cell_type": "markdown",
   "id": "11638861-9340-46f3-bbf2-5e8c996bad42",
   "metadata": {},
   "source": [
    ">**Database Management System (DBMS)** is a **software for storing and retrieving users’ data**. It consists of a **group of programs which manipulate the database**. The DBMS accepts the **request for data from an application (or user)** and **instructs the operating system to provide the specific data**. In large systems, a DBMS helps **users and other third-party software** to **store and retrieve data**. You can think of DBMS as a man in the middle who **understand your request and convert them into a form which the machine can understand and retrieve the required results for you**."
   ]
  },
  {
   "cell_type": "markdown",
   "id": "23e464b3-6707-4020-858b-c29a5f314235",
   "metadata": {},
   "source": [
    "![dbms](images/dbms_new.png)"
   ]
  },
  {
   "cell_type": "markdown",
   "id": "6e887a78-70f8-433c-aebd-6d134af6f589",
   "metadata": {},
   "source": [
    "## Types of Databases"
   ]
  },
  {
   "cell_type": "markdown",
   "id": "4f00fa7a-7703-4ee8-88bc-a041326b5ead",
   "metadata": {},
   "source": [
    "1. Relational databases \n",
    "\n",
    "A relational database employs the **relational model, which maintains data in rows and columns to form a database table** (more to come in the upcoming section). It is one of the most commonly used database. Examples include MySQL, Oracle, PostgreSQL\n",
    "\n",
    "![relational](images/relational_database.jpg)"
   ]
  },
  {
   "cell_type": "markdown",
   "id": "1cf31f95-289a-4c2d-95e8-145721708f62",
   "metadata": {},
   "source": [
    "2. NoSQL databases\n",
    "\n",
    "A NoSQL database is a **non-relational database that allows storing and managing unstructured and semistructured data**. It is particularly useful for storing **huge volume data**. Examples include MongoDB, CouchDB, and Neo4J\n",
    "\n",
    "![nosql](images/NoSQL.jpg)"
   ]
  },
  {
   "cell_type": "markdown",
   "id": "572dcba7-7ab8-4193-8e36-9e7a5a54e1c0",
   "metadata": {},
   "source": [
    "3. Distributed databases\n",
    "\n",
    "These database systems are **connected via communication links**. These **links make it simpler for end-users to obtain information**. Examples of distributed databases include Apache Cassandra, HBase, and Ignite.\n",
    "\n",
    "![distributed](images/distributed.png)"
   ]
  },
  {
   "cell_type": "markdown",
   "id": "e031203f-d6fd-4e46-9a04-3645eb8df035",
   "metadata": {},
   "source": [
    "4. Object-oriented databases \n",
    "\n",
    "The data in an object-oriented database is stored as an **object**. These are similar to **objects in object-oriented programming languages**. Examples of object-oriented databases include IBM Db2 and Versant.\n",
    "\n",
    "![Object-oriented](images/object_oriented.png)"
   ]
  },
  {
   "cell_type": "markdown",
   "id": "9d119295-cbda-40b0-b954-840ceff79acc",
   "metadata": {},
   "source": [
    "Now we look into Relational Databases in detail"
   ]
  },
  {
   "cell_type": "markdown",
   "id": "879a1c60-430d-4a8a-aed4-b639239138d1",
   "metadata": {},
   "source": [
    "## Relational Databases"
   ]
  },
  {
   "cell_type": "markdown",
   "id": "3742c5a3-4aad-4c29-9d27-7578bc8b4c99",
   "metadata": {},
   "source": [
    "We have already seen the definition for relational databases. To make it more clear, relational databases uses a **structure** that allows us to **identify and access data in relation to another piece of data** in the database. The key here is **relation**. So what is a **relation**"
   ]
  },
  {
   "cell_type": "markdown",
   "id": "5e1ae121-1308-4065-9c8e-a8b05e15e07f",
   "metadata": {},
   "source": [
    "### What are Relations? (aka Tables)"
   ]
  },
  {
   "cell_type": "markdown",
   "id": "9d84766a-3353-49fe-ba48-893882f95171",
   "metadata": {},
   "source": [
    "The most **fundamental elements in the relational model are relations**, which users and modern RDBMSs recognize as **tables**. \n",
    ">A relation is a **set of tuples, or rows in a table, with each tuple sharing a set of attributes, or columns**.\n",
    "\n",
    "![sample_table](images/sample_table.png)\n",
    "\n",
    "Tables can have hundreds, thousands, sometimes even millions of **rows of data**. These rows are often called **records**.\n",
    "\n",
    "Tables can also have many **columns of data**. Each column has a **name** and a data type associated with it (more on this as we progress).\n",
    "\n",
    "In our sample table there are three rows (records) and three columns (Name, Age, and Email)."
   ]
  },
  {
   "cell_type": "markdown",
   "id": "3212f9f2",
   "metadata": {},
   "source": [
    "Quiz time"
   ]
  },
  {
   "cell_type": "code",
   "execution_count": 19,
   "id": "cb93ba12",
   "metadata": {},
   "outputs": [
    {
     "data": {
      "application/vnd.jupyter.widget-view+json": {
       "model_id": "c4de6fe9e6c943c6bff693e5f4722fce",
       "version_major": 2,
       "version_minor": 0
      },
      "text/plain": [
       "VBox(children=(Image(value=b'\\x89PNG\\r\\n\\x1a\\n\\x00\\x00\\x00\\rIHDR\\x00\\x00\\x04Z\\x00\\x00\\x01\\x08\\x08\\x03\\x00\\x00\\…"
      ]
     },
     "execution_count": 19,
     "metadata": {},
     "output_type": "execute_result"
    }
   ],
   "source": [
    "from ipywidgets import HBox, VBox\n",
    "from ipywidgets import widgets\n",
    "from IPython.display import display,HTML,clear_output\n",
    "def answered(radio):\n",
    "    result = answers.value=='3,5'\n",
    "    with answer:\n",
    "        clear_output()\n",
    "        if result:\n",
    "            display(HTML(\"<span style='color:green'>You answer is correct!!!!</span>\"))\n",
    "        else:\n",
    "            display(HTML(\"<span style='color:red'>That answer is incorrect, please try again</span>\"))\n",
    "        \n",
    "question = widgets.Output()\n",
    "answer = widgets.Output()\n",
    "file = open(\"images/table_exercise.png\", \"rb\")\n",
    "image = file.read()\n",
    "imgWidget = widgets.Image(\n",
    "    value=image,\n",
    "    format='png',\n",
    "    width=800,\n",
    "    height=500,\n",
    ")\n",
    "with question:\n",
    "    display(HTML('How many <b>rows and columns</b> the table shown in the figure has?'))\n",
    "answers = widgets.RadioButtons(\n",
    "    options=['5,3','3,5','4,5','5,4'],\n",
    "    description='',\n",
    "    disabled=False\n",
    ")\n",
    "answers.value=None\n",
    "answers.observe(answered, 'value')\n",
    "out = VBox([imgWidget,question,answers,answer])\n",
    "out"
   ]
  },
  {
   "cell_type": "markdown",
   "id": "cd6db599",
   "metadata": {},
   "source": [
    "You might now be thinking, does the table look like a spreadsheet????"
   ]
  },
  {
   "cell_type": "markdown",
   "id": "c832d216",
   "metadata": {},
   "source": [
    "### How similar/dissimilar are tables and spreadsheets"
   ]
  },
  {
   "cell_type": "markdown",
   "id": "98ec1ee4",
   "metadata": {},
   "source": [
    "One of the things that you have noticed from the sample table shown above is that its very similar to the spread sheet you have used before. \n",
    "\n",
    "![sample_table](images/sample_excel.png)\n",
    "\n",
    "You can enter data to a spreadsheet and use the various filters available in spreadsheet to slice and dice your data as well as perform mathematical operations (sum,average, maximum, minimum, standard deviation, as well as create your own formulas) and other operations such as sorting, on your data. You can also create charts based on your data using common spreadsheet softwares such as Microsoft Excel. Then **Why you need databases if you could do everying on spreadsheets**.\n",
    "\n",
    "Eventhough spreadsheets and database tables looks the same, the database tables are much powerful due to many reasons\n",
    "\n",
    "1. **Spreadsheets are static** and cannot be linked to other datasources. The database (relational database) is based on the concept of **dynamic relations between the tables**.\n",
    "\n",
    "2. Database have in-built constructs to maintain **data integrity and consistency**, while spreadsheets lack any of such constructs for maintaning integrity and constency. We will learn about one of such constructs (Primary Key) in the next section. \n",
    "\n",
    "3. Spreadsheets are limited in-terms of the number of records it can process (or simply not **scalable**) and display at a single time (probably a million), while databases can handle millions or billions of records without sweating!!.\n",
    "\n",
    "4. Spreadsheets can't be **concurrently accessed** and edited by many users (not referring to Google spreadsheets), while database tables are designed to support such concurrent access.\n",
    "\n",
    "5. Selection based on **various data types** such as 'time' and 'geometry' is virtually impossible in spreadsheets while database are build for a vast array of data types. \n",
    "\n",
    "Now we will look into some database constructs that helps to maintain data integrity as well as relation based access."
   ]
  },
  {
   "cell_type": "markdown",
   "id": "30cdda5a-285a-4e56-9f40-5c043e323082",
   "metadata": {},
   "source": [
    "### Primary Key\n",
    "\n",
    "![key](images/Golden_key_icon.svg.png)"
   ]
  },
  {
   "cell_type": "markdown",
   "id": "1aa1fb77-0a1d-4b2a-b3df-2311ae45c76a",
   "metadata": {},
   "source": [
    "In the relational model, each table contains **at least one column that can be used to uniquely identify each row**, called a **primary key**. In our sample table, which column can be a primary key?? Any guess??\n",
    "\n",
    "We could use email as primary key, but it has its own caveats. A person can have many email addresses. So it might not be a great candidate for a primary key. Your SSN id could be a primary key as its only related to a single person. \n",
    "\n",
    "Primary key can also be autogenerated. An example of this would be your studentid, which most of the time would be a unique number. \n",
    "\n",
    "![pkey](images/pkey1.png)\n",
    "\n",
    "In this example, the Id column will be the primary key for the student table. For the Id 1, there will be one and only one record associated with it. We can't have another record with Id 1 as it will violate the Primary Key assumption (constraint as it's called in database language)."
   ]
  },
  {
   "cell_type": "markdown",
   "id": "cbc381e0-3f6d-4c54-b806-c4b451814f24",
   "metadata": {},
   "source": [
    "Quiz time"
   ]
  },
  {
   "cell_type": "code",
   "execution_count": 20,
   "id": "485b248e",
   "metadata": {},
   "outputs": [
    {
     "data": {
      "application/vnd.jupyter.widget-view+json": {
       "model_id": "5c34be4eb19841bda39b6ac63716a300",
       "version_major": 2,
       "version_minor": 0
      },
      "text/plain": [
       "VBox(children=(Image(value=b'\\x89PNG\\r\\n\\x1a\\n\\x00\\x00\\x00\\rIHDR\\x00\\x00\\x05\\x1f\\x00\\x00\\x01E\\x08\\x03\\x00\\x00\\…"
      ]
     },
     "execution_count": 20,
     "metadata": {},
     "output_type": "execute_result"
    }
   ],
   "source": [
    "from ipywidgets import HBox, VBox\n",
    "from ipywidgets import widgets\n",
    "from IPython.display import display,HTML,clear_output\n",
    "def answered(radio):\n",
    "    result = answers.value=='No'\n",
    "    with answer:\n",
    "        clear_output()\n",
    "        if result:\n",
    "            display(HTML(\"<span style='color:green'>You answer is correct!!!!</span>\"))\n",
    "        else:\n",
    "            display(HTML(\"<span style='color:red'>That answer is incorrect, please try again</span>\"))\n",
    "        \n",
    "question = widgets.Output()\n",
    "answer = widgets.Output()\n",
    "file = open(\"images/pkeyexerI.png\", \"rb\")\n",
    "image = file.read()\n",
    "imgWidget = widgets.Image(\n",
    "    value=image,\n",
    "    format='png',\n",
    "    width=800,\n",
    "    height=500,\n",
    ")\n",
    "with question:\n",
    "    display(HTML('Is the column <b>First_Name a potential primary key</b> for the table shown here?'))\n",
    "answers = widgets.RadioButtons(\n",
    "    options=['Yes','No'],\n",
    "    description='',\n",
    "    disabled=False\n",
    ")\n",
    "answers.value=None\n",
    "answers.observe(answered, 'value')\n",
    "out = VBox([imgWidget,question,answers,answer])\n",
    "out"
   ]
  },
  {
   "cell_type": "code",
   "execution_count": 21,
   "id": "f6a40289",
   "metadata": {},
   "outputs": [
    {
     "data": {
      "application/vnd.jupyter.widget-view+json": {
       "model_id": "f036a042a3db474483983b6efff50b65",
       "version_major": 2,
       "version_minor": 0
      },
      "text/plain": [
       "VBox(children=(Output(), RadioButtons(options=('First_Name', 'Last_Name', 'Height', 'Weight', 'Eye_Color', 'Li…"
      ]
     },
     "execution_count": 21,
     "metadata": {},
     "output_type": "execute_result"
    }
   ],
   "source": [
    "from ipywidgets import HBox, VBox\n",
    "from ipywidgets import widgets\n",
    "from IPython.display import display,HTML,clear_output\n",
    "def answered(radio):\n",
    "    result = answers.value=='LicenseNo'\n",
    "    with answer:\n",
    "        clear_output()\n",
    "        if result:\n",
    "            display(HTML(\"<span style='color:green'>You answer is correct!!!!</span>\"))\n",
    "        else:\n",
    "            display(HTML(\"<span style='color:red'>That answer is incorrect, please try again</span>\"))\n",
    "        \n",
    "question = widgets.Output()\n",
    "answer = widgets.Output()\n",
    "with question:\n",
    "    display(HTML('For the same table shown in the last question which is a <b>potential primary key</b>?'))\n",
    "answers = widgets.RadioButtons(\n",
    "    options=['First_Name','Last_Name','Height','Weight','Eye_Color','LicenseNo'],\n",
    "    description='',\n",
    "    disabled=False\n",
    ")\n",
    "answers.value=None\n",
    "answers.observe(answered, 'value')\n",
    "out = VBox([question,answers,answer])\n",
    "out"
   ]
  },
  {
   "cell_type": "code",
   "execution_count": 22,
   "id": "791c029d",
   "metadata": {},
   "outputs": [
    {
     "data": {
      "application/vnd.jupyter.widget-view+json": {
       "model_id": "9f9579ddb7034e1a931a0cf4a32527e4",
       "version_major": 2,
       "version_minor": 0
      },
      "text/plain": [
       "VBox(children=(Image(value=b'\\x89PNG\\r\\n\\x1a\\n\\x00\\x00\\x00\\rIHDR\\x00\\x00\\x05 \\x00\\x00\\x00Q\\x08\\x03\\x00\\x00\\x01…"
      ]
     },
     "execution_count": 22,
     "metadata": {},
     "output_type": "execute_result"
    }
   ],
   "source": [
    "from ipywidgets import HBox, VBox\n",
    "from ipywidgets import widgets\n",
    "from IPython.display import display,HTML,clear_output\n",
    "def answered(radio):\n",
    "    result = answers.value=='Yes'\n",
    "    with answer:\n",
    "        clear_output()\n",
    "        if result:\n",
    "            display(HTML(\"<span style='color:green'>You answer is correct!!!!</span>\"))\n",
    "        else:\n",
    "            display(HTML(\"<span style='color:red'>That answer is incorrect, please try again</span>\"))\n",
    "\n",
    "file = open(\"images/pkeyexerII.png\", \"rb\")\n",
    "image = file.read()\n",
    "imgWidget = widgets.Image(\n",
    "    value=image,\n",
    "    format='png',\n",
    "    width=800,\n",
    "    height=500,\n",
    ")       \n",
    "question = widgets.Output()\n",
    "answer = widgets.Output()\n",
    "with question:\n",
    "    display(HTML('Suppose we have selected <b>LicenseNo as primary key</b>, is this new entry valid?'))\n",
    "answers = widgets.RadioButtons(\n",
    "    options=['Yes','No'],\n",
    "    description='',\n",
    "    disabled=False\n",
    ")\n",
    "answers.value=None\n",
    "answers.observe(answered, 'value')\n",
    "out = VBox([imgWidget,question,answers,answer])\n",
    "out"
   ]
  },
  {
   "cell_type": "markdown",
   "id": "0f757ba1-3848-47ad-85c3-d358345b7db4",
   "metadata": {},
   "source": [
    "### Foreign Key"
   ]
  },
  {
   "cell_type": "markdown",
   "id": "711a22de-a2a5-4044-b582-7c5fb3978323",
   "metadata": {},
   "source": [
    "If you have **two tables that you’d like to associate with one another** (which is the real strength of relational database), one way you can do so is with a **foreign key**. **A foreign key is essentially a copy of one table’s (the 'parent' table) primary key inserted into a column in another table (the 'child')**.\n",
    "Lets look at a concrete example to make this clear. Let's add a new table Student_Blood_Group which has only two columns Studentid (the id for the student), and the blood group. \n",
    "\n",
    "![fkey](images/fkey.png)\n",
    "\n",
    "In this example the Studentid column can be assigned as a foreign key that refers to the Id column in the Student table (which is the primary key for the table). In this way, both the Student table and the Student_Blood_Group table are related to each other. Once the Foreign key relation is set, you can't have a record in the Student_Blood_Group with a Studentid that's not in Student table"
   ]
  },
  {
   "cell_type": "markdown",
   "id": "7740ba26",
   "metadata": {},
   "source": [
    "Quiz Time"
   ]
  },
  {
   "cell_type": "code",
   "execution_count": 23,
   "id": "9b911173",
   "metadata": {},
   "outputs": [
    {
     "data": {
      "application/vnd.jupyter.widget-view+json": {
       "model_id": "55d35cd46f9c48779f4f4803f4613605",
       "version_major": 2,
       "version_minor": 0
      },
      "text/plain": [
       "VBox(children=(Image(value=b'\\x89PNG\\r\\n\\x1a\\n\\x00\\x00\\x00\\rIHDR\\x00\\x00\\x05U\\x00\\x00\\x04<\\x08\\x03\\x00\\x00\\x01…"
      ]
     },
     "execution_count": 23,
     "metadata": {},
     "output_type": "execute_result"
    }
   ],
   "source": [
    "from ipywidgets import HBox, VBox\n",
    "from ipywidgets import widgets\n",
    "from IPython.display import display,HTML,clear_output\n",
    "def answered(radio):\n",
    "    result = answers.value=='Id'\n",
    "    with answer:\n",
    "        clear_output()\n",
    "        if result:\n",
    "            display(HTML(\"<span style='color:green'>You answer is correct!!!!</span>\"))\n",
    "        else:\n",
    "            display(HTML(\"<span style='color:red'>That answer is incorrect, please try again</span>\"))\n",
    "\n",
    "file = open(\"images/key_exercises1.png\", \"rb\")\n",
    "image = file.read()\n",
    "imgWidget = widgets.Image(\n",
    "    value=image,\n",
    "    format='png',\n",
    "    width=800,\n",
    "    height=500,\n",
    ")       \n",
    "question = widgets.Output()\n",
    "answer = widgets.Output()\n",
    "with question:\n",
    "    display(HTML('What could be a <b>potential primary key for the table Club</b>'))\n",
    "answers = widgets.RadioButtons(\n",
    "    options=['Id','Name'],\n",
    "    description='',\n",
    "    disabled=False\n",
    ")\n",
    "answers.value=None\n",
    "answers.observe(answered, 'value')\n",
    "out = VBox([imgWidget,question,answers,answer])\n",
    "out"
   ]
  },
  {
   "cell_type": "code",
   "execution_count": 24,
   "id": "23ae2714",
   "metadata": {},
   "outputs": [
    {
     "data": {
      "application/vnd.jupyter.widget-view+json": {
       "model_id": "74581b04ce0d483bb69c27a4a3ffa640",
       "version_major": 2,
       "version_minor": 0
      },
      "text/plain": [
       "VBox(children=(Output(), RadioButtons(options=('Club_ID', 'Person_ID', 'Active', 'No Potential Primary Key'), …"
      ]
     },
     "execution_count": 24,
     "metadata": {},
     "output_type": "execute_result"
    }
   ],
   "source": [
    "from ipywidgets import HBox, VBox\n",
    "from ipywidgets import widgets\n",
    "from IPython.display import display,HTML,clear_output\n",
    "def answered(radio):\n",
    "    result = answers.value=='No Potential Primary Key'\n",
    "    with answer:\n",
    "        clear_output()\n",
    "        if result:\n",
    "            display(HTML(\"<span style='color:green'>You answer is correct!!!!</span>\"))\n",
    "        else:\n",
    "            display(HTML(\"<span style='color:red'>That answer is incorrect, please try again</span>\"))\n",
    "  \n",
    "question = widgets.Output()\n",
    "answer = widgets.Output()\n",
    "with question:\n",
    "    display(HTML('What could be a <b>potential primary key for the table Club_Membership</b>'))\n",
    "answers = widgets.RadioButtons(\n",
    "    options=['Club_ID','Person_ID','Active','No Potential Primary Key'],\n",
    "    description='',\n",
    "    disabled=False\n",
    ")\n",
    "answers.value=None\n",
    "answers.observe(answered, 'value')\n",
    "out = VBox([question,answers,answer])\n",
    "out"
   ]
  },
  {
   "cell_type": "code",
   "execution_count": 25,
   "id": "d22aec4e",
   "metadata": {},
   "outputs": [
    {
     "data": {
      "application/vnd.jupyter.widget-view+json": {
       "model_id": "154c0b8a25e8436d9f2536203578b091",
       "version_major": 2,
       "version_minor": 0
      },
      "text/plain": [
       "VBox(children=(Output(), RadioButtons(options=('Club_ID', 'Person_ID', 'Active', 'No Foreign Key'), value=None…"
      ]
     },
     "execution_count": 25,
     "metadata": {},
     "output_type": "execute_result"
    }
   ],
   "source": [
    "from ipywidgets import HBox, VBox\n",
    "from ipywidgets import widgets\n",
    "from IPython.display import display,HTML,clear_output\n",
    "def answered(radio):\n",
    "    result = answers.value=='Club_ID'\n",
    "    with answer:\n",
    "        clear_output()\n",
    "        if result:\n",
    "            display(HTML(\"<span style='color:green'>You answer is correct!!!!</span>\"))\n",
    "        else:\n",
    "            display(HTML(\"<span style='color:red'>That answer is incorrect, please try again</span>\"))\n",
    "  \n",
    "\n",
    "question = widgets.Output()\n",
    "answer = widgets.Output()\n",
    "with question:\n",
    "    display(HTML('If we select Id as the primary key for club, what could be the <b>foreign key in Club_Membership which relates Club and Club_Membership</b> tables?'))\n",
    "answers = widgets.RadioButtons(\n",
    "    options=['Club_ID','Person_ID','Active','No Foreign Key'],\n",
    "    description='',\n",
    "    disabled=False\n",
    ")\n",
    "answers.value=None\n",
    "answers.observe(answered, 'value')\n",
    "out = VBox([question,answers,answer])\n",
    "out"
   ]
  },
  {
   "cell_type": "code",
   "execution_count": 26,
   "id": "7a6a3d02",
   "metadata": {},
   "outputs": [
    {
     "data": {
      "application/vnd.jupyter.widget-view+json": {
       "model_id": "28b4a82ae84247ac9ba396120b50d0fe",
       "version_major": 2,
       "version_minor": 0
      },
      "text/plain": [
       "VBox(children=(Output(), RadioButtons(options=('Club_ID', 'Person_ID', 'Active', 'No Foreign Key'), value=None…"
      ]
     },
     "execution_count": 26,
     "metadata": {},
     "output_type": "execute_result"
    }
   ],
   "source": [
    "from ipywidgets import HBox, VBox\n",
    "from ipywidgets import widgets\n",
    "from IPython.display import display,HTML,clear_output\n",
    "def answered(radio):\n",
    "    result = answers.value=='Person_ID'\n",
    "    with answer:\n",
    "        clear_output()\n",
    "        if result:\n",
    "            display(HTML(\"<span style='color:green'>You answer is correct!!!!</span>\"))\n",
    "        else:\n",
    "            display(HTML(\"<span style='color:red'>That answer is incorrect, please try again</span>\"))\n",
    "  \n",
    "\n",
    "question = widgets.Output()\n",
    "answer = widgets.Output()\n",
    "with question:\n",
    "    display(HTML('If we select LicensNo as the primary key for Person, what could be the <b>foreign key in Club_Membership which relates Person and Club_Membership</b> tables?'))\n",
    "answers = widgets.RadioButtons(\n",
    "    options=['Club_ID','Person_ID','Active','No Foreign Key'],\n",
    "    description='',\n",
    "    disabled=False\n",
    ")\n",
    "answers.value=None\n",
    "answers.observe(answered, 'value')\n",
    "out = VBox([question,answers,answer])\n",
    "out"
   ]
  },
  {
   "cell_type": "code",
   "execution_count": 27,
   "id": "088d368a",
   "metadata": {},
   "outputs": [
    {
     "data": {
      "application/vnd.jupyter.widget-view+json": {
       "model_id": "2119ecc0c53447e7975262a2c80ba279",
       "version_major": 2,
       "version_minor": 0
      },
      "text/plain": [
       "VBox(children=(Image(value=b'\\x89PNG\\r\\n\\x1a\\n\\x00\\x00\\x00\\rIHDR\\x00\\x00\\x02\\xcf\\x00\\x00\\x00Q\\x08\\x03\\x00\\x00\\…"
      ]
     },
     "execution_count": 27,
     "metadata": {},
     "output_type": "execute_result"
    }
   ],
   "source": [
    "from ipywidgets import HBox, VBox\n",
    "from ipywidgets import widgets\n",
    "from IPython.display import display,HTML,clear_output\n",
    "def answered(radio):\n",
    "    result = answers.value=='No'\n",
    "    with answer:\n",
    "        clear_output()\n",
    "        if result:\n",
    "            display(HTML(\"<span style='color:green'>You answer is correct!!!!</span>\"))\n",
    "        else:\n",
    "            display(HTML(\"<span style='color:red'>That answer is incorrect, please try again</span>\"))\n",
    "\n",
    "file = open(\"images/key_exercises3.png\", \"rb\")\n",
    "image = file.read()\n",
    "imgWidget = widgets.Image(\n",
    "    value=image,\n",
    "    format='png',\n",
    "    width=800,\n",
    "    height=500,\n",
    ")       \n",
    "question = widgets.Output()\n",
    "answer = widgets.Output()\n",
    "with question:\n",
    "    display(HTML('Can we add this new row to Club_Membership table?'))\n",
    "answers = widgets.RadioButtons(\n",
    "    options=['Yes','No'],\n",
    "    description='',\n",
    "    disabled=False\n",
    ")\n",
    "answers.value=None\n",
    "answers.observe(answered, 'value')\n",
    "out = VBox([imgWidget,question,answers,answer])\n",
    "out"
   ]
  },
  {
   "cell_type": "code",
   "execution_count": 28,
   "id": "cfd0b26e",
   "metadata": {},
   "outputs": [
    {
     "data": {
      "application/vnd.jupyter.widget-view+json": {
       "model_id": "e0d6c9cc6e924e6e863ecebf40239459",
       "version_major": 2,
       "version_minor": 0
      },
      "text/plain": [
       "VBox(children=(Image(value=b'\\x89PNG\\r\\n\\x1a\\n\\x00\\x00\\x00\\rIHDR\\x00\\x00\\x02\\xcf\\x00\\x00\\x00Q\\x08\\x03\\x00\\x00\\…"
      ]
     },
     "execution_count": 28,
     "metadata": {},
     "output_type": "execute_result"
    }
   ],
   "source": [
    "from ipywidgets import HBox, VBox\n",
    "from ipywidgets import widgets\n",
    "from IPython.display import display,HTML,clear_output\n",
    "def answered(radio):\n",
    "    result = answers.value=='No'\n",
    "    with answer:\n",
    "        clear_output()\n",
    "        if result:\n",
    "            display(HTML(\"<span style='color:green'>You answer is correct!!!!</span>\"))\n",
    "        else:\n",
    "            display(HTML(\"<span style='color:red'>That answer is incorrect, please try again</span>\"))\n",
    "\n",
    "file = open(\"images/key_exercises4.png\", \"rb\")\n",
    "image = file.read()\n",
    "imgWidget = widgets.Image(\n",
    "    value=image,\n",
    "    format='png',\n",
    "    width=800,\n",
    "    height=500,\n",
    ")       \n",
    "question = widgets.Output()\n",
    "answer = widgets.Output()\n",
    "with question:\n",
    "    display(HTML('Can we add this new row to Club_Membership table?'))\n",
    "answers = widgets.RadioButtons(\n",
    "    options=['Yes','No'],\n",
    "    description='',\n",
    "    disabled=False\n",
    ")\n",
    "answers.value=None\n",
    "answers.observe(answered, 'value')\n",
    "out = VBox([imgWidget,question,answers,answer])\n",
    "out"
   ]
  },
  {
   "cell_type": "code",
   "execution_count": 29,
   "id": "baae16c3",
   "metadata": {},
   "outputs": [
    {
     "data": {
      "application/vnd.jupyter.widget-view+json": {
       "model_id": "c318f10585d34131b0aca6209ccbc4e2",
       "version_major": 2,
       "version_minor": 0
      },
      "text/plain": [
       "VBox(children=(Output(), RadioButtons(options=('1', '2', '3', '4', '0'), value=None), Output()))"
      ]
     },
     "execution_count": 29,
     "metadata": {},
     "output_type": "execute_result"
    }
   ],
   "source": [
    "from ipywidgets import HBox, VBox\n",
    "from ipywidgets import widgets\n",
    "from IPython.display import display,HTML,clear_output\n",
    "def answered(radio):\n",
    "    result = answers.value=='2'\n",
    "    with answer:\n",
    "        clear_output()\n",
    "        if result:\n",
    "            display(HTML(\"<span style='color:green'>You answer is correct!!!!</span>\"))\n",
    "        else:\n",
    "            display(HTML(\"<span style='color:red'>That answer is incorrect, please try again</span>\"))\n",
    "\n",
    " \n",
    "question = widgets.Output()\n",
    "answer = widgets.Output()\n",
    "with question:\n",
    "    display(HTML('Could you identify the total number of clubs in which Sam Rogers is a member?'))\n",
    "answers = widgets.RadioButtons(\n",
    "    options=['1','2','3','4','0'],\n",
    "    description='',\n",
    "    disabled=False\n",
    ")\n",
    "answers.value=None\n",
    "answers.observe(answered, 'value')\n",
    "out = VBox([question,answers,answer])\n",
    "out"
   ]
  },
  {
   "cell_type": "code",
   "execution_count": 30,
   "id": "39018f8b",
   "metadata": {},
   "outputs": [
    {
     "data": {
      "application/vnd.jupyter.widget-view+json": {
       "model_id": "b04ba5892f734fb8ab11f3bcc8459aa8",
       "version_major": 2,
       "version_minor": 0
      },
      "text/plain": [
       "VBox(children=(Output(), RadioButtons(options=('1', '2', '3', '4', '0'), value=None), Output()))"
      ]
     },
     "execution_count": 30,
     "metadata": {},
     "output_type": "execute_result"
    }
   ],
   "source": [
    "from ipywidgets import HBox, VBox\n",
    "from ipywidgets import widgets\n",
    "from IPython.display import display,HTML,clear_output\n",
    "def answered(radio):\n",
    "    result = answers.value=='1'\n",
    "    with answer:\n",
    "        clear_output()\n",
    "        if result:\n",
    "            display(HTML(\"<span style='color:green'>You answer is correct!!!!</span>\"))\n",
    "        else:\n",
    "            display(HTML(\"<span style='color:red'>That answer is incorrect, please try again</span>\"))\n",
    "\n",
    " \n",
    "question = widgets.Output()\n",
    "answer = widgets.Output()\n",
    "with question:\n",
    "    display(HTML('Could you identify how many active members are there in the Football Club?'))\n",
    "answers = widgets.RadioButtons(\n",
    "    options=['1','2','3','4','0'],\n",
    "    description='',\n",
    "    disabled=False\n",
    ")\n",
    "answers.value=None\n",
    "answers.observe(answered, 'value')\n",
    "out = VBox([question,answers,answer])\n",
    "out"
   ]
  },
  {
   "cell_type": "code",
   "execution_count": 31,
   "id": "99a7e13c",
   "metadata": {},
   "outputs": [
    {
     "data": {
      "application/vnd.jupyter.widget-view+json": {
       "model_id": "9c506e2bec1247a187011798ebd7eeb8",
       "version_major": 2,
       "version_minor": 0
      },
      "text/plain": [
       "VBox(children=(Output(layout=Layout(margin='0 0 0 350px')), GridspecLayout(children=(Output(layout=Layout(grid…"
      ]
     },
     "execution_count": 31,
     "metadata": {},
     "output_type": "execute_result"
    }
   ],
   "source": [
    "from ipywidgets import GridspecLayout,Output,HBox, VBox\n",
    "from IPython.display import display,HTML,clear_output\n",
    "\n",
    "def submitResults(select):\n",
    "    result = grid[0,1].value =='2' and grid[1,1].value =='1' and grid[2,1].value =='1' and grid[3,1].value == '1'\n",
    "    with answer:\n",
    "        clear_output()\n",
    "        if result:\n",
    "            display(HTML(\"<span style='color:green'>You answer is correct!!!!</span>\"))\n",
    "        else:\n",
    "            display(HTML(\"<span style='color:red'>That answer is incorrect, please try again</span>\"))\n",
    "\n",
    "prompt = Output(layout={'margin':'0 0 0 350px'})\n",
    "with prompt:\n",
    "    display(HTML(\"<b>Select Total Active members for each club</b>\"))\n",
    "    \n",
    "grid = GridspecLayout(4, 2)\n",
    "questions = ['Dance','Basketball','Football','Music']\n",
    "answers = [widgets.Dropdown(\n",
    "    options=['0', '1', '2','3','4'],\n",
    "    value='0',\n",
    "    description='',\n",
    "    disabled=False,\n",
    ") for i in range(4)]\n",
    "for i,question in enumerate(questions):\n",
    "    qOut = Output()\n",
    "    with qOut:\n",
    "        display(question)\n",
    "    grid[i,0] = qOut\n",
    "    grid[i,1] = answers[i]\n",
    "\n",
    "submit = widgets.Button(\n",
    "    description='Submit',\n",
    "    disabled=False,\n",
    "    button_style='primary',\n",
    "    layout={'margin':'0 0 0 350px'}\n",
    ")\n",
    "submit.on_click(submitResults)\n",
    "answer = widgets.Output()\n",
    "out = VBox([prompt,grid,submit,answer])\n",
    "out"
   ]
  },
  {
   "cell_type": "code",
   "execution_count": 32,
   "id": "0dbc5484",
   "metadata": {},
   "outputs": [
    {
     "data": {
      "application/vnd.jupyter.widget-view+json": {
       "model_id": "afacf50cba5a40f89f1ae7da8745f019",
       "version_major": 2,
       "version_minor": 0
      },
      "text/plain": [
       "VBox(children=(Output(layout=Layout(margin='0 0 0 350px')), GridspecLayout(children=(Output(layout=Layout(grid…"
      ]
     },
     "execution_count": 32,
     "metadata": {},
     "output_type": "execute_result"
    }
   ],
   "source": [
    "from ipywidgets import GridspecLayout,Output,HBox, VBox\n",
    "from IPython.display import display,HTML,clear_output\n",
    "\n",
    "def submitResults(select):\n",
    "    result = grid[0,1].value =='2' and grid[1,1].value =='1' and grid[2,1].value =='1' and grid[3,1].value == '1'\n",
    "    with answer:\n",
    "        clear_output()\n",
    "        if result:\n",
    "            display(HTML(\"<span style='color:green'>You answer is correct!!!!</span>\"))\n",
    "        else:\n",
    "            display(HTML(\"<span style='color:red'>That answer is incorrect, please try again</span>\"))\n",
    "\n",
    "prompt = Output(layout={'margin':'0 0 0 350px'})\n",
    "with prompt:\n",
    "    display(HTML(\"<b>Select Person and their total number of active club memberships</b>\"))\n",
    "    \n",
    "grid = GridspecLayout(4, 2)\n",
    "questions = ['Sam Rogers','Matt Hayden','Sam Billings','John Rogers']\n",
    "answers = [widgets.Dropdown(\n",
    "    options=['0', '1', '2','3','4'],\n",
    "    value='0',\n",
    "    description='',\n",
    "    disabled=False,\n",
    ") for i in range(4)]\n",
    "for i,question in enumerate(questions):\n",
    "    qOut = Output()\n",
    "    with qOut:\n",
    "        display(question)\n",
    "    grid[i,0] = qOut\n",
    "    grid[i,1] = answers[i]\n",
    "\n",
    "submit = widgets.Button(\n",
    "    description='Submit',\n",
    "    disabled=False,\n",
    "    button_style='primary',\n",
    "    layout={'margin':'0 0 0 350px'}\n",
    ")\n",
    "submit.on_click(submitResults)\n",
    "answer = widgets.Output()\n",
    "out = VBox([prompt,grid,submit,answer])\n",
    "out"
   ]
  },
  {
   "cell_type": "markdown",
   "id": "9f7bce34-99ae-4c33-a9b5-c41359d672a4",
   "metadata": {},
   "source": [
    "## Relationship Types"
   ]
  },
  {
   "cell_type": "markdown",
   "id": "5cf5b120-5ec1-4b1c-9e76-fd9bcb9e8d32",
   "metadata": {},
   "source": [
    "One of the huge advantages of a relational database is that, once you have your data held in clearly defined, compact tables, you can **connect or relate the data held in different tables (using keys)**.\n",
    "\n",
    "There are three types of relationships between the data (we will cover two of them here (many-many relationship will not be covered here))."
   ]
  },
  {
   "cell_type": "markdown",
   "id": "a1573466-3d1d-4f97-a229-4dc04824977d",
   "metadata": {},
   "source": [
    "### One-to-One Relationship"
   ]
  },
  {
   "cell_type": "markdown",
   "id": "3dfb614e-7368-4850-9b68-a41d250373c8",
   "metadata": {},
   "source": [
    "A **one-to-one (1:1)** relationship means that **each record in Table A relates to one, and only one, record in Table B**, and each record in **Table B relates to one, and only one, record in Table A**.\n",
    "\n",
    "An example for **one to one relationship** is Country and Capital\n",
    "\n",
    "![one-one](images/one-one.png)"
   ]
  },
  {
   "cell_type": "markdown",
   "id": "6dd27e03-ed46-400a-ab48-c93a4ef3c619",
   "metadata": {},
   "source": [
    "### One-to-Many Relationship"
   ]
  },
  {
   "cell_type": "markdown",
   "id": "832c1c3c-9448-4325-b2b8-0fc25f37a8c2",
   "metadata": {},
   "source": [
    "A one-to-many (1:N) relationship means a **record in Table A can relate to zero, one, or many records in Table B**. **Many records in Table B can relate to one record in Table A**. This is a very common relationship type seen in databases. A real world example will be Mother and Child. A mother can relate to zero or many childs, but a child will be related to one and only one mother. Let's see an example of Customer and Orders.\n",
    "![one-many](images/one-many.png)\n",
    "\n",
    "The relationship between Customer and Orders is one-many as a Customer can be associated with many orders, but an order is associated with one and only one customer.\n",
    "\n",
    "Once the tables are related we can ask questions such as \n",
    "\n",
    "How many orders did Jay Ajay make?\n",
    "\n",
    "How many orders from the state of Ohio?\n",
    "\n",
    "That's the power of relational databases!!"
   ]
  },
  {
   "cell_type": "markdown",
   "id": "f6f54fcb-0207-4317-afb7-6f4c3bab5256",
   "metadata": {},
   "source": [
    "Quiz Time"
   ]
  },
  {
   "cell_type": "markdown",
   "id": "3c3bb796",
   "metadata": {},
   "source": [
    "![one-many](images/key_exercises1.png)"
   ]
  },
  {
   "cell_type": "code",
   "execution_count": 33,
   "id": "86408a34",
   "metadata": {},
   "outputs": [
    {
     "data": {
      "application/vnd.jupyter.widget-view+json": {
       "model_id": "91e04e7338d141eca6a679fef843e7af",
       "version_major": 2,
       "version_minor": 0
      },
      "text/plain": [
       "VBox(children=(Output(), RadioButtons(options=('One-Many', 'One-One', 'No Relation'), value=None), Output()))"
      ]
     },
     "execution_count": 33,
     "metadata": {},
     "output_type": "execute_result"
    }
   ],
   "source": [
    "from ipywidgets import HBox, VBox\n",
    "from ipywidgets import widgets\n",
    "from IPython.display import display,HTML,clear_output\n",
    "def answered(radio):\n",
    "    result = answers.value=='One-Many'\n",
    "    with answer:\n",
    "        clear_output()\n",
    "        if result:\n",
    "            display(HTML(\"<span style='color:green'>You answer is correct!!!!</span>\"))\n",
    "        else:\n",
    "            display(HTML(\"<span style='color:red'>That answer is incorrect, please try again</span>\"))\n",
    "\n",
    " \n",
    "question = widgets.Output()\n",
    "answer = widgets.Output()\n",
    "with question:\n",
    "    display(HTML('What is the relationship between Club and Club_Membership'))\n",
    "answers = widgets.RadioButtons(\n",
    "    options=['One-Many','One-One','No Relation'],\n",
    "    description='',\n",
    "    disabled=False\n",
    ")\n",
    "answers.value=None\n",
    "answers.observe(answered, 'value')\n",
    "out = VBox([question,answers,answer])\n",
    "out"
   ]
  },
  {
   "cell_type": "code",
   "execution_count": 34,
   "id": "08c3cf56",
   "metadata": {},
   "outputs": [
    {
     "data": {
      "application/vnd.jupyter.widget-view+json": {
       "model_id": "25bdfee490af4860babf6614237f88c5",
       "version_major": 2,
       "version_minor": 0
      },
      "text/plain": [
       "VBox(children=(Output(), RadioButtons(options=('One-Many', 'One-One', 'No Relation'), value=None), Output()))"
      ]
     },
     "execution_count": 34,
     "metadata": {},
     "output_type": "execute_result"
    }
   ],
   "source": [
    "from ipywidgets import HBox, VBox\n",
    "from ipywidgets import widgets\n",
    "from IPython.display import display,HTML,clear_output\n",
    "def answered(radio):\n",
    "    result = answers.value=='One-Many'\n",
    "    with answer:\n",
    "        clear_output()\n",
    "        if result:\n",
    "            display(HTML(\"<span style='color:green'>You answer is correct!!!!</span>\"))\n",
    "        else:\n",
    "            display(HTML(\"<span style='color:red'>That answer is incorrect, please try again</span>\"))\n",
    "\n",
    " \n",
    "question = widgets.Output()\n",
    "answer = widgets.Output()\n",
    "with question:\n",
    "    display(HTML('What is the relationship between Person and Club_Membership'))\n",
    "answers = widgets.RadioButtons(\n",
    "    options=['One-Many','One-One','No Relation'],\n",
    "    description='',\n",
    "    disabled=False\n",
    ")\n",
    "answers.value=None\n",
    "answers.observe(answered, 'value')\n",
    "out = VBox([question,answers,answer])\n",
    "out"
   ]
  },
  {
   "cell_type": "code",
   "execution_count": 35,
   "id": "bf77d000",
   "metadata": {},
   "outputs": [
    {
     "data": {
      "application/vnd.jupyter.widget-view+json": {
       "model_id": "b76141a249a64735b67c3402bf1bc141",
       "version_major": 2,
       "version_minor": 0
      },
      "text/plain": [
       "VBox(children=(Output(), RadioButtons(options=('One-Many', 'One-One', 'No Relation'), value=None), Output()))"
      ]
     },
     "execution_count": 35,
     "metadata": {},
     "output_type": "execute_result"
    }
   ],
   "source": [
    "from ipywidgets import HBox, VBox\n",
    "from ipywidgets import widgets\n",
    "from IPython.display import display,HTML,clear_output\n",
    "def answered(radio):\n",
    "    result = answers.value=='No Relation'\n",
    "    with answer:\n",
    "        clear_output()\n",
    "        if result:\n",
    "            display(HTML(\"<span style='color:green'>You answer is correct!!!!</span>\"))\n",
    "        else:\n",
    "            display(HTML(\"<span style='color:red'>That answer is incorrect, please try again</span>\"))\n",
    "\n",
    " \n",
    "question = widgets.Output()\n",
    "answer = widgets.Output()\n",
    "with question:\n",
    "    display(HTML('What is the relationship between Club and Person'))\n",
    "answers = widgets.RadioButtons(\n",
    "    options=['One-Many','One-One','No Relation'],\n",
    "    description='',\n",
    "    disabled=False\n",
    ")\n",
    "answers.value=None\n",
    "answers.observe(answered, 'value')\n",
    "out = VBox([question,answers,answer])\n",
    "out"
   ]
  },
  {
   "cell_type": "code",
   "execution_count": 36,
   "id": "d176e56b",
   "metadata": {},
   "outputs": [
    {
     "data": {
      "application/vnd.jupyter.widget-view+json": {
       "model_id": "64b00898598849ca838512adba48721a",
       "version_major": 2,
       "version_minor": 0
      },
      "text/plain": [
       "VBox(children=(Output(), RadioButtons(options=('One-Many', 'One-One', 'No Relation'), value=None), Output()))"
      ]
     },
     "execution_count": 36,
     "metadata": {},
     "output_type": "execute_result"
    }
   ],
   "source": [
    "from ipywidgets import HBox, VBox\n",
    "from ipywidgets import widgets\n",
    "from IPython.display import display,HTML,clear_output\n",
    "def answered(radio):\n",
    "    result = answers.value=='One-One'\n",
    "    with answer:\n",
    "        clear_output()\n",
    "        if result:\n",
    "            display(HTML(\"<span style='color:green'>You answer is correct!!!!</span>\"))\n",
    "        else:\n",
    "            display(HTML(\"<span style='color:red'>That answer is incorrect, please try again</span>\"))\n",
    "\n",
    " \n",
    "question = widgets.Output()\n",
    "answer = widgets.Output()\n",
    "with question:\n",
    "    display(HTML('What do you think is the relationship type between human and fingerprint (not based on the table above)'))\n",
    "answers = widgets.RadioButtons(\n",
    "    options=['One-Many','One-One','No Relation'],\n",
    "    description='',\n",
    "    disabled=False\n",
    ")\n",
    "answers.value=None\n",
    "answers.observe(answered, 'value')\n",
    "out = VBox([question,answers,answer])\n",
    "out"
   ]
  },
  {
   "cell_type": "markdown",
   "id": "20903b39-be6f-4030-9687-31e514e9e6f2",
   "metadata": {},
   "source": [
    "One final thing about Data Types."
   ]
  },
  {
   "cell_type": "markdown",
   "id": "4e13b0a1-0ff5-4f77-adc5-3f7f98db18fd",
   "metadata": {},
   "source": [
    "## Data Types"
   ]
  },
  {
   "cell_type": "markdown",
   "id": "840aa77d-8025-4b46-b9c3-53159e072c43",
   "metadata": {},
   "source": [
    "A data type is a **description of the kind of data in a table column**. Typical data types include\n",
    "\n",
    "1. Text -  For example Name, countrycode, Address, City, State etc.\n",
    "\n",
    "2. Number - Customerid, Studentid, Age\n",
    "\n",
    "3. Date - ShippingDate, OrderDate etc\n",
    "\n",
    "4. Geometry - Geometry is a special data type for spatial databases (will be covered in upcoming lesson)\n",
    "\n",
    "and many more\n",
    "\n",
    "Every table column should have a data type and the content of the column should be of the declared data type. For example if the data type for Name is Text, it cannot have number values like 1,2,3 etc. "
   ]
  },
  {
   "cell_type": "markdown",
   "id": "2ff27a16-db6b-4c35-9b2c-9327a6ef0eba",
   "metadata": {},
   "source": [
    "In the next lesson we will look at SQL (Structured Query Language), which is a special language to talk to the database. "
   ]
  }
 ],
 "metadata": {
  "kernelspec": {
   "display_name": "Python 3 (ipykernel)",
   "language": "python",
   "name": "python3"
  },
  "language_info": {
   "codemirror_mode": {
    "name": "ipython",
    "version": 3
   },
   "file_extension": ".py",
   "mimetype": "text/x-python",
   "name": "python",
   "nbconvert_exporter": "python",
   "pygments_lexer": "ipython3",
   "version": "3.10.4"
  }
 },
 "nbformat": 4,
 "nbformat_minor": 5
}
