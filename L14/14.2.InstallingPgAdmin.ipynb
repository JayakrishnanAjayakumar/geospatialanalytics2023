{
 "cells": [
  {
   "cell_type": "markdown",
   "id": "e9771422-3f52-497c-8a1d-3b7a55e9c28c",
   "metadata": {},
   "source": [
    "# PgAdmin"
   ]
  },
  {
   "cell_type": "markdown",
   "id": "1a1b10cb-82c4-4ca0-8a13-28835808db9f",
   "metadata": {},
   "source": [
    "For this lecture and for the next few lectures we are going to use PostgreSQL Database as our main database. You can connect to a database in many ways\n",
    "\n",
    "1. Through a client GUI application like PgAdmin (which we are going to cover here)\n",
    "\n",
    "2. Through a programming language like Python (which we are going to cover in the upcoming lecture)\n",
    "\n",
    "3. Using terminal application. "
   ]
  },
  {
   "cell_type": "markdown",
   "id": "28bbda80-0710-4b5b-bfdf-31eabac54200",
   "metadata": {},
   "source": [
    "> PGAdmin is a web-based GUI tool used to interact with the Postgres database sessions, both locally and remote servers as well. You can use PGAdmin to perform any sort of database administration required for a Postgres database."
   ]
  },
  {
   "cell_type": "markdown",
   "id": "c833f1c2-ce73-4508-a7eb-7d145713640b",
   "metadata": {},
   "source": [
    "## Installing PgAdmin on your computer"
   ]
  },
  {
   "cell_type": "markdown",
   "id": "d181fb85-aaeb-44a3-8f08-f53a3a3d4285",
   "metadata": {},
   "source": [
    "1. Go to the pgAdmin downloads webpage https://www.pgadmin.org/download/ and download pgAmin based on your OS (macOS,Windows)\n",
    "\n",
    "![pg](images/pg.png)"
   ]
  },
  {
   "cell_type": "markdown",
   "id": "95ea7940-17fb-4cd5-89a3-fa377c9a9a4d",
   "metadata": {},
   "source": [
    "2. Go through the installation steps\n",
    "\n",
    "![pg2](images/pg2.png)"
   ]
  },
  {
   "cell_type": "markdown",
   "id": "70adbe56-82ed-4baf-b63a-1d8121880ed4",
   "metadata": {},
   "source": [
    "3. Set a master password for the application. \n",
    "\n",
    "![pg3](images/pg3.png)"
   ]
  },
  {
   "cell_type": "markdown",
   "id": "6670b962-dd22-471b-8262-ee75adc61ffe",
   "metadata": {},
   "source": [
    "4. Select Add New Server\n",
    "\n",
    "![pg4](images/pg4.png)"
   ]
  },
  {
   "cell_type": "markdown",
   "id": "bcd4d8fb-7fea-4743-9e71-173ac0c9f049",
   "metadata": {},
   "source": [
    "5. Provide name as ghhlibrary (or any other name)\n",
    "\n",
    "![pg5](images/pg5.png)"
   ]
  },
  {
   "cell_type": "markdown",
   "id": "4022b91a-4c70-4bd9-9190-2ff2306b99aa",
   "metadata": {},
   "source": [
    "6. Go to the connection tab and and provide the hostname as ghhlibrary, username as geospatial and password as geospatial2023 (this only works if you are in Case Network).\n",
    "\n",
    "![pg6](images/pg6.png)"
   ]
  },
  {
   "cell_type": "markdown",
   "id": "ba4c45a5-44a1-4434-bf5d-a96da18b4a5a",
   "metadata": {},
   "source": [
    "7. All the databases in the server ghhlibrary will be listed\n",
    "\n",
    "![pg6](images/pg7.png)"
   ]
  },
  {
   "cell_type": "markdown",
   "id": "44aa934d-e91d-49cc-9421-6b854c2ab4aa",
   "metadata": {},
   "source": [
    "For fun right click on sakila database and select query tool. Now in the query window, just type \n",
    "\n",
    "```sql\n",
    "select  * from actor\n",
    "```"
   ]
  },
  {
   "cell_type": "markdown",
   "id": "20b06bc3-92d6-4153-b9dc-d7c067c2ec9b",
   "metadata": {},
   "source": [
    "Yay!!!!!!!! That's our first SQL query. In the next lecture we will look into SQL queries. "
   ]
  }
 ],
 "metadata": {
  "kernelspec": {
   "display_name": "Python 3 (ipykernel)",
   "language": "python",
   "name": "python3"
  },
  "language_info": {
   "codemirror_mode": {
    "name": "ipython",
    "version": 3
   },
   "file_extension": ".py",
   "mimetype": "text/x-python",
   "name": "python",
   "nbconvert_exporter": "python",
   "pygments_lexer": "ipython3",
   "version": "3.10.4"
  }
 },
 "nbformat": 4,
 "nbformat_minor": 5
}
