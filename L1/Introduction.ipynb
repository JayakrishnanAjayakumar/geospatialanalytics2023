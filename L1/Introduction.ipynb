{
 "cells": [
  {
   "cell_type": "markdown",
   "id": "978523ad-8a27-4fb0-93af-80dd80a64c79",
   "metadata": {
    "slideshow": {
     "slide_type": "slide"
    },
    "tags": []
   },
   "source": [
    "# Geospatial Analytics for Biomedical Health Applications"
   ]
  },
  {
   "cell_type": "markdown",
   "id": "02e54390-4570-487d-8414-f8067097c372",
   "metadata": {
    "slideshow": {
     "slide_type": "fragment"
    },
    "tags": []
   },
   "source": [
    "![firstpage](images/firstpage.png)"
   ]
  },
  {
   "cell_type": "markdown",
   "id": "3c56d436-cc24-4ccc-9efc-ba01f92e394c",
   "metadata": {
    "slideshow": {
     "slide_type": "slide"
    },
    "tags": []
   },
   "source": [
    "## Who am I?"
   ]
  },
  {
   "cell_type": "markdown",
   "id": "8c3fcc69-ee59-4a05-b0cf-697216f3a662",
   "metadata": {
    "slideshow": {
     "slide_type": "fragment"
    },
    "tags": []
   },
   "source": [
    "### Educational Background"
   ]
  },
  {
   "cell_type": "markdown",
   "id": "0d3824a3-73ed-4767-8547-b90a18d52b4e",
   "metadata": {
    "slideshow": {
     "slide_type": "subslide"
    },
    "tags": []
   },
   "source": [
    "My undergraduate degree was in **Electrical Engineering**\n",
    "\n",
    "![eee](images/eee.png)"
   ]
  },
  {
   "cell_type": "markdown",
   "id": "ee3168f5-555d-4c94-8f94-d7e59cd95ad6",
   "metadata": {
    "slideshow": {
     "slide_type": "subslide"
    },
    "tags": []
   },
   "source": [
    "Completed my masters in **Digital Sciences**\n",
    "\n",
    "![digisci](images/digisci.png)"
   ]
  },
  {
   "cell_type": "markdown",
   "id": "a3fd988e-a9f8-4e88-9a2f-d1ba264a29f6",
   "metadata": {
    "slideshow": {
     "slide_type": "subslide"
    },
    "tags": []
   },
   "source": [
    "and my PhD in **Geography (GIScience, and Spatial Computing)**\n",
    "\n",
    "![geog](images/geog.webp)"
   ]
  },
  {
   "cell_type": "markdown",
   "id": "b70bd180-ab20-4aee-984e-e8874721dd70",
   "metadata": {
    "slideshow": {
     "slide_type": "slide"
    },
    "tags": []
   },
   "source": [
    "### Work Experience and Research Background"
   ]
  },
  {
   "cell_type": "markdown",
   "id": "ebb88a4e-5966-463a-935b-1433e50049c5",
   "metadata": {
    "slideshow": {
     "slide_type": "fragment"
    },
    "tags": []
   },
   "source": [
    "Before my masters I have worked as a **Software Engineer**\n",
    "\n",
    "![SE](images/SE.webp)"
   ]
  },
  {
   "cell_type": "markdown",
   "id": "531efbf9-940a-4f2b-88ed-cbfb76a47d55",
   "metadata": {
    "slideshow": {
     "slide_type": "subslide"
    },
    "tags": []
   },
   "source": [
    "And after my PhD I joined CWRU as a **Research Associate (and currently Senior Research Associate) in Population and Quantitative Health Sciences**. I am also the Lab Manager of **GIS Health & Hazards Lab which is co-directed by Dr. Andrew Curtis (Professor, PQHS) and Dr. Jacqueline Curtis (Associate Professor, PQHS)**. \n",
    "\n",
    "![work](images/work.png)"
   ]
  },
  {
   "cell_type": "markdown",
   "id": "9e4b6cb7-d777-4aee-ba21-aa4966ad763f",
   "metadata": {
    "slideshow": {
     "slide_type": "slide"
    },
    "tags": []
   },
   "source": [
    "## Research Interests"
   ]
  },
  {
   "cell_type": "markdown",
   "id": "079e8eae-8dd9-4910-a4c4-8c8a25de2793",
   "metadata": {
    "slideshow": {
     "slide_type": "fragment"
    },
    "tags": []
   },
   "source": [
    "![research_interests](images/research_interests_s.png)"
   ]
  },
  {
   "cell_type": "markdown",
   "id": "4f3568e5-4866-4eb6-ba39-e0e0c20785dc",
   "metadata": {
    "slideshow": {
     "slide_type": "subslide"
    },
    "tags": []
   },
   "source": [
    "If I could summarize my research interest in one sentence then it would be\n",
    "\n",
    ">## Developing efficient and scalable computational methodologies to synthesize and contextualize fine-scale geospatial data or data at the scale of intervention from a variety of sources such as Spatial Videos, Spatial Video Geonarratives, spatially-enabled social media platforms, and Electronic Health Records (EHR). "
   ]
  },
  {
   "cell_type": "markdown",
   "id": "d8f01c4a-5d47-41a8-b968-682efdd4f785",
   "metadata": {
    "slideshow": {
     "slide_type": "subslide"
    },
    "tags": []
   },
   "source": [
    "![context_data](images/context_data.png)"
   ]
  },
  {
   "cell_type": "markdown",
   "id": "06fe892a-11b0-463c-a868-45deef00323d",
   "metadata": {
    "slideshow": {
     "slide_type": "slide"
    },
    "tags": []
   },
   "source": [
    "### Selected Research Projects"
   ]
  },
  {
   "cell_type": "markdown",
   "id": "fa102563-a61e-476b-a034-bf36e3b15511",
   "metadata": {
    "slideshow": {
     "slide_type": "fragment"
    },
    "tags": []
   },
   "source": [
    "#### Extracting Fine Scale Geospatial Data from Spatial Videos and Spatial Video Geonarratives"
   ]
  },
  {
   "cell_type": "markdown",
   "id": "d75d0abe-4d4b-4758-a694-e1b2fd374f03",
   "metadata": {
    "slideshow": {
     "slide_type": "fragment"
    },
    "tags": []
   },
   "source": [
    "![svideo](images/spatialvideo.jpg)"
   ]
  },
  {
   "cell_type": "markdown",
   "id": "5b27d41b-99fb-4aab-947f-094dcf3047f7",
   "metadata": {
    "slideshow": {
     "slide_type": "subslide"
    },
    "tags": []
   },
   "source": [
    "![wordmapper](images/wordmapper.jpg)"
   ]
  },
  {
   "cell_type": "markdown",
   "id": "6ba5d4f9-c734-46b5-8938-654d7d7710ee",
   "metadata": {
    "slideshow": {
     "slide_type": "subslide"
    },
    "tags": []
   },
   "source": [
    "#### Generating Spatial Insights from Large Crime Datasets using Parallel Computing\n",
    "\n",
    "![parallel](images/parallel.png)"
   ]
  },
  {
   "cell_type": "markdown",
   "id": "6aa8291f-dbb7-43c3-a7a3-26b25051527c",
   "metadata": {
    "slideshow": {
     "slide_type": "subslide"
    },
    "tags": []
   },
   "source": [
    "#### Applying Machine Learning to Identify Environmental Health Risk from Spatial Videos\n",
    "\n",
    "![machine_learning](images/machine_learning.png)"
   ]
  },
  {
   "cell_type": "markdown",
   "id": "d631e8f1-9f91-49f8-94b4-382f128eaf36",
   "metadata": {
    "slideshow": {
     "slide_type": "subslide"
    },
    "tags": []
   },
   "source": [
    "#### Covid-19 Spatial Syndromic Survelliance \n",
    "\n",
    "![geomedd](images/geomedd.png)"
   ]
  },
  {
   "cell_type": "markdown",
   "id": "8d8a73a7-2774-4e56-8520-08dfe22f924b",
   "metadata": {
    "slideshow": {
     "slide_type": "slide"
    },
    "tags": []
   },
   "source": [
    "### Office Hours\n",
    "\n",
    "My office is located in the Wood building **(WG-82D)**. If you want to meet me in-person or online kindly shoot me an email beforehand. \n",
    "I would always prefer email communication for clarifying queries or any other course related issues.\n",
    "\n",
    "**Email Id: jxa421@case.edu**"
   ]
  },
  {
   "cell_type": "markdown",
   "id": "674976a8-c7c6-4a3f-a083-11a4e791a573",
   "metadata": {
    "slideshow": {
     "slide_type": "slide"
    },
    "tags": []
   },
   "source": [
    "## Policies\n",
    "\n",
    "1. **Class participation carries 10% of your final grades (so actively participate in discussions)**. Attendance is mandatory and every student is allowed one missed class before points are assessed from the participation grade.\n",
    "\n",
    "2. **Almost every lecture will have a corresponding exercise section, which is due within next four days**. Therefore, if there is an exercise assigned on Monday, the final day for submitting that exercise will be on Friday (11:59pm). The first late submission will be penalized 10% off the total score for the first week. Additional late submissions will be penalized 25%. Exercises submitted after 2 week of due date will not be valued (0 points).\n",
    "\n",
    "3. **Laptop (with any operating system including Windows/Mac/Ubuntu) is mandatory** as this course involve programming."
   ]
  },
  {
   "cell_type": "markdown",
   "id": "47904f5f-29e4-42c1-bcc8-9cef5557e795",
   "metadata": {
    "slideshow": {
     "slide_type": "slide"
    },
    "tags": []
   },
   "source": [
    "## Class Meeting Time\n",
    "\n",
    "**Monday-Wednesday 9:00- 10:15am in Robbins Building E429A**. (Request not to be late!!)"
   ]
  },
  {
   "cell_type": "markdown",
   "id": "8f002533-a935-4a2a-97d1-77a362a057eb",
   "metadata": {
    "slideshow": {
     "slide_type": "slide"
    },
    "tags": []
   },
   "source": [
    "## Course Overview"
   ]
  },
  {
   "cell_type": "markdown",
   "id": "1aca812a-1fab-49e6-aebc-56b669aa54d8",
   "metadata": {
    "slideshow": {
     "slide_type": "fragment"
    },
    "tags": []
   },
   "source": [
    "### Pre-requisites\n",
    "\n",
    "There are no pre-requisites for this course. Since the course involves Python programming, previous knowledge of Python or any other programming language is highly beneficial. "
   ]
  },
  {
   "cell_type": "markdown",
   "id": "1b677c66-8131-4f57-a69e-e21c9472631d",
   "metadata": {
    "slideshow": {
     "slide_type": "subslide"
    },
    "tags": []
   },
   "source": [
    "### Course Materials"
   ]
  },
  {
   "cell_type": "markdown",
   "id": "67aa1dcf-d766-4478-8d6a-7c4000267c47",
   "metadata": {
    "slideshow": {
     "slide_type": "fragment"
    },
    "tags": []
   },
   "source": [
    "The course materials will be available through GitHub, which you can download to your own Jupyter client (notebook or lab), or through the lab Jupyter Hub. You can access the lab infrastructure by accessing the following URL\n",
    "\n",
    "http://pqhs-curtislab2:8000    (you should be in case network/Case VPN)\n",
    "\n",
    "Your username will be your case network id (without the email extension. For example jxa421) and your password will be a onetime password set by you. You can clone your study material to your working environment by using jupyter-git. The details of cloning and other git related information are provided in the Appendix. \n",
    "\n",
    "There is no recommended textbook for this course. I will upload the required reading materials as we progress through the course."
   ]
  },
  {
   "cell_type": "markdown",
   "id": "dd762fb9-b267-49a0-93f8-3ca7a742b807",
   "metadata": {
    "slideshow": {
     "slide_type": "slide"
    },
    "tags": []
   },
   "source": [
    "### Syllabus\n",
    "\n",
    "The tenantive syllabus for the course is provided in Canvas https://canvas.case.edu/courses/35967/files/5865041?wrap=1. "
   ]
  },
  {
   "cell_type": "markdown",
   "id": "ac4c038c-009c-4964-8554-c961dbafe96e",
   "metadata": {
    "slideshow": {
     "slide_type": "slide"
    },
    "tags": []
   },
   "source": [
    "### Logistics\n",
    "\n",
    "For accessing the notebooks via our lab, you have to be on Case Network (Either VPN (Forticlient) for remote access or you should be in campus). The details about setting up the VPN are provided here https://vpnsetup.case.edu/\n",
    "\n",
    "You can also setup your own Jupyter lab/notebook. The details are provided in the Appendix section.\n",
    "\n",
    "[Appendix](../Appendix/A1.SettingUpAProgrammingEnvironment.ipynb)\n",
    "\n",
    "You have to make sure that you have the largedatasets folder downloaded to your home folder (where you have cloned the course material repository)."
   ]
  },
  {
   "cell_type": "markdown",
   "id": "83341fae-4ede-4aa7-94d1-2a6dd799eb32",
   "metadata": {
    "slideshow": {
     "slide_type": "slide"
    },
    "tags": []
   },
   "source": [
    "### Learning Objective"
   ]
  },
  {
   "cell_type": "markdown",
   "id": "9b6647e7-e79e-4e0e-a9da-9ad725d024c2",
   "metadata": {
    "slideshow": {
     "slide_type": "fragment"
    },
    "tags": []
   },
   "source": [
    "#### What this course is not about"
   ]
  },
  {
   "cell_type": "markdown",
   "id": "ba881576-0f40-40f2-a315-1b512769b49f",
   "metadata": {
    "slideshow": {
     "slide_type": "fragment"
    },
    "tags": []
   },
   "source": [
    "![programming](images/programming.jpeg)"
   ]
  },
  {
   "cell_type": "markdown",
   "id": "e8e75308-4e96-4fa5-8ff4-c489cd662eed",
   "metadata": {
    "slideshow": {
     "slide_type": "subslide"
    },
    "tags": []
   },
   "source": [
    "![beautiful_map](images/beautiful_map.jpg)"
   ]
  },
  {
   "cell_type": "markdown",
   "id": "7f914ba0-5f40-45e1-a067-1cf54652f624",
   "metadata": {
    "slideshow": {
     "slide_type": "subslide"
    },
    "tags": []
   },
   "source": [
    "#### What this course is about"
   ]
  },
  {
   "cell_type": "markdown",
   "id": "152728ee-85dd-44dd-a526-7ed6f40a723e",
   "metadata": {
    "slideshow": {
     "slide_type": "fragment"
    },
    "tags": []
   },
   "source": [
    "##### To Ignite Spatial Thinking"
   ]
  },
  {
   "cell_type": "markdown",
   "id": "562ab67b-d80c-45d0-9859-1dc59825f26d",
   "metadata": {
    "slideshow": {
     "slide_type": "fragment"
    },
    "tags": []
   },
   "source": [
    "![spatial_thinking](images/spatial_thinking.png)"
   ]
  },
  {
   "cell_type": "markdown",
   "id": "dab275ff-c9cb-446c-a98f-2d27cd54d62d",
   "metadata": {
    "slideshow": {
     "slide_type": "subslide"
    },
    "tags": []
   },
   "source": [
    "##### To Identify Sources of Spatial Data in the Wild"
   ]
  },
  {
   "cell_type": "markdown",
   "id": "fe7fb7cd-1019-4e56-bfb4-0e4effcb74c1",
   "metadata": {
    "slideshow": {
     "slide_type": "fragment"
    },
    "tags": []
   },
   "source": [
    "![address_sheet](images/address_sheet.png)\n",
    "\n",
    "![coordinates_sheets](images/coordinates_sheets.png)"
   ]
  },
  {
   "cell_type": "markdown",
   "id": "030aa975-fd93-45c7-ad08-3f379b9cac12",
   "metadata": {
    "slideshow": {
     "slide_type": "subslide"
    },
    "tags": []
   },
   "source": [
    "The overall **goal of this course is to introduce you to geospatial analytics mainly form a health science perspective using computer programming**. We will cover the various aspects of geospatial analytics including\n",
    "\n",
    "1. Geospatial data collection **(Primary sources vs Secondary)**.\n",
    "2. Representing **geospatial data in computers**.\n",
    "3. **Storing and retrieving geospatial data** efficiently. \n",
    "4. Performing **spatial operations** with geospatial data.\n",
    "5. **Geovisualization** to identify underlying spatial patterns.\n",
    "6. **Geospatial analysis** to assess the significance of the spatial patterns. "
   ]
  },
  {
   "cell_type": "markdown",
   "id": "1d86883b-2a12-41b5-8e0c-39e29e08efe4",
   "metadata": {
    "slideshow": {
     "slide_type": "subslide"
    },
    "tags": []
   },
   "source": [
    "The **learning objectives** for the course are\n",
    "\n",
    "•\tDefine geospatial data, geospatial technology, geospatial analysis and geo-visualization.\n",
    "\n",
    "•\tIdentify different ways of collecting geospatial data.\n",
    "\n",
    "•\tUse spatial programming to read and write geospatial data.\n",
    "\n",
    "•\tUse geo-referencing for converting Addresses to locations.\n",
    "\n",
    "•\tDemonstrate how various geospatial data layers can be combined using spatial joins.\n",
    "\n",
    "•\tDefine spatial databases.\n",
    "\n",
    "•\tExecute spatial queries to retrieve geospatial data from spatial databases.\n",
    "\n",
    "•\tUse geospatial analysis to identify spatial patterns.\n",
    "\n",
    "•\tUse geo-visualization as a tool to communicate about geospatial patterns."
   ]
  },
  {
   "cell_type": "markdown",
   "id": "181455f0-0cb5-4b32-b19c-3ab78602bf1f",
   "metadata": {
    "slideshow": {
     "slide_type": "slide"
    },
    "tags": []
   },
   "source": [
    "### Course Roadmap"
   ]
  },
  {
   "cell_type": "markdown",
   "id": "c5473474-bc45-4c1b-8826-0b70530f3b2c",
   "metadata": {
    "slideshow": {
     "slide_type": "subslide"
    },
    "tags": []
   },
   "source": [
    "![roadmap](images/roadmap.png)"
   ]
  },
  {
   "cell_type": "markdown",
   "id": "ca0a240e-5cda-48cc-8529-cb054c84f06c",
   "metadata": {
    "slideshow": {
     "slide_type": "slide"
    },
    "tags": []
   },
   "source": [
    "### Grading Scale"
   ]
  },
  {
   "cell_type": "markdown",
   "id": "e8b37575-fada-4cba-a5c8-b7f1804b635f",
   "metadata": {
    "slideshow": {
     "slide_type": "fragment"
    },
    "tags": []
   },
   "source": [
    "1. **Three Class Tests (30% of Total)** - Class tests should be submitted online in the **same day as the test is announced (11:59pm)**. Late submissions will be penalized. Instructions regarding the submission will be provided in the test question sheet. \n",
    "\n",
    "2. **Weekly Lab Exercises (30% of Total)** - As this course involve programming, we will have lab exercises almost every lecture. The last day for turning in the lab exercise is four days from the day the exercise was first announced. For example, if a lab exercise was assigned on 01/25/2023 then the last date for submission is 01/29/2023 (11:59pm).\n",
    "\n",
    "3. **Final Research Project (30% of Total)** - The final research project will be a combination of a research paper (you will use Jupyter Notebook to create your final research paper) and oral presentation. You can select your own research topic or you can select an existing topic. If you are selecting your own research topic you should meet with me regarding your data and how you plan to implement your research. 10% of the total credit for research project will be allotted to project proposal submission. \n",
    "\n",
    "4. **Class Participation (10% of Total)** - Your class participation grades will depend up on your attendance as well as how you actively engage in discussions. So be ready to chat!"
   ]
  },
  {
   "cell_type": "markdown",
   "id": "ef8991be-666f-4384-ae8c-b14408b6fc79",
   "metadata": {
    "slideshow": {
     "slide_type": "slide"
    },
    "tags": []
   },
   "source": [
    "#### Exercise/Test Grading Rubric"
   ]
  },
  {
   "cell_type": "markdown",
   "id": "893350df-16ee-4d1e-b8cc-83f46eeb644d",
   "metadata": {
    "slideshow": {
     "slide_type": "fragment"
    },
    "tags": []
   },
   "source": [
    "##### Programming Questions"
   ]
  },
  {
   "cell_type": "markdown",
   "id": "533b69e5-9707-4ddf-8d10-3af7d7276a8c",
   "metadata": {
    "slideshow": {
     "slide_type": "fragment"
    },
    "tags": []
   },
   "source": [
    "![coding rubrics](images/coding_rubrics.png)"
   ]
  },
  {
   "cell_type": "markdown",
   "id": "ecaae56c-774e-4817-afb1-99266fe71f75",
   "metadata": {
    "slideshow": {
     "slide_type": "subslide"
    },
    "tags": []
   },
   "source": [
    "##### Single Choice/Multiple Choice/Single Response Questions\n",
    "\n",
    "0% for incorrect answer and 100% for the correct answer. "
   ]
  },
  {
   "cell_type": "markdown",
   "id": "deaa779b-abf0-4cdb-a995-4c16d18a7b22",
   "metadata": {
    "slideshow": {
     "slide_type": "slide"
    },
    "tags": []
   },
   "source": [
    "## Introduce Yourself\n",
    "\n",
    "![introduce-yourself](images/introduce.png)"
   ]
  },
  {
   "cell_type": "markdown",
   "id": "9e7053ad-4352-4795-99fd-abbff063fc85",
   "metadata": {
    "slideshow": {
     "slide_type": "slide"
    },
    "tags": []
   },
   "source": [
    "### Please provide responses to the poll\n",
    "\n",
    "https://ghhlab.epbi.cwru.edu/Poll/login?pid=1"
   ]
  },
  {
   "cell_type": "markdown",
   "id": "8d52ffdb-e719-4a1b-b7ba-1db114d2e390",
   "metadata": {
    "slideshow": {
     "slide_type": "slide"
    },
    "tags": []
   },
   "source": [
    "### Spatial Quiz\n",
    "\n",
    "To get a taste of Geospatial data, try this Spatial Quiz\n",
    "\n",
    "https://ghhlab.epbi.cwru.edu/Poll/login?pid=2"
   ]
  },
  {
   "cell_type": "markdown",
   "id": "2e60340a-c021-4819-9f48-af55a4ea5125",
   "metadata": {
    "slideshow": {
     "slide_type": "slide"
    },
    "tags": []
   },
   "source": [
    "### Sample Exercise\n",
    "\n",
    "To get an idea about the daily exercises (which you have to submit with in four days of assignment) I have provided a sample exercise book that you can try out. \n",
    "\n",
    "[Sample Test](../sample_test/Exercisesample_test/Exercise.ipynb)"
   ]
  }
 ],
 "metadata": {
  "kernelspec": {
   "display_name": "Python 3 (ipykernel)",
   "language": "python",
   "name": "python3"
  },
  "language_info": {
   "codemirror_mode": {
    "name": "ipython",
    "version": 3
   },
   "file_extension": ".py",
   "mimetype": "text/x-python",
   "name": "python",
   "nbconvert_exporter": "python",
   "pygments_lexer": "ipython3",
   "version": "3.10.8"
  },
  "toc-showtags": false
 },
 "nbformat": 4,
 "nbformat_minor": 5
}
