{
 "cells": [
  {
   "cell_type": "markdown",
   "id": "886486aa",
   "metadata": {},
   "source": [
    "# Exercise VI (submit by 02/24/2023 11:59pm EST)  \n",
    "​\n",
    "#### You can click on Run -> Run All Cells to enable all the question prompts at the same time (or you could run each cells one by one)\n",
    "​\n",
    "#### Each question has a scratch pad (a blank coding cell) where you can scribble your code.  \n",
    "​\n",
    "#### Assigned mark for each question is provided near to the question in parenthesis.\n",
    "​\n",
    "#### You can save partial responses by clicking the “Save” button after each question. \n",
    "​\n",
    "#### For coding questions, make sure you follow the exact guidelines. You have make sure that your code runs without any errors.\n",
    "​\n",
    "#### Up on completion; fill your case network id and the password that you have created during the first session. \n",
    "​\n",
    "#### Click Submit to upload the test.       "
   ]
  },
  {
   "cell_type": "code",
   "execution_count": null,
   "id": "e611b749",
   "metadata": {},
   "outputs": [],
   "source": [
    "import sys\n",
    "sys.path.append('../../')\n",
    "from helper.questionhelper import *\n",
    "qset = QuestionSet()        "
   ]
  },
  {
   "cell_type": "code",
   "execution_count": null,
   "id": "4bffe7b1",
   "metadata": {},
   "outputs": [],
   "source": [
    "qset.getQuestion(1)"
   ]
  },
  {
   "cell_type": "code",
   "execution_count": null,
   "id": "5c0011d1",
   "metadata": {},
   "outputs": [],
   "source": [
    "#Scratch Pad"
   ]
  },
  {
   "cell_type": "code",
   "execution_count": null,
   "id": "60695683",
   "metadata": {},
   "outputs": [],
   "source": [
    "qset.getQuestion(2)"
   ]
  },
  {
   "cell_type": "code",
   "execution_count": null,
   "id": "9cd65449",
   "metadata": {},
   "outputs": [],
   "source": [
    "#Scratch Pad"
   ]
  },
  {
   "cell_type": "code",
   "execution_count": null,
   "id": "7cf7e35a",
   "metadata": {},
   "outputs": [],
   "source": [
    "qset.getQuestion(3)"
   ]
  },
  {
   "cell_type": "code",
   "execution_count": null,
   "id": "060fa876",
   "metadata": {},
   "outputs": [],
   "source": [
    "#Scratch Pad"
   ]
  },
  {
   "cell_type": "code",
   "execution_count": null,
   "id": "1e013f7f",
   "metadata": {},
   "outputs": [],
   "source": [
    "qset.showSubmitSection()"
   ]
  },
  {
   "cell_type": "code",
   "execution_count": null,
   "id": "d0143d1e-7de7-4f5e-b7c8-93549667a559",
   "metadata": {},
   "outputs": [],
   "source": []
  }
 ],
 "metadata": {
  "kernelspec": {
   "display_name": "Python 3 (ipykernel)",
   "language": "python",
   "name": "python3"
  },
  "language_info": {
   "codemirror_mode": {
    "name": "ipython",
    "version": 3
   },
   "file_extension": ".py",
   "mimetype": "text/x-python",
   "name": "python",
   "nbconvert_exporter": "python",
   "pygments_lexer": "ipython3",
   "version": "3.10.4"
  }
 },
 "nbformat": 4,
 "nbformat_minor": 5
}
