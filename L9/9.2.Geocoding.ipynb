{
 "cells": [
  {
   "cell_type": "markdown",
   "id": "38937c88-7493-4451-b666-81f24dba0e05",
   "metadata": {},
   "source": [
    "# Geocoding (Mapping your Address)\n",
    "\n",
    "![gcod](images/gcod1.jpg)"
   ]
  },
  {
   "cell_type": "markdown",
   "id": "f1bbc5c3-9455-4541-b1e9-7e205ea9290a",
   "metadata": {},
   "source": [
    "## Where do you find Addresses\n",
    "\n",
    "1. When you are posting something.\n",
    "\n",
    "![gcod](images/gcod2.jpg)\n",
    "\n",
    "2. When you are using GPS (Driving to a new place)\n",
    "\n",
    "![gcod3](images/gcod3.jpg)\n",
    "\n",
    "3. When you are using google maps\n",
    "\n",
    "![gcod4](images/gcod4.png)\n",
    "\n",
    "4. When you are using social media platforms (Twitter, Facebook)\n",
    "\n",
    "![gcod5](images/gcod5.jpg)\n",
    "\n",
    "5. If you are working in a hospital facility you might have interacted with the EHR\n",
    "\n",
    "![gcod6](images/gcod6.jpg)\n",
    "\n",
    "6. You would have seen addresses in Flyers\n",
    "\n",
    "![gcod7](images/gcod7.jpg)\n",
    "\n",
    "7. Or even in newspapers\n",
    "\n",
    "![gcod8](images/gcod8.png)\n",
    "\n",
    "Can you think about other sources of addresses that you have encountered before???"
   ]
  },
  {
   "cell_type": "markdown",
   "id": "32708c01-4128-4af0-9539-ca4376c0fc9f",
   "metadata": {},
   "source": [
    "## Are Addresses directly Mappable?"
   ]
  },
  {
   "cell_type": "markdown",
   "id": "de020f5e-6b43-4301-a8d5-9ec2cac20fd2",
   "metadata": {},
   "source": [
    "Let's try out a dataset"
   ]
  },
  {
   "cell_type": "code",
   "execution_count": 2,
   "id": "a561a983-9c5a-4967-8c42-9d3dba38ef02",
   "metadata": {},
   "outputs": [],
   "source": [
    "import pandas as pd\n",
    "import geopandas as gpd"
   ]
  },
  {
   "cell_type": "code",
   "execution_count": 5,
   "id": "dcce099c-a78c-4383-900a-3b034f52064e",
   "metadata": {},
   "outputs": [
    {
     "data": {
      "text/html": [
       "<div>\n",
       "<style scoped>\n",
       "    .dataframe tbody tr th:only-of-type {\n",
       "        vertical-align: middle;\n",
       "    }\n",
       "\n",
       "    .dataframe tbody tr th {\n",
       "        vertical-align: top;\n",
       "    }\n",
       "\n",
       "    .dataframe thead th {\n",
       "        text-align: right;\n",
       "    }\n",
       "</style>\n",
       "<table border=\"1\" class=\"dataframe\">\n",
       "  <thead>\n",
       "    <tr style=\"text-align: right;\">\n",
       "      <th></th>\n",
       "      <th>id</th>\n",
       "      <th>Address</th>\n",
       "      <th>CITY</th>\n",
       "      <th>REGION</th>\n",
       "      <th>POSTCODE</th>\n",
       "    </tr>\n",
       "  </thead>\n",
       "  <tbody>\n",
       "    <tr>\n",
       "      <th>0</th>\n",
       "      <td>15850</td>\n",
       "      <td>1972 E   120 ST</td>\n",
       "      <td>CLEVELAND</td>\n",
       "      <td>OH</td>\n",
       "      <td>44106</td>\n",
       "    </tr>\n",
       "    <tr>\n",
       "      <th>1</th>\n",
       "      <td>31822</td>\n",
       "      <td>2200 DELAWARE DR</td>\n",
       "      <td>CLEVELAND HEIGHTS</td>\n",
       "      <td>OH</td>\n",
       "      <td>44106</td>\n",
       "    </tr>\n",
       "    <tr>\n",
       "      <th>2</th>\n",
       "      <td>47687</td>\n",
       "      <td>1937 E   120 ST</td>\n",
       "      <td>CLEVELAND</td>\n",
       "      <td>OH</td>\n",
       "      <td>44106</td>\n",
       "    </tr>\n",
       "    <tr>\n",
       "      <th>3</th>\n",
       "      <td>47688</td>\n",
       "      <td>1961 E   120 ST</td>\n",
       "      <td>CLEVELAND</td>\n",
       "      <td>OH</td>\n",
       "      <td>44106</td>\n",
       "    </tr>\n",
       "    <tr>\n",
       "      <th>4</th>\n",
       "      <td>65312</td>\n",
       "      <td>1960 DENTON DR</td>\n",
       "      <td>CLEVELAND HEIGHTS</td>\n",
       "      <td>OH</td>\n",
       "      <td>44106</td>\n",
       "    </tr>\n",
       "    <tr>\n",
       "      <th>...</th>\n",
       "      <td>...</td>\n",
       "      <td>...</td>\n",
       "      <td>...</td>\n",
       "      <td>...</td>\n",
       "      <td>...</td>\n",
       "    </tr>\n",
       "    <tr>\n",
       "      <th>94</th>\n",
       "      <td>172382</td>\n",
       "      <td>1531 E   118 ST</td>\n",
       "      <td>CLEVELAND</td>\n",
       "      <td>OH</td>\n",
       "      <td>44106</td>\n",
       "    </tr>\n",
       "    <tr>\n",
       "      <th>95</th>\n",
       "      <td>172383</td>\n",
       "      <td>1527 E   118 ST</td>\n",
       "      <td>CLEVELAND</td>\n",
       "      <td>OH</td>\n",
       "      <td>44106</td>\n",
       "    </tr>\n",
       "    <tr>\n",
       "      <th>96</th>\n",
       "      <td>172384</td>\n",
       "      <td>1515 E   118 ST</td>\n",
       "      <td>CLEVELAND</td>\n",
       "      <td>OH</td>\n",
       "      <td>44106</td>\n",
       "    </tr>\n",
       "    <tr>\n",
       "      <th>97</th>\n",
       "      <td>172386</td>\n",
       "      <td>10900 EUCLID AVE</td>\n",
       "      <td>CLEVELAND</td>\n",
       "      <td>OH</td>\n",
       "      <td>44106</td>\n",
       "    </tr>\n",
       "    <tr>\n",
       "      <th>98</th>\n",
       "      <td>172427</td>\n",
       "      <td>8600 CEDAR AVE</td>\n",
       "      <td>CLEVELAND</td>\n",
       "      <td>OH</td>\n",
       "      <td>44106</td>\n",
       "    </tr>\n",
       "  </tbody>\n",
       "</table>\n",
       "<p>99 rows × 5 columns</p>\n",
       "</div>"
      ],
      "text/plain": [
       "        id           Address               CITY REGION  POSTCODE\n",
       "0    15850   1972 E   120 ST          CLEVELAND     OH     44106\n",
       "1    31822  2200 DELAWARE DR  CLEVELAND HEIGHTS     OH     44106\n",
       "2    47687   1937 E   120 ST          CLEVELAND     OH     44106\n",
       "3    47688   1961 E   120 ST          CLEVELAND     OH     44106\n",
       "4    65312    1960 DENTON DR  CLEVELAND HEIGHTS     OH     44106\n",
       "..     ...               ...                ...    ...       ...\n",
       "94  172382   1531 E   118 ST          CLEVELAND     OH     44106\n",
       "95  172383   1527 E   118 ST          CLEVELAND     OH     44106\n",
       "96  172384   1515 E   118 ST          CLEVELAND     OH     44106\n",
       "97  172386  10900 EUCLID AVE          CLEVELAND     OH     44106\n",
       "98  172427    8600 CEDAR AVE          CLEVELAND     OH     44106\n",
       "\n",
       "[99 rows x 5 columns]"
      ]
     },
     "execution_count": 5,
     "metadata": {},
     "output_type": "execute_result"
    }
   ],
   "source": [
    "addresses = pd.read_csv(r'data/Address_Zip_44106_small.csv')\n",
    "addresses"
   ]
  },
  {
   "cell_type": "markdown",
   "id": "ab83fa67-a239-4199-b0f1-da5cfd63838e",
   "metadata": {},
   "source": [
    "We won't be able to convert this into a geodataframe as there is no column that can be used to create geometry. \n",
    "\n",
    "So how do we map these addresses (Hint!!!The name of this chapter)"
   ]
  },
  {
   "cell_type": "markdown",
   "id": "d8497722-e5d6-447b-a9cf-125f35503f3a",
   "metadata": {},
   "source": [
    "## What is geocoding?\n",
    "\n",
    ">Geocoding is the process of **transforming a description of a location—such as a pair of coordinates, an address, or a name of a place—to a location on the earth's surface**. \n",
    "\n",
    "Ok let's look into a more simpler definition. \n",
    "\n",
    "> Geocoding takes an **address as input, then translates it to a location on a map**. In short, it **changes an address to lat long coordinates (latitude and longitude)**.\n",
    "\n",
    "![gcod](images/gcod9.png)"
   ]
  },
  {
   "cell_type": "markdown",
   "id": "482b435b-6310-4655-b82c-d768ae212eca",
   "metadata": {},
   "source": [
    "### What are geocodes?\n",
    "\n",
    "> Geocodes are a **set of latitude and longitude coordinates of a physical location**."
   ]
  },
  {
   "cell_type": "markdown",
   "id": "99e9c4b7-184f-4355-a250-7b447b8d1c69",
   "metadata": {},
   "source": [
    "### Types of Geographic Location Descriptions that can be geocoded\n",
    "\n",
    "1. Addresses\n",
    "\n",
    "This is the most common source of input for geocoding. \n",
    "\n",
    "12471 Cedar Rd, Cleveland Heights, Ohio 44106\n",
    "\n",
    "2. Place Names\n",
    "\n",
    "Place Names are hard to resolve and hence hard to geocode. Most of the current geocoders doesnot handle place names better. However geocoding services provided by vendors such as Google, Bing, and Baidu are very good at handling place names. \n",
    "\n",
    "The Eiffel Tower\n",
    "\n",
    "Now let's get our hand dirty!!"
   ]
  },
  {
   "cell_type": "markdown",
   "id": "2505f45a-5995-4e80-81e6-2ec186241a9f",
   "metadata": {},
   "source": [
    "### Geocoding using Geopandas"
   ]
  },
  {
   "cell_type": "markdown",
   "id": "9e6c4361-5417-40af-b6ad-83c11ac9c58d",
   "metadata": {},
   "source": [
    "Geopandas support geocding through a library called geopy (https://geopy.readthedocs.io/en/stable/). Let us geocode our addresses dataset using geopandas. "
   ]
  },
  {
   "cell_type": "code",
   "execution_count": 7,
   "id": "ab72ebbd-242d-4d8f-babe-98a81d23ef87",
   "metadata": {},
   "outputs": [
    {
     "ename": "TypeError",
     "evalue": "can only concatenate str (not \"int\") to str",
     "output_type": "error",
     "traceback": [
      "\u001b[1;31m---------------------------------------------------------------------------\u001b[0m",
      "\u001b[1;31mTypeError\u001b[0m                                 Traceback (most recent call last)",
      "File \u001b[1;32mE:\\sbd\\lib\\site-packages\\pandas\\core\\ops\\array_ops.py:163\u001b[0m, in \u001b[0;36m_na_arithmetic_op\u001b[1;34m(left, right, op, is_cmp)\u001b[0m\n\u001b[0;32m    162\u001b[0m \u001b[38;5;28;01mtry\u001b[39;00m:\n\u001b[1;32m--> 163\u001b[0m     result \u001b[38;5;241m=\u001b[39m \u001b[43mfunc\u001b[49m\u001b[43m(\u001b[49m\u001b[43mleft\u001b[49m\u001b[43m,\u001b[49m\u001b[43m \u001b[49m\u001b[43mright\u001b[49m\u001b[43m)\u001b[49m\n\u001b[0;32m    164\u001b[0m \u001b[38;5;28;01mexcept\u001b[39;00m \u001b[38;5;167;01mTypeError\u001b[39;00m:\n",
      "File \u001b[1;32mE:\\sbd\\lib\\site-packages\\pandas\\core\\computation\\expressions.py:239\u001b[0m, in \u001b[0;36mevaluate\u001b[1;34m(op, a, b, use_numexpr)\u001b[0m\n\u001b[0;32m    237\u001b[0m     \u001b[38;5;28;01mif\u001b[39;00m use_numexpr:\n\u001b[0;32m    238\u001b[0m         \u001b[38;5;66;03m# error: \"None\" not callable\u001b[39;00m\n\u001b[1;32m--> 239\u001b[0m         \u001b[38;5;28;01mreturn\u001b[39;00m \u001b[43m_evaluate\u001b[49m\u001b[43m(\u001b[49m\u001b[43mop\u001b[49m\u001b[43m,\u001b[49m\u001b[43m \u001b[49m\u001b[43mop_str\u001b[49m\u001b[43m,\u001b[49m\u001b[43m \u001b[49m\u001b[43ma\u001b[49m\u001b[43m,\u001b[49m\u001b[43m \u001b[49m\u001b[43mb\u001b[49m\u001b[43m)\u001b[49m  \u001b[38;5;66;03m# type: ignore[misc]\u001b[39;00m\n\u001b[0;32m    240\u001b[0m \u001b[38;5;28;01mreturn\u001b[39;00m _evaluate_standard(op, op_str, a, b)\n",
      "File \u001b[1;32mE:\\sbd\\lib\\site-packages\\pandas\\core\\computation\\expressions.py:69\u001b[0m, in \u001b[0;36m_evaluate_standard\u001b[1;34m(op, op_str, a, b)\u001b[0m\n\u001b[0;32m     68\u001b[0m     _store_test_result(\u001b[38;5;28;01mFalse\u001b[39;00m)\n\u001b[1;32m---> 69\u001b[0m \u001b[38;5;28;01mreturn\u001b[39;00m \u001b[43mop\u001b[49m\u001b[43m(\u001b[49m\u001b[43ma\u001b[49m\u001b[43m,\u001b[49m\u001b[43m \u001b[49m\u001b[43mb\u001b[49m\u001b[43m)\u001b[49m\n",
      "\u001b[1;31mTypeError\u001b[0m: can only concatenate str (not \"int\") to str",
      "\nDuring handling of the above exception, another exception occurred:\n",
      "\u001b[1;31mTypeError\u001b[0m                                 Traceback (most recent call last)",
      "Input \u001b[1;32mIn [7]\u001b[0m, in \u001b[0;36m<cell line: 1>\u001b[1;34m()\u001b[0m\n\u001b[1;32m----> 1\u001b[0m addresses[\u001b[38;5;124m'\u001b[39m\u001b[38;5;124mfullAddress\u001b[39m\u001b[38;5;124m'\u001b[39m] \u001b[38;5;241m=\u001b[39m \u001b[43maddresses\u001b[49m\u001b[38;5;241;43m.\u001b[39;49m\u001b[43mAddress\u001b[49m\u001b[38;5;241;43m+\u001b[39;49m\u001b[38;5;124;43m'\u001b[39;49m\u001b[38;5;124;43m \u001b[39;49m\u001b[38;5;124;43m'\u001b[39;49m\u001b[38;5;241;43m+\u001b[39;49m\u001b[43maddresses\u001b[49m\u001b[38;5;241;43m.\u001b[39;49m\u001b[43mCITY\u001b[49m\u001b[38;5;241;43m+\u001b[39;49m\u001b[38;5;124;43m'\u001b[39;49m\u001b[38;5;124;43m \u001b[39;49m\u001b[38;5;124;43m'\u001b[39;49m\u001b[38;5;241;43m+\u001b[39;49m\u001b[43maddresses\u001b[49m\u001b[38;5;241;43m.\u001b[39;49m\u001b[43mREGION\u001b[49m\u001b[38;5;241;43m+\u001b[39;49m\u001b[38;5;124;43m'\u001b[39;49m\u001b[38;5;124;43m \u001b[39;49m\u001b[38;5;124;43m'\u001b[39;49m\u001b[38;5;241;43m+\u001b[39;49m\u001b[43maddresses\u001b[49m\u001b[38;5;241;43m.\u001b[39;49m\u001b[43mPOSTCODE\u001b[49m\n",
      "File \u001b[1;32mE:\\sbd\\lib\\site-packages\\pandas\\core\\ops\\common.py:70\u001b[0m, in \u001b[0;36m_unpack_zerodim_and_defer.<locals>.new_method\u001b[1;34m(self, other)\u001b[0m\n\u001b[0;32m     66\u001b[0m             \u001b[38;5;28;01mreturn\u001b[39;00m \u001b[38;5;28mNotImplemented\u001b[39m\n\u001b[0;32m     68\u001b[0m other \u001b[38;5;241m=\u001b[39m item_from_zerodim(other)\n\u001b[1;32m---> 70\u001b[0m \u001b[38;5;28;01mreturn\u001b[39;00m \u001b[43mmethod\u001b[49m\u001b[43m(\u001b[49m\u001b[38;5;28;43mself\u001b[39;49m\u001b[43m,\u001b[49m\u001b[43m \u001b[49m\u001b[43mother\u001b[49m\u001b[43m)\u001b[49m\n",
      "File \u001b[1;32mE:\\sbd\\lib\\site-packages\\pandas\\core\\arraylike.py:100\u001b[0m, in \u001b[0;36mOpsMixin.__add__\u001b[1;34m(self, other)\u001b[0m\n\u001b[0;32m     98\u001b[0m \u001b[38;5;129m@unpack_zerodim_and_defer\u001b[39m(\u001b[38;5;124m\"\u001b[39m\u001b[38;5;124m__add__\u001b[39m\u001b[38;5;124m\"\u001b[39m)\n\u001b[0;32m     99\u001b[0m \u001b[38;5;28;01mdef\u001b[39;00m \u001b[38;5;21m__add__\u001b[39m(\u001b[38;5;28mself\u001b[39m, other):\n\u001b[1;32m--> 100\u001b[0m     \u001b[38;5;28;01mreturn\u001b[39;00m \u001b[38;5;28;43mself\u001b[39;49m\u001b[38;5;241;43m.\u001b[39;49m\u001b[43m_arith_method\u001b[49m\u001b[43m(\u001b[49m\u001b[43mother\u001b[49m\u001b[43m,\u001b[49m\u001b[43m \u001b[49m\u001b[43moperator\u001b[49m\u001b[38;5;241;43m.\u001b[39;49m\u001b[43madd\u001b[49m\u001b[43m)\u001b[49m\n",
      "File \u001b[1;32mE:\\sbd\\lib\\site-packages\\pandas\\core\\series.py:5639\u001b[0m, in \u001b[0;36mSeries._arith_method\u001b[1;34m(self, other, op)\u001b[0m\n\u001b[0;32m   5637\u001b[0m \u001b[38;5;28;01mdef\u001b[39;00m \u001b[38;5;21m_arith_method\u001b[39m(\u001b[38;5;28mself\u001b[39m, other, op):\n\u001b[0;32m   5638\u001b[0m     \u001b[38;5;28mself\u001b[39m, other \u001b[38;5;241m=\u001b[39m ops\u001b[38;5;241m.\u001b[39malign_method_SERIES(\u001b[38;5;28mself\u001b[39m, other)\n\u001b[1;32m-> 5639\u001b[0m     \u001b[38;5;28;01mreturn\u001b[39;00m \u001b[43mbase\u001b[49m\u001b[38;5;241;43m.\u001b[39;49m\u001b[43mIndexOpsMixin\u001b[49m\u001b[38;5;241;43m.\u001b[39;49m\u001b[43m_arith_method\u001b[49m\u001b[43m(\u001b[49m\u001b[38;5;28;43mself\u001b[39;49m\u001b[43m,\u001b[49m\u001b[43m \u001b[49m\u001b[43mother\u001b[49m\u001b[43m,\u001b[49m\u001b[43m \u001b[49m\u001b[43mop\u001b[49m\u001b[43m)\u001b[49m\n",
      "File \u001b[1;32mE:\\sbd\\lib\\site-packages\\pandas\\core\\base.py:1295\u001b[0m, in \u001b[0;36mIndexOpsMixin._arith_method\u001b[1;34m(self, other, op)\u001b[0m\n\u001b[0;32m   1292\u001b[0m rvalues \u001b[38;5;241m=\u001b[39m ensure_wrapped_if_datetimelike(rvalues)\n\u001b[0;32m   1294\u001b[0m \u001b[38;5;28;01mwith\u001b[39;00m np\u001b[38;5;241m.\u001b[39merrstate(\u001b[38;5;28mall\u001b[39m\u001b[38;5;241m=\u001b[39m\u001b[38;5;124m\"\u001b[39m\u001b[38;5;124mignore\u001b[39m\u001b[38;5;124m\"\u001b[39m):\n\u001b[1;32m-> 1295\u001b[0m     result \u001b[38;5;241m=\u001b[39m \u001b[43mops\u001b[49m\u001b[38;5;241;43m.\u001b[39;49m\u001b[43marithmetic_op\u001b[49m\u001b[43m(\u001b[49m\u001b[43mlvalues\u001b[49m\u001b[43m,\u001b[49m\u001b[43m \u001b[49m\u001b[43mrvalues\u001b[49m\u001b[43m,\u001b[49m\u001b[43m \u001b[49m\u001b[43mop\u001b[49m\u001b[43m)\u001b[49m\n\u001b[0;32m   1297\u001b[0m \u001b[38;5;28;01mreturn\u001b[39;00m \u001b[38;5;28mself\u001b[39m\u001b[38;5;241m.\u001b[39m_construct_result(result, name\u001b[38;5;241m=\u001b[39mres_name)\n",
      "File \u001b[1;32mE:\\sbd\\lib\\site-packages\\pandas\\core\\ops\\array_ops.py:222\u001b[0m, in \u001b[0;36marithmetic_op\u001b[1;34m(left, right, op)\u001b[0m\n\u001b[0;32m    217\u001b[0m \u001b[38;5;28;01melse\u001b[39;00m:\n\u001b[0;32m    218\u001b[0m     \u001b[38;5;66;03m# TODO we should handle EAs consistently and move this check before the if/else\u001b[39;00m\n\u001b[0;32m    219\u001b[0m     \u001b[38;5;66;03m# (https://github.com/pandas-dev/pandas/issues/41165)\u001b[39;00m\n\u001b[0;32m    220\u001b[0m     _bool_arith_check(op, left, right)\n\u001b[1;32m--> 222\u001b[0m     res_values \u001b[38;5;241m=\u001b[39m \u001b[43m_na_arithmetic_op\u001b[49m\u001b[43m(\u001b[49m\u001b[43mleft\u001b[49m\u001b[43m,\u001b[49m\u001b[43m \u001b[49m\u001b[43mright\u001b[49m\u001b[43m,\u001b[49m\u001b[43m \u001b[49m\u001b[43mop\u001b[49m\u001b[43m)\u001b[49m\n\u001b[0;32m    224\u001b[0m \u001b[38;5;28;01mreturn\u001b[39;00m res_values\n",
      "File \u001b[1;32mE:\\sbd\\lib\\site-packages\\pandas\\core\\ops\\array_ops.py:170\u001b[0m, in \u001b[0;36m_na_arithmetic_op\u001b[1;34m(left, right, op, is_cmp)\u001b[0m\n\u001b[0;32m    164\u001b[0m \u001b[38;5;28;01mexcept\u001b[39;00m \u001b[38;5;167;01mTypeError\u001b[39;00m:\n\u001b[0;32m    165\u001b[0m     \u001b[38;5;28;01mif\u001b[39;00m \u001b[38;5;129;01mnot\u001b[39;00m is_cmp \u001b[38;5;129;01mand\u001b[39;00m (is_object_dtype(left\u001b[38;5;241m.\u001b[39mdtype) \u001b[38;5;129;01mor\u001b[39;00m is_object_dtype(right)):\n\u001b[0;32m    166\u001b[0m         \u001b[38;5;66;03m# For object dtype, fallback to a masked operation (only operating\u001b[39;00m\n\u001b[0;32m    167\u001b[0m         \u001b[38;5;66;03m#  on the non-missing values)\u001b[39;00m\n\u001b[0;32m    168\u001b[0m         \u001b[38;5;66;03m# Don't do this for comparisons, as that will handle complex numbers\u001b[39;00m\n\u001b[0;32m    169\u001b[0m         \u001b[38;5;66;03m#  incorrectly, see GH#32047\u001b[39;00m\n\u001b[1;32m--> 170\u001b[0m         result \u001b[38;5;241m=\u001b[39m \u001b[43m_masked_arith_op\u001b[49m\u001b[43m(\u001b[49m\u001b[43mleft\u001b[49m\u001b[43m,\u001b[49m\u001b[43m \u001b[49m\u001b[43mright\u001b[49m\u001b[43m,\u001b[49m\u001b[43m \u001b[49m\u001b[43mop\u001b[49m\u001b[43m)\u001b[49m\n\u001b[0;32m    171\u001b[0m     \u001b[38;5;28;01melse\u001b[39;00m:\n\u001b[0;32m    172\u001b[0m         \u001b[38;5;28;01mraise\u001b[39;00m\n",
      "File \u001b[1;32mE:\\sbd\\lib\\site-packages\\pandas\\core\\ops\\array_ops.py:108\u001b[0m, in \u001b[0;36m_masked_arith_op\u001b[1;34m(x, y, op)\u001b[0m\n\u001b[0;32m    106\u001b[0m     \u001b[38;5;66;03m# See GH#5284, GH#5035, GH#19448 for historical reference\u001b[39;00m\n\u001b[0;32m    107\u001b[0m     \u001b[38;5;28;01mif\u001b[39;00m mask\u001b[38;5;241m.\u001b[39many():\n\u001b[1;32m--> 108\u001b[0m         result[mask] \u001b[38;5;241m=\u001b[39m \u001b[43mop\u001b[49m\u001b[43m(\u001b[49m\u001b[43mxrav\u001b[49m\u001b[43m[\u001b[49m\u001b[43mmask\u001b[49m\u001b[43m]\u001b[49m\u001b[43m,\u001b[49m\u001b[43m \u001b[49m\u001b[43myrav\u001b[49m\u001b[43m[\u001b[49m\u001b[43mmask\u001b[49m\u001b[43m]\u001b[49m\u001b[43m)\u001b[49m\n\u001b[0;32m    110\u001b[0m \u001b[38;5;28;01melse\u001b[39;00m:\n\u001b[0;32m    111\u001b[0m     \u001b[38;5;28;01mif\u001b[39;00m \u001b[38;5;129;01mnot\u001b[39;00m is_scalar(y):\n",
      "\u001b[1;31mTypeError\u001b[0m: can only concatenate str (not \"int\") to str"
     ]
    }
   ],
   "source": [
    "addresses['fullAddress'] = addresses.Address+' '+addresses.CITY+' '+addresses.REGION+' '+addresses.POSTCODE"
   ]
  },
  {
   "cell_type": "markdown",
   "id": "8cbe6f9e-8685-40e5-a7a4-f7d08c430cff",
   "metadata": {},
   "source": [
    "We are trying to concatenate the various columns into a single column. But seems like some of the columns have datatype as int."
   ]
  },
  {
   "cell_type": "code",
   "execution_count": 8,
   "id": "dd51eba9-1770-4f34-bb31-7af9ed7f2eb5",
   "metadata": {},
   "outputs": [
    {
     "data": {
      "text/plain": [
       "id           int64\n",
       "Address     object\n",
       "CITY        object\n",
       "REGION      object\n",
       "POSTCODE     int64\n",
       "dtype: object"
      ]
     },
     "execution_count": 8,
     "metadata": {},
     "output_type": "execute_result"
    }
   ],
   "source": [
    "addresses.dtypes"
   ]
  },
  {
   "cell_type": "markdown",
   "id": "0f583f27-2953-46a8-a7c3-0090ec471b61",
   "metadata": {},
   "source": [
    "As you can see the POSTCODE column is having intger as its data type."
   ]
  },
  {
   "cell_type": "code",
   "execution_count": 9,
   "id": "f501e820-9e81-4bdb-bfad-f57a5815db7b",
   "metadata": {},
   "outputs": [],
   "source": [
    "addresses['fullAddress'] = addresses.Address+' '+addresses.CITY+' '+addresses.REGION+' '+addresses.POSTCODE.astype(str)"
   ]
  },
  {
   "cell_type": "code",
   "execution_count": 10,
   "id": "5e50ec2d-117f-4975-bb97-cc2e7769f839",
   "metadata": {},
   "outputs": [
    {
     "data": {
      "text/html": [
       "<div>\n",
       "<style scoped>\n",
       "    .dataframe tbody tr th:only-of-type {\n",
       "        vertical-align: middle;\n",
       "    }\n",
       "\n",
       "    .dataframe tbody tr th {\n",
       "        vertical-align: top;\n",
       "    }\n",
       "\n",
       "    .dataframe thead th {\n",
       "        text-align: right;\n",
       "    }\n",
       "</style>\n",
       "<table border=\"1\" class=\"dataframe\">\n",
       "  <thead>\n",
       "    <tr style=\"text-align: right;\">\n",
       "      <th></th>\n",
       "      <th>id</th>\n",
       "      <th>Address</th>\n",
       "      <th>CITY</th>\n",
       "      <th>REGION</th>\n",
       "      <th>POSTCODE</th>\n",
       "      <th>fullAddress</th>\n",
       "    </tr>\n",
       "  </thead>\n",
       "  <tbody>\n",
       "    <tr>\n",
       "      <th>0</th>\n",
       "      <td>15850</td>\n",
       "      <td>1972 E   120 ST</td>\n",
       "      <td>CLEVELAND</td>\n",
       "      <td>OH</td>\n",
       "      <td>44106</td>\n",
       "      <td>1972 E   120 ST CLEVELAND OH 44106</td>\n",
       "    </tr>\n",
       "    <tr>\n",
       "      <th>1</th>\n",
       "      <td>31822</td>\n",
       "      <td>2200 DELAWARE DR</td>\n",
       "      <td>CLEVELAND HEIGHTS</td>\n",
       "      <td>OH</td>\n",
       "      <td>44106</td>\n",
       "      <td>2200 DELAWARE DR CLEVELAND HEIGHTS OH 44106</td>\n",
       "    </tr>\n",
       "    <tr>\n",
       "      <th>2</th>\n",
       "      <td>47687</td>\n",
       "      <td>1937 E   120 ST</td>\n",
       "      <td>CLEVELAND</td>\n",
       "      <td>OH</td>\n",
       "      <td>44106</td>\n",
       "      <td>1937 E   120 ST CLEVELAND OH 44106</td>\n",
       "    </tr>\n",
       "    <tr>\n",
       "      <th>3</th>\n",
       "      <td>47688</td>\n",
       "      <td>1961 E   120 ST</td>\n",
       "      <td>CLEVELAND</td>\n",
       "      <td>OH</td>\n",
       "      <td>44106</td>\n",
       "      <td>1961 E   120 ST CLEVELAND OH 44106</td>\n",
       "    </tr>\n",
       "    <tr>\n",
       "      <th>4</th>\n",
       "      <td>65312</td>\n",
       "      <td>1960 DENTON DR</td>\n",
       "      <td>CLEVELAND HEIGHTS</td>\n",
       "      <td>OH</td>\n",
       "      <td>44106</td>\n",
       "      <td>1960 DENTON DR CLEVELAND HEIGHTS OH 44106</td>\n",
       "    </tr>\n",
       "    <tr>\n",
       "      <th>...</th>\n",
       "      <td>...</td>\n",
       "      <td>...</td>\n",
       "      <td>...</td>\n",
       "      <td>...</td>\n",
       "      <td>...</td>\n",
       "      <td>...</td>\n",
       "    </tr>\n",
       "    <tr>\n",
       "      <th>94</th>\n",
       "      <td>172382</td>\n",
       "      <td>1531 E   118 ST</td>\n",
       "      <td>CLEVELAND</td>\n",
       "      <td>OH</td>\n",
       "      <td>44106</td>\n",
       "      <td>1531 E   118 ST CLEVELAND OH 44106</td>\n",
       "    </tr>\n",
       "    <tr>\n",
       "      <th>95</th>\n",
       "      <td>172383</td>\n",
       "      <td>1527 E   118 ST</td>\n",
       "      <td>CLEVELAND</td>\n",
       "      <td>OH</td>\n",
       "      <td>44106</td>\n",
       "      <td>1527 E   118 ST CLEVELAND OH 44106</td>\n",
       "    </tr>\n",
       "    <tr>\n",
       "      <th>96</th>\n",
       "      <td>172384</td>\n",
       "      <td>1515 E   118 ST</td>\n",
       "      <td>CLEVELAND</td>\n",
       "      <td>OH</td>\n",
       "      <td>44106</td>\n",
       "      <td>1515 E   118 ST CLEVELAND OH 44106</td>\n",
       "    </tr>\n",
       "    <tr>\n",
       "      <th>97</th>\n",
       "      <td>172386</td>\n",
       "      <td>10900 EUCLID AVE</td>\n",
       "      <td>CLEVELAND</td>\n",
       "      <td>OH</td>\n",
       "      <td>44106</td>\n",
       "      <td>10900 EUCLID AVE CLEVELAND OH 44106</td>\n",
       "    </tr>\n",
       "    <tr>\n",
       "      <th>98</th>\n",
       "      <td>172427</td>\n",
       "      <td>8600 CEDAR AVE</td>\n",
       "      <td>CLEVELAND</td>\n",
       "      <td>OH</td>\n",
       "      <td>44106</td>\n",
       "      <td>8600 CEDAR AVE CLEVELAND OH 44106</td>\n",
       "    </tr>\n",
       "  </tbody>\n",
       "</table>\n",
       "<p>99 rows × 6 columns</p>\n",
       "</div>"
      ],
      "text/plain": [
       "        id           Address               CITY REGION  POSTCODE  \\\n",
       "0    15850   1972 E   120 ST          CLEVELAND     OH     44106   \n",
       "1    31822  2200 DELAWARE DR  CLEVELAND HEIGHTS     OH     44106   \n",
       "2    47687   1937 E   120 ST          CLEVELAND     OH     44106   \n",
       "3    47688   1961 E   120 ST          CLEVELAND     OH     44106   \n",
       "4    65312    1960 DENTON DR  CLEVELAND HEIGHTS     OH     44106   \n",
       "..     ...               ...                ...    ...       ...   \n",
       "94  172382   1531 E   118 ST          CLEVELAND     OH     44106   \n",
       "95  172383   1527 E   118 ST          CLEVELAND     OH     44106   \n",
       "96  172384   1515 E   118 ST          CLEVELAND     OH     44106   \n",
       "97  172386  10900 EUCLID AVE          CLEVELAND     OH     44106   \n",
       "98  172427    8600 CEDAR AVE          CLEVELAND     OH     44106   \n",
       "\n",
       "                                    fullAddress  \n",
       "0            1972 E   120 ST CLEVELAND OH 44106  \n",
       "1   2200 DELAWARE DR CLEVELAND HEIGHTS OH 44106  \n",
       "2            1937 E   120 ST CLEVELAND OH 44106  \n",
       "3            1961 E   120 ST CLEVELAND OH 44106  \n",
       "4     1960 DENTON DR CLEVELAND HEIGHTS OH 44106  \n",
       "..                                          ...  \n",
       "94           1531 E   118 ST CLEVELAND OH 44106  \n",
       "95           1527 E   118 ST CLEVELAND OH 44106  \n",
       "96           1515 E   118 ST CLEVELAND OH 44106  \n",
       "97          10900 EUCLID AVE CLEVELAND OH 44106  \n",
       "98            8600 CEDAR AVE CLEVELAND OH 44106  \n",
       "\n",
       "[99 rows x 6 columns]"
      ]
     },
     "execution_count": 10,
     "metadata": {},
     "output_type": "execute_result"
    }
   ],
   "source": [
    "addresses"
   ]
  },
  {
   "cell_type": "code",
   "execution_count": 11,
   "id": "647c0964-37b6-49f6-83b1-c5fcce63f4ce",
   "metadata": {},
   "outputs": [],
   "source": [
    "geocoded = gpd.tools.geocode(addresses['fullAddress'])"
   ]
  },
  {
   "cell_type": "code",
   "execution_count": 12,
   "id": "e3477336-8da2-4597-b7b6-5e63ac11c348",
   "metadata": {},
   "outputs": [
    {
     "data": {
      "text/html": [
       "<div>\n",
       "<style scoped>\n",
       "    .dataframe tbody tr th:only-of-type {\n",
       "        vertical-align: middle;\n",
       "    }\n",
       "\n",
       "    .dataframe tbody tr th {\n",
       "        vertical-align: top;\n",
       "    }\n",
       "\n",
       "    .dataframe thead th {\n",
       "        text-align: right;\n",
       "    }\n",
       "</style>\n",
       "<table border=\"1\" class=\"dataframe\">\n",
       "  <thead>\n",
       "    <tr style=\"text-align: right;\">\n",
       "      <th></th>\n",
       "      <th>geometry</th>\n",
       "      <th>address</th>\n",
       "    </tr>\n",
       "  </thead>\n",
       "  <tbody>\n",
       "    <tr>\n",
       "      <th>0</th>\n",
       "      <td>POINT (-81.60476 41.50893)</td>\n",
       "      <td>Museum of Contemporary Art Cleveland, Euclid A...</td>\n",
       "    </tr>\n",
       "    <tr>\n",
       "      <th>1</th>\n",
       "      <td>POINT (-81.59578 41.49795)</td>\n",
       "      <td>Delaware Drive, 44106, Cleveland Heights, Ohio...</td>\n",
       "    </tr>\n",
       "    <tr>\n",
       "      <th>2</th>\n",
       "      <td>POINT (-81.60476 41.50893)</td>\n",
       "      <td>Museum of Contemporary Art Cleveland, Euclid A...</td>\n",
       "    </tr>\n",
       "    <tr>\n",
       "      <th>3</th>\n",
       "      <td>POINT (-81.60476 41.50893)</td>\n",
       "      <td>Museum of Contemporary Art Cleveland, Euclid A...</td>\n",
       "    </tr>\n",
       "    <tr>\n",
       "      <th>4</th>\n",
       "      <td>POINT (-81.59900 41.49618)</td>\n",
       "      <td>Denton Drive, 44106, Cleveland Heights, Ohio, ...</td>\n",
       "    </tr>\n",
       "    <tr>\n",
       "      <th>...</th>\n",
       "      <td>...</td>\n",
       "      <td>...</td>\n",
       "    </tr>\n",
       "    <tr>\n",
       "      <th>94</th>\n",
       "      <td>POINT (-81.60476 41.50893)</td>\n",
       "      <td>Museum of Contemporary Art Cleveland, Euclid A...</td>\n",
       "    </tr>\n",
       "    <tr>\n",
       "      <th>95</th>\n",
       "      <td>POINT (-81.60476 41.50893)</td>\n",
       "      <td>Museum of Contemporary Art Cleveland, Euclid A...</td>\n",
       "    </tr>\n",
       "    <tr>\n",
       "      <th>96</th>\n",
       "      <td>POINT (-81.60476 41.50893)</td>\n",
       "      <td>Museum of Contemporary Art Cleveland, Euclid A...</td>\n",
       "    </tr>\n",
       "    <tr>\n",
       "      <th>97</th>\n",
       "      <td>POINT (-81.60070 41.50139)</td>\n",
       "      <td>Case Western Reserve University, 10900, Euclid...</td>\n",
       "    </tr>\n",
       "    <tr>\n",
       "      <th>98</th>\n",
       "      <td>POINT (-81.60476 41.50893)</td>\n",
       "      <td>Museum of Contemporary Art Cleveland, Euclid A...</td>\n",
       "    </tr>\n",
       "  </tbody>\n",
       "</table>\n",
       "<p>99 rows × 2 columns</p>\n",
       "</div>"
      ],
      "text/plain": [
       "                      geometry  \\\n",
       "0   POINT (-81.60476 41.50893)   \n",
       "1   POINT (-81.59578 41.49795)   \n",
       "2   POINT (-81.60476 41.50893)   \n",
       "3   POINT (-81.60476 41.50893)   \n",
       "4   POINT (-81.59900 41.49618)   \n",
       "..                         ...   \n",
       "94  POINT (-81.60476 41.50893)   \n",
       "95  POINT (-81.60476 41.50893)   \n",
       "96  POINT (-81.60476 41.50893)   \n",
       "97  POINT (-81.60070 41.50139)   \n",
       "98  POINT (-81.60476 41.50893)   \n",
       "\n",
       "                                              address  \n",
       "0   Museum of Contemporary Art Cleveland, Euclid A...  \n",
       "1   Delaware Drive, 44106, Cleveland Heights, Ohio...  \n",
       "2   Museum of Contemporary Art Cleveland, Euclid A...  \n",
       "3   Museum of Contemporary Art Cleveland, Euclid A...  \n",
       "4   Denton Drive, 44106, Cleveland Heights, Ohio, ...  \n",
       "..                                                ...  \n",
       "94  Museum of Contemporary Art Cleveland, Euclid A...  \n",
       "95  Museum of Contemporary Art Cleveland, Euclid A...  \n",
       "96  Museum of Contemporary Art Cleveland, Euclid A...  \n",
       "97  Case Western Reserve University, 10900, Euclid...  \n",
       "98  Museum of Contemporary Art Cleveland, Euclid A...  \n",
       "\n",
       "[99 rows x 2 columns]"
      ]
     },
     "execution_count": 12,
     "metadata": {},
     "output_type": "execute_result"
    }
   ],
   "source": [
    "geocoded"
   ]
  },
  {
   "cell_type": "markdown",
   "id": "505125bd-f245-4da1-90ab-88801db09312",
   "metadata": {},
   "source": [
    "The geocoded dataset is of type GeoDataFrame having two columns geometry and address"
   ]
  },
  {
   "cell_type": "code",
   "execution_count": 14,
   "id": "5000ccdc-8f9c-4984-aef7-4b6b2d523e58",
   "metadata": {},
   "outputs": [
    {
     "data": {
      "text/plain": [
       "geopandas.geodataframe.GeoDataFrame"
      ]
     },
     "execution_count": 14,
     "metadata": {},
     "output_type": "execute_result"
    }
   ],
   "source": [
    "type(geocoded)"
   ]
  },
  {
   "cell_type": "markdown",
   "id": "89f30e1e-bb44-4ef9-8403-a18205122eff",
   "metadata": {},
   "source": [
    "Now let's merge this columns back to the original dataset"
   ]
  },
  {
   "cell_type": "code",
   "execution_count": 16,
   "id": "6dea6403-bb14-436e-ae83-964d4c96d600",
   "metadata": {},
   "outputs": [],
   "source": [
    "addresses = pd.concat([addresses,geocoded],axis=1)"
   ]
  },
  {
   "cell_type": "code",
   "execution_count": 17,
   "id": "b77ff86b-0653-43ad-ad3d-1fa1d2fa60bb",
   "metadata": {},
   "outputs": [
    {
     "data": {
      "text/plain": [
       "pandas.core.frame.DataFrame"
      ]
     },
     "execution_count": 17,
     "metadata": {},
     "output_type": "execute_result"
    }
   ],
   "source": [
    "type(addresses)"
   ]
  },
  {
   "cell_type": "markdown",
   "id": "b07d7d3a-a139-4e38-b247-acc6935375da",
   "metadata": {},
   "source": [
    "Now we need to conver this to a geodataframe. Since we already have a geometry column, this is relatively easy"
   ]
  },
  {
   "cell_type": "code",
   "execution_count": 19,
   "id": "678204fd-3817-41cc-a766-c8e93e4aebfd",
   "metadata": {},
   "outputs": [],
   "source": [
    "addressesGeo = gpd.GeoDataFrame(addresses,crs=geocoded.crs)"
   ]
  },
  {
   "cell_type": "markdown",
   "id": "8e1f3423-c574-45fc-a579-04089621175c",
   "metadata": {},
   "source": [
    "#### Trying a different geocoding provider. "
   ]
  },
  {
   "cell_type": "markdown",
   "id": "39f8d965-ba8c-4dab-a119-c442f020b231",
   "metadata": {},
   "source": [
    "There are many geocoding services (free as well as proprietary) which we can use with GeoPandas. Let's try the Nominatim geocoder provided by Open Street Map (OSM)"
   ]
  },
  {
   "cell_type": "code",
   "execution_count": 21,
   "id": "9ee57f3a-2468-45f3-a373-7c3e4364eae9",
   "metadata": {},
   "outputs": [],
   "source": [
    "geocodedNominatim = gpd.tools.geocode(addresses['fullAddress'],provider='nominatim', user_agent=\"test\")"
   ]
  },
  {
   "cell_type": "code",
   "execution_count": 22,
   "id": "604a96b2-4937-4bbf-b76d-3ee4ce30f748",
   "metadata": {},
   "outputs": [
    {
     "data": {
      "text/html": [
       "<div>\n",
       "<style scoped>\n",
       "    .dataframe tbody tr th:only-of-type {\n",
       "        vertical-align: middle;\n",
       "    }\n",
       "\n",
       "    .dataframe tbody tr th {\n",
       "        vertical-align: top;\n",
       "    }\n",
       "\n",
       "    .dataframe thead th {\n",
       "        text-align: right;\n",
       "    }\n",
       "</style>\n",
       "<table border=\"1\" class=\"dataframe\">\n",
       "  <thead>\n",
       "    <tr style=\"text-align: right;\">\n",
       "      <th></th>\n",
       "      <th>geometry</th>\n",
       "      <th>address</th>\n",
       "    </tr>\n",
       "  </thead>\n",
       "  <tbody>\n",
       "    <tr>\n",
       "      <th>0</th>\n",
       "      <td>GEOMETRYCOLLECTION EMPTY</td>\n",
       "      <td>None</td>\n",
       "    </tr>\n",
       "    <tr>\n",
       "      <th>1</th>\n",
       "      <td>POINT (-81.59598 41.49932)</td>\n",
       "      <td>2200, Delaware Drive, Cedar Fairmount, Clevela...</td>\n",
       "    </tr>\n",
       "    <tr>\n",
       "      <th>2</th>\n",
       "      <td>GEOMETRYCOLLECTION EMPTY</td>\n",
       "      <td>None</td>\n",
       "    </tr>\n",
       "    <tr>\n",
       "      <th>3</th>\n",
       "      <td>GEOMETRYCOLLECTION EMPTY</td>\n",
       "      <td>None</td>\n",
       "    </tr>\n",
       "    <tr>\n",
       "      <th>4</th>\n",
       "      <td>POINT (-81.60193 41.49635)</td>\n",
       "      <td>1960, Denton Drive, Ambler Heights, Cleveland ...</td>\n",
       "    </tr>\n",
       "    <tr>\n",
       "      <th>...</th>\n",
       "      <td>...</td>\n",
       "      <td>...</td>\n",
       "    </tr>\n",
       "    <tr>\n",
       "      <th>94</th>\n",
       "      <td>GEOMETRYCOLLECTION EMPTY</td>\n",
       "      <td>None</td>\n",
       "    </tr>\n",
       "    <tr>\n",
       "      <th>95</th>\n",
       "      <td>GEOMETRYCOLLECTION EMPTY</td>\n",
       "      <td>None</td>\n",
       "    </tr>\n",
       "    <tr>\n",
       "      <th>96</th>\n",
       "      <td>GEOMETRYCOLLECTION EMPTY</td>\n",
       "      <td>None</td>\n",
       "    </tr>\n",
       "    <tr>\n",
       "      <th>97</th>\n",
       "      <td>POINT (-81.60070 41.50139)</td>\n",
       "      <td>Case Western Reserve University, 10900, Euclid...</td>\n",
       "    </tr>\n",
       "    <tr>\n",
       "      <th>98</th>\n",
       "      <td>POINT (-81.62682 41.49973)</td>\n",
       "      <td>8600, Cedar Avenue, Fairfax, Cleveland, Cuyaho...</td>\n",
       "    </tr>\n",
       "  </tbody>\n",
       "</table>\n",
       "<p>99 rows × 2 columns</p>\n",
       "</div>"
      ],
      "text/plain": [
       "                      geometry  \\\n",
       "0     GEOMETRYCOLLECTION EMPTY   \n",
       "1   POINT (-81.59598 41.49932)   \n",
       "2     GEOMETRYCOLLECTION EMPTY   \n",
       "3     GEOMETRYCOLLECTION EMPTY   \n",
       "4   POINT (-81.60193 41.49635)   \n",
       "..                         ...   \n",
       "94    GEOMETRYCOLLECTION EMPTY   \n",
       "95    GEOMETRYCOLLECTION EMPTY   \n",
       "96    GEOMETRYCOLLECTION EMPTY   \n",
       "97  POINT (-81.60070 41.50139)   \n",
       "98  POINT (-81.62682 41.49973)   \n",
       "\n",
       "                                              address  \n",
       "0                                                None  \n",
       "1   2200, Delaware Drive, Cedar Fairmount, Clevela...  \n",
       "2                                                None  \n",
       "3                                                None  \n",
       "4   1960, Denton Drive, Ambler Heights, Cleveland ...  \n",
       "..                                                ...  \n",
       "94                                               None  \n",
       "95                                               None  \n",
       "96                                               None  \n",
       "97  Case Western Reserve University, 10900, Euclid...  \n",
       "98  8600, Cedar Avenue, Fairfax, Cleveland, Cuyaho...  \n",
       "\n",
       "[99 rows x 2 columns]"
      ]
     },
     "execution_count": 22,
     "metadata": {},
     "output_type": "execute_result"
    }
   ],
   "source": [
    "geocodedNominatim"
   ]
  },
  {
   "cell_type": "markdown",
   "id": "f0470c4c-7c91-45b1-b79e-de3f5907a258",
   "metadata": {},
   "source": [
    "As you can see some of the addresses are None indicating that the geocoding service was unable to successfully geocode those addresses.\n",
    "\n",
    "There are much better geocoding services provided by Google, Biadu, and Bing which are not free (pay per requests). "
   ]
  },
  {
   "cell_type": "markdown",
   "id": "adfea8b7-2aa2-4bb9-8917-87ab6df70c24",
   "metadata": {},
   "source": [
    "### Various levels of Geocode"
   ]
  },
  {
   "cell_type": "markdown",
   "id": "d69b6a7e-0c8c-4339-abd0-cd65478702fe",
   "metadata": {},
   "source": [
    "A coordinate can be assigned to an address based on various level of information a geocoder has\n",
    "\n",
    "1. Rooftop Geocodes\n",
    "\n",
    "It is the most accurate geocode type and provides the exact location for the address.\n",
    "\n",
    "![gcod](images/gcod10.png)\n",
    "\n",
    "2. Parcel Centroid Geocodes\n",
    "\n",
    "In this case the address is assigned to the centroid of the parcel boundary for the property. *\"A 'parcel', 'lot', or 'tract' is a piece of land (or 'real property') with defined boundaries. \"*. This is also relatively accurate. \n",
    "\n",
    "![gcod11](images/gcod11.png)\n",
    "\n",
    "3. Interpolated Geocodes\n",
    "\n",
    "Interpolation methods uses information about address number ranges to estimate the position of a numbered address. For example there is no direct address match for the location 1149 38th St, Sacramento, California, 95816. But if the geocoder has the street segment (which is a line segment) geometry with it and if the address range of 38 street starts from 1001 and ends at 1299, the geocoder will assign the center point of the street line as the geocode for 1149 38th St, Sacramento, California, 95816.\n",
    "\n",
    "Is that accurate???. Well it depends up on what level of accuracy you are looking for.\n",
    "\n",
    "![gcod12](images/gcod12.png)\n",
    "\n",
    "4. Zip Geocode\n",
    "\n",
    "In this type of geocode, the address is assigned to the centroid of Zip code polygon that it resides in. For example if the geocoder is not able to geocode the address 2439 Overlook Rd, Cleveland,Ohio,44106, it can assign the address to the centroid of the Zip code polygon for 44106. This type of approach has a very low accuracy and users should be aware of such assignments.\n",
    "\n",
    "![gcod13](images/gcod13.PNG)"
   ]
  },
  {
   "cell_type": "markdown",
   "id": "05d2eec1-7748-4a3b-b341-3bd3559f6e70",
   "metadata": {},
   "source": [
    "### Geocoding Pitfalls and Remedies"
   ]
  },
  {
   "cell_type": "markdown",
   "id": "a669eacd-b14c-43fd-931f-ed46c8a084c3",
   "metadata": {},
   "source": [
    "As we have seen, Geocoding Accuracy is arbitrary. There is no one answer for how accurate geocoding is because there are several factors that you need to consider before you can accurately answer this question.\n",
    "\n",
    "The level of geocoding accuracy you need depends up on many factors,\n",
    "\n",
    "1. If you want to identify clusters of a particular infectious disease and notify first responders, then you need good geocoding accuracy. You also want to make sure that you don't loose much of valuable information by tossing away records that are not geocoded. \n",
    "\n",
    "A problem with geocodes such as zip centroid is that it can generate \"spurious clusters\" during analysis. For example if a geocoder is matching many addresses to a zip code centroid for the zip code 44106, then there would be a sudden increase of cases at the zip code centroid which will raise a false alarm (such issues are very common in EHR databases).\n",
    "\n",
    "\n",
    "2. Use of **remote geocoding webservices can be a violation of privacy rules for health data.**\n",
    "\n",
    "If you are using remote webservices (which sends request via internet) for geocoding, you are sending health data (which is supposed to highly confidential) over the wire (internet). The organization that is providing the geocoding service can collect the addresses as well as other private information from such requests. \n",
    "\n",
    "The work around will be to use standalone geocoder, where the address database sits locally or at a secure research location. Such kind of standalone geocoders are provided by ArcGIS (needs license) or you can build your own geocoding service using a readily available data source like the Tiger Line files and a database like PostgreSQL  \n",
    "\n",
    "\n",
    "3. Tossing records that doesn't have geocode when data is at a premium.\n",
    "\n",
    "If you are looking at a rather new and complex disease that is spread only among a few people, you would not want to toss out records that doesn't have a geocode, rather you could try multiple geocoders (depending up on your budget) to extract out the geocode. \n",
    "\n",
    "\n",
    "4. If you just want to aggregate the addresses at zip code level and if the addresses already have a zip code number, you don't even need to perfrom the relatively costly geocoding. \n",
    "\n",
    "You can directly extract out the zip code number from the address and at a later point merge it to a zip code polygon that has the zip code number as its attribute ( we will look into such table based merges in the upcoming sessions). \n"
   ]
  },
  {
   "cell_type": "code",
   "execution_count": null,
   "id": "c167a65d-f719-4255-9bbb-11799398dd04",
   "metadata": {},
   "outputs": [],
   "source": []
  }
 ],
 "metadata": {
  "kernelspec": {
   "display_name": "Python 3 (ipykernel)",
   "language": "python",
   "name": "python3"
  },
  "language_info": {
   "codemirror_mode": {
    "name": "ipython",
    "version": 3
   },
   "file_extension": ".py",
   "mimetype": "text/x-python",
   "name": "python",
   "nbconvert_exporter": "python",
   "pygments_lexer": "ipython3",
   "version": "3.10.4"
  }
 },
 "nbformat": 4,
 "nbformat_minor": 5
}
