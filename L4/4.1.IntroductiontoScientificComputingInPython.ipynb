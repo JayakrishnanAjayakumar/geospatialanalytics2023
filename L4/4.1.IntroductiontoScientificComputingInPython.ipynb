{
 "cells": [
  {
   "cell_type": "markdown",
   "id": "0bc68182-9d0f-48d4-b110-9a1a208a6205",
   "metadata": {},
   "source": [
    "# Scientific Computing With Python"
   ]
  },
  {
   "cell_type": "markdown",
   "id": "58a6a8de-9082-4e6a-ad8e-e3ce9798bb74",
   "metadata": {},
   "source": [
    "![scientific_computing](images/scientific_computing.png)\n",
    "\n",
    ">Scientific Computing is the **collection of tools, techniques, and theories required to solve on a computer mathematical models of problems in Science and Engineering**.\n",
    "\n",
    "1. Scientific computing draws on **mathematics and computer science** to develop the best way to use computer systems to solve problems from science and engineering.\n",
    "\n",
    "2. Scientific computing involves **model development and simulations** to understand natural systems. \n",
    "\n",
    "33. Scientific computing **requires knowledge of the subject of the underlying problem to be solved.**\n",
    "\n",
    "\n",
    "4. Scientific computing is now regarded as the **Third Pillar of Science**, complementing and adding to **experimentation/observation and theory**.\n",
    "\n",
    "A **computation tells** you what the **consequences of your theory are**, which **facilitates experimentation and observation work** because you can tell **what you are supposed to look for to judge whether your theory is valid**."
   ]
  },
  {
   "cell_type": "markdown",
   "id": "4ea2ec39-cce0-4975-9789-1ee2bba3a61a",
   "metadata": {},
   "source": [
    "**Two major characteristics associated with Scientific Computation**\n",
    "\n",
    "1. Large Datasets/ Big Data.\n",
    "2. Massive number of computations.\n",
    "\n",
    "**So what do we need for venturing into Scienitific Computation**\n",
    "\n",
    "1. **Efficient form of representing data** (efficient data structures) which can then be **efficiently accessed** for performing computations on.\n",
    "\n",
    "2. **Speed of computation** becomes a key factor, to have an output in reasonable amount of time.\n",
    "\n",
    "But **who is using scientific computing.**\n",
    "\n",
    "The people using scientific computing in their research are **not always computer scientists**. They include **biologist, chemist, physicist, climatologist, geographers, doctors, and engineers**.\n",
    "\n",
    "So rather than getting into complex programming constructs and intricacies, researchers should be able to conduct scientific research efficiently with large datasets (which is typically associated with scientific computing)."
   ]
  },
  {
   "cell_type": "markdown",
   "id": "405532bf-fc42-44e6-9f40-a642ca82ee3c",
   "metadata": {},
   "source": [
    "## Python for Scientific Computing "
   ]
  },
  {
   "cell_type": "markdown",
   "id": "4d0db757-b914-4f00-ac30-258cc162b424",
   "metadata": {},
   "source": [
    "1. Easy to develop/code.\n",
    "2. More readability (closer to English)\n",
    "3. Micro management such as memory allocation and destruction are automatically taken care of."
   ]
  },
  {
   "cell_type": "markdown",
   "id": "1576c9bd-7c5b-4253-acf9-9fea3b9add80",
   "metadata": {},
   "source": [
    "But for readability and ease of use , **Python has to pay a heavy price on Speed**.\n",
    "\n",
    "Compiled languages such as C, C++, and Fortran while highly efficent, are known to have a steep learning curve, especially for non-computer scientists. \n",
    "\n",
    "**So what’s the solution!**\n",
    "\n",
    "What if a **computer scientist or expert in the area of programming can develop efficient code in compiled languages such as C/C++/Fortran and some how call that from Python**.\n",
    "\n",
    "Now you get **best of both worlds**.\n",
    "\n",
    "You will gain **speedups from the compiled code and at the sametime enjoy the user-friendliness of Python**.\n",
    "\n",
    "This is exactly what scienitific libraries are made for. "
   ]
  },
  {
   "cell_type": "markdown",
   "id": "25559d4b-60b5-4cad-b7ff-fcd6e2240722",
   "metadata": {},
   "source": [
    "In the next few sections we will look into a popular scientific library called **Pandas**"
   ]
  },
  {
   "cell_type": "code",
   "execution_count": null,
   "id": "334535e3-22f9-4889-b5b6-d3ad74852a0c",
   "metadata": {},
   "outputs": [],
   "source": []
  }
 ],
 "metadata": {
  "kernelspec": {
   "display_name": "Python 3 (ipykernel)",
   "language": "python",
   "name": "python3"
  },
  "language_info": {
   "codemirror_mode": {
    "name": "ipython",
    "version": 3
   },
   "file_extension": ".py",
   "mimetype": "text/x-python",
   "name": "python",
   "nbconvert_exporter": "python",
   "pygments_lexer": "ipython3",
   "version": "3.10.4"
  }
 },
 "nbformat": 4,
 "nbformat_minor": 5
}
