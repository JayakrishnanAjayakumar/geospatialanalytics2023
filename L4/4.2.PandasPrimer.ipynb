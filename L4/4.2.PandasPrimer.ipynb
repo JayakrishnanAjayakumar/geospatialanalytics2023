{
 "cells": [
  {
   "cell_type": "markdown",
   "id": "f5ffe1f1-abe9-48b0-b6ae-be2426a977c4",
   "metadata": {},
   "source": [
    "# Pandas\n",
    "![pandas_start](images/pandas_new.jpg)"
   ]
  },
  {
   "cell_type": "markdown",
   "id": "54f7b9c6-6776-495b-8359-d893b94c3eac",
   "metadata": {},
   "source": [
    ">**Pandas** is a software library written for the **Python programming language for data manipulation and analysis**. It offers **data structures and operations for manipulating numerical tables and time series**.\n",
    "\n",
    "Pandas is a modern, powerful and feature-rich library that is designed for doing data analysis in Python. It is a mature data analytics framework that is widely used among different fields of science. Pandas provides high-level data structures and functions designed to make working with structured or tabular data intuitive and flexible."
   ]
  },
  {
   "cell_type": "markdown",
   "id": "96216e98-323b-4729-8d37-120c9362bb78",
   "metadata": {},
   "source": [
    "## Datastructures in Pandas"
   ]
  },
  {
   "cell_type": "markdown",
   "id": "f789120c-42e9-4c45-94e4-95edf9dfd990",
   "metadata": {},
   "source": [
    "The two major datastructures in Pandas are DataFrames (two dimensional/table) and Series (one dimensional/single column). Let us look into these datastructures in detail."
   ]
  },
  {
   "cell_type": "markdown",
   "id": "a0504424-1b7c-4efd-8fb6-6afee3c0cd64",
   "metadata": {},
   "source": [
    "### Series"
   ]
  },
  {
   "cell_type": "markdown",
   "id": "a6a4b6a4-d54d-409f-8eda-ab782710b775",
   "metadata": {},
   "source": [
    "A Series is a one-dimensional array-like (list like) object containing a sequence of values of the same type and an associated array of data labels, called its index.\n",
    "\n",
    "![series](images/series.png)"
   ]
  },
  {
   "cell_type": "code",
   "execution_count": 82,
   "id": "0a19a1e5-e1a4-436f-9e5d-36827c386d9b",
   "metadata": {},
   "outputs": [],
   "source": [
    "import pandas as pd #we first import pandas and assign an alias pd for it\n",
    "import numpy as np"
   ]
  },
  {
   "cell_type": "code",
   "execution_count": 83,
   "id": "25542a74-db30-4ad2-b99d-93973a4579e4",
   "metadata": {},
   "outputs": [
    {
     "name": "stdout",
     "output_type": "stream",
     "text": [
      "0     95\n",
      "1    100\n",
      "2     97\n",
      "3     85\n",
      "dtype: int64\n",
      "<class 'pandas.core.series.Series'>\n",
      "[ 95 100  97  85]\n",
      "RangeIndex(start=0, stop=4, step=1)\n",
      "[0 1 2 3]\n"
     ]
    }
   ],
   "source": [
    "marks = pd.Series([95, 100, 97, 85])\n",
    "print (marks)\n",
    "print (type(marks))\n",
    "print (marks.values)\n",
    "print (marks.index)\n",
    "print (marks.index.values)"
   ]
  },
  {
   "cell_type": "markdown",
   "id": "bca568c0-d2ae-4902-a97b-6fb2c9dce3bb",
   "metadata": {},
   "source": [
    "So here marks is a series with values 95,100, 97, 85 and index as 0,1..etc\n",
    "\n",
    "Since we have used the default index consisting of numbers we can access values using indexing. "
   ]
  },
  {
   "cell_type": "code",
   "execution_count": 6,
   "id": "84e943da-bf23-4b33-b713-e0c6db362f9d",
   "metadata": {},
   "outputs": [
    {
     "name": "stdout",
     "output_type": "stream",
     "text": [
      "95\n",
      "0     95\n",
      "1    100\n",
      "2     97\n",
      "dtype: int64\n"
     ]
    }
   ],
   "source": [
    "print (marks[0])\n",
    "print (marks[0:3])"
   ]
  },
  {
   "cell_type": "markdown",
   "id": "72246343-e6a1-4a33-8a2b-3b524a87d439",
   "metadata": {},
   "source": [
    "But you can also create a series with named labels"
   ]
  },
  {
   "cell_type": "code",
   "execution_count": 7,
   "id": "8f9d1b14-a391-4e84-99ab-e9962fc0395a",
   "metadata": {},
   "outputs": [],
   "source": [
    "marks = pd.Series([95, 100, 97, 85],index=['10023','23445','32222','12224'])"
   ]
  },
  {
   "cell_type": "markdown",
   "id": "f23a90c3-575f-483c-b449-1a1bd456afb5",
   "metadata": {},
   "source": [
    "Then we can access individual elements using the index labels"
   ]
  },
  {
   "cell_type": "code",
   "execution_count": 8,
   "id": "fe0db5b4-4191-469d-a134-73cf48362603",
   "metadata": {},
   "outputs": [
    {
     "name": "stdout",
     "output_type": "stream",
     "text": [
      "100\n",
      "85\n",
      "12224    85\n",
      "32222    97\n",
      "dtype: int64\n"
     ]
    }
   ],
   "source": [
    "print (marks['23445'])\n",
    "print (marks['12224'])\n",
    "print (marks[['12224','32222']])"
   ]
  },
  {
   "cell_type": "markdown",
   "id": "9281c4b2-9ae5-46b3-8511-78509b2a4db2",
   "metadata": {},
   "source": [
    "The real power of the series datastructure is that you can perform arithmetic and logical operations on them"
   ]
  },
  {
   "cell_type": "code",
   "execution_count": 9,
   "id": "92e1e10e-13a2-4bf0-902d-d4de512d1bf6",
   "metadata": {},
   "outputs": [],
   "source": [
    "marks = pd.Series([95, 100, 97, 85,77,65,56],index=['10023','23445','32222','12224','33432','56432','43432'])"
   ]
  },
  {
   "cell_type": "markdown",
   "id": "e20b9d5d-4379-415c-8fcc-ea1159c44865",
   "metadata": {},
   "source": [
    "For example just to find the records with value greater than 85"
   ]
  },
  {
   "cell_type": "code",
   "execution_count": 10,
   "id": "e0b6d5ab-6698-4506-ad37-077ce605e3c7",
   "metadata": {},
   "outputs": [
    {
     "name": "stdout",
     "output_type": "stream",
     "text": [
      "10023     95\n",
      "23445    100\n",
      "32222     97\n",
      "dtype: int64\n"
     ]
    }
   ],
   "source": [
    "print (marks[marks>85])"
   ]
  },
  {
   "cell_type": "markdown",
   "id": "98eadb1e-2edc-4872-92d5-a519028464dd",
   "metadata": {},
   "source": [
    "Now you can also use boolean operators such as **and (&), or (|), and not(~)**."
   ]
  },
  {
   "cell_type": "markdown",
   "id": "33e9fb89-fd1e-479a-90c0-70282cb687a7",
   "metadata": {},
   "source": [
    "For example records with marks above 85 and less than or equal to 95"
   ]
  },
  {
   "cell_type": "code",
   "execution_count": 11,
   "id": "a7afcc5f-9eb7-4542-a76a-24bce8feea2f",
   "metadata": {},
   "outputs": [
    {
     "name": "stdout",
     "output_type": "stream",
     "text": [
      "10023    95\n",
      "dtype: int64\n"
     ]
    }
   ],
   "source": [
    "print (marks[(marks>85) & (marks<=95)])"
   ]
  },
  {
   "cell_type": "markdown",
   "id": "7e71a13c-7f66-4951-8b63-606135b50819",
   "metadata": {},
   "source": [
    "Or records with marks less than 70 or greater than 95"
   ]
  },
  {
   "cell_type": "code",
   "execution_count": 12,
   "id": "4d54512c-e8d9-4894-83ef-05fc8ae77767",
   "metadata": {},
   "outputs": [
    {
     "name": "stdout",
     "output_type": "stream",
     "text": [
      "23445    100\n",
      "32222     97\n",
      "56432     65\n",
      "43432     56\n",
      "dtype: int64\n"
     ]
    }
   ],
   "source": [
    "print (marks[(marks<70) | (marks>95)])"
   ]
  },
  {
   "cell_type": "markdown",
   "id": "866d82dd-92fb-455c-bf7b-739abd0b8f71",
   "metadata": {},
   "source": [
    "Or records with marks that are not 100"
   ]
  },
  {
   "cell_type": "code",
   "execution_count": 13,
   "id": "c1305dff-e96a-4fe2-bb4b-595cdc7c8476",
   "metadata": {},
   "outputs": [
    {
     "name": "stdout",
     "output_type": "stream",
     "text": [
      "10023    95\n",
      "32222    97\n",
      "12224    85\n",
      "33432    77\n",
      "56432    65\n",
      "43432    56\n",
      "dtype: int64\n"
     ]
    }
   ],
   "source": [
    "print (marks[~(marks==100)])"
   ]
  },
  {
   "cell_type": "markdown",
   "id": "54e730a8-8b04-4e78-982d-d02f55b481f2",
   "metadata": {},
   "source": [
    "You can also easily apply arithmetic operations"
   ]
  },
  {
   "cell_type": "code",
   "execution_count": 14,
   "id": "c43a2b57-c0d7-4964-8a39-2f7e86204df8",
   "metadata": {},
   "outputs": [
    {
     "name": "stdout",
     "output_type": "stream",
     "text": [
      "10023    190\n",
      "23445    200\n",
      "32222    194\n",
      "12224    170\n",
      "33432    154\n",
      "56432    130\n",
      "43432    112\n",
      "dtype: int64\n"
     ]
    }
   ],
   "source": [
    "print (marks*2)"
   ]
  },
  {
   "cell_type": "markdown",
   "id": "b763c86a-83c7-4865-9631-f83c2a4d0279",
   "metadata": {},
   "source": [
    "Series also support methods such as min(), max(), mean(), median() and many more statistical methods. "
   ]
  },
  {
   "cell_type": "code",
   "execution_count": 15,
   "id": "bd8a24a5-a9cf-487a-b7db-59c9d99cf140",
   "metadata": {},
   "outputs": [
    {
     "name": "stdout",
     "output_type": "stream",
     "text": [
      "56\n",
      "100\n",
      "82.14285714285714\n",
      "count      7.000000\n",
      "mean      82.142857\n",
      "std       16.915758\n",
      "min       56.000000\n",
      "25%       71.000000\n",
      "50%       85.000000\n",
      "75%       96.000000\n",
      "max      100.000000\n",
      "dtype: float64\n"
     ]
    }
   ],
   "source": [
    "print (marks.min())\n",
    "print (marks.max())\n",
    "print (marks.mean())\n",
    "print (marks.describe())"
   ]
  },
  {
   "cell_type": "markdown",
   "id": "034a7483-598b-458a-97a4-fc6b3338e216",
   "metadata": {},
   "source": [
    "You can easily create a series from a dictionary. The keys will be the index and the values will be the series values. "
   ]
  },
  {
   "cell_type": "code",
   "execution_count": 16,
   "id": "d754a941-3f86-4e78-ac9f-05f780ee9893",
   "metadata": {},
   "outputs": [
    {
     "name": "stdout",
     "output_type": "stream",
     "text": [
      "Ohio      35000\n",
      "Texas     71000\n",
      "Oregon    16000\n",
      "Utah       5000\n",
      "dtype: int64\n"
     ]
    }
   ],
   "source": [
    "stateData = {\"Ohio\": 35000, \"Texas\": 71000, \"Oregon\": 16000, \"Utah\": 5000}\n",
    "stateSeries = pd.Series(stateData)\n",
    "print (stateSeries)"
   ]
  },
  {
   "cell_type": "markdown",
   "id": "46135af2-111c-4517-af2e-ba9c9c3ca1b3",
   "metadata": {},
   "source": [
    "Series can also have null values (missing data)"
   ]
  },
  {
   "cell_type": "code",
   "execution_count": 17,
   "id": "5b1f287f-a1a2-414e-9ede-e5dd53951f59",
   "metadata": {},
   "outputs": [
    {
     "name": "stdout",
     "output_type": "stream",
     "text": [
      "10023     95.0\n",
      "23445    100.0\n",
      "32222     97.0\n",
      "12224     85.0\n",
      "33432     77.0\n",
      "56432     65.0\n",
      "43432      NaN\n",
      "dtype: float64\n"
     ]
    }
   ],
   "source": [
    "marks = pd.Series([95, 100, 97, 85,77,65,None],index=['10023','23445','32222','12224','33432','56432','43432'])\n",
    "print (marks)"
   ]
  },
  {
   "cell_type": "markdown",
   "id": "48040e22-d9e2-450f-a712-e0cadb054abc",
   "metadata": {},
   "source": [
    "You can see that there is a NaN value for the last record. This indicates that there is no data available for that record. We can extract all the NaN from a series using isna() method"
   ]
  },
  {
   "cell_type": "code",
   "execution_count": 18,
   "id": "58a43607-326d-4116-b1b5-49b7756537da",
   "metadata": {},
   "outputs": [
    {
     "name": "stdout",
     "output_type": "stream",
     "text": [
      "43432   NaN\n",
      "dtype: float64\n"
     ]
    }
   ],
   "source": [
    "print (marks[marks.isna()])"
   ]
  },
  {
   "cell_type": "markdown",
   "id": "04167206-c84d-49d8-b84f-11e867571b78",
   "metadata": {},
   "source": [
    "And you can use notna() to retreive records that are not null"
   ]
  },
  {
   "cell_type": "code",
   "execution_count": 19,
   "id": "197becd7-062f-4e6d-a347-578caf282ee0",
   "metadata": {},
   "outputs": [
    {
     "name": "stdout",
     "output_type": "stream",
     "text": [
      "10023     95.0\n",
      "23445    100.0\n",
      "32222     97.0\n",
      "12224     85.0\n",
      "33432     77.0\n",
      "56432     65.0\n",
      "dtype: float64\n"
     ]
    }
   ],
   "source": [
    "print (marks[marks.notna()])"
   ]
  },
  {
   "cell_type": "markdown",
   "id": "34b87066-9281-4dcc-aa6f-537bef5b65d1",
   "metadata": {},
   "source": [
    "We can also perform arithmetic operations between multiple series objects"
   ]
  },
  {
   "cell_type": "code",
   "execution_count": 20,
   "id": "1b3a5802-0725-45c4-a200-32bf12e0f45a",
   "metadata": {},
   "outputs": [
    {
     "name": "stdout",
     "output_type": "stream",
     "text": [
      "California         NaN\n",
      "Ohio           85000.0\n",
      "Oregon         48000.0\n",
      "Texas         106000.0\n",
      "Utah            7000.0\n",
      "dtype: float64\n"
     ]
    }
   ],
   "source": [
    "stateData1 = pd.Series({\"Ohio\": 35000, \"Texas\": 71000, \"Oregon\": 16000, \"Utah\": 5000})\n",
    "stateData2 = pd.Series({\"Ohio\": 50000, \"Texas\": 35000, \"Oregon\": 32000, \"Utah\": 2000,'California':77000})\n",
    "print (stateData1+stateData2)"
   ]
  },
  {
   "cell_type": "markdown",
   "id": "f38ad283-1e92-4d68-9a2e-7dc2b5da2d1c",
   "metadata": {},
   "source": [
    "You can convert NaN to a pre-defined value using the fillna() method."
   ]
  },
  {
   "cell_type": "code",
   "execution_count": 21,
   "id": "6c042215-e8a2-47e2-acfa-ff96e05b126f",
   "metadata": {},
   "outputs": [],
   "source": [
    "marks = pd.Series([95, 100, 97, 85,77,65,None],index=['10023','23445','32222','12224','33432','56432','43432'])"
   ]
  },
  {
   "cell_type": "code",
   "execution_count": 22,
   "id": "730c3013-f7f3-4a7a-bfde-f4e125b8b0fd",
   "metadata": {},
   "outputs": [
    {
     "name": "stdout",
     "output_type": "stream",
     "text": [
      "10023     95.0\n",
      "23445    100.0\n",
      "32222     97.0\n",
      "12224     85.0\n",
      "33432     77.0\n",
      "56432     65.0\n",
      "43432      0.0\n",
      "dtype: float64\n"
     ]
    }
   ],
   "source": [
    "print(marks.fillna(0))"
   ]
  },
  {
   "cell_type": "markdown",
   "id": "f7c2fdbc-9f7b-4b27-9217-b7dfe50730a6",
   "metadata": {},
   "source": [
    "The series values are assigned a datatype. You can check the datatype by using the dtype attribute"
   ]
  },
  {
   "cell_type": "code",
   "execution_count": null,
   "id": "2262458a-a29c-4f20-919c-2a14e4323fbe",
   "metadata": {},
   "outputs": [],
   "source": [
    "print (marks.dtype)"
   ]
  },
  {
   "cell_type": "code",
   "execution_count": null,
   "id": "3efa2890-ab0f-420a-a008-827cb6ee0390",
   "metadata": {},
   "outputs": [],
   "source": [
    "stringSeries = pd.Series(['Sam','John','Jay'])\n",
    "print (stringSeries.dtype) #strings are represented mainly as objects"
   ]
  },
  {
   "cell_type": "markdown",
   "id": "3369c3e8-ef87-4b11-8646-3d2b977bcc1c",
   "metadata": {},
   "source": [
    "Conversion of datatypes can be done using astype() method. For example lets convert a series with datatype string to a series with datatype int"
   ]
  },
  {
   "cell_type": "code",
   "execution_count": null,
   "id": "f4a5cc66-374b-4241-b7bc-08df452d4a1d",
   "metadata": {},
   "outputs": [],
   "source": [
    "stringSeries = pd.Series(['1','2','3'])\n",
    "intSeries = stringSeries.astype(int)\n",
    "print (stringSeries.dtype)\n",
    "print (intSeries.dtype)\n",
    "print (intSeries)"
   ]
  },
  {
   "cell_type": "markdown",
   "id": "931665e3-e3b1-4fdc-8828-655bfbd71e1e",
   "metadata": {},
   "source": [
    "### DataFrames"
   ]
  },
  {
   "cell_type": "markdown",
   "id": "787ae0b4-c325-4f0b-9833-f49fea7568cb",
   "metadata": {},
   "source": [
    "A DataFrame represents a rectangular table of data and contains an ordered, named collection of columns, each of which can be a different value type (numeric, string, Boolean, etc.). The DataFrame has both a row and column index\n",
    "\n",
    "![dataframe](images/dataframe.png)"
   ]
  },
  {
   "cell_type": "markdown",
   "id": "4f71b58b-09d2-445b-9856-c1f580898e28",
   "metadata": {},
   "source": [
    "There are many ways to construct a DataFrame\n",
    "\n",
    "1. From Dictionaries"
   ]
  },
  {
   "cell_type": "code",
   "execution_count": 24,
   "id": "237c3190-40ef-44e8-98a0-b1f5024e698d",
   "metadata": {},
   "outputs": [],
   "source": [
    "data = {\"name\": ['Jay','Sam','John','Mat'],\n",
    "        \"major\": ['Math','CS','Geography','Physics'],\n",
    "        \"GPA\": [3.4, 3.2, 3.0, 2.7]}\n",
    "frame = pd.DataFrame(data)"
   ]
  },
  {
   "cell_type": "code",
   "execution_count": 25,
   "id": "37481dbc-8324-4fe2-9fa9-3a9704aa481d",
   "metadata": {},
   "outputs": [
    {
     "data": {
      "text/html": [
       "<div>\n",
       "<style scoped>\n",
       "    .dataframe tbody tr th:only-of-type {\n",
       "        vertical-align: middle;\n",
       "    }\n",
       "\n",
       "    .dataframe tbody tr th {\n",
       "        vertical-align: top;\n",
       "    }\n",
       "\n",
       "    .dataframe thead th {\n",
       "        text-align: right;\n",
       "    }\n",
       "</style>\n",
       "<table border=\"1\" class=\"dataframe\">\n",
       "  <thead>\n",
       "    <tr style=\"text-align: right;\">\n",
       "      <th></th>\n",
       "      <th>name</th>\n",
       "      <th>major</th>\n",
       "      <th>GPA</th>\n",
       "    </tr>\n",
       "  </thead>\n",
       "  <tbody>\n",
       "    <tr>\n",
       "      <th>0</th>\n",
       "      <td>Jay</td>\n",
       "      <td>Math</td>\n",
       "      <td>3.4</td>\n",
       "    </tr>\n",
       "    <tr>\n",
       "      <th>1</th>\n",
       "      <td>Sam</td>\n",
       "      <td>CS</td>\n",
       "      <td>3.2</td>\n",
       "    </tr>\n",
       "    <tr>\n",
       "      <th>2</th>\n",
       "      <td>John</td>\n",
       "      <td>Geography</td>\n",
       "      <td>3.0</td>\n",
       "    </tr>\n",
       "    <tr>\n",
       "      <th>3</th>\n",
       "      <td>Mat</td>\n",
       "      <td>Physics</td>\n",
       "      <td>2.7</td>\n",
       "    </tr>\n",
       "  </tbody>\n",
       "</table>\n",
       "</div>"
      ],
      "text/plain": [
       "   name      major  GPA\n",
       "0   Jay       Math  3.4\n",
       "1   Sam         CS  3.2\n",
       "2  John  Geography  3.0\n",
       "3   Mat    Physics  2.7"
      ]
     },
     "execution_count": 25,
     "metadata": {},
     "output_type": "execute_result"
    }
   ],
   "source": [
    "frame"
   ]
  },
  {
   "cell_type": "markdown",
   "id": "98a01fe5-8771-48b6-b668-312f1c93650a",
   "metadata": {},
   "source": [
    "2. From Lists"
   ]
  },
  {
   "cell_type": "code",
   "execution_count": 26,
   "id": "8edb4111-7e77-4788-b5df-4ffcad6ccac5",
   "metadata": {},
   "outputs": [],
   "source": [
    "data = [['Jay','Math',3.4],['Sam','CS',3.2],['John','Geography',3.0],['Mat','Physics',2.7]]\n",
    "frame = pd.DataFrame(data,columns = ['name','major','GPA'])"
   ]
  },
  {
   "cell_type": "code",
   "execution_count": 27,
   "id": "893edea3-f64f-401a-94b5-f572cc249cad",
   "metadata": {},
   "outputs": [
    {
     "data": {
      "text/html": [
       "<div>\n",
       "<style scoped>\n",
       "    .dataframe tbody tr th:only-of-type {\n",
       "        vertical-align: middle;\n",
       "    }\n",
       "\n",
       "    .dataframe tbody tr th {\n",
       "        vertical-align: top;\n",
       "    }\n",
       "\n",
       "    .dataframe thead th {\n",
       "        text-align: right;\n",
       "    }\n",
       "</style>\n",
       "<table border=\"1\" class=\"dataframe\">\n",
       "  <thead>\n",
       "    <tr style=\"text-align: right;\">\n",
       "      <th></th>\n",
       "      <th>name</th>\n",
       "      <th>major</th>\n",
       "      <th>GPA</th>\n",
       "    </tr>\n",
       "  </thead>\n",
       "  <tbody>\n",
       "    <tr>\n",
       "      <th>0</th>\n",
       "      <td>Jay</td>\n",
       "      <td>Math</td>\n",
       "      <td>3.4</td>\n",
       "    </tr>\n",
       "    <tr>\n",
       "      <th>1</th>\n",
       "      <td>Sam</td>\n",
       "      <td>CS</td>\n",
       "      <td>3.2</td>\n",
       "    </tr>\n",
       "    <tr>\n",
       "      <th>2</th>\n",
       "      <td>John</td>\n",
       "      <td>Geography</td>\n",
       "      <td>3.0</td>\n",
       "    </tr>\n",
       "    <tr>\n",
       "      <th>3</th>\n",
       "      <td>Mat</td>\n",
       "      <td>Physics</td>\n",
       "      <td>2.7</td>\n",
       "    </tr>\n",
       "  </tbody>\n",
       "</table>\n",
       "</div>"
      ],
      "text/plain": [
       "   name      major  GPA\n",
       "0   Jay       Math  3.4\n",
       "1   Sam         CS  3.2\n",
       "2  John  Geography  3.0\n",
       "3   Mat    Physics  2.7"
      ]
     },
     "execution_count": 27,
     "metadata": {},
     "output_type": "execute_result"
    }
   ],
   "source": [
    "frame"
   ]
  },
  {
   "cell_type": "markdown",
   "id": "f367ea60-ab02-4c3a-9422-dab4d27f8fbe",
   "metadata": {},
   "source": [
    "Similarly to Series DataFrame also has index"
   ]
  },
  {
   "cell_type": "code",
   "execution_count": 28,
   "id": "acf4f96c-0dd7-4a67-a967-ccd9b9a11021",
   "metadata": {},
   "outputs": [
    {
     "data": {
      "text/plain": [
       "RangeIndex(start=0, stop=4, step=1)"
      ]
     },
     "execution_count": 28,
     "metadata": {},
     "output_type": "execute_result"
    }
   ],
   "source": [
    "frame.index"
   ]
  },
  {
   "cell_type": "code",
   "execution_count": 29,
   "id": "86b4918d-b81a-4a7d-83ce-b985d447c513",
   "metadata": {},
   "outputs": [
    {
     "data": {
      "text/plain": [
       "array([0, 1, 2, 3], dtype=int64)"
      ]
     },
     "execution_count": 29,
     "metadata": {},
     "output_type": "execute_result"
    }
   ],
   "source": [
    "frame.index.values"
   ]
  },
  {
   "cell_type": "markdown",
   "id": "eb8a96f9-3d0d-47c3-80d4-7997e08b5b69",
   "metadata": {},
   "source": [
    "To see all the columns in database you can use the column attribute"
   ]
  },
  {
   "cell_type": "code",
   "execution_count": 30,
   "id": "dd87c1ce-c525-418c-adcf-5b990b89a7a7",
   "metadata": {},
   "outputs": [
    {
     "data": {
      "text/plain": [
       "Index(['name', 'major', 'GPA'], dtype='object')"
      ]
     },
     "execution_count": 30,
     "metadata": {},
     "output_type": "execute_result"
    }
   ],
   "source": [
    "frame.columns"
   ]
  },
  {
   "cell_type": "code",
   "execution_count": 31,
   "id": "5ac4c0e7-170e-4b91-be9d-e8e09ed3a8a7",
   "metadata": {},
   "outputs": [
    {
     "data": {
      "text/plain": [
       "array(['name', 'major', 'GPA'], dtype=object)"
      ]
     },
     "execution_count": 31,
     "metadata": {},
     "output_type": "execute_result"
    }
   ],
   "source": [
    "frame.columns.values"
   ]
  },
  {
   "cell_type": "markdown",
   "id": "0c96e461-66f4-4fad-bfe9-5d2807edb9e7",
   "metadata": {},
   "source": [
    "A column of data can be easily retrieved using the dictionary-like notation or by using the dot attribute notation"
   ]
  },
  {
   "cell_type": "code",
   "execution_count": 32,
   "id": "487d4b6b-fd00-40c6-bb51-8ab22d1f281a",
   "metadata": {},
   "outputs": [
    {
     "data": {
      "text/plain": [
       "0     Jay\n",
       "1     Sam\n",
       "2    John\n",
       "3     Mat\n",
       "Name: name, dtype: object"
      ]
     },
     "execution_count": 32,
     "metadata": {},
     "output_type": "execute_result"
    }
   ],
   "source": [
    "frame['name']"
   ]
  },
  {
   "cell_type": "markdown",
   "id": "b74648b2-ee42-4e53-9b93-4a8a8b5fe653",
   "metadata": {},
   "source": [
    "You can also select multiple columns"
   ]
  },
  {
   "cell_type": "code",
   "execution_count": 33,
   "id": "8b913bb0-26e4-4dcf-9c2f-efbadceb36c4",
   "metadata": {},
   "outputs": [
    {
     "data": {
      "text/html": [
       "<div>\n",
       "<style scoped>\n",
       "    .dataframe tbody tr th:only-of-type {\n",
       "        vertical-align: middle;\n",
       "    }\n",
       "\n",
       "    .dataframe tbody tr th {\n",
       "        vertical-align: top;\n",
       "    }\n",
       "\n",
       "    .dataframe thead th {\n",
       "        text-align: right;\n",
       "    }\n",
       "</style>\n",
       "<table border=\"1\" class=\"dataframe\">\n",
       "  <thead>\n",
       "    <tr style=\"text-align: right;\">\n",
       "      <th></th>\n",
       "      <th>name</th>\n",
       "      <th>major</th>\n",
       "    </tr>\n",
       "  </thead>\n",
       "  <tbody>\n",
       "    <tr>\n",
       "      <th>0</th>\n",
       "      <td>Jay</td>\n",
       "      <td>Math</td>\n",
       "    </tr>\n",
       "    <tr>\n",
       "      <th>1</th>\n",
       "      <td>Sam</td>\n",
       "      <td>CS</td>\n",
       "    </tr>\n",
       "    <tr>\n",
       "      <th>2</th>\n",
       "      <td>John</td>\n",
       "      <td>Geography</td>\n",
       "    </tr>\n",
       "    <tr>\n",
       "      <th>3</th>\n",
       "      <td>Mat</td>\n",
       "      <td>Physics</td>\n",
       "    </tr>\n",
       "  </tbody>\n",
       "</table>\n",
       "</div>"
      ],
      "text/plain": [
       "   name      major\n",
       "0   Jay       Math\n",
       "1   Sam         CS\n",
       "2  John  Geography\n",
       "3   Mat    Physics"
      ]
     },
     "execution_count": 33,
     "metadata": {},
     "output_type": "execute_result"
    }
   ],
   "source": [
    "frame[['name','major']]"
   ]
  },
  {
   "cell_type": "code",
   "execution_count": 34,
   "id": "32733509-ea34-435a-8654-42c6d541a0bb",
   "metadata": {},
   "outputs": [
    {
     "data": {
      "text/plain": [
       "0     Jay\n",
       "1     Sam\n",
       "2    John\n",
       "3     Mat\n",
       "Name: name, dtype: object"
      ]
     },
     "execution_count": 34,
     "metadata": {},
     "output_type": "execute_result"
    }
   ],
   "source": [
    "frame.name"
   ]
  },
  {
   "cell_type": "markdown",
   "id": "2e6e4ade-5a9c-476c-a436-5c10015679b3",
   "metadata": {},
   "source": [
    "#### DataFrame Properties"
   ]
  },
  {
   "cell_type": "markdown",
   "id": "e1056c9a-56bc-4aaf-82ea-05641a7606f9",
   "metadata": {},
   "source": [
    "You can check the total number of rows in a DataFrame using the len() function as well as shape attribute. The shape attribute provides a tuple which shows the total number of rows and columns."
   ]
  },
  {
   "cell_type": "code",
   "execution_count": 35,
   "id": "00000373-3c2b-431b-9ff7-46fa0f0c2cc9",
   "metadata": {},
   "outputs": [
    {
     "name": "stdout",
     "output_type": "stream",
     "text": [
      "4\n",
      "(4, 3)\n"
     ]
    }
   ],
   "source": [
    "data = [['Jay','Math',3.4],['Sam','CS',3.2],['John','Geography',3.0],['Mat','Physics',2.7]]\n",
    "frame = pd.DataFrame(data,columns = ['name','major','GPA'])\n",
    "print (len(frame))\n",
    "print (frame.shape)"
   ]
  },
  {
   "cell_type": "markdown",
   "id": "54a7a36b-9259-4b13-9c5b-16a0ab7ef1cc",
   "metadata": {},
   "source": [
    "You can check the datatype of each columns using the dtypes attribute"
   ]
  },
  {
   "cell_type": "code",
   "execution_count": 37,
   "id": "3d86e2c4-c94c-4a22-8b56-9687c1f2f417",
   "metadata": {},
   "outputs": [
    {
     "name": "stdout",
     "output_type": "stream",
     "text": [
      "name      object\n",
      "major     object\n",
      "GPA      float64\n",
      "dtype: object\n"
     ]
    }
   ],
   "source": [
    "print (frame.dtypes)"
   ]
  },
  {
   "cell_type": "markdown",
   "id": "ad121559-cb95-4aad-92f7-d5e900deae6b",
   "metadata": {},
   "source": [
    "As you can see since name and major are strings they are stored as objects and since GPA is a number its stored as a float"
   ]
  },
  {
   "cell_type": "markdown",
   "id": "41c025a8-5850-458b-9712-a39e2701ba69",
   "metadata": {},
   "source": [
    "#### Adding a new column to a DataFrame"
   ]
  },
  {
   "cell_type": "markdown",
   "id": "3fc0a84b-7781-4a97-8952-f0e2f6137ba5",
   "metadata": {},
   "source": [
    "You can add a new column to a dataframe and initialize it with a default value using an assignment operator."
   ]
  },
  {
   "cell_type": "code",
   "execution_count": 38,
   "id": "3469d0c3-ac41-47a1-8aef-855944f6fff7",
   "metadata": {},
   "outputs": [
    {
     "data": {
      "text/html": [
       "<div>\n",
       "<style scoped>\n",
       "    .dataframe tbody tr th:only-of-type {\n",
       "        vertical-align: middle;\n",
       "    }\n",
       "\n",
       "    .dataframe tbody tr th {\n",
       "        vertical-align: top;\n",
       "    }\n",
       "\n",
       "    .dataframe thead th {\n",
       "        text-align: right;\n",
       "    }\n",
       "</style>\n",
       "<table border=\"1\" class=\"dataframe\">\n",
       "  <thead>\n",
       "    <tr style=\"text-align: right;\">\n",
       "      <th></th>\n",
       "      <th>name</th>\n",
       "      <th>major</th>\n",
       "      <th>GPA</th>\n",
       "      <th>vaccinated</th>\n",
       "    </tr>\n",
       "  </thead>\n",
       "  <tbody>\n",
       "    <tr>\n",
       "      <th>0</th>\n",
       "      <td>Jay</td>\n",
       "      <td>Math</td>\n",
       "      <td>3.4</td>\n",
       "      <td>False</td>\n",
       "    </tr>\n",
       "    <tr>\n",
       "      <th>1</th>\n",
       "      <td>Sam</td>\n",
       "      <td>CS</td>\n",
       "      <td>3.2</td>\n",
       "      <td>False</td>\n",
       "    </tr>\n",
       "    <tr>\n",
       "      <th>2</th>\n",
       "      <td>John</td>\n",
       "      <td>Geography</td>\n",
       "      <td>3.0</td>\n",
       "      <td>False</td>\n",
       "    </tr>\n",
       "    <tr>\n",
       "      <th>3</th>\n",
       "      <td>Mat</td>\n",
       "      <td>Physics</td>\n",
       "      <td>2.7</td>\n",
       "      <td>False</td>\n",
       "    </tr>\n",
       "  </tbody>\n",
       "</table>\n",
       "</div>"
      ],
      "text/plain": [
       "   name      major  GPA  vaccinated\n",
       "0   Jay       Math  3.4       False\n",
       "1   Sam         CS  3.2       False\n",
       "2  John  Geography  3.0       False\n",
       "3   Mat    Physics  2.7       False"
      ]
     },
     "execution_count": 38,
     "metadata": {},
     "output_type": "execute_result"
    }
   ],
   "source": [
    "data = {\"name\": ['Jay','Sam','John','Mat'],\n",
    "        \"major\": ['Math','CS','Geography','Physics'],\n",
    "        \"GPA\": [3.4, 3.2, 3.0, 2.7]}\n",
    "frame = pd.DataFrame(data)\n",
    "\n",
    "#add a new column vaccinated with default value as False to this dataframe\n",
    "frame['vaccinated'] = False\n",
    "frame"
   ]
  },
  {
   "cell_type": "markdown",
   "id": "74f954cc-2e90-465e-b923-94a19b284320",
   "metadata": {},
   "source": [
    "If we already have a list or series containing the necessary values for a new column we can use that directly. "
   ]
  },
  {
   "cell_type": "code",
   "execution_count": 39,
   "id": "06b16527-8b12-49df-a645-46c023616aff",
   "metadata": {},
   "outputs": [
    {
     "data": {
      "text/html": [
       "<div>\n",
       "<style scoped>\n",
       "    .dataframe tbody tr th:only-of-type {\n",
       "        vertical-align: middle;\n",
       "    }\n",
       "\n",
       "    .dataframe tbody tr th {\n",
       "        vertical-align: top;\n",
       "    }\n",
       "\n",
       "    .dataframe thead th {\n",
       "        text-align: right;\n",
       "    }\n",
       "</style>\n",
       "<table border=\"1\" class=\"dataframe\">\n",
       "  <thead>\n",
       "    <tr style=\"text-align: right;\">\n",
       "      <th></th>\n",
       "      <th>name</th>\n",
       "      <th>major</th>\n",
       "      <th>GPA</th>\n",
       "      <th>vaccinated</th>\n",
       "    </tr>\n",
       "  </thead>\n",
       "  <tbody>\n",
       "    <tr>\n",
       "      <th>0</th>\n",
       "      <td>Jay</td>\n",
       "      <td>Math</td>\n",
       "      <td>3.4</td>\n",
       "      <td>True</td>\n",
       "    </tr>\n",
       "    <tr>\n",
       "      <th>1</th>\n",
       "      <td>Sam</td>\n",
       "      <td>CS</td>\n",
       "      <td>3.2</td>\n",
       "      <td>True</td>\n",
       "    </tr>\n",
       "    <tr>\n",
       "      <th>2</th>\n",
       "      <td>John</td>\n",
       "      <td>Geography</td>\n",
       "      <td>3.0</td>\n",
       "      <td>True</td>\n",
       "    </tr>\n",
       "    <tr>\n",
       "      <th>3</th>\n",
       "      <td>Mat</td>\n",
       "      <td>Physics</td>\n",
       "      <td>2.7</td>\n",
       "      <td>False</td>\n",
       "    </tr>\n",
       "  </tbody>\n",
       "</table>\n",
       "</div>"
      ],
      "text/plain": [
       "   name      major  GPA  vaccinated\n",
       "0   Jay       Math  3.4        True\n",
       "1   Sam         CS  3.2        True\n",
       "2  John  Geography  3.0        True\n",
       "3   Mat    Physics  2.7       False"
      ]
     },
     "execution_count": 39,
     "metadata": {},
     "output_type": "execute_result"
    }
   ],
   "source": [
    "vaccinated = [True, True, True, False]\n",
    "frame['vaccinated'] = vaccinated\n",
    "frame"
   ]
  },
  {
   "cell_type": "markdown",
   "id": "43f3bf6b-1b8a-423b-9b4a-46c45a1b3813",
   "metadata": {},
   "source": [
    "#### Creating a new column based on an existing column"
   ]
  },
  {
   "cell_type": "code",
   "execution_count": 40,
   "id": "f26537b8-cae8-42b0-a681-ca46cd82fb73",
   "metadata": {},
   "outputs": [
    {
     "name": "stdout",
     "output_type": "stream",
     "text": [
      "   name      major  GPA  vaccinated  GPA_perc\n",
      "0   Jay       Math  3.4        True      85.0\n",
      "1   Sam         CS  3.2        True      80.0\n",
      "2  John  Geography  3.0        True      75.0\n",
      "3   Mat    Physics  2.7       False      67.5\n"
     ]
    }
   ],
   "source": [
    "frame['GPA_perc'] = (frame['GPA']/4.0)*100.0\n",
    "print (frame)"
   ]
  },
  {
   "cell_type": "markdown",
   "id": "ee29363b-d8ad-4c4a-b2b9-d96e3469e964",
   "metadata": {},
   "source": [
    "#### Dropping and renaming columns"
   ]
  },
  {
   "cell_type": "markdown",
   "id": "7d1e276c-d556-44bb-b7fe-5eebdd4c7330",
   "metadata": {},
   "source": [
    "You can drop existing columns using drop method."
   ]
  },
  {
   "cell_type": "code",
   "execution_count": 41,
   "id": "ef2caed6-5663-43d3-a28c-d0d8682a439b",
   "metadata": {},
   "outputs": [
    {
     "name": "stdout",
     "output_type": "stream",
     "text": [
      "   name      major  GPA  vaccinated  GPA_perc\n",
      "0   Jay       Math  3.4        True      85.0\n",
      "1   Sam         CS  3.2        True      80.0\n",
      "2  John  Geography  3.0        True      75.0\n",
      "3   Mat    Physics  2.7       False      67.5\n"
     ]
    }
   ],
   "source": [
    "frame.drop(columns=['GPA_perc'])\n",
    "print (frame)"
   ]
  },
  {
   "cell_type": "markdown",
   "id": "e8f63f48-8142-4338-89c0-6f462d21485b",
   "metadata": {},
   "source": [
    "What happened there. The GPA_perc column is still there. In order to permanently remove the column you can set the parameter inplace to True"
   ]
  },
  {
   "cell_type": "code",
   "execution_count": 42,
   "id": "c34dedb5-71d9-452a-9427-a2bd730d28d4",
   "metadata": {},
   "outputs": [
    {
     "name": "stdout",
     "output_type": "stream",
     "text": [
      "   name      major  GPA  vaccinated\n",
      "0   Jay       Math  3.4        True\n",
      "1   Sam         CS  3.2        True\n",
      "2  John  Geography  3.0        True\n",
      "3   Mat    Physics  2.7       False\n"
     ]
    }
   ],
   "source": [
    "frame.drop(columns=['GPA_perc'],inplace=True)\n",
    "print (frame)"
   ]
  },
  {
   "cell_type": "markdown",
   "id": "ce02b934-c3c8-4756-bcd3-91f555d11978",
   "metadata": {},
   "source": [
    "We can rename a column using the rename() method"
   ]
  },
  {
   "cell_type": "code",
   "execution_count": 43,
   "id": "15f1bf50-53ed-4e20-b486-823e4579370b",
   "metadata": {},
   "outputs": [
    {
     "name": "stdout",
     "output_type": "stream",
     "text": [
      "   name      major  GPA  isVaccinated\n",
      "0   Jay       Math  3.4          True\n",
      "1   Sam         CS  3.2          True\n",
      "2  John  Geography  3.0          True\n",
      "3   Mat    Physics  2.7         False\n"
     ]
    }
   ],
   "source": [
    "frame.rename(columns={'vaccinated':'isVaccinated'},inplace=True)\n",
    "print (frame)"
   ]
  },
  {
   "cell_type": "markdown",
   "id": "c5638602-f3df-4fcb-b3ff-c9fa0252f107",
   "metadata": {},
   "source": [
    "#### Removing rows using indexes"
   ]
  },
  {
   "cell_type": "markdown",
   "id": "3866a5c6-c7ce-4d7c-a4d4-ceab6c1425d1",
   "metadata": {},
   "source": [
    "Let us create a new DataFrame"
   ]
  },
  {
   "cell_type": "code",
   "execution_count": 44,
   "id": "8aeba3e9-aa39-483c-95ba-8d3346d760b8",
   "metadata": {},
   "outputs": [
    {
     "data": {
      "text/html": [
       "<div>\n",
       "<style scoped>\n",
       "    .dataframe tbody tr th:only-of-type {\n",
       "        vertical-align: middle;\n",
       "    }\n",
       "\n",
       "    .dataframe tbody tr th {\n",
       "        vertical-align: top;\n",
       "    }\n",
       "\n",
       "    .dataframe thead th {\n",
       "        text-align: right;\n",
       "    }\n",
       "</style>\n",
       "<table border=\"1\" class=\"dataframe\">\n",
       "  <thead>\n",
       "    <tr style=\"text-align: right;\">\n",
       "      <th></th>\n",
       "      <th>one</th>\n",
       "      <th>two</th>\n",
       "      <th>three</th>\n",
       "      <th>four</th>\n",
       "    </tr>\n",
       "  </thead>\n",
       "  <tbody>\n",
       "    <tr>\n",
       "      <th>Ohio</th>\n",
       "      <td>0</td>\n",
       "      <td>1</td>\n",
       "      <td>2</td>\n",
       "      <td>3</td>\n",
       "    </tr>\n",
       "    <tr>\n",
       "      <th>Colorado</th>\n",
       "      <td>4</td>\n",
       "      <td>5</td>\n",
       "      <td>6</td>\n",
       "      <td>7</td>\n",
       "    </tr>\n",
       "    <tr>\n",
       "      <th>Utah</th>\n",
       "      <td>8</td>\n",
       "      <td>9</td>\n",
       "      <td>10</td>\n",
       "      <td>11</td>\n",
       "    </tr>\n",
       "    <tr>\n",
       "      <th>New York</th>\n",
       "      <td>12</td>\n",
       "      <td>13</td>\n",
       "      <td>14</td>\n",
       "      <td>15</td>\n",
       "    </tr>\n",
       "  </tbody>\n",
       "</table>\n",
       "</div>"
      ],
      "text/plain": [
       "          one  two  three  four\n",
       "Ohio        0    1      2     3\n",
       "Colorado    4    5      6     7\n",
       "Utah        8    9     10    11\n",
       "New York   12   13     14    15"
      ]
     },
     "execution_count": 44,
     "metadata": {},
     "output_type": "execute_result"
    }
   ],
   "source": [
    "data = pd.DataFrame(np.arange(16).reshape((4, 4)),index=[\"Ohio\", \"Colorado\", \"Utah\", \"New York\"],columns=[\"one\", \"two\", \"three\", \"four\"])\n",
    "data"
   ]
  },
  {
   "cell_type": "code",
   "execution_count": 45,
   "id": "a424e40f-7bc5-4b3e-bf3f-e345244ae6ed",
   "metadata": {},
   "outputs": [
    {
     "name": "stdout",
     "output_type": "stream",
     "text": [
      "Index(['one', 'two', 'three', 'four'], dtype='object')\n",
      "Index(['Ohio', 'Colorado', 'Utah', 'New York'], dtype='object')\n"
     ]
    }
   ],
   "source": [
    "print (data.columns)\n",
    "print (data.index)"
   ]
  },
  {
   "cell_type": "code",
   "execution_count": 46,
   "id": "9aa29ea5-71a7-418c-8ed5-7b3c0d2b44e6",
   "metadata": {},
   "outputs": [
    {
     "data": {
      "text/html": [
       "<div>\n",
       "<style scoped>\n",
       "    .dataframe tbody tr th:only-of-type {\n",
       "        vertical-align: middle;\n",
       "    }\n",
       "\n",
       "    .dataframe tbody tr th {\n",
       "        vertical-align: top;\n",
       "    }\n",
       "\n",
       "    .dataframe thead th {\n",
       "        text-align: right;\n",
       "    }\n",
       "</style>\n",
       "<table border=\"1\" class=\"dataframe\">\n",
       "  <thead>\n",
       "    <tr style=\"text-align: right;\">\n",
       "      <th></th>\n",
       "      <th>one</th>\n",
       "      <th>two</th>\n",
       "      <th>three</th>\n",
       "      <th>four</th>\n",
       "    </tr>\n",
       "  </thead>\n",
       "  <tbody>\n",
       "    <tr>\n",
       "      <th>Utah</th>\n",
       "      <td>8</td>\n",
       "      <td>9</td>\n",
       "      <td>10</td>\n",
       "      <td>11</td>\n",
       "    </tr>\n",
       "    <tr>\n",
       "      <th>New York</th>\n",
       "      <td>12</td>\n",
       "      <td>13</td>\n",
       "      <td>14</td>\n",
       "      <td>15</td>\n",
       "    </tr>\n",
       "  </tbody>\n",
       "</table>\n",
       "</div>"
      ],
      "text/plain": [
       "          one  two  three  four\n",
       "Utah        8    9     10    11\n",
       "New York   12   13     14    15"
      ]
     },
     "execution_count": 46,
     "metadata": {},
     "output_type": "execute_result"
    }
   ],
   "source": [
    "data.drop(index=[\"Colorado\", \"Ohio\"],inplace=True)\n",
    "data"
   ]
  },
  {
   "cell_type": "markdown",
   "id": "d3050021-8fc5-4a61-9348-58eb224a9040",
   "metadata": {},
   "source": [
    "### Indexing, Selection, and Filtering"
   ]
  },
  {
   "cell_type": "markdown",
   "id": "cd7a41a9-0156-466b-a415-7f6c5e7a4b42",
   "metadata": {},
   "source": [
    "#### In Series"
   ]
  },
  {
   "cell_type": "markdown",
   "id": "4c38f1ea-568f-40aa-bd6e-f2c5f6d59fd0",
   "metadata": {},
   "source": [
    "Let us create a sample Series"
   ]
  },
  {
   "cell_type": "code",
   "execution_count": 47,
   "id": "2c2b9240-35cf-4d25-9789-8d75c689864a",
   "metadata": {},
   "outputs": [
    {
     "data": {
      "text/plain": [
       "a    0.0\n",
       "b    1.0\n",
       "c    2.0\n",
       "d    3.0\n",
       "dtype: float64"
      ]
     },
     "execution_count": 47,
     "metadata": {},
     "output_type": "execute_result"
    }
   ],
   "source": [
    "obj = pd.Series(np.arange(4.), index=[\"a\", \"b\", \"c\", \"d\"])\n",
    "obj"
   ]
  },
  {
   "cell_type": "markdown",
   "id": "022e7f9b-f61f-4987-943b-1b5eb40ae81a",
   "metadata": {},
   "source": [
    "##### Selecting using loc and iloc operators"
   ]
  },
  {
   "cell_type": "markdown",
   "id": "1df86e5f-c1ea-433a-8376-619b004e5254",
   "metadata": {},
   "source": [
    "You can use index labels when using loc operator"
   ]
  },
  {
   "cell_type": "code",
   "execution_count": 49,
   "id": "7af65464-e1f8-46ef-a887-3d95f06f1fc7",
   "metadata": {},
   "outputs": [
    {
     "data": {
      "text/plain": [
       "a    0.0\n",
       "b    1.0\n",
       "dtype: float64"
      ]
     },
     "execution_count": 49,
     "metadata": {},
     "output_type": "execute_result"
    }
   ],
   "source": [
    "obj.loc[['a','b']]"
   ]
  },
  {
   "cell_type": "code",
   "execution_count": 50,
   "id": "1b31fc1f-1589-4fdd-9bee-e3221a96e642",
   "metadata": {},
   "outputs": [
    {
     "data": {
      "text/plain": [
       "0.0"
      ]
     },
     "execution_count": 50,
     "metadata": {},
     "output_type": "execute_result"
    }
   ],
   "source": [
    "obj.loc['a']"
   ]
  },
  {
   "cell_type": "markdown",
   "id": "cc494115-60be-49a4-ae34-51ef0b541fd9",
   "metadata": {},
   "source": [
    "But the code below will fail as the indexes are not numbers."
   ]
  },
  {
   "cell_type": "code",
   "execution_count": 51,
   "id": "6a0936fd-c553-4e99-ac64-c8b4a842a669",
   "metadata": {},
   "outputs": [
    {
     "ename": "KeyError",
     "evalue": "1",
     "output_type": "error",
     "traceback": [
      "\u001b[1;31m---------------------------------------------------------------------------\u001b[0m",
      "\u001b[1;31mKeyError\u001b[0m                                  Traceback (most recent call last)",
      "File \u001b[1;32mE:\\sbd\\lib\\site-packages\\pandas\\core\\indexes\\base.py:3621\u001b[0m, in \u001b[0;36mIndex.get_loc\u001b[1;34m(self, key, method, tolerance)\u001b[0m\n\u001b[0;32m   3620\u001b[0m \u001b[38;5;28;01mtry\u001b[39;00m:\n\u001b[1;32m-> 3621\u001b[0m     \u001b[38;5;28;01mreturn\u001b[39;00m \u001b[38;5;28;43mself\u001b[39;49m\u001b[38;5;241;43m.\u001b[39;49m\u001b[43m_engine\u001b[49m\u001b[38;5;241;43m.\u001b[39;49m\u001b[43mget_loc\u001b[49m\u001b[43m(\u001b[49m\u001b[43mcasted_key\u001b[49m\u001b[43m)\u001b[49m\n\u001b[0;32m   3622\u001b[0m \u001b[38;5;28;01mexcept\u001b[39;00m \u001b[38;5;167;01mKeyError\u001b[39;00m \u001b[38;5;28;01mas\u001b[39;00m err:\n",
      "File \u001b[1;32mE:\\sbd\\lib\\site-packages\\pandas\\_libs\\index.pyx:136\u001b[0m, in \u001b[0;36mpandas._libs.index.IndexEngine.get_loc\u001b[1;34m()\u001b[0m\n",
      "File \u001b[1;32mE:\\sbd\\lib\\site-packages\\pandas\\_libs\\index.pyx:163\u001b[0m, in \u001b[0;36mpandas._libs.index.IndexEngine.get_loc\u001b[1;34m()\u001b[0m\n",
      "File \u001b[1;32mpandas\\_libs\\hashtable_class_helper.pxi:5198\u001b[0m, in \u001b[0;36mpandas._libs.hashtable.PyObjectHashTable.get_item\u001b[1;34m()\u001b[0m\n",
      "File \u001b[1;32mpandas\\_libs\\hashtable_class_helper.pxi:5206\u001b[0m, in \u001b[0;36mpandas._libs.hashtable.PyObjectHashTable.get_item\u001b[1;34m()\u001b[0m\n",
      "\u001b[1;31mKeyError\u001b[0m: 1",
      "\nThe above exception was the direct cause of the following exception:\n",
      "\u001b[1;31mKeyError\u001b[0m                                  Traceback (most recent call last)",
      "Input \u001b[1;32mIn [51]\u001b[0m, in \u001b[0;36m<cell line: 1>\u001b[1;34m()\u001b[0m\n\u001b[1;32m----> 1\u001b[0m \u001b[43mobj\u001b[49m\u001b[38;5;241;43m.\u001b[39;49m\u001b[43mloc\u001b[49m\u001b[43m[\u001b[49m\u001b[38;5;241;43m1\u001b[39;49m\u001b[43m]\u001b[49m\n",
      "File \u001b[1;32mE:\\sbd\\lib\\site-packages\\pandas\\core\\indexing.py:967\u001b[0m, in \u001b[0;36m_LocationIndexer.__getitem__\u001b[1;34m(self, key)\u001b[0m\n\u001b[0;32m    964\u001b[0m axis \u001b[38;5;241m=\u001b[39m \u001b[38;5;28mself\u001b[39m\u001b[38;5;241m.\u001b[39maxis \u001b[38;5;129;01mor\u001b[39;00m \u001b[38;5;241m0\u001b[39m\n\u001b[0;32m    966\u001b[0m maybe_callable \u001b[38;5;241m=\u001b[39m com\u001b[38;5;241m.\u001b[39mapply_if_callable(key, \u001b[38;5;28mself\u001b[39m\u001b[38;5;241m.\u001b[39mobj)\n\u001b[1;32m--> 967\u001b[0m \u001b[38;5;28;01mreturn\u001b[39;00m \u001b[38;5;28;43mself\u001b[39;49m\u001b[38;5;241;43m.\u001b[39;49m\u001b[43m_getitem_axis\u001b[49m\u001b[43m(\u001b[49m\u001b[43mmaybe_callable\u001b[49m\u001b[43m,\u001b[49m\u001b[43m \u001b[49m\u001b[43maxis\u001b[49m\u001b[38;5;241;43m=\u001b[39;49m\u001b[43maxis\u001b[49m\u001b[43m)\u001b[49m\n",
      "File \u001b[1;32mE:\\sbd\\lib\\site-packages\\pandas\\core\\indexing.py:1202\u001b[0m, in \u001b[0;36m_LocIndexer._getitem_axis\u001b[1;34m(self, key, axis)\u001b[0m\n\u001b[0;32m   1200\u001b[0m \u001b[38;5;66;03m# fall thru to straight lookup\u001b[39;00m\n\u001b[0;32m   1201\u001b[0m \u001b[38;5;28mself\u001b[39m\u001b[38;5;241m.\u001b[39m_validate_key(key, axis)\n\u001b[1;32m-> 1202\u001b[0m \u001b[38;5;28;01mreturn\u001b[39;00m \u001b[38;5;28;43mself\u001b[39;49m\u001b[38;5;241;43m.\u001b[39;49m\u001b[43m_get_label\u001b[49m\u001b[43m(\u001b[49m\u001b[43mkey\u001b[49m\u001b[43m,\u001b[49m\u001b[43m \u001b[49m\u001b[43maxis\u001b[49m\u001b[38;5;241;43m=\u001b[39;49m\u001b[43maxis\u001b[49m\u001b[43m)\u001b[49m\n",
      "File \u001b[1;32mE:\\sbd\\lib\\site-packages\\pandas\\core\\indexing.py:1153\u001b[0m, in \u001b[0;36m_LocIndexer._get_label\u001b[1;34m(self, label, axis)\u001b[0m\n\u001b[0;32m   1151\u001b[0m \u001b[38;5;28;01mdef\u001b[39;00m \u001b[38;5;21m_get_label\u001b[39m(\u001b[38;5;28mself\u001b[39m, label, axis: \u001b[38;5;28mint\u001b[39m):\n\u001b[0;32m   1152\u001b[0m     \u001b[38;5;66;03m# GH#5667 this will fail if the label is not present in the axis.\u001b[39;00m\n\u001b[1;32m-> 1153\u001b[0m     \u001b[38;5;28;01mreturn\u001b[39;00m \u001b[38;5;28;43mself\u001b[39;49m\u001b[38;5;241;43m.\u001b[39;49m\u001b[43mobj\u001b[49m\u001b[38;5;241;43m.\u001b[39;49m\u001b[43mxs\u001b[49m\u001b[43m(\u001b[49m\u001b[43mlabel\u001b[49m\u001b[43m,\u001b[49m\u001b[43m \u001b[49m\u001b[43maxis\u001b[49m\u001b[38;5;241;43m=\u001b[39;49m\u001b[43maxis\u001b[49m\u001b[43m)\u001b[49m\n",
      "File \u001b[1;32mE:\\sbd\\lib\\site-packages\\pandas\\core\\generic.py:3864\u001b[0m, in \u001b[0;36mNDFrame.xs\u001b[1;34m(self, key, axis, level, drop_level)\u001b[0m\n\u001b[0;32m   3862\u001b[0m             new_index \u001b[38;5;241m=\u001b[39m index[loc]\n\u001b[0;32m   3863\u001b[0m \u001b[38;5;28;01melse\u001b[39;00m:\n\u001b[1;32m-> 3864\u001b[0m     loc \u001b[38;5;241m=\u001b[39m \u001b[43mindex\u001b[49m\u001b[38;5;241;43m.\u001b[39;49m\u001b[43mget_loc\u001b[49m\u001b[43m(\u001b[49m\u001b[43mkey\u001b[49m\u001b[43m)\u001b[49m\n\u001b[0;32m   3866\u001b[0m     \u001b[38;5;28;01mif\u001b[39;00m \u001b[38;5;28misinstance\u001b[39m(loc, np\u001b[38;5;241m.\u001b[39mndarray):\n\u001b[0;32m   3867\u001b[0m         \u001b[38;5;28;01mif\u001b[39;00m loc\u001b[38;5;241m.\u001b[39mdtype \u001b[38;5;241m==\u001b[39m np\u001b[38;5;241m.\u001b[39mbool_:\n",
      "File \u001b[1;32mE:\\sbd\\lib\\site-packages\\pandas\\core\\indexes\\base.py:3623\u001b[0m, in \u001b[0;36mIndex.get_loc\u001b[1;34m(self, key, method, tolerance)\u001b[0m\n\u001b[0;32m   3621\u001b[0m     \u001b[38;5;28;01mreturn\u001b[39;00m \u001b[38;5;28mself\u001b[39m\u001b[38;5;241m.\u001b[39m_engine\u001b[38;5;241m.\u001b[39mget_loc(casted_key)\n\u001b[0;32m   3622\u001b[0m \u001b[38;5;28;01mexcept\u001b[39;00m \u001b[38;5;167;01mKeyError\u001b[39;00m \u001b[38;5;28;01mas\u001b[39;00m err:\n\u001b[1;32m-> 3623\u001b[0m     \u001b[38;5;28;01mraise\u001b[39;00m \u001b[38;5;167;01mKeyError\u001b[39;00m(key) \u001b[38;5;28;01mfrom\u001b[39;00m \u001b[38;5;21;01merr\u001b[39;00m\n\u001b[0;32m   3624\u001b[0m \u001b[38;5;28;01mexcept\u001b[39;00m \u001b[38;5;167;01mTypeError\u001b[39;00m:\n\u001b[0;32m   3625\u001b[0m     \u001b[38;5;66;03m# If we have a listlike key, _check_indexing_error will raise\u001b[39;00m\n\u001b[0;32m   3626\u001b[0m     \u001b[38;5;66;03m#  InvalidIndexError. Otherwise we fall through and re-raise\u001b[39;00m\n\u001b[0;32m   3627\u001b[0m     \u001b[38;5;66;03m#  the TypeError.\u001b[39;00m\n\u001b[0;32m   3628\u001b[0m     \u001b[38;5;28mself\u001b[39m\u001b[38;5;241m.\u001b[39m_check_indexing_error(key)\n",
      "\u001b[1;31mKeyError\u001b[0m: 1"
     ]
    }
   ],
   "source": [
    "obj.loc[1] #this will fail"
   ]
  },
  {
   "cell_type": "markdown",
   "id": "941ccdff-d5f4-4f58-9cf3-52ee6daeb1eb",
   "metadata": {},
   "source": [
    "But we can also use iloc which accepts integers only. "
   ]
  },
  {
   "cell_type": "code",
   "execution_count": 52,
   "id": "6cde4339-439e-45a1-8d50-72c0f49f3a3a",
   "metadata": {},
   "outputs": [
    {
     "data": {
      "text/plain": [
       "1.0"
      ]
     },
     "execution_count": 52,
     "metadata": {},
     "output_type": "execute_result"
    }
   ],
   "source": [
    "obj.iloc[1] #this will select the second value"
   ]
  },
  {
   "cell_type": "code",
   "execution_count": 53,
   "id": "4334968c-d1fb-4862-bddb-442147ab4a64",
   "metadata": {},
   "outputs": [
    {
     "data": {
      "text/plain": [
       "a    0.0\n",
       "b    1.0\n",
       "dtype: float64"
      ]
     },
     "execution_count": 53,
     "metadata": {},
     "output_type": "execute_result"
    }
   ],
   "source": [
    "obj.iloc[0:2]  #supports slicing"
   ]
  },
  {
   "cell_type": "markdown",
   "id": "39d5f9b8-5a63-4768-841f-ea4b4fe3d87e",
   "metadata": {},
   "source": [
    ".loc also supports slicing with labels"
   ]
  },
  {
   "cell_type": "code",
   "execution_count": 54,
   "id": "86e91830-ab49-40f6-965d-c2b2df12e352",
   "metadata": {},
   "outputs": [
    {
     "data": {
      "text/plain": [
       "b    1.0\n",
       "c    2.0\n",
       "dtype: float64"
      ]
     },
     "execution_count": 54,
     "metadata": {},
     "output_type": "execute_result"
    }
   ],
   "source": [
    "obj.loc[\"b\":\"c\"]"
   ]
  },
  {
   "cell_type": "markdown",
   "id": "287ab018-37d9-487c-9d33-ab2318a5c975",
   "metadata": {},
   "source": [
    "Assigning values to existing series using iloc and loc"
   ]
  },
  {
   "cell_type": "code",
   "execution_count": 55,
   "id": "ea078cb9-d4e1-4f68-bde3-569397e20cbd",
   "metadata": {},
   "outputs": [
    {
     "data": {
      "text/plain": [
       "a    0.0\n",
       "b    5.0\n",
       "c    5.0\n",
       "d    3.0\n",
       "dtype: float64"
      ]
     },
     "execution_count": 55,
     "metadata": {},
     "output_type": "execute_result"
    }
   ],
   "source": [
    "obj.loc[\"b\":\"c\"] = 5\n",
    "obj"
   ]
  },
  {
   "cell_type": "code",
   "execution_count": 56,
   "id": "773a741e-9bc4-41b3-9ff3-1593fa22fd5b",
   "metadata": {},
   "outputs": [
    {
     "data": {
      "text/plain": [
       "a    2.0\n",
       "b    5.0\n",
       "c    5.0\n",
       "d    2.0\n",
       "dtype: float64"
      ]
     },
     "execution_count": 56,
     "metadata": {},
     "output_type": "execute_result"
    }
   ],
   "source": [
    "obj.iloc[[0,-1]] = 2\n",
    "obj"
   ]
  },
  {
   "cell_type": "markdown",
   "id": "627fe630-5452-48a1-830f-07e363612387",
   "metadata": {},
   "source": [
    "#### In DataFrame"
   ]
  },
  {
   "cell_type": "markdown",
   "id": "126decdf-8e69-4920-b6a9-cb3bafa658e8",
   "metadata": {},
   "source": [
    "Let us create a sample DataFrame"
   ]
  },
  {
   "cell_type": "code",
   "execution_count": 57,
   "id": "2305c9a1-fc95-4f3d-8bfc-fbc94f20bf74",
   "metadata": {},
   "outputs": [
    {
     "data": {
      "text/html": [
       "<div>\n",
       "<style scoped>\n",
       "    .dataframe tbody tr th:only-of-type {\n",
       "        vertical-align: middle;\n",
       "    }\n",
       "\n",
       "    .dataframe tbody tr th {\n",
       "        vertical-align: top;\n",
       "    }\n",
       "\n",
       "    .dataframe thead th {\n",
       "        text-align: right;\n",
       "    }\n",
       "</style>\n",
       "<table border=\"1\" class=\"dataframe\">\n",
       "  <thead>\n",
       "    <tr style=\"text-align: right;\">\n",
       "      <th></th>\n",
       "      <th>one</th>\n",
       "      <th>two</th>\n",
       "      <th>three</th>\n",
       "      <th>four</th>\n",
       "    </tr>\n",
       "  </thead>\n",
       "  <tbody>\n",
       "    <tr>\n",
       "      <th>Ohio</th>\n",
       "      <td>0</td>\n",
       "      <td>1</td>\n",
       "      <td>2</td>\n",
       "      <td>3</td>\n",
       "    </tr>\n",
       "    <tr>\n",
       "      <th>Colorado</th>\n",
       "      <td>4</td>\n",
       "      <td>5</td>\n",
       "      <td>6</td>\n",
       "      <td>7</td>\n",
       "    </tr>\n",
       "    <tr>\n",
       "      <th>Utah</th>\n",
       "      <td>8</td>\n",
       "      <td>9</td>\n",
       "      <td>10</td>\n",
       "      <td>11</td>\n",
       "    </tr>\n",
       "    <tr>\n",
       "      <th>New York</th>\n",
       "      <td>12</td>\n",
       "      <td>13</td>\n",
       "      <td>14</td>\n",
       "      <td>15</td>\n",
       "    </tr>\n",
       "  </tbody>\n",
       "</table>\n",
       "</div>"
      ],
      "text/plain": [
       "          one  two  three  four\n",
       "Ohio        0    1      2     3\n",
       "Colorado    4    5      6     7\n",
       "Utah        8    9     10    11\n",
       "New York   12   13     14    15"
      ]
     },
     "execution_count": 57,
     "metadata": {},
     "output_type": "execute_result"
    }
   ],
   "source": [
    "data = pd.DataFrame(np.arange(16).reshape((4, 4)),index=[\"Ohio\", \"Colorado\", \"Utah\", \"New York\"],columns=[\"one\", \"two\", \"three\", \"four\"])\n",
    "data"
   ]
  },
  {
   "cell_type": "code",
   "execution_count": 58,
   "id": "c21b01a1-ad25-4891-abec-2dbac9dd9476",
   "metadata": {},
   "outputs": [
    {
     "data": {
      "text/plain": [
       "one      4\n",
       "two      5\n",
       "three    6\n",
       "four     7\n",
       "Name: Colorado, dtype: int32"
      ]
     },
     "execution_count": 58,
     "metadata": {},
     "output_type": "execute_result"
    }
   ],
   "source": [
    "data.loc[\"Colorado\"]"
   ]
  },
  {
   "cell_type": "code",
   "execution_count": 59,
   "id": "738c705d-1566-4bba-8fa9-09efaffca8ee",
   "metadata": {},
   "outputs": [
    {
     "data": {
      "text/html": [
       "<div>\n",
       "<style scoped>\n",
       "    .dataframe tbody tr th:only-of-type {\n",
       "        vertical-align: middle;\n",
       "    }\n",
       "\n",
       "    .dataframe tbody tr th {\n",
       "        vertical-align: top;\n",
       "    }\n",
       "\n",
       "    .dataframe thead th {\n",
       "        text-align: right;\n",
       "    }\n",
       "</style>\n",
       "<table border=\"1\" class=\"dataframe\">\n",
       "  <thead>\n",
       "    <tr style=\"text-align: right;\">\n",
       "      <th></th>\n",
       "      <th>one</th>\n",
       "      <th>two</th>\n",
       "      <th>three</th>\n",
       "      <th>four</th>\n",
       "    </tr>\n",
       "  </thead>\n",
       "  <tbody>\n",
       "    <tr>\n",
       "      <th>Colorado</th>\n",
       "      <td>4</td>\n",
       "      <td>5</td>\n",
       "      <td>6</td>\n",
       "      <td>7</td>\n",
       "    </tr>\n",
       "    <tr>\n",
       "      <th>Ohio</th>\n",
       "      <td>0</td>\n",
       "      <td>1</td>\n",
       "      <td>2</td>\n",
       "      <td>3</td>\n",
       "    </tr>\n",
       "  </tbody>\n",
       "</table>\n",
       "</div>"
      ],
      "text/plain": [
       "          one  two  three  four\n",
       "Colorado    4    5      6     7\n",
       "Ohio        0    1      2     3"
      ]
     },
     "execution_count": 59,
     "metadata": {},
     "output_type": "execute_result"
    }
   ],
   "source": [
    "data.loc[[\"Colorado\",\"Ohio\"]]"
   ]
  },
  {
   "cell_type": "markdown",
   "id": "1f188132-b437-4493-864a-0b12ce681bfc",
   "metadata": {},
   "source": [
    "Using loc you can do selections based on columns and indexes at the same time"
   ]
  },
  {
   "cell_type": "code",
   "execution_count": 60,
   "id": "9685a147-e25c-4d5c-bf37-68bdd3ee1703",
   "metadata": {},
   "outputs": [
    {
     "data": {
      "text/plain": [
       "two      5\n",
       "three    6\n",
       "Name: Colorado, dtype: int32"
      ]
     },
     "execution_count": 60,
     "metadata": {},
     "output_type": "execute_result"
    }
   ],
   "source": [
    "data.loc[\"Colorado\", [\"two\", \"three\"]]"
   ]
  },
  {
   "cell_type": "code",
   "execution_count": 61,
   "id": "7c2ac0b2-7680-41c3-8c63-198047babb70",
   "metadata": {},
   "outputs": [
    {
     "data": {
      "text/html": [
       "<div>\n",
       "<style scoped>\n",
       "    .dataframe tbody tr th:only-of-type {\n",
       "        vertical-align: middle;\n",
       "    }\n",
       "\n",
       "    .dataframe tbody tr th {\n",
       "        vertical-align: top;\n",
       "    }\n",
       "\n",
       "    .dataframe thead th {\n",
       "        text-align: right;\n",
       "    }\n",
       "</style>\n",
       "<table border=\"1\" class=\"dataframe\">\n",
       "  <thead>\n",
       "    <tr style=\"text-align: right;\">\n",
       "      <th></th>\n",
       "      <th>two</th>\n",
       "      <th>three</th>\n",
       "    </tr>\n",
       "  </thead>\n",
       "  <tbody>\n",
       "    <tr>\n",
       "      <th>Colorado</th>\n",
       "      <td>5</td>\n",
       "      <td>6</td>\n",
       "    </tr>\n",
       "    <tr>\n",
       "      <th>Ohio</th>\n",
       "      <td>1</td>\n",
       "      <td>2</td>\n",
       "    </tr>\n",
       "  </tbody>\n",
       "</table>\n",
       "</div>"
      ],
      "text/plain": [
       "          two  three\n",
       "Colorado    5      6\n",
       "Ohio        1      2"
      ]
     },
     "execution_count": 61,
     "metadata": {},
     "output_type": "execute_result"
    }
   ],
   "source": [
    "data.loc[[\"Colorado\",\"Ohio\"], [\"two\", \"three\"]]"
   ]
  },
  {
   "cell_type": "markdown",
   "id": "4fd82950-6593-4234-8a55-cdde82ff83ae",
   "metadata": {},
   "source": [
    "We can perform similar selections using iloc"
   ]
  },
  {
   "cell_type": "code",
   "execution_count": 63,
   "id": "dfabece7-a653-4eb4-9a59-15163dc06f61",
   "metadata": {},
   "outputs": [
    {
     "data": {
      "text/plain": [
       "one       8\n",
       "two       9\n",
       "three    10\n",
       "four     11\n",
       "Name: Utah, dtype: int32"
      ]
     },
     "execution_count": 63,
     "metadata": {},
     "output_type": "execute_result"
    }
   ],
   "source": [
    "data.iloc[2] #select the 3rd row"
   ]
  },
  {
   "cell_type": "code",
   "execution_count": 64,
   "id": "1415e16d-ef29-4814-895a-ce7a35ca3a51",
   "metadata": {},
   "outputs": [
    {
     "data": {
      "text/html": [
       "<div>\n",
       "<style scoped>\n",
       "    .dataframe tbody tr th:only-of-type {\n",
       "        vertical-align: middle;\n",
       "    }\n",
       "\n",
       "    .dataframe tbody tr th {\n",
       "        vertical-align: top;\n",
       "    }\n",
       "\n",
       "    .dataframe thead th {\n",
       "        text-align: right;\n",
       "    }\n",
       "</style>\n",
       "<table border=\"1\" class=\"dataframe\">\n",
       "  <thead>\n",
       "    <tr style=\"text-align: right;\">\n",
       "      <th></th>\n",
       "      <th>one</th>\n",
       "      <th>two</th>\n",
       "      <th>three</th>\n",
       "      <th>four</th>\n",
       "    </tr>\n",
       "  </thead>\n",
       "  <tbody>\n",
       "    <tr>\n",
       "      <th>Ohio</th>\n",
       "      <td>0</td>\n",
       "      <td>1</td>\n",
       "      <td>2</td>\n",
       "      <td>3</td>\n",
       "    </tr>\n",
       "    <tr>\n",
       "      <th>Colorado</th>\n",
       "      <td>4</td>\n",
       "      <td>5</td>\n",
       "      <td>6</td>\n",
       "      <td>7</td>\n",
       "    </tr>\n",
       "  </tbody>\n",
       "</table>\n",
       "</div>"
      ],
      "text/plain": [
       "          one  two  three  four\n",
       "Ohio        0    1      2     3\n",
       "Colorado    4    5      6     7"
      ]
     },
     "execution_count": 64,
     "metadata": {},
     "output_type": "execute_result"
    }
   ],
   "source": [
    "data.iloc[0:2] #select the first 2 rows"
   ]
  },
  {
   "cell_type": "code",
   "execution_count": 65,
   "id": "cfa2d9dd-23e9-4ef3-80fa-4fc253c8be18",
   "metadata": {},
   "outputs": [
    {
     "data": {
      "text/plain": [
       "Ohio        0\n",
       "Colorado    4\n",
       "Name: one, dtype: int32"
      ]
     },
     "execution_count": 65,
     "metadata": {},
     "output_type": "execute_result"
    }
   ],
   "source": [
    "data.iloc[0:2,0] #select the first 2 rows and first column"
   ]
  },
  {
   "cell_type": "code",
   "execution_count": 66,
   "id": "3c6d14fe-40d4-4eba-9f28-900c3b5d429c",
   "metadata": {},
   "outputs": [
    {
     "data": {
      "text/html": [
       "<div>\n",
       "<style scoped>\n",
       "    .dataframe tbody tr th:only-of-type {\n",
       "        vertical-align: middle;\n",
       "    }\n",
       "\n",
       "    .dataframe tbody tr th {\n",
       "        vertical-align: top;\n",
       "    }\n",
       "\n",
       "    .dataframe thead th {\n",
       "        text-align: right;\n",
       "    }\n",
       "</style>\n",
       "<table border=\"1\" class=\"dataframe\">\n",
       "  <thead>\n",
       "    <tr style=\"text-align: right;\">\n",
       "      <th></th>\n",
       "      <th>one</th>\n",
       "      <th>two</th>\n",
       "    </tr>\n",
       "  </thead>\n",
       "  <tbody>\n",
       "    <tr>\n",
       "      <th>Ohio</th>\n",
       "      <td>0</td>\n",
       "      <td>1</td>\n",
       "    </tr>\n",
       "    <tr>\n",
       "      <th>Colorado</th>\n",
       "      <td>4</td>\n",
       "      <td>5</td>\n",
       "    </tr>\n",
       "  </tbody>\n",
       "</table>\n",
       "</div>"
      ],
      "text/plain": [
       "          one  two\n",
       "Ohio        0    1\n",
       "Colorado    4    5"
      ]
     },
     "execution_count": 66,
     "metadata": {},
     "output_type": "execute_result"
    }
   ],
   "source": [
    "data.iloc[0:2,0:2] #select the first 2 rows and first two columns"
   ]
  },
  {
   "cell_type": "code",
   "execution_count": 67,
   "id": "45679d5d-498a-4912-961b-acc9bd4bf22c",
   "metadata": {},
   "outputs": [
    {
     "data": {
      "text/html": [
       "<div>\n",
       "<style scoped>\n",
       "    .dataframe tbody tr th:only-of-type {\n",
       "        vertical-align: middle;\n",
       "    }\n",
       "\n",
       "    .dataframe tbody tr th {\n",
       "        vertical-align: top;\n",
       "    }\n",
       "\n",
       "    .dataframe thead th {\n",
       "        text-align: right;\n",
       "    }\n",
       "</style>\n",
       "<table border=\"1\" class=\"dataframe\">\n",
       "  <thead>\n",
       "    <tr style=\"text-align: right;\">\n",
       "      <th></th>\n",
       "      <th>one</th>\n",
       "      <th>four</th>\n",
       "    </tr>\n",
       "  </thead>\n",
       "  <tbody>\n",
       "    <tr>\n",
       "      <th>Ohio</th>\n",
       "      <td>0</td>\n",
       "      <td>3</td>\n",
       "    </tr>\n",
       "    <tr>\n",
       "      <th>New York</th>\n",
       "      <td>12</td>\n",
       "      <td>15</td>\n",
       "    </tr>\n",
       "  </tbody>\n",
       "</table>\n",
       "</div>"
      ],
      "text/plain": [
       "          one  four\n",
       "Ohio        0     3\n",
       "New York   12    15"
      ]
     },
     "execution_count": 67,
     "metadata": {},
     "output_type": "execute_result"
    }
   ],
   "source": [
    "data.iloc[[0,-1],[0,-1]] #select the first and last row and column"
   ]
  },
  {
   "cell_type": "markdown",
   "id": "18352ce6-d1c9-4965-adfe-a42adf995110",
   "metadata": {},
   "source": [
    "You can also use .loc with boolean filters"
   ]
  },
  {
   "cell_type": "code",
   "execution_count": 68,
   "id": "87c9ea7e-33e7-4e23-9510-71a92b8eb70d",
   "metadata": {},
   "outputs": [
    {
     "data": {
      "text/html": [
       "<div>\n",
       "<style scoped>\n",
       "    .dataframe tbody tr th:only-of-type {\n",
       "        vertical-align: middle;\n",
       "    }\n",
       "\n",
       "    .dataframe tbody tr th {\n",
       "        vertical-align: top;\n",
       "    }\n",
       "\n",
       "    .dataframe thead th {\n",
       "        text-align: right;\n",
       "    }\n",
       "</style>\n",
       "<table border=\"1\" class=\"dataframe\">\n",
       "  <thead>\n",
       "    <tr style=\"text-align: right;\">\n",
       "      <th></th>\n",
       "      <th>one</th>\n",
       "      <th>two</th>\n",
       "      <th>three</th>\n",
       "      <th>four</th>\n",
       "    </tr>\n",
       "  </thead>\n",
       "  <tbody>\n",
       "    <tr>\n",
       "      <th>Ohio</th>\n",
       "      <td>0</td>\n",
       "      <td>1</td>\n",
       "      <td>2</td>\n",
       "      <td>3</td>\n",
       "    </tr>\n",
       "    <tr>\n",
       "      <th>Colorado</th>\n",
       "      <td>4</td>\n",
       "      <td>5</td>\n",
       "      <td>6</td>\n",
       "      <td>7</td>\n",
       "    </tr>\n",
       "    <tr>\n",
       "      <th>Utah</th>\n",
       "      <td>8</td>\n",
       "      <td>9</td>\n",
       "      <td>10</td>\n",
       "      <td>11</td>\n",
       "    </tr>\n",
       "    <tr>\n",
       "      <th>New York</th>\n",
       "      <td>12</td>\n",
       "      <td>13</td>\n",
       "      <td>14</td>\n",
       "      <td>15</td>\n",
       "    </tr>\n",
       "  </tbody>\n",
       "</table>\n",
       "</div>"
      ],
      "text/plain": [
       "          one  two  three  four\n",
       "Ohio        0    1      2     3\n",
       "Colorado    4    5      6     7\n",
       "Utah        8    9     10    11\n",
       "New York   12   13     14    15"
      ]
     },
     "execution_count": 68,
     "metadata": {},
     "output_type": "execute_result"
    }
   ],
   "source": [
    "data.loc[data.three >= 2]"
   ]
  },
  {
   "cell_type": "markdown",
   "id": "5bfc418c-c9c6-444b-8820-69d3080f7414",
   "metadata": {},
   "source": [
    "##### Manipulating values in a DataFrame using .loc and .iloc"
   ]
  },
  {
   "cell_type": "markdown",
   "id": "255a947e-1531-4d38-9b02-5786dfe82910",
   "metadata": {},
   "source": [
    "Let us use the same dataset"
   ]
  },
  {
   "cell_type": "code",
   "execution_count": 69,
   "id": "1205356f-248f-4c82-9c43-e27ec46efed0",
   "metadata": {},
   "outputs": [
    {
     "data": {
      "text/html": [
       "<div>\n",
       "<style scoped>\n",
       "    .dataframe tbody tr th:only-of-type {\n",
       "        vertical-align: middle;\n",
       "    }\n",
       "\n",
       "    .dataframe tbody tr th {\n",
       "        vertical-align: top;\n",
       "    }\n",
       "\n",
       "    .dataframe thead th {\n",
       "        text-align: right;\n",
       "    }\n",
       "</style>\n",
       "<table border=\"1\" class=\"dataframe\">\n",
       "  <thead>\n",
       "    <tr style=\"text-align: right;\">\n",
       "      <th></th>\n",
       "      <th>one</th>\n",
       "      <th>two</th>\n",
       "      <th>three</th>\n",
       "      <th>four</th>\n",
       "    </tr>\n",
       "  </thead>\n",
       "  <tbody>\n",
       "    <tr>\n",
       "      <th>Ohio</th>\n",
       "      <td>0</td>\n",
       "      <td>1</td>\n",
       "      <td>2</td>\n",
       "      <td>3</td>\n",
       "    </tr>\n",
       "    <tr>\n",
       "      <th>Colorado</th>\n",
       "      <td>4</td>\n",
       "      <td>5</td>\n",
       "      <td>6</td>\n",
       "      <td>7</td>\n",
       "    </tr>\n",
       "    <tr>\n",
       "      <th>Utah</th>\n",
       "      <td>8</td>\n",
       "      <td>9</td>\n",
       "      <td>10</td>\n",
       "      <td>11</td>\n",
       "    </tr>\n",
       "    <tr>\n",
       "      <th>New York</th>\n",
       "      <td>12</td>\n",
       "      <td>13</td>\n",
       "      <td>14</td>\n",
       "      <td>15</td>\n",
       "    </tr>\n",
       "  </tbody>\n",
       "</table>\n",
       "</div>"
      ],
      "text/plain": [
       "          one  two  three  four\n",
       "Ohio        0    1      2     3\n",
       "Colorado    4    5      6     7\n",
       "Utah        8    9     10    11\n",
       "New York   12   13     14    15"
      ]
     },
     "execution_count": 69,
     "metadata": {},
     "output_type": "execute_result"
    }
   ],
   "source": [
    "data = pd.DataFrame(np.arange(16).reshape((4, 4)),index=[\"Ohio\", \"Colorado\", \"Utah\", \"New York\"],columns=[\"one\", \"two\", \"three\", \"four\"])\n",
    "data"
   ]
  },
  {
   "cell_type": "markdown",
   "id": "2698fe64-419b-4136-880a-7b9edc523de7",
   "metadata": {},
   "source": [
    "What if we want to multiply the value by 100 for the column 'three' where the existing value is greater than or equal to 10"
   ]
  },
  {
   "cell_type": "code",
   "execution_count": 70,
   "id": "9ba9d114-70e1-419a-9dcb-044c651223b4",
   "metadata": {},
   "outputs": [
    {
     "data": {
      "text/html": [
       "<div>\n",
       "<style scoped>\n",
       "    .dataframe tbody tr th:only-of-type {\n",
       "        vertical-align: middle;\n",
       "    }\n",
       "\n",
       "    .dataframe tbody tr th {\n",
       "        vertical-align: top;\n",
       "    }\n",
       "\n",
       "    .dataframe thead th {\n",
       "        text-align: right;\n",
       "    }\n",
       "</style>\n",
       "<table border=\"1\" class=\"dataframe\">\n",
       "  <thead>\n",
       "    <tr style=\"text-align: right;\">\n",
       "      <th></th>\n",
       "      <th>one</th>\n",
       "      <th>two</th>\n",
       "      <th>three</th>\n",
       "      <th>four</th>\n",
       "    </tr>\n",
       "  </thead>\n",
       "  <tbody>\n",
       "    <tr>\n",
       "      <th>Ohio</th>\n",
       "      <td>0</td>\n",
       "      <td>1</td>\n",
       "      <td>2</td>\n",
       "      <td>3</td>\n",
       "    </tr>\n",
       "    <tr>\n",
       "      <th>Colorado</th>\n",
       "      <td>4</td>\n",
       "      <td>5</td>\n",
       "      <td>6</td>\n",
       "      <td>7</td>\n",
       "    </tr>\n",
       "    <tr>\n",
       "      <th>Utah</th>\n",
       "      <td>8</td>\n",
       "      <td>9</td>\n",
       "      <td>100</td>\n",
       "      <td>11</td>\n",
       "    </tr>\n",
       "    <tr>\n",
       "      <th>New York</th>\n",
       "      <td>12</td>\n",
       "      <td>13</td>\n",
       "      <td>140</td>\n",
       "      <td>15</td>\n",
       "    </tr>\n",
       "  </tbody>\n",
       "</table>\n",
       "</div>"
      ],
      "text/plain": [
       "          one  two  three  four\n",
       "Ohio        0    1      2     3\n",
       "Colorado    4    5      6     7\n",
       "Utah        8    9    100    11\n",
       "New York   12   13    140    15"
      ]
     },
     "execution_count": 70,
     "metadata": {},
     "output_type": "execute_result"
    }
   ],
   "source": [
    "data.loc[data['three']>=10,'three'] = data['three']*10\n",
    "data"
   ]
  },
  {
   "cell_type": "markdown",
   "id": "4174e5ab-cbda-4d33-84c4-7fde3f7d2068",
   "metadata": {},
   "source": [
    "### Performing operations with multiple Series and DataFrames"
   ]
  },
  {
   "cell_type": "markdown",
   "id": "aed02d3d-4f2f-4698-b365-e307ca4f0d02",
   "metadata": {},
   "source": [
    "Let us look at an example of adding two series objects"
   ]
  },
  {
   "cell_type": "code",
   "execution_count": 71,
   "id": "926fde92-55c7-4fe8-9087-0151b7a993ee",
   "metadata": {},
   "outputs": [
    {
     "name": "stdout",
     "output_type": "stream",
     "text": [
      "a    7.3\n",
      "c   -2.5\n",
      "d    3.4\n",
      "e    1.5\n",
      "dtype: float64\n",
      "a   -2.1\n",
      "c    3.6\n",
      "e   -1.5\n",
      "f    4.0\n",
      "g    3.1\n",
      "dtype: float64\n"
     ]
    }
   ],
   "source": [
    "s1 = pd.Series([7.3, -2.5, 3.4, 1.5], index=[\"a\", \"c\", \"d\", \"e\"])\n",
    "s2 = pd.Series([-2.1, 3.6, -1.5, 4, 3.1],index=[\"a\", \"c\", \"e\", \"f\", \"g\"])\n",
    "print (s1)\n",
    "print (s2)"
   ]
  },
  {
   "cell_type": "markdown",
   "id": "14244ca6-5698-4762-ab82-933aa27f60ed",
   "metadata": {},
   "source": [
    "As you can see there are some indexes that are not common to both the series (d,f,g)"
   ]
  },
  {
   "cell_type": "code",
   "execution_count": 72,
   "id": "376ddfa9-9664-422b-9de2-7faa28bc515c",
   "metadata": {},
   "outputs": [
    {
     "data": {
      "text/plain": [
       "a    5.2\n",
       "c    1.1\n",
       "d    NaN\n",
       "e    0.0\n",
       "f    NaN\n",
       "g    NaN\n",
       "dtype: float64"
      ]
     },
     "execution_count": 72,
     "metadata": {},
     "output_type": "execute_result"
    }
   ],
   "source": [
    "s1+s2"
   ]
  },
  {
   "cell_type": "markdown",
   "id": "b8405a16-5060-4e6a-ac70-4618ee60dd2f",
   "metadata": {},
   "source": [
    "We can also perform such computations with DataFrames"
   ]
  },
  {
   "cell_type": "code",
   "execution_count": 73,
   "id": "4a6fd04d-5244-4fd3-b533-7ce78df34864",
   "metadata": {},
   "outputs": [
    {
     "name": "stdout",
     "output_type": "stream",
     "text": [
      "            b    c    d\n",
      "Ohio      0.0  1.0  2.0\n",
      "Texas     3.0  4.0  5.0\n",
      "Colorado  6.0  7.0  8.0\n",
      "          b     d     e\n",
      "Utah    0.0   1.0   2.0\n",
      "Ohio    3.0   4.0   5.0\n",
      "Texas   6.0   7.0   8.0\n",
      "Oregon  9.0  10.0  11.0\n"
     ]
    }
   ],
   "source": [
    "df1 = pd.DataFrame(np.arange(9.).reshape((3, 3)), columns=list(\"bcd\"),index=[\"Ohio\", \"Texas\", \"Colorado\"])\n",
    "df2 = pd.DataFrame(np.arange(12.).reshape((4, 3)), columns=list(\"bde\"),index=[\"Utah\", \"Ohio\", \"Texas\", \"Oregon\"])\n",
    "print (df1)\n",
    "print (df2)"
   ]
  },
  {
   "cell_type": "markdown",
   "id": "a05eda52-3ed0-45a1-9074-43223ace9556",
   "metadata": {},
   "source": [
    "As you can see the rows 'Ohio' and 'Texas' and the columns 'b' and 'd' are common to both DataFrames. "
   ]
  },
  {
   "cell_type": "code",
   "execution_count": 74,
   "id": "91c1c342-7a8d-4270-b803-3749acd7a725",
   "metadata": {},
   "outputs": [
    {
     "data": {
      "text/html": [
       "<div>\n",
       "<style scoped>\n",
       "    .dataframe tbody tr th:only-of-type {\n",
       "        vertical-align: middle;\n",
       "    }\n",
       "\n",
       "    .dataframe tbody tr th {\n",
       "        vertical-align: top;\n",
       "    }\n",
       "\n",
       "    .dataframe thead th {\n",
       "        text-align: right;\n",
       "    }\n",
       "</style>\n",
       "<table border=\"1\" class=\"dataframe\">\n",
       "  <thead>\n",
       "    <tr style=\"text-align: right;\">\n",
       "      <th></th>\n",
       "      <th>b</th>\n",
       "      <th>c</th>\n",
       "      <th>d</th>\n",
       "      <th>e</th>\n",
       "    </tr>\n",
       "  </thead>\n",
       "  <tbody>\n",
       "    <tr>\n",
       "      <th>Colorado</th>\n",
       "      <td>NaN</td>\n",
       "      <td>NaN</td>\n",
       "      <td>NaN</td>\n",
       "      <td>NaN</td>\n",
       "    </tr>\n",
       "    <tr>\n",
       "      <th>Ohio</th>\n",
       "      <td>3.0</td>\n",
       "      <td>NaN</td>\n",
       "      <td>6.0</td>\n",
       "      <td>NaN</td>\n",
       "    </tr>\n",
       "    <tr>\n",
       "      <th>Oregon</th>\n",
       "      <td>NaN</td>\n",
       "      <td>NaN</td>\n",
       "      <td>NaN</td>\n",
       "      <td>NaN</td>\n",
       "    </tr>\n",
       "    <tr>\n",
       "      <th>Texas</th>\n",
       "      <td>9.0</td>\n",
       "      <td>NaN</td>\n",
       "      <td>12.0</td>\n",
       "      <td>NaN</td>\n",
       "    </tr>\n",
       "    <tr>\n",
       "      <th>Utah</th>\n",
       "      <td>NaN</td>\n",
       "      <td>NaN</td>\n",
       "      <td>NaN</td>\n",
       "      <td>NaN</td>\n",
       "    </tr>\n",
       "  </tbody>\n",
       "</table>\n",
       "</div>"
      ],
      "text/plain": [
       "            b   c     d   e\n",
       "Colorado  NaN NaN   NaN NaN\n",
       "Ohio      3.0 NaN   6.0 NaN\n",
       "Oregon    NaN NaN   NaN NaN\n",
       "Texas     9.0 NaN  12.0 NaN\n",
       "Utah      NaN NaN   NaN NaN"
      ]
     },
     "execution_count": 74,
     "metadata": {},
     "output_type": "execute_result"
    }
   ],
   "source": [
    "df1+df2"
   ]
  },
  {
   "cell_type": "markdown",
   "id": "a4722d1a-4af3-4110-94ef-b0096bf57096",
   "metadata": {},
   "source": [
    "If you rather want to substitute a value for any missing values in the operation you could use the add method with a fill_value parameter."
   ]
  },
  {
   "cell_type": "code",
   "execution_count": 75,
   "id": "fbf3c55b-975a-4156-a5b0-192a8db8d8aa",
   "metadata": {},
   "outputs": [
    {
     "data": {
      "text/html": [
       "<div>\n",
       "<style scoped>\n",
       "    .dataframe tbody tr th:only-of-type {\n",
       "        vertical-align: middle;\n",
       "    }\n",
       "\n",
       "    .dataframe tbody tr th {\n",
       "        vertical-align: top;\n",
       "    }\n",
       "\n",
       "    .dataframe thead th {\n",
       "        text-align: right;\n",
       "    }\n",
       "</style>\n",
       "<table border=\"1\" class=\"dataframe\">\n",
       "  <thead>\n",
       "    <tr style=\"text-align: right;\">\n",
       "      <th></th>\n",
       "      <th>b</th>\n",
       "      <th>c</th>\n",
       "      <th>d</th>\n",
       "      <th>e</th>\n",
       "    </tr>\n",
       "  </thead>\n",
       "  <tbody>\n",
       "    <tr>\n",
       "      <th>Colorado</th>\n",
       "      <td>6.0</td>\n",
       "      <td>7.0</td>\n",
       "      <td>8.0</td>\n",
       "      <td>NaN</td>\n",
       "    </tr>\n",
       "    <tr>\n",
       "      <th>Ohio</th>\n",
       "      <td>3.0</td>\n",
       "      <td>1.0</td>\n",
       "      <td>6.0</td>\n",
       "      <td>5.0</td>\n",
       "    </tr>\n",
       "    <tr>\n",
       "      <th>Oregon</th>\n",
       "      <td>9.0</td>\n",
       "      <td>NaN</td>\n",
       "      <td>10.0</td>\n",
       "      <td>11.0</td>\n",
       "    </tr>\n",
       "    <tr>\n",
       "      <th>Texas</th>\n",
       "      <td>9.0</td>\n",
       "      <td>4.0</td>\n",
       "      <td>12.0</td>\n",
       "      <td>8.0</td>\n",
       "    </tr>\n",
       "    <tr>\n",
       "      <th>Utah</th>\n",
       "      <td>0.0</td>\n",
       "      <td>NaN</td>\n",
       "      <td>1.0</td>\n",
       "      <td>2.0</td>\n",
       "    </tr>\n",
       "  </tbody>\n",
       "</table>\n",
       "</div>"
      ],
      "text/plain": [
       "            b    c     d     e\n",
       "Colorado  6.0  7.0   8.0   NaN\n",
       "Ohio      3.0  1.0   6.0   5.0\n",
       "Oregon    9.0  NaN  10.0  11.0\n",
       "Texas     9.0  4.0  12.0   8.0\n",
       "Utah      0.0  NaN   1.0   2.0"
      ]
     },
     "execution_count": 75,
     "metadata": {},
     "output_type": "execute_result"
    }
   ],
   "source": [
    "df1.add(df2, fill_value=0)"
   ]
  },
  {
   "cell_type": "markdown",
   "id": "cc3bb4d6-e31a-469b-ba33-0b5709ef37c1",
   "metadata": {},
   "source": [
    "### Applying functions to DataFrames/Series"
   ]
  },
  {
   "cell_type": "markdown",
   "id": "6350168b-0cde-487d-a36b-ecd20b796f6e",
   "metadata": {},
   "source": [
    "You can apply functions to DataFrames and Series using the apply() method. Let us see a simple example of applying a function to Series"
   ]
  },
  {
   "cell_type": "code",
   "execution_count": 76,
   "id": "3b9f78cf-9d09-4846-a5ae-d5ccca026ca4",
   "metadata": {},
   "outputs": [],
   "source": [
    "temperatureFahrenheit = pd.Series([67.76,73.4,72.4,34.5])"
   ]
  },
  {
   "cell_type": "markdown",
   "id": "af9ac01d-56ba-4ab0-8938-6229e7cef32b",
   "metadata": {},
   "source": [
    "Let us define a function that converts Fahrenheit to Celsius"
   ]
  },
  {
   "cell_type": "code",
   "execution_count": 77,
   "id": "969f3f0e-15d5-43b7-82ab-985d894bc1df",
   "metadata": {},
   "outputs": [],
   "source": [
    "def fahrenheitToCelsius(tempF):\n",
    "    return (tempF-32)*(5/9)"
   ]
  },
  {
   "cell_type": "code",
   "execution_count": 78,
   "id": "9232a494-943f-4b38-95bd-3b8b0a30350a",
   "metadata": {},
   "outputs": [
    {
     "data": {
      "text/plain": [
       "0    19.866667\n",
       "1    23.000000\n",
       "2    22.444444\n",
       "3     1.388889\n",
       "dtype: float64"
      ]
     },
     "execution_count": 78,
     "metadata": {},
     "output_type": "execute_result"
    }
   ],
   "source": [
    "temperatureCelsius = temperatureFahrenheit.apply(fahrenheitToCelsius)\n",
    "temperatureCelsius"
   ]
  },
  {
   "cell_type": "markdown",
   "id": "78107af9-c9d8-4699-bf64-acb349c9cf24",
   "metadata": {},
   "source": [
    "Let us try apply in a DataFrame"
   ]
  },
  {
   "cell_type": "code",
   "execution_count": 79,
   "id": "bfad995d-bed8-48df-afc3-df6164518275",
   "metadata": {},
   "outputs": [
    {
     "data": {
      "text/html": [
       "<div>\n",
       "<style scoped>\n",
       "    .dataframe tbody tr th:only-of-type {\n",
       "        vertical-align: middle;\n",
       "    }\n",
       "\n",
       "    .dataframe tbody tr th {\n",
       "        vertical-align: top;\n",
       "    }\n",
       "\n",
       "    .dataframe thead th {\n",
       "        text-align: right;\n",
       "    }\n",
       "</style>\n",
       "<table border=\"1\" class=\"dataframe\">\n",
       "  <thead>\n",
       "    <tr style=\"text-align: right;\">\n",
       "      <th></th>\n",
       "      <th>b</th>\n",
       "      <th>d</th>\n",
       "      <th>e</th>\n",
       "    </tr>\n",
       "  </thead>\n",
       "  <tbody>\n",
       "    <tr>\n",
       "      <th>Utah</th>\n",
       "      <td>-2.421054</td>\n",
       "      <td>0.256761</td>\n",
       "      <td>-0.476542</td>\n",
       "    </tr>\n",
       "    <tr>\n",
       "      <th>Ohio</th>\n",
       "      <td>-1.353704</td>\n",
       "      <td>-0.329572</td>\n",
       "      <td>0.685795</td>\n",
       "    </tr>\n",
       "    <tr>\n",
       "      <th>Texas</th>\n",
       "      <td>0.205734</td>\n",
       "      <td>0.240458</td>\n",
       "      <td>-0.335689</td>\n",
       "    </tr>\n",
       "    <tr>\n",
       "      <th>Oregon</th>\n",
       "      <td>-0.664409</td>\n",
       "      <td>1.678345</td>\n",
       "      <td>-0.804279</td>\n",
       "    </tr>\n",
       "  </tbody>\n",
       "</table>\n",
       "</div>"
      ],
      "text/plain": [
       "               b         d         e\n",
       "Utah   -2.421054  0.256761 -0.476542\n",
       "Ohio   -1.353704 -0.329572  0.685795\n",
       "Texas   0.205734  0.240458 -0.335689\n",
       "Oregon -0.664409  1.678345 -0.804279"
      ]
     },
     "execution_count": 79,
     "metadata": {},
     "output_type": "execute_result"
    }
   ],
   "source": [
    "frame = pd.DataFrame(np.random.standard_normal((4, 3)),columns=list(\"bde\"),index=[\"Utah\", \"Ohio\", \"Texas\", \"Oregon\"])\n",
    "frame"
   ]
  },
  {
   "cell_type": "markdown",
   "id": "9a0ce693-f33f-436c-a5f5-0cfea77b11bf",
   "metadata": {},
   "source": [
    "Let us define a function that takes in a series and calculate the difference between max and min"
   ]
  },
  {
   "cell_type": "code",
   "execution_count": 80,
   "id": "206f7f02-b493-448c-a208-382acbd76dd1",
   "metadata": {},
   "outputs": [],
   "source": [
    "def f1(x):\n",
    "    return x.max() - x.min()"
   ]
  },
  {
   "cell_type": "code",
   "execution_count": 81,
   "id": "21be16e9-9907-4b1a-9784-10b72e490cbb",
   "metadata": {},
   "outputs": [
    {
     "data": {
      "text/plain": [
       "b    2.626788\n",
       "d    2.007916\n",
       "e    1.490074\n",
       "dtype: float64"
      ]
     },
     "execution_count": 81,
     "metadata": {},
     "output_type": "execute_result"
    }
   ],
   "source": [
    "frame.apply(f1)"
   ]
  },
  {
   "cell_type": "markdown",
   "id": "969419e8-c750-4f02-88b5-780d6bf4864f",
   "metadata": {},
   "source": [
    "In the next section we will look at reading files (manily CSV) with Pandas."
   ]
  },
  {
   "cell_type": "code",
   "execution_count": null,
   "id": "e15feb92-22ac-4bd5-8b75-c827c291ad03",
   "metadata": {},
   "outputs": [],
   "source": []
  }
 ],
 "metadata": {
  "kernelspec": {
   "display_name": "Python 3 (ipykernel)",
   "language": "python",
   "name": "python3"
  },
  "language_info": {
   "codemirror_mode": {
    "name": "ipython",
    "version": 3
   },
   "file_extension": ".py",
   "mimetype": "text/x-python",
   "name": "python",
   "nbconvert_exporter": "python",
   "pygments_lexer": "ipython3",
   "version": "3.10.4"
  }
 },
 "nbformat": 4,
 "nbformat_minor": 5
}
