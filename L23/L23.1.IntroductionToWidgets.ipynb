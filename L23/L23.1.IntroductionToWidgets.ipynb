{
 "cells": [
  {
   "cell_type": "markdown",
   "id": "5ee349c5-179c-4224-8e4b-e3f589e11d13",
   "metadata": {},
   "source": [
    "# Introduction to Widgets"
   ]
  },
  {
   "cell_type": "markdown",
   "id": "f0346eca-f8b0-40e5-bf95-39cbef12b3a9",
   "metadata": {},
   "source": [
    "## Creating Interactive Elements"
   ]
  },
  {
   "cell_type": "markdown",
   "id": "30da9f1a-766d-4ebd-90bd-309068f98fb9",
   "metadata": {},
   "source": [
    "### Button"
   ]
  },
  {
   "cell_type": "markdown",
   "id": "48d98001-58aa-4963-9378-4e2ae50e0c27",
   "metadata": {
    "tags": []
   },
   "source": [
    "Let us create a basic button. "
   ]
  },
  {
   "cell_type": "code",
   "execution_count": 1,
   "id": "6afd758a-095b-4f15-86fe-e2855129d432",
   "metadata": {
    "tags": []
   },
   "outputs": [],
   "source": [
    "import ipywidgets as widgets\n",
    "from IPython.display import display"
   ]
  },
  {
   "cell_type": "code",
   "execution_count": 2,
   "id": "c38a154e-2fd6-496e-b2f8-c4e92e42f7a0",
   "metadata": {
    "tags": []
   },
   "outputs": [
    {
     "data": {
      "application/vnd.jupyter.widget-view+json": {
       "model_id": "ea928b22d2e34792b226d85e0d158cda",
       "version_major": 2,
       "version_minor": 0
      },
      "text/plain": [
       "Button(button_style='primary', description='Click', style=ButtonStyle())"
      ]
     },
     "metadata": {},
     "output_type": "display_data"
    }
   ],
   "source": [
    "button = widgets.Button(\n",
    "    description='Click',\n",
    "    disabled=False,\n",
    "    button_style='Primary'\n",
    ")\n",
    "button"
   ]
  },
  {
   "cell_type": "markdown",
   "id": "5c281dd2-d889-4e6a-8159-0a0126b08c22",
   "metadata": {},
   "source": [
    "Woww!!!!!!! That's ot. We have created a button with few lines of code. You can play around with the various paramters. "
   ]
  },
  {
   "cell_type": "markdown",
   "id": "e967f05a-26fa-4b5c-ad22-094768a16a80",
   "metadata": {},
   "source": [
    "#### Capturing the button click"
   ]
  },
  {
   "cell_type": "markdown",
   "id": "4074e483-62c0-44c0-b62b-356b3ea0ea5d",
   "metadata": {},
   "source": [
    "We can capture a button click by capturing the click event. Let us give it a try."
   ]
  },
  {
   "cell_type": "code",
   "execution_count": 3,
   "id": "11da1a07-48d6-44de-af46-9e135370efea",
   "metadata": {
    "tags": []
   },
   "outputs": [
    {
     "data": {
      "application/vnd.jupyter.widget-view+json": {
       "model_id": "474ac44e09534ee4b53c859d5d768621",
       "version_major": 2,
       "version_minor": 0
      },
      "text/plain": [
       "Button(button_style='primary', description='Click', style=ButtonStyle())"
      ]
     },
     "metadata": {},
     "output_type": "display_data"
    }
   ],
   "source": [
    "def clicked(b):\n",
    "    print ('You clicked me')\n",
    "button = widgets.Button(\n",
    "    description='Click',\n",
    "    disabled=False,\n",
    "    button_style='Primary'\n",
    ")\n",
    "button.on_click(clicked)\n",
    "button"
   ]
  },
  {
   "cell_type": "markdown",
   "id": "325779ba-4a6d-45e5-9b4c-ce89b4a511c2",
   "metadata": {},
   "source": [
    "Now you can think about what could be achieved with capturing click events"
   ]
  },
  {
   "cell_type": "markdown",
   "id": "444f44c4-9a35-4b7a-a2da-a32b98999847",
   "metadata": {},
   "source": [
    "### Drop down (Selection)"
   ]
  },
  {
   "cell_type": "markdown",
   "id": "d9b02bdb-7625-4dec-9426-9b7574e6adfc",
   "metadata": {
    "tags": []
   },
   "source": [
    "Now let us create a drop down "
   ]
  },
  {
   "cell_type": "code",
   "execution_count": 4,
   "id": "56c4c639-d2b4-40ea-9082-46c9400af74e",
   "metadata": {
    "tags": []
   },
   "outputs": [
    {
     "data": {
      "application/vnd.jupyter.widget-view+json": {
       "model_id": "d0f209d081804c3bafa54122577a5df5",
       "version_major": 2,
       "version_minor": 0
      },
      "text/plain": [
       "Dropdown(description='Choices:', index=2, options=('a', 'b', 'c'), value='c')"
      ]
     },
     "metadata": {},
     "output_type": "display_data"
    }
   ],
   "source": [
    "myDropDown = widgets.Dropdown(\n",
    "    options=['a', 'b', 'c'],\n",
    "    value='c',\n",
    "    description='Choices:',\n",
    "    disabled=False,\n",
    ")\n",
    "myDropDown"
   ]
  },
  {
   "cell_type": "markdown",
   "id": "83a72d30-a1f6-4f0a-940c-a55f18796595",
   "metadata": {},
   "source": [
    "Now let us programatically change the value of the drop down"
   ]
  },
  {
   "cell_type": "code",
   "execution_count": 5,
   "id": "b4e475c0-c352-493c-8c43-47cc9bb4d24f",
   "metadata": {
    "tags": []
   },
   "outputs": [],
   "source": [
    "myDropDown.value = 'a'"
   ]
  },
  {
   "cell_type": "markdown",
   "id": "f18f125b-05fa-49b2-96b3-a40eea2b1a1f",
   "metadata": {},
   "source": [
    "We can also change the options "
   ]
  },
  {
   "cell_type": "code",
   "execution_count": 6,
   "id": "514209d8-db79-49dd-a8c8-2e51781076de",
   "metadata": {
    "tags": []
   },
   "outputs": [],
   "source": [
    "myDropDown.options=[1,2,3,4]"
   ]
  },
  {
   "cell_type": "markdown",
   "id": "e70d05a8-f391-48bd-9bc9-38c5082775f3",
   "metadata": {},
   "source": [
    "Now let us get more creative and populate our drop down using our own data. For this example we will get all the states from us_states table in nyc database."
   ]
  },
  {
   "cell_type": "markdown",
   "id": "03e9446d-c212-4775-aa83-a9b839c0cf46",
   "metadata": {},
   "source": [
    "### Drop down (Multiple Selection)"
   ]
  },
  {
   "cell_type": "code",
   "execution_count": 7,
   "id": "553aea09-1d23-4cd0-a3da-573602473ab2",
   "metadata": {
    "tags": []
   },
   "outputs": [
    {
     "data": {
      "application/vnd.jupyter.widget-view+json": {
       "model_id": "1e240493897645f1afacc34a19be7656",
       "version_major": 2,
       "version_minor": 0
      },
      "text/plain": [
       "SelectMultiple(description='Fruits', index=(0,), options=('apple', 'orange', 'grape', 'guava', 'peach'), value…"
      ]
     },
     "metadata": {},
     "output_type": "display_data"
    }
   ],
   "source": [
    "multipleFruits = widgets.SelectMultiple(\n",
    "    options=['apple', 'orange', 'grape','guava','peach'],\n",
    "    value=['apple'],\n",
    "    #rows=10,\n",
    "    description='Fruits',\n",
    "    disabled=False\n",
    ")\n",
    "multipleFruits"
   ]
  },
  {
   "cell_type": "code",
   "execution_count": 8,
   "id": "adc7be25-ef7c-4b17-bc3c-fc77e4f4b4bb",
   "metadata": {
    "tags": []
   },
   "outputs": [],
   "source": [
    "import pandas as pd\n",
    "import psycopg2\n",
    "import geopandas as gpd\n",
    "from dateutil import parser"
   ]
  },
  {
   "cell_type": "code",
   "execution_count": 9,
   "id": "6d629bfb-b6fe-4e41-864c-2b13b71f0e73",
   "metadata": {
    "tags": []
   },
   "outputs": [],
   "source": [
    "conn = psycopg2.connect('dbname=nyc user=geospatial password=geospatial2023 host=ghhlibrary')"
   ]
  },
  {
   "cell_type": "code",
   "execution_count": 10,
   "id": "c0df7577-095f-49f4-915c-413ec6f85db8",
   "metadata": {
    "tags": []
   },
   "outputs": [
    {
     "name": "stderr",
     "output_type": "stream",
     "text": [
      "C:\\Users\\jxa421\\AppData\\Local\\Temp\\ipykernel_66608\\1928515319.py:1: UserWarning: pandas only supports SQLAlchemy connectable (engine/connection) or database string URI or sqlite3 DBAPI2 connection. Other DBAPI2 objects are not tested. Please consider using SQLAlchemy.\n",
      "  states = pd.read_sql_query(r'select name from us_states',conn)\n"
     ]
    }
   ],
   "source": [
    "states = pd.read_sql_query(r'select name from us_states',conn)"
   ]
  },
  {
   "cell_type": "code",
   "execution_count": 11,
   "id": "239bd306-b9fe-4ea3-a2e9-d06c25db19d6",
   "metadata": {
    "tags": []
   },
   "outputs": [
    {
     "data": {
      "text/plain": [
       "array(['Arkansas', 'Arizona', 'Colorado', 'Iowa', 'Illinois', 'Indiana',\n",
       "       'Kansas', 'Missouri', 'Nebraska', 'New Mexico', 'Nevada',\n",
       "       'Oklahoma', 'Tennessee', 'Utah', 'West Virginia', 'Idaho',\n",
       "       'Montana', 'North Dakota', 'South Dakota', 'Vermont', 'Wyoming',\n",
       "       'Puerto Rico', 'U.S. Virgin Islands', 'Florida', 'Texas',\n",
       "       'Alabama', 'Georgia', 'Louisiana', 'Mississippi', 'South Carolina',\n",
       "       'California', 'Connecticut', 'District of Columbia', 'Delaware',\n",
       "       'Kentucky', 'Massachusetts', 'Maryland', 'North Carolina',\n",
       "       'New Jersey', 'New York', 'Ohio', 'Pennsylvania', 'Rhode Island',\n",
       "       'Virginia', 'Wisconsin', 'Michigan', 'Hawaii', 'Maine',\n",
       "       'Minnesota', 'New Hampshire', 'Oregon', 'Washington', 'Alaska'],\n",
       "      dtype=object)"
      ]
     },
     "execution_count": 11,
     "metadata": {},
     "output_type": "execute_result"
    }
   ],
   "source": [
    "states.name.values"
   ]
  },
  {
   "cell_type": "code",
   "execution_count": 12,
   "id": "6514b193-cc9f-4c47-aa24-bf016beff772",
   "metadata": {
    "tags": []
   },
   "outputs": [
    {
     "data": {
      "application/vnd.jupyter.widget-view+json": {
       "model_id": "5491f254e92842dda67a746932b68a2d",
       "version_major": 2,
       "version_minor": 0
      },
      "text/plain": [
       "Dropdown(description='States:', options=('Arkansas', 'Arizona', 'Colorado', 'Iowa', 'Illinois', 'Indiana', 'Ka…"
      ]
     },
     "metadata": {},
     "output_type": "display_data"
    }
   ],
   "source": [
    "statesSelect = widgets.Dropdown(\n",
    "    options=states.name.values,\n",
    "    value=states.name.values[0],\n",
    "    description='States:',\n",
    "    disabled=False,\n",
    ")\n",
    "statesSelect"
   ]
  },
  {
   "cell_type": "code",
   "execution_count": 13,
   "id": "208089d8-3c96-4db8-a579-d49db4f16cad",
   "metadata": {
    "tags": []
   },
   "outputs": [
    {
     "data": {
      "text/plain": [
       "'Arkansas'"
      ]
     },
     "execution_count": 13,
     "metadata": {},
     "output_type": "execute_result"
    }
   ],
   "source": [
    "statesSelect.value"
   ]
  },
  {
   "cell_type": "markdown",
   "id": "7391705d-32c4-468e-b210-5e7541e6cfb9",
   "metadata": {},
   "source": [
    "#### Capturing Selection Event"
   ]
  },
  {
   "cell_type": "code",
   "execution_count": 14,
   "id": "ec7ef1fe-2bd5-40e6-a6c4-e1ce466f7be4",
   "metadata": {
    "tags": []
   },
   "outputs": [
    {
     "data": {
      "application/vnd.jupyter.widget-view+json": {
       "model_id": "937769c7a6d04975bd20dc96dbcfc867",
       "version_major": 2,
       "version_minor": 0
      },
      "text/plain": [
       "Dropdown(description='States:', options=('Arkansas', 'Arizona', 'Colorado', 'Iowa', 'Illinois', 'Indiana', 'Ka…"
      ]
     },
     "metadata": {},
     "output_type": "display_data"
    }
   ],
   "source": [
    "def select(change):\n",
    "    print ('The value change from',change['old'],'to',change['new'])\n",
    "    \n",
    "statesSelect = widgets.Dropdown(\n",
    "    options=states.name.values,\n",
    "    value=states.name.values[0],\n",
    "    description='States:',\n",
    "    disabled=False,\n",
    ")\n",
    "statesSelect.observe(select, names='value')\n",
    "statesSelect"
   ]
  },
  {
   "cell_type": "markdown",
   "id": "ffb45b47-349c-4c35-b7eb-b9723c728f11",
   "metadata": {},
   "source": [
    "Now let us spice up things a bit, let us create two drop downs, one for states and one for counties and based on the state select the corresponding counties. For change in state we will query the database, select the counties and update the dropdown. "
   ]
  },
  {
   "cell_type": "code",
   "execution_count": 15,
   "id": "a400c7cd-3bcf-4108-9ddd-30afae540b6b",
   "metadata": {
    "tags": []
   },
   "outputs": [
    {
     "data": {
      "application/vnd.jupyter.widget-view+json": {
       "model_id": "f0ddbd25c59542d686456b62b250d664",
       "version_major": 2,
       "version_minor": 0
      },
      "text/plain": [
       "Dropdown(description='States:', options=('Arkansas', 'Arizona', 'Colorado', 'Iowa', 'Illinois', 'Indiana', 'Ka…"
      ]
     },
     "metadata": {},
     "output_type": "display_data"
    },
    {
     "data": {
      "application/vnd.jupyter.widget-view+json": {
       "model_id": "245117460d5e453bb93f546f27d5f75f",
       "version_major": 2,
       "version_minor": 0
      },
      "text/plain": [
       "Dropdown(description='Counties:', options=(), value=None)"
      ]
     },
     "metadata": {},
     "output_type": "display_data"
    }
   ],
   "source": [
    "def stateSelected(change):\n",
    "    selectedState = change['new']\n",
    "    #now let us query all the counties for the state. Unfortunately no state name in counties table, we need a join\n",
    "    counties = pd.read_sql_query(f\"select c.name from us_counties c,us_states s where s.name='{selectedState}' and s.state_fips = c.statefp\",conn)\n",
    "    countiesSelect.options = counties.name.values\n",
    "    \n",
    "statesSelect = widgets.Dropdown(\n",
    "    options=states.name.values,\n",
    "    value=None,\n",
    "    description='States:',\n",
    "    disabled=False,\n",
    ")\n",
    "countiesSelect = widgets.Dropdown(\n",
    "    options=[],\n",
    "    value=None,\n",
    "    description='Counties:',\n",
    "    disabled=False,\n",
    ")\n",
    "statesSelect.observe(stateSelected,names='value')\n",
    "display(statesSelect)\n",
    "display(countiesSelect)"
   ]
  },
  {
   "cell_type": "markdown",
   "id": "0bc5beaa-0364-4ef4-937e-f3bda58e0336",
   "metadata": {
    "tags": []
   },
   "source": [
    "As you can see you are generating the queries on the fly. "
   ]
  },
  {
   "cell_type": "markdown",
   "id": "17ab5293-630d-4893-813d-4f2391e19a29",
   "metadata": {},
   "source": [
    "Another way of adding options is as a list of tuples."
   ]
  },
  {
   "cell_type": "code",
   "execution_count": 16,
   "id": "baa83d2e-5734-469b-800a-06906640d776",
   "metadata": {
    "tags": []
   },
   "outputs": [
    {
     "data": {
      "application/vnd.jupyter.widget-view+json": {
       "model_id": "fa6d79c3ff59483bac59a1b9959c5bdc",
       "version_major": 2,
       "version_minor": 0
      },
      "text/plain": [
       "Dropdown(description='Number:', index=1, options=(('One', 1), ('Two', 2), ('Three', 3)), value=2)"
      ]
     },
     "metadata": {},
     "output_type": "display_data"
    }
   ],
   "source": [
    "def selected(change):\n",
    "    print (change['new'])\n",
    "    \n",
    "multiple = widgets.Dropdown(\n",
    "    options=[('One', 1), ('Two', 2), ('Three', 3)],\n",
    "    value=2,\n",
    "    description='Number:',\n",
    ")\n",
    "multiple.observe(selected,names='value')\n",
    "multiple"
   ]
  },
  {
   "cell_type": "markdown",
   "id": "85e8e663-bcac-4114-a140-062720597b8b",
   "metadata": {},
   "source": [
    "We can use this drop down to re-create our previous example in a better way"
   ]
  },
  {
   "cell_type": "code",
   "execution_count": 17,
   "id": "76ffde50-8c8b-45cd-bcfd-5d2a73b38b5b",
   "metadata": {
    "tags": []
   },
   "outputs": [
    {
     "name": "stderr",
     "output_type": "stream",
     "text": [
      "C:\\Users\\jxa421\\AppData\\Local\\Temp\\ipykernel_66608\\254662904.py:1: UserWarning: pandas only supports SQLAlchemy connectable (engine/connection) or database string URI or sqlite3 DBAPI2 connection. Other DBAPI2 objects are not tested. Please consider using SQLAlchemy.\n",
      "  states = pd.read_sql_query(r'select name,state_fips from us_states',conn)\n"
     ]
    }
   ],
   "source": [
    "states = pd.read_sql_query(r'select name,state_fips from us_states',conn)"
   ]
  },
  {
   "cell_type": "code",
   "execution_count": 18,
   "id": "c7c8dd0c-ae51-429f-9e3c-aa268d49de8a",
   "metadata": {
    "tags": []
   },
   "outputs": [
    {
     "data": {
      "application/vnd.jupyter.widget-view+json": {
       "model_id": "98e2c66e73724b3497156506d2ea30ac",
       "version_major": 2,
       "version_minor": 0
      },
      "text/plain": [
       "Dropdown(description='States:', options=(['Arkansas', '05'], ['Arizona', '04'], ['Colorado', '08'], ['Iowa', '…"
      ]
     },
     "metadata": {},
     "output_type": "display_data"
    },
    {
     "data": {
      "application/vnd.jupyter.widget-view+json": {
       "model_id": "260bb2f50fc5429cb551018dd012c1b9",
       "version_major": 2,
       "version_minor": 0
      },
      "text/plain": [
       "Dropdown(description='Counties:', options=(), value=None)"
      ]
     },
     "metadata": {},
     "output_type": "display_data"
    }
   ],
   "source": [
    "def stateSelected(change):\n",
    "    selectedState = change['new']\n",
    "    #now let us query all the counties for the state. Unfortunately no state name in counties table, we need a join\n",
    "    counties = pd.read_sql_query(f\"select c.name from us_counties c where c.statefp='{selectedState}'\",conn)\n",
    "    countiesSelect.options = counties.name.values\n",
    "    \n",
    "statesSelect = widgets.Dropdown(\n",
    "    options=states.values.tolist(),\n",
    "    value=None,\n",
    "    description='States:',\n",
    "    disabled=False,\n",
    ")\n",
    "countiesSelect = widgets.Dropdown(\n",
    "    options=[],\n",
    "    value=None,\n",
    "    description='Counties:',\n",
    "    disabled=False,\n",
    ")\n",
    "statesSelect.observe(stateSelected,names='value')\n",
    "display(statesSelect)\n",
    "display(countiesSelect)"
   ]
  },
  {
   "cell_type": "markdown",
   "id": "75ae7f5c-38c2-4b62-b510-978837f23c2e",
   "metadata": {},
   "source": [
    "Now we don't need to use the join query at all. "
   ]
  },
  {
   "cell_type": "markdown",
   "id": "0a4c8d75-fc04-48e1-8d96-a76e29483a1c",
   "metadata": {},
   "source": [
    "### Text"
   ]
  },
  {
   "cell_type": "markdown",
   "id": "6556b4da-5c0d-43f5-85af-321ad85ffe4d",
   "metadata": {},
   "source": [
    "#### Text Box"
   ]
  },
  {
   "cell_type": "code",
   "execution_count": 19,
   "id": "d2e64241-ffcd-43f3-8c09-19e1df34b49a",
   "metadata": {
    "tags": []
   },
   "outputs": [
    {
     "data": {
      "application/vnd.jupyter.widget-view+json": {
       "model_id": "707a984875914f21a01ba4a360ead4f2",
       "version_major": 2,
       "version_minor": 0
      },
      "text/plain": [
       "Text(value='', description='Address:', placeholder='Type your address here')"
      ]
     },
     "metadata": {},
     "output_type": "display_data"
    }
   ],
   "source": [
    "textBox = widgets.Text(\n",
    "    value='',\n",
    "    placeholder='Type your address here',\n",
    "    description='Address:',\n",
    "    disabled=False   \n",
    ")\n",
    "textBox"
   ]
  },
  {
   "cell_type": "markdown",
   "id": "7fb6926f-b557-4ae7-b3fd-793bb1320f80",
   "metadata": {},
   "source": [
    "Now let us combine this with a button and create an online geocoder (obviously with the help of geopandas)"
   ]
  },
  {
   "cell_type": "code",
   "execution_count": 20,
   "id": "a5c0ec77-acb0-4d70-9558-fcef42a4d7cc",
   "metadata": {
    "tags": []
   },
   "outputs": [
    {
     "data": {
      "application/vnd.jupyter.widget-view+json": {
       "model_id": "b2fa81136ce0473bba2f27b3e38b9a2d",
       "version_major": 2,
       "version_minor": 0
      },
      "text/plain": [
       "Text(value='', description='Address:', placeholder='Type your address here')"
      ]
     },
     "metadata": {},
     "output_type": "display_data"
    },
    {
     "data": {
      "application/vnd.jupyter.widget-view+json": {
       "model_id": "e412b9aae01749b28db275a015c79437",
       "version_major": 2,
       "version_minor": 0
      },
      "text/plain": [
       "Button(button_style='primary', description='Click', style=ButtonStyle())"
      ]
     },
     "metadata": {},
     "output_type": "display_data"
    }
   ],
   "source": [
    "def geocode(b):\n",
    "    results = gpd.tools.geocode([textBox.value])\n",
    "    print (results)\n",
    "\n",
    "textBox = widgets.Text(\n",
    "    value='',\n",
    "    placeholder='Type your address here',\n",
    "    description='Address:',\n",
    "    disabled=False   \n",
    ")\n",
    "button = widgets.Button(\n",
    "    description='Click',\n",
    "    disabled=False,\n",
    "    button_style='Primary'\n",
    ")\n",
    "display(textBox)\n",
    "button.on_click(geocode)\n",
    "display(button)"
   ]
  },
  {
   "cell_type": "markdown",
   "id": "8e3ce58a-531f-4004-acd0-cf55380f62f2",
   "metadata": {},
   "source": [
    "#### Textarea"
   ]
  },
  {
   "cell_type": "code",
   "execution_count": 21,
   "id": "6d53b0e9-9ad2-4984-87cb-2dc204d0a189",
   "metadata": {
    "tags": []
   },
   "outputs": [
    {
     "data": {
      "application/vnd.jupyter.widget-view+json": {
       "model_id": "2fee447389b948c9a4d12d17c1e1b4b0",
       "version_major": 2,
       "version_minor": 0
      },
      "text/plain": [
       "Textarea(value='', description='Code:', placeholder='Type your code here')"
      ]
     },
     "metadata": {},
     "output_type": "display_data"
    }
   ],
   "source": [
    "textArea = widgets.Textarea(\n",
    "    value='',\n",
    "    placeholder='Type your code here',\n",
    "    description='Code:',\n",
    "    disabled=False\n",
    ")\n",
    "textArea"
   ]
  },
  {
   "cell_type": "markdown",
   "id": "1d2b6c64-8e96-427b-8898-908d1d8b23b6",
   "metadata": {},
   "source": [
    "For fun let us execute the program that is written in the text area"
   ]
  },
  {
   "cell_type": "code",
   "execution_count": 22,
   "id": "015c5ef8-1d67-4262-9de5-c015909a75a6",
   "metadata": {
    "tags": []
   },
   "outputs": [
    {
     "data": {
      "application/vnd.jupyter.widget-view+json": {
       "model_id": "bcb006fae67e428ba691c9e33b8d03b6",
       "version_major": 2,
       "version_minor": 0
      },
      "text/plain": [
       "Textarea(value='', description='Code:', placeholder='Type your code here')"
      ]
     },
     "metadata": {},
     "output_type": "display_data"
    },
    {
     "data": {
      "application/vnd.jupyter.widget-view+json": {
       "model_id": "6f4cfa25e9b74103a17756f2cbe29392",
       "version_major": 2,
       "version_minor": 0
      },
      "text/plain": [
       "Button(button_style='primary', description='Click', style=ButtonStyle())"
      ]
     },
     "metadata": {},
     "output_type": "display_data"
    }
   ],
   "source": [
    "def run(b):\n",
    "    exec(textArea.value)\n",
    "textArea = widgets.Textarea(\n",
    "    value='',\n",
    "    placeholder='Type your code here',\n",
    "    description='Code:',\n",
    "    disabled=False\n",
    ")\n",
    "button = widgets.Button(\n",
    "    description='Click',\n",
    "    disabled=False,\n",
    "    button_style='Primary'\n",
    ")\n",
    "display(textArea)\n",
    "button.on_click(run)\n",
    "display(button)"
   ]
  },
  {
   "cell_type": "markdown",
   "id": "eb372bf7-7dd6-4229-8dcf-b8c2bb31ca72",
   "metadata": {},
   "source": [
    "#### Label"
   ]
  },
  {
   "cell_type": "code",
   "execution_count": 23,
   "id": "4eab5b0e-22b8-4d3f-81e8-4b315c834210",
   "metadata": {
    "tags": []
   },
   "outputs": [
    {
     "data": {
      "application/vnd.jupyter.widget-view+json": {
       "model_id": "d1b2a75ab55c4a4f967d9091961f6c38",
       "version_major": 2,
       "version_minor": 0
      },
      "text/plain": [
       "Label(value='This is my label')"
      ]
     },
     "metadata": {},
     "output_type": "display_data"
    }
   ],
   "source": [
    "q = widgets.Label(value=\"This is my label\")\n",
    "display(q)"
   ]
  },
  {
   "cell_type": "code",
   "execution_count": 24,
   "id": "0c18c72e-148a-4152-8b45-0671f7f3453a",
   "metadata": {
    "tags": []
   },
   "outputs": [],
   "source": [
    "q.value='Hello'"
   ]
  },
  {
   "cell_type": "markdown",
   "id": "7b28e629-e2fd-4836-bc76-b4ea1c1fd82f",
   "metadata": {},
   "source": [
    "### Slider"
   ]
  },
  {
   "cell_type": "markdown",
   "id": "4bd809a3-07e3-48cb-ba9a-c5ec8bddbdf5",
   "metadata": {},
   "source": [
    "#### Integer Slider"
   ]
  },
  {
   "cell_type": "code",
   "execution_count": 25,
   "id": "2e772d66-7fbe-4b43-a29a-cb7adac2319c",
   "metadata": {
    "tags": []
   },
   "outputs": [
    {
     "data": {
      "application/vnd.jupyter.widget-view+json": {
       "model_id": "9d4dd388d0b94f3795ce8ef8cc5f82b0",
       "version_major": 2,
       "version_minor": 0
      },
      "text/plain": [
       "IntSlider(value=0, continuous_update=False, description='Change:', max=20)"
      ]
     },
     "metadata": {},
     "output_type": "display_data"
    }
   ],
   "source": [
    "intSlider = widgets.IntSlider(\n",
    "    value=0,\n",
    "    min=0,\n",
    "    max=20,\n",
    "    step=1,\n",
    "    description='Change:',\n",
    "    disabled=False,\n",
    "    continuous_update=False,\n",
    "    orientation='horizontal',\n",
    "    readout=True,\n",
    "    readout_format='d'\n",
    ")\n",
    "intSlider"
   ]
  },
  {
   "cell_type": "code",
   "execution_count": 26,
   "id": "4080cc97-a283-4d45-8488-2fe98ec966a5",
   "metadata": {
    "tags": []
   },
   "outputs": [],
   "source": [
    "intSlider.value = 10"
   ]
  },
  {
   "cell_type": "markdown",
   "id": "cc39ae5d-0362-48c1-887f-76c7dd496e16",
   "metadata": {},
   "source": [
    "#### Float Slider"
   ]
  },
  {
   "cell_type": "code",
   "execution_count": 27,
   "id": "a1bfcd31-695e-4f1c-91ba-72a4d39aa064",
   "metadata": {
    "tags": []
   },
   "outputs": [
    {
     "data": {
      "application/vnd.jupyter.widget-view+json": {
       "model_id": "c42b96309b0843a0ba2aa844098cec81",
       "version_major": 2,
       "version_minor": 0
      },
      "text/plain": [
       "FloatSlider(value=0.3, continuous_update=False, description='Change:', max=20.0, step=0.01)"
      ]
     },
     "metadata": {},
     "output_type": "display_data"
    }
   ],
   "source": [
    "floatSlider = widgets.FloatSlider(\n",
    "    value=0.3,\n",
    "    min=0.0,\n",
    "    max=20.0,\n",
    "    step=0.01,\n",
    "    description='Change:',\n",
    "    disabled=False,\n",
    "    continuous_update=False,\n",
    "    orientation='horizontal',\n",
    "    readout=True,\n",
    "    readout_format='.2f'\n",
    ")\n",
    "floatSlider"
   ]
  },
  {
   "cell_type": "markdown",
   "id": "8ba5326b-14ae-43c9-8899-234239ab7fe0",
   "metadata": {},
   "source": [
    "#### Int Range Slider"
   ]
  },
  {
   "cell_type": "code",
   "execution_count": 28,
   "id": "6b292ab8-f7b2-411b-9ab3-fd9efb68d707",
   "metadata": {
    "tags": []
   },
   "outputs": [
    {
     "data": {
      "application/vnd.jupyter.widget-view+json": {
       "model_id": "7051e56cb81d40b7b5f7f31400d44f0e",
       "version_major": 2,
       "version_minor": 0
      },
      "text/plain": [
       "IntRangeSlider(value=(5, 7), continuous_update=False, description='Ranges:', max=10)"
      ]
     },
     "metadata": {},
     "output_type": "display_data"
    }
   ],
   "source": [
    "intRange = widgets.IntRangeSlider(\n",
    "    value=[5, 7],\n",
    "    min=0,\n",
    "    max=10,\n",
    "    step=1,\n",
    "    description='Ranges:',\n",
    "    disabled=False,\n",
    "    continuous_update=False,\n",
    "    orientation='horizontal',\n",
    "    readout=True,\n",
    "    readout_format='d',\n",
    ")\n",
    "intRange"
   ]
  },
  {
   "cell_type": "code",
   "execution_count": 29,
   "id": "d2164905-2cac-4e9e-95af-baf2fc9fe9c4",
   "metadata": {
    "tags": []
   },
   "outputs": [
    {
     "data": {
      "text/plain": [
       "(5, 7)"
      ]
     },
     "execution_count": 29,
     "metadata": {},
     "output_type": "execute_result"
    }
   ],
   "source": [
    "intRange.value"
   ]
  },
  {
   "cell_type": "code",
   "execution_count": 30,
   "id": "28f72329-9f9d-4ad9-af34-b65cc021e014",
   "metadata": {
    "tags": []
   },
   "outputs": [],
   "source": [
    "intRange.value = [4,10]"
   ]
  },
  {
   "cell_type": "markdown",
   "id": "606d8c7a-2846-4742-b28e-a925215a384e",
   "metadata": {},
   "source": [
    "#### Selection Slider"
   ]
  },
  {
   "cell_type": "code",
   "execution_count": 31,
   "id": "e5291809-af1e-4b03-948d-b3cb7b4f7009",
   "metadata": {
    "tags": []
   },
   "outputs": [
    {
     "data": {
      "application/vnd.jupyter.widget-view+json": {
       "model_id": "ad0d681c12424f42b3eca5b03be97988",
       "version_major": 2,
       "version_minor": 0
      },
      "text/plain": [
       "SelectionSlider(continuous_update=False, description='Date:', options=('2021-01-01', '2021-02-01', '2021-03-01…"
      ]
     },
     "metadata": {},
     "output_type": "display_data"
    }
   ],
   "source": [
    "selSlider = widgets.SelectionSlider(\n",
    "    options=['2021-01-01','2021-02-01','2021-03-01'],\n",
    "    value='2021-01-01',\n",
    "    description='Date:',\n",
    "    disabled=False,\n",
    "    continuous_update=False,\n",
    "    orientation='horizontal',\n",
    "    readout=True\n",
    ")\n",
    "selSlider"
   ]
  },
  {
   "cell_type": "markdown",
   "id": "19bde047-c417-4938-b081-c223ac02c250",
   "metadata": {},
   "source": [
    "##### Capturing Slider Events"
   ]
  },
  {
   "cell_type": "code",
   "execution_count": 32,
   "id": "c823de08-a3b6-47b0-a128-6ae9c2bc4543",
   "metadata": {
    "tags": []
   },
   "outputs": [
    {
     "data": {
      "application/vnd.jupyter.widget-view+json": {
       "model_id": "7b237f089076481982dae7d2064bc00d",
       "version_major": 2,
       "version_minor": 0
      },
      "text/plain": [
       "IntSlider(value=0, continuous_update=False, description='Change:', max=20)"
      ]
     },
     "metadata": {},
     "output_type": "display_data"
    }
   ],
   "source": [
    "def square(change):\n",
    "    print (f'Square of {change[\"new\"]} is {change[\"new\"]**2}')\n",
    "    \n",
    "intSlider = widgets.IntSlider(\n",
    "    value=0,\n",
    "    min=0,\n",
    "    max=20,\n",
    "    step=1,\n",
    "    description='Change:',\n",
    "    disabled=False,\n",
    "    continuous_update=False,\n",
    "    orientation='horizontal',\n",
    "    readout=True,\n",
    "    readout_format='d'\n",
    ")\n",
    "intSlider.observe(square,names='value')\n",
    "intSlider"
   ]
  },
  {
   "cell_type": "markdown",
   "id": "b56c980f-c866-4023-b6c3-707f79b3a4dd",
   "metadata": {},
   "source": [
    "Now let us create something useful. We would want to get the count of Cuyahoga voters between two age ranges. As the Cuyahoga voters is in misc database we need to create a connection first."
   ]
  },
  {
   "cell_type": "code",
   "execution_count": 33,
   "id": "59c42efb-d4a1-49ef-99e3-45016bf25f08",
   "metadata": {
    "tags": []
   },
   "outputs": [],
   "source": [
    "conn2 = psycopg2.connect('dbname=misc user=geospatial password=geospatial2023 host=ghhlibrary')"
   ]
  },
  {
   "cell_type": "code",
   "execution_count": 34,
   "id": "def47188-80f3-414b-902a-0a0780d9146b",
   "metadata": {
    "tags": []
   },
   "outputs": [
    {
     "data": {
      "application/vnd.jupyter.widget-view+json": {
       "model_id": "842114b54f7a48bc8cd2ff0b987181b3",
       "version_major": 2,
       "version_minor": 0
      },
      "text/plain": [
       "IntRangeSlider(value=(0, 20), continuous_update=False, description='Age Range:', max=120)"
      ]
     },
     "metadata": {},
     "output_type": "display_data"
    },
    {
     "data": {
      "application/vnd.jupyter.widget-view+json": {
       "model_id": "c20dd3cde56749c4b5be134e0507eca6",
       "version_major": 2,
       "version_minor": 0
      },
      "text/plain": [
       "Label(value='')"
      ]
     },
     "metadata": {},
     "output_type": "display_data"
    }
   ],
   "source": [
    "def getTotalForRange(ranges):\n",
    "    ages = ranges['new']\n",
    "    query = f'select count(sos_voterid) as total from cuy_voters where age>={ages[0]} and age<{ages[1]}'\n",
    "    data = pd.read_sql_query(query,conn2)\n",
    "    total.value = f'There are {data.total.values[0]} voters in this age range'\n",
    "ageRange = widgets.IntRangeSlider(\n",
    "    value=[0, 20],\n",
    "    min=0,\n",
    "    max=120,\n",
    "    step=1,\n",
    "    description='Age Range:',\n",
    "    disabled=False,\n",
    "    continuous_update=False,\n",
    "    orientation='horizontal',\n",
    "    readout=True,\n",
    "    readout_format='d',\n",
    ")\n",
    "total = widgets.Label(value=\"\")\n",
    "ageRange.observe(getTotalForRange,names='value')\n",
    "display(ageRange)\n",
    "display (total)"
   ]
  },
  {
   "cell_type": "markdown",
   "id": "c8126bcb-b30e-4659-8a24-370fa0f482c4",
   "metadata": {},
   "source": [
    "Another creative example. This time we are going to calculate the total covid positive cases on a monthly basis (from March 2020 to March 2022). "
   ]
  },
  {
   "cell_type": "markdown",
   "id": "503e3884-b2ee-401f-a8c6-1a12855d4531",
   "metadata": {},
   "source": [
    "Inorder to create monthly interval dates between to dates we can get the help of pandas"
   ]
  },
  {
   "cell_type": "code",
   "execution_count": 35,
   "id": "669d9f8e-5038-4ca2-9c31-8ec1645aff13",
   "metadata": {
    "tags": []
   },
   "outputs": [
    {
     "data": {
      "application/vnd.jupyter.widget-view+json": {
       "model_id": "88284decac2c4412a6f69e08578cb9ad",
       "version_major": 2,
       "version_minor": 0
      },
      "text/plain": [
       "SelectionSlider(continuous_update=False, description='Date:', options=(datetime.date(2020, 3, 1), datetime.dat…"
      ]
     },
     "metadata": {},
     "output_type": "display_data"
    },
    {
     "data": {
      "application/vnd.jupyter.widget-view+json": {
       "model_id": "c74e3a3820c340a0931896bb734ef1ac",
       "version_major": 2,
       "version_minor": 0
      },
      "text/plain": [
       "Label(value='')"
      ]
     },
     "metadata": {},
     "output_type": "display_data"
    }
   ],
   "source": [
    "def getTotalForMonth(changes):\n",
    "    month = changes['new']\n",
    "    query = f\"select count(mrn) as totalcases from covid_data where test_resul='Positive' and day>='{month}'::date and day<'{month}'::date+interval '1 month'\"\n",
    "    data = pd.read_sql_query(query,conn2)\n",
    "    total.value = f'There are {data.totalcases.values[0]} covid cases for {month.strftime(\"%b\")} {month.year}'\n",
    "    \n",
    "monthly = pd.date_range('2020-03-01','2022-03-01',freq='1MS').date\n",
    "dateSlider = widgets.SelectionSlider(\n",
    "    options=monthly,\n",
    "    value=monthly[0],\n",
    "    description='Date:',\n",
    "    disabled=False,\n",
    "    continuous_update=False,\n",
    "    orientation='horizontal',\n",
    "    readout=True\n",
    ")\n",
    "dateSlider.observe(getTotalForMonth,names='value')\n",
    "total = widgets.Label(value=\"\")\n",
    "display(dateSlider)\n",
    "display(total)"
   ]
  },
  {
   "cell_type": "markdown",
   "id": "2c9c7ce4-fe25-446a-b6b6-f54912af9b95",
   "metadata": {},
   "source": [
    "### Checkbox "
   ]
  },
  {
   "cell_type": "code",
   "execution_count": 36,
   "id": "89c14883-01ef-44ae-9f85-23844ee5c3bc",
   "metadata": {
    "tags": []
   },
   "outputs": [
    {
     "data": {
      "application/vnd.jupyter.widget-view+json": {
       "model_id": "8819b75a072a438a9909131080ed96b8",
       "version_major": 2,
       "version_minor": 0
      },
      "text/plain": [
       "Checkbox(value=False, description='Check me', indent=False)"
      ]
     },
     "metadata": {},
     "output_type": "display_data"
    }
   ],
   "source": [
    "checkBox = widgets.Checkbox(\n",
    "    value=False,\n",
    "    description='Check me',\n",
    "    disabled=False,\n",
    "    indent=False\n",
    ")\n",
    "checkBox"
   ]
  },
  {
   "cell_type": "code",
   "execution_count": 37,
   "id": "cb25fbb9-519d-452d-959d-fd058b399377",
   "metadata": {
    "tags": []
   },
   "outputs": [],
   "source": [
    "checkBox.value = True"
   ]
  },
  {
   "cell_type": "markdown",
   "id": "ff942e53-c3b7-449d-9686-9338cd507a85",
   "metadata": {},
   "source": [
    "#### Listening to Checkbox events"
   ]
  },
  {
   "cell_type": "code",
   "execution_count": 38,
   "id": "f7d2f8b3-a151-40d9-8935-563f4a51b8f6",
   "metadata": {
    "tags": []
   },
   "outputs": [
    {
     "data": {
      "application/vnd.jupyter.widget-view+json": {
       "model_id": "b54066a5727e43b193a29377107ebfd3",
       "version_major": 2,
       "version_minor": 0
      },
      "text/plain": [
       "Checkbox(value=False, description='Check me', indent=False)"
      ]
     },
     "metadata": {},
     "output_type": "display_data"
    }
   ],
   "source": [
    "def valueChanged(change):\n",
    "    print (change['new'])\n",
    "    \n",
    "checkBox = widgets.Checkbox(\n",
    "    value=False,\n",
    "    description='Check me',\n",
    "    disabled=False,\n",
    "    indent=False\n",
    ")\n",
    "checkBox.observe(valueChanged,names='value')\n",
    "display(checkBox)"
   ]
  },
  {
   "cell_type": "markdown",
   "id": "8a1274dc-5857-4044-9b01-a6ad8993bbb7",
   "metadata": {},
   "source": [
    "#### RadioButtons"
   ]
  },
  {
   "cell_type": "code",
   "execution_count": 39,
   "id": "2e159f9b-3603-443e-80d7-48f98a1f52b4",
   "metadata": {
    "tags": []
   },
   "outputs": [
    {
     "data": {
      "application/vnd.jupyter.widget-view+json": {
       "model_id": "370ffe27e5584f6eb77068d2ad1ab5fb",
       "version_major": 2,
       "version_minor": 0
      },
      "text/plain": [
       "RadioButtons(description='Select Fruit:', layout=Layout(width='max-content'), options=('apple', 'orange', 'pea…"
      ]
     },
     "metadata": {},
     "output_type": "display_data"
    }
   ],
   "source": [
    "def selectedFruits(change):\n",
    "    print (change['new'])\n",
    "fruits = widgets.RadioButtons(\n",
    "    options=['apple', 'orange', 'pear'],\n",
    "    value=None,\n",
    "    layout={'width': 'max-content'},\n",
    "    description='Select Fruit:',\n",
    "    disabled=False\n",
    ")\n",
    "fruits.observe(selectedFruits,names='value')\n",
    "fruits"
   ]
  },
  {
   "cell_type": "markdown",
   "id": "dc03185f-7f90-4041-be6f-395e73d5086d",
   "metadata": {},
   "source": [
    "### Date picker"
   ]
  },
  {
   "cell_type": "code",
   "execution_count": 40,
   "id": "5917c10b-d033-4b6c-bd4d-60b79e153443",
   "metadata": {
    "tags": []
   },
   "outputs": [
    {
     "data": {
      "application/vnd.jupyter.widget-view+json": {
       "model_id": "238fef5f853d4faea392c621ce4a2a01",
       "version_major": 2,
       "version_minor": 0
      },
      "text/plain": [
       "DatePicker(value=None, description='Start Date')"
      ]
     },
     "metadata": {},
     "output_type": "display_data"
    }
   ],
   "source": [
    "start = widgets.DatePicker(\n",
    "    description='Start Date',\n",
    "    disabled=False\n",
    ")\n",
    "start"
   ]
  },
  {
   "cell_type": "code",
   "execution_count": 41,
   "id": "7896863b-280c-45fe-90d2-4f2ec7d72115",
   "metadata": {
    "tags": []
   },
   "outputs": [],
   "source": [
    "start.value = parser.parse('03/01/2023')"
   ]
  },
  {
   "cell_type": "markdown",
   "id": "9aff88af-3da6-49dc-a4aa-c7d390e923b9",
   "metadata": {},
   "source": [
    "### Listening to Date picker events"
   ]
  },
  {
   "cell_type": "code",
   "execution_count": 42,
   "id": "2ec4ba86-1067-44f7-9f8e-35dd76bee762",
   "metadata": {
    "tags": []
   },
   "outputs": [
    {
     "data": {
      "application/vnd.jupyter.widget-view+json": {
       "model_id": "e86a25a1fc304b04b36caed785b47aeb",
       "version_major": 2,
       "version_minor": 0
      },
      "text/plain": [
       "DatePicker(value=None, description='Start Date')"
      ]
     },
     "metadata": {},
     "output_type": "display_data"
    }
   ],
   "source": [
    "def dateChanged(changes):\n",
    "    print (changes['new'])\n",
    "start = widgets.DatePicker(\n",
    "    description='Start Date',\n",
    "    disabled=False\n",
    ")\n",
    "start.observe(dateChanged,names='value')\n",
    "start"
   ]
  },
  {
   "cell_type": "markdown",
   "id": "e87c8a36-ca9e-4479-8606-e7e55afb9d59",
   "metadata": {
    "tags": []
   },
   "source": [
    "Let us select covid cases between two different dates"
   ]
  },
  {
   "cell_type": "code",
   "execution_count": 43,
   "id": "5126d116-f1de-466c-ab24-c71bdf0fe564",
   "metadata": {
    "tags": []
   },
   "outputs": [
    {
     "data": {
      "application/vnd.jupyter.widget-view+json": {
       "model_id": "9d9de58167774f459bbffd92ca72c737",
       "version_major": 2,
       "version_minor": 0
      },
      "text/plain": [
       "DatePicker(value=None, description='Start Date')"
      ]
     },
     "metadata": {},
     "output_type": "display_data"
    },
    {
     "data": {
      "application/vnd.jupyter.widget-view+json": {
       "model_id": "26554f1159364b70895f39728c9f6559",
       "version_major": 2,
       "version_minor": 0
      },
      "text/plain": [
       "DatePicker(value=None, description='End Date')"
      ]
     },
     "metadata": {},
     "output_type": "display_data"
    },
    {
     "data": {
      "application/vnd.jupyter.widget-view+json": {
       "model_id": "d5876d9e22234141ac7790a78f7645a9",
       "version_major": 2,
       "version_minor": 0
      },
      "text/plain": [
       "Button(button_style='primary', description='Run', style=ButtonStyle())"
      ]
     },
     "metadata": {},
     "output_type": "display_data"
    },
    {
     "data": {
      "application/vnd.jupyter.widget-view+json": {
       "model_id": "6292734d1c99442591ee7fea40972913",
       "version_major": 2,
       "version_minor": 0
      },
      "text/plain": [
       "Label(value='')"
      ]
     },
     "metadata": {},
     "output_type": "display_data"
    }
   ],
   "source": [
    "def runQuery(b):\n",
    "    query = f\"select count(mrn) as totalcases from covid_data where test_resul='Positive' and day>='{start.value}'::date and day<'{end.value}'::date\"\n",
    "    data = pd.read_sql_query(query,conn2)\n",
    "    label.value = f'There are {data.totalcases.values[0]} covid cases between {start.value} and {end.value}'\n",
    "    \n",
    "start = widgets.DatePicker(\n",
    "    description='Start Date',\n",
    "    disabled=False\n",
    ")\n",
    "\n",
    "end = widgets.DatePicker(\n",
    "    description='End Date',\n",
    "    disabled=False\n",
    ")\n",
    "\n",
    "button = widgets.Button(\n",
    "    description='Run',\n",
    "    disabled=False,\n",
    "    button_style='Primary'\n",
    ")\n",
    "label = widgets.Label(value='')\n",
    "button.on_click(runQuery)\n",
    "display(start)\n",
    "display(end)\n",
    "display(button)\n",
    "display(label)"
   ]
  },
  {
   "cell_type": "markdown",
   "id": "5f85c42f-3837-49b4-abd2-7cc98ff9fe3f",
   "metadata": {},
   "source": [
    "One final widget before we get into maps charts and tables"
   ]
  },
  {
   "cell_type": "markdown",
   "id": "65e0ecef-f5be-43d4-9ead-095a41018158",
   "metadata": {},
   "source": [
    "### Animation widget"
   ]
  },
  {
   "cell_type": "code",
   "execution_count": 44,
   "id": "baa12668-97ab-496c-b302-1b795efa6ac8",
   "metadata": {
    "tags": []
   },
   "outputs": [
    {
     "data": {
      "application/vnd.jupyter.widget-view+json": {
       "model_id": "281c6571be70418698b6faad8830f56d",
       "version_major": 2,
       "version_minor": 0
      },
      "text/plain": [
       "Play(value=50, description='Press play', interval=500)"
      ]
     },
     "metadata": {},
     "output_type": "display_data"
    }
   ],
   "source": [
    "play = widgets.Play(\n",
    "    value=50,\n",
    "    min=0,\n",
    "    max=100,\n",
    "    step=1,\n",
    "    interval=500,   #this is in milliseconds,\n",
    "    description=\"Press play\",\n",
    "    disabled=False\n",
    ")\n",
    "play"
   ]
  },
  {
   "cell_type": "markdown",
   "id": "9bb47238-338a-44cd-8774-961787d7f003",
   "metadata": {},
   "source": [
    "### Listening to Animation widget"
   ]
  },
  {
   "cell_type": "code",
   "execution_count": 45,
   "id": "e3f48788-c8e8-47b2-bc15-73fcac042efa",
   "metadata": {
    "tags": []
   },
   "outputs": [
    {
     "data": {
      "application/vnd.jupyter.widget-view+json": {
       "model_id": "a80bc28135764d77932d763292087a41",
       "version_major": 2,
       "version_minor": 0
      },
      "text/plain": [
       "Play(value=50, description='Press play', interval=500)"
      ]
     },
     "metadata": {},
     "output_type": "display_data"
    }
   ],
   "source": [
    "def nextSlide(change):\n",
    "    print (change['new'])\n",
    "player = widgets.Play(\n",
    "    value=50,\n",
    "    min=0,\n",
    "    max=100,\n",
    "    step=1,\n",
    "    interval=500,   #this is in milliseconds,\n",
    "    description=\"Press play\",\n",
    "    disabled=False\n",
    ")\n",
    "player.observe(nextSlide,names='value')\n",
    "player"
   ]
  },
  {
   "cell_type": "code",
   "execution_count": 46,
   "id": "4009289a-0009-43ff-8997-d5eef6ea07de",
   "metadata": {
    "tags": []
   },
   "outputs": [],
   "source": [
    "conn.close()\n",
    "conn2.close()"
   ]
  }
 ],
 "metadata": {
  "kernelspec": {
   "display_name": "Python 3 (ipykernel)",
   "language": "python",
   "name": "python3"
  },
  "language_info": {
   "codemirror_mode": {
    "name": "ipython",
    "version": 3
   },
   "file_extension": ".py",
   "mimetype": "text/x-python",
   "name": "python",
   "nbconvert_exporter": "python",
   "pygments_lexer": "ipython3",
   "version": "3.10.10"
  }
 },
 "nbformat": 4,
 "nbformat_minor": 5
}
