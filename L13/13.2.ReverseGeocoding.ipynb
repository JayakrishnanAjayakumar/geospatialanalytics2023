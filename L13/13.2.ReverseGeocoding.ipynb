{
 "cells": [
  {
   "cell_type": "markdown",
   "id": "ee26a777-a337-48c8-b312-1bf5dfc00f4b",
   "metadata": {},
   "source": [
    "# Reverse Geocoding"
   ]
  },
  {
   "cell_type": "markdown",
   "id": "73e6a0ab-4136-4979-b10d-01e330b62dbe",
   "metadata": {},
   "source": [
    "Reverse geocoding is the process to convert the latitude and longitude coordinates to a readable address."
   ]
  },
  {
   "cell_type": "markdown",
   "id": "ee53e0e5-8da8-460a-afa7-aa17ce83ff7e",
   "metadata": {},
   "source": [
    "![reverse_geocode](images/reverse_geocode.png)"
   ]
  },
  {
   "cell_type": "markdown",
   "id": "6021f634-8d5e-42e2-9da3-9a848a39353b",
   "metadata": {},
   "source": [
    "Let us try reverse geocoding our starbucks dataset with in  5 miles of Case Western Reserve University. \n",
    "\n",
    "So let us create a geodataframe for Case Western Reserve University"
   ]
  },
  {
   "cell_type": "code",
   "execution_count": 1,
   "id": "288e619a-d2ba-42a9-9227-5cc90a2eb825",
   "metadata": {},
   "outputs": [],
   "source": [
    "import geopandas as gpd\n",
    "import pandas as pd"
   ]
  },
  {
   "cell_type": "code",
   "execution_count": 4,
   "id": "a589112e-e8de-48e3-a98b-27c09c8fb327",
   "metadata": {},
   "outputs": [
    {
     "data": {
      "text/html": [
       "<div>\n",
       "<style scoped>\n",
       "    .dataframe tbody tr th:only-of-type {\n",
       "        vertical-align: middle;\n",
       "    }\n",
       "\n",
       "    .dataframe tbody tr th {\n",
       "        vertical-align: top;\n",
       "    }\n",
       "\n",
       "    .dataframe thead th {\n",
       "        text-align: right;\n",
       "    }\n",
       "</style>\n",
       "<table border=\"1\" class=\"dataframe\">\n",
       "  <thead>\n",
       "    <tr style=\"text-align: right;\">\n",
       "      <th></th>\n",
       "      <th>name</th>\n",
       "      <th>lat</th>\n",
       "      <th>lon</th>\n",
       "      <th>geometry</th>\n",
       "    </tr>\n",
       "  </thead>\n",
       "  <tbody>\n",
       "    <tr>\n",
       "      <th>0</th>\n",
       "      <td>cwru</td>\n",
       "      <td>41.504</td>\n",
       "      <td>-81.608</td>\n",
       "      <td>POINT (-81.60800 41.50400)</td>\n",
       "    </tr>\n",
       "  </tbody>\n",
       "</table>\n",
       "</div>"
      ],
      "text/plain": [
       "   name     lat     lon                    geometry\n",
       "0  cwru  41.504 -81.608  POINT (-81.60800 41.50400)"
      ]
     },
     "execution_count": 4,
     "metadata": {},
     "output_type": "execute_result"
    }
   ],
   "source": [
    "data = pd.DataFrame([['cwru',41.504,-81.608]],columns=['name','lat','lon'])\n",
    "cwru = gpd.GeoDataFrame(data,geometry=gpd.points_from_xy(data.lon,data.lat),crs='EPSG:4326')\n",
    "cwru"
   ]
  },
  {
   "cell_type": "markdown",
   "id": "98790a59-55fd-491c-b4ea-94e2be602469",
   "metadata": {},
   "source": [
    "Now let us create a buffer of  miles around cwru"
   ]
  },
  {
   "cell_type": "code",
   "execution_count": 16,
   "id": "436db305-83b5-4696-8009-055b82ae9fec",
   "metadata": {},
   "outputs": [
    {
     "data": {
      "text/plain": [
       "0    POLYGON ((-81.51159 41.50447, -81.51200 41.497...\n",
       "dtype: geometry"
      ]
     },
     "execution_count": 16,
     "metadata": {},
     "output_type": "execute_result"
    }
   ],
   "source": [
    "cwru_buffer = cwru.to_crs('EPSG:26917').buffer(5*1609.34)\n",
    "cwru_buffer = cwru_buffer.to_crs('EPSG:4326')\n",
    "cwru_buffer"
   ]
  },
  {
   "cell_type": "markdown",
   "id": "0b782415-3429-4fbe-9372-b1357ad7c994",
   "metadata": {},
   "source": [
    "Now let us load the starbucks data"
   ]
  },
  {
   "cell_type": "code",
   "execution_count": 19,
   "id": "5a4c09d8-4694-4e70-b2e8-5cd42a81015e",
   "metadata": {},
   "outputs": [
    {
     "data": {
      "text/html": [
       "<div>\n",
       "<style scoped>\n",
       "    .dataframe tbody tr th:only-of-type {\n",
       "        vertical-align: middle;\n",
       "    }\n",
       "\n",
       "    .dataframe tbody tr th {\n",
       "        vertical-align: top;\n",
       "    }\n",
       "\n",
       "    .dataframe thead th {\n",
       "        text-align: right;\n",
       "    }\n",
       "</style>\n",
       "<table border=\"1\" class=\"dataframe\">\n",
       "  <thead>\n",
       "    <tr style=\"text-align: right;\">\n",
       "      <th></th>\n",
       "      <th>pk_uid</th>\n",
       "      <th>geometry</th>\n",
       "    </tr>\n",
       "  </thead>\n",
       "  <tbody>\n",
       "    <tr>\n",
       "      <th>0</th>\n",
       "      <td>1</td>\n",
       "      <td>POINT (-73.02315 40.82713)</td>\n",
       "    </tr>\n",
       "    <tr>\n",
       "      <th>1</th>\n",
       "      <td>2</td>\n",
       "      <td>POINT (-72.99688 40.82229)</td>\n",
       "    </tr>\n",
       "    <tr>\n",
       "      <th>2</th>\n",
       "      <td>3</td>\n",
       "      <td>POINT (-73.03259 40.77785)</td>\n",
       "    </tr>\n",
       "    <tr>\n",
       "      <th>3</th>\n",
       "      <td>4</td>\n",
       "      <td>POINT (-73.05505 40.86302)</td>\n",
       "    </tr>\n",
       "    <tr>\n",
       "      <th>4</th>\n",
       "      <td>5</td>\n",
       "      <td>POINT (-73.09551 40.78991)</td>\n",
       "    </tr>\n",
       "  </tbody>\n",
       "</table>\n",
       "</div>"
      ],
      "text/plain": [
       "   pk_uid                    geometry\n",
       "0       1  POINT (-73.02315 40.82713)\n",
       "1       2  POINT (-72.99688 40.82229)\n",
       "2       3  POINT (-73.03259 40.77785)\n",
       "3       4  POINT (-73.05505 40.86302)\n",
       "4       5  POINT (-73.09551 40.78991)"
      ]
     },
     "execution_count": 19,
     "metadata": {},
     "output_type": "execute_result"
    }
   ],
   "source": [
    "starbucks = gpd.read_file('../../largedatasets/starbucks/starbucks.shp')\n",
    "starbucks.head()"
   ]
  },
  {
   "cell_type": "code",
   "execution_count": 20,
   "id": "227afaf0-b929-4b9b-871c-6633d9d59a66",
   "metadata": {},
   "outputs": [],
   "source": [
    "starbucks.crs = cwru_buffer.crs"
   ]
  },
  {
   "cell_type": "code",
   "execution_count": 21,
   "id": "26ae47df-ed95-492b-aa73-5df485061265",
   "metadata": {},
   "outputs": [
    {
     "data": {
      "text/html": [
       "<div>\n",
       "<style scoped>\n",
       "    .dataframe tbody tr th:only-of-type {\n",
       "        vertical-align: middle;\n",
       "    }\n",
       "\n",
       "    .dataframe tbody tr th {\n",
       "        vertical-align: top;\n",
       "    }\n",
       "\n",
       "    .dataframe thead th {\n",
       "        text-align: right;\n",
       "    }\n",
       "</style>\n",
       "<table border=\"1\" class=\"dataframe\">\n",
       "  <thead>\n",
       "    <tr style=\"text-align: right;\">\n",
       "      <th></th>\n",
       "      <th>pk_uid</th>\n",
       "      <th>geometry</th>\n",
       "    </tr>\n",
       "  </thead>\n",
       "  <tbody>\n",
       "    <tr>\n",
       "      <th>5345</th>\n",
       "      <td>5346</td>\n",
       "      <td>POINT (-81.69834 41.49908)</td>\n",
       "    </tr>\n",
       "    <tr>\n",
       "      <th>5347</th>\n",
       "      <td>5348</td>\n",
       "      <td>POINT (-81.69477 41.50174)</td>\n",
       "    </tr>\n",
       "    <tr>\n",
       "      <th>5348</th>\n",
       "      <td>5349</td>\n",
       "      <td>POINT (-81.68142 41.50056)</td>\n",
       "    </tr>\n",
       "    <tr>\n",
       "      <th>7969</th>\n",
       "      <td>7970</td>\n",
       "      <td>POINT (-81.62175 41.50156)</td>\n",
       "    </tr>\n",
       "    <tr>\n",
       "      <th>8000</th>\n",
       "      <td>8001</td>\n",
       "      <td>POINT (-81.61756 41.50206)</td>\n",
       "    </tr>\n",
       "    <tr>\n",
       "      <th>8001</th>\n",
       "      <td>8002</td>\n",
       "      <td>POINT (-81.62066 41.50210)</td>\n",
       "    </tr>\n",
       "    <tr>\n",
       "      <th>8002</th>\n",
       "      <td>8003</td>\n",
       "      <td>POINT (-81.59411 41.50124)</td>\n",
       "    </tr>\n",
       "    <tr>\n",
       "      <th>8003</th>\n",
       "      <td>8004</td>\n",
       "      <td>POINT (-81.60588 41.50816)</td>\n",
       "    </tr>\n",
       "    <tr>\n",
       "      <th>8005</th>\n",
       "      <td>8006</td>\n",
       "      <td>POINT (-81.60444 41.51258)</td>\n",
       "    </tr>\n",
       "    <tr>\n",
       "      <th>8006</th>\n",
       "      <td>8007</td>\n",
       "      <td>POINT (-81.53841 41.50178)</td>\n",
       "    </tr>\n",
       "    <tr>\n",
       "      <th>8007</th>\n",
       "      <td>8008</td>\n",
       "      <td>POINT (-81.56893 41.51624)</td>\n",
       "    </tr>\n",
       "  </tbody>\n",
       "</table>\n",
       "</div>"
      ],
      "text/plain": [
       "      pk_uid                    geometry\n",
       "5345    5346  POINT (-81.69834 41.49908)\n",
       "5347    5348  POINT (-81.69477 41.50174)\n",
       "5348    5349  POINT (-81.68142 41.50056)\n",
       "7969    7970  POINT (-81.62175 41.50156)\n",
       "8000    8001  POINT (-81.61756 41.50206)\n",
       "8001    8002  POINT (-81.62066 41.50210)\n",
       "8002    8003  POINT (-81.59411 41.50124)\n",
       "8003    8004  POINT (-81.60588 41.50816)\n",
       "8005    8006  POINT (-81.60444 41.51258)\n",
       "8006    8007  POINT (-81.53841 41.50178)\n",
       "8007    8008  POINT (-81.56893 41.51624)"
      ]
     },
     "execution_count": 21,
     "metadata": {},
     "output_type": "execute_result"
    }
   ],
   "source": [
    "starbucksCWRU = starbucks[starbucks.within(cwru_buffer.geometry.values[0])]\n",
    "starbucksCWRU"
   ]
  },
  {
   "cell_type": "markdown",
   "id": "8b255008-43da-4d58-9887-31ec992bc365",
   "metadata": {},
   "source": [
    "Now let us use reverse geocode to get the addresses"
   ]
  },
  {
   "cell_type": "code",
   "execution_count": 26,
   "id": "f86d30f0-69e0-4be2-97d0-01f752b27a17",
   "metadata": {},
   "outputs": [],
   "source": [
    "addresses = gpd.tools.reverse_geocode(starbucksCWRU.geometry.values,provider='nominatim',user_agent='test')"
   ]
  },
  {
   "cell_type": "code",
   "execution_count": 27,
   "id": "af5e4fd0-1705-4e6a-bd73-3e3b2af431f0",
   "metadata": {},
   "outputs": [
    {
     "data": {
      "text/html": [
       "<div>\n",
       "<style scoped>\n",
       "    .dataframe tbody tr th:only-of-type {\n",
       "        vertical-align: middle;\n",
       "    }\n",
       "\n",
       "    .dataframe tbody tr th {\n",
       "        vertical-align: top;\n",
       "    }\n",
       "\n",
       "    .dataframe thead th {\n",
       "        text-align: right;\n",
       "    }\n",
       "</style>\n",
       "<table border=\"1\" class=\"dataframe\">\n",
       "  <thead>\n",
       "    <tr style=\"text-align: right;\">\n",
       "      <th></th>\n",
       "      <th>geometry</th>\n",
       "      <th>address</th>\n",
       "    </tr>\n",
       "  </thead>\n",
       "  <tbody>\n",
       "    <tr>\n",
       "      <th>0</th>\n",
       "      <td>POINT (-81.69854 41.49921)</td>\n",
       "      <td>Johnson Block, West 6th Street, Warehouse Dist...</td>\n",
       "    </tr>\n",
       "    <tr>\n",
       "      <th>1</th>\n",
       "      <td>POINT (-81.69491 41.50212)</td>\n",
       "      <td>Global Center for Health Innovation, 133, Sain...</td>\n",
       "    </tr>\n",
       "    <tr>\n",
       "      <th>2</th>\n",
       "      <td>POINT (-81.68113 41.50056)</td>\n",
       "      <td>Hanna Building, Euclid Avenue, Playhouse Squar...</td>\n",
       "    </tr>\n",
       "    <tr>\n",
       "      <th>3</th>\n",
       "      <td>POINT (-81.61982 41.50217)</td>\n",
       "      <td>Cleveland Clinic, 9500, Euclid Avenue, East Ei...</td>\n",
       "    </tr>\n",
       "    <tr>\n",
       "      <th>4</th>\n",
       "      <td>POINT (-81.61982 41.50217)</td>\n",
       "      <td>Cleveland Clinic, 9500, Euclid Avenue, East Ei...</td>\n",
       "    </tr>\n",
       "    <tr>\n",
       "      <th>5</th>\n",
       "      <td>POINT (-81.62066 41.50206)</td>\n",
       "      <td>(Q) Glickman Tower, East 96th Street, East Eig...</td>\n",
       "    </tr>\n",
       "    <tr>\n",
       "      <th>6</th>\n",
       "      <td>POINT (-81.59366 41.50128)</td>\n",
       "      <td>Heights Center Building, 12417, Cedar Road, Ce...</td>\n",
       "    </tr>\n",
       "    <tr>\n",
       "      <th>7</th>\n",
       "      <td>POINT (-81.60594 41.50819)</td>\n",
       "      <td>Starbucks, Euclid Avenue, Uptown, Cleveland, C...</td>\n",
       "    </tr>\n",
       "    <tr>\n",
       "      <th>8</th>\n",
       "      <td>POINT (-81.60442 41.51280)</td>\n",
       "      <td>House 4, East 115th Street, Uptown, Cleveland,...</td>\n",
       "    </tr>\n",
       "    <tr>\n",
       "      <th>9</th>\n",
       "      <td>POINT (-81.53835 41.50176)</td>\n",
       "      <td>Starbucks, 13939, Cedar Road, South Euclid, Cu...</td>\n",
       "    </tr>\n",
       "    <tr>\n",
       "      <th>10</th>\n",
       "      <td>POINT (-81.56913 41.51652)</td>\n",
       "      <td>Rockefeller Building, Lee Road, Heights Rockef...</td>\n",
       "    </tr>\n",
       "  </tbody>\n",
       "</table>\n",
       "</div>"
      ],
      "text/plain": [
       "                      geometry  \\\n",
       "0   POINT (-81.69854 41.49921)   \n",
       "1   POINT (-81.69491 41.50212)   \n",
       "2   POINT (-81.68113 41.50056)   \n",
       "3   POINT (-81.61982 41.50217)   \n",
       "4   POINT (-81.61982 41.50217)   \n",
       "5   POINT (-81.62066 41.50206)   \n",
       "6   POINT (-81.59366 41.50128)   \n",
       "7   POINT (-81.60594 41.50819)   \n",
       "8   POINT (-81.60442 41.51280)   \n",
       "9   POINT (-81.53835 41.50176)   \n",
       "10  POINT (-81.56913 41.51652)   \n",
       "\n",
       "                                              address  \n",
       "0   Johnson Block, West 6th Street, Warehouse Dist...  \n",
       "1   Global Center for Health Innovation, 133, Sain...  \n",
       "2   Hanna Building, Euclid Avenue, Playhouse Squar...  \n",
       "3   Cleveland Clinic, 9500, Euclid Avenue, East Ei...  \n",
       "4   Cleveland Clinic, 9500, Euclid Avenue, East Ei...  \n",
       "5   (Q) Glickman Tower, East 96th Street, East Eig...  \n",
       "6   Heights Center Building, 12417, Cedar Road, Ce...  \n",
       "7   Starbucks, Euclid Avenue, Uptown, Cleveland, C...  \n",
       "8   House 4, East 115th Street, Uptown, Cleveland,...  \n",
       "9   Starbucks, 13939, Cedar Road, South Euclid, Cu...  \n",
       "10  Rockefeller Building, Lee Road, Heights Rockef...  "
      ]
     },
     "execution_count": 27,
     "metadata": {},
     "output_type": "execute_result"
    }
   ],
   "source": [
    "addresses"
   ]
  },
  {
   "cell_type": "code",
   "execution_count": null,
   "id": "388e78f1-f5bd-473a-b60d-7396855ab474",
   "metadata": {},
   "outputs": [],
   "source": []
  }
 ],
 "metadata": {
  "kernelspec": {
   "display_name": "Python 3 (ipykernel)",
   "language": "python",
   "name": "python3"
  },
  "language_info": {
   "codemirror_mode": {
    "name": "ipython",
    "version": 3
   },
   "file_extension": ".py",
   "mimetype": "text/x-python",
   "name": "python",
   "nbconvert_exporter": "python",
   "pygments_lexer": "ipython3",
   "version": "3.10.4"
  }
 },
 "nbformat": 4,
 "nbformat_minor": 5
}
