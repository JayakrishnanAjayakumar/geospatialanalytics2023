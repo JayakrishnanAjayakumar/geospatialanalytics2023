{
 "cells": [
  {
   "cell_type": "markdown",
   "id": "481ba06f-1f4c-472c-91b8-06748da0b430",
   "metadata": {},
   "source": [
    "# SpatialOverlays"
   ]
  },
  {
   "cell_type": "markdown",
   "id": "9bbfa558-edfc-4417-8c68-70e276916636",
   "metadata": {},
   "source": [
    "In the previous few lectures we have learned about spatial joins where we have essentially joined multiple datasets using their location and geometry in space. But what if we want to create a new geometry itself based on how multiple datasets overlap with each other. In such cases we use spatial overlays. "
   ]
  },
  {
   "cell_type": "markdown",
   "id": "6f7de3a1-c54c-4097-97cd-32c0543f33ba",
   "metadata": {},
   "source": [
    "![overlay](images/overlay-operations.svg)"
   ]
  },
  {
   "cell_type": "markdown",
   "id": "e594e5b9-9e13-4878-aa61-d61113ff2c7c",
   "metadata": {},
   "source": [
    "Typical overlay operations include Intersection, Union, and Difference. Let us go through them one by one"
   ]
  },
  {
   "cell_type": "code",
   "execution_count": null,
   "id": "161f9835-7a95-47ff-9061-f190d85803ca",
   "metadata": {},
   "outputs": [],
   "source": [
    "## Union "
   ]
  },
  {
   "cell_type": "markdown",
   "id": "7f29fc6b-f047-4caa-8364-167f77615644",
   "metadata": {},
   "source": [
    "In union all data regardless of the overlap are kept. "
   ]
  },
  {
   "cell_type": "markdown",
   "id": "1e579bd0-96d5-4c84-afba-019cc132f2cc",
   "metadata": {},
   "source": [
    "![union](images/union.png)"
   ]
  },
  {
   "cell_type": "markdown",
   "id": "228927cb-afe7-40d8-8b25-33c2e277d2ef",
   "metadata": {},
   "source": [
    "Let us look at an example. \n",
    "\n",
    "We want to find out all the areas in Cleveland city that are served by starbucks and dunkin donuts (assuming every shop serves people with in 2 mile radius of its location). Let us load our datasets"
   ]
  },
  {
   "cell_type": "code",
   "execution_count": 1,
   "id": "663b7101-0c1c-48b5-8cd0-33b84d17447a",
   "metadata": {},
   "outputs": [],
   "source": [
    "import pandas as pd\n",
    "import geopandas as gpd"
   ]
  },
  {
   "cell_type": "code",
   "execution_count": 2,
   "id": "c500672c-ba5c-4e9a-be83-e672ac7fd46d",
   "metadata": {},
   "outputs": [
    {
     "data": {
      "text/html": [
       "<div>\n",
       "<style scoped>\n",
       "    .dataframe tbody tr th:only-of-type {\n",
       "        vertical-align: middle;\n",
       "    }\n",
       "\n",
       "    .dataframe tbody tr th {\n",
       "        vertical-align: top;\n",
       "    }\n",
       "\n",
       "    .dataframe thead th {\n",
       "        text-align: right;\n",
       "    }\n",
       "</style>\n",
       "<table border=\"1\" class=\"dataframe\">\n",
       "  <thead>\n",
       "    <tr style=\"text-align: right;\">\n",
       "      <th></th>\n",
       "      <th>pk_uid</th>\n",
       "      <th>geometry</th>\n",
       "    </tr>\n",
       "  </thead>\n",
       "  <tbody>\n",
       "    <tr>\n",
       "      <th>0</th>\n",
       "      <td>1</td>\n",
       "      <td>POINT (-73.02315 40.82713)</td>\n",
       "    </tr>\n",
       "    <tr>\n",
       "      <th>1</th>\n",
       "      <td>2</td>\n",
       "      <td>POINT (-72.99688 40.82229)</td>\n",
       "    </tr>\n",
       "    <tr>\n",
       "      <th>2</th>\n",
       "      <td>3</td>\n",
       "      <td>POINT (-73.03259 40.77785)</td>\n",
       "    </tr>\n",
       "    <tr>\n",
       "      <th>3</th>\n",
       "      <td>4</td>\n",
       "      <td>POINT (-73.05505 40.86302)</td>\n",
       "    </tr>\n",
       "    <tr>\n",
       "      <th>4</th>\n",
       "      <td>5</td>\n",
       "      <td>POINT (-73.09551 40.78991)</td>\n",
       "    </tr>\n",
       "  </tbody>\n",
       "</table>\n",
       "</div>"
      ],
      "text/plain": [
       "   pk_uid                    geometry\n",
       "0       1  POINT (-73.02315 40.82713)\n",
       "1       2  POINT (-72.99688 40.82229)\n",
       "2       3  POINT (-73.03259 40.77785)\n",
       "3       4  POINT (-73.05505 40.86302)\n",
       "4       5  POINT (-73.09551 40.78991)"
      ]
     },
     "execution_count": 2,
     "metadata": {},
     "output_type": "execute_result"
    }
   ],
   "source": [
    "starbucks = gpd.read_file('../../largedatasets/starbucks/starbucks.shp')\n",
    "starbucks.head()"
   ]
  },
  {
   "cell_type": "markdown",
   "id": "3069aed1-a066-467a-910f-1eb944497b79",
   "metadata": {},
   "source": [
    "Now let us load the dunkin donuts dataset"
   ]
  },
  {
   "cell_type": "code",
   "execution_count": 3,
   "id": "c3d1ee9f-5381-4a4b-8292-93988e560d13",
   "metadata": {},
   "outputs": [
    {
     "data": {
      "text/html": [
       "<div>\n",
       "<style scoped>\n",
       "    .dataframe tbody tr th:only-of-type {\n",
       "        vertical-align: middle;\n",
       "    }\n",
       "\n",
       "    .dataframe tbody tr th {\n",
       "        vertical-align: top;\n",
       "    }\n",
       "\n",
       "    .dataframe thead th {\n",
       "        text-align: right;\n",
       "    }\n",
       "</style>\n",
       "<table border=\"1\" class=\"dataframe\">\n",
       "  <thead>\n",
       "    <tr style=\"text-align: right;\">\n",
       "      <th></th>\n",
       "      <th>id</th>\n",
       "      <th>address</th>\n",
       "      <th>city</th>\n",
       "      <th>state</th>\n",
       "      <th>zip</th>\n",
       "      <th>country</th>\n",
       "      <th>lat</th>\n",
       "      <th>lng</th>\n",
       "    </tr>\n",
       "  </thead>\n",
       "  <tbody>\n",
       "    <tr>\n",
       "      <th>0</th>\n",
       "      <td>300176</td>\n",
       "      <td>1752B Route 9</td>\n",
       "      <td>Clifton Park</td>\n",
       "      <td>NY</td>\n",
       "      <td>12065</td>\n",
       "      <td>US</td>\n",
       "      <td>42.871739</td>\n",
       "      <td>-73.774136</td>\n",
       "    </tr>\n",
       "    <tr>\n",
       "      <th>1</th>\n",
       "      <td>300178</td>\n",
       "      <td>99 High St</td>\n",
       "      <td>Danvers</td>\n",
       "      <td>MA</td>\n",
       "      <td>1923</td>\n",
       "      <td>US</td>\n",
       "      <td>42.559575</td>\n",
       "      <td>-70.931239</td>\n",
       "    </tr>\n",
       "    <tr>\n",
       "      <th>2</th>\n",
       "      <td>300179</td>\n",
       "      <td>17 Railroad Ave</td>\n",
       "      <td>Rockport</td>\n",
       "      <td>MA</td>\n",
       "      <td>1966</td>\n",
       "      <td>US</td>\n",
       "      <td>42.656344</td>\n",
       "      <td>-70.626211</td>\n",
       "    </tr>\n",
       "    <tr>\n",
       "      <th>3</th>\n",
       "      <td>300202</td>\n",
       "      <td>411 Furrows Rd</td>\n",
       "      <td>Holbrook</td>\n",
       "      <td>NY</td>\n",
       "      <td>11741</td>\n",
       "      <td>US</td>\n",
       "      <td>40.806919</td>\n",
       "      <td>-73.072950</td>\n",
       "    </tr>\n",
       "    <tr>\n",
       "      <th>4</th>\n",
       "      <td>300204</td>\n",
       "      <td>140 Central Ave</td>\n",
       "      <td>East Orange</td>\n",
       "      <td>NJ</td>\n",
       "      <td>7018</td>\n",
       "      <td>US</td>\n",
       "      <td>40.752378</td>\n",
       "      <td>-74.207983</td>\n",
       "    </tr>\n",
       "  </tbody>\n",
       "</table>\n",
       "</div>"
      ],
      "text/plain": [
       "       id          address          city state    zip country        lat  \\\n",
       "0  300176    1752B Route 9  Clifton Park    NY  12065      US  42.871739   \n",
       "1  300178       99 High St       Danvers    MA   1923      US  42.559575   \n",
       "2  300179  17 Railroad Ave      Rockport    MA   1966      US  42.656344   \n",
       "3  300202   411 Furrows Rd      Holbrook    NY  11741      US  40.806919   \n",
       "4  300204  140 Central Ave   East Orange    NJ   7018      US  40.752378   \n",
       "\n",
       "         lng  \n",
       "0 -73.774136  \n",
       "1 -70.931239  \n",
       "2 -70.626211  \n",
       "3 -73.072950  \n",
       "4 -74.207983  "
      ]
     },
     "execution_count": 3,
     "metadata": {},
     "output_type": "execute_result"
    }
   ],
   "source": [
    "dunkin = pd.read_csv(r'../../largedatasets/dunkin/dunkin.csv')\n",
    "dunkin.head()"
   ]
  },
  {
   "cell_type": "markdown",
   "id": "012f574e-da44-4803-9f82-8952bad1f1fb",
   "metadata": {},
   "source": [
    "Now we need to convert the DataFrame into a GeoDataFrame"
   ]
  },
  {
   "cell_type": "code",
   "execution_count": 5,
   "id": "a49b7e08-b6e7-4512-9c8d-b86ec6f76a87",
   "metadata": {},
   "outputs": [
    {
     "data": {
      "text/html": [
       "<div>\n",
       "<style scoped>\n",
       "    .dataframe tbody tr th:only-of-type {\n",
       "        vertical-align: middle;\n",
       "    }\n",
       "\n",
       "    .dataframe tbody tr th {\n",
       "        vertical-align: top;\n",
       "    }\n",
       "\n",
       "    .dataframe thead th {\n",
       "        text-align: right;\n",
       "    }\n",
       "</style>\n",
       "<table border=\"1\" class=\"dataframe\">\n",
       "  <thead>\n",
       "    <tr style=\"text-align: right;\">\n",
       "      <th></th>\n",
       "      <th>id</th>\n",
       "      <th>address</th>\n",
       "      <th>city</th>\n",
       "      <th>state</th>\n",
       "      <th>zip</th>\n",
       "      <th>country</th>\n",
       "      <th>lat</th>\n",
       "      <th>lng</th>\n",
       "      <th>geometry</th>\n",
       "    </tr>\n",
       "  </thead>\n",
       "  <tbody>\n",
       "    <tr>\n",
       "      <th>0</th>\n",
       "      <td>300176</td>\n",
       "      <td>1752B Route 9</td>\n",
       "      <td>Clifton Park</td>\n",
       "      <td>NY</td>\n",
       "      <td>12065</td>\n",
       "      <td>US</td>\n",
       "      <td>42.871739</td>\n",
       "      <td>-73.774136</td>\n",
       "      <td>POINT (-73.77414 42.87174)</td>\n",
       "    </tr>\n",
       "    <tr>\n",
       "      <th>1</th>\n",
       "      <td>300178</td>\n",
       "      <td>99 High St</td>\n",
       "      <td>Danvers</td>\n",
       "      <td>MA</td>\n",
       "      <td>1923</td>\n",
       "      <td>US</td>\n",
       "      <td>42.559575</td>\n",
       "      <td>-70.931239</td>\n",
       "      <td>POINT (-70.93124 42.55958)</td>\n",
       "    </tr>\n",
       "    <tr>\n",
       "      <th>2</th>\n",
       "      <td>300179</td>\n",
       "      <td>17 Railroad Ave</td>\n",
       "      <td>Rockport</td>\n",
       "      <td>MA</td>\n",
       "      <td>1966</td>\n",
       "      <td>US</td>\n",
       "      <td>42.656344</td>\n",
       "      <td>-70.626211</td>\n",
       "      <td>POINT (-70.62621 42.65634)</td>\n",
       "    </tr>\n",
       "    <tr>\n",
       "      <th>3</th>\n",
       "      <td>300202</td>\n",
       "      <td>411 Furrows Rd</td>\n",
       "      <td>Holbrook</td>\n",
       "      <td>NY</td>\n",
       "      <td>11741</td>\n",
       "      <td>US</td>\n",
       "      <td>40.806919</td>\n",
       "      <td>-73.072950</td>\n",
       "      <td>POINT (-73.07295 40.80692)</td>\n",
       "    </tr>\n",
       "    <tr>\n",
       "      <th>4</th>\n",
       "      <td>300204</td>\n",
       "      <td>140 Central Ave</td>\n",
       "      <td>East Orange</td>\n",
       "      <td>NJ</td>\n",
       "      <td>7018</td>\n",
       "      <td>US</td>\n",
       "      <td>40.752378</td>\n",
       "      <td>-74.207983</td>\n",
       "      <td>POINT (-74.20798 40.75238)</td>\n",
       "    </tr>\n",
       "  </tbody>\n",
       "</table>\n",
       "</div>"
      ],
      "text/plain": [
       "       id          address          city state    zip country        lat  \\\n",
       "0  300176    1752B Route 9  Clifton Park    NY  12065      US  42.871739   \n",
       "1  300178       99 High St       Danvers    MA   1923      US  42.559575   \n",
       "2  300179  17 Railroad Ave      Rockport    MA   1966      US  42.656344   \n",
       "3  300202   411 Furrows Rd      Holbrook    NY  11741      US  40.806919   \n",
       "4  300204  140 Central Ave   East Orange    NJ   7018      US  40.752378   \n",
       "\n",
       "         lng                    geometry  \n",
       "0 -73.774136  POINT (-73.77414 42.87174)  \n",
       "1 -70.931239  POINT (-70.93124 42.55958)  \n",
       "2 -70.626211  POINT (-70.62621 42.65634)  \n",
       "3 -73.072950  POINT (-73.07295 40.80692)  \n",
       "4 -74.207983  POINT (-74.20798 40.75238)  "
      ]
     },
     "execution_count": 5,
     "metadata": {},
     "output_type": "execute_result"
    }
   ],
   "source": [
    "dunkinGeo = gpd.GeoDataFrame(dunkin,geometry = gpd.points_from_xy(dunkin.lng,dunkin.lat),crs='EPSG:4326')\n",
    "dunkinGeo.head()"
   ]
  },
  {
   "cell_type": "code",
   "execution_count": 6,
   "id": "27eb8e3d-da74-4e21-b3a9-0c988040e3b8",
   "metadata": {},
   "outputs": [
    {
     "data": {
      "text/plain": [
       "<Geographic 2D CRS: EPSG:4326>\n",
       "Name: WGS 84\n",
       "Axis Info [ellipsoidal]:\n",
       "- Lat[north]: Geodetic latitude (degree)\n",
       "- Lon[east]: Geodetic longitude (degree)\n",
       "Area of Use:\n",
       "- name: World.\n",
       "- bounds: (-180.0, -90.0, 180.0, 90.0)\n",
       "Datum: World Geodetic System 1984 ensemble\n",
       "- Ellipsoid: WGS 84\n",
       "- Prime Meridian: Greenwich"
      ]
     },
     "execution_count": 6,
     "metadata": {},
     "output_type": "execute_result"
    }
   ],
   "source": [
    "dunkinGeo.crs"
   ]
  },
  {
   "cell_type": "code",
   "execution_count": 7,
   "id": "df9f33da-f252-4b09-b3d4-5de319e5abb9",
   "metadata": {},
   "outputs": [],
   "source": [
    "starbucks.crs"
   ]
  },
  {
   "cell_type": "code",
   "execution_count": 8,
   "id": "339eebba-5de7-4fb4-a62f-8e80a5b40b94",
   "metadata": {},
   "outputs": [],
   "source": [
    "starbucks.crs = dunkinGeo.crs"
   ]
  },
  {
   "cell_type": "markdown",
   "id": "4bf1a549-2060-48ff-b6ee-543942a42aa3",
   "metadata": {},
   "source": [
    "Now we need to find out the starbucks and dunkin in Cleveland. "
   ]
  },
  {
   "cell_type": "code",
   "execution_count": 9,
   "id": "f33a401b-5cd6-4368-86fa-c63f1c52216c",
   "metadata": {},
   "outputs": [],
   "source": [
    "clevelandBoundaries = gpd.read_file(r'..\\..\\largedatasets\\cle_bounds\\Cleveland_City_Boundaries_CPC.shp')"
   ]
  },
  {
   "cell_type": "code",
   "execution_count": 10,
   "id": "7a8fe5a7-88d3-4de9-bc16-a2d9860034ee",
   "metadata": {},
   "outputs": [
    {
     "data": {
      "text/plain": [
       "<Derived Projected CRS: EPSG:3734>\n",
       "Name: NAD83 / Ohio North (ftUS)\n",
       "Axis Info [cartesian]:\n",
       "- X[east]: Easting (US survey foot)\n",
       "- Y[north]: Northing (US survey foot)\n",
       "Area of Use:\n",
       "- name: United States (USA) - Ohio - counties of Allen;Ashland; Ashtabula; Auglaize; Carroll; Columbiana; Coshocton; Crawford; Cuyahoga; Defiance; Delaware; Erie; Fulton; Geauga; Hancock; Hardin; Harrison; Henry; Holmes; Huron; Jefferson; Knox; Lake; Logan; Lorain; Lucas; Mahoning; Marion; Medina; Mercer; Morrow; Ottawa; Paulding; Portage; Putnam; Richland; Sandusky; Seneca; Shelby; Stark; Summit; Trumbull; Tuscarawas; Union; Van Wert; Wayne; Williams; Wood; Wyandot.\n",
       "- bounds: (-84.81, 40.1, -80.51, 42.33)\n",
       "Coordinate Operation:\n",
       "- name: SPCS83 Ohio North zone (US Survey feet)\n",
       "- method: Lambert Conic Conformal (2SP)\n",
       "Datum: North American Datum 1983\n",
       "- Ellipsoid: GRS 1980\n",
       "- Prime Meridian: Greenwich"
      ]
     },
     "execution_count": 10,
     "metadata": {},
     "output_type": "execute_result"
    }
   ],
   "source": [
    "clevelandBoundaries.crs"
   ]
  },
  {
   "cell_type": "code",
   "execution_count": 11,
   "id": "f52894ef-3fe9-4d29-951d-7f2db3a9fe7d",
   "metadata": {},
   "outputs": [],
   "source": [
    "clevelandBoundaries = clevelandBoundaries.to_crs(dunkinGeo.crs)"
   ]
  },
  {
   "cell_type": "markdown",
   "id": "2553d8e6-9c34-480b-b92c-a2696d649b89",
   "metadata": {},
   "source": [
    "Now let us use containment predicate to find out all the starbucks and dunkin donuts with in Cleveland"
   ]
  },
  {
   "cell_type": "code",
   "execution_count": 13,
   "id": "918caf78-4dbd-4808-936f-3152345ee8ca",
   "metadata": {},
   "outputs": [
    {
     "data": {
      "text/html": [
       "<div>\n",
       "<style scoped>\n",
       "    .dataframe tbody tr th:only-of-type {\n",
       "        vertical-align: middle;\n",
       "    }\n",
       "\n",
       "    .dataframe tbody tr th {\n",
       "        vertical-align: top;\n",
       "    }\n",
       "\n",
       "    .dataframe thead th {\n",
       "        text-align: right;\n",
       "    }\n",
       "</style>\n",
       "<table border=\"1\" class=\"dataframe\">\n",
       "  <thead>\n",
       "    <tr style=\"text-align: right;\">\n",
       "      <th></th>\n",
       "      <th>pk_uid</th>\n",
       "      <th>geometry</th>\n",
       "    </tr>\n",
       "  </thead>\n",
       "  <tbody>\n",
       "    <tr>\n",
       "      <th>5306</th>\n",
       "      <td>5307</td>\n",
       "      <td>POINT (-81.84213 41.40740)</td>\n",
       "    </tr>\n",
       "    <tr>\n",
       "      <th>5307</th>\n",
       "      <td>5308</td>\n",
       "      <td>POINT (-81.83847 41.41201)</td>\n",
       "    </tr>\n",
       "    <tr>\n",
       "      <th>5324</th>\n",
       "      <td>5325</td>\n",
       "      <td>POINT (-81.77138 41.46817)</td>\n",
       "    </tr>\n",
       "    <tr>\n",
       "      <th>5333</th>\n",
       "      <td>5334</td>\n",
       "      <td>POINT (-81.76827 41.48720)</td>\n",
       "    </tr>\n",
       "    <tr>\n",
       "      <th>5334</th>\n",
       "      <td>5335</td>\n",
       "      <td>POINT (-81.68912 41.45833)</td>\n",
       "    </tr>\n",
       "  </tbody>\n",
       "</table>\n",
       "</div>"
      ],
      "text/plain": [
       "      pk_uid                    geometry\n",
       "5306    5307  POINT (-81.84213 41.40740)\n",
       "5307    5308  POINT (-81.83847 41.41201)\n",
       "5324    5325  POINT (-81.77138 41.46817)\n",
       "5333    5334  POINT (-81.76827 41.48720)\n",
       "5334    5335  POINT (-81.68912 41.45833)"
      ]
     },
     "execution_count": 13,
     "metadata": {},
     "output_type": "execute_result"
    }
   ],
   "source": [
    "starbucksCleveland = starbucks[starbucks.within(clevelandBoundaries.geometry.values[0])]\n",
    "starbucksCleveland.head()"
   ]
  },
  {
   "cell_type": "code",
   "execution_count": 14,
   "id": "77f8d19a-e9fb-439c-b16a-94914322258e",
   "metadata": {},
   "outputs": [
    {
     "data": {
      "text/html": [
       "<div>\n",
       "<style scoped>\n",
       "    .dataframe tbody tr th:only-of-type {\n",
       "        vertical-align: middle;\n",
       "    }\n",
       "\n",
       "    .dataframe tbody tr th {\n",
       "        vertical-align: top;\n",
       "    }\n",
       "\n",
       "    .dataframe thead th {\n",
       "        text-align: right;\n",
       "    }\n",
       "</style>\n",
       "<table border=\"1\" class=\"dataframe\">\n",
       "  <thead>\n",
       "    <tr style=\"text-align: right;\">\n",
       "      <th></th>\n",
       "      <th>id</th>\n",
       "      <th>address</th>\n",
       "      <th>city</th>\n",
       "      <th>state</th>\n",
       "      <th>zip</th>\n",
       "      <th>country</th>\n",
       "      <th>lat</th>\n",
       "      <th>lng</th>\n",
       "      <th>geometry</th>\n",
       "    </tr>\n",
       "  </thead>\n",
       "  <tbody>\n",
       "    <tr>\n",
       "      <th>2746</th>\n",
       "      <td>336756</td>\n",
       "      <td>16204 Lorain Ave</td>\n",
       "      <td>Cleveland</td>\n",
       "      <td>OH</td>\n",
       "      <td>44111</td>\n",
       "      <td>US</td>\n",
       "      <td>41.451009</td>\n",
       "      <td>-81.811466</td>\n",
       "      <td>POINT (-81.81147 41.45101)</td>\n",
       "    </tr>\n",
       "    <tr>\n",
       "      <th>5364</th>\n",
       "      <td>346315</td>\n",
       "      <td>230 W. Huron Rd</td>\n",
       "      <td>Cleveland</td>\n",
       "      <td>OH</td>\n",
       "      <td>44113</td>\n",
       "      <td>US</td>\n",
       "      <td>41.496809</td>\n",
       "      <td>-81.693654</td>\n",
       "      <td>POINT (-81.69365 41.49681)</td>\n",
       "    </tr>\n",
       "    <tr>\n",
       "      <th>5974</th>\n",
       "      <td>347711</td>\n",
       "      <td>4140 Lee Rd</td>\n",
       "      <td>Cleveland</td>\n",
       "      <td>OH</td>\n",
       "      <td>44128</td>\n",
       "      <td>US</td>\n",
       "      <td>41.447281</td>\n",
       "      <td>-81.565259</td>\n",
       "      <td>POINT (-81.56526 41.44728)</td>\n",
       "    </tr>\n",
       "    <tr>\n",
       "      <th>6236</th>\n",
       "      <td>348515</td>\n",
       "      <td>Cleveland Hopkin Int'l Airport</td>\n",
       "      <td>Cleveland</td>\n",
       "      <td>OH</td>\n",
       "      <td>44135</td>\n",
       "      <td>US</td>\n",
       "      <td>41.401453</td>\n",
       "      <td>-81.852506</td>\n",
       "      <td>POINT (-81.85251 41.40145)</td>\n",
       "    </tr>\n",
       "  </tbody>\n",
       "</table>\n",
       "</div>"
      ],
      "text/plain": [
       "          id                         address       city state    zip country  \\\n",
       "2746  336756                16204 Lorain Ave  Cleveland    OH  44111      US   \n",
       "5364  346315                 230 W. Huron Rd  Cleveland    OH  44113      US   \n",
       "5974  347711                     4140 Lee Rd  Cleveland    OH  44128      US   \n",
       "6236  348515  Cleveland Hopkin Int'l Airport  Cleveland    OH  44135      US   \n",
       "\n",
       "            lat        lng                    geometry  \n",
       "2746  41.451009 -81.811466  POINT (-81.81147 41.45101)  \n",
       "5364  41.496809 -81.693654  POINT (-81.69365 41.49681)  \n",
       "5974  41.447281 -81.565259  POINT (-81.56526 41.44728)  \n",
       "6236  41.401453 -81.852506  POINT (-81.85251 41.40145)  "
      ]
     },
     "execution_count": 14,
     "metadata": {},
     "output_type": "execute_result"
    }
   ],
   "source": [
    "dunkinGeoCleveland = dunkinGeo[dunkinGeo.within(clevelandBoundaries.geometry.values[0])]\n",
    "dunkinGeoCleveland.head()"
   ]
  },
  {
   "cell_type": "markdown",
   "id": "9f89f94e-cb55-4458-8e1c-6c28e320def3",
   "metadata": {},
   "source": [
    "Now we need to generate serving areas for these locations. For buffer we need to make sure the data is in projected coordinates (meters). "
   ]
  },
  {
   "cell_type": "code",
   "execution_count": 26,
   "id": "6317ac1f-b770-4d40-bb6d-d16eb1a391b1",
   "metadata": {},
   "outputs": [
    {
     "data": {
      "text/plain": [
       "<AxesSubplot:>"
      ]
     },
     "execution_count": 26,
     "metadata": {},
     "output_type": "execute_result"
    },
    {
     "data": {
      "image/png": "[encoded data removed]",
      "text/plain": [
       "<Figure size 432x288 with 1 Axes>"
      ]
     },
     "metadata": {
      "needs_background": "light"
     },
     "output_type": "display_data"
    }
   ],
   "source": [
    "buffer = starbucksCleveland.to_crs('EPSG:26917').buffer(2*1609.34)\n",
    "starbucksClevelandBuffer = starbucksCleveland.drop(columns=['geometry'])\n",
    "starbucksClevelandBuffer['geometry'] = buffer\n",
    "starbucksClevelandBuffer = gpd.GeoDataFrame(starbucksClevelandBuffer)\n",
    "starbucksClevelandBuffer.plot(facecolor='none')"
   ]
  },
  {
   "cell_type": "code",
   "execution_count": 27,
   "id": "08747dd9-c1f8-4f0f-9192-c1c8313f42ab",
   "metadata": {},
   "outputs": [
    {
     "data": {
      "text/plain": [
       "<AxesSubplot:>"
      ]
     },
     "execution_count": 27,
     "metadata": {},
     "output_type": "execute_result"
    },
    {
     "data": {
      "image/png": "[encoded data removed]",
      "text/plain": [
       "<Figure size 432x288 with 1 Axes>"
      ]
     },
     "metadata": {
      "needs_background": "light"
     },
     "output_type": "display_data"
    }
   ],
   "source": [
    "buffer = dunkinGeoCleveland.to_crs('EPSG:26917').buffer(2*1609.34)\n",
    "dunkinBuffer = dunkinGeoCleveland.drop(columns=['geometry'])\n",
    "dunkinBuffer['geometry'] = buffer\n",
    "dunkinBuffer = gpd.GeoDataFrame(dunkinBuffer)\n",
    "dunkinBuffer.plot(facecolor='none')"
   ]
  },
  {
   "cell_type": "markdown",
   "id": "a4697acc-c620-42a6-88f8-fc5fb59c31f3",
   "metadata": {},
   "source": [
    "Let us plot both of these buffers together just for visualization"
   ]
  },
  {
   "cell_type": "code",
   "execution_count": 28,
   "id": "aa32738a-2aaf-4b53-ab3e-dd060142fc91",
   "metadata": {},
   "outputs": [
    {
     "data": {
      "text/plain": [
       "<AxesSubplot:>"
      ]
     },
     "execution_count": 28,
     "metadata": {},
     "output_type": "execute_result"
    },
    {
     "data": {
      "image/png": "[encoded data removed]",
      "text/plain": [
       "<Figure size 432x288 with 1 Axes>"
      ]
     },
     "metadata": {
      "needs_background": "light"
     },
     "output_type": "display_data"
    }
   ],
   "source": [
    "ax = dunkinBuffer.plot(facecolor='none',edgecolor = 'red')\n",
    "starbucksClevelandBuffer.plot(facecolor='none',edgecolor = 'green',ax=ax)"
   ]
  },
  {
   "cell_type": "markdown",
   "id": "f66fc5d0-ceb3-46da-ba70-82c066b0dc54",
   "metadata": {},
   "source": [
    "Now let us extract out the union of the two datasets to find out all the area covered by both the coffee chains."
   ]
  },
  {
   "cell_type": "code",
   "execution_count": 30,
   "id": "06249769-ca1b-4a9e-8312-c863fe597741",
   "metadata": {},
   "outputs": [
    {
     "data": {
      "text/html": [
       "<div>\n",
       "<style scoped>\n",
       "    .dataframe tbody tr th:only-of-type {\n",
       "        vertical-align: middle;\n",
       "    }\n",
       "\n",
       "    .dataframe tbody tr th {\n",
       "        vertical-align: top;\n",
       "    }\n",
       "\n",
       "    .dataframe thead th {\n",
       "        text-align: right;\n",
       "    }\n",
       "</style>\n",
       "<table border=\"1\" class=\"dataframe\">\n",
       "  <thead>\n",
       "    <tr style=\"text-align: right;\">\n",
       "      <th></th>\n",
       "      <th>id</th>\n",
       "      <th>address</th>\n",
       "      <th>city</th>\n",
       "      <th>state</th>\n",
       "      <th>zip</th>\n",
       "      <th>country</th>\n",
       "      <th>lat</th>\n",
       "      <th>lng</th>\n",
       "      <th>pk_uid</th>\n",
       "      <th>geometry</th>\n",
       "    </tr>\n",
       "  </thead>\n",
       "  <tbody>\n",
       "    <tr>\n",
       "      <th>0</th>\n",
       "      <td>336756.0</td>\n",
       "      <td>16204 Lorain Ave</td>\n",
       "      <td>Cleveland</td>\n",
       "      <td>OH</td>\n",
       "      <td>44111.0</td>\n",
       "      <td>US</td>\n",
       "      <td>41.451009</td>\n",
       "      <td>-81.811466</td>\n",
       "      <td>5307.0</td>\n",
       "      <td>POLYGON ((432221.402 4585924.650, 431905.917 4...</td>\n",
       "    </tr>\n",
       "    <tr>\n",
       "      <th>1</th>\n",
       "      <td>348515.0</td>\n",
       "      <td>Cleveland Hopkin Int'l Airport</td>\n",
       "      <td>Cleveland</td>\n",
       "      <td>OH</td>\n",
       "      <td>44135.0</td>\n",
       "      <td>US</td>\n",
       "      <td>41.401453</td>\n",
       "      <td>-81.852506</td>\n",
       "      <td>5307.0</td>\n",
       "      <td>POLYGON ((431942.450 4583359.131, 431896.102 4...</td>\n",
       "    </tr>\n",
       "    <tr>\n",
       "      <th>2</th>\n",
       "      <td>336756.0</td>\n",
       "      <td>16204 Lorain Ave</td>\n",
       "      <td>Cleveland</td>\n",
       "      <td>OH</td>\n",
       "      <td>44111.0</td>\n",
       "      <td>US</td>\n",
       "      <td>41.451009</td>\n",
       "      <td>-81.811466</td>\n",
       "      <td>5308.0</td>\n",
       "      <td>POLYGON ((432849.336 4585986.496, 432536.888 4...</td>\n",
       "    </tr>\n",
       "    <tr>\n",
       "      <th>3</th>\n",
       "      <td>348515.0</td>\n",
       "      <td>Cleveland Hopkin Int'l Airport</td>\n",
       "      <td>Cleveland</td>\n",
       "      <td>OH</td>\n",
       "      <td>44135.0</td>\n",
       "      <td>US</td>\n",
       "      <td>41.401453</td>\n",
       "      <td>-81.852506</td>\n",
       "      <td>5308.0</td>\n",
       "      <td>POLYGON ((431942.450 4583359.131, 431896.102 4...</td>\n",
       "    </tr>\n",
       "    <tr>\n",
       "      <th>4</th>\n",
       "      <td>336756.0</td>\n",
       "      <td>16204 Lorain Ave</td>\n",
       "      <td>Cleveland</td>\n",
       "      <td>OH</td>\n",
       "      <td>44111.0</td>\n",
       "      <td>US</td>\n",
       "      <td>41.451009</td>\n",
       "      <td>-81.811466</td>\n",
       "      <td>5325.0</td>\n",
       "      <td>POLYGON ((435424.584 4588827.845, 435378.236 4...</td>\n",
       "    </tr>\n",
       "    <tr>\n",
       "      <th>5</th>\n",
       "      <td>336756.0</td>\n",
       "      <td>16204 Lorain Ave</td>\n",
       "      <td>Cleveland</td>\n",
       "      <td>OH</td>\n",
       "      <td>44111.0</td>\n",
       "      <td>US</td>\n",
       "      <td>41.451009</td>\n",
       "      <td>-81.811466</td>\n",
       "      <td>5334.0</td>\n",
       "      <td>POLYGON ((432849.336 4592300.164, 433155.736 4...</td>\n",
       "    </tr>\n",
       "    <tr>\n",
       "      <th>6</th>\n",
       "      <td>346315.0</td>\n",
       "      <td>230 W. Huron Rd</td>\n",
       "      <td>Cleveland</td>\n",
       "      <td>OH</td>\n",
       "      <td>44113.0</td>\n",
       "      <td>US</td>\n",
       "      <td>41.496809</td>\n",
       "      <td>-81.693654</td>\n",
       "      <td>5334.0</td>\n",
       "      <td>POLYGON ((439022.560 4593208.138, 438945.810 4...</td>\n",
       "    </tr>\n",
       "    <tr>\n",
       "      <th>7</th>\n",
       "      <td>346315.0</td>\n",
       "      <td>230 W. Huron Rd</td>\n",
       "      <td>Cleveland</td>\n",
       "      <td>OH</td>\n",
       "      <td>44113.0</td>\n",
       "      <td>US</td>\n",
       "      <td>41.496809</td>\n",
       "      <td>-81.693654</td>\n",
       "      <td>5335.0</td>\n",
       "      <td>POLYGON ((444590.718 4592100.562, 444378.595 4...</td>\n",
       "    </tr>\n",
       "    <tr>\n",
       "      <th>8</th>\n",
       "      <td>346315.0</td>\n",
       "      <td>230 W. Huron Rd</td>\n",
       "      <td>Cleveland</td>\n",
       "      <td>OH</td>\n",
       "      <td>44113.0</td>\n",
       "      <td>US</td>\n",
       "      <td>41.496809</td>\n",
       "      <td>-81.693654</td>\n",
       "      <td>5336.0</td>\n",
       "      <td>POLYGON ((444590.718 4592100.562, 444378.595 4...</td>\n",
       "    </tr>\n",
       "    <tr>\n",
       "      <th>9</th>\n",
       "      <td>346315.0</td>\n",
       "      <td>230 W. Huron Rd</td>\n",
       "      <td>Cleveland</td>\n",
       "      <td>OH</td>\n",
       "      <td>44113.0</td>\n",
       "      <td>US</td>\n",
       "      <td>41.496809</td>\n",
       "      <td>-81.693654</td>\n",
       "      <td>5346.0</td>\n",
       "      <td>POLYGON ((440060.735 4591654.398, 439826.694 4...</td>\n",
       "    </tr>\n",
       "    <tr>\n",
       "      <th>10</th>\n",
       "      <td>346315.0</td>\n",
       "      <td>230 W. Huron Rd</td>\n",
       "      <td>Cleveland</td>\n",
       "      <td>OH</td>\n",
       "      <td>44113.0</td>\n",
       "      <td>US</td>\n",
       "      <td>41.496809</td>\n",
       "      <td>-81.693654</td>\n",
       "      <td>5348.0</td>\n",
       "      <td>POLYGON ((438883.964 4594142.471, 438899.463 4...</td>\n",
       "    </tr>\n",
       "    <tr>\n",
       "      <th>11</th>\n",
       "      <td>346315.0</td>\n",
       "      <td>230 W. Huron Rd</td>\n",
       "      <td>Cleveland</td>\n",
       "      <td>OH</td>\n",
       "      <td>44113.0</td>\n",
       "      <td>US</td>\n",
       "      <td>41.496809</td>\n",
       "      <td>-81.693654</td>\n",
       "      <td>5349.0</td>\n",
       "      <td>POLYGON ((445305.825 4593826.985, 445259.478 4...</td>\n",
       "    </tr>\n",
       "    <tr>\n",
       "      <th>12</th>\n",
       "      <td>346315.0</td>\n",
       "      <td>230 W. Huron Rd</td>\n",
       "      <td>Cleveland</td>\n",
       "      <td>OH</td>\n",
       "      <td>44113.0</td>\n",
       "      <td>US</td>\n",
       "      <td>41.496809</td>\n",
       "      <td>-81.693654</td>\n",
       "      <td>7970.0</td>\n",
       "      <td>POLYGON ((445305.825 4593826.985, 445259.478 4...</td>\n",
       "    </tr>\n",
       "    <tr>\n",
       "      <th>13</th>\n",
       "      <td>346315.0</td>\n",
       "      <td>230 W. Huron Rd</td>\n",
       "      <td>Cleveland</td>\n",
       "      <td>OH</td>\n",
       "      <td>44113.0</td>\n",
       "      <td>US</td>\n",
       "      <td>41.496809</td>\n",
       "      <td>-81.693654</td>\n",
       "      <td>8001.0</td>\n",
       "      <td>POLYGON ((445314.147 4593996.368, 445300.955 4...</td>\n",
       "    </tr>\n",
       "    <tr>\n",
       "      <th>14</th>\n",
       "      <td>346315.0</td>\n",
       "      <td>230 W. Huron Rd</td>\n",
       "      <td>Cleveland</td>\n",
       "      <td>OH</td>\n",
       "      <td>44113.0</td>\n",
       "      <td>US</td>\n",
       "      <td>41.496809</td>\n",
       "      <td>-81.693654</td>\n",
       "      <td>8002.0</td>\n",
       "      <td>POLYGON ((445305.825 4593826.985, 445259.478 4...</td>\n",
       "    </tr>\n",
       "    <tr>\n",
       "      <th>15</th>\n",
       "      <td>336756.0</td>\n",
       "      <td>16204 Lorain Ave</td>\n",
       "      <td>Cleveland</td>\n",
       "      <td>OH</td>\n",
       "      <td>44111.0</td>\n",
       "      <td>US</td>\n",
       "      <td>41.451009</td>\n",
       "      <td>-81.811466</td>\n",
       "      <td>NaN</td>\n",
       "      <td>POLYGON ((434897.637 4587355.128, 434709.476 4...</td>\n",
       "    </tr>\n",
       "    <tr>\n",
       "      <th>16</th>\n",
       "      <td>347711.0</td>\n",
       "      <td>4140 Lee Rd</td>\n",
       "      <td>Cleveland</td>\n",
       "      <td>OH</td>\n",
       "      <td>44128.0</td>\n",
       "      <td>US</td>\n",
       "      <td>41.447281</td>\n",
       "      <td>-81.565259</td>\n",
       "      <td>NaN</td>\n",
       "      <td>POLYGON ((456002.235 4588565.914, 455986.736 4...</td>\n",
       "    </tr>\n",
       "    <tr>\n",
       "      <th>17</th>\n",
       "      <td>348515.0</td>\n",
       "      <td>Cleveland Hopkin Int'l Airport</td>\n",
       "      <td>Cleveland</td>\n",
       "      <td>OH</td>\n",
       "      <td>44135.0</td>\n",
       "      <td>US</td>\n",
       "      <td>41.401453</td>\n",
       "      <td>-81.852506</td>\n",
       "      <td>NaN</td>\n",
       "      <td>POLYGON ((430781.177 4581186.543, 430527.471 4...</td>\n",
       "    </tr>\n",
       "    <tr>\n",
       "      <th>18</th>\n",
       "      <td>NaN</td>\n",
       "      <td>NaN</td>\n",
       "      <td>NaN</td>\n",
       "      <td>NaN</td>\n",
       "      <td>NaN</td>\n",
       "      <td>NaN</td>\n",
       "      <td>NaN</td>\n",
       "      <td>NaN</td>\n",
       "      <td>5307.0</td>\n",
       "      <td>POLYGON ((432769.613 4583698.874, 432692.863 4...</td>\n",
       "    </tr>\n",
       "    <tr>\n",
       "      <th>19</th>\n",
       "      <td>NaN</td>\n",
       "      <td>NaN</td>\n",
       "      <td>NaN</td>\n",
       "      <td>NaN</td>\n",
       "      <td>NaN</td>\n",
       "      <td>NaN</td>\n",
       "      <td>NaN</td>\n",
       "      <td>NaN</td>\n",
       "      <td>5308.0</td>\n",
       "      <td>POLYGON ((433080.893 4584206.922, 433004.144 4...</td>\n",
       "    </tr>\n",
       "    <tr>\n",
       "      <th>20</th>\n",
       "      <td>NaN</td>\n",
       "      <td>NaN</td>\n",
       "      <td>NaN</td>\n",
       "      <td>NaN</td>\n",
       "      <td>NaN</td>\n",
       "      <td>NaN</td>\n",
       "      <td>NaN</td>\n",
       "      <td>NaN</td>\n",
       "      <td>5325.0</td>\n",
       "      <td>POLYGON ((438789.833 4590702.874, 438743.486 4...</td>\n",
       "    </tr>\n",
       "    <tr>\n",
       "      <th>21</th>\n",
       "      <td>NaN</td>\n",
       "      <td>NaN</td>\n",
       "      <td>NaN</td>\n",
       "      <td>NaN</td>\n",
       "      <td>NaN</td>\n",
       "      <td>NaN</td>\n",
       "      <td>NaN</td>\n",
       "      <td>NaN</td>\n",
       "      <td>5334.0</td>\n",
       "      <td>POLYGON ((439022.038 4592500.604, 438945.289 4...</td>\n",
       "    </tr>\n",
       "    <tr>\n",
       "      <th>22</th>\n",
       "      <td>NaN</td>\n",
       "      <td>NaN</td>\n",
       "      <td>NaN</td>\n",
       "      <td>NaN</td>\n",
       "      <td>NaN</td>\n",
       "      <td>NaN</td>\n",
       "      <td>NaN</td>\n",
       "      <td>NaN</td>\n",
       "      <td>5335.0</td>\n",
       "      <td>POLYGON ((445650.228 4589552.251, 445603.881 4...</td>\n",
       "    </tr>\n",
       "    <tr>\n",
       "      <th>23</th>\n",
       "      <td>NaN</td>\n",
       "      <td>NaN</td>\n",
       "      <td>NaN</td>\n",
       "      <td>NaN</td>\n",
       "      <td>NaN</td>\n",
       "      <td>NaN</td>\n",
       "      <td>NaN</td>\n",
       "      <td>NaN</td>\n",
       "      <td>5336.0</td>\n",
       "      <td>POLYGON ((445442.482 4589747.650, 445396.135 4...</td>\n",
       "    </tr>\n",
       "    <tr>\n",
       "      <th>24</th>\n",
       "      <td>NaN</td>\n",
       "      <td>NaN</td>\n",
       "      <td>NaN</td>\n",
       "      <td>NaN</td>\n",
       "      <td>NaN</td>\n",
       "      <td>NaN</td>\n",
       "      <td>NaN</td>\n",
       "      <td>NaN</td>\n",
       "      <td>5346.0</td>\n",
       "      <td>POLYGON ((439925.346 4591721.289, 439671.640 4...</td>\n",
       "    </tr>\n",
       "    <tr>\n",
       "      <th>25</th>\n",
       "      <td>NaN</td>\n",
       "      <td>NaN</td>\n",
       "      <td>NaN</td>\n",
       "      <td>NaN</td>\n",
       "      <td>NaN</td>\n",
       "      <td>NaN</td>\n",
       "      <td>NaN</td>\n",
       "      <td>NaN</td>\n",
       "      <td>5348.0</td>\n",
       "      <td>POLYGON ((438856.976 4594062.726, 438810.629 4...</td>\n",
       "    </tr>\n",
       "    <tr>\n",
       "      <th>26</th>\n",
       "      <td>NaN</td>\n",
       "      <td>NaN</td>\n",
       "      <td>NaN</td>\n",
       "      <td>NaN</td>\n",
       "      <td>NaN</td>\n",
       "      <td>NaN</td>\n",
       "      <td>NaN</td>\n",
       "      <td>NaN</td>\n",
       "      <td>5349.0</td>\n",
       "      <td>POLYGON ((446329.923 4594235.641, 446283.576 4...</td>\n",
       "    </tr>\n",
       "    <tr>\n",
       "      <th>27</th>\n",
       "      <td>NaN</td>\n",
       "      <td>NaN</td>\n",
       "      <td>NaN</td>\n",
       "      <td>NaN</td>\n",
       "      <td>NaN</td>\n",
       "      <td>NaN</td>\n",
       "      <td>NaN</td>\n",
       "      <td>NaN</td>\n",
       "      <td>7970.0</td>\n",
       "      <td>POLYGON ((451311.452 4594308.251, 451265.105 4...</td>\n",
       "    </tr>\n",
       "    <tr>\n",
       "      <th>28</th>\n",
       "      <td>NaN</td>\n",
       "      <td>NaN</td>\n",
       "      <td>NaN</td>\n",
       "      <td>NaN</td>\n",
       "      <td>NaN</td>\n",
       "      <td>NaN</td>\n",
       "      <td>NaN</td>\n",
       "      <td>NaN</td>\n",
       "      <td>8001.0</td>\n",
       "      <td>POLYGON ((451660.970 4594361.481, 451614.623 4...</td>\n",
       "    </tr>\n",
       "    <tr>\n",
       "      <th>29</th>\n",
       "      <td>NaN</td>\n",
       "      <td>NaN</td>\n",
       "      <td>NaN</td>\n",
       "      <td>NaN</td>\n",
       "      <td>NaN</td>\n",
       "      <td>NaN</td>\n",
       "      <td>NaN</td>\n",
       "      <td>NaN</td>\n",
       "      <td>8002.0</td>\n",
       "      <td>POLYGON ((451402.946 4594368.547, 451356.599 4...</td>\n",
       "    </tr>\n",
       "    <tr>\n",
       "      <th>30</th>\n",
       "      <td>NaN</td>\n",
       "      <td>NaN</td>\n",
       "      <td>NaN</td>\n",
       "      <td>NaN</td>\n",
       "      <td>NaN</td>\n",
       "      <td>NaN</td>\n",
       "      <td>NaN</td>\n",
       "      <td>NaN</td>\n",
       "      <td>8004.0</td>\n",
       "      <td>POLYGON ((452656.540 4595347.734, 452641.041 4...</td>\n",
       "    </tr>\n",
       "    <tr>\n",
       "      <th>31</th>\n",
       "      <td>NaN</td>\n",
       "      <td>NaN</td>\n",
       "      <td>NaN</td>\n",
       "      <td>NaN</td>\n",
       "      <td>NaN</td>\n",
       "      <td>NaN</td>\n",
       "      <td>NaN</td>\n",
       "      <td>NaN</td>\n",
       "      <td>8006.0</td>\n",
       "      <td>POLYGON ((452779.808 4595837.604, 452764.309 4...</td>\n",
       "    </tr>\n",
       "  </tbody>\n",
       "</table>\n",
       "</div>"
      ],
      "text/plain": [
       "          id                         address       city state      zip  \\\n",
       "0   336756.0                16204 Lorain Ave  Cleveland    OH  44111.0   \n",
       "1   348515.0  Cleveland Hopkin Int'l Airport  Cleveland    OH  44135.0   \n",
       "2   336756.0                16204 Lorain Ave  Cleveland    OH  44111.0   \n",
       "3   348515.0  Cleveland Hopkin Int'l Airport  Cleveland    OH  44135.0   \n",
       "4   336756.0                16204 Lorain Ave  Cleveland    OH  44111.0   \n",
       "5   336756.0                16204 Lorain Ave  Cleveland    OH  44111.0   \n",
       "6   346315.0                 230 W. Huron Rd  Cleveland    OH  44113.0   \n",
       "7   346315.0                 230 W. Huron Rd  Cleveland    OH  44113.0   \n",
       "8   346315.0                 230 W. Huron Rd  Cleveland    OH  44113.0   \n",
       "9   346315.0                 230 W. Huron Rd  Cleveland    OH  44113.0   \n",
       "10  346315.0                 230 W. Huron Rd  Cleveland    OH  44113.0   \n",
       "11  346315.0                 230 W. Huron Rd  Cleveland    OH  44113.0   \n",
       "12  346315.0                 230 W. Huron Rd  Cleveland    OH  44113.0   \n",
       "13  346315.0                 230 W. Huron Rd  Cleveland    OH  44113.0   \n",
       "14  346315.0                 230 W. Huron Rd  Cleveland    OH  44113.0   \n",
       "15  336756.0                16204 Lorain Ave  Cleveland    OH  44111.0   \n",
       "16  347711.0                     4140 Lee Rd  Cleveland    OH  44128.0   \n",
       "17  348515.0  Cleveland Hopkin Int'l Airport  Cleveland    OH  44135.0   \n",
       "18       NaN                             NaN        NaN   NaN      NaN   \n",
       "19       NaN                             NaN        NaN   NaN      NaN   \n",
       "20       NaN                             NaN        NaN   NaN      NaN   \n",
       "21       NaN                             NaN        NaN   NaN      NaN   \n",
       "22       NaN                             NaN        NaN   NaN      NaN   \n",
       "23       NaN                             NaN        NaN   NaN      NaN   \n",
       "24       NaN                             NaN        NaN   NaN      NaN   \n",
       "25       NaN                             NaN        NaN   NaN      NaN   \n",
       "26       NaN                             NaN        NaN   NaN      NaN   \n",
       "27       NaN                             NaN        NaN   NaN      NaN   \n",
       "28       NaN                             NaN        NaN   NaN      NaN   \n",
       "29       NaN                             NaN        NaN   NaN      NaN   \n",
       "30       NaN                             NaN        NaN   NaN      NaN   \n",
       "31       NaN                             NaN        NaN   NaN      NaN   \n",
       "\n",
       "   country        lat        lng  pk_uid  \\\n",
       "0       US  41.451009 -81.811466  5307.0   \n",
       "1       US  41.401453 -81.852506  5307.0   \n",
       "2       US  41.451009 -81.811466  5308.0   \n",
       "3       US  41.401453 -81.852506  5308.0   \n",
       "4       US  41.451009 -81.811466  5325.0   \n",
       "5       US  41.451009 -81.811466  5334.0   \n",
       "6       US  41.496809 -81.693654  5334.0   \n",
       "7       US  41.496809 -81.693654  5335.0   \n",
       "8       US  41.496809 -81.693654  5336.0   \n",
       "9       US  41.496809 -81.693654  5346.0   \n",
       "10      US  41.496809 -81.693654  5348.0   \n",
       "11      US  41.496809 -81.693654  5349.0   \n",
       "12      US  41.496809 -81.693654  7970.0   \n",
       "13      US  41.496809 -81.693654  8001.0   \n",
       "14      US  41.496809 -81.693654  8002.0   \n",
       "15      US  41.451009 -81.811466     NaN   \n",
       "16      US  41.447281 -81.565259     NaN   \n",
       "17      US  41.401453 -81.852506     NaN   \n",
       "18     NaN        NaN        NaN  5307.0   \n",
       "19     NaN        NaN        NaN  5308.0   \n",
       "20     NaN        NaN        NaN  5325.0   \n",
       "21     NaN        NaN        NaN  5334.0   \n",
       "22     NaN        NaN        NaN  5335.0   \n",
       "23     NaN        NaN        NaN  5336.0   \n",
       "24     NaN        NaN        NaN  5346.0   \n",
       "25     NaN        NaN        NaN  5348.0   \n",
       "26     NaN        NaN        NaN  5349.0   \n",
       "27     NaN        NaN        NaN  7970.0   \n",
       "28     NaN        NaN        NaN  8001.0   \n",
       "29     NaN        NaN        NaN  8002.0   \n",
       "30     NaN        NaN        NaN  8004.0   \n",
       "31     NaN        NaN        NaN  8006.0   \n",
       "\n",
       "                                             geometry  \n",
       "0   POLYGON ((432221.402 4585924.650, 431905.917 4...  \n",
       "1   POLYGON ((431942.450 4583359.131, 431896.102 4...  \n",
       "2   POLYGON ((432849.336 4585986.496, 432536.888 4...  \n",
       "3   POLYGON ((431942.450 4583359.131, 431896.102 4...  \n",
       "4   POLYGON ((435424.584 4588827.845, 435378.236 4...  \n",
       "5   POLYGON ((432849.336 4592300.164, 433155.736 4...  \n",
       "6   POLYGON ((439022.560 4593208.138, 438945.810 4...  \n",
       "7   POLYGON ((444590.718 4592100.562, 444378.595 4...  \n",
       "8   POLYGON ((444590.718 4592100.562, 444378.595 4...  \n",
       "9   POLYGON ((440060.735 4591654.398, 439826.694 4...  \n",
       "10  POLYGON ((438883.964 4594142.471, 438899.463 4...  \n",
       "11  POLYGON ((445305.825 4593826.985, 445259.478 4...  \n",
       "12  POLYGON ((445305.825 4593826.985, 445259.478 4...  \n",
       "13  POLYGON ((445314.147 4593996.368, 445300.955 4...  \n",
       "14  POLYGON ((445305.825 4593826.985, 445259.478 4...  \n",
       "15  POLYGON ((434897.637 4587355.128, 434709.476 4...  \n",
       "16  POLYGON ((456002.235 4588565.914, 455986.736 4...  \n",
       "17  POLYGON ((430781.177 4581186.543, 430527.471 4...  \n",
       "18  POLYGON ((432769.613 4583698.874, 432692.863 4...  \n",
       "19  POLYGON ((433080.893 4584206.922, 433004.144 4...  \n",
       "20  POLYGON ((438789.833 4590702.874, 438743.486 4...  \n",
       "21  POLYGON ((439022.038 4592500.604, 438945.289 4...  \n",
       "22  POLYGON ((445650.228 4589552.251, 445603.881 4...  \n",
       "23  POLYGON ((445442.482 4589747.650, 445396.135 4...  \n",
       "24  POLYGON ((439925.346 4591721.289, 439671.640 4...  \n",
       "25  POLYGON ((438856.976 4594062.726, 438810.629 4...  \n",
       "26  POLYGON ((446329.923 4594235.641, 446283.576 4...  \n",
       "27  POLYGON ((451311.452 4594308.251, 451265.105 4...  \n",
       "28  POLYGON ((451660.970 4594361.481, 451614.623 4...  \n",
       "29  POLYGON ((451402.946 4594368.547, 451356.599 4...  \n",
       "30  POLYGON ((452656.540 4595347.734, 452641.041 4...  \n",
       "31  POLYGON ((452779.808 4595837.604, 452764.309 4...  "
      ]
     },
     "execution_count": 30,
     "metadata": {},
     "output_type": "execute_result"
    }
   ],
   "source": [
    "combined = gpd.overlay(dunkinBuffer, starbucksClevelandBuffer, how = 'union')\n",
    "combined"
   ]
  },
  {
   "cell_type": "markdown",
   "id": "e2e45a96-7031-4033-a946-6f3588bc9c58",
   "metadata": {},
   "source": [
    "Let us plot our combined dataset"
   ]
  },
  {
   "cell_type": "code",
   "execution_count": 31,
   "id": "ca53f743-9ca3-4791-a329-bb97082fd820",
   "metadata": {},
   "outputs": [
    {
     "data": {
      "text/plain": [
       "<AxesSubplot:>"
      ]
     },
     "execution_count": 31,
     "metadata": {},
     "output_type": "execute_result"
    },
    {
     "data": {
      "image/png": "[encoded data removed]",
      "text/plain": [
       "<Figure size 432x288 with 1 Axes>"
      ]
     },
     "metadata": {
      "needs_background": "light"
     },
     "output_type": "display_data"
    }
   ],
   "source": [
    "combined.plot(facecolor='none')"
   ]
  },
  {
   "cell_type": "markdown",
   "id": "ddbbd029-4deb-47a6-8a34-4556e1ff5b38",
   "metadata": {},
   "source": [
    "There are atleast three different attribute combination for the geometries\n",
    "\n",
    "1. Starbucks alone\n",
    "\n",
    "We can filter this out by checking starbucks not null and dunkin null"
   ]
  },
  {
   "cell_type": "code",
   "execution_count": 34,
   "id": "2c34d457-f3d9-4007-8baf-310ebc1a5f22",
   "metadata": {},
   "outputs": [
    {
     "data": {
      "text/plain": [
       "<AxesSubplot:>"
      ]
     },
     "execution_count": 34,
     "metadata": {},
     "output_type": "execute_result"
    },
    {
     "data": {
      "image/png": "[encoded data removed]",
      "text/plain": [
       "<Figure size 432x288 with 1 Axes>"
      ]
     },
     "metadata": {
      "needs_background": "light"
     },
     "output_type": "display_data"
    }
   ],
   "source": [
    "combined[(combined.pk_uid.notna())&(combined.id.isnull())].plot(facecolor='none')"
   ]
  },
  {
   "cell_type": "markdown",
   "id": "a5ca8c37-4a3d-487c-bc55-c029442dc39d",
   "metadata": {},
   "source": [
    "2. Dunkin alone"
   ]
  },
  {
   "cell_type": "code",
   "execution_count": 35,
   "id": "ce33e8c4-f300-4830-b9e9-a74ee032bf93",
   "metadata": {},
   "outputs": [
    {
     "data": {
      "text/plain": [
       "<AxesSubplot:>"
      ]
     },
     "execution_count": 35,
     "metadata": {},
     "output_type": "execute_result"
    },
    {
     "data": {
      "image/png": "[encoded data removed]",
      "text/plain": [
       "<Figure size 432x288 with 1 Axes>"
      ]
     },
     "metadata": {
      "needs_background": "light"
     },
     "output_type": "display_data"
    }
   ],
   "source": [
    "combined[(combined.pk_uid.isnull())&(combined.id.notna())].plot(facecolor='none')"
   ]
  },
  {
   "cell_type": "markdown",
   "id": "0b63a528-83e3-4eee-bbdd-d9c5950ee3b8",
   "metadata": {},
   "source": [
    "3. Served by both starbucks and dunkin"
   ]
  },
  {
   "cell_type": "code",
   "execution_count": 36,
   "id": "b8625aac-3dae-414b-a02d-14d0205fe3d6",
   "metadata": {},
   "outputs": [
    {
     "data": {
      "text/plain": [
       "<AxesSubplot:>"
      ]
     },
     "execution_count": 36,
     "metadata": {},
     "output_type": "execute_result"
    },
    {
     "data": {
      "image/png": "[encoded data removed]",
      "text/plain": [
       "<Figure size 432x288 with 1 Axes>"
      ]
     },
     "metadata": {
      "needs_background": "light"
     },
     "output_type": "display_data"
    }
   ],
   "source": [
    "combined[(combined.pk_uid.notna())&(combined.id.notna())].plot(facecolor='none')"
   ]
  },
  {
   "cell_type": "markdown",
   "id": "d174af15-f224-4620-b580-3090c2b26664",
   "metadata": {},
   "source": [
    "## Intersection"
   ]
  },
  {
   "cell_type": "markdown",
   "id": "5355de11-d03e-426d-8960-6849464b91e5",
   "metadata": {},
   "source": [
    "For intersection overlay only the areas where all dataset contain data are combined together. "
   ]
  },
  {
   "cell_type": "markdown",
   "id": "f83cc07a-2bde-4dda-87ac-a6fb4b318d88",
   "metadata": {},
   "source": [
    "![intersection](images/intersection.png)"
   ]
  },
  {
   "cell_type": "markdown",
   "id": "43513038-b052-4646-8f3b-85e2099fb819",
   "metadata": {},
   "source": [
    "Let us take the same exmple, but the question we are going to ask is, \n",
    "\n",
    "Find the areas in Celveland that are served by both starbucks and dunkin."
   ]
  },
  {
   "cell_type": "code",
   "execution_count": null,
   "id": "a7f20814-bb1a-4502-9ab8-60554ebfe05c",
   "metadata": {},
   "outputs": [],
   "source": [
    "Since we have the buffers we can use that. "
   ]
  },
  {
   "cell_type": "code",
   "execution_count": 38,
   "id": "67a4adac-0c28-439a-9ae4-f824884aff14",
   "metadata": {},
   "outputs": [
    {
     "data": {
      "text/html": [
       "<div>\n",
       "<style scoped>\n",
       "    .dataframe tbody tr th:only-of-type {\n",
       "        vertical-align: middle;\n",
       "    }\n",
       "\n",
       "    .dataframe tbody tr th {\n",
       "        vertical-align: top;\n",
       "    }\n",
       "\n",
       "    .dataframe thead th {\n",
       "        text-align: right;\n",
       "    }\n",
       "</style>\n",
       "<table border=\"1\" class=\"dataframe\">\n",
       "  <thead>\n",
       "    <tr style=\"text-align: right;\">\n",
       "      <th></th>\n",
       "      <th>id</th>\n",
       "      <th>address</th>\n",
       "      <th>city</th>\n",
       "      <th>state</th>\n",
       "      <th>zip</th>\n",
       "      <th>country</th>\n",
       "      <th>lat</th>\n",
       "      <th>lng</th>\n",
       "      <th>pk_uid</th>\n",
       "      <th>geometry</th>\n",
       "    </tr>\n",
       "  </thead>\n",
       "  <tbody>\n",
       "    <tr>\n",
       "      <th>0</th>\n",
       "      <td>336756</td>\n",
       "      <td>16204 Lorain Ave</td>\n",
       "      <td>Cleveland</td>\n",
       "      <td>OH</td>\n",
       "      <td>44111</td>\n",
       "      <td>US</td>\n",
       "      <td>41.451009</td>\n",
       "      <td>-81.811466</td>\n",
       "      <td>5307</td>\n",
       "      <td>POLYGON ((432221.402 4585924.650, 431905.917 4...</td>\n",
       "    </tr>\n",
       "    <tr>\n",
       "      <th>1</th>\n",
       "      <td>348515</td>\n",
       "      <td>Cleveland Hopkin Int'l Airport</td>\n",
       "      <td>Cleveland</td>\n",
       "      <td>OH</td>\n",
       "      <td>44135</td>\n",
       "      <td>US</td>\n",
       "      <td>41.401453</td>\n",
       "      <td>-81.852506</td>\n",
       "      <td>5307</td>\n",
       "      <td>POLYGON ((431942.450 4583359.131, 431896.102 4...</td>\n",
       "    </tr>\n",
       "    <tr>\n",
       "      <th>2</th>\n",
       "      <td>336756</td>\n",
       "      <td>16204 Lorain Ave</td>\n",
       "      <td>Cleveland</td>\n",
       "      <td>OH</td>\n",
       "      <td>44111</td>\n",
       "      <td>US</td>\n",
       "      <td>41.451009</td>\n",
       "      <td>-81.811466</td>\n",
       "      <td>5308</td>\n",
       "      <td>POLYGON ((432849.336 4585986.496, 432536.888 4...</td>\n",
       "    </tr>\n",
       "    <tr>\n",
       "      <th>3</th>\n",
       "      <td>348515</td>\n",
       "      <td>Cleveland Hopkin Int'l Airport</td>\n",
       "      <td>Cleveland</td>\n",
       "      <td>OH</td>\n",
       "      <td>44135</td>\n",
       "      <td>US</td>\n",
       "      <td>41.401453</td>\n",
       "      <td>-81.852506</td>\n",
       "      <td>5308</td>\n",
       "      <td>POLYGON ((431942.450 4583359.131, 431896.102 4...</td>\n",
       "    </tr>\n",
       "    <tr>\n",
       "      <th>4</th>\n",
       "      <td>336756</td>\n",
       "      <td>16204 Lorain Ave</td>\n",
       "      <td>Cleveland</td>\n",
       "      <td>OH</td>\n",
       "      <td>44111</td>\n",
       "      <td>US</td>\n",
       "      <td>41.451009</td>\n",
       "      <td>-81.811466</td>\n",
       "      <td>5325</td>\n",
       "      <td>POLYGON ((435424.584 4588827.845, 435378.236 4...</td>\n",
       "    </tr>\n",
       "    <tr>\n",
       "      <th>5</th>\n",
       "      <td>336756</td>\n",
       "      <td>16204 Lorain Ave</td>\n",
       "      <td>Cleveland</td>\n",
       "      <td>OH</td>\n",
       "      <td>44111</td>\n",
       "      <td>US</td>\n",
       "      <td>41.451009</td>\n",
       "      <td>-81.811466</td>\n",
       "      <td>5334</td>\n",
       "      <td>POLYGON ((432849.336 4592300.164, 433155.736 4...</td>\n",
       "    </tr>\n",
       "    <tr>\n",
       "      <th>6</th>\n",
       "      <td>346315</td>\n",
       "      <td>230 W. Huron Rd</td>\n",
       "      <td>Cleveland</td>\n",
       "      <td>OH</td>\n",
       "      <td>44113</td>\n",
       "      <td>US</td>\n",
       "      <td>41.496809</td>\n",
       "      <td>-81.693654</td>\n",
       "      <td>5334</td>\n",
       "      <td>POLYGON ((439022.560 4593208.138, 438945.810 4...</td>\n",
       "    </tr>\n",
       "    <tr>\n",
       "      <th>7</th>\n",
       "      <td>346315</td>\n",
       "      <td>230 W. Huron Rd</td>\n",
       "      <td>Cleveland</td>\n",
       "      <td>OH</td>\n",
       "      <td>44113</td>\n",
       "      <td>US</td>\n",
       "      <td>41.496809</td>\n",
       "      <td>-81.693654</td>\n",
       "      <td>5335</td>\n",
       "      <td>POLYGON ((444590.718 4592100.562, 444378.595 4...</td>\n",
       "    </tr>\n",
       "    <tr>\n",
       "      <th>8</th>\n",
       "      <td>346315</td>\n",
       "      <td>230 W. Huron Rd</td>\n",
       "      <td>Cleveland</td>\n",
       "      <td>OH</td>\n",
       "      <td>44113</td>\n",
       "      <td>US</td>\n",
       "      <td>41.496809</td>\n",
       "      <td>-81.693654</td>\n",
       "      <td>5336</td>\n",
       "      <td>POLYGON ((444590.718 4592100.562, 444378.595 4...</td>\n",
       "    </tr>\n",
       "    <tr>\n",
       "      <th>9</th>\n",
       "      <td>346315</td>\n",
       "      <td>230 W. Huron Rd</td>\n",
       "      <td>Cleveland</td>\n",
       "      <td>OH</td>\n",
       "      <td>44113</td>\n",
       "      <td>US</td>\n",
       "      <td>41.496809</td>\n",
       "      <td>-81.693654</td>\n",
       "      <td>5346</td>\n",
       "      <td>POLYGON ((440060.735 4591654.398, 439826.694 4...</td>\n",
       "    </tr>\n",
       "    <tr>\n",
       "      <th>10</th>\n",
       "      <td>346315</td>\n",
       "      <td>230 W. Huron Rd</td>\n",
       "      <td>Cleveland</td>\n",
       "      <td>OH</td>\n",
       "      <td>44113</td>\n",
       "      <td>US</td>\n",
       "      <td>41.496809</td>\n",
       "      <td>-81.693654</td>\n",
       "      <td>5348</td>\n",
       "      <td>POLYGON ((438883.964 4594142.471, 438899.463 4...</td>\n",
       "    </tr>\n",
       "    <tr>\n",
       "      <th>11</th>\n",
       "      <td>346315</td>\n",
       "      <td>230 W. Huron Rd</td>\n",
       "      <td>Cleveland</td>\n",
       "      <td>OH</td>\n",
       "      <td>44113</td>\n",
       "      <td>US</td>\n",
       "      <td>41.496809</td>\n",
       "      <td>-81.693654</td>\n",
       "      <td>5349</td>\n",
       "      <td>POLYGON ((445305.825 4593826.985, 445259.478 4...</td>\n",
       "    </tr>\n",
       "    <tr>\n",
       "      <th>12</th>\n",
       "      <td>346315</td>\n",
       "      <td>230 W. Huron Rd</td>\n",
       "      <td>Cleveland</td>\n",
       "      <td>OH</td>\n",
       "      <td>44113</td>\n",
       "      <td>US</td>\n",
       "      <td>41.496809</td>\n",
       "      <td>-81.693654</td>\n",
       "      <td>7970</td>\n",
       "      <td>POLYGON ((445305.825 4593826.985, 445259.478 4...</td>\n",
       "    </tr>\n",
       "    <tr>\n",
       "      <th>13</th>\n",
       "      <td>346315</td>\n",
       "      <td>230 W. Huron Rd</td>\n",
       "      <td>Cleveland</td>\n",
       "      <td>OH</td>\n",
       "      <td>44113</td>\n",
       "      <td>US</td>\n",
       "      <td>41.496809</td>\n",
       "      <td>-81.693654</td>\n",
       "      <td>8001</td>\n",
       "      <td>POLYGON ((445314.147 4593996.368, 445300.955 4...</td>\n",
       "    </tr>\n",
       "    <tr>\n",
       "      <th>14</th>\n",
       "      <td>346315</td>\n",
       "      <td>230 W. Huron Rd</td>\n",
       "      <td>Cleveland</td>\n",
       "      <td>OH</td>\n",
       "      <td>44113</td>\n",
       "      <td>US</td>\n",
       "      <td>41.496809</td>\n",
       "      <td>-81.693654</td>\n",
       "      <td>8002</td>\n",
       "      <td>POLYGON ((445305.825 4593826.985, 445259.478 4...</td>\n",
       "    </tr>\n",
       "  </tbody>\n",
       "</table>\n",
       "</div>"
      ],
      "text/plain": [
       "        id                         address       city state    zip country  \\\n",
       "0   336756                16204 Lorain Ave  Cleveland    OH  44111      US   \n",
       "1   348515  Cleveland Hopkin Int'l Airport  Cleveland    OH  44135      US   \n",
       "2   336756                16204 Lorain Ave  Cleveland    OH  44111      US   \n",
       "3   348515  Cleveland Hopkin Int'l Airport  Cleveland    OH  44135      US   \n",
       "4   336756                16204 Lorain Ave  Cleveland    OH  44111      US   \n",
       "5   336756                16204 Lorain Ave  Cleveland    OH  44111      US   \n",
       "6   346315                 230 W. Huron Rd  Cleveland    OH  44113      US   \n",
       "7   346315                 230 W. Huron Rd  Cleveland    OH  44113      US   \n",
       "8   346315                 230 W. Huron Rd  Cleveland    OH  44113      US   \n",
       "9   346315                 230 W. Huron Rd  Cleveland    OH  44113      US   \n",
       "10  346315                 230 W. Huron Rd  Cleveland    OH  44113      US   \n",
       "11  346315                 230 W. Huron Rd  Cleveland    OH  44113      US   \n",
       "12  346315                 230 W. Huron Rd  Cleveland    OH  44113      US   \n",
       "13  346315                 230 W. Huron Rd  Cleveland    OH  44113      US   \n",
       "14  346315                 230 W. Huron Rd  Cleveland    OH  44113      US   \n",
       "\n",
       "          lat        lng  pk_uid  \\\n",
       "0   41.451009 -81.811466    5307   \n",
       "1   41.401453 -81.852506    5307   \n",
       "2   41.451009 -81.811466    5308   \n",
       "3   41.401453 -81.852506    5308   \n",
       "4   41.451009 -81.811466    5325   \n",
       "5   41.451009 -81.811466    5334   \n",
       "6   41.496809 -81.693654    5334   \n",
       "7   41.496809 -81.693654    5335   \n",
       "8   41.496809 -81.693654    5336   \n",
       "9   41.496809 -81.693654    5346   \n",
       "10  41.496809 -81.693654    5348   \n",
       "11  41.496809 -81.693654    5349   \n",
       "12  41.496809 -81.693654    7970   \n",
       "13  41.496809 -81.693654    8001   \n",
       "14  41.496809 -81.693654    8002   \n",
       "\n",
       "                                             geometry  \n",
       "0   POLYGON ((432221.402 4585924.650, 431905.917 4...  \n",
       "1   POLYGON ((431942.450 4583359.131, 431896.102 4...  \n",
       "2   POLYGON ((432849.336 4585986.496, 432536.888 4...  \n",
       "3   POLYGON ((431942.450 4583359.131, 431896.102 4...  \n",
       "4   POLYGON ((435424.584 4588827.845, 435378.236 4...  \n",
       "5   POLYGON ((432849.336 4592300.164, 433155.736 4...  \n",
       "6   POLYGON ((439022.560 4593208.138, 438945.810 4...  \n",
       "7   POLYGON ((444590.718 4592100.562, 444378.595 4...  \n",
       "8   POLYGON ((444590.718 4592100.562, 444378.595 4...  \n",
       "9   POLYGON ((440060.735 4591654.398, 439826.694 4...  \n",
       "10  POLYGON ((438883.964 4594142.471, 438899.463 4...  \n",
       "11  POLYGON ((445305.825 4593826.985, 445259.478 4...  \n",
       "12  POLYGON ((445305.825 4593826.985, 445259.478 4...  \n",
       "13  POLYGON ((445314.147 4593996.368, 445300.955 4...  \n",
       "14  POLYGON ((445305.825 4593826.985, 445259.478 4...  "
      ]
     },
     "execution_count": 38,
     "metadata": {},
     "output_type": "execute_result"
    }
   ],
   "source": [
    "intersection = gpd.overlay(dunkinBuffer, starbucksClevelandBuffer, how = 'intersection')\n",
    "intersection"
   ]
  },
  {
   "cell_type": "code",
   "execution_count": 39,
   "id": "615f7bca-cbf9-409d-8338-0b8c76811187",
   "metadata": {},
   "outputs": [
    {
     "data": {
      "text/plain": [
       "<AxesSubplot:>"
      ]
     },
     "execution_count": 39,
     "metadata": {},
     "output_type": "execute_result"
    },
    {
     "data": {
      "image/png": "[encoded data removed]",
      "text/plain": [
       "<Figure size 432x288 with 1 Axes>"
      ]
     },
     "metadata": {
      "needs_background": "light"
     },
     "output_type": "display_data"
    }
   ],
   "source": [
    "intersection.plot(facecolor='None')"
   ]
  },
  {
   "cell_type": "markdown",
   "id": "e27d6bbe-9a81-41f4-b0dd-135438c1cb91",
   "metadata": {},
   "source": [
    "## Difference (Erase)"
   ]
  },
  {
   "cell_type": "markdown",
   "id": "7cb9ed7f-2079-4b3e-a6c7-4c38eddb399b",
   "metadata": {},
   "source": [
    "For difference overlay the areas covered by the second dataset is used to \"cut out\" or erase those corresponding areas in the first dataset. In other words, only the areas in the first dataset that do not overlap with the second dataset are kept."
   ]
  },
  {
   "cell_type": "markdown",
   "id": "85fe2f4c-7afa-4405-8db0-b27ac2550fc0",
   "metadata": {},
   "source": [
    "![erase](images/erase.png)"
   ]
  },
  {
   "cell_type": "markdown",
   "id": "ea1e70ac-dc88-4e4d-a1c1-5904db6f8124",
   "metadata": {},
   "source": [
    "Let us stick with the same example. \n",
    "\n",
    "We want to select areas that are exclusively covered by starbucks (not dunkin)."
   ]
  },
  {
   "cell_type": "code",
   "execution_count": 41,
   "id": "f81f36a7-6f54-40be-ac51-0df65ee542cc",
   "metadata": {},
   "outputs": [
    {
     "data": {
      "text/plain": [
       "[]"
      ]
     },
     "execution_count": 41,
     "metadata": {},
     "output_type": "execute_result"
    },
    {
     "data": {
      "image/png": "[encoded data removed]",
      "text/plain": [
       "<Figure size 432x288 with 1 Axes>"
      ]
     },
     "metadata": {
      "needs_background": "light"
     },
     "output_type": "display_data"
    }
   ],
   "source": [
    "starbucksAlone = gpd.overlay(starbucksClevelandBuffer,dunkinBuffer, how = 'difference').plot(facecolor='none')\n",
    "starbucksAlone.plot(facecolor='none')"
   ]
  },
  {
   "cell_type": "markdown",
   "id": "f7b6f718-089a-431e-8b95-fb8eb24d38dc",
   "metadata": {},
   "source": [
    "In the next chapter of this lecture we are going to cover reverse geocoding (which we haven't covered in Lecture 9)"
   ]
  }
 ],
 "metadata": {
  "kernelspec": {
   "display_name": "Python 3 (ipykernel)",
   "language": "python",
   "name": "python3"
  },
  "language_info": {
   "codemirror_mode": {
    "name": "ipython",
    "version": 3
   },
   "file_extension": ".py",
   "mimetype": "text/x-python",
   "name": "python",
   "nbconvert_exporter": "python",
   "pygments_lexer": "ipython3",
   "version": "3.10.4"
  }
 },
 "nbformat": 4,
 "nbformat_minor": 5
}
