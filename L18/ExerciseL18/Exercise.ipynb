{
 "cells": [
  {
   "cell_type": "markdown",
   "id": "97c453f8",
   "metadata": {},
   "source": [
    "# Exercise X (submit by 04/02/2023 11:59pm EST)  \n",
    "​\n",
    "#### You can click on Run -> Run All Cells to enable all the question prompts at the same time (or you could run each cells one by one)\n",
    "​\n",
    "#### Each question has a scratch pad (a blank coding cell) where you can scribble your code.  \n",
    "​\n",
    "#### Assigned mark for each question is provided near to the question in parenthesis.\n",
    "​\n",
    "#### You can save partial responses by clicking the “Save” button after each question. \n",
    "​\n",
    "#### For coding questions, make sure you follow the exact guidelines. You have make sure that your code runs without any errors.\n",
    "​\n",
    "#### Up on completion; fill your case network id and the password that you have created during the first session. \n",
    "​\n",
    "#### Click Submit to upload the test.            "
   ]
  },
  {
   "cell_type": "code",
   "execution_count": 1,
   "id": "dc3c97f8",
   "metadata": {},
   "outputs": [],
   "source": [
    "import sys\n",
    "sys.path.append('../../')\n",
    "from helper.questionhelper import *\n",
    "qset = QuestionSet()        "
   ]
  },
  {
   "cell_type": "code",
   "execution_count": 2,
   "id": "a703441c",
   "metadata": {},
   "outputs": [
    {
     "data": {
      "application/vnd.jupyter.widget-view+json": {
       "model_id": "1f69d60e2b204367ab6877cef291b314",
       "version_major": 2,
       "version_minor": 0
      },
      "text/plain": [
       "VBox(children=(VBox(children=(HTML(value='<p>Write a query to retrieve all columns and records from actor tabl…"
      ]
     },
     "metadata": {},
     "output_type": "display_data"
    }
   ],
   "source": [
    "qset.getQuestion(1)"
   ]
  },
  {
   "cell_type": "code",
   "execution_count": 3,
   "id": "6efc59b1",
   "metadata": {},
   "outputs": [],
   "source": [
    "#Scratch Pad"
   ]
  },
  {
   "cell_type": "code",
   "execution_count": 4,
   "id": "f78b2b7b",
   "metadata": {},
   "outputs": [
    {
     "data": {
      "application/vnd.jupyter.widget-view+json": {
       "model_id": "95fd6438f554452298234e42de2972c1",
       "version_major": 2,
       "version_minor": 0
      },
      "text/plain": [
       "VBox(children=(VBox(children=(HTML(value='<p>Write a query to retrieve all active customer in customer table i…"
      ]
     },
     "metadata": {},
     "output_type": "display_data"
    }
   ],
   "source": [
    "qset.getQuestion(2)"
   ]
  },
  {
   "cell_type": "code",
   "execution_count": 5,
   "id": "7f84cf78",
   "metadata": {},
   "outputs": [],
   "source": [
    "#Scratch Pad"
   ]
  },
  {
   "cell_type": "code",
   "execution_count": 6,
   "id": "b9a5979f",
   "metadata": {},
   "outputs": [
    {
     "data": {
      "application/vnd.jupyter.widget-view+json": {
       "model_id": "b611f8372dbc49a1ada87300c4d3561a",
       "version_major": 2,
       "version_minor": 0
      },
      "text/plain": [
       "VBox(children=(VBox(children=(HTML(value='<p>Write a query to display customer_id, first_name, last_name, addr…"
      ]
     },
     "metadata": {},
     "output_type": "display_data"
    }
   ],
   "source": [
    "qset.getQuestion(3)"
   ]
  },
  {
   "cell_type": "code",
   "execution_count": 7,
   "id": "2eef11bc",
   "metadata": {},
   "outputs": [],
   "source": [
    "#Scratch Pad"
   ]
  },
  {
   "cell_type": "code",
   "execution_count": 8,
   "id": "f0a0f3ac",
   "metadata": {},
   "outputs": [
    {
     "data": {
      "application/vnd.jupyter.widget-view+json": {
       "model_id": "78b382d19f6841ed90b9215ac408d986",
       "version_major": 2,
       "version_minor": 0
      },
      "text/plain": [
       "VBox(children=(VBox(children=(HTML(value='<p>Write a query to find out the total movies played by every actor.…"
      ]
     },
     "metadata": {},
     "output_type": "display_data"
    }
   ],
   "source": [
    "qset.getQuestion(4)"
   ]
  },
  {
   "cell_type": "code",
   "execution_count": 9,
   "id": "e7d65fb8",
   "metadata": {},
   "outputs": [],
   "source": [
    "#Scratch Pad"
   ]
  },
  {
   "cell_type": "code",
   "execution_count": 10,
   "id": "e1eec5c9",
   "metadata": {},
   "outputs": [
    {
     "data": {
      "application/vnd.jupyter.widget-view+json": {
       "model_id": "504c62033bf44eee983d8945fda2db35",
       "version_major": 2,
       "version_minor": 0
      },
      "text/plain": [
       "VBox(children=(VBox(children=(HTML(value='<p>Write a query to retrieve total amount of transactions in each st…"
      ]
     },
     "metadata": {},
     "output_type": "display_data"
    }
   ],
   "source": [
    "qset.getQuestion(5)"
   ]
  },
  {
   "cell_type": "code",
   "execution_count": 11,
   "id": "d5486a96",
   "metadata": {},
   "outputs": [],
   "source": [
    "#Scratch Pad"
   ]
  },
  {
   "cell_type": "code",
   "execution_count": 12,
   "id": "5fe2f11d",
   "metadata": {},
   "outputs": [
    {
     "data": {
      "application/vnd.jupyter.widget-view+json": {
       "model_id": "d3da5ba6543d4e59b4b9f8549a240851",
       "version_major": 2,
       "version_minor": 0
      },
      "text/plain": [
       "VBox(children=(VBox(children=(HTML(value='<p>Write a query to find out the total incidents involving gun as we…"
      ]
     },
     "metadata": {},
     "output_type": "display_data"
    }
   ],
   "source": [
    "qset.getQuestion(6)"
   ]
  },
  {
   "cell_type": "code",
   "execution_count": 13,
   "id": "aced365d",
   "metadata": {},
   "outputs": [],
   "source": [
    "#Scratch Pad"
   ]
  },
  {
   "cell_type": "code",
   "execution_count": 14,
   "id": "7c7eabe0",
   "metadata": {},
   "outputs": [
    {
     "data": {
      "application/vnd.jupyter.widget-view+json": {
       "model_id": "639f094b22c04c49ab9eff46003b86f2",
       "version_major": 2,
       "version_minor": 0
      },
      "text/plain": [
       "VBox(children=(VBox(children=(HTML(value='<p>Write a query to identify top 5 census block groups (nyc_census_b…"
      ]
     },
     "metadata": {},
     "output_type": "display_data"
    }
   ],
   "source": [
    "qset.getQuestion(7)"
   ]
  },
  {
   "cell_type": "code",
   "execution_count": 15,
   "id": "fbb089bf",
   "metadata": {},
   "outputs": [],
   "source": [
    "#Scratch Pad"
   ]
  },
  {
   "cell_type": "code",
   "execution_count": 16,
   "id": "5ca76d32",
   "metadata": {},
   "outputs": [
    {
     "data": {
      "application/vnd.jupyter.widget-view+json": {
       "model_id": "f531cc1b3cbb470faf24219e225a6c53",
       "version_major": 2,
       "version_minor": 0
      },
      "text/plain": [
       "VBox(children=(VBox(children=(HTML(value='<p>Find out the total number of shooting incidents (nypd_shooting) a…"
      ]
     },
     "metadata": {},
     "output_type": "display_data"
    }
   ],
   "source": [
    "qset.getQuestion(8)"
   ]
  },
  {
   "cell_type": "code",
   "execution_count": 17,
   "id": "3a500d75",
   "metadata": {},
   "outputs": [],
   "source": [
    "#Scratch Pad"
   ]
  },
  {
   "cell_type": "code",
   "execution_count": 18,
   "id": "5022b4ad",
   "metadata": {},
   "outputs": [
    {
     "data": {
      "application/vnd.jupyter.widget-view+json": {
       "model_id": "e39743f8c27444a6b3174769689aedd3",
       "version_major": 2,
       "version_minor": 0
      },
      "text/plain": [
       "VBox(children=(HBox(children=(Button(button_style='info', description='Save', style=ButtonStyle()), Button(but…"
      ]
     },
     "metadata": {},
     "output_type": "display_data"
    }
   ],
   "source": [
    "qset.showSubmitSection()"
   ]
  },
  {
   "cell_type": "code",
   "execution_count": null,
   "id": "25749adb-4198-487b-866d-464953cd628d",
   "metadata": {},
   "outputs": [],
   "source": []
  }
 ],
 "metadata": {
  "kernelspec": {
   "display_name": "Python 3 (ipykernel)",
   "language": "python",
   "name": "python3"
  },
  "language_info": {
   "codemirror_mode": {
    "name": "ipython",
    "version": 3
   },
   "file_extension": ".py",
   "mimetype": "text/x-python",
   "name": "python",
   "nbconvert_exporter": "python",
   "pygments_lexer": "ipython3",
   "version": "3.10.6"
  }
 },
 "nbformat": 4,
 "nbformat_minor": 5
}
