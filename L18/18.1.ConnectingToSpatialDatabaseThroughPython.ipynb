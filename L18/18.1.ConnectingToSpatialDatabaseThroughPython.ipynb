{
 "cells": [
  {
   "cell_type": "markdown",
   "id": "b19a4e52-0ba9-4728-a940-5e41a88557ba",
   "metadata": {},
   "source": [
    "# Geopandas and Spatial Databases"
   ]
  },
  {
   "cell_type": "markdown",
   "id": "910b39df-1259-4388-a9af-9b242ed387c3",
   "metadata": {},
   "source": [
    "In this lecture we are going to interact with a spatial database through Python using geopandas"
   ]
  },
  {
   "cell_type": "markdown",
   "id": "e97afc57-e893-4b05-a8fc-bca69df38325",
   "metadata": {},
   "source": [
    "## Connecting to Spatial Database"
   ]
  },
  {
   "cell_type": "markdown",
   "id": "8bff48a0-2493-405c-8cc3-112a8444f425",
   "metadata": {},
   "source": [
    "First let us make the necessary imports"
   ]
  },
  {
   "cell_type": "code",
   "execution_count": 1,
   "id": "3c24ce19-a605-441e-a9a4-d622381685e8",
   "metadata": {},
   "outputs": [],
   "source": [
    "import geopandas as gpd\n",
    "import pandas as pd\n",
    "import psycopg2 #this is for connecting to the postgresql database"
   ]
  },
  {
   "cell_type": "markdown",
   "id": "0563f5fe-7686-4a83-be10-cbfb75b722bf",
   "metadata": {},
   "source": [
    "Create a connection object"
   ]
  },
  {
   "cell_type": "code",
   "execution_count": 2,
   "id": "76a26051-b895-4cd5-9368-999a726c358d",
   "metadata": {},
   "outputs": [],
   "source": [
    "conn = psycopg2.connect(\"dbname=nyc user=geospatial password=geospatial2023 host=ghhlibrary\")"
   ]
  },
  {
   "cell_type": "markdown",
   "id": "3be3d479-6e66-4661-ab20-9fbd9021587d",
   "metadata": {},
   "source": [
    "Now we can use the connection object for retreiving data from the spatial database. \n",
    "\n",
    "**Note: If your query is returning geometry then use geopandas and if your query is not returning any geometry columns use pandas**\n",
    "\n",
    "Let us first try a query that returns some geometry data. "
   ]
  },
  {
   "cell_type": "markdown",
   "id": "c37bec30-130d-468b-be18-e0808f907ba9",
   "metadata": {},
   "source": [
    "We want to return all the schools with in the 'Harlem' neighborhood in 'Manhattan'. How will a raw query look like\n",
    "\n",
    "```sql\n",
    "select s.* from nyc_schools s,nyc_neighborhoods n where n.name='Harlem' and n.boroname = 'Manhattan' and st_within(s.geom,n.geom)\n",
    "```\n",
    "\n",
    "As you can see the query returns a geometry column (geom). So let us use postgis to read the data from the table"
   ]
  },
  {
   "cell_type": "code",
   "execution_count": 3,
   "id": "ac3d8bae-f1b4-4935-a3da-b46e7b88c48a",
   "metadata": {},
   "outputs": [
    {
     "name": "stderr",
     "output_type": "stream",
     "text": [
      "E:\\sbd2\\lib\\site-packages\\geopandas\\io\\sql.py:154: UserWarning: pandas only supports SQLAlchemy connectable (engine/connection) or database string URI or sqlite3 DBAPI2 connection. Other DBAPI2 objects are not tested. Please consider using SQLAlchemy.\n",
      "  df = pd.read_sql(\n"
     ]
    }
   ],
   "source": [
    "schoolsHarlem = gpd.read_postgis(\"select s.* from nyc_schools s,nyc_neighborhoods n where n.name='Harlem' and n.boroname = 'Manhattan' and st_within(s.geom,n.geom)\",conn)"
   ]
  },
  {
   "cell_type": "code",
   "execution_count": null,
   "id": "61f8710f-a28d-46ec-b2d7-40c0903d9841",
   "metadata": {},
   "outputs": [],
   "source": [
    "schoolsHarlem"
   ]
  },
  {
   "cell_type": "code",
   "execution_count": 5,
   "id": "44eac9db-928a-4cc5-9d00-f4cfda299ca6",
   "metadata": {},
   "outputs": [
    {
     "data": {
      "text/plain": [
       "geopandas.geodataframe.GeoDataFrame"
      ]
     },
     "execution_count": 5,
     "metadata": {},
     "output_type": "execute_result"
    }
   ],
   "source": [
    "type(schoolsHarlem)"
   ]
  },
  {
   "cell_type": "markdown",
   "id": "13910b9b-9bc4-46da-825a-9e99e8202dc4",
   "metadata": {},
   "source": [
    "As you can see, the read_postgis method returns a geodataframe object as the result of the query. You can see the geometry column at the end"
   ]
  },
  {
   "cell_type": "code",
   "execution_count": 6,
   "id": "27f258bc-ff60-4cee-844d-acde48a54c2a",
   "metadata": {},
   "outputs": [
    {
     "data": {
      "text/plain": [
       "<Derived Projected CRS: EPSG:26918>\n",
       "Name: NAD83 / UTM zone 18N\n",
       "Axis Info [cartesian]:\n",
       "- E[east]: Easting (metre)\n",
       "- N[north]: Northing (metre)\n",
       "Area of Use:\n",
       "- name: North America - between 78°W and 72°W - onshore and offshore. Canada - Nunavut; Ontario; Quebec. United States (USA) - Connecticut; Delaware; Maryland; Massachusetts; New Hampshire; New Jersey; New York; North Carolina; Pennsylvania; Virginia; Vermont.\n",
       "- bounds: (-78.0, 28.28, -72.0, 84.0)\n",
       "Coordinate Operation:\n",
       "- name: UTM zone 18N\n",
       "- method: Transverse Mercator\n",
       "Datum: North American Datum 1983\n",
       "- Ellipsoid: GRS 1980\n",
       "- Prime Meridian: Greenwich"
      ]
     },
     "execution_count": 6,
     "metadata": {},
     "output_type": "execute_result"
    }
   ],
   "source": [
    "schoolsHarlem.crs"
   ]
  },
  {
   "cell_type": "markdown",
   "id": "bf9b8a2c-d452-4947-bb73-b1a41f5e0236",
   "metadata": {},
   "source": [
    "Now let us try interactive mapping for the first time. First let us create an interactive map using ipyleaflet"
   ]
  },
  {
   "cell_type": "code",
   "execution_count": 28,
   "id": "ea3fba14-397a-464c-afc0-254ebf1b6415",
   "metadata": {},
   "outputs": [
    {
     "data": {
      "application/vnd.jupyter.widget-view+json": {
       "model_id": "5a4725bd8a3c456ea3b5ea829e670c32",
       "version_major": 2,
       "version_minor": 0
      },
      "text/plain": [
       "Map(center=[40.712778, -74.006111], controls=(ZoomControl(options=['position', 'zoom_in_text', 'zoom_in_title'…"
      ]
     },
     "metadata": {},
     "output_type": "display_data"
    }
   ],
   "source": [
    "from ipyleaflet import Map, GeoData\n",
    "mapView = Map(center=(40.712778, -74.006111), zoom=15)\n",
    "mapView"
   ]
  },
  {
   "cell_type": "markdown",
   "id": "e685d951-1c81-442a-af36-4ee02febcb34",
   "metadata": {},
   "source": [
    "Yay!!!!!! we have created an interactive map. \n",
    "\n",
    "Now let us try to add our geodataframe to the map"
   ]
  },
  {
   "cell_type": "markdown",
   "id": "042dc02c-5e44-4d1c-957b-40922e62be08",
   "metadata": {},
   "source": [
    "Make sure the dataframe is in EPSG:4326"
   ]
  },
  {
   "cell_type": "code",
   "execution_count": 29,
   "id": "91c1cdbd-dcf5-4254-891d-fafaf801f9b4",
   "metadata": {},
   "outputs": [],
   "source": [
    "schoolsHarlem = schoolsHarlem.to_crs('EPSG:4326')"
   ]
  },
  {
   "cell_type": "code",
   "execution_count": 30,
   "id": "e9e56a8b-0f3d-4391-9cda-54d53fec0d66",
   "metadata": {},
   "outputs": [],
   "source": [
    "geo_data = GeoData(geo_dataframe = schoolsHarlem)\n",
    "mapView.add_layer(geo_data)"
   ]
  },
  {
   "cell_type": "markdown",
   "id": "1d850e95-7330-4ecd-ba60-af3b0f415cba",
   "metadata": {},
   "source": [
    "If you zoom out and pan the map you should be able to see the locations. "
   ]
  },
  {
   "cell_type": "markdown",
   "id": "384f7b03-7318-4c66-8557-795487edfc0a",
   "metadata": {},
   "source": [
    "So let us try another query. This time we are going to find out those schools that are with in 20 meters of a shooting incident.\n",
    "\n",
    "Our query\n",
    "\n",
    "```sql\n",
    "select distinct s.gid,s.geom from nyc_schools s,nypd_shooting n where st_dwithin(s.geom,n.geom,20)\n",
    "```"
   ]
  },
  {
   "cell_type": "code",
   "execution_count": 40,
   "id": "a346ad86-2fa3-443b-9258-b1aec6e51e33",
   "metadata": {
    "tags": []
   },
   "outputs": [
    {
     "name": "stderr",
     "output_type": "stream",
     "text": [
      "E:\\sbd2\\lib\\site-packages\\geopandas\\io\\sql.py:154: UserWarning: pandas only supports SQLAlchemy connectable (engine/connection) or database string URI or sqlite3 DBAPI2 connection. Other DBAPI2 objects are not tested. Please consider using SQLAlchemy.\n",
      "  df = pd.read_sql(\n"
     ]
    }
   ],
   "source": [
    "schoolsShooting20m = gpd.read_postgis(\"select distinct s.gid,s.geom from nyc_schools s,nypd_shooting n where st_dwithin(s.geom,n.geom,20)\",conn)"
   ]
  },
  {
   "cell_type": "code",
   "execution_count": 41,
   "id": "bfef66bd-4f1b-4242-b489-e5c7d9e56d65",
   "metadata": {
    "tags": []
   },
   "outputs": [
    {
     "data": {
      "text/html": [
       "<div>\n",
       "<style scoped>\n",
       "    .dataframe tbody tr th:only-of-type {\n",
       "        vertical-align: middle;\n",
       "    }\n",
       "\n",
       "    .dataframe tbody tr th {\n",
       "        vertical-align: top;\n",
       "    }\n",
       "\n",
       "    .dataframe thead th {\n",
       "        text-align: right;\n",
       "    }\n",
       "</style>\n",
       "<table border=\"1\" class=\"dataframe\">\n",
       "  <thead>\n",
       "    <tr style=\"text-align: right;\">\n",
       "      <th></th>\n",
       "      <th>gid</th>\n",
       "      <th>geom</th>\n",
       "    </tr>\n",
       "  </thead>\n",
       "  <tbody>\n",
       "    <tr>\n",
       "      <th>0</th>\n",
       "      <td>1090</td>\n",
       "      <td>POINT (590978.473 4517825.350)</td>\n",
       "    </tr>\n",
       "    <tr>\n",
       "      <th>1</th>\n",
       "      <td>1176</td>\n",
       "      <td>POINT (593297.342 4523317.062)</td>\n",
       "    </tr>\n",
       "    <tr>\n",
       "      <th>2</th>\n",
       "      <td>1183</td>\n",
       "      <td>POINT (591606.812 4522050.170)</td>\n",
       "    </tr>\n",
       "    <tr>\n",
       "      <th>3</th>\n",
       "      <td>457</td>\n",
       "      <td>POINT (589545.364 4516541.662)</td>\n",
       "    </tr>\n",
       "  </tbody>\n",
       "</table>\n",
       "</div>"
      ],
      "text/plain": [
       "    gid                            geom\n",
       "0  1090  POINT (590978.473 4517825.350)\n",
       "1  1176  POINT (593297.342 4523317.062)\n",
       "2  1183  POINT (591606.812 4522050.170)\n",
       "3   457  POINT (589545.364 4516541.662)"
      ]
     },
     "execution_count": 41,
     "metadata": {},
     "output_type": "execute_result"
    }
   ],
   "source": [
    "schoolsShooting20m"
   ]
  },
  {
   "cell_type": "code",
   "execution_count": 42,
   "id": "2eab19ca-2f5f-4ecf-a467-cdad60312a15",
   "metadata": {
    "tags": []
   },
   "outputs": [
    {
     "data": {
      "application/vnd.jupyter.widget-view+json": {
       "model_id": "a2084f7ac3e0440bb867b308bebea697",
       "version_major": 2,
       "version_minor": 0
      },
      "text/plain": [
       "Map(center=[40.712778, -74.006111], controls=(ZoomControl(options=['position', 'zoom_in_text', 'zoom_in_title'…"
      ]
     },
     "metadata": {},
     "output_type": "display_data"
    }
   ],
   "source": [
    "mapView = Map(center=(40.712778, -74.006111), zoom=15)\n",
    "mapView"
   ]
  },
  {
   "cell_type": "code",
   "execution_count": 43,
   "id": "21a57577-1f78-4e8b-8001-076e73287e1a",
   "metadata": {
    "tags": []
   },
   "outputs": [],
   "source": [
    "geo_data = GeoData(geo_dataframe = schoolsShooting20m.to_crs('EPSG:4326'))\n",
    "mapView.add_layer(geo_data)"
   ]
  },
  {
   "cell_type": "markdown",
   "id": "2c8c383f-ed0a-41e6-9d8e-8f31e997bf0f",
   "metadata": {},
   "source": [
    "Now let us try a query with polygons. We need to find out taxi zones with more than 20 schools in it and then display the polygons. This is a bit more complex query\n",
    "\n",
    "```sql\n",
    "select t.locationid,zone,count(s.gid) as total_schools,t.geom from taxi_zones t,nyc_schools s where\n",
    "st_contains(t.geom,s.geom) group by t.locationid having count(s.gid)>20\n",
    "```\n",
    "\n",
    "Make a notice of the having clause, it helps to filter out the group by results. Now let us run this with geopandas"
   ]
  },
  {
   "cell_type": "code",
   "execution_count": 46,
   "id": "bd23d867-87a4-4b17-9335-cb08b90ae8b1",
   "metadata": {
    "tags": []
   },
   "outputs": [
    {
     "name": "stderr",
     "output_type": "stream",
     "text": [
      "E:\\sbd2\\lib\\site-packages\\geopandas\\io\\sql.py:154: UserWarning: pandas only supports SQLAlchemy connectable (engine/connection) or database string URI or sqlite3 DBAPI2 connection. Other DBAPI2 objects are not tested. Please consider using SQLAlchemy.\n",
      "  df = pd.read_sql(\n"
     ]
    }
   ],
   "source": [
    "taxiMore20Schools = gpd.read_postgis(\"select t.locationid,zone,count(s.gid) as total_schools,t.geom from taxi_zones t,nyc_schools s where st_contains(t.geom,s.geom) group by t.locationid having count(s.gid)>20\",conn)"
   ]
  },
  {
   "cell_type": "code",
   "execution_count": 47,
   "id": "85026db2-c23e-46d6-b7be-3b5de67c9935",
   "metadata": {
    "tags": []
   },
   "outputs": [
    {
     "data": {
      "text/html": [
       "<div>\n",
       "<style scoped>\n",
       "    .dataframe tbody tr th:only-of-type {\n",
       "        vertical-align: middle;\n",
       "    }\n",
       "\n",
       "    .dataframe tbody tr th {\n",
       "        vertical-align: top;\n",
       "    }\n",
       "\n",
       "    .dataframe thead th {\n",
       "        text-align: right;\n",
       "    }\n",
       "</style>\n",
       "<table border=\"1\" class=\"dataframe\">\n",
       "  <thead>\n",
       "    <tr style=\"text-align: right;\">\n",
       "      <th></th>\n",
       "      <th>locationid</th>\n",
       "      <th>zone</th>\n",
       "      <th>total_schools</th>\n",
       "      <th>geom</th>\n",
       "    </tr>\n",
       "  </thead>\n",
       "  <tbody>\n",
       "    <tr>\n",
       "      <th>0</th>\n",
       "      <td>42</td>\n",
       "      <td>Central Harlem North</td>\n",
       "      <td>25</td>\n",
       "      <td>MULTIPOLYGON (((589844.118 4521120.403, 589836...</td>\n",
       "    </tr>\n",
       "    <tr>\n",
       "      <th>1</th>\n",
       "      <td>61</td>\n",
       "      <td>Crown Heights North</td>\n",
       "      <td>21</td>\n",
       "      <td>MULTIPOLYGON (((590489.482 4504167.728, 590503...</td>\n",
       "    </tr>\n",
       "    <tr>\n",
       "      <th>2</th>\n",
       "      <td>35</td>\n",
       "      <td>Brownsville</td>\n",
       "      <td>30</td>\n",
       "      <td>MULTIPOLYGON (((592894.323 4501831.339, 592929...</td>\n",
       "    </tr>\n",
       "    <tr>\n",
       "      <th>3</th>\n",
       "      <td>75</td>\n",
       "      <td>East Harlem South</td>\n",
       "      <td>28</td>\n",
       "      <td>MULTIPOLYGON (((589339.992 4516267.612, 589542...</td>\n",
       "    </tr>\n",
       "    <tr>\n",
       "      <th>4</th>\n",
       "      <td>47</td>\n",
       "      <td>Claremont/Bathgate</td>\n",
       "      <td>26</td>\n",
       "      <td>MULTIPOLYGON (((593483.050 4523154.756, 593378...</td>\n",
       "    </tr>\n",
       "    <tr>\n",
       "      <th>5</th>\n",
       "      <td>76</td>\n",
       "      <td>East New York</td>\n",
       "      <td>24</td>\n",
       "      <td>MULTIPOLYGON (((594595.879 4503746.008, 594598...</td>\n",
       "    </tr>\n",
       "    <tr>\n",
       "      <th>6</th>\n",
       "      <td>69</td>\n",
       "      <td>East Concourse/Concourse Village</td>\n",
       "      <td>27</td>\n",
       "      <td>MULTIPOLYGON (((591760.301 4520058.958, 591803...</td>\n",
       "    </tr>\n",
       "    <tr>\n",
       "      <th>7</th>\n",
       "      <td>17</td>\n",
       "      <td>Bedford</td>\n",
       "      <td>22</td>\n",
       "      <td>MULTIPOLYGON (((589290.612 4506150.301, 589364...</td>\n",
       "    </tr>\n",
       "    <tr>\n",
       "      <th>8</th>\n",
       "      <td>74</td>\n",
       "      <td>East Harlem North</td>\n",
       "      <td>22</td>\n",
       "      <td>MULTIPOLYGON (((589917.530 4518935.414, 589916...</td>\n",
       "    </tr>\n",
       "    <tr>\n",
       "      <th>9</th>\n",
       "      <td>225</td>\n",
       "      <td>Stuyvesant Heights</td>\n",
       "      <td>28</td>\n",
       "      <td>MULTIPOLYGON (((591481.459 4504246.243, 591494...</td>\n",
       "    </tr>\n",
       "    <tr>\n",
       "      <th>10</th>\n",
       "      <td>213</td>\n",
       "      <td>Soundview/Castle Hill</td>\n",
       "      <td>23</td>\n",
       "      <td>MULTIPOLYGON (((598107.342 4519159.076, 598085...</td>\n",
       "    </tr>\n",
       "    <tr>\n",
       "      <th>11</th>\n",
       "      <td>39</td>\n",
       "      <td>Canarsie</td>\n",
       "      <td>22</td>\n",
       "      <td>MULTIPOLYGON (((593742.664 4500494.483, 593798...</td>\n",
       "    </tr>\n",
       "    <tr>\n",
       "      <th>12</th>\n",
       "      <td>168</td>\n",
       "      <td>Mott Haven/Port Morris</td>\n",
       "      <td>27</td>\n",
       "      <td>MULTIPOLYGON (((590677.414 4518849.940, 590746...</td>\n",
       "    </tr>\n",
       "  </tbody>\n",
       "</table>\n",
       "</div>"
      ],
      "text/plain": [
       "    locationid                              zone  total_schools  \\\n",
       "0           42              Central Harlem North             25   \n",
       "1           61               Crown Heights North             21   \n",
       "2           35                       Brownsville             30   \n",
       "3           75                 East Harlem South             28   \n",
       "4           47                Claremont/Bathgate             26   \n",
       "5           76                     East New York             24   \n",
       "6           69  East Concourse/Concourse Village             27   \n",
       "7           17                           Bedford             22   \n",
       "8           74                 East Harlem North             22   \n",
       "9          225                Stuyvesant Heights             28   \n",
       "10         213             Soundview/Castle Hill             23   \n",
       "11          39                          Canarsie             22   \n",
       "12         168            Mott Haven/Port Morris             27   \n",
       "\n",
       "                                                 geom  \n",
       "0   MULTIPOLYGON (((589844.118 4521120.403, 589836...  \n",
       "1   MULTIPOLYGON (((590489.482 4504167.728, 590503...  \n",
       "2   MULTIPOLYGON (((592894.323 4501831.339, 592929...  \n",
       "3   MULTIPOLYGON (((589339.992 4516267.612, 589542...  \n",
       "4   MULTIPOLYGON (((593483.050 4523154.756, 593378...  \n",
       "5   MULTIPOLYGON (((594595.879 4503746.008, 594598...  \n",
       "6   MULTIPOLYGON (((591760.301 4520058.958, 591803...  \n",
       "7   MULTIPOLYGON (((589290.612 4506150.301, 589364...  \n",
       "8   MULTIPOLYGON (((589917.530 4518935.414, 589916...  \n",
       "9   MULTIPOLYGON (((591481.459 4504246.243, 591494...  \n",
       "10  MULTIPOLYGON (((598107.342 4519159.076, 598085...  \n",
       "11  MULTIPOLYGON (((593742.664 4500494.483, 593798...  \n",
       "12  MULTIPOLYGON (((590677.414 4518849.940, 590746...  "
      ]
     },
     "execution_count": 47,
     "metadata": {},
     "output_type": "execute_result"
    }
   ],
   "source": [
    "taxiMore20Schools"
   ]
  },
  {
   "cell_type": "code",
   "execution_count": 48,
   "id": "2b7fbaad-42ba-4195-a1b7-e1aaf2215d57",
   "metadata": {
    "tags": []
   },
   "outputs": [
    {
     "data": {
      "application/vnd.jupyter.widget-view+json": {
       "model_id": "cd58009d43e14193a981f7f1942e3664",
       "version_major": 2,
       "version_minor": 0
      },
      "text/plain": [
       "Map(center=[40.712778, -74.006111], controls=(ZoomControl(options=['position', 'zoom_in_text', 'zoom_in_title'…"
      ]
     },
     "metadata": {},
     "output_type": "display_data"
    }
   ],
   "source": [
    "mapView = Map(center=(40.712778, -74.006111), zoom=15)\n",
    "mapView"
   ]
  },
  {
   "cell_type": "code",
   "execution_count": 49,
   "id": "7ec56a70-b8b8-486e-afac-16998e5dc53c",
   "metadata": {
    "tags": []
   },
   "outputs": [],
   "source": [
    "geo_data = GeoData(geo_dataframe = taxiMore20Schools.to_crs('EPSG:4326'))\n",
    "mapView.add_layer(geo_data)"
   ]
  },
  {
   "cell_type": "markdown",
   "id": "c5d52fdb-85ba-4ab1-b5e8-1aec9d79ab77",
   "metadata": {},
   "source": [
    "Now let us try practice some more spatial queries"
   ]
  },
  {
   "cell_type": "markdown",
   "id": "a808e2c0-fc4b-422a-bded-de67fc0e0ccb",
   "metadata": {},
   "source": [
    "1. Find total homicide per population for all census blocks in nyc. "
   ]
  },
  {
   "cell_type": "code",
   "execution_count": null,
   "id": "26d1d15b-cf59-44c8-95d7-8152b257961e",
   "metadata": {},
   "outputs": [],
   "source": []
  },
  {
   "cell_type": "markdown",
   "id": "504f0820-fc97-48ad-a91b-8d1962785889",
   "metadata": {},
   "source": [
    "2. Display top 5 neighborhoods with most number of shootings. "
   ]
  },
  {
   "cell_type": "code",
   "execution_count": null,
   "id": "620c1d6e-ec42-4f2d-b6e7-abd69f87af12",
   "metadata": {},
   "outputs": [],
   "source": []
  },
  {
   "cell_type": "markdown",
   "id": "48789df4-6575-4632-bd00-5cbf3bef71e2",
   "metadata": {},
   "source": [
    "3. Calculate total population of all counties in nyc (use nyc census blocks to get population)."
   ]
  },
  {
   "cell_type": "code",
   "execution_count": null,
   "id": "2186631a-ba5a-4b56-ae3a-07d737be710b",
   "metadata": {},
   "outputs": [],
   "source": []
  },
  {
   "cell_type": "markdown",
   "id": "91b57be4-974b-4148-9476-6594e1fb5c89",
   "metadata": {},
   "source": [
    "4. Calculate total population of all neighborhoods using the census blocks data. "
   ]
  },
  {
   "cell_type": "code",
   "execution_count": null,
   "id": "6a38331e-50b6-40b1-a6ac-1705e5846c87",
   "metadata": {},
   "outputs": [],
   "source": []
  },
  {
   "cell_type": "markdown",
   "id": "a7d4d2d9-891f-46a7-a77a-91d3c437ca7e",
   "metadata": {},
   "source": [
    "5. Find all subway stations in Harlem neighbrohood in Manhattan. "
   ]
  },
  {
   "cell_type": "code",
   "execution_count": null,
   "id": "0c10613b-24f9-4647-80ad-1d90070456dd",
   "metadata": {},
   "outputs": [],
   "source": []
  }
 ],
 "metadata": {
  "kernelspec": {
   "display_name": "Python 3 (ipykernel)",
   "language": "python",
   "name": "python3"
  },
  "language_info": {
   "codemirror_mode": {
    "name": "ipython",
    "version": 3
   },
   "file_extension": ".py",
   "mimetype": "text/x-python",
   "name": "python",
   "nbconvert_exporter": "python",
   "pygments_lexer": "ipython3",
   "version": "3.10.4"
  }
 },
 "nbformat": 4,
 "nbformat_minor": 5
}
