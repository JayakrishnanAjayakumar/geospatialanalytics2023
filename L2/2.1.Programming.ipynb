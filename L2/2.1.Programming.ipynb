{
 "cells": [
  {
   "cell_type": "markdown",
   "id": "4c344e0b-5c25-4771-97ba-da7c8ba8d78e",
   "metadata": {
    "slideshow": {
     "slide_type": "slide"
    },
    "tags": []
   },
   "source": [
    "# Programming"
   ]
  },
  {
   "cell_type": "markdown",
   "id": "0506f77a-88d9-4f99-acb6-d107c9d562e7",
   "metadata": {
    "slideshow": {
     "slide_type": "slide"
    },
    "tags": []
   },
   "source": [
    "## Why you should learn programming?"
   ]
  },
  {
   "cell_type": "markdown",
   "id": "8db16435-9882-4bf0-ba64-1fdbdda0503b",
   "metadata": {
    "slideshow": {
     "slide_type": "fragment"
    },
    "tags": []
   },
   "source": [
    "1. It would help you to **think and imagine**.\n",
    "\n",
    ">Writing a program requires us to **translate our ideas into a concise form** that a **computer can “understand”**, it also necessarily improves our **understanding of the problem itself**. -Donald Knuth\n",
    "\n",
    "You will start thinking about how to **solve a problem efficiently and quickly** (time is precious). Teaches you to **think about a problem deeply**.\n",
    "\n",
    "**Programming helps you to become a better scientist**\n",
    "\n",
    "![think](images/think.webp)"
   ]
  },
  {
   "cell_type": "markdown",
   "id": "3a098de7-41e0-4b71-9409-d415f4ab6e51",
   "metadata": {
    "slideshow": {
     "slide_type": "subslide"
    },
    "tags": []
   },
   "source": [
    "2. **Solving real-world problems** through programming is a **matter of pride** too (seeing your code in action!!)"
   ]
  },
  {
   "cell_type": "markdown",
   "id": "6bf51f4d-ee3b-46ca-8830-8fc6d89484fe",
   "metadata": {
    "slideshow": {
     "slide_type": "fragment"
    },
    "tags": []
   },
   "source": [
    "3. Reduce **black box knowledge**."
   ]
  },
  {
   "cell_type": "markdown",
   "id": "f5954758-3da2-423a-8a23-c27095169a5f",
   "metadata": {
    "slideshow": {
     "slide_type": "fragment"
    },
    "tags": []
   },
   "source": [
    "4. Take **charge of your computer**."
   ]
  },
  {
   "cell_type": "markdown",
   "id": "844eff54-4683-4b27-9a66-e462d5a59473",
   "metadata": {
    "slideshow": {
     "slide_type": "fragment"
    },
    "tags": []
   },
   "source": [
    "5. It **saves you a ton of time**."
   ]
  },
  {
   "cell_type": "markdown",
   "id": "a96ff411-94cf-4aa7-b63c-b2423e135767",
   "metadata": {
    "slideshow": {
     "slide_type": "fragment"
    },
    "tags": []
   },
   "source": [
    "6. Its **Fun!!**"
   ]
  },
  {
   "cell_type": "markdown",
   "id": "3463dc06-a797-4c7f-ab28-057c6d3440b7",
   "metadata": {
    "slideshow": {
     "slide_type": "slide"
    },
    "tags": []
   },
   "source": [
    "## How Programming helps you to become a better Scientist?"
   ]
  },
  {
   "cell_type": "markdown",
   "id": "35ad5a63-edfd-4db3-b73f-322ab79e6a07",
   "metadata": {
    "slideshow": {
     "slide_type": "fragment"
    },
    "tags": []
   },
   "source": [
    "To answer this question we need to first define **Scientific Method**"
   ]
  },
  {
   "cell_type": "markdown",
   "id": "31e5df00-84f8-44e9-b4a1-3c41ae563de8",
   "metadata": {
    "slideshow": {
     "slide_type": "fragment"
    },
    "tags": []
   },
   "source": [
    "![scientific_method](images/scientific_method.jpg)"
   ]
  },
  {
   "cell_type": "markdown",
   "id": "be588959-3d22-4ba6-b511-b58343d33db9",
   "metadata": {
    "slideshow": {
     "slide_type": "subslide"
    },
    "tags": []
   },
   "source": [
    "1. Define a question"
   ]
  },
  {
   "cell_type": "markdown",
   "id": "5c02da3d-3691-4ecb-a2b9-20e5d72e7993",
   "metadata": {
    "slideshow": {
     "slide_type": "fragment"
    },
    "tags": []
   },
   "source": [
    "2. **Gather information and resources (observe)**"
   ]
  },
  {
   "cell_type": "markdown",
   "id": "12931f7e-43b8-4529-9721-5ac60fc14c18",
   "metadata": {
    "slideshow": {
     "slide_type": "fragment"
    },
    "tags": []
   },
   "source": [
    "3. Form an explanatory hypothesis"
   ]
  },
  {
   "cell_type": "markdown",
   "id": "0f4bf9fb-25b6-458b-8373-6872e9c10918",
   "metadata": {
    "slideshow": {
     "slide_type": "fragment"
    },
    "tags": []
   },
   "source": [
    "4. **Test the hypothesis by performing an experiment and collecting data in a reproducible manner**"
   ]
  },
  {
   "cell_type": "markdown",
   "id": "b773d6b5-3327-4ee6-846b-bebeafb937e5",
   "metadata": {
    "slideshow": {
     "slide_type": "fragment"
    },
    "tags": []
   },
   "source": [
    "5. **Analyze the data**"
   ]
  },
  {
   "cell_type": "markdown",
   "id": "0a19015c-e3e9-4c52-ac99-6bfd3f0bb3b2",
   "metadata": {
    "slideshow": {
     "slide_type": "fragment"
    },
    "tags": []
   },
   "source": [
    "6. **Interpret the data and draw conclusions that serve as a starting point for new hypothesis**"
   ]
  },
  {
   "cell_type": "markdown",
   "id": "7c3ac11c-b258-471b-9d8a-5e7ced5361a8",
   "metadata": {
    "slideshow": {
     "slide_type": "fragment"
    },
    "tags": []
   },
   "source": [
    "7. Publish results"
   ]
  },
  {
   "cell_type": "markdown",
   "id": "7ea09d96-2804-4c8b-b845-896443cce3de",
   "metadata": {
    "slideshow": {
     "slide_type": "fragment"
    },
    "tags": []
   },
   "source": [
    "8. Retest (frequently done by other scientists)    "
   ]
  },
  {
   "cell_type": "markdown",
   "id": "f3cabff2-04a6-469a-a5e0-f874821a6dab",
   "metadata": {
    "slideshow": {
     "slide_type": "slide"
    },
    "tags": []
   },
   "source": [
    "## Basic Terminologies related to Programming"
   ]
  },
  {
   "cell_type": "markdown",
   "id": "cc62e65f-81f8-45b7-b562-bf2c0f09efb4",
   "metadata": {
    "slideshow": {
     "slide_type": "fragment"
    },
    "tags": []
   },
   "source": [
    "### Computation\n",
    "> A **sequence of simple steps** that **transform/process** some initial information (**input**) to into some desired result (**output**)\n",
    "\n",
    "![inputprocessoutput](images/input_process_output.png)"
   ]
  },
  {
   "cell_type": "markdown",
   "id": "81f5a191-d99f-4b19-9cc9-739c593032c5",
   "metadata": {
    "slideshow": {
     "slide_type": "subslide"
    },
    "tags": []
   },
   "source": [
    "If you observe **real-world applications**, then we can see this particular model in action\n",
    "\n",
    "![inputprocessoutput](images/inputprocessoutputrealworld.png)"
   ]
  },
  {
   "cell_type": "markdown",
   "id": "ad601082-7248-478c-88dd-e7e432e7f132",
   "metadata": {
    "slideshow": {
     "slide_type": "subslide"
    },
    "tags": []
   },
   "source": [
    "### Computer\n",
    ">A **computer is a machine** that can be **programmed** to carry out **sequences of arithmetic or logical operations (computation) automatically**.\n",
    "\n",
    "![CPU](images/CPU.png)"
   ]
  },
  {
   "cell_type": "markdown",
   "id": "e40ab08e-f5b7-41fb-93df-bcf6e4de445f",
   "metadata": {
    "slideshow": {
     "slide_type": "subslide"
    },
    "tags": []
   },
   "source": [
    "#### What are computers good at?"
   ]
  },
  {
   "cell_type": "markdown",
   "id": "ee804c04-1934-48ef-9ce0-5e859cc222cc",
   "metadata": {
    "slideshow": {
     "slide_type": "fragment"
    },
    "tags": []
   },
   "source": [
    "1. Well-defined, clear tasks"
   ]
  },
  {
   "cell_type": "markdown",
   "id": "8b794bce-1e0f-4fdb-b8aa-d350abbc8753",
   "metadata": {
    "slideshow": {
     "slide_type": "fragment"
    },
    "tags": []
   },
   "source": [
    "2. Data storage/manipulation"
   ]
  },
  {
   "cell_type": "markdown",
   "id": "ed09afc3-6a9c-4b66-9fe7-90a09d94daff",
   "metadata": {
    "slideshow": {
     "slide_type": "fragment"
    },
    "tags": []
   },
   "source": [
    "3. Repetitive calculations"
   ]
  },
  {
   "cell_type": "markdown",
   "id": "04c96450-63cd-4f8d-8172-0e107045d00d",
   "metadata": {
    "slideshow": {
     "slide_type": "fragment"
    },
    "tags": []
   },
   "source": [
    "4. Processing data or instructions"
   ]
  },
  {
   "cell_type": "markdown",
   "id": "324e226c-e1a6-400f-90b6-d49ff5a4439e",
   "metadata": {
    "slideshow": {
     "slide_type": "subslide"
    },
    "tags": []
   },
   "source": [
    "#### What are computers not good at?"
   ]
  },
  {
   "cell_type": "markdown",
   "id": "ed1beb6d-79cf-4dbf-b3b9-57888c0b910d",
   "metadata": {
    "slideshow": {
     "slide_type": "fragment"
    },
    "tags": []
   },
   "source": [
    "1. Tasks that are not well defined. \n",
    "\n",
    "For example Calculate Pi"
   ]
  },
  {
   "cell_type": "markdown",
   "id": "0c763e43-7cd2-4a91-8ca0-388ef6ab0ed6",
   "metadata": {
    "slideshow": {
     "slide_type": "fragment"
    },
    "tags": []
   },
   "source": [
    "2. Tasks that are not computable. \n",
    "\n",
    "For example. Computer, where are are my car keys??"
   ]
  },
  {
   "cell_type": "markdown",
   "id": "71aa9f89-88f8-4b79-9d20-773a07b5cc9e",
   "metadata": {
    "slideshow": {
     "slide_type": "fragment"
    },
    "tags": []
   },
   "source": [
    "Now since we know what computers are good and not good at, how will we instruct computers to do a specific task."
   ]
  },
  {
   "cell_type": "markdown",
   "id": "336952fa-fd84-45b6-8b67-0f3315aa1532",
   "metadata": {
    "slideshow": {
     "slide_type": "slide"
    },
    "tags": []
   },
   "source": [
    "### What is a program?\n",
    ">A **program** is a detailed list of **step-by-step instructions telling the computer exactly what to do**.\n",
    "The program can be changed to alter what the computer will do when the code is executed."
   ]
  },
  {
   "cell_type": "markdown",
   "id": "e9545391-1084-473d-90a8-b7b2f9418369",
   "metadata": {
    "slideshow": {
     "slide_type": "subslide"
    },
    "tags": []
   },
   "source": [
    "### What is a programming language?\n",
    ">A programming language is an **artificial language that a computer understands**. \n",
    "The language is made up of **series of statements** that **fit together to form instructions**. \n",
    "These **instructions** tell a computer **what to do**. \n",
    "\n",
    "More intuitively, programming languages **acts as a bridge** between **human and computer**."
   ]
  },
  {
   "cell_type": "markdown",
   "id": "0f46c63f-b75c-43a4-837c-f8cb449db162",
   "metadata": {
    "slideshow": {
     "slide_type": "fragment"
    },
    "tags": []
   },
   "source": [
    "![Programmingasbridge](images/ProgrammingLanguages.png)"
   ]
  },
  {
   "cell_type": "markdown",
   "id": "a97c2250-86c1-4e36-9075-9a5d0f8becfa",
   "metadata": {
    "slideshow": {
     "slide_type": "subslide"
    },
    "tags": []
   },
   "source": [
    "### Developing a program"
   ]
  },
  {
   "cell_type": "markdown",
   "id": "cf9bdc01-5740-4d1b-aab4-20774e370dd4",
   "metadata": {
    "slideshow": {
     "slide_type": "fragment"
    },
    "tags": []
   },
   "source": [
    "![Developing](images/workflow.png)"
   ]
  },
  {
   "cell_type": "markdown",
   "id": "8226cb22-8a6a-4750-8c74-a34371a5dd55",
   "metadata": {
    "slideshow": {
     "slide_type": "slide"
    },
    "tags": []
   },
   "source": [
    "Calculate the volume of a cone from its radius and height"
   ]
  },
  {
   "cell_type": "markdown",
   "id": "7b133586-2b8f-44ea-a0cc-ffb456e14e7d",
   "metadata": {
    "slideshow": {
     "slide_type": "fragment"
    },
    "tags": []
   },
   "source": [
    "1. **Analyze the problem** (Finding the volume of a cone. Is there a formula??)\n",
    "\\begin{align}\n",
    "V = \\frac13 \\times \\pi \\times (radius)^2 \\times height\n",
    "\\end{align}"
   ]
  },
  {
   "cell_type": "markdown",
   "id": "1da87d7a-e9d2-45a9-afd3-ed95ea29788d",
   "metadata": {
    "slideshow": {
     "slide_type": "fragment"
    },
    "tags": []
   },
   "source": [
    "2. **Determine specifications** (What will be the unit of radius and height. Will it be in meters). Determine the input and output."
   ]
  },
  {
   "cell_type": "markdown",
   "id": "f4ecd17c-c173-431a-b0b7-83c77132e6f8",
   "metadata": {
    "slideshow": {
     "slide_type": "fragment"
    },
    "tags": []
   },
   "source": [
    "3. **Create a design**\n",
    "\n",
    "What is the overall structure of the program? How will it work? \n",
    "\n",
    "It is often helpful to write out the code operation in **pseudocode**. \n",
    "\n",
    ">**Psuedocode** is a **relaxed manner of writing algorithms** that is meant to be **read by a human rather than a computer**.\n",
    "\n",
    "The flexibility afforded by pseudocode allows us to more clearly focus on **how to solve the problem at hand** without becoming **distracted by the more demanding requirements of a programming language**. Once we have **refined the algorithm adequately and convinced ourselves that it is correct**, we can translate it into a formal program.\n",
    "\n",
    "For example\n",
    "\n",
    "1. Input height\n",
    "2. Input radius\n",
    "3. create a variable volume and assign its value as 1/3 * 3.1415 * radius * radius * height"
   ]
  },
  {
   "cell_type": "markdown",
   "id": "e727ff35-e1a7-4414-90c7-1304ffd35a2e",
   "metadata": {
    "slideshow": {
     "slide_type": "fragment"
    },
    "tags": []
   },
   "source": [
    "4. **Implement the design**\n",
    "\n",
    "This is the step where we use programming language to instruct the computer to solve our task at hand. For example let's do this in Python. "
   ]
  },
  {
   "cell_type": "code",
   "execution_count": 2,
   "id": "2f6c57ed-f46f-44d0-8cb0-1a1b30345836",
   "metadata": {
    "slideshow": {
     "slide_type": "subslide"
    },
    "tags": []
   },
   "outputs": [
    {
     "name": "stdout",
     "output_type": "stream",
     "text": [
      "The volume of cone is  2356.125\n"
     ]
    }
   ],
   "source": [
    "heightOfCone = 10 #height of the cone\n",
    "radiusOfCone = 15 #radius of the cone\n",
    "volumeOfCone = 1/3 * 3.1415 * radiusOfCone * radiusOfCone * heightOfCone\n",
    "#if you want to print the volume \n",
    "print ('The volume of cone is ',volumeOfCone)"
   ]
  },
  {
   "cell_type": "markdown",
   "id": "4b22eff4-ffad-4dac-83c5-d7f15326e293",
   "metadata": {
    "slideshow": {
     "slide_type": "subslide"
    },
    "tags": []
   },
   "source": [
    "5. **Test/debug the program**\n",
    "\n",
    "You should test your program by re-running it with different values and checking whether the program is producing the expected results. "
   ]
  },
  {
   "cell_type": "markdown",
   "id": "60c96d0d-31f1-4ec5-819d-1eed8609493d",
   "metadata": {
    "slideshow": {
     "slide_type": "fragment"
    },
    "tags": []
   },
   "source": [
    "6. **Maintain the program**\n",
    "\n",
    "If you’ve written something that will be shared by other users, a helpful programmer will continue to add features that are requested by the users."
   ]
  }
 ],
 "metadata": {
  "kernelspec": {
   "display_name": "Python 3 (ipykernel)",
   "language": "python",
   "name": "python3"
  },
  "language_info": {
   "codemirror_mode": {
    "name": "ipython",
    "version": 3
   },
   "file_extension": ".py",
   "mimetype": "text/x-python",
   "name": "python",
   "nbconvert_exporter": "python",
   "pygments_lexer": "ipython3",
   "version": "3.10.4"
  }
 },
 "nbformat": 4,
 "nbformat_minor": 5
}
