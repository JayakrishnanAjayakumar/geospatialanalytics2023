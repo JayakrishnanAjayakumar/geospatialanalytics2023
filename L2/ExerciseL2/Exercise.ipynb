{
 "cells": [
  {
   "cell_type": "markdown",
   "id": "ccf9a424",
   "metadata": {},
   "source": [
    "# Exercise I (submit by 01/27/2023 11:59pm EST)  \n",
    "\n",
    "#### You can click on Run -> Run All Cells to enable all the question prompts at the same time (or you could run each cells one by one)\n",
    "\n",
    "#### Each question has a scratch pad (a blank coding cell) where you can scribble your code.  \n",
    "\n",
    "#### Assigned mark for each question is provided near to the question in parenthesis.\n",
    "\n",
    "#### You can save partial responses by clicking the “Save” button after each question. \n",
    "\n",
    "#### For coding questions, make sure you follow the exact guidelines. You have make sure that your code runs without any errors.\n",
    "\n",
    "#### Up on completion; fill your case network id and the password that you have created during the first session. \n",
    "\n",
    "#### Click Submit to upload the test."
   ]
  },
  {
   "cell_type": "code",
   "execution_count": null,
   "id": "a199abf2",
   "metadata": {},
   "outputs": [],
   "source": [
    "import sys\n",
    "sys.path.append('../../')\n",
    "from helper.questionhelper import *\n",
    "qset = QuestionSet()        "
   ]
  },
  {
   "cell_type": "code",
   "execution_count": null,
   "id": "b0d57fc2",
   "metadata": {},
   "outputs": [],
   "source": [
    "qset.getQuestion(1)"
   ]
  },
  {
   "cell_type": "code",
   "execution_count": null,
   "id": "cc48198b",
   "metadata": {},
   "outputs": [],
   "source": [
    "#Scratch Pad"
   ]
  },
  {
   "cell_type": "code",
   "execution_count": null,
   "id": "c1ea9663",
   "metadata": {},
   "outputs": [],
   "source": [
    "qset.getQuestion(2)"
   ]
  },
  {
   "cell_type": "code",
   "execution_count": null,
   "id": "245c6cda",
   "metadata": {},
   "outputs": [],
   "source": [
    "#Scratch Pad"
   ]
  },
  {
   "cell_type": "code",
   "execution_count": null,
   "id": "321c5c1d",
   "metadata": {},
   "outputs": [],
   "source": [
    "qset.getQuestion(3)"
   ]
  },
  {
   "cell_type": "code",
   "execution_count": null,
   "id": "e04dc668",
   "metadata": {},
   "outputs": [],
   "source": [
    "#Scratch Pad"
   ]
  },
  {
   "cell_type": "code",
   "execution_count": null,
   "id": "4937a2cf",
   "metadata": {},
   "outputs": [],
   "source": [
    "qset.getQuestion(4)"
   ]
  },
  {
   "cell_type": "code",
   "execution_count": null,
   "id": "4bae1ccd",
   "metadata": {},
   "outputs": [],
   "source": [
    "#Scratch Pad"
   ]
  },
  {
   "cell_type": "code",
   "execution_count": null,
   "id": "ccae7354",
   "metadata": {},
   "outputs": [],
   "source": [
    "qset.getQuestion(5)"
   ]
  },
  {
   "cell_type": "code",
   "execution_count": null,
   "id": "50c98c14",
   "metadata": {},
   "outputs": [],
   "source": [
    "#Scratch Pad"
   ]
  },
  {
   "cell_type": "code",
   "execution_count": null,
   "id": "c46a09f3",
   "metadata": {},
   "outputs": [],
   "source": [
    "qset.getQuestion(6)"
   ]
  },
  {
   "cell_type": "code",
   "execution_count": null,
   "id": "f488fcd5",
   "metadata": {},
   "outputs": [],
   "source": [
    "#Scratch Pad"
   ]
  },
  {
   "cell_type": "code",
   "execution_count": null,
   "id": "dce4f682",
   "metadata": {},
   "outputs": [],
   "source": [
    "qset.getQuestion(7)"
   ]
  },
  {
   "cell_type": "code",
   "execution_count": null,
   "id": "e7586085",
   "metadata": {},
   "outputs": [],
   "source": [
    "#Scratch Pad"
   ]
  },
  {
   "cell_type": "code",
   "execution_count": null,
   "id": "05981ad6",
   "metadata": {},
   "outputs": [],
   "source": [
    "qset.getQuestion(8)"
   ]
  },
  {
   "cell_type": "code",
   "execution_count": null,
   "id": "d3424318",
   "metadata": {},
   "outputs": [],
   "source": [
    "#Scratch Pad"
   ]
  },
  {
   "cell_type": "code",
   "execution_count": null,
   "id": "ed084f21",
   "metadata": {},
   "outputs": [],
   "source": [
    "qset.getQuestion(9)"
   ]
  },
  {
   "cell_type": "code",
   "execution_count": null,
   "id": "19fcd288",
   "metadata": {},
   "outputs": [],
   "source": [
    "#Scratch Pad"
   ]
  },
  {
   "cell_type": "code",
   "execution_count": null,
   "id": "4e4850e7",
   "metadata": {},
   "outputs": [],
   "source": [
    "qset.getQuestion(10)"
   ]
  },
  {
   "cell_type": "code",
   "execution_count": null,
   "id": "ca30a5c7",
   "metadata": {},
   "outputs": [],
   "source": [
    "#Scratch Pad"
   ]
  },
  {
   "cell_type": "code",
   "execution_count": null,
   "id": "12ad1dbe",
   "metadata": {},
   "outputs": [],
   "source": [
    "qset.getQuestion(11)"
   ]
  },
  {
   "cell_type": "code",
   "execution_count": null,
   "id": "1a8d0711",
   "metadata": {},
   "outputs": [],
   "source": [
    "#Scratch Pad"
   ]
  },
  {
   "cell_type": "code",
   "execution_count": null,
   "id": "ee064df1",
   "metadata": {},
   "outputs": [],
   "source": [
    "qset.getQuestion(12)"
   ]
  },
  {
   "cell_type": "code",
   "execution_count": null,
   "id": "1a18efa6",
   "metadata": {},
   "outputs": [],
   "source": [
    "#Scratch Pad"
   ]
  },
  {
   "cell_type": "code",
   "execution_count": null,
   "id": "f3ba74ab",
   "metadata": {},
   "outputs": [],
   "source": [
    "qset.getQuestion(13)"
   ]
  },
  {
   "cell_type": "code",
   "execution_count": null,
   "id": "adb847dc",
   "metadata": {},
   "outputs": [],
   "source": [
    "#Scratch Pad"
   ]
  },
  {
   "cell_type": "code",
   "execution_count": null,
   "id": "b2a30d30",
   "metadata": {},
   "outputs": [],
   "source": [
    "qset.showSubmitSection()"
   ]
  },
  {
   "cell_type": "code",
   "execution_count": null,
   "id": "cc92bb4f-ed58-4384-97c5-d3da8152b42e",
   "metadata": {},
   "outputs": [],
   "source": []
  }
 ],
 "metadata": {
  "kernelspec": {
   "display_name": "Python 3 (ipykernel)",
   "language": "python",
   "name": "python3"
  },
  "language_info": {
   "codemirror_mode": {
    "name": "ipython",
    "version": 3
   },
   "file_extension": ".py",
   "mimetype": "text/x-python",
   "name": "python",
   "nbconvert_exporter": "python",
   "pygments_lexer": "ipython3",
   "version": "3.10.4"
  }
 },
 "nbformat": 4,
 "nbformat_minor": 5
}
