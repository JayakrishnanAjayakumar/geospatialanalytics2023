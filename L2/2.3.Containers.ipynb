{
 "cells": [
  {
   "cell_type": "markdown",
   "id": "22c04380-39b0-42c7-a48f-9072c095a2f5",
   "metadata": {},
   "source": [
    "# Containers"
   ]
  },
  {
   "cell_type": "markdown",
   "id": "67ba828a-3df9-423d-ae5b-2413a07219c7",
   "metadata": {},
   "source": [
    "Until now we have used variables that can store one value at a time. What if we want to store more than one value. Let's look at an example for motivation.\n",
    "\n",
    "Say you are provided with earth surface temperature for past 70 years (very crucial for understanding about global warming), it would be very inconvenient to store data as shown below\n",
    "```python\n",
    "temp1952 = 34\n",
    "temp1953 = 34.8\n",
    ".\n",
    ".\n",
    "temp2021 = 46\n",
    "```\n",
    "While it is hard to store each of these values in seperate variables it is even harder to perform any operations on them. What if we want to calculate the maximum temperature or minimum temperature, or plot a graph to show the longitudnal variations in temperature. **Representing a large set of values in individual variables is practically infeasible**.\n",
    "\n",
    "We want to have the **group of values stored in a single container, which can then be assigned to a single variable**. \n",
    "\n",
    "![containersgroup](images/sampleVariableList.png)\n",
    "\n",
    "We should also be able to **read/update/delete each individual elements**.\n",
    "\n",
    "Fortunately, Python provides us with different built-in containers for storing more than one value at a time. We will cover some of the commonly used containers (there are many more which can be installed from external sources)"
   ]
  },
  {
   "cell_type": "markdown",
   "id": "8384c587-0b6c-48c6-92e3-0fe31ec639a5",
   "metadata": {},
   "source": [
    "## List"
   ]
  },
  {
   "cell_type": "markdown",
   "id": "744dc93f-5d38-4126-9796-749922687ad8",
   "metadata": {},
   "source": [
    "A list is represented as a **sequence of items (ordered), separated by commas, and enclosed in square brackets**. Let's look at some concrete example."
   ]
  },
  {
   "cell_type": "code",
   "execution_count": 1,
   "id": "2bdac375-50cc-4987-b689-6ea2b6ee9f17",
   "metadata": {},
   "outputs": [],
   "source": [
    "fruitBasket = ['apple','orange','guava','cherry']\n",
    "numbers = [1,56,7,67,76,55,456]\n",
    "mixedList = [1,2,3,'hi','hello',False,True,34.56] #can have any datatype\n",
    "emptyList = []\n",
    "anotherEmptyList = list()"
   ]
  },
  {
   "cell_type": "markdown",
   "id": "a59cabce-0d3f-475e-b077-6ada84da66d6",
   "metadata": {},
   "source": [
    "Can you check the type of fruitBasket declared above"
   ]
  },
  {
   "cell_type": "code",
   "execution_count": null,
   "id": "fe0218e3-aded-42f2-bb8f-5cc93902c130",
   "metadata": {},
   "outputs": [],
   "source": []
  },
  {
   "cell_type": "markdown",
   "id": "e0a941a0-28a8-439b-8e08-c10335429f8c",
   "metadata": {},
   "source": [
    "**Lists can virtually store values of any data types, including lists (nested lists) and other containers** (we will cover them later).\n",
    "\n",
    "```python\n",
    "aListOfList = [[1,2],[2,4],[4,5]]\n",
    "```\n",
    "\n",
    "Previously we have seen that a variable is assigned a location in memory and has a name (identifer) and value associated with it. **A list will have a single name (identifer) associated with a contiguos block of memory (together in sequence)**. \n",
    "\n",
    "![list_memory](images/list_memory_view.png)"
   ]
  },
  {
   "cell_type": "markdown",
   "id": "db93e7d6-8b81-4716-9f9e-f27ec433e53d",
   "metadata": {},
   "source": [
    "### Accessing elements in a list using Index values\n",
    "\n",
    "An index value is a number that refers to a given position in the list. List indexes in Python start from **0 (not 1)** and ends at **length of list - 1**.\n",
    "\n",
    "Let's see some examples"
   ]
  },
  {
   "cell_type": "code",
   "execution_count": 2,
   "id": "42e255cd-3247-4501-b9ae-1a73316ba7fd",
   "metadata": {},
   "outputs": [
    {
     "name": "stdout",
     "output_type": "stream",
     "text": [
      "apple\n",
      "cherry\n"
     ]
    }
   ],
   "source": [
    "fruitBasket = ['apple','orange','guava','cherry']\n",
    "print (fruitBasket[0]) #first element\n",
    "print (fruitBasket[3]) #fourth element"
   ]
  },
  {
   "cell_type": "markdown",
   "id": "21b3c185-c8dd-43c4-ba21-f951586b9299",
   "metadata": {},
   "source": [
    "What do you think will happen in this case\n",
    "```python\n",
    "print (fruitBasket[4])\n",
    "```"
   ]
  },
  {
   "cell_type": "code",
   "execution_count": null,
   "id": "ecedae58-b239-4132-89db-098a11614b06",
   "metadata": {},
   "outputs": [],
   "source": []
  },
  {
   "cell_type": "markdown",
   "id": "2b577c36-cc43-40f5-9e49-107a3a82c359",
   "metadata": {},
   "source": [
    "You will get an index error as we are asking the 5th element in the list while the list has only 4 elements. You can even use negative index to access the list elements in the reverse order"
   ]
  },
  {
   "cell_type": "code",
   "execution_count": 3,
   "id": "e98f3ab7-8cd0-4327-93b8-27c996c93560",
   "metadata": {},
   "outputs": [
    {
     "name": "stdout",
     "output_type": "stream",
     "text": [
      "cherry\n",
      "guava\n"
     ]
    }
   ],
   "source": [
    "print (fruitBasket[-1]) #last element\n",
    "print (fruitBasket[-2]) #second last element"
   ]
  },
  {
   "cell_type": "markdown",
   "id": "a9de69a4-cb36-4858-ad87-83076362d5bb",
   "metadata": {},
   "source": [
    "You can also access nested lists using nested index. Let's see an example"
   ]
  },
  {
   "cell_type": "code",
   "execution_count": 4,
   "id": "b72119bb-45bf-49a6-8472-59c606c1d4b4",
   "metadata": {},
   "outputs": [
    {
     "name": "stdout",
     "output_type": "stream",
     "text": [
      "[1, 2]\n",
      "4\n"
     ]
    }
   ],
   "source": [
    "aListOfList = [[1,2],[2,4],[4,5]]\n",
    "print (aListOfList[0])\n",
    "print (aListOfList[2][0])"
   ]
  },
  {
   "cell_type": "markdown",
   "id": "e831ec5b-bc3a-4c88-9a86-9bc19b0c7056",
   "metadata": {},
   "source": [
    "Now can you retrieve the last element from the last element of the list using index"
   ]
  },
  {
   "cell_type": "code",
   "execution_count": null,
   "id": "ab27f2c4-e234-49e8-8670-b70f5d1ac9c0",
   "metadata": {},
   "outputs": [],
   "source": []
  },
  {
   "cell_type": "markdown",
   "id": "f7f3186b-bbc1-4791-b5b1-39494d3209e8",
   "metadata": {},
   "source": [
    "### Accessing a sequence of elements in List using slicing"
   ]
  },
  {
   "cell_type": "markdown",
   "id": "28edfb42-c64e-4e61-942c-be5abd4701e2",
   "metadata": {},
   "source": [
    "![slicing](images/slicing.png)\n",
    "Slicing helps to extract portions of list (contiguos elements only) through indexing.\n",
    "\n",
    "The general format for slicing is\n",
    "\n",
    "```python\n",
    "listVariable[start:stop:step]\n",
    "```\n",
    "\n",
    "where start,stop, and step are optional\n",
    "\n",
    "Now let's look at some concrete examples"
   ]
  },
  {
   "cell_type": "code",
   "execution_count": 5,
   "id": "ede7a298-a1b2-43c0-b505-16691bb4f9b8",
   "metadata": {},
   "outputs": [],
   "source": [
    "#our list\n",
    "monthlyTemperature = [36,39,47,60,71,80,84,82,76,64,51,40]"
   ]
  },
  {
   "cell_type": "markdown",
   "id": "f67a5e3f-c358-445c-8a8a-be74736547e7",
   "metadata": {},
   "source": [
    "Here monthlyTemperature is a list having average temperature for every month in a year (starting from Jan).\n",
    "\n",
    "We want to extract the temperature for first three months (Jan,Feb,Mar). We could do this using slicing"
   ]
  },
  {
   "cell_type": "code",
   "execution_count": 6,
   "id": "5e9e0484-fec6-43f7-9985-0ff04420c499",
   "metadata": {},
   "outputs": [
    {
     "name": "stdout",
     "output_type": "stream",
     "text": [
      "[36, 39, 47]\n"
     ]
    }
   ],
   "source": [
    "print (monthlyTemperature[0:3])"
   ]
  },
  {
   "cell_type": "markdown",
   "id": "e9c3cb13-a793-4192-bbec-507388896328",
   "metadata": {},
   "source": [
    "Now we want to extract the tempertaure from June to October. Again we could use slicing"
   ]
  },
  {
   "cell_type": "code",
   "execution_count": 7,
   "id": "4092a417-9f48-469d-89bd-1821ba18e387",
   "metadata": {},
   "outputs": [
    {
     "name": "stdout",
     "output_type": "stream",
     "text": [
      "[80, 84, 82, 76, 64]\n"
     ]
    }
   ],
   "source": [
    "print (monthlyTemperature[5:10])"
   ]
  },
  {
   "cell_type": "markdown",
   "id": "ec0c3aae-8de3-4b0f-b524-534152cf2b6e",
   "metadata": {},
   "source": [
    "Now can you try to extract the temperatures for the last three months (Oct,Nov, Dec)"
   ]
  },
  {
   "cell_type": "code",
   "execution_count": null,
   "id": "8bcd8fcc-8d82-4ab9-bc52-624f57772ad9",
   "metadata": {},
   "outputs": [],
   "source": []
  },
  {
   "cell_type": "markdown",
   "id": "546d3d06-7f03-457b-addf-83d05496774f",
   "metadata": {},
   "source": [
    "If you need elements till the end you could also skip the stop value. For example to extract the last 5 values from our list we can use"
   ]
  },
  {
   "cell_type": "code",
   "execution_count": 8,
   "id": "4c15200d-66dd-4006-818b-09b9ab803c87",
   "metadata": {},
   "outputs": [
    {
     "name": "stdout",
     "output_type": "stream",
     "text": [
      "[82, 76, 64, 51, 40]\n"
     ]
    }
   ],
   "source": [
    "print (monthlyTemperature[7:])"
   ]
  },
  {
   "cell_type": "markdown",
   "id": "8fa559b8-355c-47d3-b15a-0cf41f2a6565",
   "metadata": {},
   "source": [
    "And if you want the first five values you can omit the start value"
   ]
  },
  {
   "cell_type": "code",
   "execution_count": 9,
   "id": "abb0cb55-dc2f-4dd7-bffd-6010167b85ce",
   "metadata": {},
   "outputs": [
    {
     "name": "stdout",
     "output_type": "stream",
     "text": [
      "[36, 39, 47, 60, 71]\n"
     ]
    }
   ],
   "source": [
    "print (monthlyTemperature[:5])"
   ]
  },
  {
   "cell_type": "markdown",
   "id": "a4439b9f-432d-4dd1-8567-f352f415e92a",
   "metadata": {},
   "source": [
    "The step value can be used to do some intersting things. For example if we want to extract the temperature for every other month (Jan, Mar,May etc), then we can just do "
   ]
  },
  {
   "cell_type": "code",
   "execution_count": 10,
   "id": "b5715630-b92c-4a42-97a9-4bb710d4dfa7",
   "metadata": {},
   "outputs": [
    {
     "name": "stdout",
     "output_type": "stream",
     "text": [
      "[36, 47, 71, 84, 76, 51]\n"
     ]
    }
   ],
   "source": [
    "print (monthlyTemperature[::2])"
   ]
  },
  {
   "cell_type": "markdown",
   "id": "23f1cb6c-3b46-4851-8f49-b61bf24bb0d5",
   "metadata": {},
   "source": [
    "### Modifying values inside a list\n",
    "\n",
    "We can use indices to change values in a list. Let's see an example"
   ]
  },
  {
   "cell_type": "code",
   "execution_count": 11,
   "id": "ceaafc36-fc5c-44e7-8c50-1c108ad1394d",
   "metadata": {},
   "outputs": [],
   "source": [
    "fruitBasket = ['apple','orange','guava','cherry']"
   ]
  },
  {
   "cell_type": "markdown",
   "id": "2f4c7132-d467-4d94-9ca9-00fd5c8851b4",
   "metadata": {},
   "source": [
    "We want to change the first element of the list to 'grape'"
   ]
  },
  {
   "cell_type": "code",
   "execution_count": 12,
   "id": "ea3829b5-7c9f-4651-b114-86a9ebf86a35",
   "metadata": {},
   "outputs": [
    {
     "name": "stdout",
     "output_type": "stream",
     "text": [
      "['grape', 'orange', 'guava', 'cherry']\n"
     ]
    }
   ],
   "source": [
    "fruitBasket[0] = 'grape'\n",
    "print (fruitBasket)"
   ]
  },
  {
   "cell_type": "markdown",
   "id": "1e207bb5-7749-4a87-9872-18a48f012cca",
   "metadata": {},
   "source": [
    "Now we want to change the last element to 'pear'."
   ]
  },
  {
   "cell_type": "code",
   "execution_count": null,
   "id": "2330d835-d9b0-46a8-8826-a5ec454526a4",
   "metadata": {},
   "outputs": [],
   "source": []
  },
  {
   "cell_type": "markdown",
   "id": "14d47154-35cb-4bb2-8813-d81edef4a534",
   "metadata": {},
   "source": [
    "We can also slice to change a sequence of values. Let's change the first two elements to 'mango' and 'kiwi'"
   ]
  },
  {
   "cell_type": "code",
   "execution_count": 13,
   "id": "b6971138-0abd-4b43-b5dd-80d8955fc2b9",
   "metadata": {},
   "outputs": [
    {
     "name": "stdout",
     "output_type": "stream",
     "text": [
      "['mango', 'kiwi', 'guava', 'cherry']\n"
     ]
    }
   ],
   "source": [
    "fruitBasket[0:2] = ['mango','kiwi']\n",
    "print (fruitBasket)"
   ]
  },
  {
   "cell_type": "markdown",
   "id": "04922c24-5ee8-47e6-9793-c6c520f26ed2",
   "metadata": {},
   "source": [
    "Now we want to change all the values to 'pineapple'"
   ]
  },
  {
   "cell_type": "code",
   "execution_count": 14,
   "id": "cf4dd6cb-4710-4e7a-af1f-8dc3355ded33",
   "metadata": {},
   "outputs": [
    {
     "name": "stdout",
     "output_type": "stream",
     "text": [
      "['pineapple', 'pineapple', 'pineapple', 'pineapple']\n"
     ]
    }
   ],
   "source": [
    "fruitBasket[:] = ['pineapple']*4   #this will create a new list with the element repeated 4 times\n",
    "print(fruitBasket)"
   ]
  },
  {
   "cell_type": "markdown",
   "id": "d0f0ab45-0673-46d1-892a-67f469101aca",
   "metadata": {},
   "source": [
    "### Adding new elements to the list using append() method"
   ]
  },
  {
   "cell_type": "markdown",
   "id": "6f6188c6-1359-4f66-8f72-6263d28ddd94",
   "metadata": {},
   "source": [
    "append() method in lsit can be usedd to add new elements to an existing list (or populating a list). You will be heavility using this method when dealing with dynamic data. Let's add new fruits to our fruit basket. "
   ]
  },
  {
   "cell_type": "code",
   "execution_count": 15,
   "id": "69ff87ac-9a2b-4591-8c87-4ce29c2d0387",
   "metadata": {},
   "outputs": [],
   "source": [
    "fruitBasket = ['apple','orange','guava','cherry']"
   ]
  },
  {
   "cell_type": "markdown",
   "id": "2f04c56a-652d-47f6-b199-0ce9bc34bc10",
   "metadata": {},
   "source": [
    "Lets add 'tomato' to our fruit basket"
   ]
  },
  {
   "cell_type": "code",
   "execution_count": 16,
   "id": "6e73ae61-12ae-4ab6-b8c5-f16074ecb294",
   "metadata": {},
   "outputs": [
    {
     "name": "stdout",
     "output_type": "stream",
     "text": [
      "['apple', 'orange', 'guava', 'cherry', 'tomato']\n"
     ]
    }
   ],
   "source": [
    "fruitBasket.append('tomato')\n",
    "print(fruitBasket)"
   ]
  },
  {
   "cell_type": "markdown",
   "id": "0b54aeab-0f84-4e06-ae81-b7b8c13b8854",
   "metadata": {},
   "source": [
    "Now try to add a list [7,8] the list given below"
   ]
  },
  {
   "cell_type": "code",
   "execution_count": 17,
   "id": "5ffff591-497d-4446-b28b-72c491b508d3",
   "metadata": {},
   "outputs": [],
   "source": [
    "numbers = [[1,2],[3,4],[5,6]]"
   ]
  },
  {
   "cell_type": "code",
   "execution_count": null,
   "id": "6e4a3e2e-c320-4e38-9c01-8c361e162190",
   "metadata": {},
   "outputs": [],
   "source": []
  },
  {
   "cell_type": "markdown",
   "id": "9dfae663-fd71-420a-b0ad-2aa46f8e68ee",
   "metadata": {},
   "source": [
    "### Concatenating two lists using extend() method"
   ]
  },
  {
   "cell_type": "markdown",
   "id": "25652204-bceb-4672-b605-fe263acb10ef",
   "metadata": {},
   "source": [
    "Suppose we have two lists and we would want to concatenate them\n",
    "For example [1,2,3] and ['a','b','c'] to [1,2,3,'a','b','c']. We can use the extend method on the first list"
   ]
  },
  {
   "cell_type": "code",
   "execution_count": 18,
   "id": "b9ad15d9-9f2c-4214-8651-fc6d7fd9e24f",
   "metadata": {},
   "outputs": [
    {
     "name": "stdout",
     "output_type": "stream",
     "text": [
      "[1, 2, 3, 'a', 'b', 'c']\n"
     ]
    }
   ],
   "source": [
    "first = [1,2,3]\n",
    "second = ['a','b','c']\n",
    "first.extend(second)\n",
    "print (first)"
   ]
  },
  {
   "cell_type": "markdown",
   "id": "9e60ec11-6bd9-4c6d-a209-2a8d5a9ff978",
   "metadata": {},
   "source": [
    "So we have modified the first list and added the contents of the second list to it. Another way to do it is the + operator. But with + operator you have to be careful as it doesn't modify any of the list, rather it creates a new list. Let's check that out"
   ]
  },
  {
   "cell_type": "code",
   "execution_count": 19,
   "id": "82e60f02-2433-4583-90d6-d8df0dfbdd02",
   "metadata": {},
   "outputs": [
    {
     "name": "stdout",
     "output_type": "stream",
     "text": [
      "[1, 2, 3]\n"
     ]
    }
   ],
   "source": [
    "first = [1,2,3]\n",
    "second = ['a','b','c']\n",
    "first+second\n",
    "print (first)"
   ]
  },
  {
   "cell_type": "markdown",
   "id": "c16cd8de-b17d-4905-86b6-1bf074d623d6",
   "metadata": {},
   "source": [
    "Oops!!! we didn't get what we expected. The trick is to store the result in a new variable. So why don't you give it a try"
   ]
  },
  {
   "cell_type": "code",
   "execution_count": null,
   "id": "eac30b8a-c9ab-4113-abeb-58e53ef00592",
   "metadata": {},
   "outputs": [],
   "source": []
  },
  {
   "cell_type": "markdown",
   "id": "5cc182c1-5cc6-4159-93c5-5e99d094bf68",
   "metadata": {},
   "source": [
    "What will happen if we use append instead of extend??"
   ]
  },
  {
   "cell_type": "code",
   "execution_count": null,
   "id": "8b339b28-da1c-4b82-bfb2-58908d8d498b",
   "metadata": {},
   "outputs": [],
   "source": []
  },
  {
   "cell_type": "markdown",
   "id": "d515dc8e-e3a8-4d3d-ab0f-22219d06c204",
   "metadata": {},
   "source": [
    "### Deleting an element from list using the del statement\n",
    "You can delete an element from the list using del statement along with the element to extract (using index). Let's remove the first element from our fruit basket. "
   ]
  },
  {
   "cell_type": "code",
   "execution_count": 20,
   "id": "69f564a6-aac6-4482-84de-a8999f7139da",
   "metadata": {},
   "outputs": [
    {
     "name": "stdout",
     "output_type": "stream",
     "text": [
      "['orange', 'guava', 'cherry']\n"
     ]
    }
   ],
   "source": [
    "fruitBasket = ['apple','orange','guava','cherry']\n",
    "del fruitBasket[0] # delete the first element\n",
    "print (fruitBasket)"
   ]
  },
  {
   "cell_type": "markdown",
   "id": "f5cd181f-da58-4d52-80e7-cbd14aae318b",
   "metadata": {},
   "source": [
    "Now you delete the last element from the fruit basket. "
   ]
  },
  {
   "cell_type": "code",
   "execution_count": null,
   "id": "9ab4c302-1334-4e7e-bee4-b13864cd3f9f",
   "metadata": {},
   "outputs": [],
   "source": []
  },
  {
   "cell_type": "markdown",
   "id": "1047e116-b43a-4136-be79-28597d8398e5",
   "metadata": {},
   "source": [
    "### Some more useful functions and methods that you can use with lists"
   ]
  },
  {
   "cell_type": "markdown",
   "id": "c4fc869a-fab2-47f0-ac45-3f98f57724ee",
   "metadata": {},
   "source": [
    "#### The len() function to count the total number of elements in a list/sequence"
   ]
  },
  {
   "cell_type": "code",
   "execution_count": 21,
   "id": "40bcede8-0653-43ee-a354-95afcf4fc8ca",
   "metadata": {},
   "outputs": [
    {
     "name": "stdout",
     "output_type": "stream",
     "text": [
      "4\n"
     ]
    }
   ],
   "source": [
    "fruitBasket = ['apple','orange','guava','cherry']\n",
    "print (len(fruitBasket))"
   ]
  },
  {
   "cell_type": "markdown",
   "id": "92d8fb67-e02d-4151-ba30-b206214dd531",
   "metadata": {},
   "source": [
    "#### max(), min(), sum() for performing clacluations in list"
   ]
  },
  {
   "cell_type": "code",
   "execution_count": 22,
   "id": "120d6b96-974f-40af-b310-25ebe0ab954d",
   "metadata": {},
   "outputs": [
    {
     "name": "stdout",
     "output_type": "stream",
     "text": [
      "Maximum temperature is 84\n",
      "Minimum temperature is 36\n",
      "Average temperature us  60.833333333333336\n"
     ]
    }
   ],
   "source": [
    "monthlyTemperature = [36,39,47,60,71,80,84,82,76,64,51,40]\n",
    "print ('Maximum temperature is',max(monthlyTemperature))\n",
    "print ('Minimum temperature is',min(monthlyTemperature))\n",
    "print ('Average temperature us ',sum(monthlyTemperature)/len(monthlyTemperature))"
   ]
  },
  {
   "cell_type": "markdown",
   "id": "1425e6d5-03a1-4ace-9228-0ffbea9aac50",
   "metadata": {},
   "source": [
    "#### in statement and index method to search for elements in list"
   ]
  },
  {
   "cell_type": "markdown",
   "id": "21647bf1-b6bf-4c07-9124-d63b5cc2ea55",
   "metadata": {},
   "source": [
    "We can use in statement to check whether an element is present in our list. Let's check whether 'apple', 'guava' and 'Apple' are present in our fruit basket"
   ]
  },
  {
   "cell_type": "code",
   "execution_count": 23,
   "id": "49815d24-504f-492a-9b94-e83ce757c16c",
   "metadata": {},
   "outputs": [
    {
     "name": "stdout",
     "output_type": "stream",
     "text": [
      "True\n",
      "True\n",
      "False\n"
     ]
    }
   ],
   "source": [
    "fruitBasket = ['apple','orange','guava','cherry']\n",
    "print ('apple' in fruitBasket)\n",
    "print ('guava' in fruitBasket)\n",
    "print ('Apple' in fruitBasket)"
   ]
  },
  {
   "cell_type": "markdown",
   "id": "dd8ae86a-d39a-49d6-b37a-d833177564cd",
   "metadata": {},
   "source": [
    "As you can see 'apple' and 'Apple' are not equal. Python strings are case sensitive.\n",
    "\n",
    "You can also use the index method of list which will return the index of the searched element in the list or an error if the element is not present. "
   ]
  },
  {
   "cell_type": "code",
   "execution_count": 24,
   "id": "f0a54ce7-94f1-4101-85c2-8184a3ab6a3e",
   "metadata": {},
   "outputs": [
    {
     "name": "stdout",
     "output_type": "stream",
     "text": [
      "0\n",
      "2\n"
     ]
    },
    {
     "ename": "ValueError",
     "evalue": "'Apple' is not in list",
     "output_type": "error",
     "traceback": [
      "\u001b[1;31m---------------------------------------------------------------------------\u001b[0m",
      "\u001b[1;31mValueError\u001b[0m                                Traceback (most recent call last)",
      "Input \u001b[1;32mIn [24]\u001b[0m, in \u001b[0;36m<cell line: 4>\u001b[1;34m()\u001b[0m\n\u001b[0;32m      2\u001b[0m \u001b[38;5;28mprint\u001b[39m (fruitBasket\u001b[38;5;241m.\u001b[39mindex(\u001b[38;5;124m'\u001b[39m\u001b[38;5;124mapple\u001b[39m\u001b[38;5;124m'\u001b[39m))\n\u001b[0;32m      3\u001b[0m \u001b[38;5;28mprint\u001b[39m (fruitBasket\u001b[38;5;241m.\u001b[39mindex(\u001b[38;5;124m'\u001b[39m\u001b[38;5;124mguava\u001b[39m\u001b[38;5;124m'\u001b[39m))\n\u001b[1;32m----> 4\u001b[0m \u001b[38;5;28mprint\u001b[39m (\u001b[43mfruitBasket\u001b[49m\u001b[38;5;241;43m.\u001b[39;49m\u001b[43mindex\u001b[49m\u001b[43m(\u001b[49m\u001b[38;5;124;43m'\u001b[39;49m\u001b[38;5;124;43mApple\u001b[39;49m\u001b[38;5;124;43m'\u001b[39;49m\u001b[43m)\u001b[49m)\n",
      "\u001b[1;31mValueError\u001b[0m: 'Apple' is not in list"
     ]
    }
   ],
   "source": [
    "fruitBasket = ['apple','orange','guava','cherry']\n",
    "print (fruitBasket.index('apple'))\n",
    "print (fruitBasket.index('guava'))\n",
    "print (fruitBasket.index('Apple'))"
   ]
  },
  {
   "cell_type": "markdown",
   "id": "48288340-159b-4b83-bc1d-08afa0838d8a",
   "metadata": {},
   "source": [
    "#### sort a list using sort() method\n",
    "\n",
    "Let's sort our temperature and fruit basket list"
   ]
  },
  {
   "cell_type": "code",
   "execution_count": 25,
   "id": "208d31e8-3acf-4a7d-a0ad-8ebfb1f37a1b",
   "metadata": {},
   "outputs": [
    {
     "name": "stdout",
     "output_type": "stream",
     "text": [
      "[36, 39, 40, 47, 51, 60, 64, 71, 76, 80, 82, 84]\n",
      "['apple', 'cherry', 'guava', 'orange']\n"
     ]
    }
   ],
   "source": [
    "monthlyTemperature = [36,39,47,60,71,80,84,82,76,64,51,40]\n",
    "monthlyTemperature.sort()\n",
    "print (monthlyTemperature)\n",
    "fruitBasket = ['apple','orange','guava','cherry']\n",
    "fruitBasket.sort()\n",
    "print (fruitBasket)"
   ]
  },
  {
   "cell_type": "markdown",
   "id": "a71b64a2-c858-4129-bdc3-5a979a8c4528",
   "metadata": {},
   "source": [
    "#### Reverse a list using the reverse() method"
   ]
  },
  {
   "cell_type": "code",
   "execution_count": 26,
   "id": "64fc5b0d-cec7-4687-8cd1-2da9fb1557f9",
   "metadata": {},
   "outputs": [
    {
     "name": "stdout",
     "output_type": "stream",
     "text": [
      "['cherry', 'guava', 'orange', 'apple']\n"
     ]
    }
   ],
   "source": [
    "fruitBasket = ['apple','orange','guava','cherry']\n",
    "fruitBasket.reverse()\n",
    "print (fruitBasket)"
   ]
  },
  {
   "cell_type": "markdown",
   "id": "70b7ecd8-94b6-49bd-8439-b10bd0e807d3",
   "metadata": {},
   "source": [
    "List is one of the commonly used datastructures in Python. While it is great for index based operations such as retrieve the 50th element or update the 100th element, it is not particularly efficent for searching with out index. For example to check whether 'cherry' is present in our fruit basket program has to go through each element and perform the check. What if we have a list of 1 billion elements and unfortunately our searched element is not present in the list. The program have to go through all the elements (1 billion elements) and then return False. We will now look at an efficient datastructure called dict which is specifically designed for searching based on key. "
   ]
  },
  {
   "cell_type": "markdown",
   "id": "e354e69e-2f9d-46a6-8aed-92b0aee448a3",
   "metadata": {},
   "source": [
    "## Dict (Dictionary)"
   ]
  },
  {
   "cell_type": "markdown",
   "id": "7c1a8a3d-d453-45b3-af61-ca14e5aea08a",
   "metadata": {},
   "source": [
    "As the name suggests they are very **similar to word dictionaries that we are used to**. You lookup for a word using the word as the key and get its details. \n",
    "\n",
    "![real_dictionary](images/real_dictionary.jpg)\n",
    "\n",
    "Another example is **Yellow Pages**. You lookup for a business establishment using its **name as key** and get the **phone number as value**. \n",
    "\n",
    "So we could basically say, **dictionaries are optimized for lookups (key-->value)**. The key thing is that **dictionaries cannot contain duplicate values**\n",
    "\n",
    "Dictionaries are declared using {} or dict(). Lets create an empty dictionary"
   ]
  },
  {
   "cell_type": "code",
   "execution_count": 27,
   "id": "5b1d4443-bf56-4e7c-94a2-65c8c2e4c2e8",
   "metadata": {},
   "outputs": [],
   "source": [
    "firstDict = {}"
   ]
  },
  {
   "cell_type": "markdown",
   "id": "272e51fb-74d8-4193-be94-11400d0dbc09",
   "metadata": {},
   "source": [
    "Now let's create a dictionary with some data"
   ]
  },
  {
   "cell_type": "code",
   "execution_count": 28,
   "id": "cfa8c92d-827a-4c8b-8009-e2c4db9dfa32",
   "metadata": {},
   "outputs": [],
   "source": [
    "myDict = {'name':'jay','age':35,'sex':'M','vaccinated':True}"
   ]
  },
  {
   "cell_type": "markdown",
   "id": "3d04dc38-0366-495c-83fe-22ed2c2dd170",
   "metadata": {},
   "source": [
    "As you can see the dict has a key value strcuture. {key1:value1,key2:value2,key3:value3}"
   ]
  },
  {
   "cell_type": "markdown",
   "id": "69d64684-c870-45b6-b41e-45d7770ef26b",
   "metadata": {},
   "source": [
    "### Searching for a key in a dictionary"
   ]
  },
  {
   "cell_type": "markdown",
   "id": "9af19e08-52ac-46f5-8ba8-bd5e47b613aa",
   "metadata": {},
   "source": [
    "We can use the in statement (as in list) to check whether a key exist in a dictionary. Let's look at an example. "
   ]
  },
  {
   "cell_type": "code",
   "execution_count": 29,
   "id": "615d7bad-dc37-460b-ab17-397f992add20",
   "metadata": {},
   "outputs": [
    {
     "name": "stdout",
     "output_type": "stream",
     "text": [
      "True\n",
      "False\n"
     ]
    }
   ],
   "source": [
    "myDict = {'name':'jay','age':35,'sex':'M','vaccinated':True}\n",
    "print ('name' in myDict)\n",
    "print ('ethnicity' in myDict)"
   ]
  },
  {
   "cell_type": "markdown",
   "id": "551f3101-4063-4775-b63c-9c1f91c0eb59",
   "metadata": {},
   "source": [
    "### Retrieving the value associated with a key"
   ]
  },
  {
   "cell_type": "markdown",
   "id": "75b12099-7b5e-4690-9345-506468484340",
   "metadata": {},
   "source": [
    "While we use index in list to retrieve a particular element at a particular location, we can use the key to retrieve a value from the dictionary. "
   ]
  },
  {
   "cell_type": "code",
   "execution_count": 30,
   "id": "10c7b3cf-fa1a-4e4b-bc8d-8f3160864d27",
   "metadata": {},
   "outputs": [
    {
     "name": "stdout",
     "output_type": "stream",
     "text": [
      "jay\n",
      "M\n"
     ]
    }
   ],
   "source": [
    "myDict = {'name':'jay','age':35,'sex':'M','vaccinated':True}\n",
    "print (myDict['name'])\n",
    "print (myDict['sex'])"
   ]
  },
  {
   "cell_type": "markdown",
   "id": "16e1c939-19fb-4c85-8ebd-ccb20dd10782",
   "metadata": {},
   "source": [
    "Now you try to retrieve the value for 'ethnicity' in our dictionary. "
   ]
  },
  {
   "cell_type": "code",
   "execution_count": null,
   "id": "e02a984a-8e29-4b3d-9489-ed7c35028123",
   "metadata": {},
   "outputs": [],
   "source": []
  },
  {
   "cell_type": "markdown",
   "id": "174ecc80-0570-45c1-a980-5147410993bc",
   "metadata": {
    "tags": []
   },
   "source": [
    "### Updating the value of an eixsting key"
   ]
  },
  {
   "cell_type": "markdown",
   "id": "c0927a19-eddb-4ab5-b0a4-f5d7d6e8aca1",
   "metadata": {},
   "source": [
    "We can again use the key to update the value in a dictionary"
   ]
  },
  {
   "cell_type": "code",
   "execution_count": 31,
   "id": "2e7d29b2-6c81-47c3-b37a-afac5af01a26",
   "metadata": {},
   "outputs": [
    {
     "name": "stdout",
     "output_type": "stream",
     "text": [
      "36\n"
     ]
    }
   ],
   "source": [
    "myDict = {'name':'jay','age':35,'sex':'M','vaccinated':True}\n",
    "myDict['age'] = 36\n",
    "print (myDict['age'])"
   ]
  },
  {
   "cell_type": "markdown",
   "id": "d0b7edce-e770-4757-be3c-59d26b509594",
   "metadata": {},
   "source": [
    "If you want to increase the value corresponding to the key 'age' by 1 you can do this also"
   ]
  },
  {
   "cell_type": "code",
   "execution_count": 32,
   "id": "997f263a-49be-46a7-85ea-6398e1eb6397",
   "metadata": {},
   "outputs": [
    {
     "name": "stdout",
     "output_type": "stream",
     "text": [
      "36\n"
     ]
    }
   ],
   "source": [
    "myDict = {'name':'jay','age':35,'sex':'M','vaccinated':True}\n",
    "myDict['age'] = myDict['age']+1\n",
    "print (myDict['age'])"
   ]
  },
  {
   "cell_type": "markdown",
   "id": "2105475d-b598-4016-9a41-916a75c1c92b",
   "metadata": {},
   "source": [
    "Can you try changing the value for 'vaccinated' to False"
   ]
  },
  {
   "cell_type": "code",
   "execution_count": null,
   "id": "d0cc14b9-b4f9-4fd8-930c-cf9b6764b0e2",
   "metadata": {},
   "outputs": [],
   "source": []
  },
  {
   "cell_type": "markdown",
   "id": "280b7874-0879-4802-848e-17e025714f4b",
   "metadata": {},
   "source": [
    "### Adding a new key,value to the dictionary"
   ]
  },
  {
   "cell_type": "markdown",
   "id": "71fb4c71-fcee-4e1d-8505-001ef1f75786",
   "metadata": {},
   "source": [
    "Similar to updating the value for an existing key, you can add a new key,value to the dictionary by a basic assignment operation. Let's add 'ethnicity' to our dictionary. "
   ]
  },
  {
   "cell_type": "code",
   "execution_count": 53,
   "id": "c3425bb5-86d5-4cbc-950e-136ca27644c4",
   "metadata": {},
   "outputs": [
    {
     "name": "stdout",
     "output_type": "stream",
     "text": [
      "{'name': 'jay', 'age': 35, 'sex': 'M', 'vaccinated': True, 'ethnicity': 'Asian'}\n"
     ]
    }
   ],
   "source": [
    "myDict = {'name':'jay','age':35,'sex':'M','vaccinated':True}\n",
    "myDict['ethnicity'] = 'Asian'\n",
    "print (myDict)"
   ]
  },
  {
   "cell_type": "markdown",
   "id": "901b7410-c090-4bec-990e-10c98a930a7a",
   "metadata": {},
   "source": [
    "If the key already exists then it will just be an update operation. "
   ]
  },
  {
   "cell_type": "markdown",
   "id": "78a5e846-5cd9-40c8-af95-9e713cb224d8",
   "metadata": {},
   "source": [
    "### Deleting a key (and corresponding value) from a dictionary"
   ]
  },
  {
   "cell_type": "markdown",
   "id": "11147516-35ed-470a-b3a9-63869e6f7d19",
   "metadata": {},
   "source": [
    "Similar to lists you can use del statement to delete a key from a dictionary. Let's remove the key 'vaccinated' from our dictionary. "
   ]
  },
  {
   "cell_type": "code",
   "execution_count": 54,
   "id": "f61ddfca-f548-47fe-af24-edd8aae859e7",
   "metadata": {},
   "outputs": [
    {
     "name": "stdout",
     "output_type": "stream",
     "text": [
      "{'name': 'jay', 'age': 35, 'sex': 'M'}\n"
     ]
    }
   ],
   "source": [
    "myDict = {'name':'jay','age':35,'sex':'M','vaccinated':True}\n",
    "del myDict['vaccinated']\n",
    "print (myDict)"
   ]
  },
  {
   "cell_type": "markdown",
   "id": "ca888652-83fc-4747-90b6-446988de7ae0",
   "metadata": {},
   "source": [
    "You can also have any datatype as value for a dictionary. For example the code shown below is perfectly valid."
   ]
  },
  {
   "cell_type": "code",
   "execution_count": 55,
   "id": "fd844418-b745-48e8-b28c-0529aa505f44",
   "metadata": {},
   "outputs": [],
   "source": [
    "dictList = {'id':[1,2,3],'names':['jay','ben','sam']}"
   ]
  },
  {
   "cell_type": "markdown",
   "id": "0115e0e6-d59e-4387-8c95-a6d33adafda6",
   "metadata": {},
   "source": [
    "Now can you retrieve the second element from the list associated with 'name' key in the dictionary?"
   ]
  },
  {
   "cell_type": "code",
   "execution_count": null,
   "id": "b8e9aa6b-9cc6-4dad-928b-55f8681b10f5",
   "metadata": {},
   "outputs": [],
   "source": []
  },
  {
   "cell_type": "markdown",
   "id": "9ff22052-6c5e-4617-b836-97bd98bcdd3d",
   "metadata": {},
   "source": [
    "You can also use the len() function to get the size of the dictionary (ie the number of keys)"
   ]
  },
  {
   "cell_type": "code",
   "execution_count": 63,
   "id": "73488748-6931-4a77-a03e-4dc3003de0dc",
   "metadata": {},
   "outputs": [
    {
     "name": "stdout",
     "output_type": "stream",
     "text": [
      "4\n"
     ]
    }
   ],
   "source": [
    "myDict = {'name':'jay','age':35,'sex':'M','vaccinated':True}\n",
    "print (len(myDict))"
   ]
  },
  {
   "cell_type": "markdown",
   "id": "0ce4d870-443f-484a-9ccf-3c17126fab3b",
   "metadata": {},
   "source": [
    "dicts are blazingly fast for lookups while is not an efficient datastructure for index based searches (the nth element etc). Just for fun we can do a list vs dict speed test. "
   ]
  },
  {
   "cell_type": "markdown",
   "id": "d846eaa5-2969-4d66-aafb-e00e9b85fb09",
   "metadata": {},
   "source": [
    "### List vs Dict Speed Test for Key based searching"
   ]
  },
  {
   "cell_type": "markdown",
   "id": "7b6ee5c3-044c-4c42-8491-dd601ea29a3a",
   "metadata": {},
   "source": [
    "Let us create a list containing 10,000,000 elements (0 to 9,999,999). Don't worry about the for loop. We will cover that in the next chapter.  "
   ]
  },
  {
   "cell_type": "code",
   "execution_count": 56,
   "id": "1e54f86b-9d6a-4805-8ca6-9b90ef21877a",
   "metadata": {},
   "outputs": [],
   "source": [
    "aList = [i for i in range(10000000)]"
   ]
  },
  {
   "cell_type": "markdown",
   "id": "f67dfe5b-be90-47bd-8a74-b939dce3f65f",
   "metadata": {},
   "source": [
    "Now lets create a dictionary containing 10,000,000 keys of the form {0:0,1:0,....9999999:0}"
   ]
  },
  {
   "cell_type": "code",
   "execution_count": 57,
   "id": "490113bb-e9e3-4fd5-9332-986d624d14a3",
   "metadata": {},
   "outputs": [],
   "source": [
    "aDict = {i:0 for i in range(10000000)}"
   ]
  },
  {
   "cell_type": "markdown",
   "id": "a4679393-f18e-42bb-85d7-231b852ebb86",
   "metadata": {},
   "source": [
    "Now let's check whether the value 10000000 occurs in our list. We will use the magic operator called %%timeit to measure the speed"
   ]
  },
  {
   "cell_type": "code",
   "execution_count": 58,
   "id": "29f699fa-3839-4c08-9334-18523be20f11",
   "metadata": {},
   "outputs": [
    {
     "name": "stdout",
     "output_type": "stream",
     "text": [
      "105 ms ± 995 µs per loop (mean ± std. dev. of 7 runs, 10 loops each)\n"
     ]
    }
   ],
   "source": [
    "%%timeit\n",
    "10000000 in aList"
   ]
  },
  {
   "cell_type": "markdown",
   "id": "32390504-bcbd-43f8-bda5-5e6855d95208",
   "metadata": {},
   "source": [
    "So you can see that in our server machine the speed is around 105 milli seocnds (.105 seconds). Now lets search in dictionary"
   ]
  },
  {
   "cell_type": "code",
   "execution_count": 59,
   "id": "72eefc6d-e2b6-4ebe-a6e0-e944df64bf41",
   "metadata": {},
   "outputs": [
    {
     "name": "stdout",
     "output_type": "stream",
     "text": [
      "41.7 ns ± 0.295 ns per loop (mean ± std. dev. of 7 runs, 10,000,000 loops each)\n"
     ]
    }
   ],
   "source": [
    "%%timeit\n",
    "10000000 in aDict"
   ]
  },
  {
   "cell_type": "markdown",
   "id": "d1f76778-107b-494d-9669-072a27587b3a",
   "metadata": {},
   "source": [
    "It took only 41.7 nano seconds which is around **2.5 million times** faster than the list search. So its imperative to use the right datastructure for maximizing the eifficiency. "
   ]
  },
  {
   "cell_type": "markdown",
   "id": "0d659631-5e8c-4f06-ad8a-4007ce37b9c4",
   "metadata": {},
   "source": [
    "There are some more built-in datastructures which we are not going to cover in detail here. Those who are interested in learning about them can go through the programming notebooks provided here https://mybinder.org/v2/gh/JayakrishnanAjayakumar/Python_Programming_2022.git/HEAD"
   ]
  },
  {
   "cell_type": "markdown",
   "id": "0cdf1d74-73df-4655-820f-a31986cb0df2",
   "metadata": {},
   "source": [
    "## Tuple"
   ]
  },
  {
   "cell_type": "markdown",
   "id": "54181fcf-85bf-49d4-8e76-adc620e325bd",
   "metadata": {},
   "source": [
    "Tuples are very similar to lists except for the fact that **tuples** are **immutable** (cannot be updated). A tuple is declared either using () or tuple(). Lets look at an example"
   ]
  },
  {
   "cell_type": "code",
   "execution_count": 60,
   "id": "dcc62547-80d7-4e6a-90f1-0cb3425427da",
   "metadata": {},
   "outputs": [],
   "source": [
    "myTuple = ('jay','M',34,True)"
   ]
  },
  {
   "cell_type": "markdown",
   "id": "3ec08282-75fe-4181-8319-f0924678c7a1",
   "metadata": {},
   "source": [
    "You can access the elements in a tuple using index (similar to list)"
   ]
  },
  {
   "cell_type": "code",
   "execution_count": 61,
   "id": "b67581a5-66b7-4595-ad35-f2819d9af154",
   "metadata": {},
   "outputs": [
    {
     "name": "stdout",
     "output_type": "stream",
     "text": [
      "jay\n"
     ]
    }
   ],
   "source": [
    "print (myTuple[0])"
   ]
  },
  {
   "cell_type": "markdown",
   "id": "284d114a-1a7a-4a9d-b79a-f4f4acbca275",
   "metadata": {},
   "source": [
    "You cannot update the value in a tuple using index. For example, this will result in an error."
   ]
  },
  {
   "cell_type": "code",
   "execution_count": 62,
   "id": "8ed0ca63-2666-4a6f-981f-1ab8cd650aa9",
   "metadata": {},
   "outputs": [
    {
     "ename": "TypeError",
     "evalue": "'tuple' object does not support item assignment",
     "output_type": "error",
     "traceback": [
      "\u001b[1;31m---------------------------------------------------------------------------\u001b[0m",
      "\u001b[1;31mTypeError\u001b[0m                                 Traceback (most recent call last)",
      "Input \u001b[1;32mIn [62]\u001b[0m, in \u001b[0;36m<cell line: 2>\u001b[1;34m()\u001b[0m\n\u001b[0;32m      1\u001b[0m myTuple \u001b[38;5;241m=\u001b[39m (\u001b[38;5;124m'\u001b[39m\u001b[38;5;124mjay\u001b[39m\u001b[38;5;124m'\u001b[39m,\u001b[38;5;124m'\u001b[39m\u001b[38;5;124mM\u001b[39m\u001b[38;5;124m'\u001b[39m,\u001b[38;5;241m34\u001b[39m,\u001b[38;5;28;01mTrue\u001b[39;00m)\n\u001b[1;32m----> 2\u001b[0m myTuple[\u001b[38;5;241m0\u001b[39m] \u001b[38;5;241m=\u001b[39m \u001b[38;5;124m'\u001b[39m\u001b[38;5;124msam\u001b[39m\u001b[38;5;124m'\u001b[39m\n",
      "\u001b[1;31mTypeError\u001b[0m: 'tuple' object does not support item assignment"
     ]
    }
   ],
   "source": [
    "myTuple = ('jay','M',34,True)\n",
    "myTuple[0] = 'sam'"
   ]
  },
  {
   "cell_type": "markdown",
   "id": "4be4e475-a5d2-488d-bec6-e29ccbf07186",
   "metadata": {},
   "source": [
    "You can calculate the length of a tuple using len() function"
   ]
  },
  {
   "cell_type": "code",
   "execution_count": 64,
   "id": "e776939c-819b-4001-83f8-992c8837629e",
   "metadata": {},
   "outputs": [
    {
     "name": "stdout",
     "output_type": "stream",
     "text": [
      "4\n"
     ]
    }
   ],
   "source": [
    "myTuple = ('jay','M',34,True)\n",
    "print (len(myTuple))"
   ]
  },
  {
   "cell_type": "markdown",
   "id": "f6245dbc-f671-45fd-9996-5293a4f6e222",
   "metadata": {},
   "source": [
    "## String"
   ]
  },
  {
   "cell_type": "markdown",
   "id": "4124d692-7c05-49ac-be32-21f5e6f4adc1",
   "metadata": {},
   "source": [
    "String is also (surprisingly!!) a container and is very similar to list and tuples. "
   ]
  },
  {
   "cell_type": "markdown",
   "id": "ae912af2-9f04-435c-890c-1df8490824b7",
   "metadata": {},
   "source": [
    "### Creating a String"
   ]
  },
  {
   "cell_type": "code",
   "execution_count": 66,
   "id": "883c68ec-cba8-43ec-9dc1-8e782e6d7bcd",
   "metadata": {},
   "outputs": [
    {
     "name": "stdout",
     "output_type": "stream",
     "text": [
      "this is a string\n",
      "10\n"
     ]
    }
   ],
   "source": [
    "newString = 'this is a string'\n",
    "#or even from a datatype conversion\n",
    "ten = str(10)\n",
    "print (newString)\n",
    "print (ten)"
   ]
  },
  {
   "cell_type": "markdown",
   "id": "a5c4b701-240f-494b-a846-078787b4400a",
   "metadata": {},
   "source": [
    "### Using indexing in strings"
   ]
  },
  {
   "cell_type": "markdown",
   "id": "da57b974-26f2-4bab-b2a8-9bc742c15260",
   "metadata": {},
   "source": [
    "Similar to list we can use index to retrieve characters from a string (you can think of string as a list of characters)"
   ]
  },
  {
   "cell_type": "code",
   "execution_count": 68,
   "id": "ee1a3260-cb8f-474d-9e45-cde21b375e17",
   "metadata": {},
   "outputs": [
    {
     "name": "stdout",
     "output_type": "stream",
     "text": [
      "t\n",
      "this\n",
      "a string\n"
     ]
    }
   ],
   "source": [
    "newString = 'this is a string'\n",
    "print (newString[0])\n",
    "print (newString[0:4])\n",
    "print (newString[8:])"
   ]
  },
  {
   "cell_type": "markdown",
   "id": "3c0f1c57-d4fc-41b0-a841-8cf968f1a2f4",
   "metadata": {},
   "source": [
    "### Modifying a string"
   ]
  },
  {
   "cell_type": "markdown",
   "id": "00411887-455b-45c6-9534-74e65b761975",
   "metadata": {},
   "source": [
    "Similar to tuples, string cannot be modified using indexes. For example, this will result in an error. "
   ]
  },
  {
   "cell_type": "code",
   "execution_count": 69,
   "id": "35781f02-cf5e-40bc-b7be-59aa36c97c19",
   "metadata": {},
   "outputs": [
    {
     "ename": "TypeError",
     "evalue": "'str' object does not support item assignment",
     "output_type": "error",
     "traceback": [
      "\u001b[1;31m---------------------------------------------------------------------------\u001b[0m",
      "\u001b[1;31mTypeError\u001b[0m                                 Traceback (most recent call last)",
      "Input \u001b[1;32mIn [69]\u001b[0m, in \u001b[0;36m<cell line: 2>\u001b[1;34m()\u001b[0m\n\u001b[0;32m      1\u001b[0m newString \u001b[38;5;241m=\u001b[39m \u001b[38;5;124m'\u001b[39m\u001b[38;5;124mthis is a string\u001b[39m\u001b[38;5;124m'\u001b[39m\n\u001b[1;32m----> 2\u001b[0m newString[\u001b[38;5;241m0\u001b[39m] \u001b[38;5;241m=\u001b[39m \u001b[38;5;124m'\u001b[39m\u001b[38;5;124ma\u001b[39m\u001b[38;5;124m'\u001b[39m\n",
      "\u001b[1;31mTypeError\u001b[0m: 'str' object does not support item assignment"
     ]
    }
   ],
   "source": [
    "newString = 'this is a string'\n",
    "newString[0] = 'a'"
   ]
  },
  {
   "cell_type": "markdown",
   "id": "8e871966-247f-4266-b0fa-d16fd3f88056",
   "metadata": {},
   "source": [
    "But you can concatenate two strings using the '+' operator. But this will create a new string and will not modify the existing strings. "
   ]
  },
  {
   "cell_type": "code",
   "execution_count": 70,
   "id": "1f487477-a3e1-4bb4-901b-d6fe56d17f6b",
   "metadata": {},
   "outputs": [
    {
     "name": "stdout",
     "output_type": "stream",
     "text": [
      "this is a good string\n",
      " and this is a bad string\n",
      "this is a good string and this is a bad string\n"
     ]
    }
   ],
   "source": [
    "goodString = 'this is a good string'\n",
    "badString = ' and this is a bad string'\n",
    "newString = goodString+badString\n",
    "print (goodString)\n",
    "print (badString)\n",
    "print (newString)"
   ]
  },
  {
   "cell_type": "markdown",
   "id": "4eb2514d-54b2-4d1f-816c-f4d3281b1795",
   "metadata": {},
   "source": [
    "### Some useful functions and methods of strings"
   ]
  },
  {
   "cell_type": "markdown",
   "id": "f4a11dbf-7396-437f-9298-edcb74e5090b",
   "metadata": {},
   "source": [
    "You can find the length of a string using the len() method"
   ]
  },
  {
   "cell_type": "code",
   "execution_count": 71,
   "id": "980c0b2a-211f-4afb-ae77-0c2207cab4d2",
   "metadata": {},
   "outputs": [
    {
     "name": "stdout",
     "output_type": "stream",
     "text": [
      "3\n"
     ]
    }
   ],
   "source": [
    "name = 'jay'\n",
    "print (len(name))"
   ]
  },
  {
   "cell_type": "markdown",
   "id": "f793ad66-997e-42b1-9628-f63377a44629",
   "metadata": {},
   "source": [
    "You can convert the string to upper and lower case by using the upper() and lower() methods respectively."
   ]
  },
  {
   "cell_type": "code",
   "execution_count": 72,
   "id": "0d9ff5c5-f241-48ae-bd60-8931dbf21f77",
   "metadata": {},
   "outputs": [
    {
     "name": "stdout",
     "output_type": "stream",
     "text": [
      "jay\n",
      "JAY\n"
     ]
    }
   ],
   "source": [
    "name = 'Jay'\n",
    "print (name.lower())\n",
    "print (name.upper())"
   ]
  },
  {
   "cell_type": "markdown",
   "id": "14ad14d5-f971-47e0-9d0b-97441549c8d2",
   "metadata": {},
   "source": [
    "You can replace the characters in string using the replace method."
   ]
  },
  {
   "cell_type": "code",
   "execution_count": 74,
   "id": "7f41d3f5-fce7-4ff7-a984-54fe283056e3",
   "metadata": {},
   "outputs": [
    {
     "name": "stdout",
     "output_type": "stream",
     "text": [
      "Cat\n"
     ]
    }
   ],
   "source": [
    "name = 'Mat'\n",
    "newName = name.replace('M','C')\n",
    "print (newName)"
   ]
  },
  {
   "cell_type": "markdown",
   "id": "85e8fc0f-089e-4ba7-9788-24c71a3fef18",
   "metadata": {},
   "source": [
    "Check if a substring occurs in a string with the in statement"
   ]
  },
  {
   "cell_type": "code",
   "execution_count": 76,
   "id": "c6f71f70-614c-4628-ac58-f23f5c257ab1",
   "metadata": {},
   "outputs": [
    {
     "name": "stdout",
     "output_type": "stream",
     "text": [
      "True\n",
      "False\n"
     ]
    }
   ],
   "source": [
    "comment = 'the patient was tested positive for Covid-19'\n",
    "print ('Covid-19' in comment)\n",
    "print ('covid-19' in comment)"
   ]
  },
  {
   "cell_type": "markdown",
   "id": "2f6a8cac-903a-4096-8e0b-2cbdfb0fe220",
   "metadata": {},
   "source": [
    "Split a string to a list (this is a very useful operation for reading comma seperated data)"
   ]
  },
  {
   "cell_type": "code",
   "execution_count": 77,
   "id": "18388682-3857-4f02-b44a-966001769172",
   "metadata": {},
   "outputs": [
    {
     "name": "stdout",
     "output_type": "stream",
     "text": [
      "['id', 'name', 'age', 'sex', 'X', 'Y']\n"
     ]
    }
   ],
   "source": [
    "rowStr = 'id,name,age,sex,X,Y'\n",
    "rowList = rowStr.split(',')\n",
    "print (rowList)"
   ]
  },
  {
   "cell_type": "markdown",
   "id": "fd550e94-f889-42d8-bd70-124c6d3af42c",
   "metadata": {},
   "source": [
    "Can you split this string to a list \n",
    "```python\n",
    "rowStr = 'id|name|age|sex|X|Y'\n",
    "```"
   ]
  },
  {
   "cell_type": "code",
   "execution_count": null,
   "id": "0e2b0680-ae84-401a-9c2e-08d1703d0608",
   "metadata": {},
   "outputs": [],
   "source": []
  },
  {
   "cell_type": "markdown",
   "id": "6324b620-4437-4e50-892f-cdf3f85f796c",
   "metadata": {},
   "source": [
    "Converting a list of strings to a delimited string using join() method"
   ]
  },
  {
   "cell_type": "code",
   "execution_count": 79,
   "id": "998b8118-f0bf-49f5-bcbb-4ca2ef70b66b",
   "metadata": {},
   "outputs": [
    {
     "name": "stdout",
     "output_type": "stream",
     "text": [
      "id,name,age,sex,X,Y\n"
     ]
    }
   ],
   "source": [
    "data = ['id', 'name', 'age', 'sex', 'X', 'Y']\n",
    "dataStr = \",\".join(data)\n",
    "print (dataStr)"
   ]
  },
  {
   "cell_type": "markdown",
   "id": "68532d7d-b1d5-45d2-9e25-8a9aac9e4fb3",
   "metadata": {},
   "source": [
    "There are many more methods for strings and you can find the details in https://mybinder.org/v2/gh/JayakrishnanAjayakumar/Python_Programming_2022.git/HEAD"
   ]
  },
  {
   "cell_type": "markdown",
   "id": "b9c28c75-ea27-49b7-9087-6719bfce4657",
   "metadata": {},
   "source": [
    "In the next chapter we will look at loops which is key to manipulate containers. "
   ]
  }
 ],
 "metadata": {
  "kernelspec": {
   "display_name": "Python 3 (ipykernel)",
   "language": "python",
   "name": "python3"
  },
  "language_info": {
   "codemirror_mode": {
    "name": "ipython",
    "version": 3
   },
   "file_extension": ".py",
   "mimetype": "text/x-python",
   "name": "python",
   "nbconvert_exporter": "python",
   "pygments_lexer": "ipython3",
   "version": "3.10.4"
  }
 },
 "nbformat": 4,
 "nbformat_minor": 5
}
