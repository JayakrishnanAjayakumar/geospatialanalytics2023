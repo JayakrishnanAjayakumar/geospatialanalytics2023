{
 "cells": [
  {
   "cell_type": "markdown",
   "id": "a6f4e688-1ba5-466e-822c-0398420cdb12",
   "metadata": {},
   "source": [
    "# Getting to know Python"
   ]
  },
  {
   "cell_type": "markdown",
   "id": "f2d88a8f-5128-470f-8bda-f2b1d3b94a2c",
   "metadata": {},
   "source": [
    "![whypython](images/whypython.png)"
   ]
  },
  {
   "cell_type": "markdown",
   "id": "013eb0a5-e814-44d7-babc-5719266537a9",
   "metadata": {},
   "source": [
    "## Cliché “Hello World”\n",
    "\n",
    "As simple as "
   ]
  },
  {
   "cell_type": "code",
   "execution_count": 1,
   "id": "cd19aac2-e3e6-4ae0-8338-7d7b86d38fbb",
   "metadata": {},
   "outputs": [
    {
     "name": "stdout",
     "output_type": "stream",
     "text": [
      "Hello World\n"
     ]
    }
   ],
   "source": [
    "print ('Hello World')"
   ]
  },
  {
   "cell_type": "markdown",
   "id": "bb7352e2-0570-4179-b4ca-e79c809b3821",
   "metadata": {},
   "source": [
    "## Using your python interpreter as a calculator"
   ]
  },
  {
   "cell_type": "markdown",
   "id": "a097441d-7255-44b1-bb0a-4d7aed69f349",
   "metadata": {},
   "source": [
    "Let's try 1+1"
   ]
  },
  {
   "cell_type": "code",
   "execution_count": null,
   "id": "51bac72a-b8f7-4bbb-9b41-23cd68401943",
   "metadata": {},
   "outputs": [],
   "source": []
  },
  {
   "cell_type": "markdown",
   "id": "a0b5f54d-5a3d-4f9e-8659-cb0ce5ad3776",
   "metadata": {},
   "source": [
    "What about 5*2"
   ]
  },
  {
   "cell_type": "code",
   "execution_count": null,
   "id": "61285f71-a363-4b78-a72f-f25bb84314f3",
   "metadata": {},
   "outputs": [],
   "source": []
  },
  {
   "cell_type": "markdown",
   "id": "ef4d0cc3-b569-4605-99fe-80908b5550b0",
   "metadata": {},
   "source": [
    "What about 1/0 (Let's welcome errors!!!)"
   ]
  },
  {
   "cell_type": "code",
   "execution_count": null,
   "id": "f02e41b7-8ab0-4b79-bd3a-bf4f08d51ff5",
   "metadata": {},
   "outputs": [],
   "source": []
  },
  {
   "cell_type": "markdown",
   "id": "14405b7f-fd79-4aee-b664-952e671ac35d",
   "metadata": {},
   "source": [
    "What about 3+5j+4+9j (It's getting complex!!!)"
   ]
  },
  {
   "cell_type": "code",
   "execution_count": null,
   "id": "9fd282ae-cccb-4ccc-a5d6-a23c0209a0c9",
   "metadata": {},
   "outputs": [],
   "source": []
  },
  {
   "cell_type": "markdown",
   "id": "1dcb5e98-192c-40d2-87e9-81ef3897c3fb",
   "metadata": {},
   "source": [
    "Quotient of 5/3"
   ]
  },
  {
   "cell_type": "code",
   "execution_count": 2,
   "id": "4d373f76-1eb9-4407-a3f3-839b8c06ae87",
   "metadata": {},
   "outputs": [
    {
     "data": {
      "text/plain": [
       "1"
      ]
     },
     "execution_count": 2,
     "metadata": {},
     "output_type": "execute_result"
    }
   ],
   "source": [
    "5//3"
   ]
  },
  {
   "cell_type": "markdown",
   "id": "3ff8620d-975e-43dd-b137-b03861fcac51",
   "metadata": {},
   "source": [
    "What about reminder of 5/3"
   ]
  },
  {
   "cell_type": "code",
   "execution_count": 3,
   "id": "ffd026fb-97d5-4018-b919-bef51d42f421",
   "metadata": {},
   "outputs": [
    {
     "data": {
      "text/plain": [
       "2"
      ]
     },
     "execution_count": 3,
     "metadata": {},
     "output_type": "execute_result"
    }
   ],
   "source": [
    "5%3"
   ]
  },
  {
   "cell_type": "markdown",
   "id": "2162e067-08b0-4b36-a237-82fd6808d015",
   "metadata": {},
   "source": [
    "Let's do some more math. Here we are going to use a library called math"
   ]
  },
  {
   "cell_type": "code",
   "execution_count": 4,
   "id": "0a2d3f67-af7a-4a24-9e6a-1ba3a36a8bae",
   "metadata": {},
   "outputs": [],
   "source": [
    "#importing the math library\n",
    "import math"
   ]
  },
  {
   "cell_type": "markdown",
   "id": "29fbbed7-0742-4c3e-8be1-415a2ba53bde",
   "metadata": {},
   "source": [
    "This is how we import a library. More about how to import external libraries in later chapters."
   ]
  },
  {
   "cell_type": "markdown",
   "id": "7bac75e7-a5c7-47ed-a18f-c05aa9f240da",
   "metadata": {},
   "source": [
    "Now let's calculate the square root of a number"
   ]
  },
  {
   "cell_type": "code",
   "execution_count": 5,
   "id": "72d6dde2-be8b-4b0a-8864-1e660c384c8a",
   "metadata": {},
   "outputs": [
    {
     "data": {
      "text/plain": [
       "5.0"
      ]
     },
     "execution_count": 5,
     "metadata": {},
     "output_type": "execute_result"
    }
   ],
   "source": [
    "math.sqrt(25)"
   ]
  },
  {
   "cell_type": "markdown",
   "id": "235af984-4834-4f26-98d1-a0e66cae2420",
   "metadata": {},
   "source": [
    "So sqrt is a **function** in the math library and we can call it with the \".\" operator. \n",
    "Now let's try to use $$\\pi$$ for some calculation"
   ]
  },
  {
   "cell_type": "code",
   "execution_count": 6,
   "id": "590ed5d8-9c79-41af-ab50-93ee260914e8",
   "metadata": {},
   "outputs": [
    {
     "data": {
      "text/plain": [
       "78.53981633974483"
      ]
     },
     "execution_count": 6,
     "metadata": {},
     "output_type": "execute_result"
    }
   ],
   "source": [
    "math.pi * 5 * 5"
   ]
  },
  {
   "cell_type": "markdown",
   "id": "2976e6e5-ce7a-40f4-8213-8470d810d1e0",
   "metadata": {},
   "source": [
    "Again we used the \".\" operator to import the variable *pi* from the math library"
   ]
  },
  {
   "cell_type": "markdown",
   "id": "27aec5b6-93b9-4587-97ac-0ee60ee53ca0",
   "metadata": {},
   "source": [
    "Now let's calculate the cosine of pi"
   ]
  },
  {
   "cell_type": "code",
   "execution_count": 7,
   "id": "0576b5bc-0c57-447a-afab-5870c13833d8",
   "metadata": {},
   "outputs": [
    {
     "data": {
      "text/plain": [
       "-1.0"
      ]
     },
     "execution_count": 7,
     "metadata": {},
     "output_type": "execute_result"
    }
   ],
   "source": [
    "math.cos(math.pi)"
   ]
  },
  {
   "cell_type": "markdown",
   "id": "e201b24a-dbda-4761-a630-1a23339f2b3e",
   "metadata": {},
   "source": [
    "Now can you calcluate the Tangent of pi"
   ]
  },
  {
   "cell_type": "code",
   "execution_count": null,
   "id": "5565f932-3c33-4a98-9224-c584678865b1",
   "metadata": {},
   "outputs": [],
   "source": []
  },
  {
   "cell_type": "markdown",
   "id": "515c8213-da7b-4c44-8209-4ae1dd3a5058",
   "metadata": {},
   "source": [
    "### print() function\n",
    "\n",
    "The print() function returns values within the parentheses as text on the screen. Let's print your name to screen"
   ]
  },
  {
   "cell_type": "markdown",
   "id": "4143b48e-b07f-44b0-9e8a-9575eb292ce0",
   "metadata": {},
   "source": []
  },
  {
   "cell_type": "markdown",
   "id": "98cc4691-8a48-49f0-a265-8cd9199f4dc2",
   "metadata": {},
   "source": [
    "## Values and Variables"
   ]
  },
  {
   "cell_type": "markdown",
   "id": "5a376e91-cf08-4571-afc3-407233a5af9d",
   "metadata": {},
   "source": [
    "### Values \n",
    "```python\n",
    "4\n",
    "'hello world'\n",
    "3.14\n",
    "True\n",
    "3+4j\n",
    "```\n",
    "\n",
    "Values have data types associated with them. You can check the data type associated with a value by using the type() function"
   ]
  },
  {
   "cell_type": "code",
   "execution_count": 8,
   "id": "469eb3f8-4958-4488-8fec-d30e27e31323",
   "metadata": {},
   "outputs": [
    {
     "name": "stdout",
     "output_type": "stream",
     "text": [
      "<class 'int'>\n",
      "<class 'str'>\n",
      "<class 'float'>\n",
      "<class 'bool'>\n",
      "<class 'complex'>\n"
     ]
    }
   ],
   "source": [
    "print(type(4))\n",
    "print(type('hello world'))\n",
    "print(type(3.14))\n",
    "print(type(True))\n",
    "print(type(3+4j))"
   ]
  },
  {
   "cell_type": "markdown",
   "id": "96a60d3f-b072-4f2e-a2d8-288a32e1d87b",
   "metadata": {},
   "source": [
    "Can you check the type for 4 * 3 * 1.0"
   ]
  },
  {
   "cell_type": "code",
   "execution_count": null,
   "id": "4ea0ccc8-2443-4579-ad7e-f2e868f8e2e0",
   "metadata": {},
   "outputs": [],
   "source": []
  },
  {
   "cell_type": "markdown",
   "id": "4046782a-0533-42e6-b9d2-240cbc68bdf4",
   "metadata": {},
   "source": [
    "### Variables"
   ]
  },
  {
   "cell_type": "markdown",
   "id": "272498b3-0363-4648-a9e4-631ab8c9bc28",
   "metadata": {},
   "source": [
    ">A **variable** can be thought of as a **box that the computer can use to store a value**. The **value** held in that box can **change or ‘vary’**. A program can use as many variables as it needs it to.\n",
    "\n",
    "Variables have **three parts, name, value and, type (this is implicit)**. A **variable's name** is known as an **identifier**.\n",
    "\n",
    "```python\n",
    "pi = 3.14\n",
    "```\n",
    "Here pi is the name, 3.14 is the value and the type is float"
   ]
  },
  {
   "cell_type": "markdown",
   "id": "9537dce3-d25a-44c0-a89d-2ee53e188e15",
   "metadata": {},
   "source": [
    "Variables look more like **flash cards**\n",
    "\n",
    "![variable_basic](images/variables_basic.png)\n",
    "\n",
    "Let's look at a concrete example\n",
    "\n",
    "Let's calculate area and perimeter of a circle given its radius"
   ]
  },
  {
   "cell_type": "code",
   "execution_count": 9,
   "id": "56a271e5-6554-4d85-84b7-d26ff24ff760",
   "metadata": {},
   "outputs": [
    {
     "name": "stdout",
     "output_type": "stream",
     "text": [
      "314.0\n",
      "62.800000000000004\n"
     ]
    }
   ],
   "source": [
    "#lets calculate the area and perimeter of a circle\n",
    "pi = 3.14\n",
    "radius = 10\n",
    "area = pi * radius * radius\n",
    "perimeter = 2 * pi * radius\n",
    "print (area)\n",
    "print (perimeter)"
   ]
  },
  {
   "cell_type": "markdown",
   "id": "a2c0f5ce-149f-4aae-b1ea-05b2079b45d4",
   "metadata": {},
   "source": [
    "How this will look in computer memory\n",
    "\n",
    "![variablesincomputermemory](images/variablesincomputermemory.png) \n",
    "\n",
    "Now what if we update the values for the variable"
   ]
  },
  {
   "cell_type": "code",
   "execution_count": 10,
   "id": "79dba627-23c7-43ba-bfa9-976910f58663",
   "metadata": {},
   "outputs": [
    {
     "name": "stdout",
     "output_type": "stream",
     "text": [
      "706.5\n",
      "94.2\n"
     ]
    }
   ],
   "source": [
    "pi = 3.14\n",
    "radius = 15 #radius is now 15\n",
    "area = pi * radius * radius\n",
    "perimeter = 2 * pi * radius\n",
    "print (area)\n",
    "print (perimeter)"
   ]
  },
  {
   "cell_type": "markdown",
   "id": "e8e73610-4e41-4d38-8133-fda00721cef0",
   "metadata": {},
   "source": [
    "In memory this will look like \n",
    "\n",
    "![variablesincomputermemory2](images/variablesincomputermemory3.png) "
   ]
  },
  {
   "cell_type": "markdown",
   "id": "8362d1a5-66b1-4849-a4ee-603d1896c06c",
   "metadata": {},
   "source": [
    "#### Rules for variable names\n",
    "\n",
    "1. It can contain **letters and numbers** but must **start with a letter**.\n",
    "2. It must contain **at least one letter** (at the start of the name).\n",
    "3. It **must not contain special characters** such as !@£$%&* or punctuation characters. However, an **underscore can be used**. **Spaces are not allowed**.\n",
    "4. It cannot be one of the **reserved keywords in Python**.\n",
    "\n",
    "![reserved](images/reserved.png) \n",
    "\n",
    "5. A variable should be **declared before using it**.\n",
    "\n",
    "For example"
   ]
  },
  {
   "cell_type": "code",
   "execution_count": 11,
   "id": "816e53f5-4491-40d4-9928-e05880f1bcf2",
   "metadata": {},
   "outputs": [
    {
     "ename": "NameError",
     "evalue": "name 'myname' is not defined",
     "output_type": "error",
     "traceback": [
      "\u001b[1;31m---------------------------------------------------------------------------\u001b[0m",
      "\u001b[1;31mNameError\u001b[0m                                 Traceback (most recent call last)",
      "Input \u001b[1;32mIn [11]\u001b[0m, in \u001b[0;36m<cell line: 1>\u001b[1;34m()\u001b[0m\n\u001b[1;32m----> 1\u001b[0m \u001b[38;5;28mprint\u001b[39m(\u001b[43mmyname\u001b[49m)\n",
      "\u001b[1;31mNameError\u001b[0m: name 'myname' is not defined"
     ]
    }
   ],
   "source": [
    "print(myname)"
   ]
  },
  {
   "cell_type": "markdown",
   "id": "a4c5870f-9264-4e95-b542-bb42cf380833",
   "metadata": {},
   "source": [
    "The above code will result in an error as the variable with a name myname was never declared before. \n",
    "\n",
    "But this should work "
   ]
  },
  {
   "cell_type": "code",
   "execution_count": 12,
   "id": "dfeff340-e777-4067-8715-9599057c81f4",
   "metadata": {},
   "outputs": [
    {
     "name": "stdout",
     "output_type": "stream",
     "text": [
      "jay\n"
     ]
    }
   ],
   "source": [
    "myname = 'jay'\n",
    "print(myname)"
   ]
  },
  {
   "cell_type": "markdown",
   "id": "5e356f93-ba0c-4037-bee5-587cf99173e4",
   "metadata": {},
   "source": [
    "Eventhough not a rule per se the variable name should be meaningful. It should represent the value it is holding."
   ]
  },
  {
   "cell_type": "markdown",
   "id": "b19cc6ac-ec24-4d7e-bf40-22650cd2bc90",
   "metadata": {},
   "source": [
    "The code snippet shown below has less readability due to poor choice for variable names"
   ]
  },
  {
   "cell_type": "code",
   "execution_count": 13,
   "id": "85b31397-5bcc-4272-97cd-5f195d87f42b",
   "metadata": {},
   "outputs": [],
   "source": [
    "r = 10\n",
    "p = 3.14\n",
    "ac = p * r * r\n",
    "l = 10\n",
    "b = 20\n",
    "ar = l * b"
   ]
  },
  {
   "cell_type": "markdown",
   "id": "556b4603-d813-4250-9d1d-189e30415ac6",
   "metadata": {},
   "source": [
    "Now let's make this code more readable (its basically calculating area of circle and area of rectangle)."
   ]
  },
  {
   "cell_type": "code",
   "execution_count": 14,
   "id": "bacb26ae-5f1f-4bf7-abbd-544f4a6297be",
   "metadata": {},
   "outputs": [],
   "source": [
    "#Write your code here"
   ]
  },
  {
   "cell_type": "markdown",
   "id": "871c2e0c-eece-4b36-923e-cf0cc9e9f5fc",
   "metadata": {},
   "source": [
    "## Type conversion (Converting from one data type to another)"
   ]
  },
  {
   "cell_type": "markdown",
   "id": "bb7f6259-d648-4da5-8c4e-4c214b2a09dc",
   "metadata": {},
   "source": [
    "### Data type compatibility"
   ]
  },
  {
   "cell_type": "markdown",
   "id": "8defc583-1383-4088-8b17-9c634d343858",
   "metadata": {},
   "source": [
    "What do you think is the output of the following snippet of code\n",
    "\n",
    "```python\n",
    "5+'jay'\n",
    "```"
   ]
  },
  {
   "cell_type": "code",
   "execution_count": null,
   "id": "8dbf6be9-42ee-4d2f-a013-b77ad2f53a8d",
   "metadata": {},
   "outputs": [],
   "source": []
  },
  {
   "cell_type": "markdown",
   "id": "2b0b2290-9cb0-4154-8411-55db802f4e28",
   "metadata": {},
   "source": [
    "You will probably get an error which states that + operation is not valid between int and str (string)\n",
    "What about \n",
    "```python\n",
    "'jay'+'aj'\n",
    "```"
   ]
  },
  {
   "cell_type": "code",
   "execution_count": null,
   "id": "2a49fb94-2bd4-4ae8-94ff-375cb46f01d1",
   "metadata": {},
   "outputs": [],
   "source": []
  },
  {
   "cell_type": "markdown",
   "id": "0ebb8d20-dbbc-4624-872a-61a41c0d4578",
   "metadata": {},
   "source": [
    "You can see that + operation is valid between two str (strings). \n",
    "\n",
    "What about \n",
    "```python\n",
    "'5'+5\n",
    "```"
   ]
  },
  {
   "cell_type": "code",
   "execution_count": null,
   "id": "cc5b9858-858f-4d03-b099-56930ca76eb0",
   "metadata": {},
   "outputs": [],
   "source": []
  },
  {
   "cell_type": "markdown",
   "id": "3ead0806-fc41-4cb7-8cfe-9bff7f9f023b",
   "metadata": {},
   "source": [
    "As expected we will get a type error. We can convert the string '5' to 5 using the int() function"
   ]
  },
  {
   "cell_type": "code",
   "execution_count": 15,
   "id": "bccbcfb0-49aa-408b-a641-06e486866019",
   "metadata": {},
   "outputs": [
    {
     "data": {
      "text/plain": [
       "10"
      ]
     },
     "execution_count": 15,
     "metadata": {},
     "output_type": "execute_result"
    }
   ],
   "source": [
    "int('5')+5"
   ]
  },
  {
   "cell_type": "markdown",
   "id": "0f42d422-a551-4054-b67a-bf01bad6c50b",
   "metadata": {},
   "source": [
    "Let's see some more examples"
   ]
  },
  {
   "cell_type": "code",
   "execution_count": 16,
   "id": "06099e30-6127-485b-b5aa-45998feede88",
   "metadata": {},
   "outputs": [
    {
     "data": {
      "text/plain": [
       "28.5"
      ]
     },
     "execution_count": 16,
     "metadata": {},
     "output_type": "execute_result"
    }
   ],
   "source": [
    "float('5.5')+23"
   ]
  },
  {
   "cell_type": "code",
   "execution_count": 17,
   "id": "06a199c5-7793-4c37-848e-aedb25732e01",
   "metadata": {},
   "outputs": [
    {
     "data": {
      "text/plain": [
       "'0.1test'"
      ]
     },
     "execution_count": 17,
     "metadata": {},
     "output_type": "execute_result"
    }
   ],
   "source": [
    "str(0.1)+'test'"
   ]
  },
  {
   "cell_type": "code",
   "execution_count": 18,
   "id": "8c5e5f8c-062c-4c1f-a742-89b54e9f0255",
   "metadata": {},
   "outputs": [
    {
     "ename": "ValueError",
     "evalue": "invalid literal for int() with base 10: '0.3'",
     "output_type": "error",
     "traceback": [
      "\u001b[1;31m---------------------------------------------------------------------------\u001b[0m",
      "\u001b[1;31mValueError\u001b[0m                                Traceback (most recent call last)",
      "Input \u001b[1;32mIn [18]\u001b[0m, in \u001b[0;36m<cell line: 1>\u001b[1;34m()\u001b[0m\n\u001b[1;32m----> 1\u001b[0m \u001b[38;5;28;43mint\u001b[39;49m\u001b[43m(\u001b[49m\u001b[38;5;124;43m'\u001b[39;49m\u001b[38;5;124;43m0.3\u001b[39;49m\u001b[38;5;124;43m'\u001b[39;49m\u001b[43m)\u001b[49m\u001b[38;5;241m+\u001b[39m\u001b[38;5;241m1\u001b[39m\n",
      "\u001b[1;31mValueError\u001b[0m: invalid literal for int() with base 10: '0.3'"
     ]
    }
   ],
   "source": [
    "int('0.3')+1  #this will fail as the string '0.3' cannot be converted to integer directly"
   ]
  },
  {
   "cell_type": "markdown",
   "id": "9cbc2952-d678-4b9e-a1d8-2a49e809a65b",
   "metadata": {},
   "source": [
    "Can you modify the code above to get 1.3 as result"
   ]
  },
  {
   "cell_type": "code",
   "execution_count": null,
   "id": "f2e1e5d0-f228-4f54-a9e0-b24464abba7d",
   "metadata": {},
   "outputs": [],
   "source": []
  },
  {
   "cell_type": "markdown",
   "id": "269a07ed-93ab-4b60-9990-7ababe904fd2",
   "metadata": {},
   "source": [
    "When you convert int to float you will lose precision "
   ]
  },
  {
   "cell_type": "code",
   "execution_count": 19,
   "id": "2b8d1b31-63a5-4692-99fb-2bf517cd55c8",
   "metadata": {},
   "outputs": [
    {
     "data": {
      "text/plain": [
       "0"
      ]
     },
     "execution_count": 19,
     "metadata": {},
     "output_type": "execute_result"
    }
   ],
   "source": [
    "int(0.0005)"
   ]
  },
  {
   "cell_type": "markdown",
   "id": "6c217c2d-7852-4582-9526-390196fb5905",
   "metadata": {},
   "source": [
    "In the next section we will see different ways to store more than one value in a variable."
   ]
  }
 ],
 "metadata": {
  "kernelspec": {
   "display_name": "Python 3 (ipykernel)",
   "language": "python",
   "name": "python3"
  },
  "language_info": {
   "codemirror_mode": {
    "name": "ipython",
    "version": 3
   },
   "file_extension": ".py",
   "mimetype": "text/x-python",
   "name": "python",
   "nbconvert_exporter": "python",
   "pygments_lexer": "ipython3",
   "version": "3.10.4"
  }
 },
 "nbformat": 4,
 "nbformat_minor": 5
}
