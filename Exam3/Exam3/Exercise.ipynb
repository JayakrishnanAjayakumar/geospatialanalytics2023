{
 "cells": [
  {
   "cell_type": "markdown",
   "id": "f0bce5c0",
   "metadata": {},
   "source": [
    "# Exam 3 (submit by 04/28/2023 11:59pm EST)  \n",
    "​\n",
    "#### You can click on Run -> Run All Cells to enable all the question prompts at the same time (or you could run each cells one by one)\n",
    "​\n",
    "#### Each question has a scratch pad (a blank coding cell) where you can scribble your code.  \n",
    "​\n",
    "#### Assigned mark for each question is provided near to the question in parenthesis.\n",
    "​\n",
    "#### You can save partial responses by clicking the “Save” button after each question. \n",
    "​\n",
    "#### For coding questions, make sure you follow the exact guidelines. You have make sure that your code runs without any errors.\n",
    "​\n",
    "#### Up on completion; fill your case network id and the password that you have created during the first session. \n",
    "​\n",
    "#### Click Submit to upload the test.          "
   ]
  },
  {
   "cell_type": "code",
   "execution_count": 11,
   "id": "88de322d",
   "metadata": {
    "tags": []
   },
   "outputs": [],
   "source": [
    "import sys\n",
    "sys.path.append('../../')\n",
    "from helper.questionhelper import *\n",
    "qset = QuestionSet()        "
   ]
  },
  {
   "cell_type": "code",
   "execution_count": 12,
   "id": "91e69ae5",
   "metadata": {
    "tags": []
   },
   "outputs": [
    {
     "data": {
      "application/vnd.jupyter.widget-view+json": {
       "model_id": "a0a1cff23ab34237a0fb092b00e359d0",
       "version_major": 2,
       "version_minor": 0
      },
      "text/plain": [
       "VBox(children=(VBox(children=(HTML(value='<p>Create a choropleth map of the distribution of earthquakes across…"
      ]
     },
     "metadata": {},
     "output_type": "display_data"
    }
   ],
   "source": [
    "qset.getQuestion(1)"
   ]
  },
  {
   "cell_type": "code",
   "execution_count": 13,
   "id": "8bbfe094",
   "metadata": {
    "tags": []
   },
   "outputs": [],
   "source": [
    "#Scratch Pad"
   ]
  },
  {
   "cell_type": "code",
   "execution_count": 14,
   "id": "c8309388",
   "metadata": {
    "tags": []
   },
   "outputs": [
    {
     "data": {
      "application/vnd.jupyter.widget-view+json": {
       "model_id": "ed8f5a58b8224facb7b5e9b80867384b",
       "version_major": 2,
       "version_minor": 0
      },
      "text/plain": [
       "VBox(children=(VBox(children=(HTML(value='<p>Create a series of choropleth map of Covid cases for every month …"
      ]
     },
     "metadata": {},
     "output_type": "display_data"
    }
   ],
   "source": [
    "qset.getQuestion(2)"
   ]
  },
  {
   "cell_type": "code",
   "execution_count": 15,
   "id": "83a9bc22",
   "metadata": {
    "tags": []
   },
   "outputs": [],
   "source": [
    "#Scratch Pad"
   ]
  },
  {
   "cell_type": "code",
   "execution_count": 16,
   "id": "db674c0d",
   "metadata": {
    "tags": []
   },
   "outputs": [
    {
     "data": {
      "application/vnd.jupyter.widget-view+json": {
       "model_id": "c79f153d032642308b485f345bd67ae2",
       "version_major": 2,
       "version_minor": 0
      },
      "text/plain": [
       "VBox(children=(VBox(children=(HTML(value='<p>Plot all the schools in nyc with more than 10 shootings within 30…"
      ]
     },
     "metadata": {},
     "output_type": "display_data"
    }
   ],
   "source": [
    "qset.getQuestion(3)"
   ]
  },
  {
   "cell_type": "code",
   "execution_count": 17,
   "id": "42b4e8c6",
   "metadata": {
    "tags": []
   },
   "outputs": [],
   "source": [
    "#Scratch Pad"
   ]
  },
  {
   "cell_type": "code",
   "execution_count": 18,
   "id": "51b3f573",
   "metadata": {
    "tags": []
   },
   "outputs": [
    {
     "data": {
      "application/vnd.jupyter.widget-view+json": {
       "model_id": "c7ace937143448e19b1a8e8cfdd926e6",
       "version_major": 2,
       "version_minor": 0
      },
      "text/plain": [
       "VBox(children=(VBox(children=(HTML(value='<p>Create a choropleth change map (map of differences) for all homic…"
      ]
     },
     "metadata": {},
     "output_type": "display_data"
    }
   ],
   "source": [
    "qset.getQuestion(4)"
   ]
  },
  {
   "cell_type": "code",
   "execution_count": 19,
   "id": "f6cdfb66",
   "metadata": {
    "tags": []
   },
   "outputs": [],
   "source": [
    "#Scratch Pad"
   ]
  },
  {
   "cell_type": "code",
   "execution_count": 20,
   "id": "56ca8961",
   "metadata": {
    "tags": []
   },
   "outputs": [
    {
     "data": {
      "application/vnd.jupyter.widget-view+json": {
       "model_id": "484f215e357e43639f0bcf74d6355acb",
       "version_major": 2,
       "version_minor": 0
      },
      "text/plain": [
       "VBox(children=(HBox(children=(Button(button_style='info', description='Save', style=ButtonStyle()), Button(but…"
      ]
     },
     "metadata": {},
     "output_type": "display_data"
    }
   ],
   "source": [
    "qset.showSubmitSection()"
   ]
  },
  {
   "cell_type": "code",
   "execution_count": null,
   "id": "85964932-6316-4268-9bd8-6dda027706ea",
   "metadata": {},
   "outputs": [],
   "source": []
  }
 ],
 "metadata": {
  "kernelspec": {
   "display_name": "Python 3 (ipykernel)",
   "language": "python",
   "name": "python3"
  },
  "language_info": {
   "codemirror_mode": {
    "name": "ipython",
    "version": 3
   },
   "file_extension": ".py",
   "mimetype": "text/x-python",
   "name": "python",
   "nbconvert_exporter": "python",
   "pygments_lexer": "ipython3",
   "version": "3.10.10"
  }
 },
 "nbformat": 4,
 "nbformat_minor": 5
}
