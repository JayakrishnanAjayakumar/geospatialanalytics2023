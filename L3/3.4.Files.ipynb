{
 "cells": [
  {
   "cell_type": "markdown",
   "id": "ae827f7f-a9cc-42be-9856-c3f1d24f165a",
   "metadata": {},
   "source": [
    "# Files "
   ]
  },
  {
   "cell_type": "markdown",
   "id": "8076a445-8603-412f-8914-6e4ce462df65",
   "metadata": {},
   "source": [
    ">Files are basically a **computing resource for recording data in storage device**. Files are classified based on the purpose of their usage. Typical types of computer files include text files, image files, video files, and audio files. \n",
    "\n",
    "![file-types](images/file-types.png)\n",
    "\n",
    "For this session we will be looking at **three different file types**,\n",
    "\n",
    "1. **Text file (.txt)**\n",
    "2. **Comma Seperated Value (CSV) file (.csv)**\n",
    "3. **JavaScript Object Notation (JSON) file (.json)**"
   ]
  },
  {
   "cell_type": "markdown",
   "id": "69ad3ef8-4ecd-4f24-aa98-c977942d4b09",
   "metadata": {},
   "source": [
    "## Reading/Writing a text file in Python"
   ]
  },
  {
   "cell_type": "markdown",
   "id": "9f461247-948d-4bf3-bd97-dfd5aafa043f",
   "metadata": {},
   "source": [
    "A text file generally contains a sequence of lines of electronic text. Open the file *sample_text_file.txt* in data folder and check its contents."
   ]
  },
  {
   "cell_type": "markdown",
   "id": "ced3c9d8-79de-4952-a680-3388e60889ea",
   "metadata": {},
   "source": [
    "### Reading a text file line by line using open()"
   ]
  },
  {
   "cell_type": "code",
   "execution_count": 15,
   "id": "e9c7365f-a041-4d66-918a-10b15cfbbf46",
   "metadata": {},
   "outputs": [
    {
     "name": "stdout",
     "output_type": "stream",
     "text": [
      "Beautiful is better than ugly.\n",
      "\n",
      "Explicit is better than implicit.\n",
      "\n",
      "Simple is better than complex.\n",
      "\n",
      "Complex is better than complicated.\n",
      "\n",
      "Flat is better than nested.\n",
      "\n",
      "Sparse is better than dense.\n",
      "\n",
      "Readability counts.\n",
      "\n",
      "Special cases aren't special enough to break the rules.\n",
      "\n",
      "Although practicality beats purity.\n",
      "\n",
      "Errors should never pass silently.\n",
      "\n",
      "Unless explicitly silenced.\n",
      "\n",
      "In the face of ambiguity, refuse the temptation to guess.\n",
      "\n",
      "There should be one-- and preferably only one --obvious way to do it.\n",
      "\n",
      "Although that way may not be obvious at first unless you're Dutch.\n",
      "\n",
      "Now is better than never.\n",
      "\n",
      "Although never is often better than *right* now.\n",
      "\n",
      "If the implementation is hard to explain, it's a bad idea.\n",
      "\n",
      "If the implementation is easy to explain, it may be a good idea.\n",
      "\n",
      "Namespaces are one honking great idea -- let's do more of those!\n"
     ]
    }
   ],
   "source": [
    "with open('data/sample_text_file.txt','r') as file:\n",
    "    for line in file:\n",
    "        print (line)"
   ]
  },
  {
   "cell_type": "markdown",
   "id": "cf12d684-ecf8-4de4-800a-634dcb70c0be",
   "metadata": {},
   "source": [
    "You can also write this as "
   ]
  },
  {
   "cell_type": "code",
   "execution_count": 16,
   "id": "a7c99fba-1331-4dfd-b614-d3c26c36786b",
   "metadata": {},
   "outputs": [
    {
     "name": "stdout",
     "output_type": "stream",
     "text": [
      "Beautiful is better than ugly.\n",
      "\n",
      "Explicit is better than implicit.\n",
      "\n",
      "Simple is better than complex.\n",
      "\n",
      "Complex is better than complicated.\n",
      "\n",
      "Flat is better than nested.\n",
      "\n",
      "Sparse is better than dense.\n",
      "\n",
      "Readability counts.\n",
      "\n",
      "Special cases aren't special enough to break the rules.\n",
      "\n",
      "Although practicality beats purity.\n",
      "\n",
      "Errors should never pass silently.\n",
      "\n",
      "Unless explicitly silenced.\n",
      "\n",
      "In the face of ambiguity, refuse the temptation to guess.\n",
      "\n",
      "There should be one-- and preferably only one --obvious way to do it.\n",
      "\n",
      "Although that way may not be obvious at first unless you're Dutch.\n",
      "\n",
      "Now is better than never.\n",
      "\n",
      "Although never is often better than *right* now.\n",
      "\n",
      "If the implementation is hard to explain, it's a bad idea.\n",
      "\n",
      "If the implementation is easy to explain, it may be a good idea.\n",
      "\n",
      "Namespaces are one honking great idea -- let's do more of those!\n"
     ]
    }
   ],
   "source": [
    "fileToRead = open('data/sample_text_file.txt','r')\n",
    "for line in fileToRead:\n",
    "    print (line)"
   ]
  },
  {
   "cell_type": "markdown",
   "id": "cd57e48b-e4ea-470b-8647-5a8a3000c02a",
   "metadata": {},
   "source": [
    "### Reading an entire text file into a string variable using read()"
   ]
  },
  {
   "cell_type": "code",
   "execution_count": 17,
   "id": "aa48503f-7c92-4b6c-9ace-35058819ae4c",
   "metadata": {},
   "outputs": [
    {
     "name": "stdout",
     "output_type": "stream",
     "text": [
      "Beautiful is better than ugly.\n",
      "Explicit is better than implicit.\n",
      "Simple is better than complex.\n",
      "Complex is better than complicated.\n",
      "Flat is better than nested.\n",
      "Sparse is better than dense.\n",
      "Readability counts.\n",
      "Special cases aren't special enough to break the rules.\n",
      "Although practicality beats purity.\n",
      "Errors should never pass silently.\n",
      "Unless explicitly silenced.\n",
      "In the face of ambiguity, refuse the temptation to guess.\n",
      "There should be one-- and preferably only one --obvious way to do it.\n",
      "Although that way may not be obvious at first unless you're Dutch.\n",
      "Now is better than never.\n",
      "Although never is often better than *right* now.\n",
      "If the implementation is hard to explain, it's a bad idea.\n",
      "If the implementation is easy to explain, it may be a good idea.\n",
      "Namespaces are one honking great idea -- let's do more of those!\n"
     ]
    }
   ],
   "source": [
    "filedata = open('data/sample_text_file.txt','r').read()\n",
    "print (filedata)"
   ]
  },
  {
   "cell_type": "markdown",
   "id": "e9866322-42c5-4913-ad47-f25dee23d1bd",
   "metadata": {},
   "source": [
    "Be careful when reading files having high memory footprint. In such cases reading line by line is highly beneficial."
   ]
  },
  {
   "cell_type": "markdown",
   "id": "cd4a82aa-2b95-4472-a07f-a79fddbbdf85",
   "metadata": {},
   "source": [
    "### Reading an entire text file into a list using readlines()"
   ]
  },
  {
   "cell_type": "code",
   "execution_count": 18,
   "id": "a80a9789-75df-47eb-b946-c731efd2e2e8",
   "metadata": {},
   "outputs": [
    {
     "name": "stdout",
     "output_type": "stream",
     "text": [
      "['Beautiful is better than ugly.\\n', 'Explicit is better than implicit.\\n', 'Simple is better than complex.\\n', 'Complex is better than complicated.\\n', 'Flat is better than nested.\\n', 'Sparse is better than dense.\\n', 'Readability counts.\\n', \"Special cases aren't special enough to break the rules.\\n\", 'Although practicality beats purity.\\n', 'Errors should never pass silently.\\n', 'Unless explicitly silenced.\\n', 'In the face of ambiguity, refuse the temptation to guess.\\n', 'There should be one-- and preferably only one --obvious way to do it.\\n', \"Although that way may not be obvious at first unless you're Dutch.\\n\", 'Now is better than never.\\n', 'Although never is often better than *right* now.\\n', \"If the implementation is hard to explain, it's a bad idea.\\n\", 'If the implementation is easy to explain, it may be a good idea.\\n', \"Namespaces are one honking great idea -- let's do more of those!\"]\n"
     ]
    }
   ],
   "source": [
    "filedata = open('data/sample_text_file.txt','r').readlines()\n",
    "print (filedata)"
   ]
  },
  {
   "cell_type": "markdown",
   "id": "89ba215f-8dd9-4654-8f04-a6d0b84808f9",
   "metadata": {},
   "source": [
    "You can see that each line in the file is now an element in the list and could be accessed using index. "
   ]
  },
  {
   "cell_type": "code",
   "execution_count": 19,
   "id": "e6db0415-e844-4e80-a265-6b8e78b6402f",
   "metadata": {},
   "outputs": [
    {
     "name": "stdout",
     "output_type": "stream",
     "text": [
      "Beautiful is better than ugly.\n",
      "\n",
      "Namespaces are one honking great idea -- let's do more of those!\n"
     ]
    }
   ],
   "source": [
    "print (filedata[0])  # first line\n",
    "print (filedata[-1]) #last line"
   ]
  },
  {
   "cell_type": "markdown",
   "id": "d33e7aff-324e-4061-a315-3865cf60a877",
   "metadata": {},
   "source": [
    "Now can you try to create a function that accepts a file name and returns the word counts in the file (hint: you should use dict)"
   ]
  },
  {
   "cell_type": "markdown",
   "id": "e5c89bdd-7e79-46cb-8ba1-781e0a9dea49",
   "metadata": {},
   "source": [
    "### Writing to a text file as a string"
   ]
  },
  {
   "cell_type": "markdown",
   "id": "96d7b0cb-64e6-4eae-a9ea-20efd0708f2c",
   "metadata": {},
   "source": [
    "Let's create a simple text file and add the content \"Python is cool\" to it. "
   ]
  },
  {
   "cell_type": "code",
   "execution_count": 20,
   "id": "9998a723-d059-422d-8b1d-cb4b39498643",
   "metadata": {},
   "outputs": [],
   "source": [
    "with open('data/simple_text.txt','w') as out:\n",
    "    out.write(\"Python is cool\")"
   ]
  },
  {
   "cell_type": "markdown",
   "id": "05b34138-08d6-4575-8c8b-03dccbf3c3fe",
   "metadata": {},
   "source": [
    "Now open the data directory and check whether the file simple_text.txt has been created with the content \"Python is cool\". \n",
    "\n",
    "You can also write "
   ]
  },
  {
   "cell_type": "code",
   "execution_count": 21,
   "id": "a2a9a4ef-f081-4629-840c-8f6672a62437",
   "metadata": {},
   "outputs": [],
   "source": [
    "files = open('data/simple_text.txt','w')\n",
    "files.write(\"Python is cool\")\n",
    "files.close()  #this is  important"
   ]
  },
  {
   "cell_type": "markdown",
   "id": "27f61eb3-192c-4e63-8d6f-4a9d60a89fe3",
   "metadata": {},
   "source": [
    "### Writing a list of string to a text file"
   ]
  },
  {
   "cell_type": "code",
   "execution_count": 22,
   "id": "3fb635c4-2e34-4669-9b5d-0104b09b0ebf",
   "metadata": {},
   "outputs": [],
   "source": [
    "sentences = ['I like to watch football.','I love driving.']\n",
    "#we need to convert list of sentences to a single string seperated by '\\n' (which is new line character)\n",
    "sentenceString = '\\n'.join(sentences) #Now we will have a string 'I like to watch football.\\nI love driving.'\n",
    "with open('data/multiple_sentences.txt','w') as out: #note unlike reading we have to use 'w' here\n",
    "    out.write(sentenceString)"
   ]
  },
  {
   "cell_type": "markdown",
   "id": "376643dd-87f1-4f29-87cf-986c5002ce2c",
   "metadata": {},
   "source": [
    "## Reading/Writing a CSV file in Python"
   ]
  },
  {
   "cell_type": "markdown",
   "id": "c3228f44-82a6-406e-8cf0-0084814f25e6",
   "metadata": {},
   "source": [
    "CSV files are one of the most commonly used file format for data analysis. **CSV files have a tabular structure and can be opened in Microsoft Excel as a worksheet**. In reality they are **text files with comma used for delimitation**. We have already encountered comma delimited strings in last chapter and how they can be converted into a list using the string method split(','). Open the file ice_mass.csv and check the content.\n",
    "\n",
    "As a csv file is a text file with text separated by commas, we can use the same strategy we have adopted for text file reading."
   ]
  },
  {
   "cell_type": "code",
   "execution_count": 23,
   "id": "0897211a-664f-45cd-8b46-406be70f6770",
   "metadata": {},
   "outputs": [],
   "source": [
    "data = [] # an empty list to store data\n",
    "fileToRead = open('data/ice_mass.csv','r')\n",
    "for line in fileToRead:\n",
    "    data.append(line.split(','))"
   ]
  },
  {
   "cell_type": "code",
   "execution_count": 24,
   "id": "a3b4490a-3f75-4aa1-9716-bb5a025035bb",
   "metadata": {},
   "outputs": [
    {
     "name": "stdout",
     "output_type": "stream",
     "text": [
      "203\n"
     ]
    }
   ],
   "source": [
    "print (len(data))"
   ]
  },
  {
   "cell_type": "markdown",
   "id": "e9ad182b-f0a1-4512-82db-cfed169f3eac",
   "metadata": {},
   "source": [
    "As you can see, we have a list of lists with each nested list having two elements. Now what if we want to find out the year with highest ice mass. (Hint: We would want to use loop)"
   ]
  },
  {
   "cell_type": "code",
   "execution_count": null,
   "id": "24b8a018-ce88-47aa-81fe-42c93904e8fe",
   "metadata": {},
   "outputs": [],
   "source": []
  },
  {
   "cell_type": "markdown",
   "id": "47bb20f2-aafb-43a6-8273-259141c47a7e",
   "metadata": {},
   "source": [
    "Writing a csv file is similar to writing a text file. Let's look at an example. "
   ]
  },
  {
   "cell_type": "code",
   "execution_count": 25,
   "id": "86a178c9-957b-4b12-a83f-e45a72d1f8e1",
   "metadata": {},
   "outputs": [],
   "source": [
    "dataset = [['Name','Age'],['Jay','35'],['Sam','40']]\n",
    "with open('data/samplecsv.csv','w') as out:\n",
    "    for data in dataset:\n",
    "        out.write(\",\".join(data)+'\\n')"
   ]
  },
  {
   "cell_type": "markdown",
   "id": "83d67ffc-32fb-43cd-b49b-0291fb994a82",
   "metadata": {},
   "source": [
    "## Reading/Writing a JSON file in Python"
   ]
  },
  {
   "cell_type": "markdown",
   "id": "8c4fdcb2-0f13-48bb-a624-02e4f4095c1c",
   "metadata": {},
   "source": [
    "JSON is a text-based format for representing structured data. It is commonly used for transmitting data in web application. Python has a module 'json' to parse json data as well as convert JSON data to string. \n",
    "\n",
    "Let's look at a sample file, sample.json in data folder. When you inspect sample.json you can see that it closely resembles the dictionary data structure in Python."
   ]
  },
  {
   "cell_type": "markdown",
   "id": "b63b1f2e-bdc1-4b9f-8a4f-a42a8fd93a67",
   "metadata": {},
   "source": [
    "Reading a JSON file\n",
    "\n",
    "For reading a JSON file we have to read the entire json file as a single string and convert it into a Python container using **loads() method in json module**."
   ]
  },
  {
   "cell_type": "code",
   "execution_count": 26,
   "id": "be7c8d32-94bc-4d7a-8a87-f5ee9ab0b361",
   "metadata": {},
   "outputs": [
    {
     "name": "stdout",
     "output_type": "stream",
     "text": [
      "<class 'dict'>\n",
      "{'firstName': 'Rack', 'lastName': 'Jackon', 'gender': 'man', 'age': 24, 'address': {'streetAddress': '126', 'city': 'San Jone', 'state': 'CA', 'postalCode': '394221'}, 'phoneNumbers': [{'type': 'home', 'number': '7383627627'}]}\n",
      "Rack\n",
      "126\n"
     ]
    }
   ],
   "source": [
    "#import json module\n",
    "import json\n",
    "#read the json file \n",
    "jsonFile = open('data/sample.json').read()\n",
    "#convert the json string to python datastructure\n",
    "jsonData = json.loads(jsonFile)\n",
    "print (type(jsonData))\n",
    "print (jsonData)\n",
    "print (jsonData['firstName'])\n",
    "print (jsonData['address']['streetAddress'])"
   ]
  },
  {
   "cell_type": "markdown",
   "id": "13d58a39-860a-4bf6-b05e-c22af11cd0a4",
   "metadata": {},
   "source": [
    "Writing to a JSON file\n",
    "\n",
    "For writing to a JSON file we need to convert the container which has data to a JSON string using **dumps() method in JSON module.**"
   ]
  },
  {
   "cell_type": "code",
   "execution_count": 27,
   "id": "b411e5a2-c94b-4500-a454-87d8cff95ea1",
   "metadata": {},
   "outputs": [],
   "source": [
    "import json\n",
    "#suppose we have a dictionary \n",
    "fruits = {'Apple':56,'Cherry':44,'Pappaya':33,'Grape':55}\n",
    "fruitsJSONString = json.dumps(fruits) #convert the dict to a JSON string\n",
    "with open('data/fruits.json','w') as file:\n",
    "    file.write(fruitsJSONString)"
   ]
  },
  {
   "cell_type": "markdown",
   "id": "debeb0f1-f335-4af8-b2c9-a3e4809678c2",
   "metadata": {},
   "source": [
    "While we could use open() method to read and write almost any type of files, it is not convenient and optimized to read large datasets which are quintessential for scientific computing. In the next chapter, we are going to look into a powerful library called Pandas, which has revolutionized scientific computing with Python.  "
   ]
  }
 ],
 "metadata": {
  "kernelspec": {
   "display_name": "Python 3 (ipykernel)",
   "language": "python",
   "name": "python3"
  },
  "language_info": {
   "codemirror_mode": {
    "name": "ipython",
    "version": 3
   },
   "file_extension": ".py",
   "mimetype": "text/x-python",
   "name": "python",
   "nbconvert_exporter": "python",
   "pygments_lexer": "ipython3",
   "version": "3.10.4"
  }
 },
 "nbformat": 4,
 "nbformat_minor": 5
}
