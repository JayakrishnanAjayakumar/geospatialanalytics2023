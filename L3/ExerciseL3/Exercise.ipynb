{
 "cells": [
  {
   "cell_type": "markdown",
   "id": "8ab86204",
   "metadata": {},
   "source": [
    "# Exercise II (submit by 02/03/2023 11:59pm EST)  \n",
    "​\n",
    "#### You can click on Run -> Run All Cells to enable all the question prompts at the same time (or you could run each cells one by one)\n",
    "​\n",
    "#### Each question has a scratch pad (a blank coding cell) where you can scribble your code.  \n",
    "​\n",
    "#### Assigned mark for each question is provided near to the question in parenthesis.\n",
    "​\n",
    "#### You can save partial responses by clicking the “Save” button after each question. \n",
    "​\n",
    "#### For coding questions, make sure you follow the exact guidelines. You have make sure that your code runs without any errors.\n",
    "​\n",
    "#### Up on completion; fill your case network id and the password that you have created during the first session. \n",
    "​\n",
    "#### Click Submit to upload the test.       "
   ]
  },
  {
   "cell_type": "code",
   "execution_count": null,
   "id": "294a2db2",
   "metadata": {},
   "outputs": [],
   "source": [
    "import sys\n",
    "sys.path.append('../../')\n",
    "from helper.questionhelper import *\n",
    "qset = QuestionSet()        "
   ]
  },
  {
   "cell_type": "code",
   "execution_count": null,
   "id": "b11111af",
   "metadata": {},
   "outputs": [],
   "source": [
    "qset.getQuestion(1)"
   ]
  },
  {
   "cell_type": "code",
   "execution_count": null,
   "id": "97a393a3",
   "metadata": {},
   "outputs": [],
   "source": [
    "#Scratch Pad"
   ]
  },
  {
   "cell_type": "code",
   "execution_count": null,
   "id": "673b788a",
   "metadata": {},
   "outputs": [],
   "source": [
    "qset.getQuestion(2)"
   ]
  },
  {
   "cell_type": "code",
   "execution_count": null,
   "id": "7a7b2f89",
   "metadata": {},
   "outputs": [],
   "source": [
    "#Scratch Pad"
   ]
  },
  {
   "cell_type": "code",
   "execution_count": null,
   "id": "5116f499",
   "metadata": {},
   "outputs": [],
   "source": [
    "qset.getQuestion(3)"
   ]
  },
  {
   "cell_type": "code",
   "execution_count": null,
   "id": "9722850b",
   "metadata": {},
   "outputs": [],
   "source": [
    "#Scratch Pad"
   ]
  },
  {
   "cell_type": "code",
   "execution_count": null,
   "id": "9f42ca57",
   "metadata": {},
   "outputs": [],
   "source": [
    "qset.getQuestion(4)"
   ]
  },
  {
   "cell_type": "code",
   "execution_count": null,
   "id": "2815d475",
   "metadata": {},
   "outputs": [],
   "source": [
    "#Scratch Pad"
   ]
  },
  {
   "cell_type": "code",
   "execution_count": null,
   "id": "d75b5b54",
   "metadata": {},
   "outputs": [],
   "source": [
    "qset.getQuestion(5)"
   ]
  },
  {
   "cell_type": "code",
   "execution_count": null,
   "id": "1d8b7942",
   "metadata": {},
   "outputs": [],
   "source": [
    "#Scratch Pad"
   ]
  },
  {
   "cell_type": "code",
   "execution_count": null,
   "id": "e992dfb9",
   "metadata": {},
   "outputs": [],
   "source": [
    "qset.getQuestion(6)"
   ]
  },
  {
   "cell_type": "code",
   "execution_count": null,
   "id": "c8d62c1b",
   "metadata": {},
   "outputs": [],
   "source": [
    "#Scratch Pad"
   ]
  },
  {
   "cell_type": "code",
   "execution_count": null,
   "id": "cb9d4386",
   "metadata": {},
   "outputs": [],
   "source": [
    "qset.getQuestion(7)"
   ]
  },
  {
   "cell_type": "code",
   "execution_count": null,
   "id": "bfc696ff",
   "metadata": {},
   "outputs": [],
   "source": [
    "#Scratch Pad"
   ]
  },
  {
   "cell_type": "code",
   "execution_count": null,
   "id": "88b2e8bc",
   "metadata": {},
   "outputs": [],
   "source": [
    "qset.showSubmitSection()"
   ]
  },
  {
   "cell_type": "code",
   "execution_count": null,
   "id": "738917be-d7e8-459e-a6b2-63334e1f5eab",
   "metadata": {},
   "outputs": [],
   "source": []
  }
 ],
 "metadata": {
  "kernelspec": {
   "display_name": "Python 3 (ipykernel)",
   "language": "python",
   "name": "python3"
  },
  "language_info": {
   "codemirror_mode": {
    "name": "ipython",
    "version": 3
   },
   "file_extension": ".py",
   "mimetype": "text/x-python",
   "name": "python",
   "nbconvert_exporter": "python",
   "pygments_lexer": "ipython3",
   "version": "3.10.4"
  }
 },
 "nbformat": 4,
 "nbformat_minor": 5
}
