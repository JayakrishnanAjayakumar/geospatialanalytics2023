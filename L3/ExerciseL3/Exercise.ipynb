{
 "cells": [
  {
   "cell_type": "markdown",
   "id": "8ab86204",
   "metadata": {},
   "source": [
    "# This is an assignment        "
   ]
  },
  {
   "cell_type": "code",
   "execution_count": null,
   "id": "294a2db2",
   "metadata": {},
   "outputs": [],
   "source": [
    "import sys\n",
    "sys.path.append('../../')\n",
    "from helper.questionhelper import *\n",
    "qset = QuestionSet()        "
   ]
  },
  {
   "cell_type": "code",
   "execution_count": null,
   "id": "b11111af",
   "metadata": {},
   "outputs": [],
   "source": [
    "qset.getQuestion(1)"
   ]
  },
  {
   "cell_type": "code",
   "execution_count": null,
   "id": "97a393a3",
   "metadata": {},
   "outputs": [],
   "source": [
    "#Scratch Pad"
   ]
  },
  {
   "cell_type": "code",
   "execution_count": null,
   "id": "673b788a",
   "metadata": {},
   "outputs": [],
   "source": [
    "qset.getQuestion(2)"
   ]
  },
  {
   "cell_type": "code",
   "execution_count": null,
   "id": "7a7b2f89",
   "metadata": {},
   "outputs": [],
   "source": [
    "#Scratch Pad"
   ]
  },
  {
   "cell_type": "code",
   "execution_count": null,
   "id": "5116f499",
   "metadata": {},
   "outputs": [],
   "source": [
    "qset.getQuestion(3)"
   ]
  },
  {
   "cell_type": "code",
   "execution_count": null,
   "id": "9722850b",
   "metadata": {},
   "outputs": [],
   "source": [
    "#Scratch Pad"
   ]
  },
  {
   "cell_type": "code",
   "execution_count": null,
   "id": "9f42ca57",
   "metadata": {},
   "outputs": [],
   "source": [
    "qset.getQuestion(4)"
   ]
  },
  {
   "cell_type": "code",
   "execution_count": null,
   "id": "2815d475",
   "metadata": {},
   "outputs": [],
   "source": [
    "#Scratch Pad"
   ]
  },
  {
   "cell_type": "code",
   "execution_count": null,
   "id": "d75b5b54",
   "metadata": {},
   "outputs": [],
   "source": [
    "qset.getQuestion(5)"
   ]
  },
  {
   "cell_type": "code",
   "execution_count": null,
   "id": "1d8b7942",
   "metadata": {},
   "outputs": [],
   "source": [
    "#Scratch Pad"
   ]
  },
  {
   "cell_type": "code",
   "execution_count": null,
   "id": "e992dfb9",
   "metadata": {},
   "outputs": [],
   "source": [
    "qset.getQuestion(6)"
   ]
  },
  {
   "cell_type": "code",
   "execution_count": null,
   "id": "c8d62c1b",
   "metadata": {},
   "outputs": [],
   "source": [
    "#Scratch Pad"
   ]
  },
  {
   "cell_type": "code",
   "execution_count": null,
   "id": "cb9d4386",
   "metadata": {},
   "outputs": [],
   "source": [
    "qset.getQuestion(7)"
   ]
  },
  {
   "cell_type": "code",
   "execution_count": null,
   "id": "bfc696ff",
   "metadata": {},
   "outputs": [],
   "source": [
    "#Scratch Pad"
   ]
  },
  {
   "cell_type": "code",
   "execution_count": null,
   "id": "88b2e8bc",
   "metadata": {},
   "outputs": [],
   "source": [
    "qset.showSubmitSection()"
   ]
  }
 ],
 "metadata": {
  "kernelspec": {
   "display_name": "Python 3 (ipykernel)",
   "language": "python",
   "name": "python3"
  },
  "language_info": {
   "codemirror_mode": {
    "name": "ipython",
    "version": 3
   },
   "file_extension": ".py",
   "mimetype": "text/x-python",
   "name": "python",
   "nbconvert_exporter": "python",
   "pygments_lexer": "ipython3",
   "version": "3.10.4"
  }
 },
 "nbformat": 4,
 "nbformat_minor": 5
}
