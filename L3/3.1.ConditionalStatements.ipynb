{
 "cells": [
  {
   "cell_type": "markdown",
   "id": "5b491fe5-6723-4427-9d77-69c44cf204af",
   "metadata": {},
   "source": [
    "# Conditional Statements"
   ]
  },
  {
   "cell_type": "markdown",
   "id": "bfc4ff0c-1ee7-429e-a82b-04516fadcb4a",
   "metadata": {},
   "source": [
    "**We do take decisions every day!!!!!**\n",
    "\n",
    "Some are as simple as taking an umbrella\n",
    "\n",
    "![umbrella](images/umbrella_decision.jpeg)\n",
    "\n",
    "Or something very complex like switching a job\n",
    "\n",
    "![complexdecision](images/decision_complex.jpg)\n",
    "\n",
    "We can incorporate such decision logic into programs using **logical operators and conditional statements**. So lets look at how this is possible in Python."
   ]
  },
  {
   "cell_type": "markdown",
   "id": "e150872c-e12d-4f8a-8e25-c5055b277728",
   "metadata": {},
   "source": [
    "## Boolean Types"
   ]
  },
  {
   "cell_type": "markdown",
   "id": "1cce7c5a-12c4-4bd7-8303-68338fb21b1b",
   "metadata": {},
   "source": [
    "The basic boolean types in python are True and False. You can assign it to variables as shown here"
   ]
  },
  {
   "cell_type": "code",
   "execution_count": 1,
   "id": "71c84ba6-bb58-445f-8b5c-23f5f04cbb09",
   "metadata": {},
   "outputs": [],
   "source": [
    "isDoorOpen = False\n",
    "found = True"
   ]
  },
  {
   "cell_type": "markdown",
   "id": "62e852c1-d37b-4e14-9367-201d49dfe4a0",
   "metadata": {},
   "source": [
    "## Comparison Operators"
   ]
  },
  {
   "cell_type": "markdown",
   "id": "20a8f38f-279b-46ae-a88e-0a231fed51ca",
   "metadata": {},
   "source": [
    "The basic comparison operators in Python includes \n",
    "\n",
    "1.  '<'    (less than)\n",
    "2.  '>'    (greater than)\n",
    "3.  '<='   (less than or equal to)\n",
    "4.  '>='   (greater than or equal to)\n",
    "5.  '=='   (equal)\n",
    "6.  '!='   (not equal)\n",
    "\n",
    "**Statements with comparison operators evaluates to boolean values (True/False)**\n",
    "\n",
    "Let's try out some comparison operators"
   ]
  },
  {
   "cell_type": "code",
   "execution_count": 2,
   "id": "3cbf5621-5ae5-4986-a5b5-93233a5dec1e",
   "metadata": {},
   "outputs": [
    {
     "name": "stdout",
     "output_type": "stream",
     "text": [
      "True\n",
      "False\n",
      "True\n",
      "True\n",
      "True\n",
      "False\n",
      "True\n",
      "True\n"
     ]
    }
   ],
   "source": [
    "print (5>3)\n",
    "print (3<1)\n",
    "print ('jay'>'Jay')\n",
    "print (3<=3)\n",
    "print (5>=3)\n",
    "print ('jay'=='Jay')\n",
    "print (10.0==10)\n",
    "print (4.0!=4.01)"
   ]
  },
  {
   "cell_type": "markdown",
   "id": "16912608-ed3e-44f4-9581-d9c0f5724b08",
   "metadata": {},
   "source": [
    "## Boolean Operators"
   ]
  },
  {
   "cell_type": "markdown",
   "id": "93ca49e0-15c2-40bd-9e62-5a25223f5f19",
   "metadata": {},
   "source": [
    "Boolean operators are used to combine conditional expressions and they include \n",
    "\n",
    "1. and  (evaluates to True only when the conditional expressions on both sides evaluate to True)\n",
    "2. or  (evaluates to True when any conditional expressions on both sides evaluate to True)\n",
    "3. not (negates the result of the conditional expression that follows it)\n",
    "\n",
    "The easy way to visualize the results of applying boolean operators to conditional expression is through a truth table shown below. \n",
    "\n",
    "Truth table for **and,or**\n",
    "\n",
    "| p | q   |and | or   |\n",
    "|------|------|------|------|\n",
    "|   False  | False|False     | False     |\n",
    "|   False  | True|False     | True     |\n",
    "|   True  | False|False     | True     |\n",
    "|   True  | True|True     | True     |\n",
    "\n",
    "Truth table for **not** \n",
    "\n",
    "| p | not   |\n",
    "|------|------|\n",
    "|   True  | False|\n",
    "|   False  | True|\n",
    "\n",
    "\n",
    "Now let us look at some concrete examples"
   ]
  },
  {
   "cell_type": "code",
   "execution_count": 3,
   "id": "b61de93a-dc5c-4b54-8689-e8556e3dd7f6",
   "metadata": {},
   "outputs": [
    {
     "name": "stdout",
     "output_type": "stream",
     "text": [
      "False\n",
      "True\n",
      "True\n",
      "False\n"
     ]
    }
   ],
   "source": [
    "print (23>4 and 34<5)\n",
    "isDoorOpen = False\n",
    "print (not isDoorOpen)\n",
    "hasKey = True\n",
    "print (isDoorOpen or hasKey)\n",
    "print (not(isDoorOpen or hasKey))"
   ]
  },
  {
   "cell_type": "markdown",
   "id": "6f8bad15-cd1c-4626-ac17-b838e54d37fc",
   "metadata": {},
   "source": [
    "More details are provided in https://mybinder.org/v2/gh/JayakrishnanAjayakumar/Python_Programming_2022.git/HEAD"
   ]
  },
  {
   "cell_type": "markdown",
   "id": "1d6032ed-c4c5-4193-ae0f-e12b8fc5750e",
   "metadata": {},
   "source": [
    "## Control flow statements"
   ]
  },
  {
   "cell_type": "markdown",
   "id": "a49c607f-bdc8-4a99-a243-ad1ada7a5d62",
   "metadata": {},
   "source": [
    "What *if* we want to **do something based on the evaluation of our conditional expression**.\n",
    "\n",
    "In our umbrella example. If the chances of raining is above 60 percent may be there should be a prompt about taking an umbrella with you. \n",
    "\n",
    "This is what **control statements are used for.**"
   ]
  },
  {
   "cell_type": "markdown",
   "id": "700fb1be-92ed-4013-ba90-a121d29a89a9",
   "metadata": {},
   "source": [
    "### if statement"
   ]
  },
  {
   "cell_type": "markdown",
   "id": "0e4b3818-fc3e-4f85-8827-d8e5e35de5a9",
   "metadata": {},
   "source": [
    "![if](images/if.PNG)\n",
    "\n",
    "Let's look at the body of **if** statement\n",
    "\n",
    "```python\n",
    "if <conditional expression>:\n",
    "    <statement 1>\n",
    "    <statement 2>\n",
    "    <statement n>\n",
    "```\n",
    "\n",
    "If the **conditional expression** (as we have seen at the beginning of this lesson) **evaluates to True**, the **body of *if* is executed**. The **body of *if*** is noticeable from the **indentation**.\n",
    "\n",
    "Let's see an example"
   ]
  },
  {
   "cell_type": "code",
   "execution_count": 4,
   "id": "39a29ac8-9f92-4a03-aaa8-a3b737e88d9a",
   "metadata": {},
   "outputs": [
    {
     "name": "stdout",
     "output_type": "stream",
     "text": [
      "Hey take your umbrella with you\n"
     ]
    }
   ],
   "source": [
    "isRaining = True #change this to False to see whether the statement is printed\n",
    "if isRaining:\n",
    "    print('Hey take your umbrella with you')"
   ]
  },
  {
   "cell_type": "markdown",
   "id": "e6cbe312-dce3-4b86-aa8c-af9093543412",
   "metadata": {},
   "source": [
    "Now let's do something more complex"
   ]
  },
  {
   "cell_type": "code",
   "execution_count": 5,
   "id": "add4f336-3617-4885-8b1e-fed16bf5280c",
   "metadata": {},
   "outputs": [
    {
     "name": "stdout",
     "output_type": "stream",
     "text": [
      "100\n"
     ]
    }
   ],
   "source": [
    "value = 50\n",
    "if value>40:\n",
    "    value = value+50\n",
    "print (value)"
   ]
  },
  {
   "cell_type": "markdown",
   "id": "adb3d47b-0e51-4273-b906-f1f746e750e0",
   "metadata": {},
   "source": [
    "### else statement"
   ]
  },
  {
   "cell_type": "markdown",
   "id": "6bf849ec-b3da-4f2c-aac9-ce14ad66d1f0",
   "metadata": {},
   "source": [
    "![else](images/else.PNG)"
   ]
  },
  {
   "cell_type": "markdown",
   "id": "eac7f03b-cdd6-4d10-8059-2e60a908b3c1",
   "metadata": {},
   "source": [
    "What if, we want to do **something *else*** if the **conditional expression in *if* statement evaluates to False**. \n",
    "\n",
    "Well we have the ***else* statement**.\n",
    "\n",
    "```python\n",
    "if <conditional expression>:\n",
    "    <statement 1>\n",
    "    <statement 2>\n",
    "    <statement n>\n",
    "else:\n",
    "    <another statement 1>\n",
    "    <another statement 2>\n",
    "    <another statement n>\n",
    "```\n",
    "Let's see a concrete example\n"
   ]
  },
  {
   "cell_type": "code",
   "execution_count": 10,
   "id": "0b8ee052-7fe5-4a9c-9664-b33ff4d81e03",
   "metadata": {},
   "outputs": [
    {
     "name": "stdout",
     "output_type": "stream",
     "text": [
      "Hey take your umbrella with you\n"
     ]
    }
   ],
   "source": [
    "isRaining = True #change this to False to see whether the statement is printed\n",
    "if isRaining:\n",
    "    print('Hey take your umbrella with you')\n",
    "else:\n",
    "    print('No rain. No need of umbrella!!!')"
   ]
  },
  {
   "cell_type": "code",
   "execution_count": 11,
   "id": "c517d159-9a9a-47a5-a673-104b306107e4",
   "metadata": {},
   "outputs": [
    {
     "name": "stdout",
     "output_type": "stream",
     "text": [
      "101\n"
     ]
    }
   ],
   "source": [
    "totalToffees = 100\n",
    "isHomeWorkDone = True\n",
    "if isHomeWorkDone:\n",
    "    totalToffees = totalToffees+1\n",
    "else:\n",
    "    totalToffees = totalToffees-1\n",
    "print (totalToffees)"
   ]
  },
  {
   "cell_type": "markdown",
   "id": "9bda895b-eec4-49aa-ac3c-adb4347a03ea",
   "metadata": {},
   "source": [
    "### elif statement"
   ]
  },
  {
   "cell_type": "markdown",
   "id": "fee7f52e-4946-47b4-8721-e7b3774d3896",
   "metadata": {},
   "source": [
    "![elif](images/elif.PNG)"
   ]
  },
  {
   "cell_type": "markdown",
   "id": "dd302452-7238-4165-a4ef-2c96a060a8b0",
   "metadata": {},
   "source": [
    "So we have seen if and else statements. Now what if we have to **check multiple conditions and execute only the statements that satisfy one of the condition**. \n",
    "\n",
    "We have ***elif* (not else if, which is commonly used in other languages) to handle multiple conditions**. \n",
    "\n",
    "Let's look at the body of elif statements\n",
    "\n",
    "```python\n",
    "if <conditional expression>:\n",
    "    <statement 1>\n",
    "    <statement 2>\n",
    "    <statement n>\n",
    "elif <conditional expression>:\n",
    "    <another statement 1>\n",
    "    <another statement 2>\n",
    "    <another statement n>\n",
    "elif <conditional expression>:\n",
    "    <another statement 1>\n",
    "    <another statement 2>\n",
    "    <another statement n>\n",
    "             -\n",
    "             -\n",
    "             -\n",
    "else: \n",
    "    <another statement 1>\n",
    "    <another statement 2>\n",
    "    <another statement n>\n",
    "```\n",
    "\n",
    "At first the conditional expression of the ***if* statement is evaluated**. If the conditional expression **evaluates to True** then the **statements with in the block is executed**. If the conditional expression for ***if* evaluates to False**, the conditional expression for the **next *elif* is evaluated** and if it **evaluates to True** the corresponding **block is executed**. If the **conditional expression evaluates to False**, the next ***elif* statement is evaluated** and so on and so forth. Finally, if **all the conditional expressions evaluate to False**, the statements with in the ***else* block are executed**. The ***else* block is optional**. \n",
    "\n",
    "Let's look at an example."
   ]
  },
  {
   "cell_type": "code",
   "execution_count": 8,
   "id": "30ec222f-7a7c-4d38-9bc5-d3dc71f9d599",
   "metadata": {},
   "outputs": [
    {
     "name": "stdout",
     "output_type": "stream",
     "text": [
      "Value is between 100 and 500\n"
     ]
    }
   ],
   "source": [
    "value = 200\n",
    "if value >=0 and value<100:\n",
    "    print ('Value is with in 100')\n",
    "elif value >=100 and value<500:\n",
    "    print ('Value is between 100 and 500')\n",
    "else:\n",
    "    print ('Value is above 500')"
   ]
  },
  {
   "cell_type": "markdown",
   "id": "b457ce75-c595-4aeb-95af-9b66d1361f0d",
   "metadata": {},
   "source": [
    "### Nested conditional statements"
   ]
  },
  {
   "cell_type": "markdown",
   "id": "6a94e60c-0e0e-4720-a04b-0eeb5cb7b6a3",
   "metadata": {},
   "source": [
    "if, elif, and else can have if statements with in them. These are called **nested conditional statements**."
   ]
  },
  {
   "cell_type": "code",
   "execution_count": 9,
   "id": "6c2637ad-d569-4406-ace6-fdd8c61f48a3",
   "metadata": {},
   "outputs": [
    {
     "name": "stdout",
     "output_type": "stream",
     "text": [
      "You have the required GPA, but the minimum Co-curricular score required is 6.5\n"
     ]
    }
   ],
   "source": [
    "myGpa = 3.5\n",
    "myCocurricularGrade = 6\n",
    "gpaCutOff = 3.4\n",
    "coCurricularCutoff = 6.5\n",
    "if myGpa>=gpaCutOff:\n",
    "    if myCocurricularGrade>=coCurricularCutoff:\n",
    "        print ('Congratulations, you are selected for first round of interview')\n",
    "    else:\n",
    "        print ('You have the required GPA, but the minimum Co-curricular score required is',coCurricularCutoff)\n",
    "else:\n",
    "    print ('The minium GPA required is',gpaCutOff,'and the minimum Co-curricular score required is',coCurricularCutoff)"
   ]
  },
  {
   "cell_type": "markdown",
   "id": "c6d36d22-e788-4bdb-91b8-a39037c03468",
   "metadata": {},
   "source": [
    "In the next section we will look into Loops. "
   ]
  }
 ],
 "metadata": {
  "kernelspec": {
   "display_name": "Python 3 (ipykernel)",
   "language": "python",
   "name": "python3"
  },
  "language_info": {
   "codemirror_mode": {
    "name": "ipython",
    "version": 3
   },
   "file_extension": ".py",
   "mimetype": "text/x-python",
   "name": "python",
   "nbconvert_exporter": "python",
   "pygments_lexer": "ipython3",
   "version": "3.10.4"
  }
 },
 "nbformat": 4,
 "nbformat_minor": 5
}
