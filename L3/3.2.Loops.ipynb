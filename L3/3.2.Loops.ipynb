{
 "cells": [
  {
   "cell_type": "markdown",
   "id": "b54a24a8-f767-4b1d-a517-c0e5ffedc95b",
   "metadata": {},
   "source": [
    "# Loops"
   ]
  },
  {
   "cell_type": "markdown",
   "id": "98eb79cf-f765-490e-a0fb-3f41fdf2a82d",
   "metadata": {},
   "source": [
    "Loops are used to repeat execution of parts of a program. \n",
    "\n",
    "![pythonloops](images/loops.jpeg)"
   ]
  },
  {
   "cell_type": "markdown",
   "id": "ac416961-dab2-4845-aa91-47fb1a845be9",
   "metadata": {},
   "source": [
    "There are two types of looping constructs in Python\n",
    "\n",
    "1. **for** loop (Also called as a **count controlled loop** as we already know **beforehand how many times to execute the iterative statement**)\n",
    "\n",
    "2. **while** loop (Also called as **condition controlled loop** as iteration continues while or until a condition is met)\n",
    "\n",
    "Lets look these loops in detail."
   ]
  },
  {
   "cell_type": "markdown",
   "id": "8e5f2676-881c-445b-a114-419fe1e3295d",
   "metadata": {},
   "source": [
    "## for loop"
   ]
  },
  {
   "cell_type": "markdown",
   "id": "c88c5dda-2fca-4a75-a568-0f5cc1710967",
   "metadata": {},
   "source": [
    "Let's look at an example to show the motivation for a for loop.\n",
    "\n",
    "Suppose you have a list of average temperatures for a year. "
   ]
  },
  {
   "cell_type": "code",
   "execution_count": 1,
   "id": "68f37f60-d76e-4d12-a45d-6dc10b026769",
   "metadata": {},
   "outputs": [],
   "source": [
    "monthlyTemperature = [36,39,47,60,71,80,84,82,76,64,51,40]"
   ]
  },
  {
   "cell_type": "markdown",
   "id": "a4cc5625-c66f-4eac-b284-7f2f2a6b74d1",
   "metadata": {},
   "source": [
    "Now what if we want to print all temperatures one by one. \n",
    "A very naive and inefficent way to do this would be"
   ]
  },
  {
   "cell_type": "code",
   "execution_count": 2,
   "id": "f789e346-b776-400d-8c0d-1b7b9c646c50",
   "metadata": {},
   "outputs": [
    {
     "name": "stdout",
     "output_type": "stream",
     "text": [
      "36\n"
     ]
    }
   ],
   "source": [
    "print (monthlyTemperature[0])"
   ]
  },
  {
   "cell_type": "code",
   "execution_count": 3,
   "id": "db33c9f6-d675-47ab-9797-9f54150969a8",
   "metadata": {},
   "outputs": [
    {
     "name": "stdout",
     "output_type": "stream",
     "text": [
      "39\n"
     ]
    }
   ],
   "source": [
    "print (monthlyTemperature[1])"
   ]
  },
  {
   "cell_type": "code",
   "execution_count": 4,
   "id": "0c68bb14-85e4-4408-85d6-4d3931fe0693",
   "metadata": {},
   "outputs": [
    {
     "name": "stdout",
     "output_type": "stream",
     "text": [
      "47\n"
     ]
    }
   ],
   "source": [
    "print (monthlyTemperature[2])"
   ]
  },
  {
   "cell_type": "markdown",
   "id": "f365c418-d69e-40dc-9f21-e83686aa8e14",
   "metadata": {},
   "source": [
    "You can easily see that once the list becomes large this approach is not efficient. Enter for loop"
   ]
  },
  {
   "cell_type": "code",
   "execution_count": 5,
   "id": "70f708a2-20d3-46bd-aefc-90a35c22146e",
   "metadata": {},
   "outputs": [
    {
     "name": "stdout",
     "output_type": "stream",
     "text": [
      "36\n",
      "39\n",
      "47\n",
      "60\n",
      "71\n",
      "80\n",
      "84\n",
      "82\n",
      "76\n",
      "64\n",
      "51\n",
      "40\n"
     ]
    }
   ],
   "source": [
    "for temperature in monthlyTemperature:\n",
    "    print (temperature)"
   ]
  },
  {
   "cell_type": "markdown",
   "id": "d9706a20-f549-4359-bd0b-da73923550d3",
   "metadata": {},
   "source": [
    "Voilaaaa!!!! you are able to print all the values in a single shot. Now let us look at the structure of the for loop\n",
    "\n",
    "\n",
    "```python\n",
    "for [item] in [sequenceOFElements]:\n",
    "    <statement 1>\n",
    "    <statement 2>\n",
    "```\n",
    "And **sequenceOfElements** here literally means a \"sequence\" of elements\n",
    "\n",
    "sequence of numbers 1,2,3,4,5,6\n",
    "\n",
    "sequence of characters 'a','l','e','x'\n",
    "\n",
    "sequence of musical notes\n",
    "\n",
    "And ***item* is an element in a sequence**.\n",
    "\n",
    "So ***for*** loop goes through the **sequence of elements one at a time until the sequence finishes or the loop is some how forcefully terminated** (we will look into this soon).\n",
    "\n",
    "Before moving forward with ***for*** loop let's introduce a useful function called range()."
   ]
  },
  {
   "cell_type": "markdown",
   "id": "a05da9af-7f70-4046-8a4c-6d3b9fe6ba95",
   "metadata": {},
   "source": [
    "### range()\n",
    "\n",
    "The structure of range is \n",
    "```python\n",
    "range(start,stop,step) : Return sequence of numbers from start to stop-1 with steps of step. \n",
    "```\n",
    "Let's look at some examples"
   ]
  },
  {
   "cell_type": "code",
   "execution_count": 6,
   "id": "a851268f-5ded-4126-a3bb-2a049584068e",
   "metadata": {},
   "outputs": [
    {
     "name": "stdout",
     "output_type": "stream",
     "text": [
      "range(0, 10)\n"
     ]
    }
   ],
   "source": [
    "print (range(0,10)) # here step is assumed to be 1"
   ]
  },
  {
   "cell_type": "markdown",
   "id": "5ed474c4-3a6e-4156-a144-71976867c862",
   "metadata": {},
   "source": [
    "range method can be combined with for loops to generate sequence of numbers"
   ]
  },
  {
   "cell_type": "code",
   "execution_count": 7,
   "id": "f1988a70-5ab3-48e2-99aa-309d2ac8a256",
   "metadata": {},
   "outputs": [
    {
     "name": "stdout",
     "output_type": "stream",
     "text": [
      "0\n",
      "1\n",
      "2\n",
      "3\n",
      "4\n",
      "5\n",
      "6\n",
      "7\n",
      "8\n",
      "9\n"
     ]
    }
   ],
   "source": [
    "for idx in range(0,10):\n",
    "    print (idx)"
   ]
  },
  {
   "cell_type": "markdown",
   "id": "22bbbac3-4798-4e16-9158-207d42c79cfe",
   "metadata": {},
   "source": [
    "Now can you print every other value between 0 and 10 (hint: you have to use step)"
   ]
  },
  {
   "cell_type": "code",
   "execution_count": null,
   "id": "3569a07b-bad3-4ab0-a482-24af75777d7e",
   "metadata": {},
   "outputs": [],
   "source": []
  },
  {
   "cell_type": "markdown",
   "id": "7f73dec4-6721-400e-909d-3bec6ccd0413",
   "metadata": {},
   "source": [
    "for loops in conjunction with range() method can be used to loop through lists/tuples/dicts/strings"
   ]
  },
  {
   "cell_type": "code",
   "execution_count": 8,
   "id": "32f73497-13f9-4448-b25b-cba6fc890ee3",
   "metadata": {},
   "outputs": [
    {
     "name": "stdout",
     "output_type": "stream",
     "text": [
      "36\n",
      "39\n",
      "47\n",
      "60\n",
      "71\n",
      "80\n",
      "84\n",
      "82\n",
      "76\n",
      "64\n",
      "51\n",
      "40\n"
     ]
    }
   ],
   "source": [
    "monthlyTemperature = [36,39,47,60,71,80,84,82,76,64,51,40]\n",
    "for idx in range(len(monthlyTemperature)):\n",
    "    print (monthlyTemperature[idx])"
   ]
  },
  {
   "cell_type": "markdown",
   "id": "839478aa-4af4-4040-9939-db983dc96721",
   "metadata": {},
   "source": [
    "So here, we are using a combination of functions to generate a sequence of numbers. len(monthlyTemperature) should give 12 and range(12) should create a sequence of values from 0 to 11. Then the value of idx changes from 0 to 11 for each iteration of the loop and we are using the value of idx or retrieve the specific element from the list (indexing)."
   ]
  },
  {
   "cell_type": "markdown",
   "id": "c1f3d56f-5c85-42b2-b561-a7223cc29c55",
   "metadata": {},
   "source": [
    "We can also use conditional operators inside the for loop body. Let us see an example"
   ]
  },
  {
   "cell_type": "code",
   "execution_count": 1,
   "id": "fe13b0b1-3db3-4074-85a9-cd27774e8b58",
   "metadata": {},
   "outputs": [
    {
     "name": "stdout",
     "output_type": "stream",
     "text": [
      "47\n",
      "60\n",
      "71\n",
      "80\n",
      "84\n",
      "82\n",
      "76\n",
      "64\n",
      "51\n"
     ]
    }
   ],
   "source": [
    "monthlyTemperature = [36,39,47,60,71,80,84,82,76,64,51,40]\n",
    "for idx in range(len(monthlyTemperature)):\n",
    "    if monthlyTemperature[idx]>40:\n",
    "        print (monthlyTemperature[idx])"
   ]
  },
  {
   "cell_type": "markdown",
   "id": "cf4c8cb2-5e7c-4cdb-9070-7a0fd2df4cb0",
   "metadata": {},
   "source": [
    "Here we are printing only temperatures that are above 40. Now can you write the code for printing all the even numbers between 0 and 100. "
   ]
  },
  {
   "cell_type": "code",
   "execution_count": null,
   "id": "14af5b8c-356f-4b42-bfe2-4802a9fcbdcd",
   "metadata": {},
   "outputs": [],
   "source": []
  },
  {
   "cell_type": "markdown",
   "id": "e31531a9-a17b-4029-9c34-05bad6925605",
   "metadata": {},
   "source": [
    "You can also use for loop to go through a dictionary."
   ]
  },
  {
   "cell_type": "code",
   "execution_count": 10,
   "id": "486a58e7-d59f-407b-80f9-efab1b90115e",
   "metadata": {},
   "outputs": [
    {
     "name": "stdout",
     "output_type": "stream",
     "text": [
      "name --> jay\n",
      "age --> 35\n",
      "sex --> M\n",
      "vaccinated --> True\n"
     ]
    }
   ],
   "source": [
    "myDict = {'name':'jay','age':35,'sex':'M','vaccinated':True}\n",
    "for key in myDict:\n",
    "    print (key,'-->',myDict[key])"
   ]
  },
  {
   "cell_type": "markdown",
   "id": "77b8a606-ded0-4917-8425-be6845b9bac0",
   "metadata": {},
   "source": [
    "And also through a string."
   ]
  },
  {
   "cell_type": "code",
   "execution_count": 13,
   "id": "60d45541-c07c-442e-b215-6d64124c94cd",
   "metadata": {},
   "outputs": [
    {
     "name": "stdout",
     "output_type": "stream",
     "text": [
      "J\n",
      "a\n",
      "y\n"
     ]
    }
   ],
   "source": [
    "name = 'Jay'\n",
    "for char in name:\n",
    "    print (char)"
   ]
  },
  {
   "cell_type": "markdown",
   "id": "7e45c225-635b-4d24-9670-6f2b01026320",
   "metadata": {},
   "source": [
    "Let's see one final example of for loop where we calculate the average of temperatures from a list. "
   ]
  },
  {
   "cell_type": "code",
   "execution_count": 14,
   "id": "8c26a812-ec16-4551-84fb-edbd3ed11d04",
   "metadata": {},
   "outputs": [
    {
     "name": "stdout",
     "output_type": "stream",
     "text": [
      "Average is  60.833333333333336\n"
     ]
    }
   ],
   "source": [
    "monthlyTemperature = [36,39,47,60,71,80,84,82,76,64,51,40]\n",
    "total = 0\n",
    "for temperature in monthlyTemperature:\n",
    "    total = total+temperature\n",
    "print ('Average is ',total/len(monthlyTemperature))"
   ]
  },
  {
   "cell_type": "markdown",
   "id": "b8c2986c-2e73-4b23-b275-2e007e4f01c0",
   "metadata": {},
   "source": [
    "Can you try to find the maximum temperature from our list of monthly temperatures using for loop (hint: use comparison operators)"
   ]
  },
  {
   "cell_type": "code",
   "execution_count": null,
   "id": "c7ff27d7-d9e6-4448-a3ea-d20d3e9b82f3",
   "metadata": {},
   "outputs": [],
   "source": []
  },
  {
   "cell_type": "markdown",
   "id": "7a693edb-35d1-4cf3-87b9-8aa86a3086e6",
   "metadata": {},
   "source": [
    "## While loop"
   ]
  },
  {
   "cell_type": "markdown",
   "id": "3af66634-fb5b-44d2-8e5d-305ecb287d1f",
   "metadata": {},
   "source": [
    "**while** loops are more flexible than **for** loops. Let's look at the syntax of **while** loop\n",
    "\n",
    "```python\n",
    "while <conditional expression>:\n",
    "    <statement 1>\n",
    "    <statement 2>\n",
    "    <statement 3>\n",
    "```\n",
    "\n",
    "While the syntax of **while** loop looks similar to **if** statement, the difference is that, **if statement will execute only once based on the evaluation of the conditional expression**, while **while loop executes (or does not execute) until the conditional expression evaluates to False.**\n",
    "\n",
    "Let's look at an example of printing from 1 to 100 using while loop."
   ]
  },
  {
   "cell_type": "code",
   "execution_count": 15,
   "id": "770ad823-3249-4b65-9c50-e9d4b70d15d4",
   "metadata": {},
   "outputs": [
    {
     "name": "stdout",
     "output_type": "stream",
     "text": [
      "1\n",
      "2\n",
      "3\n",
      "4\n",
      "5\n",
      "6\n",
      "7\n",
      "8\n",
      "9\n",
      "10\n",
      "11\n",
      "12\n",
      "13\n",
      "14\n",
      "15\n",
      "16\n",
      "17\n",
      "18\n",
      "19\n",
      "20\n",
      "21\n",
      "22\n",
      "23\n",
      "24\n",
      "25\n",
      "26\n",
      "27\n",
      "28\n",
      "29\n",
      "30\n",
      "31\n",
      "32\n",
      "33\n",
      "34\n",
      "35\n",
      "36\n",
      "37\n",
      "38\n",
      "39\n",
      "40\n",
      "41\n",
      "42\n",
      "43\n",
      "44\n",
      "45\n",
      "46\n",
      "47\n",
      "48\n",
      "49\n",
      "50\n",
      "51\n",
      "52\n",
      "53\n",
      "54\n",
      "55\n",
      "56\n",
      "57\n",
      "58\n",
      "59\n",
      "60\n",
      "61\n",
      "62\n",
      "63\n",
      "64\n",
      "65\n",
      "66\n",
      "67\n",
      "68\n",
      "69\n",
      "70\n",
      "71\n",
      "72\n",
      "73\n",
      "74\n",
      "75\n",
      "76\n",
      "77\n",
      "78\n",
      "79\n",
      "80\n",
      "81\n",
      "82\n",
      "83\n",
      "84\n",
      "85\n",
      "86\n",
      "87\n",
      "88\n",
      "89\n",
      "90\n",
      "91\n",
      "92\n",
      "93\n",
      "94\n",
      "95\n",
      "96\n",
      "97\n",
      "98\n",
      "99\n",
      "100\n"
     ]
    }
   ],
   "source": [
    "value = 1\n",
    "while value<=100:\n",
    "    print(value)\n",
    "    value = value+1 #if you forget this bad things will happen."
   ]
  },
  {
   "cell_type": "markdown",
   "id": "d3569179-b68e-4aea-9aec-ad9d705a5852",
   "metadata": {},
   "source": [
    "As you can see during each iteration, we are increasing the value of the variable 'value' by 1. Now can you try counting from 100 to 1."
   ]
  },
  {
   "cell_type": "code",
   "execution_count": null,
   "id": "6a0a8795-e36a-459c-9d2e-ebcf17fba0bd",
   "metadata": {},
   "outputs": [],
   "source": []
  },
  {
   "cell_type": "markdown",
   "id": "0ffbc507-87fc-4a78-9157-741be9998831",
   "metadata": {},
   "source": [
    "Let's look at another example of using while loop with list."
   ]
  },
  {
   "cell_type": "code",
   "execution_count": 16,
   "id": "c5541ed8-7266-491a-b3ef-76bc10063ab5",
   "metadata": {},
   "outputs": [
    {
     "name": "stdout",
     "output_type": "stream",
     "text": [
      "36\n",
      "39\n",
      "47\n",
      "60\n",
      "71\n",
      "80\n",
      "84\n",
      "82\n",
      "76\n",
      "64\n",
      "51\n",
      "40\n"
     ]
    }
   ],
   "source": [
    "monthlyTemperature = [36,39,47,60,71,80,84,82,76,64,51,40]\n",
    "idx = 0\n",
    "while idx<len(monthlyTemperature):\n",
    "    print (monthlyTemperature[idx])\n",
    "    idx = idx+1 #don't forget this"
   ]
  },
  {
   "cell_type": "markdown",
   "id": "805e4786-86c9-4026-83ab-ce020c60dbcd",
   "metadata": {},
   "source": [
    "## Nested Loops"
   ]
  },
  {
   "cell_type": "markdown",
   "id": "5557d24f-1045-45e4-bd4b-1ed538e0b4f8",
   "metadata": {},
   "source": [
    "Similar to nested conditionals loops can also be nested. Let us see an example.\n",
    "\n",
    "This example program prints multiplication table for numbers from 1 to 10.\n",
    "For each iteration of the outer loop, the inner loop is completely executed. For example, when outer loop value is 1, the inner loop is executed from 0 to 10, and when the outer loop value is 2, the inner loop is again executed from 0 to 10, and so on and so forth."
   ]
  },
  {
   "cell_type": "code",
   "execution_count": 2,
   "id": "d2ea7375-57e3-46da-b0eb-369dd0d1a5a5",
   "metadata": {},
   "outputs": [
    {
     "name": "stdout",
     "output_type": "stream",
     "text": [
      "Multiplication table for 1\n",
      "1 x 0 = 0\n",
      "1 x 1 = 1\n",
      "1 x 2 = 2\n",
      "1 x 3 = 3\n",
      "1 x 4 = 4\n",
      "1 x 5 = 5\n",
      "1 x 6 = 6\n",
      "1 x 7 = 7\n",
      "1 x 8 = 8\n",
      "1 x 9 = 9\n",
      "1 x 10 = 10\n",
      "\n",
      "Multiplication table for 2\n",
      "2 x 0 = 0\n",
      "2 x 1 = 2\n",
      "2 x 2 = 4\n",
      "2 x 3 = 6\n",
      "2 x 4 = 8\n",
      "2 x 5 = 10\n",
      "2 x 6 = 12\n",
      "2 x 7 = 14\n",
      "2 x 8 = 16\n",
      "2 x 9 = 18\n",
      "2 x 10 = 20\n",
      "\n",
      "Multiplication table for 3\n",
      "3 x 0 = 0\n",
      "3 x 1 = 3\n",
      "3 x 2 = 6\n",
      "3 x 3 = 9\n",
      "3 x 4 = 12\n",
      "3 x 5 = 15\n",
      "3 x 6 = 18\n",
      "3 x 7 = 21\n",
      "3 x 8 = 24\n",
      "3 x 9 = 27\n",
      "3 x 10 = 30\n",
      "\n",
      "Multiplication table for 4\n",
      "4 x 0 = 0\n",
      "4 x 1 = 4\n",
      "4 x 2 = 8\n",
      "4 x 3 = 12\n",
      "4 x 4 = 16\n",
      "4 x 5 = 20\n",
      "4 x 6 = 24\n",
      "4 x 7 = 28\n",
      "4 x 8 = 32\n",
      "4 x 9 = 36\n",
      "4 x 10 = 40\n",
      "\n",
      "Multiplication table for 5\n",
      "5 x 0 = 0\n",
      "5 x 1 = 5\n",
      "5 x 2 = 10\n",
      "5 x 3 = 15\n",
      "5 x 4 = 20\n",
      "5 x 5 = 25\n",
      "5 x 6 = 30\n",
      "5 x 7 = 35\n",
      "5 x 8 = 40\n",
      "5 x 9 = 45\n",
      "5 x 10 = 50\n",
      "\n",
      "Multiplication table for 6\n",
      "6 x 0 = 0\n",
      "6 x 1 = 6\n",
      "6 x 2 = 12\n",
      "6 x 3 = 18\n",
      "6 x 4 = 24\n",
      "6 x 5 = 30\n",
      "6 x 6 = 36\n",
      "6 x 7 = 42\n",
      "6 x 8 = 48\n",
      "6 x 9 = 54\n",
      "6 x 10 = 60\n",
      "\n",
      "Multiplication table for 7\n",
      "7 x 0 = 0\n",
      "7 x 1 = 7\n",
      "7 x 2 = 14\n",
      "7 x 3 = 21\n",
      "7 x 4 = 28\n",
      "7 x 5 = 35\n",
      "7 x 6 = 42\n",
      "7 x 7 = 49\n",
      "7 x 8 = 56\n",
      "7 x 9 = 63\n",
      "7 x 10 = 70\n",
      "\n",
      "Multiplication table for 8\n",
      "8 x 0 = 0\n",
      "8 x 1 = 8\n",
      "8 x 2 = 16\n",
      "8 x 3 = 24\n",
      "8 x 4 = 32\n",
      "8 x 5 = 40\n",
      "8 x 6 = 48\n",
      "8 x 7 = 56\n",
      "8 x 8 = 64\n",
      "8 x 9 = 72\n",
      "8 x 10 = 80\n",
      "\n",
      "Multiplication table for 9\n",
      "9 x 0 = 0\n",
      "9 x 1 = 9\n",
      "9 x 2 = 18\n",
      "9 x 3 = 27\n",
      "9 x 4 = 36\n",
      "9 x 5 = 45\n",
      "9 x 6 = 54\n",
      "9 x 7 = 63\n",
      "9 x 8 = 72\n",
      "9 x 9 = 81\n",
      "9 x 10 = 90\n",
      "\n",
      "Multiplication table for 10\n",
      "10 x 0 = 0\n",
      "10 x 1 = 10\n",
      "10 x 2 = 20\n",
      "10 x 3 = 30\n",
      "10 x 4 = 40\n",
      "10 x 5 = 50\n",
      "10 x 6 = 60\n",
      "10 x 7 = 70\n",
      "10 x 8 = 80\n",
      "10 x 9 = 90\n",
      "10 x 10 = 100\n",
      "\n"
     ]
    }
   ],
   "source": [
    "for table in range (1,11):#this is the outer loop\n",
    "    print ('Multiplication table for',table)\n",
    "    for number in range (0,11):#this is the inner loop\n",
    "        product = table * number\n",
    "        print (table,'x',number,'=',product)\n",
    "    print ()#this is for printing a blank line between tables "
   ]
  },
  {
   "cell_type": "markdown",
   "id": "3b1ac7e7-5863-4e08-8584-d22decc9f58e",
   "metadata": {},
   "source": [
    "## Terminating loops before completion using break statement"
   ]
  },
  {
   "cell_type": "markdown",
   "id": "59ad2ee4-ce39-432f-86c4-5a58e5117f38",
   "metadata": {},
   "source": [
    "Loops can be terminated before completion using **break** statement. Let's look at an example. In this example, we will check whether a particular fruit is available in our fruit basket. If the fruit is found, we terminate the loop."
   ]
  },
  {
   "cell_type": "code",
   "execution_count": 18,
   "id": "c38d80b9-bf74-433e-8e49-b7f7021653f8",
   "metadata": {},
   "outputs": [
    {
     "name": "stdout",
     "output_type": "stream",
     "text": [
      "I am checking apple with grapes\n",
      "I am checking apple with peach\n",
      "I am checking apple with orange\n",
      "I am checking apple with apple\n",
      "The fruit apple is there in the fruit basket\n"
     ]
    }
   ],
   "source": [
    "fruitBasket = ['grapes','peach','orange','apple','papaya','pear','guava']\n",
    "fruitToCheck = 'apple'\n",
    "isFruitInBasket = False\n",
    "for fruit in fruitBasket:\n",
    "    print ('I am checking', fruitToCheck,'with',fruit)\n",
    "    if fruit == fruitToCheck:#if fruit is in the basket\n",
    "        isFruitInBasket=True\n",
    "        break #loop will terminate\n",
    "if isFruitInBasket:\n",
    "    print ('The fruit',fruitToCheck,'is there in the fruit basket')\n",
    "else:\n",
    "    print ('The fruit',fruitToCheck,'is missing')"
   ]
  },
  {
   "cell_type": "markdown",
   "id": "413fd76a-b8dc-4ddd-a5d6-06beb7da7029",
   "metadata": {},
   "source": [
    "## Skipping sections of loop using continue statement"
   ]
  },
  {
   "cell_type": "markdown",
   "id": "6d64443f-6361-4a07-84d6-1aa1b285a608",
   "metadata": {},
   "source": [
    "We can skip sections of loop and continue execution of loop using **continue** statement.\n",
    "\n",
    "Lets take an example to print all even numbers between 1 to 100 (using continue)"
   ]
  },
  {
   "cell_type": "code",
   "execution_count": 19,
   "id": "2916253c-4fb8-46be-8a06-c3170576410a",
   "metadata": {},
   "outputs": [
    {
     "name": "stdout",
     "output_type": "stream",
     "text": [
      "2\n",
      "4\n",
      "6\n",
      "8\n",
      "10\n",
      "12\n",
      "14\n",
      "16\n",
      "18\n",
      "20\n",
      "22\n",
      "24\n",
      "26\n",
      "28\n",
      "30\n",
      "32\n",
      "34\n",
      "36\n",
      "38\n",
      "40\n",
      "42\n",
      "44\n",
      "46\n",
      "48\n",
      "50\n",
      "52\n",
      "54\n",
      "56\n",
      "58\n",
      "60\n",
      "62\n",
      "64\n",
      "66\n",
      "68\n",
      "70\n",
      "72\n",
      "74\n",
      "76\n",
      "78\n",
      "80\n",
      "82\n",
      "84\n",
      "86\n",
      "88\n",
      "90\n",
      "92\n",
      "94\n",
      "96\n",
      "98\n",
      "100\n"
     ]
    }
   ],
   "source": [
    "for number in range(1,101):\n",
    "    #if its an odd number we dont need to print the number\n",
    "    if number%2 != 0:\n",
    "        continue #any statement after continue is not executed and loop continues\n",
    "    print (number)"
   ]
  },
  {
   "cell_type": "markdown",
   "id": "088d07de-4a1d-4b6f-8c4e-1ab625ee46a6",
   "metadata": {},
   "source": [
    "In the next chapter we will look into functions and modules which are key concepts for re-usability. "
   ]
  }
 ],
 "metadata": {
  "kernelspec": {
   "display_name": "Python 3 (ipykernel)",
   "language": "python",
   "name": "python3"
  },
  "language_info": {
   "codemirror_mode": {
    "name": "ipython",
    "version": 3
   },
   "file_extension": ".py",
   "mimetype": "text/x-python",
   "name": "python",
   "nbconvert_exporter": "python",
   "pygments_lexer": "ipython3",
   "version": "3.10.4"
  }
 },
 "nbformat": 4,
 "nbformat_minor": 5
}
