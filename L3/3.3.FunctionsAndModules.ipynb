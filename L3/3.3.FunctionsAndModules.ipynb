{
 "cells": [
  {
   "cell_type": "markdown",
   "id": "4e8e3b06-f7bd-4d02-a8e1-3b22d2a9dc15",
   "metadata": {},
   "source": [
    "# Functions and Modules"
   ]
  },
  {
   "cell_type": "markdown",
   "id": "6c85a032-a937-4a0f-b4eb-0bdc9a0946e2",
   "metadata": {},
   "source": [
    "## Functions"
   ]
  },
  {
   "cell_type": "markdown",
   "id": "8af12e63-4baf-4c87-a0c6-41f6aab16f00",
   "metadata": {},
   "source": [
    "![functions](images/bicycle_functions.jpg)"
   ]
  },
  {
   "cell_type": "markdown",
   "id": "b18c1db9-36a0-41c5-ac5d-2dd3613f08d8",
   "metadata": {},
   "source": [
    ">In Python, a **function** is a **named sequence of statements that belong together**. Their primary purpose is to help us **organize programs into chunks** that match **how we think about the problem**  (each function has a certain functionality).\n",
    "\n",
    "While you can think of the entire program as taking an input, processing/transforming it and producing a result, **function is a subprogram inside a program that does its own input --> transform --> output**."
   ]
  },
  {
   "cell_type": "markdown",
   "id": "13e8630b-d85a-496e-8669-eb39a6d25351",
   "metadata": {},
   "source": [
    "### Motivation for having a function"
   ]
  },
  {
   "cell_type": "markdown",
   "id": "5ed3eda9-d12b-4900-acee-0d116fe69dfa",
   "metadata": {},
   "source": [
    "Suppose we want to print the **volume of any sphere with a radius as input**\n",
    "\n",
    "\\begin{align}\n",
    "Volume = \\frac43 \\times \\pi \\times (radius)^3\n",
    "\\end{align}\n",
    "\n",
    "We have **three spheres of radius 10,235, and 1000 meters**, if we are **not using any functions** then we may write"
   ]
  },
  {
   "cell_type": "code",
   "execution_count": 1,
   "id": "87c58857-bb02-48a9-aa8b-f0884db02d5e",
   "metadata": {},
   "outputs": [
    {
     "name": "stdout",
     "output_type": "stream",
     "text": [
      "4186.666666666667\n",
      "54334036.666666664\n",
      "4186666666.666667\n"
     ]
    }
   ],
   "source": [
    "print (4/3 * 3.14 * 10 * 10 * 10)\n",
    "print (4/3 * 3.14 * 235 * 235 * 235)\n",
    "print (4/3 * 3.14 * 1000 * 1000 * 1000)"
   ]
  },
  {
   "cell_type": "markdown",
   "id": "3fc66a36-1733-45ef-a702-611502b64f06",
   "metadata": {},
   "source": [
    "The code snippet shown above is indeed correct, but there are a lot of **redundant code (basically copy + paste code)**. But what if we **create a function that calculates the volume of a sphere for any given radius and prints the volume**; we can **reduce redundancy**."
   ]
  },
  {
   "cell_type": "markdown",
   "id": "987496ff-f03a-4440-8fd7-dc213c52338c",
   "metadata": {},
   "source": [
    "### Defining a function"
   ]
  },
  {
   "cell_type": "markdown",
   "id": "4a14c944-dd22-4e8b-adcc-6f075f18ee2b",
   "metadata": {},
   "source": [
    "A function definition is shown below,\n",
    "\n",
    "```python\n",
    "def functionName(parameter1,parameter2,...parameterN):\n",
    "    <statement 1>\n",
    "    <statement 2>\n",
    "    <statement 3>\n",
    "```\n",
    "The **def** keyword is used to **define a function** with a name **functionName**. There can be **zero or more parameters to a function**. The **parameters in function definition are also called formal parameters**. The **statements comprise the function body**. The **colon at the end** indicates that this is a **code block** and the statements that are **with in the function block belong to the function**. Notice also the **indentation** to separate out the function body.\n",
    "\n",
    "So let's create a function that calculates the volume of a sphere of any radius."
   ]
  },
  {
   "cell_type": "code",
   "execution_count": 1,
   "id": "4c368498-eba2-49ae-af44-de40a0d3dfea",
   "metadata": {},
   "outputs": [],
   "source": [
    "def volumeSphere(radius):\n",
    "    volume = 4/3 * 3.141 * radius * radius * radius\n",
    "    print ('Volume of sphere is ',volume)"
   ]
  },
  {
   "cell_type": "markdown",
   "id": "d5a52ecd-2df1-4649-86bc-ad5dec052271",
   "metadata": {},
   "source": [
    "So we have defined a function volumeSphere which has a single parameter radius. The function calculates the volume-using radius and then prints a message. \n",
    "\n",
    "Now, how do we use the function?"
   ]
  },
  {
   "cell_type": "markdown",
   "id": "1fde329a-1faa-48ee-9818-0cc6f6274597",
   "metadata": {},
   "source": [
    "### Calling a function"
   ]
  },
  {
   "cell_type": "markdown",
   "id": "97074874-c7d3-489b-971a-0c7d32cb0c7f",
   "metadata": {},
   "source": [
    "A function can be called by \n",
    "\n",
    "**functionName(parameter1,parameter2,....parameterN).**\n",
    "\n",
    "The parameters are called **actual parameters**.\n",
    "\n",
    "Lets call the function **volumeOfSphere**"
   ]
  },
  {
   "cell_type": "code",
   "execution_count": 3,
   "id": "f559dc73-ea77-421c-8612-8b76621cb8dc",
   "metadata": {},
   "outputs": [
    {
     "name": "stdout",
     "output_type": "stream",
     "text": [
      "Volume of sphere is  4188.0\n",
      "Volume of sphere is  54351340.5\n",
      "Volume of sphere is  4188000000.0\n"
     ]
    }
   ],
   "source": [
    "volumeSphere(10)\n",
    "volumeSphere(235)\n",
    "volumeSphere(1000)"
   ]
  },
  {
   "cell_type": "markdown",
   "id": "1ba2e93f-1016-4648-a690-81c388ba62e6",
   "metadata": {},
   "source": [
    "![functiondefandcall](images/function_body.png)"
   ]
  },
  {
   "cell_type": "markdown",
   "id": "38fa8fb9-ac79-4ad5-866a-c7833f2ce0fb",
   "metadata": {},
   "source": [
    "### Functions returning a value"
   ]
  },
  {
   "cell_type": "markdown",
   "id": "9a3f8ba8-ddc9-4459-98f6-9e67daca05fc",
   "metadata": {},
   "source": [
    "Functions can **return value which could be assigned to a variable**. This is a very powerful paradigm and now you can easily use **functions in assignment statements**.\n",
    "\n",
    "Lets look at a function definition that returns a value\n",
    "\n",
    "```python\n",
    "def functionName(parameter1,parameter2,...parameterN):\n",
    "    <statement 1>\n",
    "    <statement 2>\n",
    "    <statement 3>\n",
    "    return value\n",
    "```   \n",
    "As we can see, everything remains the same except the fact that we have a **return statement**.\n",
    "\n",
    "Let's modify our previous example to **return the volume of sphere.**"
   ]
  },
  {
   "cell_type": "code",
   "execution_count": 4,
   "id": "19b13e90-edd3-48c3-8f48-3b8be14bc817",
   "metadata": {},
   "outputs": [],
   "source": [
    "def volumeSphereReturn(radius):\n",
    "    volume = 4/3 * 3.141 * radius * radius * radius\n",
    "    return volume"
   ]
  },
  {
   "cell_type": "markdown",
   "id": "df4ce981-ea27-4d96-b2be-56499f1e0aae",
   "metadata": {},
   "source": [
    "Now if you want to print the volume of sphere you could write"
   ]
  },
  {
   "cell_type": "code",
   "execution_count": 5,
   "id": "1ae40806-eaa8-4594-ae93-acaf48ff46c5",
   "metadata": {},
   "outputs": [
    {
     "name": "stdout",
     "output_type": "stream",
     "text": [
      "Volume of sphere is  4188.0\n",
      "Volume of sphere is  54351340.5\n",
      "Volume of sphere is  4188000000.0\n"
     ]
    }
   ],
   "source": [
    "print ('Volume of sphere is ',volumeSphereReturn(10))\n",
    "print ('Volume of sphere is ',volumeSphereReturn(235))\n",
    "print ('Volume of sphere is ',volumeSphereReturn(1000))"
   ]
  },
  {
   "cell_type": "markdown",
   "id": "a3577ac7-b452-4c29-96a2-8777b64a8e9f",
   "metadata": {},
   "source": [
    "But we can do more interesting stuff with functions that return values. For example, we can calculate the volume of the three spheres and then assign it to a variable"
   ]
  },
  {
   "cell_type": "code",
   "execution_count": 6,
   "id": "d4a795ec-48dd-489f-9a25-a56789831c28",
   "metadata": {},
   "outputs": [
    {
     "name": "stdout",
     "output_type": "stream",
     "text": [
      "4242355528.5\n"
     ]
    }
   ],
   "source": [
    "totalVolume = volumeSphereReturn(10)+volumeSphereReturn(235)+volumeSphereReturn(1000)\n",
    "print (totalVolume)"
   ]
  },
  {
   "cell_type": "markdown",
   "id": "c18d31ae-3033-437e-a143-ff6826a05b8b",
   "metadata": {},
   "source": [
    "### Calling function from another function"
   ]
  },
  {
   "cell_type": "markdown",
   "id": "980ac9a9-723e-4141-9efa-a60de1f7e48d",
   "metadata": {},
   "source": [
    "Let's see a simple example"
   ]
  },
  {
   "cell_type": "code",
   "execution_count": 7,
   "id": "b2ad626a-01ab-403a-8b25-9371b3c55363",
   "metadata": {},
   "outputs": [
    {
     "name": "stdout",
     "output_type": "stream",
     "text": [
      "100\n"
     ]
    }
   ],
   "source": [
    "def areaOfRectangle(length,breadth):\n",
    "    return length * breadth\n",
    "\n",
    "def areaOfCircle(side):\n",
    "    return areaOfRectangle(side,side)\n",
    "\n",
    "print(areaOfCircle(10))"
   ]
  },
  {
   "cell_type": "markdown",
   "id": "a56d1bbc-10ce-4ae7-bf81-03d1c1980090",
   "metadata": {},
   "source": [
    "### Function Parameters in Detail"
   ]
  },
  {
   "cell_type": "markdown",
   "id": "0f9d2fa4-7fc4-4816-9e8e-007460bb684c",
   "metadata": {},
   "source": [
    "#### 1. Functions without any parameters"
   ]
  },
  {
   "cell_type": "code",
   "execution_count": 8,
   "id": "6330f6bd-de05-4bf8-b63f-0d46b9e82fe7",
   "metadata": {},
   "outputs": [
    {
     "name": "stdout",
     "output_type": "stream",
     "text": [
      "hello\n"
     ]
    }
   ],
   "source": [
    "def sayHello(): #no parameter\n",
    "    print('hello')\n",
    "sayHello()"
   ]
  },
  {
   "cell_type": "markdown",
   "id": "4b55d82f-5858-415e-8558-b1b05b76702d",
   "metadata": {},
   "source": [
    "#### 2. Functions with default parameters"
   ]
  },
  {
   "cell_type": "code",
   "execution_count": 9,
   "id": "d813abd3-c8e9-4360-965b-79f59321d170",
   "metadata": {},
   "outputs": [],
   "source": [
    "def sayMessage(message='Hello'): #the parameter message will have a default value of 'hello'\n",
    "    print(message)"
   ]
  },
  {
   "cell_type": "markdown",
   "id": "893a468c-ac29-41f1-9d75-b9ddce55339d",
   "metadata": {},
   "source": [
    "Now you can call this function in three ways"
   ]
  },
  {
   "cell_type": "code",
   "execution_count": 10,
   "id": "f8745b76-ad87-495a-b3a8-b5daf8faa69b",
   "metadata": {},
   "outputs": [
    {
     "name": "stdout",
     "output_type": "stream",
     "text": [
      "Hello\n"
     ]
    }
   ],
   "source": [
    "sayMessage()"
   ]
  },
  {
   "cell_type": "code",
   "execution_count": 11,
   "id": "9f19f5d4-41e9-4e8d-bc34-14e9af7aa51e",
   "metadata": {},
   "outputs": [
    {
     "name": "stdout",
     "output_type": "stream",
     "text": [
      "Test\n"
     ]
    }
   ],
   "source": [
    "sayMessage('Test')"
   ]
  },
  {
   "cell_type": "code",
   "execution_count": 12,
   "id": "98f4f64c-4ad3-4caf-9303-129ba5f6447a",
   "metadata": {},
   "outputs": [
    {
     "name": "stdout",
     "output_type": "stream",
     "text": [
      "Hello there\n"
     ]
    }
   ],
   "source": [
    "sayMessage(message='Hello there')"
   ]
  },
  {
   "cell_type": "markdown",
   "id": "dbc218d7-f68b-4a61-b48e-f7d538c761e3",
   "metadata": {},
   "source": [
    "#### 3. Functions with normal and default parameters together"
   ]
  },
  {
   "cell_type": "markdown",
   "id": "4ec90986-e24b-477b-854e-5f3200f7bc5a",
   "metadata": {},
   "source": [
    "The cardinal rule is that **default parameters should** be **after** all **normal parameters**\n",
    "\n",
    "This is syntactically correct\n",
    "```python\n",
    "def test(param1,param2='temp'):\n",
    "    pass\n",
    "```\n",
    "While this is syntactically wrong\n",
    "```python\n",
    "def test(param2='temp',param1):\n",
    "    pass\n",
    "```"
   ]
  },
  {
   "cell_type": "code",
   "execution_count": 13,
   "id": "c585c252-6b5a-4002-b904-1eb0f45af478",
   "metadata": {},
   "outputs": [
    {
     "name": "stdout",
     "output_type": "stream",
     "text": [
      "3\n",
      "1\n"
     ]
    }
   ],
   "source": [
    "def sumNumbers(number1,number2=0):\n",
    "    return number1+number2\n",
    "\n",
    "print (sumNumbers(1,2))      \n",
    "print (sumNumbers(1))"
   ]
  },
  {
   "cell_type": "code",
   "execution_count": 14,
   "id": "3cce9c23-28f8-4d41-abf3-9b1998c7d018",
   "metadata": {},
   "outputs": [
    {
     "ename": "SyntaxError",
     "evalue": "non-default argument follows default argument (1510633913.py, line 1)",
     "output_type": "error",
     "traceback": [
      "\u001b[1;36m  Input \u001b[1;32mIn [14]\u001b[1;36m\u001b[0m\n\u001b[1;33m    def sumNumbers(number2=0,number1): #this is wrong as the normal parameter should be before the default parameter\u001b[0m\n\u001b[1;37m                             ^\u001b[0m\n\u001b[1;31mSyntaxError\u001b[0m\u001b[1;31m:\u001b[0m non-default argument follows default argument\n"
     ]
    }
   ],
   "source": [
    "def sumNumbers(number2=0,number1): #this is wrong as the normal parameter should be before the default parameter\n",
    "    return number1+number2"
   ]
  },
  {
   "cell_type": "markdown",
   "id": "689bb68a-766c-4f43-a315-2cfaad3ca9e5",
   "metadata": {},
   "source": [
    "Can you write a function that accepts temperature in fahrenheit and returns the temperature in celsius (subtract 32 and multiply by 5/9)."
   ]
  },
  {
   "cell_type": "code",
   "execution_count": null,
   "id": "1e96b50b-7dbe-41e7-8a09-d403bf8c2ca9",
   "metadata": {},
   "outputs": [],
   "source": []
  },
  {
   "cell_type": "markdown",
   "id": "479e90fa-e7c5-4ee4-b304-6fa59c1142ec",
   "metadata": {},
   "source": [
    "You can read more about functions in https://mybinder.org/v2/gh/JayakrishnanAjayakumar/Python_Programming_2022.git/HEAD"
   ]
  },
  {
   "cell_type": "markdown",
   "id": "d4ed1a76-7c94-4160-89c0-e9ae6ae8a9bd",
   "metadata": {},
   "source": [
    "## Module"
   ]
  },
  {
   "cell_type": "markdown",
   "id": "5553eeea-1276-4f5f-aa5c-36586290ef42",
   "metadata": {},
   "source": [
    ">A **module** is an **existing Python program that contains predefined values and functions** that you can use.\n",
    "\n",
    "You can think of it as a **box containing many functions**. \n",
    "\n",
    "And we can use many boxes in our program by using the **import** statement"
   ]
  },
  {
   "cell_type": "markdown",
   "id": "1afff56c-38dd-4c69-887c-d98d95039298",
   "metadata": {},
   "source": [
    "## import statement"
   ]
  },
  {
   "cell_type": "markdown",
   "id": "e86491a7-3bb0-491b-b943-3ceea1571d5f",
   "metadata": {},
   "source": [
    "We have already used math library, which provides us with a large number of useful mathematical functions.\n",
    "We can also import specific functions from a library. For example let us import the sqrt() function from math library"
   ]
  },
  {
   "cell_type": "code",
   "execution_count": 2,
   "id": "e370f076-e24b-4f84-9ce9-95b579c5601c",
   "metadata": {},
   "outputs": [
    {
     "name": "stdout",
     "output_type": "stream",
     "text": [
      "2.0\n"
     ]
    }
   ],
   "source": [
    "from math import sqrt\n",
    "print (sqrt(4))"
   ]
  },
  {
   "cell_type": "markdown",
   "id": "71e2d70a-bb9e-4e1d-b782-7a30fd31f1e6",
   "metadata": {},
   "source": [
    "### Using aliases for a library"
   ]
  },
  {
   "cell_type": "markdown",
   "id": "69ca3616-00c7-4a50-ac8b-916e3447b850",
   "metadata": {},
   "source": [
    "You can use alias name for a module for convenience. For example the module pandas (which we are going to use a lot in this course) is commonly imported with an alias name 'pd'. Let's see that example"
   ]
  },
  {
   "cell_type": "code",
   "execution_count": 3,
   "id": "50893099-6e4f-427b-b9e2-7f4f1734b3f9",
   "metadata": {},
   "outputs": [],
   "source": [
    "import pandas as pd"
   ]
  },
  {
   "cell_type": "markdown",
   "id": "1b09ec99-601c-4d85-aa5f-45d247cf8759",
   "metadata": {},
   "source": [
    "After importing pandas with an alias name pd, you can use pd to call other functions and variables available with the pandas library. "
   ]
  },
  {
   "cell_type": "code",
   "execution_count": 4,
   "id": "02b38fc2-059e-404b-9176-4556edea4401",
   "metadata": {},
   "outputs": [
    {
     "name": "stdout",
     "output_type": "stream",
     "text": [
      "   id\n",
      "0   1\n",
      "1   2\n",
      "2   3\n"
     ]
    }
   ],
   "source": [
    "print (pd.DataFrame([1,2,3],columns=['id']))"
   ]
  },
  {
   "cell_type": "markdown",
   "id": "f5ce1889-a5b4-4ea2-b3e0-4c321077332c",
   "metadata": {},
   "source": [
    "### Creating your own modules"
   ]
  },
  {
   "cell_type": "markdown",
   "id": "10a0fa57-2382-4f21-8356-206b21e3fffb",
   "metadata": {},
   "source": [
    "A module is just a python file (.py) with code. In this small exercise, we will create our own module called tempconverter, which will have two functions fahrenheitToCelsius and celsiusToFahrenheit for converting between Celsius and Fahrenheit."
   ]
  },
  {
   "cell_type": "markdown",
   "id": "cf1b2931-2bbc-472e-966e-786891db0a85",
   "metadata": {},
   "source": [
    "First, let us create a python file and name it as tempconverter.py\n",
    "\n",
    "Then you can import the module and directly use the functions (you might need to restart the kernel here)"
   ]
  },
  {
   "cell_type": "code",
   "execution_count": 18,
   "id": "b97f5f96-74e7-49d2-a3ab-e156438346a9",
   "metadata": {},
   "outputs": [],
   "source": [
    "import tempconverter as tc"
   ]
  },
  {
   "cell_type": "code",
   "execution_count": 19,
   "id": "659400b7-c775-47eb-9635-236ac2ce4a09",
   "metadata": {},
   "outputs": [
    {
     "data": {
      "text/plain": [
       "104.0"
      ]
     },
     "execution_count": 19,
     "metadata": {},
     "output_type": "execute_result"
    }
   ],
   "source": [
    "tc.celsiusToFahrenheit(40)"
   ]
  },
  {
   "cell_type": "code",
   "execution_count": 20,
   "id": "9c069665-0dcd-455f-816b-13e77289a226",
   "metadata": {},
   "outputs": [
    {
     "data": {
      "text/plain": [
       "0.0"
      ]
     },
     "execution_count": 20,
     "metadata": {},
     "output_type": "execute_result"
    }
   ],
   "source": [
    "tc.fahrenheitToCelsius(32)"
   ]
  },
  {
   "cell_type": "markdown",
   "id": "4ef06b32-6e50-4adf-bee9-da97b75047b2",
   "metadata": {},
   "source": [
    "In the next section we will look into file reading/writing in Python"
   ]
  }
 ],
 "metadata": {
  "kernelspec": {
   "display_name": "Python 3 (ipykernel)",
   "language": "python",
   "name": "python3"
  },
  "language_info": {
   "codemirror_mode": {
    "name": "ipython",
    "version": 3
   },
   "file_extension": ".py",
   "mimetype": "text/x-python",
   "name": "python",
   "nbconvert_exporter": "python",
   "pygments_lexer": "ipython3",
   "version": "3.10.4"
  }
 },
 "nbformat": 4,
 "nbformat_minor": 5
}
