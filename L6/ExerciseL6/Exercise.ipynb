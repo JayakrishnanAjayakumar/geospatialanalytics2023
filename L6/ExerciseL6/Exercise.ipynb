{
 "cells": [
  {
   "cell_type": "markdown",
   "id": "618bfef4",
   "metadata": {},
   "source": [
    "# Exercise V (submit by 02/12/2023 11:59pm EST)  \n",
    "​\n",
    "#### You can click on Run -> Run All Cells to enable all the question prompts at the same time (or you could run each cells one by one)\n",
    "​\n",
    "#### Each question has a scratch pad (a blank coding cell) where you can scribble your code.  \n",
    "​\n",
    "#### Assigned mark for each question is provided near to the question in parenthesis.\n",
    "​\n",
    "#### You can save partial responses by clicking the “Save” button after each question. \n",
    "​\n",
    "#### For coding questions, make sure you follow the exact guidelines. You have make sure that your code runs without any errors.\n",
    "​\n",
    "#### Up on completion; fill your case network id and the password that you have created during the first session. \n",
    "​\n",
    "#### Click Submit to upload the test.       "
   ]
  },
  {
   "cell_type": "code",
   "execution_count": 1,
   "id": "17467c0b",
   "metadata": {},
   "outputs": [],
   "source": [
    "import sys\n",
    "sys.path.append('../../')\n",
    "from helper.questionhelper import *\n",
    "qset = QuestionSet()        "
   ]
  },
  {
   "cell_type": "code",
   "execution_count": 2,
   "id": "1706ee81",
   "metadata": {},
   "outputs": [
    {
     "data": {
      "application/vnd.jupyter.widget-view+json": {
       "model_id": "32ad442de4ba4b97865b319f4d0e1cd5",
       "version_major": 2,
       "version_minor": 0
      },
      "text/plain": [
       "VBox(children=(VBox(children=(HTML(value='<p>Read all the files from csse_covid_19_daily_reports_us folder in …"
      ]
     },
     "metadata": {},
     "output_type": "display_data"
    }
   ],
   "source": [
    "qset.getQuestion(1)"
   ]
  },
  {
   "cell_type": "code",
   "execution_count": 3,
   "id": "ea6107a4",
   "metadata": {},
   "outputs": [],
   "source": [
    "#Scratch Pad"
   ]
  },
  {
   "cell_type": "code",
   "execution_count": 4,
   "id": "c8e20fd6",
   "metadata": {},
   "outputs": [
    {
     "data": {
      "application/vnd.jupyter.widget-view+json": {
       "model_id": "0456c14e7b7b496189dba0db79a09b5d",
       "version_major": 2,
       "version_minor": 0
      },
      "text/plain": [
       "VBox(children=(VBox(children=(HTML(value=\"<p>Read the file oh_hospital_utilization utilization from the folder…"
      ]
     },
     "metadata": {},
     "output_type": "display_data"
    }
   ],
   "source": [
    "qset.getQuestion(2)"
   ]
  },
  {
   "cell_type": "code",
   "execution_count": 5,
   "id": "969d4cb3",
   "metadata": {},
   "outputs": [],
   "source": [
    "#Scratch Pad"
   ]
  },
  {
   "cell_type": "code",
   "execution_count": 6,
   "id": "640a734d",
   "metadata": {},
   "outputs": [
    {
     "data": {
      "application/vnd.jupyter.widget-view+json": {
       "model_id": "cd8794e582c84ef1a106e17c93844558",
       "version_major": 2,
       "version_minor": 0
      },
      "text/plain": [
       "VBox(children=(HBox(children=(Button(button_style='info', description='Save', style=ButtonStyle()), Button(but…"
      ]
     },
     "metadata": {},
     "output_type": "display_data"
    }
   ],
   "source": [
    "qset.showSubmitSection()"
   ]
  }
 ],
 "metadata": {
  "kernelspec": {
   "display_name": "Python 3 (ipykernel)",
   "language": "python",
   "name": "python3"
  },
  "language_info": {
   "codemirror_mode": {
    "name": "ipython",
    "version": 3
   },
   "file_extension": ".py",
   "mimetype": "text/x-python",
   "name": "python",
   "nbconvert_exporter": "python",
   "pygments_lexer": "ipython3",
   "version": "3.10.4"
  }
 },
 "nbformat": 4,
 "nbformat_minor": 5
}
